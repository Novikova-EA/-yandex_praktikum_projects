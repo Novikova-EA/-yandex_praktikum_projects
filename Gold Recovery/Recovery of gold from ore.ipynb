{
 "cells": [
  {
   "cell_type": "markdown",
   "metadata": {},
   "source": [
    "# Исследование технологического процесса очистки золота"
   ]
  },
  {
   "cell_type": "markdown",
   "metadata": {},
   "source": [
    "**Описание проекта:**\n",
    "\n",
    "Строится модель машинного обучения для промышленной компании, разрабатывающая решения для эффективной работы промышленных предприятий. Модель должна предсказать коэффициент восстановления золота из золотосодержащей руды на основе данных с параметрами добычи и очистки. Модель поможет оптимизировать производство, чтобы не запускать предприятие с убыточными характеристиками.\n",
    "\n",
    "**Цель:** оптимизация производства на основе выявления предприятий с убыточными характеристиками.\n",
    "\n",
    "\n",
    "**Задача проекта:** спрогнозировать концентрацию золота при проведении процесса очистки золота.\n",
    "\n",
    "Данные состоят из трех файлов:\n",
    "\n",
    "* `gold_recovery_train_new.csv` - обучающая выборка;\n",
    "* `gold_recovery_test_new.csv` - тестовая выборка;\n",
    "* `gold_recovery_full_new.csv` - исходные данные.\n",
    "\n",
    "**Исследование пройдёт в пять этапов:**\n",
    "\n",
    "1. Подготовка данных.\n",
    "2. Анализ данных.\n",
    "3. Построение модели.\n",
    "4. Тестирование лучшей модели.\n",
    "5. Отчет."
   ]
  },
  {
   "cell_type": "markdown",
   "metadata": {},
   "source": [
    "## Подготовка данных"
   ]
  },
  {
   "cell_type": "markdown",
   "metadata": {},
   "source": [
    "### Изучение данных из файлов"
   ]
  },
  {
   "cell_type": "code",
   "execution_count": 43,
   "metadata": {
    "scrolled": true
   },
   "outputs": [],
   "source": [
    "import pandas as pd\n",
    "import matplotlib.pyplot as plt\n",
    "import numpy as np\n",
    "import seaborn as sns\n",
    "\n",
    "from sklearn.metrics import mean_absolute_error, make_scorer\n",
    "from sklearn.model_selection import cross_val_score\n",
    "from sklearn.linear_model import LinearRegression\n",
    "from sklearn.preprocessing import StandardScaler\n",
    "from sklearn.model_selection import cross_val_score, KFold\n",
    "from sklearn.model_selection import GridSearchCV\n",
    "from sklearn.ensemble import RandomForestRegressor\n",
    "from sklearn.tree import DecisionTreeRegressor\n",
    "from sklearn.dummy import DummyRegressor\n"
   ]
  },
  {
   "cell_type": "code",
   "execution_count": 44,
   "metadata": {
    "scrolled": true
   },
   "outputs": [],
   "source": [
    "gold_train = pd.read_csv('/datasets/gold_recovery_train_new.csv', \n",
    "                         index_col='date', parse_dates = ['date'])\n",
    "gold_test = pd.read_csv('/datasets/gold_recovery_test_new.csv', \n",
    "                        index_col='date', parse_dates = ['date'])\n",
    "gold_full = pd.read_csv('/datasets/gold_recovery_full_new.csv', \n",
    "                        index_col='date', parse_dates = ['date'])"
   ]
  },
  {
   "cell_type": "code",
   "execution_count": 45,
   "metadata": {
    "scrolled": false
   },
   "outputs": [
    {
     "name": "stdout",
     "output_type": "stream",
     "text": [
      "Файл gold_train \n",
      "\n",
      "Сводная информация о таблице: \n",
      "\n",
      "<class 'pandas.core.frame.DataFrame'>\n",
      "DatetimeIndex: 14149 entries, 2016-01-15 00:00:00 to 2018-08-18 10:59:59\n",
      "Data columns (total 86 columns):\n",
      " #   Column                                              Non-Null Count  Dtype  \n",
      "---  ------                                              --------------  -----  \n",
      " 0   final.output.concentrate_ag                         14148 non-null  float64\n",
      " 1   final.output.concentrate_pb                         14148 non-null  float64\n",
      " 2   final.output.concentrate_sol                        13938 non-null  float64\n",
      " 3   final.output.concentrate_au                         14149 non-null  float64\n",
      " 4   final.output.recovery                               14149 non-null  float64\n",
      " 5   final.output.tail_ag                                14149 non-null  float64\n",
      " 6   final.output.tail_pb                                14049 non-null  float64\n",
      " 7   final.output.tail_sol                               14144 non-null  float64\n",
      " 8   final.output.tail_au                                14149 non-null  float64\n",
      " 9   primary_cleaner.input.sulfate                       14129 non-null  float64\n",
      " 10  primary_cleaner.input.depressant                    14117 non-null  float64\n",
      " 11  primary_cleaner.input.feed_size                     14149 non-null  float64\n",
      " 12  primary_cleaner.input.xanthate                      14049 non-null  float64\n",
      " 13  primary_cleaner.output.concentrate_ag               14149 non-null  float64\n",
      " 14  primary_cleaner.output.concentrate_pb               14063 non-null  float64\n",
      " 15  primary_cleaner.output.concentrate_sol              13863 non-null  float64\n",
      " 16  primary_cleaner.output.concentrate_au               14149 non-null  float64\n",
      " 17  primary_cleaner.output.tail_ag                      14148 non-null  float64\n",
      " 18  primary_cleaner.output.tail_pb                      14134 non-null  float64\n",
      " 19  primary_cleaner.output.tail_sol                     14103 non-null  float64\n",
      " 20  primary_cleaner.output.tail_au                      14149 non-null  float64\n",
      " 21  primary_cleaner.state.floatbank8_a_air              14145 non-null  float64\n",
      " 22  primary_cleaner.state.floatbank8_a_level            14148 non-null  float64\n",
      " 23  primary_cleaner.state.floatbank8_b_air              14145 non-null  float64\n",
      " 24  primary_cleaner.state.floatbank8_b_level            14148 non-null  float64\n",
      " 25  primary_cleaner.state.floatbank8_c_air              14147 non-null  float64\n",
      " 26  primary_cleaner.state.floatbank8_c_level            14148 non-null  float64\n",
      " 27  primary_cleaner.state.floatbank8_d_air              14146 non-null  float64\n",
      " 28  primary_cleaner.state.floatbank8_d_level            14148 non-null  float64\n",
      " 29  rougher.calculation.sulfate_to_au_concentrate       14148 non-null  float64\n",
      " 30  rougher.calculation.floatbank10_sulfate_to_au_feed  14148 non-null  float64\n",
      " 31  rougher.calculation.floatbank11_sulfate_to_au_feed  14148 non-null  float64\n",
      " 32  rougher.calculation.au_pb_ratio                     14149 non-null  float64\n",
      " 33  rougher.input.feed_ag                               14149 non-null  float64\n",
      " 34  rougher.input.feed_pb                               14049 non-null  float64\n",
      " 35  rougher.input.feed_rate                             14141 non-null  float64\n",
      " 36  rougher.input.feed_size                             14005 non-null  float64\n",
      " 37  rougher.input.feed_sol                              14071 non-null  float64\n",
      " 38  rougher.input.feed_au                               14149 non-null  float64\n",
      " 39  rougher.input.floatbank10_sulfate                   14120 non-null  float64\n",
      " 40  rougher.input.floatbank10_xanthate                  14141 non-null  float64\n",
      " 41  rougher.input.floatbank11_sulfate                   14113 non-null  float64\n",
      " 42  rougher.input.floatbank11_xanthate                  13721 non-null  float64\n",
      " 43  rougher.output.concentrate_ag                       14149 non-null  float64\n",
      " 44  rougher.output.concentrate_pb                       14149 non-null  float64\n",
      " 45  rougher.output.concentrate_sol                      14127 non-null  float64\n",
      " 46  rougher.output.concentrate_au                       14149 non-null  float64\n",
      " 47  rougher.output.recovery                             14149 non-null  float64\n",
      " 48  rougher.output.tail_ag                              14148 non-null  float64\n",
      " 49  rougher.output.tail_pb                              14149 non-null  float64\n",
      " 50  rougher.output.tail_sol                             14149 non-null  float64\n",
      " 51  rougher.output.tail_au                              14149 non-null  float64\n",
      " 52  rougher.state.floatbank10_a_air                     14148 non-null  float64\n",
      " 53  rougher.state.floatbank10_a_level                   14148 non-null  float64\n",
      " 54  rougher.state.floatbank10_b_air                     14148 non-null  float64\n",
      " 55  rougher.state.floatbank10_b_level                   14148 non-null  float64\n",
      " 56  rougher.state.floatbank10_c_air                     14148 non-null  float64\n",
      " 57  rougher.state.floatbank10_c_level                   14148 non-null  float64\n",
      " 58  rougher.state.floatbank10_d_air                     14149 non-null  float64\n",
      " 59  rougher.state.floatbank10_d_level                   14149 non-null  float64\n",
      " 60  rougher.state.floatbank10_e_air                     13713 non-null  float64\n",
      " 61  rougher.state.floatbank10_e_level                   14149 non-null  float64\n",
      " 62  rougher.state.floatbank10_f_air                     14149 non-null  float64\n",
      " 63  rougher.state.floatbank10_f_level                   14149 non-null  float64\n",
      " 64  secondary_cleaner.output.tail_ag                    14147 non-null  float64\n",
      " 65  secondary_cleaner.output.tail_pb                    14139 non-null  float64\n",
      " 66  secondary_cleaner.output.tail_sol                   12544 non-null  float64\n",
      " 67  secondary_cleaner.output.tail_au                    14149 non-null  float64\n",
      " 68  secondary_cleaner.state.floatbank2_a_air            13932 non-null  float64\n",
      " 69  secondary_cleaner.state.floatbank2_a_level          14148 non-null  float64\n",
      " 70  secondary_cleaner.state.floatbank2_b_air            14128 non-null  float64\n",
      " 71  secondary_cleaner.state.floatbank2_b_level          14148 non-null  float64\n",
      " 72  secondary_cleaner.state.floatbank3_a_air            14145 non-null  float64\n",
      " 73  secondary_cleaner.state.floatbank3_a_level          14148 non-null  float64\n",
      " 74  secondary_cleaner.state.floatbank3_b_air            14148 non-null  float64\n",
      " 75  secondary_cleaner.state.floatbank3_b_level          14148 non-null  float64\n",
      " 76  secondary_cleaner.state.floatbank4_a_air            14143 non-null  float64\n",
      " 77  secondary_cleaner.state.floatbank4_a_level          14148 non-null  float64\n",
      " 78  secondary_cleaner.state.floatbank4_b_air            14148 non-null  float64\n",
      " 79  secondary_cleaner.state.floatbank4_b_level          14148 non-null  float64\n",
      " 80  secondary_cleaner.state.floatbank5_a_air            14148 non-null  float64\n",
      " 81  secondary_cleaner.state.floatbank5_a_level          14148 non-null  float64\n",
      " 82  secondary_cleaner.state.floatbank5_b_air            14148 non-null  float64\n",
      " 83  secondary_cleaner.state.floatbank5_b_level          14148 non-null  float64\n",
      " 84  secondary_cleaner.state.floatbank6_a_air            14147 non-null  float64\n",
      " 85  secondary_cleaner.state.floatbank6_a_level          14148 non-null  float64\n",
      "dtypes: float64(86)\n",
      "memory usage: 9.4 MB\n",
      "None\n",
      "\n",
      " Первые пять строк таблицы: \n",
      "\n"
     ]
    },
    {
     "data": {
      "text/html": [
       "<div>\n",
       "<style scoped>\n",
       "    .dataframe tbody tr th:only-of-type {\n",
       "        vertical-align: middle;\n",
       "    }\n",
       "\n",
       "    .dataframe tbody tr th {\n",
       "        vertical-align: top;\n",
       "    }\n",
       "\n",
       "    .dataframe thead th {\n",
       "        text-align: right;\n",
       "    }\n",
       "</style>\n",
       "<table border=\"1\" class=\"dataframe\">\n",
       "  <thead>\n",
       "    <tr style=\"text-align: right;\">\n",
       "      <th></th>\n",
       "      <th>final.output.concentrate_ag</th>\n",
       "      <th>final.output.concentrate_pb</th>\n",
       "      <th>final.output.concentrate_sol</th>\n",
       "      <th>final.output.concentrate_au</th>\n",
       "      <th>final.output.recovery</th>\n",
       "      <th>final.output.tail_ag</th>\n",
       "      <th>final.output.tail_pb</th>\n",
       "      <th>final.output.tail_sol</th>\n",
       "      <th>final.output.tail_au</th>\n",
       "      <th>primary_cleaner.input.sulfate</th>\n",
       "      <th>...</th>\n",
       "      <th>secondary_cleaner.state.floatbank4_a_air</th>\n",
       "      <th>secondary_cleaner.state.floatbank4_a_level</th>\n",
       "      <th>secondary_cleaner.state.floatbank4_b_air</th>\n",
       "      <th>secondary_cleaner.state.floatbank4_b_level</th>\n",
       "      <th>secondary_cleaner.state.floatbank5_a_air</th>\n",
       "      <th>secondary_cleaner.state.floatbank5_a_level</th>\n",
       "      <th>secondary_cleaner.state.floatbank5_b_air</th>\n",
       "      <th>secondary_cleaner.state.floatbank5_b_level</th>\n",
       "      <th>secondary_cleaner.state.floatbank6_a_air</th>\n",
       "      <th>secondary_cleaner.state.floatbank6_a_level</th>\n",
       "    </tr>\n",
       "    <tr>\n",
       "      <th>date</th>\n",
       "      <th></th>\n",
       "      <th></th>\n",
       "      <th></th>\n",
       "      <th></th>\n",
       "      <th></th>\n",
       "      <th></th>\n",
       "      <th></th>\n",
       "      <th></th>\n",
       "      <th></th>\n",
       "      <th></th>\n",
       "      <th></th>\n",
       "      <th></th>\n",
       "      <th></th>\n",
       "      <th></th>\n",
       "      <th></th>\n",
       "      <th></th>\n",
       "      <th></th>\n",
       "      <th></th>\n",
       "      <th></th>\n",
       "      <th></th>\n",
       "      <th></th>\n",
       "    </tr>\n",
       "  </thead>\n",
       "  <tbody>\n",
       "    <tr>\n",
       "      <th>2016-01-15 00:00:00</th>\n",
       "      <td>6.055403</td>\n",
       "      <td>9.889648</td>\n",
       "      <td>5.507324</td>\n",
       "      <td>42.192020</td>\n",
       "      <td>70.541216</td>\n",
       "      <td>10.411962</td>\n",
       "      <td>0.895447</td>\n",
       "      <td>16.904297</td>\n",
       "      <td>2.143149</td>\n",
       "      <td>127.092003</td>\n",
       "      <td>...</td>\n",
       "      <td>14.016835</td>\n",
       "      <td>-502.488007</td>\n",
       "      <td>12.099931</td>\n",
       "      <td>-504.715942</td>\n",
       "      <td>9.925633</td>\n",
       "      <td>-498.310211</td>\n",
       "      <td>8.079666</td>\n",
       "      <td>-500.470978</td>\n",
       "      <td>14.151341</td>\n",
       "      <td>-605.841980</td>\n",
       "    </tr>\n",
       "    <tr>\n",
       "      <th>2016-01-15 01:00:00</th>\n",
       "      <td>6.029369</td>\n",
       "      <td>9.968944</td>\n",
       "      <td>5.257781</td>\n",
       "      <td>42.701629</td>\n",
       "      <td>69.266198</td>\n",
       "      <td>10.462676</td>\n",
       "      <td>0.927452</td>\n",
       "      <td>16.634514</td>\n",
       "      <td>2.224930</td>\n",
       "      <td>125.629232</td>\n",
       "      <td>...</td>\n",
       "      <td>13.992281</td>\n",
       "      <td>-505.503262</td>\n",
       "      <td>11.950531</td>\n",
       "      <td>-501.331529</td>\n",
       "      <td>10.039245</td>\n",
       "      <td>-500.169983</td>\n",
       "      <td>7.984757</td>\n",
       "      <td>-500.582168</td>\n",
       "      <td>13.998353</td>\n",
       "      <td>-599.787184</td>\n",
       "    </tr>\n",
       "    <tr>\n",
       "      <th>2016-01-15 02:00:00</th>\n",
       "      <td>6.055926</td>\n",
       "      <td>10.213995</td>\n",
       "      <td>5.383759</td>\n",
       "      <td>42.657501</td>\n",
       "      <td>68.116445</td>\n",
       "      <td>10.507046</td>\n",
       "      <td>0.953716</td>\n",
       "      <td>16.208849</td>\n",
       "      <td>2.257889</td>\n",
       "      <td>123.819808</td>\n",
       "      <td>...</td>\n",
       "      <td>14.015015</td>\n",
       "      <td>-502.520901</td>\n",
       "      <td>11.912783</td>\n",
       "      <td>-501.133383</td>\n",
       "      <td>10.070913</td>\n",
       "      <td>-500.129135</td>\n",
       "      <td>8.013877</td>\n",
       "      <td>-500.517572</td>\n",
       "      <td>14.028663</td>\n",
       "      <td>-601.427363</td>\n",
       "    </tr>\n",
       "    <tr>\n",
       "      <th>2016-01-15 03:00:00</th>\n",
       "      <td>6.047977</td>\n",
       "      <td>9.977019</td>\n",
       "      <td>4.858634</td>\n",
       "      <td>42.689819</td>\n",
       "      <td>68.347543</td>\n",
       "      <td>10.422762</td>\n",
       "      <td>0.883763</td>\n",
       "      <td>16.532835</td>\n",
       "      <td>2.146849</td>\n",
       "      <td>122.270188</td>\n",
       "      <td>...</td>\n",
       "      <td>14.036510</td>\n",
       "      <td>-500.857308</td>\n",
       "      <td>11.999550</td>\n",
       "      <td>-501.193686</td>\n",
       "      <td>9.970366</td>\n",
       "      <td>-499.201640</td>\n",
       "      <td>7.977324</td>\n",
       "      <td>-500.255908</td>\n",
       "      <td>14.005551</td>\n",
       "      <td>-599.996129</td>\n",
       "    </tr>\n",
       "    <tr>\n",
       "      <th>2016-01-15 04:00:00</th>\n",
       "      <td>6.148599</td>\n",
       "      <td>10.142511</td>\n",
       "      <td>4.939416</td>\n",
       "      <td>42.774141</td>\n",
       "      <td>66.927016</td>\n",
       "      <td>10.360302</td>\n",
       "      <td>0.792826</td>\n",
       "      <td>16.525686</td>\n",
       "      <td>2.055292</td>\n",
       "      <td>117.988169</td>\n",
       "      <td>...</td>\n",
       "      <td>14.027298</td>\n",
       "      <td>-499.838632</td>\n",
       "      <td>11.953070</td>\n",
       "      <td>-501.053894</td>\n",
       "      <td>9.925709</td>\n",
       "      <td>-501.686727</td>\n",
       "      <td>7.894242</td>\n",
       "      <td>-500.356035</td>\n",
       "      <td>13.996647</td>\n",
       "      <td>-601.496691</td>\n",
       "    </tr>\n",
       "  </tbody>\n",
       "</table>\n",
       "<p>5 rows × 86 columns</p>\n",
       "</div>"
      ],
      "text/plain": [
       "                     final.output.concentrate_ag  final.output.concentrate_pb  \\\n",
       "date                                                                            \n",
       "2016-01-15 00:00:00                     6.055403                     9.889648   \n",
       "2016-01-15 01:00:00                     6.029369                     9.968944   \n",
       "2016-01-15 02:00:00                     6.055926                    10.213995   \n",
       "2016-01-15 03:00:00                     6.047977                     9.977019   \n",
       "2016-01-15 04:00:00                     6.148599                    10.142511   \n",
       "\n",
       "                     final.output.concentrate_sol  \\\n",
       "date                                                \n",
       "2016-01-15 00:00:00                      5.507324   \n",
       "2016-01-15 01:00:00                      5.257781   \n",
       "2016-01-15 02:00:00                      5.383759   \n",
       "2016-01-15 03:00:00                      4.858634   \n",
       "2016-01-15 04:00:00                      4.939416   \n",
       "\n",
       "                     final.output.concentrate_au  final.output.recovery  \\\n",
       "date                                                                      \n",
       "2016-01-15 00:00:00                    42.192020              70.541216   \n",
       "2016-01-15 01:00:00                    42.701629              69.266198   \n",
       "2016-01-15 02:00:00                    42.657501              68.116445   \n",
       "2016-01-15 03:00:00                    42.689819              68.347543   \n",
       "2016-01-15 04:00:00                    42.774141              66.927016   \n",
       "\n",
       "                     final.output.tail_ag  final.output.tail_pb  \\\n",
       "date                                                              \n",
       "2016-01-15 00:00:00             10.411962              0.895447   \n",
       "2016-01-15 01:00:00             10.462676              0.927452   \n",
       "2016-01-15 02:00:00             10.507046              0.953716   \n",
       "2016-01-15 03:00:00             10.422762              0.883763   \n",
       "2016-01-15 04:00:00             10.360302              0.792826   \n",
       "\n",
       "                     final.output.tail_sol  final.output.tail_au  \\\n",
       "date                                                               \n",
       "2016-01-15 00:00:00              16.904297              2.143149   \n",
       "2016-01-15 01:00:00              16.634514              2.224930   \n",
       "2016-01-15 02:00:00              16.208849              2.257889   \n",
       "2016-01-15 03:00:00              16.532835              2.146849   \n",
       "2016-01-15 04:00:00              16.525686              2.055292   \n",
       "\n",
       "                     primary_cleaner.input.sulfate  ...  \\\n",
       "date                                                ...   \n",
       "2016-01-15 00:00:00                     127.092003  ...   \n",
       "2016-01-15 01:00:00                     125.629232  ...   \n",
       "2016-01-15 02:00:00                     123.819808  ...   \n",
       "2016-01-15 03:00:00                     122.270188  ...   \n",
       "2016-01-15 04:00:00                     117.988169  ...   \n",
       "\n",
       "                     secondary_cleaner.state.floatbank4_a_air  \\\n",
       "date                                                            \n",
       "2016-01-15 00:00:00                                 14.016835   \n",
       "2016-01-15 01:00:00                                 13.992281   \n",
       "2016-01-15 02:00:00                                 14.015015   \n",
       "2016-01-15 03:00:00                                 14.036510   \n",
       "2016-01-15 04:00:00                                 14.027298   \n",
       "\n",
       "                     secondary_cleaner.state.floatbank4_a_level  \\\n",
       "date                                                              \n",
       "2016-01-15 00:00:00                                 -502.488007   \n",
       "2016-01-15 01:00:00                                 -505.503262   \n",
       "2016-01-15 02:00:00                                 -502.520901   \n",
       "2016-01-15 03:00:00                                 -500.857308   \n",
       "2016-01-15 04:00:00                                 -499.838632   \n",
       "\n",
       "                     secondary_cleaner.state.floatbank4_b_air  \\\n",
       "date                                                            \n",
       "2016-01-15 00:00:00                                 12.099931   \n",
       "2016-01-15 01:00:00                                 11.950531   \n",
       "2016-01-15 02:00:00                                 11.912783   \n",
       "2016-01-15 03:00:00                                 11.999550   \n",
       "2016-01-15 04:00:00                                 11.953070   \n",
       "\n",
       "                     secondary_cleaner.state.floatbank4_b_level  \\\n",
       "date                                                              \n",
       "2016-01-15 00:00:00                                 -504.715942   \n",
       "2016-01-15 01:00:00                                 -501.331529   \n",
       "2016-01-15 02:00:00                                 -501.133383   \n",
       "2016-01-15 03:00:00                                 -501.193686   \n",
       "2016-01-15 04:00:00                                 -501.053894   \n",
       "\n",
       "                     secondary_cleaner.state.floatbank5_a_air  \\\n",
       "date                                                            \n",
       "2016-01-15 00:00:00                                  9.925633   \n",
       "2016-01-15 01:00:00                                 10.039245   \n",
       "2016-01-15 02:00:00                                 10.070913   \n",
       "2016-01-15 03:00:00                                  9.970366   \n",
       "2016-01-15 04:00:00                                  9.925709   \n",
       "\n",
       "                     secondary_cleaner.state.floatbank5_a_level  \\\n",
       "date                                                              \n",
       "2016-01-15 00:00:00                                 -498.310211   \n",
       "2016-01-15 01:00:00                                 -500.169983   \n",
       "2016-01-15 02:00:00                                 -500.129135   \n",
       "2016-01-15 03:00:00                                 -499.201640   \n",
       "2016-01-15 04:00:00                                 -501.686727   \n",
       "\n",
       "                     secondary_cleaner.state.floatbank5_b_air  \\\n",
       "date                                                            \n",
       "2016-01-15 00:00:00                                  8.079666   \n",
       "2016-01-15 01:00:00                                  7.984757   \n",
       "2016-01-15 02:00:00                                  8.013877   \n",
       "2016-01-15 03:00:00                                  7.977324   \n",
       "2016-01-15 04:00:00                                  7.894242   \n",
       "\n",
       "                     secondary_cleaner.state.floatbank5_b_level  \\\n",
       "date                                                              \n",
       "2016-01-15 00:00:00                                 -500.470978   \n",
       "2016-01-15 01:00:00                                 -500.582168   \n",
       "2016-01-15 02:00:00                                 -500.517572   \n",
       "2016-01-15 03:00:00                                 -500.255908   \n",
       "2016-01-15 04:00:00                                 -500.356035   \n",
       "\n",
       "                     secondary_cleaner.state.floatbank6_a_air  \\\n",
       "date                                                            \n",
       "2016-01-15 00:00:00                                 14.151341   \n",
       "2016-01-15 01:00:00                                 13.998353   \n",
       "2016-01-15 02:00:00                                 14.028663   \n",
       "2016-01-15 03:00:00                                 14.005551   \n",
       "2016-01-15 04:00:00                                 13.996647   \n",
       "\n",
       "                     secondary_cleaner.state.floatbank6_a_level  \n",
       "date                                                             \n",
       "2016-01-15 00:00:00                                 -605.841980  \n",
       "2016-01-15 01:00:00                                 -599.787184  \n",
       "2016-01-15 02:00:00                                 -601.427363  \n",
       "2016-01-15 03:00:00                                 -599.996129  \n",
       "2016-01-15 04:00:00                                 -601.496691  \n",
       "\n",
       "[5 rows x 86 columns]"
      ]
     },
     "metadata": {},
     "output_type": "display_data"
    },
    {
     "name": "stdout",
     "output_type": "stream",
     "text": [
      "\n",
      " Статистические данные: \n",
      "\n"
     ]
    },
    {
     "data": {
      "text/html": [
       "<div>\n",
       "<style scoped>\n",
       "    .dataframe tbody tr th:only-of-type {\n",
       "        vertical-align: middle;\n",
       "    }\n",
       "\n",
       "    .dataframe tbody tr th {\n",
       "        vertical-align: top;\n",
       "    }\n",
       "\n",
       "    .dataframe thead th {\n",
       "        text-align: right;\n",
       "    }\n",
       "</style>\n",
       "<table border=\"1\" class=\"dataframe\">\n",
       "  <thead>\n",
       "    <tr style=\"text-align: right;\">\n",
       "      <th></th>\n",
       "      <th>final.output.concentrate_ag</th>\n",
       "      <th>final.output.concentrate_pb</th>\n",
       "      <th>final.output.concentrate_sol</th>\n",
       "      <th>final.output.concentrate_au</th>\n",
       "      <th>final.output.recovery</th>\n",
       "      <th>final.output.tail_ag</th>\n",
       "      <th>final.output.tail_pb</th>\n",
       "      <th>final.output.tail_sol</th>\n",
       "      <th>final.output.tail_au</th>\n",
       "      <th>primary_cleaner.input.sulfate</th>\n",
       "      <th>...</th>\n",
       "      <th>secondary_cleaner.state.floatbank4_a_air</th>\n",
       "      <th>secondary_cleaner.state.floatbank4_a_level</th>\n",
       "      <th>secondary_cleaner.state.floatbank4_b_air</th>\n",
       "      <th>secondary_cleaner.state.floatbank4_b_level</th>\n",
       "      <th>secondary_cleaner.state.floatbank5_a_air</th>\n",
       "      <th>secondary_cleaner.state.floatbank5_a_level</th>\n",
       "      <th>secondary_cleaner.state.floatbank5_b_air</th>\n",
       "      <th>secondary_cleaner.state.floatbank5_b_level</th>\n",
       "      <th>secondary_cleaner.state.floatbank6_a_air</th>\n",
       "      <th>secondary_cleaner.state.floatbank6_a_level</th>\n",
       "    </tr>\n",
       "  </thead>\n",
       "  <tbody>\n",
       "    <tr>\n",
       "      <th>count</th>\n",
       "      <td>14148.000000</td>\n",
       "      <td>14148.000000</td>\n",
       "      <td>13938.000000</td>\n",
       "      <td>14149.000000</td>\n",
       "      <td>14149.000000</td>\n",
       "      <td>14149.000000</td>\n",
       "      <td>14049.000000</td>\n",
       "      <td>14144.000000</td>\n",
       "      <td>14149.000000</td>\n",
       "      <td>14129.000000</td>\n",
       "      <td>...</td>\n",
       "      <td>14143.000000</td>\n",
       "      <td>14148.000000</td>\n",
       "      <td>14148.000000</td>\n",
       "      <td>14148.000000</td>\n",
       "      <td>14148.000000</td>\n",
       "      <td>14148.000000</td>\n",
       "      <td>14148.000000</td>\n",
       "      <td>14148.000000</td>\n",
       "      <td>14147.000000</td>\n",
       "      <td>14148.000000</td>\n",
       "    </tr>\n",
       "    <tr>\n",
       "      <th>mean</th>\n",
       "      <td>5.142034</td>\n",
       "      <td>10.132960</td>\n",
       "      <td>9.202849</td>\n",
       "      <td>44.003792</td>\n",
       "      <td>66.518832</td>\n",
       "      <td>9.607035</td>\n",
       "      <td>2.597298</td>\n",
       "      <td>10.512122</td>\n",
       "      <td>2.918421</td>\n",
       "      <td>133.320659</td>\n",
       "      <td>...</td>\n",
       "      <td>19.985454</td>\n",
       "      <td>-478.696836</td>\n",
       "      <td>15.487065</td>\n",
       "      <td>-460.229416</td>\n",
       "      <td>16.775136</td>\n",
       "      <td>-483.956022</td>\n",
       "      <td>13.064590</td>\n",
       "      <td>-483.966564</td>\n",
       "      <td>19.577539</td>\n",
       "      <td>-506.798480</td>\n",
       "    </tr>\n",
       "    <tr>\n",
       "      <th>std</th>\n",
       "      <td>1.369586</td>\n",
       "      <td>1.654930</td>\n",
       "      <td>2.790516</td>\n",
       "      <td>4.905261</td>\n",
       "      <td>10.295402</td>\n",
       "      <td>2.319069</td>\n",
       "      <td>0.971843</td>\n",
       "      <td>3.003617</td>\n",
       "      <td>0.903712</td>\n",
       "      <td>39.431659</td>\n",
       "      <td>...</td>\n",
       "      <td>5.657723</td>\n",
       "      <td>50.736021</td>\n",
       "      <td>5.255655</td>\n",
       "      <td>58.843586</td>\n",
       "      <td>5.831906</td>\n",
       "      <td>37.892788</td>\n",
       "      <td>5.765617</td>\n",
       "      <td>39.207913</td>\n",
       "      <td>5.764417</td>\n",
       "      <td>37.079249</td>\n",
       "    </tr>\n",
       "    <tr>\n",
       "      <th>min</th>\n",
       "      <td>0.000000</td>\n",
       "      <td>0.000000</td>\n",
       "      <td>0.000000</td>\n",
       "      <td>0.000000</td>\n",
       "      <td>0.000000</td>\n",
       "      <td>0.000000</td>\n",
       "      <td>0.000000</td>\n",
       "      <td>0.000000</td>\n",
       "      <td>0.000000</td>\n",
       "      <td>0.003112</td>\n",
       "      <td>...</td>\n",
       "      <td>0.000000</td>\n",
       "      <td>-799.709069</td>\n",
       "      <td>0.000000</td>\n",
       "      <td>-799.889113</td>\n",
       "      <td>-0.372054</td>\n",
       "      <td>-797.142475</td>\n",
       "      <td>0.646208</td>\n",
       "      <td>-800.006180</td>\n",
       "      <td>0.195324</td>\n",
       "      <td>-809.398668</td>\n",
       "    </tr>\n",
       "    <tr>\n",
       "      <th>25%</th>\n",
       "      <td>4.211620</td>\n",
       "      <td>9.297355</td>\n",
       "      <td>7.484645</td>\n",
       "      <td>43.276111</td>\n",
       "      <td>62.545817</td>\n",
       "      <td>7.997429</td>\n",
       "      <td>1.905973</td>\n",
       "      <td>8.811324</td>\n",
       "      <td>2.368607</td>\n",
       "      <td>107.006651</td>\n",
       "      <td>...</td>\n",
       "      <td>14.990775</td>\n",
       "      <td>-500.628656</td>\n",
       "      <td>11.894558</td>\n",
       "      <td>-500.149000</td>\n",
       "      <td>11.083980</td>\n",
       "      <td>-500.363177</td>\n",
       "      <td>8.994405</td>\n",
       "      <td>-500.105994</td>\n",
       "      <td>14.989304</td>\n",
       "      <td>-500.745104</td>\n",
       "    </tr>\n",
       "    <tr>\n",
       "      <th>50%</th>\n",
       "      <td>4.994652</td>\n",
       "      <td>10.297144</td>\n",
       "      <td>8.845462</td>\n",
       "      <td>44.872436</td>\n",
       "      <td>67.432775</td>\n",
       "      <td>9.480270</td>\n",
       "      <td>2.592022</td>\n",
       "      <td>10.514621</td>\n",
       "      <td>2.851025</td>\n",
       "      <td>133.018328</td>\n",
       "      <td>...</td>\n",
       "      <td>20.001789</td>\n",
       "      <td>-499.681450</td>\n",
       "      <td>14.975536</td>\n",
       "      <td>-499.388738</td>\n",
       "      <td>17.932223</td>\n",
       "      <td>-499.702452</td>\n",
       "      <td>11.997547</td>\n",
       "      <td>-499.914556</td>\n",
       "      <td>19.984175</td>\n",
       "      <td>-500.061431</td>\n",
       "    </tr>\n",
       "    <tr>\n",
       "      <th>75%</th>\n",
       "      <td>5.859540</td>\n",
       "      <td>11.170603</td>\n",
       "      <td>10.487508</td>\n",
       "      <td>46.166425</td>\n",
       "      <td>72.346428</td>\n",
       "      <td>11.003707</td>\n",
       "      <td>3.241723</td>\n",
       "      <td>11.933009</td>\n",
       "      <td>3.434764</td>\n",
       "      <td>159.825396</td>\n",
       "      <td>...</td>\n",
       "      <td>24.990826</td>\n",
       "      <td>-477.472413</td>\n",
       "      <td>20.059375</td>\n",
       "      <td>-400.039008</td>\n",
       "      <td>21.346550</td>\n",
       "      <td>-487.712108</td>\n",
       "      <td>17.982903</td>\n",
       "      <td>-453.186936</td>\n",
       "      <td>24.991623</td>\n",
       "      <td>-499.536466</td>\n",
       "    </tr>\n",
       "    <tr>\n",
       "      <th>max</th>\n",
       "      <td>16.001945</td>\n",
       "      <td>17.031899</td>\n",
       "      <td>18.124851</td>\n",
       "      <td>52.756638</td>\n",
       "      <td>100.000000</td>\n",
       "      <td>19.552149</td>\n",
       "      <td>5.639565</td>\n",
       "      <td>22.317730</td>\n",
       "      <td>8.197408</td>\n",
       "      <td>250.127834</td>\n",
       "      <td>...</td>\n",
       "      <td>30.115735</td>\n",
       "      <td>-245.239184</td>\n",
       "      <td>24.007913</td>\n",
       "      <td>-145.071088</td>\n",
       "      <td>43.709931</td>\n",
       "      <td>-275.073125</td>\n",
       "      <td>27.926001</td>\n",
       "      <td>-157.396071</td>\n",
       "      <td>32.188906</td>\n",
       "      <td>-104.427459</td>\n",
       "    </tr>\n",
       "  </tbody>\n",
       "</table>\n",
       "<p>8 rows × 86 columns</p>\n",
       "</div>"
      ],
      "text/plain": [
       "       final.output.concentrate_ag  final.output.concentrate_pb  \\\n",
       "count                 14148.000000                 14148.000000   \n",
       "mean                      5.142034                    10.132960   \n",
       "std                       1.369586                     1.654930   \n",
       "min                       0.000000                     0.000000   \n",
       "25%                       4.211620                     9.297355   \n",
       "50%                       4.994652                    10.297144   \n",
       "75%                       5.859540                    11.170603   \n",
       "max                      16.001945                    17.031899   \n",
       "\n",
       "       final.output.concentrate_sol  final.output.concentrate_au  \\\n",
       "count                  13938.000000                 14149.000000   \n",
       "mean                       9.202849                    44.003792   \n",
       "std                        2.790516                     4.905261   \n",
       "min                        0.000000                     0.000000   \n",
       "25%                        7.484645                    43.276111   \n",
       "50%                        8.845462                    44.872436   \n",
       "75%                       10.487508                    46.166425   \n",
       "max                       18.124851                    52.756638   \n",
       "\n",
       "       final.output.recovery  final.output.tail_ag  final.output.tail_pb  \\\n",
       "count           14149.000000          14149.000000          14049.000000   \n",
       "mean               66.518832              9.607035              2.597298   \n",
       "std                10.295402              2.319069              0.971843   \n",
       "min                 0.000000              0.000000              0.000000   \n",
       "25%                62.545817              7.997429              1.905973   \n",
       "50%                67.432775              9.480270              2.592022   \n",
       "75%                72.346428             11.003707              3.241723   \n",
       "max               100.000000             19.552149              5.639565   \n",
       "\n",
       "       final.output.tail_sol  final.output.tail_au  \\\n",
       "count           14144.000000          14149.000000   \n",
       "mean               10.512122              2.918421   \n",
       "std                 3.003617              0.903712   \n",
       "min                 0.000000              0.000000   \n",
       "25%                 8.811324              2.368607   \n",
       "50%                10.514621              2.851025   \n",
       "75%                11.933009              3.434764   \n",
       "max                22.317730              8.197408   \n",
       "\n",
       "       primary_cleaner.input.sulfate  ...  \\\n",
       "count                   14129.000000  ...   \n",
       "mean                      133.320659  ...   \n",
       "std                        39.431659  ...   \n",
       "min                         0.003112  ...   \n",
       "25%                       107.006651  ...   \n",
       "50%                       133.018328  ...   \n",
       "75%                       159.825396  ...   \n",
       "max                       250.127834  ...   \n",
       "\n",
       "       secondary_cleaner.state.floatbank4_a_air  \\\n",
       "count                              14143.000000   \n",
       "mean                                  19.985454   \n",
       "std                                    5.657723   \n",
       "min                                    0.000000   \n",
       "25%                                   14.990775   \n",
       "50%                                   20.001789   \n",
       "75%                                   24.990826   \n",
       "max                                   30.115735   \n",
       "\n",
       "       secondary_cleaner.state.floatbank4_a_level  \\\n",
       "count                                14148.000000   \n",
       "mean                                  -478.696836   \n",
       "std                                     50.736021   \n",
       "min                                   -799.709069   \n",
       "25%                                   -500.628656   \n",
       "50%                                   -499.681450   \n",
       "75%                                   -477.472413   \n",
       "max                                   -245.239184   \n",
       "\n",
       "       secondary_cleaner.state.floatbank4_b_air  \\\n",
       "count                              14148.000000   \n",
       "mean                                  15.487065   \n",
       "std                                    5.255655   \n",
       "min                                    0.000000   \n",
       "25%                                   11.894558   \n",
       "50%                                   14.975536   \n",
       "75%                                   20.059375   \n",
       "max                                   24.007913   \n",
       "\n",
       "       secondary_cleaner.state.floatbank4_b_level  \\\n",
       "count                                14148.000000   \n",
       "mean                                  -460.229416   \n",
       "std                                     58.843586   \n",
       "min                                   -799.889113   \n",
       "25%                                   -500.149000   \n",
       "50%                                   -499.388738   \n",
       "75%                                   -400.039008   \n",
       "max                                   -145.071088   \n",
       "\n",
       "       secondary_cleaner.state.floatbank5_a_air  \\\n",
       "count                              14148.000000   \n",
       "mean                                  16.775136   \n",
       "std                                    5.831906   \n",
       "min                                   -0.372054   \n",
       "25%                                   11.083980   \n",
       "50%                                   17.932223   \n",
       "75%                                   21.346550   \n",
       "max                                   43.709931   \n",
       "\n",
       "       secondary_cleaner.state.floatbank5_a_level  \\\n",
       "count                                14148.000000   \n",
       "mean                                  -483.956022   \n",
       "std                                     37.892788   \n",
       "min                                   -797.142475   \n",
       "25%                                   -500.363177   \n",
       "50%                                   -499.702452   \n",
       "75%                                   -487.712108   \n",
       "max                                   -275.073125   \n",
       "\n",
       "       secondary_cleaner.state.floatbank5_b_air  \\\n",
       "count                              14148.000000   \n",
       "mean                                  13.064590   \n",
       "std                                    5.765617   \n",
       "min                                    0.646208   \n",
       "25%                                    8.994405   \n",
       "50%                                   11.997547   \n",
       "75%                                   17.982903   \n",
       "max                                   27.926001   \n",
       "\n",
       "       secondary_cleaner.state.floatbank5_b_level  \\\n",
       "count                                14148.000000   \n",
       "mean                                  -483.966564   \n",
       "std                                     39.207913   \n",
       "min                                   -800.006180   \n",
       "25%                                   -500.105994   \n",
       "50%                                   -499.914556   \n",
       "75%                                   -453.186936   \n",
       "max                                   -157.396071   \n",
       "\n",
       "       secondary_cleaner.state.floatbank6_a_air  \\\n",
       "count                              14147.000000   \n",
       "mean                                  19.577539   \n",
       "std                                    5.764417   \n",
       "min                                    0.195324   \n",
       "25%                                   14.989304   \n",
       "50%                                   19.984175   \n",
       "75%                                   24.991623   \n",
       "max                                   32.188906   \n",
       "\n",
       "       secondary_cleaner.state.floatbank6_a_level  \n",
       "count                                14148.000000  \n",
       "mean                                  -506.798480  \n",
       "std                                     37.079249  \n",
       "min                                   -809.398668  \n",
       "25%                                   -500.745104  \n",
       "50%                                   -500.061431  \n",
       "75%                                   -499.536466  \n",
       "max                                   -104.427459  \n",
       "\n",
       "[8 rows x 86 columns]"
      ]
     },
     "metadata": {},
     "output_type": "display_data"
    },
    {
     "name": "stdout",
     "output_type": "stream",
     "text": [
      "\n",
      " Дубликаты: 0 \n",
      "\n",
      "Файл gold_test \n",
      "\n",
      "Сводная информация о таблице: \n",
      "\n",
      "<class 'pandas.core.frame.DataFrame'>\n",
      "DatetimeIndex: 5290 entries, 2016-09-01 00:59:59 to 2017-12-31 23:59:59\n",
      "Data columns (total 52 columns):\n",
      " #   Column                                      Non-Null Count  Dtype  \n",
      "---  ------                                      --------------  -----  \n",
      " 0   primary_cleaner.input.sulfate               5286 non-null   float64\n",
      " 1   primary_cleaner.input.depressant            5285 non-null   float64\n",
      " 2   primary_cleaner.input.feed_size             5290 non-null   float64\n",
      " 3   primary_cleaner.input.xanthate              5286 non-null   float64\n",
      " 4   primary_cleaner.state.floatbank8_a_air      5290 non-null   float64\n",
      " 5   primary_cleaner.state.floatbank8_a_level    5290 non-null   float64\n",
      " 6   primary_cleaner.state.floatbank8_b_air      5290 non-null   float64\n",
      " 7   primary_cleaner.state.floatbank8_b_level    5290 non-null   float64\n",
      " 8   primary_cleaner.state.floatbank8_c_air      5290 non-null   float64\n",
      " 9   primary_cleaner.state.floatbank8_c_level    5290 non-null   float64\n",
      " 10  primary_cleaner.state.floatbank8_d_air      5290 non-null   float64\n",
      " 11  primary_cleaner.state.floatbank8_d_level    5290 non-null   float64\n",
      " 12  rougher.input.feed_ag                       5290 non-null   float64\n",
      " 13  rougher.input.feed_pb                       5290 non-null   float64\n",
      " 14  rougher.input.feed_rate                     5287 non-null   float64\n",
      " 15  rougher.input.feed_size                     5289 non-null   float64\n",
      " 16  rougher.input.feed_sol                      5269 non-null   float64\n",
      " 17  rougher.input.feed_au                       5290 non-null   float64\n",
      " 18  rougher.input.floatbank10_sulfate           5285 non-null   float64\n",
      " 19  rougher.input.floatbank10_xanthate          5290 non-null   float64\n",
      " 20  rougher.input.floatbank11_sulfate           5282 non-null   float64\n",
      " 21  rougher.input.floatbank11_xanthate          5265 non-null   float64\n",
      " 22  rougher.state.floatbank10_a_air             5290 non-null   float64\n",
      " 23  rougher.state.floatbank10_a_level           5290 non-null   float64\n",
      " 24  rougher.state.floatbank10_b_air             5290 non-null   float64\n",
      " 25  rougher.state.floatbank10_b_level           5290 non-null   float64\n",
      " 26  rougher.state.floatbank10_c_air             5290 non-null   float64\n",
      " 27  rougher.state.floatbank10_c_level           5290 non-null   float64\n",
      " 28  rougher.state.floatbank10_d_air             5290 non-null   float64\n",
      " 29  rougher.state.floatbank10_d_level           5290 non-null   float64\n",
      " 30  rougher.state.floatbank10_e_air             5290 non-null   float64\n",
      " 31  rougher.state.floatbank10_e_level           5290 non-null   float64\n",
      " 32  rougher.state.floatbank10_f_air             5290 non-null   float64\n",
      " 33  rougher.state.floatbank10_f_level           5290 non-null   float64\n",
      " 34  secondary_cleaner.state.floatbank2_a_air    5287 non-null   float64\n",
      " 35  secondary_cleaner.state.floatbank2_a_level  5290 non-null   float64\n",
      " 36  secondary_cleaner.state.floatbank2_b_air    5288 non-null   float64\n",
      " 37  secondary_cleaner.state.floatbank2_b_level  5290 non-null   float64\n",
      " 38  secondary_cleaner.state.floatbank3_a_air    5281 non-null   float64\n",
      " 39  secondary_cleaner.state.floatbank3_a_level  5290 non-null   float64\n",
      " 40  secondary_cleaner.state.floatbank3_b_air    5290 non-null   float64\n",
      " 41  secondary_cleaner.state.floatbank3_b_level  5290 non-null   float64\n",
      " 42  secondary_cleaner.state.floatbank4_a_air    5290 non-null   float64\n",
      " 43  secondary_cleaner.state.floatbank4_a_level  5290 non-null   float64\n",
      " 44  secondary_cleaner.state.floatbank4_b_air    5290 non-null   float64\n",
      " 45  secondary_cleaner.state.floatbank4_b_level  5290 non-null   float64\n",
      " 46  secondary_cleaner.state.floatbank5_a_air    5290 non-null   float64\n",
      " 47  secondary_cleaner.state.floatbank5_a_level  5290 non-null   float64\n",
      " 48  secondary_cleaner.state.floatbank5_b_air    5290 non-null   float64\n",
      " 49  secondary_cleaner.state.floatbank5_b_level  5290 non-null   float64\n",
      " 50  secondary_cleaner.state.floatbank6_a_air    5290 non-null   float64\n",
      " 51  secondary_cleaner.state.floatbank6_a_level  5290 non-null   float64\n",
      "dtypes: float64(52)\n",
      "memory usage: 2.1 MB\n",
      "None\n",
      "\n",
      " Первые пять строк таблицы: \n",
      "\n"
     ]
    },
    {
     "data": {
      "text/html": [
       "<div>\n",
       "<style scoped>\n",
       "    .dataframe tbody tr th:only-of-type {\n",
       "        vertical-align: middle;\n",
       "    }\n",
       "\n",
       "    .dataframe tbody tr th {\n",
       "        vertical-align: top;\n",
       "    }\n",
       "\n",
       "    .dataframe thead th {\n",
       "        text-align: right;\n",
       "    }\n",
       "</style>\n",
       "<table border=\"1\" class=\"dataframe\">\n",
       "  <thead>\n",
       "    <tr style=\"text-align: right;\">\n",
       "      <th></th>\n",
       "      <th>primary_cleaner.input.sulfate</th>\n",
       "      <th>primary_cleaner.input.depressant</th>\n",
       "      <th>primary_cleaner.input.feed_size</th>\n",
       "      <th>primary_cleaner.input.xanthate</th>\n",
       "      <th>primary_cleaner.state.floatbank8_a_air</th>\n",
       "      <th>primary_cleaner.state.floatbank8_a_level</th>\n",
       "      <th>primary_cleaner.state.floatbank8_b_air</th>\n",
       "      <th>primary_cleaner.state.floatbank8_b_level</th>\n",
       "      <th>primary_cleaner.state.floatbank8_c_air</th>\n",
       "      <th>primary_cleaner.state.floatbank8_c_level</th>\n",
       "      <th>...</th>\n",
       "      <th>secondary_cleaner.state.floatbank4_a_air</th>\n",
       "      <th>secondary_cleaner.state.floatbank4_a_level</th>\n",
       "      <th>secondary_cleaner.state.floatbank4_b_air</th>\n",
       "      <th>secondary_cleaner.state.floatbank4_b_level</th>\n",
       "      <th>secondary_cleaner.state.floatbank5_a_air</th>\n",
       "      <th>secondary_cleaner.state.floatbank5_a_level</th>\n",
       "      <th>secondary_cleaner.state.floatbank5_b_air</th>\n",
       "      <th>secondary_cleaner.state.floatbank5_b_level</th>\n",
       "      <th>secondary_cleaner.state.floatbank6_a_air</th>\n",
       "      <th>secondary_cleaner.state.floatbank6_a_level</th>\n",
       "    </tr>\n",
       "    <tr>\n",
       "      <th>date</th>\n",
       "      <th></th>\n",
       "      <th></th>\n",
       "      <th></th>\n",
       "      <th></th>\n",
       "      <th></th>\n",
       "      <th></th>\n",
       "      <th></th>\n",
       "      <th></th>\n",
       "      <th></th>\n",
       "      <th></th>\n",
       "      <th></th>\n",
       "      <th></th>\n",
       "      <th></th>\n",
       "      <th></th>\n",
       "      <th></th>\n",
       "      <th></th>\n",
       "      <th></th>\n",
       "      <th></th>\n",
       "      <th></th>\n",
       "      <th></th>\n",
       "      <th></th>\n",
       "    </tr>\n",
       "  </thead>\n",
       "  <tbody>\n",
       "    <tr>\n",
       "      <th>2016-09-01 00:59:59</th>\n",
       "      <td>210.800909</td>\n",
       "      <td>14.993118</td>\n",
       "      <td>8.080000</td>\n",
       "      <td>1.005021</td>\n",
       "      <td>1398.981301</td>\n",
       "      <td>-500.225577</td>\n",
       "      <td>1399.144926</td>\n",
       "      <td>-499.919735</td>\n",
       "      <td>1400.102998</td>\n",
       "      <td>-500.704369</td>\n",
       "      <td>...</td>\n",
       "      <td>12.023554</td>\n",
       "      <td>-497.795834</td>\n",
       "      <td>8.016656</td>\n",
       "      <td>-501.289139</td>\n",
       "      <td>7.946562</td>\n",
       "      <td>-432.317850</td>\n",
       "      <td>4.872511</td>\n",
       "      <td>-500.037437</td>\n",
       "      <td>26.705889</td>\n",
       "      <td>-499.709414</td>\n",
       "    </tr>\n",
       "    <tr>\n",
       "      <th>2016-09-01 01:59:59</th>\n",
       "      <td>215.392455</td>\n",
       "      <td>14.987471</td>\n",
       "      <td>8.080000</td>\n",
       "      <td>0.990469</td>\n",
       "      <td>1398.777912</td>\n",
       "      <td>-500.057435</td>\n",
       "      <td>1398.055362</td>\n",
       "      <td>-499.778182</td>\n",
       "      <td>1396.151033</td>\n",
       "      <td>-499.240168</td>\n",
       "      <td>...</td>\n",
       "      <td>12.058140</td>\n",
       "      <td>-498.695773</td>\n",
       "      <td>8.130979</td>\n",
       "      <td>-499.634209</td>\n",
       "      <td>7.958270</td>\n",
       "      <td>-525.839648</td>\n",
       "      <td>4.878850</td>\n",
       "      <td>-500.162375</td>\n",
       "      <td>25.019940</td>\n",
       "      <td>-499.819438</td>\n",
       "    </tr>\n",
       "    <tr>\n",
       "      <th>2016-09-01 02:59:59</th>\n",
       "      <td>215.259946</td>\n",
       "      <td>12.884934</td>\n",
       "      <td>7.786667</td>\n",
       "      <td>0.996043</td>\n",
       "      <td>1398.493666</td>\n",
       "      <td>-500.868360</td>\n",
       "      <td>1398.860436</td>\n",
       "      <td>-499.764529</td>\n",
       "      <td>1398.075709</td>\n",
       "      <td>-502.151509</td>\n",
       "      <td>...</td>\n",
       "      <td>11.962366</td>\n",
       "      <td>-498.767484</td>\n",
       "      <td>8.096893</td>\n",
       "      <td>-500.827423</td>\n",
       "      <td>8.071056</td>\n",
       "      <td>-500.801673</td>\n",
       "      <td>4.905125</td>\n",
       "      <td>-499.828510</td>\n",
       "      <td>24.994862</td>\n",
       "      <td>-500.622559</td>\n",
       "    </tr>\n",
       "    <tr>\n",
       "      <th>2016-09-01 03:59:59</th>\n",
       "      <td>215.336236</td>\n",
       "      <td>12.006805</td>\n",
       "      <td>7.640000</td>\n",
       "      <td>0.863514</td>\n",
       "      <td>1399.618111</td>\n",
       "      <td>-498.863574</td>\n",
       "      <td>1397.440120</td>\n",
       "      <td>-499.211024</td>\n",
       "      <td>1400.129303</td>\n",
       "      <td>-498.355873</td>\n",
       "      <td>...</td>\n",
       "      <td>12.033091</td>\n",
       "      <td>-498.350935</td>\n",
       "      <td>8.074946</td>\n",
       "      <td>-499.474407</td>\n",
       "      <td>7.897085</td>\n",
       "      <td>-500.868509</td>\n",
       "      <td>4.931400</td>\n",
       "      <td>-499.963623</td>\n",
       "      <td>24.948919</td>\n",
       "      <td>-498.709987</td>\n",
       "    </tr>\n",
       "    <tr>\n",
       "      <th>2016-09-01 04:59:59</th>\n",
       "      <td>199.099327</td>\n",
       "      <td>10.682530</td>\n",
       "      <td>7.530000</td>\n",
       "      <td>0.805575</td>\n",
       "      <td>1401.268123</td>\n",
       "      <td>-500.808305</td>\n",
       "      <td>1398.128818</td>\n",
       "      <td>-499.504543</td>\n",
       "      <td>1402.172226</td>\n",
       "      <td>-500.810606</td>\n",
       "      <td>...</td>\n",
       "      <td>12.025367</td>\n",
       "      <td>-500.786497</td>\n",
       "      <td>8.054678</td>\n",
       "      <td>-500.397500</td>\n",
       "      <td>8.107890</td>\n",
       "      <td>-509.526725</td>\n",
       "      <td>4.957674</td>\n",
       "      <td>-500.360026</td>\n",
       "      <td>25.003331</td>\n",
       "      <td>-500.856333</td>\n",
       "    </tr>\n",
       "  </tbody>\n",
       "</table>\n",
       "<p>5 rows × 52 columns</p>\n",
       "</div>"
      ],
      "text/plain": [
       "                     primary_cleaner.input.sulfate  \\\n",
       "date                                                 \n",
       "2016-09-01 00:59:59                     210.800909   \n",
       "2016-09-01 01:59:59                     215.392455   \n",
       "2016-09-01 02:59:59                     215.259946   \n",
       "2016-09-01 03:59:59                     215.336236   \n",
       "2016-09-01 04:59:59                     199.099327   \n",
       "\n",
       "                     primary_cleaner.input.depressant  \\\n",
       "date                                                    \n",
       "2016-09-01 00:59:59                         14.993118   \n",
       "2016-09-01 01:59:59                         14.987471   \n",
       "2016-09-01 02:59:59                         12.884934   \n",
       "2016-09-01 03:59:59                         12.006805   \n",
       "2016-09-01 04:59:59                         10.682530   \n",
       "\n",
       "                     primary_cleaner.input.feed_size  \\\n",
       "date                                                   \n",
       "2016-09-01 00:59:59                         8.080000   \n",
       "2016-09-01 01:59:59                         8.080000   \n",
       "2016-09-01 02:59:59                         7.786667   \n",
       "2016-09-01 03:59:59                         7.640000   \n",
       "2016-09-01 04:59:59                         7.530000   \n",
       "\n",
       "                     primary_cleaner.input.xanthate  \\\n",
       "date                                                  \n",
       "2016-09-01 00:59:59                        1.005021   \n",
       "2016-09-01 01:59:59                        0.990469   \n",
       "2016-09-01 02:59:59                        0.996043   \n",
       "2016-09-01 03:59:59                        0.863514   \n",
       "2016-09-01 04:59:59                        0.805575   \n",
       "\n",
       "                     primary_cleaner.state.floatbank8_a_air  \\\n",
       "date                                                          \n",
       "2016-09-01 00:59:59                             1398.981301   \n",
       "2016-09-01 01:59:59                             1398.777912   \n",
       "2016-09-01 02:59:59                             1398.493666   \n",
       "2016-09-01 03:59:59                             1399.618111   \n",
       "2016-09-01 04:59:59                             1401.268123   \n",
       "\n",
       "                     primary_cleaner.state.floatbank8_a_level  \\\n",
       "date                                                            \n",
       "2016-09-01 00:59:59                               -500.225577   \n",
       "2016-09-01 01:59:59                               -500.057435   \n",
       "2016-09-01 02:59:59                               -500.868360   \n",
       "2016-09-01 03:59:59                               -498.863574   \n",
       "2016-09-01 04:59:59                               -500.808305   \n",
       "\n",
       "                     primary_cleaner.state.floatbank8_b_air  \\\n",
       "date                                                          \n",
       "2016-09-01 00:59:59                             1399.144926   \n",
       "2016-09-01 01:59:59                             1398.055362   \n",
       "2016-09-01 02:59:59                             1398.860436   \n",
       "2016-09-01 03:59:59                             1397.440120   \n",
       "2016-09-01 04:59:59                             1398.128818   \n",
       "\n",
       "                     primary_cleaner.state.floatbank8_b_level  \\\n",
       "date                                                            \n",
       "2016-09-01 00:59:59                               -499.919735   \n",
       "2016-09-01 01:59:59                               -499.778182   \n",
       "2016-09-01 02:59:59                               -499.764529   \n",
       "2016-09-01 03:59:59                               -499.211024   \n",
       "2016-09-01 04:59:59                               -499.504543   \n",
       "\n",
       "                     primary_cleaner.state.floatbank8_c_air  \\\n",
       "date                                                          \n",
       "2016-09-01 00:59:59                             1400.102998   \n",
       "2016-09-01 01:59:59                             1396.151033   \n",
       "2016-09-01 02:59:59                             1398.075709   \n",
       "2016-09-01 03:59:59                             1400.129303   \n",
       "2016-09-01 04:59:59                             1402.172226   \n",
       "\n",
       "                     primary_cleaner.state.floatbank8_c_level  ...  \\\n",
       "date                                                           ...   \n",
       "2016-09-01 00:59:59                               -500.704369  ...   \n",
       "2016-09-01 01:59:59                               -499.240168  ...   \n",
       "2016-09-01 02:59:59                               -502.151509  ...   \n",
       "2016-09-01 03:59:59                               -498.355873  ...   \n",
       "2016-09-01 04:59:59                               -500.810606  ...   \n",
       "\n",
       "                     secondary_cleaner.state.floatbank4_a_air  \\\n",
       "date                                                            \n",
       "2016-09-01 00:59:59                                 12.023554   \n",
       "2016-09-01 01:59:59                                 12.058140   \n",
       "2016-09-01 02:59:59                                 11.962366   \n",
       "2016-09-01 03:59:59                                 12.033091   \n",
       "2016-09-01 04:59:59                                 12.025367   \n",
       "\n",
       "                     secondary_cleaner.state.floatbank4_a_level  \\\n",
       "date                                                              \n",
       "2016-09-01 00:59:59                                 -497.795834   \n",
       "2016-09-01 01:59:59                                 -498.695773   \n",
       "2016-09-01 02:59:59                                 -498.767484   \n",
       "2016-09-01 03:59:59                                 -498.350935   \n",
       "2016-09-01 04:59:59                                 -500.786497   \n",
       "\n",
       "                     secondary_cleaner.state.floatbank4_b_air  \\\n",
       "date                                                            \n",
       "2016-09-01 00:59:59                                  8.016656   \n",
       "2016-09-01 01:59:59                                  8.130979   \n",
       "2016-09-01 02:59:59                                  8.096893   \n",
       "2016-09-01 03:59:59                                  8.074946   \n",
       "2016-09-01 04:59:59                                  8.054678   \n",
       "\n",
       "                     secondary_cleaner.state.floatbank4_b_level  \\\n",
       "date                                                              \n",
       "2016-09-01 00:59:59                                 -501.289139   \n",
       "2016-09-01 01:59:59                                 -499.634209   \n",
       "2016-09-01 02:59:59                                 -500.827423   \n",
       "2016-09-01 03:59:59                                 -499.474407   \n",
       "2016-09-01 04:59:59                                 -500.397500   \n",
       "\n",
       "                     secondary_cleaner.state.floatbank5_a_air  \\\n",
       "date                                                            \n",
       "2016-09-01 00:59:59                                  7.946562   \n",
       "2016-09-01 01:59:59                                  7.958270   \n",
       "2016-09-01 02:59:59                                  8.071056   \n",
       "2016-09-01 03:59:59                                  7.897085   \n",
       "2016-09-01 04:59:59                                  8.107890   \n",
       "\n",
       "                     secondary_cleaner.state.floatbank5_a_level  \\\n",
       "date                                                              \n",
       "2016-09-01 00:59:59                                 -432.317850   \n",
       "2016-09-01 01:59:59                                 -525.839648   \n",
       "2016-09-01 02:59:59                                 -500.801673   \n",
       "2016-09-01 03:59:59                                 -500.868509   \n",
       "2016-09-01 04:59:59                                 -509.526725   \n",
       "\n",
       "                     secondary_cleaner.state.floatbank5_b_air  \\\n",
       "date                                                            \n",
       "2016-09-01 00:59:59                                  4.872511   \n",
       "2016-09-01 01:59:59                                  4.878850   \n",
       "2016-09-01 02:59:59                                  4.905125   \n",
       "2016-09-01 03:59:59                                  4.931400   \n",
       "2016-09-01 04:59:59                                  4.957674   \n",
       "\n",
       "                     secondary_cleaner.state.floatbank5_b_level  \\\n",
       "date                                                              \n",
       "2016-09-01 00:59:59                                 -500.037437   \n",
       "2016-09-01 01:59:59                                 -500.162375   \n",
       "2016-09-01 02:59:59                                 -499.828510   \n",
       "2016-09-01 03:59:59                                 -499.963623   \n",
       "2016-09-01 04:59:59                                 -500.360026   \n",
       "\n",
       "                     secondary_cleaner.state.floatbank6_a_air  \\\n",
       "date                                                            \n",
       "2016-09-01 00:59:59                                 26.705889   \n",
       "2016-09-01 01:59:59                                 25.019940   \n",
       "2016-09-01 02:59:59                                 24.994862   \n",
       "2016-09-01 03:59:59                                 24.948919   \n",
       "2016-09-01 04:59:59                                 25.003331   \n",
       "\n",
       "                     secondary_cleaner.state.floatbank6_a_level  \n",
       "date                                                             \n",
       "2016-09-01 00:59:59                                 -499.709414  \n",
       "2016-09-01 01:59:59                                 -499.819438  \n",
       "2016-09-01 02:59:59                                 -500.622559  \n",
       "2016-09-01 03:59:59                                 -498.709987  \n",
       "2016-09-01 04:59:59                                 -500.856333  \n",
       "\n",
       "[5 rows x 52 columns]"
      ]
     },
     "metadata": {},
     "output_type": "display_data"
    },
    {
     "name": "stdout",
     "output_type": "stream",
     "text": [
      "\n",
      " Статистические данные: \n",
      "\n"
     ]
    },
    {
     "data": {
      "text/html": [
       "<div>\n",
       "<style scoped>\n",
       "    .dataframe tbody tr th:only-of-type {\n",
       "        vertical-align: middle;\n",
       "    }\n",
       "\n",
       "    .dataframe tbody tr th {\n",
       "        vertical-align: top;\n",
       "    }\n",
       "\n",
       "    .dataframe thead th {\n",
       "        text-align: right;\n",
       "    }\n",
       "</style>\n",
       "<table border=\"1\" class=\"dataframe\">\n",
       "  <thead>\n",
       "    <tr style=\"text-align: right;\">\n",
       "      <th></th>\n",
       "      <th>primary_cleaner.input.sulfate</th>\n",
       "      <th>primary_cleaner.input.depressant</th>\n",
       "      <th>primary_cleaner.input.feed_size</th>\n",
       "      <th>primary_cleaner.input.xanthate</th>\n",
       "      <th>primary_cleaner.state.floatbank8_a_air</th>\n",
       "      <th>primary_cleaner.state.floatbank8_a_level</th>\n",
       "      <th>primary_cleaner.state.floatbank8_b_air</th>\n",
       "      <th>primary_cleaner.state.floatbank8_b_level</th>\n",
       "      <th>primary_cleaner.state.floatbank8_c_air</th>\n",
       "      <th>primary_cleaner.state.floatbank8_c_level</th>\n",
       "      <th>...</th>\n",
       "      <th>secondary_cleaner.state.floatbank4_a_air</th>\n",
       "      <th>secondary_cleaner.state.floatbank4_a_level</th>\n",
       "      <th>secondary_cleaner.state.floatbank4_b_air</th>\n",
       "      <th>secondary_cleaner.state.floatbank4_b_level</th>\n",
       "      <th>secondary_cleaner.state.floatbank5_a_air</th>\n",
       "      <th>secondary_cleaner.state.floatbank5_a_level</th>\n",
       "      <th>secondary_cleaner.state.floatbank5_b_air</th>\n",
       "      <th>secondary_cleaner.state.floatbank5_b_level</th>\n",
       "      <th>secondary_cleaner.state.floatbank6_a_air</th>\n",
       "      <th>secondary_cleaner.state.floatbank6_a_level</th>\n",
       "    </tr>\n",
       "  </thead>\n",
       "  <tbody>\n",
       "    <tr>\n",
       "      <th>count</th>\n",
       "      <td>5286.000000</td>\n",
       "      <td>5285.000000</td>\n",
       "      <td>5290.000000</td>\n",
       "      <td>5286.000000</td>\n",
       "      <td>5.290000e+03</td>\n",
       "      <td>5290.000000</td>\n",
       "      <td>5.290000e+03</td>\n",
       "      <td>5290.000000</td>\n",
       "      <td>5.290000e+03</td>\n",
       "      <td>5290.000000</td>\n",
       "      <td>...</td>\n",
       "      <td>5.290000e+03</td>\n",
       "      <td>5290.000000</td>\n",
       "      <td>5.290000e+03</td>\n",
       "      <td>5290.000000</td>\n",
       "      <td>5290.000000</td>\n",
       "      <td>5290.000000</td>\n",
       "      <td>5290.000000</td>\n",
       "      <td>5290.000000</td>\n",
       "      <td>5290.000000</td>\n",
       "      <td>5290.000000</td>\n",
       "    </tr>\n",
       "    <tr>\n",
       "      <th>mean</th>\n",
       "      <td>174.839652</td>\n",
       "      <td>8.683596</td>\n",
       "      <td>7.266339</td>\n",
       "      <td>1.383803</td>\n",
       "      <td>1.539494e+03</td>\n",
       "      <td>-497.665883</td>\n",
       "      <td>1.545174e+03</td>\n",
       "      <td>-500.273098</td>\n",
       "      <td>1.527272e+03</td>\n",
       "      <td>-498.330680</td>\n",
       "      <td>...</td>\n",
       "      <td>1.632007e+01</td>\n",
       "      <td>-505.144570</td>\n",
       "      <td>1.373544e+01</td>\n",
       "      <td>-463.349858</td>\n",
       "      <td>12.804186</td>\n",
       "      <td>-501.329122</td>\n",
       "      <td>9.881145</td>\n",
       "      <td>-495.663398</td>\n",
       "      <td>17.304935</td>\n",
       "      <td>-501.793193</td>\n",
       "    </tr>\n",
       "    <tr>\n",
       "      <th>std</th>\n",
       "      <td>43.027080</td>\n",
       "      <td>3.072050</td>\n",
       "      <td>0.610219</td>\n",
       "      <td>0.643474</td>\n",
       "      <td>1.167979e+02</td>\n",
       "      <td>19.952431</td>\n",
       "      <td>1.222246e+02</td>\n",
       "      <td>32.968307</td>\n",
       "      <td>1.225380e+02</td>\n",
       "      <td>21.964876</td>\n",
       "      <td>...</td>\n",
       "      <td>3.493583e+00</td>\n",
       "      <td>31.427337</td>\n",
       "      <td>3.430484e+00</td>\n",
       "      <td>86.189107</td>\n",
       "      <td>3.026591</td>\n",
       "      <td>17.951495</td>\n",
       "      <td>2.868205</td>\n",
       "      <td>34.535007</td>\n",
       "      <td>4.536544</td>\n",
       "      <td>39.044215</td>\n",
       "    </tr>\n",
       "    <tr>\n",
       "      <th>min</th>\n",
       "      <td>2.566156</td>\n",
       "      <td>0.003839</td>\n",
       "      <td>5.650000</td>\n",
       "      <td>0.004984</td>\n",
       "      <td>5.445860e-32</td>\n",
       "      <td>-795.316337</td>\n",
       "      <td>6.647490e-32</td>\n",
       "      <td>-799.997015</td>\n",
       "      <td>4.033736e-32</td>\n",
       "      <td>-799.960571</td>\n",
       "      <td>...</td>\n",
       "      <td>1.079872e-16</td>\n",
       "      <td>-799.798523</td>\n",
       "      <td>2.489718e-17</td>\n",
       "      <td>-800.836914</td>\n",
       "      <td>0.069227</td>\n",
       "      <td>-797.323986</td>\n",
       "      <td>0.528083</td>\n",
       "      <td>-800.220337</td>\n",
       "      <td>-0.079426</td>\n",
       "      <td>-809.741464</td>\n",
       "    </tr>\n",
       "    <tr>\n",
       "      <th>25%</th>\n",
       "      <td>147.121401</td>\n",
       "      <td>6.489555</td>\n",
       "      <td>6.890000</td>\n",
       "      <td>0.907623</td>\n",
       "      <td>1.498936e+03</td>\n",
       "      <td>-500.357298</td>\n",
       "      <td>1.498971e+03</td>\n",
       "      <td>-500.703002</td>\n",
       "      <td>1.473230e+03</td>\n",
       "      <td>-501.018117</td>\n",
       "      <td>...</td>\n",
       "      <td>1.403618e+01</td>\n",
       "      <td>-500.868258</td>\n",
       "      <td>1.202862e+01</td>\n",
       "      <td>-500.323028</td>\n",
       "      <td>10.914838</td>\n",
       "      <td>-500.726841</td>\n",
       "      <td>8.036719</td>\n",
       "      <td>-500.194668</td>\n",
       "      <td>13.997317</td>\n",
       "      <td>-500.690984</td>\n",
       "    </tr>\n",
       "    <tr>\n",
       "      <th>50%</th>\n",
       "      <td>177.828489</td>\n",
       "      <td>8.052207</td>\n",
       "      <td>7.250000</td>\n",
       "      <td>1.197610</td>\n",
       "      <td>1.585129e+03</td>\n",
       "      <td>-499.969164</td>\n",
       "      <td>1.595622e+03</td>\n",
       "      <td>-500.028514</td>\n",
       "      <td>1.549595e+03</td>\n",
       "      <td>-500.017711</td>\n",
       "      <td>...</td>\n",
       "      <td>1.700847e+01</td>\n",
       "      <td>-500.115727</td>\n",
       "      <td>1.496486e+01</td>\n",
       "      <td>-499.576513</td>\n",
       "      <td>12.954182</td>\n",
       "      <td>-499.990332</td>\n",
       "      <td>10.004301</td>\n",
       "      <td>-499.990535</td>\n",
       "      <td>16.014935</td>\n",
       "      <td>-500.007126</td>\n",
       "    </tr>\n",
       "    <tr>\n",
       "      <th>75%</th>\n",
       "      <td>208.125438</td>\n",
       "      <td>10.027764</td>\n",
       "      <td>7.600000</td>\n",
       "      <td>1.797819</td>\n",
       "      <td>1.602077e+03</td>\n",
       "      <td>-499.568951</td>\n",
       "      <td>1.602324e+03</td>\n",
       "      <td>-499.293257</td>\n",
       "      <td>1.601144e+03</td>\n",
       "      <td>-498.994130</td>\n",
       "      <td>...</td>\n",
       "      <td>1.803862e+01</td>\n",
       "      <td>-499.404224</td>\n",
       "      <td>1.596213e+01</td>\n",
       "      <td>-400.933805</td>\n",
       "      <td>15.097528</td>\n",
       "      <td>-499.283191</td>\n",
       "      <td>11.997467</td>\n",
       "      <td>-499.719913</td>\n",
       "      <td>21.020013</td>\n",
       "      <td>-499.373018</td>\n",
       "    </tr>\n",
       "    <tr>\n",
       "      <th>max</th>\n",
       "      <td>265.983123</td>\n",
       "      <td>40.000000</td>\n",
       "      <td>15.500000</td>\n",
       "      <td>4.102454</td>\n",
       "      <td>2.103104e+03</td>\n",
       "      <td>-57.195404</td>\n",
       "      <td>1.813084e+03</td>\n",
       "      <td>-142.527229</td>\n",
       "      <td>1.715054e+03</td>\n",
       "      <td>-150.937035</td>\n",
       "      <td>...</td>\n",
       "      <td>3.005180e+01</td>\n",
       "      <td>-401.565212</td>\n",
       "      <td>3.126971e+01</td>\n",
       "      <td>-6.506986</td>\n",
       "      <td>25.258848</td>\n",
       "      <td>-244.483566</td>\n",
       "      <td>14.086866</td>\n",
       "      <td>-137.740004</td>\n",
       "      <td>26.705889</td>\n",
       "      <td>-123.307487</td>\n",
       "    </tr>\n",
       "  </tbody>\n",
       "</table>\n",
       "<p>8 rows × 52 columns</p>\n",
       "</div>"
      ],
      "text/plain": [
       "       primary_cleaner.input.sulfate  primary_cleaner.input.depressant  \\\n",
       "count                    5286.000000                       5285.000000   \n",
       "mean                      174.839652                          8.683596   \n",
       "std                        43.027080                          3.072050   \n",
       "min                         2.566156                          0.003839   \n",
       "25%                       147.121401                          6.489555   \n",
       "50%                       177.828489                          8.052207   \n",
       "75%                       208.125438                         10.027764   \n",
       "max                       265.983123                         40.000000   \n",
       "\n",
       "       primary_cleaner.input.feed_size  primary_cleaner.input.xanthate  \\\n",
       "count                      5290.000000                     5286.000000   \n",
       "mean                          7.266339                        1.383803   \n",
       "std                           0.610219                        0.643474   \n",
       "min                           5.650000                        0.004984   \n",
       "25%                           6.890000                        0.907623   \n",
       "50%                           7.250000                        1.197610   \n",
       "75%                           7.600000                        1.797819   \n",
       "max                          15.500000                        4.102454   \n",
       "\n",
       "       primary_cleaner.state.floatbank8_a_air  \\\n",
       "count                            5.290000e+03   \n",
       "mean                             1.539494e+03   \n",
       "std                              1.167979e+02   \n",
       "min                              5.445860e-32   \n",
       "25%                              1.498936e+03   \n",
       "50%                              1.585129e+03   \n",
       "75%                              1.602077e+03   \n",
       "max                              2.103104e+03   \n",
       "\n",
       "       primary_cleaner.state.floatbank8_a_level  \\\n",
       "count                               5290.000000   \n",
       "mean                                -497.665883   \n",
       "std                                   19.952431   \n",
       "min                                 -795.316337   \n",
       "25%                                 -500.357298   \n",
       "50%                                 -499.969164   \n",
       "75%                                 -499.568951   \n",
       "max                                  -57.195404   \n",
       "\n",
       "       primary_cleaner.state.floatbank8_b_air  \\\n",
       "count                            5.290000e+03   \n",
       "mean                             1.545174e+03   \n",
       "std                              1.222246e+02   \n",
       "min                              6.647490e-32   \n",
       "25%                              1.498971e+03   \n",
       "50%                              1.595622e+03   \n",
       "75%                              1.602324e+03   \n",
       "max                              1.813084e+03   \n",
       "\n",
       "       primary_cleaner.state.floatbank8_b_level  \\\n",
       "count                               5290.000000   \n",
       "mean                                -500.273098   \n",
       "std                                   32.968307   \n",
       "min                                 -799.997015   \n",
       "25%                                 -500.703002   \n",
       "50%                                 -500.028514   \n",
       "75%                                 -499.293257   \n",
       "max                                 -142.527229   \n",
       "\n",
       "       primary_cleaner.state.floatbank8_c_air  \\\n",
       "count                            5.290000e+03   \n",
       "mean                             1.527272e+03   \n",
       "std                              1.225380e+02   \n",
       "min                              4.033736e-32   \n",
       "25%                              1.473230e+03   \n",
       "50%                              1.549595e+03   \n",
       "75%                              1.601144e+03   \n",
       "max                              1.715054e+03   \n",
       "\n",
       "       primary_cleaner.state.floatbank8_c_level  ...  \\\n",
       "count                               5290.000000  ...   \n",
       "mean                                -498.330680  ...   \n",
       "std                                   21.964876  ...   \n",
       "min                                 -799.960571  ...   \n",
       "25%                                 -501.018117  ...   \n",
       "50%                                 -500.017711  ...   \n",
       "75%                                 -498.994130  ...   \n",
       "max                                 -150.937035  ...   \n",
       "\n",
       "       secondary_cleaner.state.floatbank4_a_air  \\\n",
       "count                              5.290000e+03   \n",
       "mean                               1.632007e+01   \n",
       "std                                3.493583e+00   \n",
       "min                                1.079872e-16   \n",
       "25%                                1.403618e+01   \n",
       "50%                                1.700847e+01   \n",
       "75%                                1.803862e+01   \n",
       "max                                3.005180e+01   \n",
       "\n",
       "       secondary_cleaner.state.floatbank4_a_level  \\\n",
       "count                                 5290.000000   \n",
       "mean                                  -505.144570   \n",
       "std                                     31.427337   \n",
       "min                                   -799.798523   \n",
       "25%                                   -500.868258   \n",
       "50%                                   -500.115727   \n",
       "75%                                   -499.404224   \n",
       "max                                   -401.565212   \n",
       "\n",
       "       secondary_cleaner.state.floatbank4_b_air  \\\n",
       "count                              5.290000e+03   \n",
       "mean                               1.373544e+01   \n",
       "std                                3.430484e+00   \n",
       "min                                2.489718e-17   \n",
       "25%                                1.202862e+01   \n",
       "50%                                1.496486e+01   \n",
       "75%                                1.596213e+01   \n",
       "max                                3.126971e+01   \n",
       "\n",
       "       secondary_cleaner.state.floatbank4_b_level  \\\n",
       "count                                 5290.000000   \n",
       "mean                                  -463.349858   \n",
       "std                                     86.189107   \n",
       "min                                   -800.836914   \n",
       "25%                                   -500.323028   \n",
       "50%                                   -499.576513   \n",
       "75%                                   -400.933805   \n",
       "max                                     -6.506986   \n",
       "\n",
       "       secondary_cleaner.state.floatbank5_a_air  \\\n",
       "count                               5290.000000   \n",
       "mean                                  12.804186   \n",
       "std                                    3.026591   \n",
       "min                                    0.069227   \n",
       "25%                                   10.914838   \n",
       "50%                                   12.954182   \n",
       "75%                                   15.097528   \n",
       "max                                   25.258848   \n",
       "\n",
       "       secondary_cleaner.state.floatbank5_a_level  \\\n",
       "count                                 5290.000000   \n",
       "mean                                  -501.329122   \n",
       "std                                     17.951495   \n",
       "min                                   -797.323986   \n",
       "25%                                   -500.726841   \n",
       "50%                                   -499.990332   \n",
       "75%                                   -499.283191   \n",
       "max                                   -244.483566   \n",
       "\n",
       "       secondary_cleaner.state.floatbank5_b_air  \\\n",
       "count                               5290.000000   \n",
       "mean                                   9.881145   \n",
       "std                                    2.868205   \n",
       "min                                    0.528083   \n",
       "25%                                    8.036719   \n",
       "50%                                   10.004301   \n",
       "75%                                   11.997467   \n",
       "max                                   14.086866   \n",
       "\n",
       "       secondary_cleaner.state.floatbank5_b_level  \\\n",
       "count                                 5290.000000   \n",
       "mean                                  -495.663398   \n",
       "std                                     34.535007   \n",
       "min                                   -800.220337   \n",
       "25%                                   -500.194668   \n",
       "50%                                   -499.990535   \n",
       "75%                                   -499.719913   \n",
       "max                                   -137.740004   \n",
       "\n",
       "       secondary_cleaner.state.floatbank6_a_air  \\\n",
       "count                               5290.000000   \n",
       "mean                                  17.304935   \n",
       "std                                    4.536544   \n",
       "min                                   -0.079426   \n",
       "25%                                   13.997317   \n",
       "50%                                   16.014935   \n",
       "75%                                   21.020013   \n",
       "max                                   26.705889   \n",
       "\n",
       "       secondary_cleaner.state.floatbank6_a_level  \n",
       "count                                 5290.000000  \n",
       "mean                                  -501.793193  \n",
       "std                                     39.044215  \n",
       "min                                   -809.741464  \n",
       "25%                                   -500.690984  \n",
       "50%                                   -500.007126  \n",
       "75%                                   -499.373018  \n",
       "max                                   -123.307487  \n",
       "\n",
       "[8 rows x 52 columns]"
      ]
     },
     "metadata": {},
     "output_type": "display_data"
    },
    {
     "name": "stdout",
     "output_type": "stream",
     "text": [
      "\n",
      " Дубликаты: 0 \n",
      "\n",
      "Файл gold_full \n",
      "\n",
      "Сводная информация о таблице: \n",
      "\n",
      "<class 'pandas.core.frame.DataFrame'>\n",
      "DatetimeIndex: 19439 entries, 2016-01-15 00:00:00 to 2018-08-18 10:59:59\n",
      "Data columns (total 86 columns):\n",
      " #   Column                                              Non-Null Count  Dtype  \n",
      "---  ------                                              --------------  -----  \n",
      " 0   final.output.concentrate_ag                         19438 non-null  float64\n",
      " 1   final.output.concentrate_pb                         19438 non-null  float64\n",
      " 2   final.output.concentrate_sol                        19228 non-null  float64\n",
      " 3   final.output.concentrate_au                         19439 non-null  float64\n",
      " 4   final.output.recovery                               19439 non-null  float64\n",
      " 5   final.output.tail_ag                                19438 non-null  float64\n",
      " 6   final.output.tail_pb                                19338 non-null  float64\n",
      " 7   final.output.tail_sol                               19433 non-null  float64\n",
      " 8   final.output.tail_au                                19439 non-null  float64\n",
      " 9   primary_cleaner.input.sulfate                       19415 non-null  float64\n",
      " 10  primary_cleaner.input.depressant                    19402 non-null  float64\n",
      " 11  primary_cleaner.input.feed_size                     19439 non-null  float64\n",
      " 12  primary_cleaner.input.xanthate                      19335 non-null  float64\n",
      " 13  primary_cleaner.output.concentrate_ag               19439 non-null  float64\n",
      " 14  primary_cleaner.output.concentrate_pb               19323 non-null  float64\n",
      " 15  primary_cleaner.output.concentrate_sol              19069 non-null  float64\n",
      " 16  primary_cleaner.output.concentrate_au               19439 non-null  float64\n",
      " 17  primary_cleaner.output.tail_ag                      19435 non-null  float64\n",
      " 18  primary_cleaner.output.tail_pb                      19418 non-null  float64\n",
      " 19  primary_cleaner.output.tail_sol                     19377 non-null  float64\n",
      " 20  primary_cleaner.output.tail_au                      19439 non-null  float64\n",
      " 21  primary_cleaner.state.floatbank8_a_air              19435 non-null  float64\n",
      " 22  primary_cleaner.state.floatbank8_a_level            19438 non-null  float64\n",
      " 23  primary_cleaner.state.floatbank8_b_air              19435 non-null  float64\n",
      " 24  primary_cleaner.state.floatbank8_b_level            19438 non-null  float64\n",
      " 25  primary_cleaner.state.floatbank8_c_air              19437 non-null  float64\n",
      " 26  primary_cleaner.state.floatbank8_c_level            19438 non-null  float64\n",
      " 27  primary_cleaner.state.floatbank8_d_air              19436 non-null  float64\n",
      " 28  primary_cleaner.state.floatbank8_d_level            19438 non-null  float64\n",
      " 29  rougher.calculation.sulfate_to_au_concentrate       19437 non-null  float64\n",
      " 30  rougher.calculation.floatbank10_sulfate_to_au_feed  19437 non-null  float64\n",
      " 31  rougher.calculation.floatbank11_sulfate_to_au_feed  19437 non-null  float64\n",
      " 32  rougher.calculation.au_pb_ratio                     19439 non-null  float64\n",
      " 33  rougher.input.feed_ag                               19439 non-null  float64\n",
      " 34  rougher.input.feed_pb                               19339 non-null  float64\n",
      " 35  rougher.input.feed_rate                             19428 non-null  float64\n",
      " 36  rougher.input.feed_size                             19294 non-null  float64\n",
      " 37  rougher.input.feed_sol                              19340 non-null  float64\n",
      " 38  rougher.input.feed_au                               19439 non-null  float64\n",
      " 39  rougher.input.floatbank10_sulfate                   19405 non-null  float64\n",
      " 40  rougher.input.floatbank10_xanthate                  19431 non-null  float64\n",
      " 41  rougher.input.floatbank11_sulfate                   19395 non-null  float64\n",
      " 42  rougher.input.floatbank11_xanthate                  18986 non-null  float64\n",
      " 43  rougher.output.concentrate_ag                       19439 non-null  float64\n",
      " 44  rougher.output.concentrate_pb                       19439 non-null  float64\n",
      " 45  rougher.output.concentrate_sol                      19416 non-null  float64\n",
      " 46  rougher.output.concentrate_au                       19439 non-null  float64\n",
      " 47  rougher.output.recovery                             19439 non-null  float64\n",
      " 48  rougher.output.tail_ag                              19438 non-null  float64\n",
      " 49  rougher.output.tail_pb                              19439 non-null  float64\n",
      " 50  rougher.output.tail_sol                             19439 non-null  float64\n",
      " 51  rougher.output.tail_au                              19439 non-null  float64\n",
      " 52  rougher.state.floatbank10_a_air                     19438 non-null  float64\n",
      " 53  rougher.state.floatbank10_a_level                   19438 non-null  float64\n",
      " 54  rougher.state.floatbank10_b_air                     19438 non-null  float64\n",
      " 55  rougher.state.floatbank10_b_level                   19438 non-null  float64\n",
      " 56  rougher.state.floatbank10_c_air                     19438 non-null  float64\n",
      " 57  rougher.state.floatbank10_c_level                   19438 non-null  float64\n",
      " 58  rougher.state.floatbank10_d_air                     19439 non-null  float64\n",
      " 59  rougher.state.floatbank10_d_level                   19439 non-null  float64\n",
      " 60  rougher.state.floatbank10_e_air                     19003 non-null  float64\n",
      " 61  rougher.state.floatbank10_e_level                   19439 non-null  float64\n",
      " 62  rougher.state.floatbank10_f_air                     19439 non-null  float64\n",
      " 63  rougher.state.floatbank10_f_level                   19439 non-null  float64\n",
      " 64  secondary_cleaner.output.tail_ag                    19437 non-null  float64\n",
      " 65  secondary_cleaner.output.tail_pb                    19427 non-null  float64\n",
      " 66  secondary_cleaner.output.tail_sol                   17691 non-null  float64\n",
      " 67  secondary_cleaner.output.tail_au                    19439 non-null  float64\n",
      " 68  secondary_cleaner.state.floatbank2_a_air            19219 non-null  float64\n",
      " 69  secondary_cleaner.state.floatbank2_a_level          19438 non-null  float64\n",
      " 70  secondary_cleaner.state.floatbank2_b_air            19416 non-null  float64\n",
      " 71  secondary_cleaner.state.floatbank2_b_level          19438 non-null  float64\n",
      " 72  secondary_cleaner.state.floatbank3_a_air            19426 non-null  float64\n",
      " 73  secondary_cleaner.state.floatbank3_a_level          19438 non-null  float64\n",
      " 74  secondary_cleaner.state.floatbank3_b_air            19438 non-null  float64\n",
      " 75  secondary_cleaner.state.floatbank3_b_level          19438 non-null  float64\n",
      " 76  secondary_cleaner.state.floatbank4_a_air            19433 non-null  float64\n",
      " 77  secondary_cleaner.state.floatbank4_a_level          19438 non-null  float64\n",
      " 78  secondary_cleaner.state.floatbank4_b_air            19438 non-null  float64\n",
      " 79  secondary_cleaner.state.floatbank4_b_level          19438 non-null  float64\n",
      " 80  secondary_cleaner.state.floatbank5_a_air            19438 non-null  float64\n",
      " 81  secondary_cleaner.state.floatbank5_a_level          19438 non-null  float64\n",
      " 82  secondary_cleaner.state.floatbank5_b_air            19438 non-null  float64\n",
      " 83  secondary_cleaner.state.floatbank5_b_level          19438 non-null  float64\n",
      " 84  secondary_cleaner.state.floatbank6_a_air            19437 non-null  float64\n",
      " 85  secondary_cleaner.state.floatbank6_a_level          19438 non-null  float64\n",
      "dtypes: float64(86)\n",
      "memory usage: 12.9 MB\n",
      "None\n",
      "\n",
      " Первые пять строк таблицы: \n",
      "\n"
     ]
    },
    {
     "data": {
      "text/html": [
       "<div>\n",
       "<style scoped>\n",
       "    .dataframe tbody tr th:only-of-type {\n",
       "        vertical-align: middle;\n",
       "    }\n",
       "\n",
       "    .dataframe tbody tr th {\n",
       "        vertical-align: top;\n",
       "    }\n",
       "\n",
       "    .dataframe thead th {\n",
       "        text-align: right;\n",
       "    }\n",
       "</style>\n",
       "<table border=\"1\" class=\"dataframe\">\n",
       "  <thead>\n",
       "    <tr style=\"text-align: right;\">\n",
       "      <th></th>\n",
       "      <th>final.output.concentrate_ag</th>\n",
       "      <th>final.output.concentrate_pb</th>\n",
       "      <th>final.output.concentrate_sol</th>\n",
       "      <th>final.output.concentrate_au</th>\n",
       "      <th>final.output.recovery</th>\n",
       "      <th>final.output.tail_ag</th>\n",
       "      <th>final.output.tail_pb</th>\n",
       "      <th>final.output.tail_sol</th>\n",
       "      <th>final.output.tail_au</th>\n",
       "      <th>primary_cleaner.input.sulfate</th>\n",
       "      <th>...</th>\n",
       "      <th>secondary_cleaner.state.floatbank4_a_air</th>\n",
       "      <th>secondary_cleaner.state.floatbank4_a_level</th>\n",
       "      <th>secondary_cleaner.state.floatbank4_b_air</th>\n",
       "      <th>secondary_cleaner.state.floatbank4_b_level</th>\n",
       "      <th>secondary_cleaner.state.floatbank5_a_air</th>\n",
       "      <th>secondary_cleaner.state.floatbank5_a_level</th>\n",
       "      <th>secondary_cleaner.state.floatbank5_b_air</th>\n",
       "      <th>secondary_cleaner.state.floatbank5_b_level</th>\n",
       "      <th>secondary_cleaner.state.floatbank6_a_air</th>\n",
       "      <th>secondary_cleaner.state.floatbank6_a_level</th>\n",
       "    </tr>\n",
       "    <tr>\n",
       "      <th>date</th>\n",
       "      <th></th>\n",
       "      <th></th>\n",
       "      <th></th>\n",
       "      <th></th>\n",
       "      <th></th>\n",
       "      <th></th>\n",
       "      <th></th>\n",
       "      <th></th>\n",
       "      <th></th>\n",
       "      <th></th>\n",
       "      <th></th>\n",
       "      <th></th>\n",
       "      <th></th>\n",
       "      <th></th>\n",
       "      <th></th>\n",
       "      <th></th>\n",
       "      <th></th>\n",
       "      <th></th>\n",
       "      <th></th>\n",
       "      <th></th>\n",
       "      <th></th>\n",
       "    </tr>\n",
       "  </thead>\n",
       "  <tbody>\n",
       "    <tr>\n",
       "      <th>2016-01-15 00:00:00</th>\n",
       "      <td>6.055403</td>\n",
       "      <td>9.889648</td>\n",
       "      <td>5.507324</td>\n",
       "      <td>42.192020</td>\n",
       "      <td>70.541216</td>\n",
       "      <td>10.411962</td>\n",
       "      <td>0.895447</td>\n",
       "      <td>16.904297</td>\n",
       "      <td>2.143149</td>\n",
       "      <td>127.092003</td>\n",
       "      <td>...</td>\n",
       "      <td>14.016835</td>\n",
       "      <td>-502.488007</td>\n",
       "      <td>12.099931</td>\n",
       "      <td>-504.715942</td>\n",
       "      <td>9.925633</td>\n",
       "      <td>-498.310211</td>\n",
       "      <td>8.079666</td>\n",
       "      <td>-500.470978</td>\n",
       "      <td>14.151341</td>\n",
       "      <td>-605.841980</td>\n",
       "    </tr>\n",
       "    <tr>\n",
       "      <th>2016-01-15 01:00:00</th>\n",
       "      <td>6.029369</td>\n",
       "      <td>9.968944</td>\n",
       "      <td>5.257781</td>\n",
       "      <td>42.701629</td>\n",
       "      <td>69.266198</td>\n",
       "      <td>10.462676</td>\n",
       "      <td>0.927452</td>\n",
       "      <td>16.634514</td>\n",
       "      <td>2.224930</td>\n",
       "      <td>125.629232</td>\n",
       "      <td>...</td>\n",
       "      <td>13.992281</td>\n",
       "      <td>-505.503262</td>\n",
       "      <td>11.950531</td>\n",
       "      <td>-501.331529</td>\n",
       "      <td>10.039245</td>\n",
       "      <td>-500.169983</td>\n",
       "      <td>7.984757</td>\n",
       "      <td>-500.582168</td>\n",
       "      <td>13.998353</td>\n",
       "      <td>-599.787184</td>\n",
       "    </tr>\n",
       "    <tr>\n",
       "      <th>2016-01-15 02:00:00</th>\n",
       "      <td>6.055926</td>\n",
       "      <td>10.213995</td>\n",
       "      <td>5.383759</td>\n",
       "      <td>42.657501</td>\n",
       "      <td>68.116445</td>\n",
       "      <td>10.507046</td>\n",
       "      <td>0.953716</td>\n",
       "      <td>16.208849</td>\n",
       "      <td>2.257889</td>\n",
       "      <td>123.819808</td>\n",
       "      <td>...</td>\n",
       "      <td>14.015015</td>\n",
       "      <td>-502.520901</td>\n",
       "      <td>11.912783</td>\n",
       "      <td>-501.133383</td>\n",
       "      <td>10.070913</td>\n",
       "      <td>-500.129135</td>\n",
       "      <td>8.013877</td>\n",
       "      <td>-500.517572</td>\n",
       "      <td>14.028663</td>\n",
       "      <td>-601.427363</td>\n",
       "    </tr>\n",
       "    <tr>\n",
       "      <th>2016-01-15 03:00:00</th>\n",
       "      <td>6.047977</td>\n",
       "      <td>9.977019</td>\n",
       "      <td>4.858634</td>\n",
       "      <td>42.689819</td>\n",
       "      <td>68.347543</td>\n",
       "      <td>10.422762</td>\n",
       "      <td>0.883763</td>\n",
       "      <td>16.532835</td>\n",
       "      <td>2.146849</td>\n",
       "      <td>122.270188</td>\n",
       "      <td>...</td>\n",
       "      <td>14.036510</td>\n",
       "      <td>-500.857308</td>\n",
       "      <td>11.999550</td>\n",
       "      <td>-501.193686</td>\n",
       "      <td>9.970366</td>\n",
       "      <td>-499.201640</td>\n",
       "      <td>7.977324</td>\n",
       "      <td>-500.255908</td>\n",
       "      <td>14.005551</td>\n",
       "      <td>-599.996129</td>\n",
       "    </tr>\n",
       "    <tr>\n",
       "      <th>2016-01-15 04:00:00</th>\n",
       "      <td>6.148599</td>\n",
       "      <td>10.142511</td>\n",
       "      <td>4.939416</td>\n",
       "      <td>42.774141</td>\n",
       "      <td>66.927016</td>\n",
       "      <td>10.360302</td>\n",
       "      <td>0.792826</td>\n",
       "      <td>16.525686</td>\n",
       "      <td>2.055292</td>\n",
       "      <td>117.988169</td>\n",
       "      <td>...</td>\n",
       "      <td>14.027298</td>\n",
       "      <td>-499.838632</td>\n",
       "      <td>11.953070</td>\n",
       "      <td>-501.053894</td>\n",
       "      <td>9.925709</td>\n",
       "      <td>-501.686727</td>\n",
       "      <td>7.894242</td>\n",
       "      <td>-500.356035</td>\n",
       "      <td>13.996647</td>\n",
       "      <td>-601.496691</td>\n",
       "    </tr>\n",
       "  </tbody>\n",
       "</table>\n",
       "<p>5 rows × 86 columns</p>\n",
       "</div>"
      ],
      "text/plain": [
       "                     final.output.concentrate_ag  final.output.concentrate_pb  \\\n",
       "date                                                                            \n",
       "2016-01-15 00:00:00                     6.055403                     9.889648   \n",
       "2016-01-15 01:00:00                     6.029369                     9.968944   \n",
       "2016-01-15 02:00:00                     6.055926                    10.213995   \n",
       "2016-01-15 03:00:00                     6.047977                     9.977019   \n",
       "2016-01-15 04:00:00                     6.148599                    10.142511   \n",
       "\n",
       "                     final.output.concentrate_sol  \\\n",
       "date                                                \n",
       "2016-01-15 00:00:00                      5.507324   \n",
       "2016-01-15 01:00:00                      5.257781   \n",
       "2016-01-15 02:00:00                      5.383759   \n",
       "2016-01-15 03:00:00                      4.858634   \n",
       "2016-01-15 04:00:00                      4.939416   \n",
       "\n",
       "                     final.output.concentrate_au  final.output.recovery  \\\n",
       "date                                                                      \n",
       "2016-01-15 00:00:00                    42.192020              70.541216   \n",
       "2016-01-15 01:00:00                    42.701629              69.266198   \n",
       "2016-01-15 02:00:00                    42.657501              68.116445   \n",
       "2016-01-15 03:00:00                    42.689819              68.347543   \n",
       "2016-01-15 04:00:00                    42.774141              66.927016   \n",
       "\n",
       "                     final.output.tail_ag  final.output.tail_pb  \\\n",
       "date                                                              \n",
       "2016-01-15 00:00:00             10.411962              0.895447   \n",
       "2016-01-15 01:00:00             10.462676              0.927452   \n",
       "2016-01-15 02:00:00             10.507046              0.953716   \n",
       "2016-01-15 03:00:00             10.422762              0.883763   \n",
       "2016-01-15 04:00:00             10.360302              0.792826   \n",
       "\n",
       "                     final.output.tail_sol  final.output.tail_au  \\\n",
       "date                                                               \n",
       "2016-01-15 00:00:00              16.904297              2.143149   \n",
       "2016-01-15 01:00:00              16.634514              2.224930   \n",
       "2016-01-15 02:00:00              16.208849              2.257889   \n",
       "2016-01-15 03:00:00              16.532835              2.146849   \n",
       "2016-01-15 04:00:00              16.525686              2.055292   \n",
       "\n",
       "                     primary_cleaner.input.sulfate  ...  \\\n",
       "date                                                ...   \n",
       "2016-01-15 00:00:00                     127.092003  ...   \n",
       "2016-01-15 01:00:00                     125.629232  ...   \n",
       "2016-01-15 02:00:00                     123.819808  ...   \n",
       "2016-01-15 03:00:00                     122.270188  ...   \n",
       "2016-01-15 04:00:00                     117.988169  ...   \n",
       "\n",
       "                     secondary_cleaner.state.floatbank4_a_air  \\\n",
       "date                                                            \n",
       "2016-01-15 00:00:00                                 14.016835   \n",
       "2016-01-15 01:00:00                                 13.992281   \n",
       "2016-01-15 02:00:00                                 14.015015   \n",
       "2016-01-15 03:00:00                                 14.036510   \n",
       "2016-01-15 04:00:00                                 14.027298   \n",
       "\n",
       "                     secondary_cleaner.state.floatbank4_a_level  \\\n",
       "date                                                              \n",
       "2016-01-15 00:00:00                                 -502.488007   \n",
       "2016-01-15 01:00:00                                 -505.503262   \n",
       "2016-01-15 02:00:00                                 -502.520901   \n",
       "2016-01-15 03:00:00                                 -500.857308   \n",
       "2016-01-15 04:00:00                                 -499.838632   \n",
       "\n",
       "                     secondary_cleaner.state.floatbank4_b_air  \\\n",
       "date                                                            \n",
       "2016-01-15 00:00:00                                 12.099931   \n",
       "2016-01-15 01:00:00                                 11.950531   \n",
       "2016-01-15 02:00:00                                 11.912783   \n",
       "2016-01-15 03:00:00                                 11.999550   \n",
       "2016-01-15 04:00:00                                 11.953070   \n",
       "\n",
       "                     secondary_cleaner.state.floatbank4_b_level  \\\n",
       "date                                                              \n",
       "2016-01-15 00:00:00                                 -504.715942   \n",
       "2016-01-15 01:00:00                                 -501.331529   \n",
       "2016-01-15 02:00:00                                 -501.133383   \n",
       "2016-01-15 03:00:00                                 -501.193686   \n",
       "2016-01-15 04:00:00                                 -501.053894   \n",
       "\n",
       "                     secondary_cleaner.state.floatbank5_a_air  \\\n",
       "date                                                            \n",
       "2016-01-15 00:00:00                                  9.925633   \n",
       "2016-01-15 01:00:00                                 10.039245   \n",
       "2016-01-15 02:00:00                                 10.070913   \n",
       "2016-01-15 03:00:00                                  9.970366   \n",
       "2016-01-15 04:00:00                                  9.925709   \n",
       "\n",
       "                     secondary_cleaner.state.floatbank5_a_level  \\\n",
       "date                                                              \n",
       "2016-01-15 00:00:00                                 -498.310211   \n",
       "2016-01-15 01:00:00                                 -500.169983   \n",
       "2016-01-15 02:00:00                                 -500.129135   \n",
       "2016-01-15 03:00:00                                 -499.201640   \n",
       "2016-01-15 04:00:00                                 -501.686727   \n",
       "\n",
       "                     secondary_cleaner.state.floatbank5_b_air  \\\n",
       "date                                                            \n",
       "2016-01-15 00:00:00                                  8.079666   \n",
       "2016-01-15 01:00:00                                  7.984757   \n",
       "2016-01-15 02:00:00                                  8.013877   \n",
       "2016-01-15 03:00:00                                  7.977324   \n",
       "2016-01-15 04:00:00                                  7.894242   \n",
       "\n",
       "                     secondary_cleaner.state.floatbank5_b_level  \\\n",
       "date                                                              \n",
       "2016-01-15 00:00:00                                 -500.470978   \n",
       "2016-01-15 01:00:00                                 -500.582168   \n",
       "2016-01-15 02:00:00                                 -500.517572   \n",
       "2016-01-15 03:00:00                                 -500.255908   \n",
       "2016-01-15 04:00:00                                 -500.356035   \n",
       "\n",
       "                     secondary_cleaner.state.floatbank6_a_air  \\\n",
       "date                                                            \n",
       "2016-01-15 00:00:00                                 14.151341   \n",
       "2016-01-15 01:00:00                                 13.998353   \n",
       "2016-01-15 02:00:00                                 14.028663   \n",
       "2016-01-15 03:00:00                                 14.005551   \n",
       "2016-01-15 04:00:00                                 13.996647   \n",
       "\n",
       "                     secondary_cleaner.state.floatbank6_a_level  \n",
       "date                                                             \n",
       "2016-01-15 00:00:00                                 -605.841980  \n",
       "2016-01-15 01:00:00                                 -599.787184  \n",
       "2016-01-15 02:00:00                                 -601.427363  \n",
       "2016-01-15 03:00:00                                 -599.996129  \n",
       "2016-01-15 04:00:00                                 -601.496691  \n",
       "\n",
       "[5 rows x 86 columns]"
      ]
     },
     "metadata": {},
     "output_type": "display_data"
    },
    {
     "name": "stdout",
     "output_type": "stream",
     "text": [
      "\n",
      " Статистические данные: \n",
      "\n"
     ]
    },
    {
     "data": {
      "text/html": [
       "<div>\n",
       "<style scoped>\n",
       "    .dataframe tbody tr th:only-of-type {\n",
       "        vertical-align: middle;\n",
       "    }\n",
       "\n",
       "    .dataframe tbody tr th {\n",
       "        vertical-align: top;\n",
       "    }\n",
       "\n",
       "    .dataframe thead th {\n",
       "        text-align: right;\n",
       "    }\n",
       "</style>\n",
       "<table border=\"1\" class=\"dataframe\">\n",
       "  <thead>\n",
       "    <tr style=\"text-align: right;\">\n",
       "      <th></th>\n",
       "      <th>final.output.concentrate_ag</th>\n",
       "      <th>final.output.concentrate_pb</th>\n",
       "      <th>final.output.concentrate_sol</th>\n",
       "      <th>final.output.concentrate_au</th>\n",
       "      <th>final.output.recovery</th>\n",
       "      <th>final.output.tail_ag</th>\n",
       "      <th>final.output.tail_pb</th>\n",
       "      <th>final.output.tail_sol</th>\n",
       "      <th>final.output.tail_au</th>\n",
       "      <th>primary_cleaner.input.sulfate</th>\n",
       "      <th>...</th>\n",
       "      <th>secondary_cleaner.state.floatbank4_a_air</th>\n",
       "      <th>secondary_cleaner.state.floatbank4_a_level</th>\n",
       "      <th>secondary_cleaner.state.floatbank4_b_air</th>\n",
       "      <th>secondary_cleaner.state.floatbank4_b_level</th>\n",
       "      <th>secondary_cleaner.state.floatbank5_a_air</th>\n",
       "      <th>secondary_cleaner.state.floatbank5_a_level</th>\n",
       "      <th>secondary_cleaner.state.floatbank5_b_air</th>\n",
       "      <th>secondary_cleaner.state.floatbank5_b_level</th>\n",
       "      <th>secondary_cleaner.state.floatbank6_a_air</th>\n",
       "      <th>secondary_cleaner.state.floatbank6_a_level</th>\n",
       "    </tr>\n",
       "  </thead>\n",
       "  <tbody>\n",
       "    <tr>\n",
       "      <th>count</th>\n",
       "      <td>19438.000000</td>\n",
       "      <td>19438.000000</td>\n",
       "      <td>19228.000000</td>\n",
       "      <td>19439.000000</td>\n",
       "      <td>19439.000000</td>\n",
       "      <td>19438.000000</td>\n",
       "      <td>19338.000000</td>\n",
       "      <td>19433.000000</td>\n",
       "      <td>19439.000000</td>\n",
       "      <td>19415.000000</td>\n",
       "      <td>...</td>\n",
       "      <td>19433.000000</td>\n",
       "      <td>19438.000000</td>\n",
       "      <td>19438.000000</td>\n",
       "      <td>19438.000000</td>\n",
       "      <td>19438.000000</td>\n",
       "      <td>19438.000000</td>\n",
       "      <td>19438.000000</td>\n",
       "      <td>19438.000000</td>\n",
       "      <td>19437.000000</td>\n",
       "      <td>19438.000000</td>\n",
       "    </tr>\n",
       "    <tr>\n",
       "      <th>mean</th>\n",
       "      <td>5.168470</td>\n",
       "      <td>9.978895</td>\n",
       "      <td>9.501224</td>\n",
       "      <td>44.076513</td>\n",
       "      <td>67.050208</td>\n",
       "      <td>9.688589</td>\n",
       "      <td>2.705795</td>\n",
       "      <td>10.583728</td>\n",
       "      <td>3.042467</td>\n",
       "      <td>144.624774</td>\n",
       "      <td>...</td>\n",
       "      <td>18.987674</td>\n",
       "      <td>-485.894516</td>\n",
       "      <td>15.010366</td>\n",
       "      <td>-461.078636</td>\n",
       "      <td>15.694452</td>\n",
       "      <td>-488.684065</td>\n",
       "      <td>12.198224</td>\n",
       "      <td>-487.149827</td>\n",
       "      <td>18.959024</td>\n",
       "      <td>-505.436305</td>\n",
       "    </tr>\n",
       "    <tr>\n",
       "      <th>std</th>\n",
       "      <td>1.372348</td>\n",
       "      <td>1.669240</td>\n",
       "      <td>2.787537</td>\n",
       "      <td>5.129784</td>\n",
       "      <td>10.125840</td>\n",
       "      <td>2.328642</td>\n",
       "      <td>0.949077</td>\n",
       "      <td>2.868782</td>\n",
       "      <td>0.922808</td>\n",
       "      <td>44.464071</td>\n",
       "      <td>...</td>\n",
       "      <td>5.411058</td>\n",
       "      <td>47.758570</td>\n",
       "      <td>4.890228</td>\n",
       "      <td>67.405524</td>\n",
       "      <td>5.510974</td>\n",
       "      <td>34.533396</td>\n",
       "      <td>5.333024</td>\n",
       "      <td>38.347312</td>\n",
       "      <td>5.550498</td>\n",
       "      <td>37.689057</td>\n",
       "    </tr>\n",
       "    <tr>\n",
       "      <th>min</th>\n",
       "      <td>0.000000</td>\n",
       "      <td>0.000000</td>\n",
       "      <td>0.000000</td>\n",
       "      <td>0.000000</td>\n",
       "      <td>0.000000</td>\n",
       "      <td>0.000000</td>\n",
       "      <td>0.000000</td>\n",
       "      <td>0.000000</td>\n",
       "      <td>0.000000</td>\n",
       "      <td>0.003112</td>\n",
       "      <td>...</td>\n",
       "      <td>0.000000</td>\n",
       "      <td>-799.798523</td>\n",
       "      <td>0.000000</td>\n",
       "      <td>-800.836914</td>\n",
       "      <td>-0.372054</td>\n",
       "      <td>-797.323986</td>\n",
       "      <td>0.528083</td>\n",
       "      <td>-800.220337</td>\n",
       "      <td>-0.079426</td>\n",
       "      <td>-809.741464</td>\n",
       "    </tr>\n",
       "    <tr>\n",
       "      <th>25%</th>\n",
       "      <td>4.251240</td>\n",
       "      <td>9.137262</td>\n",
       "      <td>7.722820</td>\n",
       "      <td>43.402215</td>\n",
       "      <td>63.299712</td>\n",
       "      <td>8.062878</td>\n",
       "      <td>2.040119</td>\n",
       "      <td>8.938947</td>\n",
       "      <td>2.461138</td>\n",
       "      <td>114.107029</td>\n",
       "      <td>...</td>\n",
       "      <td>14.975734</td>\n",
       "      <td>-500.704892</td>\n",
       "      <td>11.940294</td>\n",
       "      <td>-500.187742</td>\n",
       "      <td>10.988606</td>\n",
       "      <td>-500.458467</td>\n",
       "      <td>8.971105</td>\n",
       "      <td>-500.129462</td>\n",
       "      <td>14.983037</td>\n",
       "      <td>-500.728067</td>\n",
       "    </tr>\n",
       "    <tr>\n",
       "      <th>50%</th>\n",
       "      <td>5.066094</td>\n",
       "      <td>10.102433</td>\n",
       "      <td>9.218961</td>\n",
       "      <td>45.011244</td>\n",
       "      <td>68.172738</td>\n",
       "      <td>9.743623</td>\n",
       "      <td>2.748730</td>\n",
       "      <td>10.622456</td>\n",
       "      <td>2.984909</td>\n",
       "      <td>143.232103</td>\n",
       "      <td>...</td>\n",
       "      <td>18.017481</td>\n",
       "      <td>-499.837793</td>\n",
       "      <td>14.971014</td>\n",
       "      <td>-499.459786</td>\n",
       "      <td>15.000036</td>\n",
       "      <td>-499.802605</td>\n",
       "      <td>11.019433</td>\n",
       "      <td>-499.935317</td>\n",
       "      <td>19.960541</td>\n",
       "      <td>-500.048400</td>\n",
       "    </tr>\n",
       "    <tr>\n",
       "      <th>75%</th>\n",
       "      <td>5.895527</td>\n",
       "      <td>11.035769</td>\n",
       "      <td>10.947813</td>\n",
       "      <td>46.275313</td>\n",
       "      <td>72.686642</td>\n",
       "      <td>11.134294</td>\n",
       "      <td>3.333216</td>\n",
       "      <td>12.104271</td>\n",
       "      <td>3.571351</td>\n",
       "      <td>175.075656</td>\n",
       "      <td>...</td>\n",
       "      <td>23.012470</td>\n",
       "      <td>-498.249730</td>\n",
       "      <td>19.034162</td>\n",
       "      <td>-400.118106</td>\n",
       "      <td>18.026190</td>\n",
       "      <td>-498.384187</td>\n",
       "      <td>14.019088</td>\n",
       "      <td>-499.436708</td>\n",
       "      <td>24.003170</td>\n",
       "      <td>-499.495378</td>\n",
       "    </tr>\n",
       "    <tr>\n",
       "      <th>max</th>\n",
       "      <td>16.001945</td>\n",
       "      <td>17.031899</td>\n",
       "      <td>19.615720</td>\n",
       "      <td>52.756638</td>\n",
       "      <td>100.000000</td>\n",
       "      <td>19.552149</td>\n",
       "      <td>5.804178</td>\n",
       "      <td>22.317730</td>\n",
       "      <td>8.245022</td>\n",
       "      <td>265.983123</td>\n",
       "      <td>...</td>\n",
       "      <td>30.115735</td>\n",
       "      <td>-245.239184</td>\n",
       "      <td>31.269706</td>\n",
       "      <td>-6.506986</td>\n",
       "      <td>43.709931</td>\n",
       "      <td>-244.483566</td>\n",
       "      <td>27.926001</td>\n",
       "      <td>-137.740004</td>\n",
       "      <td>32.188906</td>\n",
       "      <td>-104.427459</td>\n",
       "    </tr>\n",
       "  </tbody>\n",
       "</table>\n",
       "<p>8 rows × 86 columns</p>\n",
       "</div>"
      ],
      "text/plain": [
       "       final.output.concentrate_ag  final.output.concentrate_pb  \\\n",
       "count                 19438.000000                 19438.000000   \n",
       "mean                      5.168470                     9.978895   \n",
       "std                       1.372348                     1.669240   \n",
       "min                       0.000000                     0.000000   \n",
       "25%                       4.251240                     9.137262   \n",
       "50%                       5.066094                    10.102433   \n",
       "75%                       5.895527                    11.035769   \n",
       "max                      16.001945                    17.031899   \n",
       "\n",
       "       final.output.concentrate_sol  final.output.concentrate_au  \\\n",
       "count                  19228.000000                 19439.000000   \n",
       "mean                       9.501224                    44.076513   \n",
       "std                        2.787537                     5.129784   \n",
       "min                        0.000000                     0.000000   \n",
       "25%                        7.722820                    43.402215   \n",
       "50%                        9.218961                    45.011244   \n",
       "75%                       10.947813                    46.275313   \n",
       "max                       19.615720                    52.756638   \n",
       "\n",
       "       final.output.recovery  final.output.tail_ag  final.output.tail_pb  \\\n",
       "count           19439.000000          19438.000000          19338.000000   \n",
       "mean               67.050208              9.688589              2.705795   \n",
       "std                10.125840              2.328642              0.949077   \n",
       "min                 0.000000              0.000000              0.000000   \n",
       "25%                63.299712              8.062878              2.040119   \n",
       "50%                68.172738              9.743623              2.748730   \n",
       "75%                72.686642             11.134294              3.333216   \n",
       "max               100.000000             19.552149              5.804178   \n",
       "\n",
       "       final.output.tail_sol  final.output.tail_au  \\\n",
       "count           19433.000000          19439.000000   \n",
       "mean               10.583728              3.042467   \n",
       "std                 2.868782              0.922808   \n",
       "min                 0.000000              0.000000   \n",
       "25%                 8.938947              2.461138   \n",
       "50%                10.622456              2.984909   \n",
       "75%                12.104271              3.571351   \n",
       "max                22.317730              8.245022   \n",
       "\n",
       "       primary_cleaner.input.sulfate  ...  \\\n",
       "count                   19415.000000  ...   \n",
       "mean                      144.624774  ...   \n",
       "std                        44.464071  ...   \n",
       "min                         0.003112  ...   \n",
       "25%                       114.107029  ...   \n",
       "50%                       143.232103  ...   \n",
       "75%                       175.075656  ...   \n",
       "max                       265.983123  ...   \n",
       "\n",
       "       secondary_cleaner.state.floatbank4_a_air  \\\n",
       "count                              19433.000000   \n",
       "mean                                  18.987674   \n",
       "std                                    5.411058   \n",
       "min                                    0.000000   \n",
       "25%                                   14.975734   \n",
       "50%                                   18.017481   \n",
       "75%                                   23.012470   \n",
       "max                                   30.115735   \n",
       "\n",
       "       secondary_cleaner.state.floatbank4_a_level  \\\n",
       "count                                19438.000000   \n",
       "mean                                  -485.894516   \n",
       "std                                     47.758570   \n",
       "min                                   -799.798523   \n",
       "25%                                   -500.704892   \n",
       "50%                                   -499.837793   \n",
       "75%                                   -498.249730   \n",
       "max                                   -245.239184   \n",
       "\n",
       "       secondary_cleaner.state.floatbank4_b_air  \\\n",
       "count                              19438.000000   \n",
       "mean                                  15.010366   \n",
       "std                                    4.890228   \n",
       "min                                    0.000000   \n",
       "25%                                   11.940294   \n",
       "50%                                   14.971014   \n",
       "75%                                   19.034162   \n",
       "max                                   31.269706   \n",
       "\n",
       "       secondary_cleaner.state.floatbank4_b_level  \\\n",
       "count                                19438.000000   \n",
       "mean                                  -461.078636   \n",
       "std                                     67.405524   \n",
       "min                                   -800.836914   \n",
       "25%                                   -500.187742   \n",
       "50%                                   -499.459786   \n",
       "75%                                   -400.118106   \n",
       "max                                     -6.506986   \n",
       "\n",
       "       secondary_cleaner.state.floatbank5_a_air  \\\n",
       "count                              19438.000000   \n",
       "mean                                  15.694452   \n",
       "std                                    5.510974   \n",
       "min                                   -0.372054   \n",
       "25%                                   10.988606   \n",
       "50%                                   15.000036   \n",
       "75%                                   18.026190   \n",
       "max                                   43.709931   \n",
       "\n",
       "       secondary_cleaner.state.floatbank5_a_level  \\\n",
       "count                                19438.000000   \n",
       "mean                                  -488.684065   \n",
       "std                                     34.533396   \n",
       "min                                   -797.323986   \n",
       "25%                                   -500.458467   \n",
       "50%                                   -499.802605   \n",
       "75%                                   -498.384187   \n",
       "max                                   -244.483566   \n",
       "\n",
       "       secondary_cleaner.state.floatbank5_b_air  \\\n",
       "count                              19438.000000   \n",
       "mean                                  12.198224   \n",
       "std                                    5.333024   \n",
       "min                                    0.528083   \n",
       "25%                                    8.971105   \n",
       "50%                                   11.019433   \n",
       "75%                                   14.019088   \n",
       "max                                   27.926001   \n",
       "\n",
       "       secondary_cleaner.state.floatbank5_b_level  \\\n",
       "count                                19438.000000   \n",
       "mean                                  -487.149827   \n",
       "std                                     38.347312   \n",
       "min                                   -800.220337   \n",
       "25%                                   -500.129462   \n",
       "50%                                   -499.935317   \n",
       "75%                                   -499.436708   \n",
       "max                                   -137.740004   \n",
       "\n",
       "       secondary_cleaner.state.floatbank6_a_air  \\\n",
       "count                              19437.000000   \n",
       "mean                                  18.959024   \n",
       "std                                    5.550498   \n",
       "min                                   -0.079426   \n",
       "25%                                   14.983037   \n",
       "50%                                   19.960541   \n",
       "75%                                   24.003170   \n",
       "max                                   32.188906   \n",
       "\n",
       "       secondary_cleaner.state.floatbank6_a_level  \n",
       "count                                19438.000000  \n",
       "mean                                  -505.436305  \n",
       "std                                     37.689057  \n",
       "min                                   -809.741464  \n",
       "25%                                   -500.728067  \n",
       "50%                                   -500.048400  \n",
       "75%                                   -499.495378  \n",
       "max                                   -104.427459  \n",
       "\n",
       "[8 rows x 86 columns]"
      ]
     },
     "metadata": {},
     "output_type": "display_data"
    },
    {
     "name": "stdout",
     "output_type": "stream",
     "text": [
      "\n",
      " Дубликаты: 0 \n",
      "\n"
     ]
    }
   ],
   "source": [
    "def name(gold):\n",
    "    name = [x for x in globals() if globals()[x] is gold][0]\n",
    "    return name\n",
    "\n",
    "golds = [gold_train, gold_test, gold_full]\n",
    "for gold in golds:\n",
    "    print('Файл',name(gold), \"\\n\")\n",
    "    print('Сводная информация о таблице:', \"\\n\")\n",
    "    print(gold.info())\n",
    "    print(\"\\n\", 'Первые пять строк таблицы:', \"\\n\")\n",
    "    display(gold.head())\n",
    "    print(\"\\n\", 'Статистические данные:', \"\\n\")\n",
    "    display(gold.describe()) \n",
    "    print(\"\\n\", 'Дубликаты:', gold.duplicated().sum(), \"\\n\")      "
   ]
  },
  {
   "cell_type": "markdown",
   "metadata": {},
   "source": [
    "**Вывод** \n",
    "\n",
    "Представлено три файла с параметрами добычи и очистки золотосодержащей руды:\n",
    "* Обучающая выборка\n",
    "* Тестовая выборка\n",
    "* Исходные данные\n",
    "\n",
    "В каждом  файле содержатся пропущенные значения. Дубликаты не обнаружены.\n",
    "\n",
    "Таблица gold_train (обучающая выборка) содержит 86 столбцов (тип данных float64) и 14149 строк.\n",
    "\n",
    "Таблица gold_test (тестовая выборка) содержит 53 столбца (тип данных float64) и 5290 строк.\n",
    "\n",
    "Таблица gold_full (исходные данные) содержит 87 столбцов (тип данных float64) и 19439 строк.\n",
    "\n",
    "**Описание данных**\n",
    "\n",
    "**Технологический процесс**\n",
    "* Rougher feed — исходное сырье\n",
    "* Rougher additions (или reagent additions) — флотационные реагенты: Xanthate, Sulphate, Depressant\n",
    "* Xanthate — ксантогенат (промотер, или активатор флотации);\n",
    "* Sulphate — сульфат (на данном производстве сульфид натрия);\n",
    "* Depressant — депрессант (силикат натрия).\n",
    "* Rougher process (англ. «грубый процесс») — флотация\n",
    "* Rougher tails — отвальные хвосты\n",
    "* Float banks — флотационная установка\n",
    "* Cleaner process — очистка\n",
    "* Rougher Au — черновой концентрат золота\n",
    "* Final Au — финальный концентрат золота\n",
    "\n",
    "**Параметры этапов**\n",
    "\n",
    "* air amount — объём воздуха\n",
    "* fluid levels — уровень жидкости\n",
    "* feed size — размер гранул сырья\n",
    "* feed rate — скорость подачи\n",
    "\n",
    "**Наименование признаков**\n",
    "\n",
    "Наименование признаков должно быть такое:\n",
    "\n",
    "[этап].[тип_параметра].[название_параметра]\n",
    "\n",
    "Пример: rougher.input.feed_ag\n",
    "\n",
    "Возможные значения для блока [этап]:\n",
    "\n",
    "* rougher — флотация\n",
    "* primary_cleaner — первичная очистка\n",
    "* secondary_cleaner — вторичная очистка\n",
    "* final — финальные характеристики\n",
    "\n",
    "Возможные значения для блока [тип_параметра]:\n",
    "\n",
    "* input — параметры сырья\n",
    "* output — параметры продукта\n",
    "* state — параметры, характеризующие текущее состояние этапа\n",
    "* calculation — расчётные характеристики"
   ]
  },
  {
   "cell_type": "markdown",
   "metadata": {},
   "source": [
    "### Проверка рассчета эффективности обогащения"
   ]
  },
  {
   "cell_type": "markdown",
   "metadata": {},
   "source": [
    "Проверим, что эффективность обогащения рассчитана правильно. Вычислим её на обучающей выборке для признака rougher.output.recovery. Найдем MAE между нашими расчётами и значением признака. \n",
    "\n",
    "Для прогноза коэффициента нужно найти долю золота в концентратах и хвостах. Причём важен не только финальный продукт, но и черновой концентрат."
   ]
  },
  {
   "cell_type": "code",
   "execution_count": 46,
   "metadata": {
    "scrolled": true
   },
   "outputs": [
    {
     "data": {
      "text/plain": [
       "date\n",
       "2016-01-15 00:00:00    87.107763\n",
       "2016-01-15 01:00:00    86.843261\n",
       "2016-01-15 02:00:00    86.842308\n",
       "2016-01-15 03:00:00    87.226430\n",
       "2016-01-15 04:00:00    86.688794\n",
       "Name: recovery, dtype: float64"
      ]
     },
     "execution_count": 46,
     "metadata": {},
     "output_type": "execute_result"
    }
   ],
   "source": [
    "gold_train['recovery'] = (\n",
    "                          (gold_train['rougher.output.concentrate_au'] * \n",
    "                          (gold_train['rougher.input.feed_au'] - \n",
    "                           gold_train['rougher.output.tail_au'])) / \n",
    "                          (gold_train['rougher.input.feed_au'] * \n",
    "                          (gold_train['rougher.output.concentrate_au'] - \n",
    "                           gold_train['rougher.output.tail_au'])) * 100\n",
    ")\n",
    "\n",
    "gold_train['recovery'].head()"
   ]
  },
  {
   "cell_type": "code",
   "execution_count": 47,
   "metadata": {
    "scrolled": false
   },
   "outputs": [
    {
     "data": {
      "text/plain": [
       "9.73512347450521e-15"
      ]
     },
     "execution_count": 47,
     "metadata": {},
     "output_type": "execute_result"
    }
   ],
   "source": [
    "mean_absolute_error(gold_train['recovery'], gold_train['rougher.output.recovery'])"
   ]
  },
  {
   "cell_type": "markdown",
   "metadata": {},
   "source": [
    "Таким образом, МАЕ очень маленькое (порядка 10^-15), поэтому можно считать, что формула корректна."
   ]
  },
  {
   "cell_type": "markdown",
   "metadata": {},
   "source": [
    "### Анализ признаков, недоступных в тестовой выборке"
   ]
  },
  {
   "cell_type": "markdown",
   "metadata": {},
   "source": [
    "Проведем анализ признаков, недоступных в тестовой выборке. "
   ]
  },
  {
   "cell_type": "code",
   "execution_count": 48,
   "metadata": {
    "scrolled": false
   },
   "outputs": [
    {
     "data": {
      "text/plain": [
       "['final.output.tail_au',\n",
       " 'primary_cleaner.output.tail_au',\n",
       " 'final.output.concentrate_sol',\n",
       " 'secondary_cleaner.output.tail_au',\n",
       " 'rougher.output.concentrate_sol',\n",
       " 'final.output.concentrate_au',\n",
       " 'rougher.calculation.floatbank11_sulfate_to_au_feed',\n",
       " 'secondary_cleaner.output.tail_sol',\n",
       " 'rougher.output.concentrate_au',\n",
       " 'rougher.output.tail_pb',\n",
       " 'primary_cleaner.output.concentrate_au',\n",
       " 'primary_cleaner.output.tail_sol',\n",
       " 'secondary_cleaner.output.tail_ag',\n",
       " 'final.output.concentrate_ag',\n",
       " 'rougher.output.tail_ag',\n",
       " 'primary_cleaner.output.tail_pb',\n",
       " 'final.output.concentrate_pb',\n",
       " 'rougher.calculation.sulfate_to_au_concentrate',\n",
       " 'primary_cleaner.output.tail_ag',\n",
       " 'final.output.tail_sol',\n",
       " 'final.output.recovery',\n",
       " 'primary_cleaner.output.concentrate_pb',\n",
       " 'primary_cleaner.output.concentrate_sol',\n",
       " 'rougher.output.concentrate_pb',\n",
       " 'rougher.output.recovery',\n",
       " 'rougher.output.tail_au',\n",
       " 'primary_cleaner.output.concentrate_ag',\n",
       " 'final.output.tail_pb',\n",
       " 'final.output.tail_ag',\n",
       " 'rougher.calculation.au_pb_ratio',\n",
       " 'secondary_cleaner.output.tail_pb',\n",
       " 'recovery',\n",
       " 'rougher.output.tail_sol',\n",
       " 'rougher.output.concentrate_ag',\n",
       " 'rougher.calculation.floatbank10_sulfate_to_au_feed']"
      ]
     },
     "execution_count": 48,
     "metadata": {},
     "output_type": "execute_result"
    }
   ],
   "source": [
    "difference_columns = list(set(gold_train.columns) - set(gold_test.columns))\n",
    "difference_columns"
   ]
  },
  {
   "cell_type": "markdown",
   "metadata": {},
   "source": [
    "В **тестовой выборке** отсутствуют два типа параметров: \n",
    "* **output** (параметры продукта);\n",
    "* **calculation** (расчётные характеристики).\n",
    "\n",
    "**Общие** типы данных для обеих выборок: \n",
    "* **input** (параметры сырья); \n",
    "* **state** (параметры, характеризующие текущее состояние этапа)."
   ]
  },
  {
   "cell_type": "markdown",
   "metadata": {},
   "source": [
    "### Предобработка данных"
   ]
  },
  {
   "cell_type": "markdown",
   "metadata": {},
   "source": [
    "**Пропущенные значения.**"
   ]
  },
  {
   "cell_type": "markdown",
   "metadata": {},
   "source": [
    "Обучающая и тестовая выборка имеют пропущенные значения. Так как, по условию технического задания, соседние по времени параметры часто похожи, то используем метод  ffill."
   ]
  },
  {
   "cell_type": "code",
   "execution_count": 49,
   "metadata": {
    "scrolled": true
   },
   "outputs": [],
   "source": [
    "gold_train = gold_train.fillna(method='ffill')\n",
    "gold_test = gold_test.fillna(method='ffill')"
   ]
  },
  {
   "cell_type": "code",
   "execution_count": 50,
   "metadata": {
    "scrolled": false
   },
   "outputs": [
    {
     "name": "stdout",
     "output_type": "stream",
     "text": [
      "<class 'pandas.core.frame.DataFrame'>\n",
      "DatetimeIndex: 14149 entries, 2016-01-15 00:00:00 to 2018-08-18 10:59:59\n",
      "Data columns (total 87 columns):\n",
      " #   Column                                              Non-Null Count  Dtype  \n",
      "---  ------                                              --------------  -----  \n",
      " 0   final.output.concentrate_ag                         14149 non-null  float64\n",
      " 1   final.output.concentrate_pb                         14149 non-null  float64\n",
      " 2   final.output.concentrate_sol                        14149 non-null  float64\n",
      " 3   final.output.concentrate_au                         14149 non-null  float64\n",
      " 4   final.output.recovery                               14149 non-null  float64\n",
      " 5   final.output.tail_ag                                14149 non-null  float64\n",
      " 6   final.output.tail_pb                                14149 non-null  float64\n",
      " 7   final.output.tail_sol                               14149 non-null  float64\n",
      " 8   final.output.tail_au                                14149 non-null  float64\n",
      " 9   primary_cleaner.input.sulfate                       14149 non-null  float64\n",
      " 10  primary_cleaner.input.depressant                    14149 non-null  float64\n",
      " 11  primary_cleaner.input.feed_size                     14149 non-null  float64\n",
      " 12  primary_cleaner.input.xanthate                      14149 non-null  float64\n",
      " 13  primary_cleaner.output.concentrate_ag               14149 non-null  float64\n",
      " 14  primary_cleaner.output.concentrate_pb               14149 non-null  float64\n",
      " 15  primary_cleaner.output.concentrate_sol              14149 non-null  float64\n",
      " 16  primary_cleaner.output.concentrate_au               14149 non-null  float64\n",
      " 17  primary_cleaner.output.tail_ag                      14149 non-null  float64\n",
      " 18  primary_cleaner.output.tail_pb                      14149 non-null  float64\n",
      " 19  primary_cleaner.output.tail_sol                     14149 non-null  float64\n",
      " 20  primary_cleaner.output.tail_au                      14149 non-null  float64\n",
      " 21  primary_cleaner.state.floatbank8_a_air              14149 non-null  float64\n",
      " 22  primary_cleaner.state.floatbank8_a_level            14149 non-null  float64\n",
      " 23  primary_cleaner.state.floatbank8_b_air              14149 non-null  float64\n",
      " 24  primary_cleaner.state.floatbank8_b_level            14149 non-null  float64\n",
      " 25  primary_cleaner.state.floatbank8_c_air              14149 non-null  float64\n",
      " 26  primary_cleaner.state.floatbank8_c_level            14149 non-null  float64\n",
      " 27  primary_cleaner.state.floatbank8_d_air              14149 non-null  float64\n",
      " 28  primary_cleaner.state.floatbank8_d_level            14149 non-null  float64\n",
      " 29  rougher.calculation.sulfate_to_au_concentrate       14149 non-null  float64\n",
      " 30  rougher.calculation.floatbank10_sulfate_to_au_feed  14149 non-null  float64\n",
      " 31  rougher.calculation.floatbank11_sulfate_to_au_feed  14149 non-null  float64\n",
      " 32  rougher.calculation.au_pb_ratio                     14149 non-null  float64\n",
      " 33  rougher.input.feed_ag                               14149 non-null  float64\n",
      " 34  rougher.input.feed_pb                               14149 non-null  float64\n",
      " 35  rougher.input.feed_rate                             14149 non-null  float64\n",
      " 36  rougher.input.feed_size                             14149 non-null  float64\n",
      " 37  rougher.input.feed_sol                              14149 non-null  float64\n",
      " 38  rougher.input.feed_au                               14149 non-null  float64\n",
      " 39  rougher.input.floatbank10_sulfate                   14149 non-null  float64\n",
      " 40  rougher.input.floatbank10_xanthate                  14149 non-null  float64\n",
      " 41  rougher.input.floatbank11_sulfate                   14149 non-null  float64\n",
      " 42  rougher.input.floatbank11_xanthate                  14149 non-null  float64\n",
      " 43  rougher.output.concentrate_ag                       14149 non-null  float64\n",
      " 44  rougher.output.concentrate_pb                       14149 non-null  float64\n",
      " 45  rougher.output.concentrate_sol                      14149 non-null  float64\n",
      " 46  rougher.output.concentrate_au                       14149 non-null  float64\n",
      " 47  rougher.output.recovery                             14149 non-null  float64\n",
      " 48  rougher.output.tail_ag                              14149 non-null  float64\n",
      " 49  rougher.output.tail_pb                              14149 non-null  float64\n",
      " 50  rougher.output.tail_sol                             14149 non-null  float64\n",
      " 51  rougher.output.tail_au                              14149 non-null  float64\n",
      " 52  rougher.state.floatbank10_a_air                     14149 non-null  float64\n",
      " 53  rougher.state.floatbank10_a_level                   14149 non-null  float64\n",
      " 54  rougher.state.floatbank10_b_air                     14149 non-null  float64\n",
      " 55  rougher.state.floatbank10_b_level                   14149 non-null  float64\n",
      " 56  rougher.state.floatbank10_c_air                     14149 non-null  float64\n",
      " 57  rougher.state.floatbank10_c_level                   14149 non-null  float64\n",
      " 58  rougher.state.floatbank10_d_air                     14149 non-null  float64\n",
      " 59  rougher.state.floatbank10_d_level                   14149 non-null  float64\n",
      " 60  rougher.state.floatbank10_e_air                     14149 non-null  float64\n",
      " 61  rougher.state.floatbank10_e_level                   14149 non-null  float64\n",
      " 62  rougher.state.floatbank10_f_air                     14149 non-null  float64\n",
      " 63  rougher.state.floatbank10_f_level                   14149 non-null  float64\n",
      " 64  secondary_cleaner.output.tail_ag                    14149 non-null  float64\n",
      " 65  secondary_cleaner.output.tail_pb                    14149 non-null  float64\n",
      " 66  secondary_cleaner.output.tail_sol                   14149 non-null  float64\n",
      " 67  secondary_cleaner.output.tail_au                    14149 non-null  float64\n",
      " 68  secondary_cleaner.state.floatbank2_a_air            14149 non-null  float64\n",
      " 69  secondary_cleaner.state.floatbank2_a_level          14149 non-null  float64\n",
      " 70  secondary_cleaner.state.floatbank2_b_air            14149 non-null  float64\n",
      " 71  secondary_cleaner.state.floatbank2_b_level          14149 non-null  float64\n",
      " 72  secondary_cleaner.state.floatbank3_a_air            14149 non-null  float64\n",
      " 73  secondary_cleaner.state.floatbank3_a_level          14149 non-null  float64\n",
      " 74  secondary_cleaner.state.floatbank3_b_air            14149 non-null  float64\n",
      " 75  secondary_cleaner.state.floatbank3_b_level          14149 non-null  float64\n",
      " 76  secondary_cleaner.state.floatbank4_a_air            14149 non-null  float64\n",
      " 77  secondary_cleaner.state.floatbank4_a_level          14149 non-null  float64\n",
      " 78  secondary_cleaner.state.floatbank4_b_air            14149 non-null  float64\n",
      " 79  secondary_cleaner.state.floatbank4_b_level          14149 non-null  float64\n",
      " 80  secondary_cleaner.state.floatbank5_a_air            14149 non-null  float64\n",
      " 81  secondary_cleaner.state.floatbank5_a_level          14149 non-null  float64\n",
      " 82  secondary_cleaner.state.floatbank5_b_air            14149 non-null  float64\n",
      " 83  secondary_cleaner.state.floatbank5_b_level          14149 non-null  float64\n",
      " 84  secondary_cleaner.state.floatbank6_a_air            14149 non-null  float64\n",
      " 85  secondary_cleaner.state.floatbank6_a_level          14149 non-null  float64\n",
      " 86  recovery                                            14149 non-null  float64\n",
      "dtypes: float64(87)\n",
      "memory usage: 9.5 MB\n"
     ]
    }
   ],
   "source": [
    "gold_train.info()"
   ]
  },
  {
   "cell_type": "code",
   "execution_count": 51,
   "metadata": {
    "scrolled": false
   },
   "outputs": [
    {
     "name": "stdout",
     "output_type": "stream",
     "text": [
      "<class 'pandas.core.frame.DataFrame'>\n",
      "DatetimeIndex: 5290 entries, 2016-09-01 00:59:59 to 2017-12-31 23:59:59\n",
      "Data columns (total 52 columns):\n",
      " #   Column                                      Non-Null Count  Dtype  \n",
      "---  ------                                      --------------  -----  \n",
      " 0   primary_cleaner.input.sulfate               5290 non-null   float64\n",
      " 1   primary_cleaner.input.depressant            5290 non-null   float64\n",
      " 2   primary_cleaner.input.feed_size             5290 non-null   float64\n",
      " 3   primary_cleaner.input.xanthate              5290 non-null   float64\n",
      " 4   primary_cleaner.state.floatbank8_a_air      5290 non-null   float64\n",
      " 5   primary_cleaner.state.floatbank8_a_level    5290 non-null   float64\n",
      " 6   primary_cleaner.state.floatbank8_b_air      5290 non-null   float64\n",
      " 7   primary_cleaner.state.floatbank8_b_level    5290 non-null   float64\n",
      " 8   primary_cleaner.state.floatbank8_c_air      5290 non-null   float64\n",
      " 9   primary_cleaner.state.floatbank8_c_level    5290 non-null   float64\n",
      " 10  primary_cleaner.state.floatbank8_d_air      5290 non-null   float64\n",
      " 11  primary_cleaner.state.floatbank8_d_level    5290 non-null   float64\n",
      " 12  rougher.input.feed_ag                       5290 non-null   float64\n",
      " 13  rougher.input.feed_pb                       5290 non-null   float64\n",
      " 14  rougher.input.feed_rate                     5290 non-null   float64\n",
      " 15  rougher.input.feed_size                     5290 non-null   float64\n",
      " 16  rougher.input.feed_sol                      5290 non-null   float64\n",
      " 17  rougher.input.feed_au                       5290 non-null   float64\n",
      " 18  rougher.input.floatbank10_sulfate           5290 non-null   float64\n",
      " 19  rougher.input.floatbank10_xanthate          5290 non-null   float64\n",
      " 20  rougher.input.floatbank11_sulfate           5290 non-null   float64\n",
      " 21  rougher.input.floatbank11_xanthate          5290 non-null   float64\n",
      " 22  rougher.state.floatbank10_a_air             5290 non-null   float64\n",
      " 23  rougher.state.floatbank10_a_level           5290 non-null   float64\n",
      " 24  rougher.state.floatbank10_b_air             5290 non-null   float64\n",
      " 25  rougher.state.floatbank10_b_level           5290 non-null   float64\n",
      " 26  rougher.state.floatbank10_c_air             5290 non-null   float64\n",
      " 27  rougher.state.floatbank10_c_level           5290 non-null   float64\n",
      " 28  rougher.state.floatbank10_d_air             5290 non-null   float64\n",
      " 29  rougher.state.floatbank10_d_level           5290 non-null   float64\n",
      " 30  rougher.state.floatbank10_e_air             5290 non-null   float64\n",
      " 31  rougher.state.floatbank10_e_level           5290 non-null   float64\n",
      " 32  rougher.state.floatbank10_f_air             5290 non-null   float64\n",
      " 33  rougher.state.floatbank10_f_level           5290 non-null   float64\n",
      " 34  secondary_cleaner.state.floatbank2_a_air    5290 non-null   float64\n",
      " 35  secondary_cleaner.state.floatbank2_a_level  5290 non-null   float64\n",
      " 36  secondary_cleaner.state.floatbank2_b_air    5290 non-null   float64\n",
      " 37  secondary_cleaner.state.floatbank2_b_level  5290 non-null   float64\n",
      " 38  secondary_cleaner.state.floatbank3_a_air    5290 non-null   float64\n",
      " 39  secondary_cleaner.state.floatbank3_a_level  5290 non-null   float64\n",
      " 40  secondary_cleaner.state.floatbank3_b_air    5290 non-null   float64\n",
      " 41  secondary_cleaner.state.floatbank3_b_level  5290 non-null   float64\n",
      " 42  secondary_cleaner.state.floatbank4_a_air    5290 non-null   float64\n",
      " 43  secondary_cleaner.state.floatbank4_a_level  5290 non-null   float64\n",
      " 44  secondary_cleaner.state.floatbank4_b_air    5290 non-null   float64\n",
      " 45  secondary_cleaner.state.floatbank4_b_level  5290 non-null   float64\n",
      " 46  secondary_cleaner.state.floatbank5_a_air    5290 non-null   float64\n",
      " 47  secondary_cleaner.state.floatbank5_a_level  5290 non-null   float64\n",
      " 48  secondary_cleaner.state.floatbank5_b_air    5290 non-null   float64\n",
      " 49  secondary_cleaner.state.floatbank5_b_level  5290 non-null   float64\n",
      " 50  secondary_cleaner.state.floatbank6_a_air    5290 non-null   float64\n",
      " 51  secondary_cleaner.state.floatbank6_a_level  5290 non-null   float64\n",
      "dtypes: float64(52)\n",
      "memory usage: 2.1 MB\n"
     ]
    }
   ],
   "source": [
    "gold_test.info()"
   ]
  },
  {
   "cell_type": "markdown",
   "metadata": {},
   "source": [
    "## Анализ данных"
   ]
  },
  {
   "cell_type": "markdown",
   "metadata": {},
   "source": [
    "### Концентрация металлов на различных этапах очистки"
   ]
  },
  {
   "cell_type": "markdown",
   "metadata": {},
   "source": [
    "Посмотрим как меняется концентрация металлов (Au, Ag, Pb) на различных этапах очистки. "
   ]
  },
  {
   "cell_type": "markdown",
   "metadata": {},
   "source": [
    "**Содержание золота**"
   ]
  },
  {
   "cell_type": "code",
   "execution_count": 52,
   "metadata": {
    "scrolled": true
   },
   "outputs": [],
   "source": [
    "gold = []\n",
    "gold=pd.DataFrame(gold)\n",
    "gold['rougher.input.feed_au']=gold_full['rougher.input.feed_au']\n",
    "gold['rougher.output.concentrate_au']=gold_full['rougher.output.concentrate_au']\n",
    "gold['primary_cleaner.output.concentrate_au']=gold_full['primary_cleaner.output.concentrate_au']\n",
    "gold['final.output.concentrate_au']=gold_full['final.output.concentrate_au']\n"
   ]
  },
  {
   "cell_type": "code",
   "execution_count": 53,
   "metadata": {
    "scrolled": false
   },
   "outputs": [
    {
     "data": {
      "image/png": "[encoded data removed]",
      "text/plain": [
       "<Figure size 1152x720 with 1 Axes>"
      ]
     },
     "metadata": {},
     "output_type": "display_data"
    }
   ],
   "source": [
    "plt.figure(figsize=(16,10))\n",
    "pc = sns.set(style=\"whitegrid\")\n",
    "pc = sns.boxplot(data=gold)\n",
    "pc.axes.set_title(\"Концентрация золота в разрезе этапов очистки\", fontsize=14, pad=15)\n",
    "pc.set_xlabel(\"Этапы очистки\", fontsize=12)\n",
    "pc.set_ylabel(\"Концентрация\", fontsize=12)\n",
    "plt.show()"
   ]
  },
  {
   "cell_type": "markdown",
   "metadata": {},
   "source": [
    "**Содержание серебра**"
   ]
  },
  {
   "cell_type": "code",
   "execution_count": 54,
   "metadata": {
    "scrolled": true
   },
   "outputs": [],
   "source": [
    "silver = []\n",
    "silver=pd.DataFrame(silver)\n",
    "silver['rougher.input.feed_ag']=gold_full['rougher.input.feed_ag']\n",
    "silver['rougher.output.concentrate_ag']=gold_full['rougher.output.concentrate_ag']\n",
    "silver['primary_cleaner.output.concentrate_ag']=gold_full['primary_cleaner.output.concentrate_ag']\n",
    "silver['final.output.concentrate_ag']=gold_full['final.output.concentrate_ag']"
   ]
  },
  {
   "cell_type": "code",
   "execution_count": 55,
   "metadata": {
    "scrolled": false
   },
   "outputs": [
    {
     "data": {
      "image/png": "[encoded data removed]",
      "text/plain": [
       "<Figure size 1152x720 with 1 Axes>"
      ]
     },
     "metadata": {},
     "output_type": "display_data"
    }
   ],
   "source": [
    "plt.figure(figsize=(16,10))\n",
    "pc = sns.set(style=\"whitegrid\")\n",
    "pc = sns.boxplot(data=silver)\n",
    "pc.axes.set_title(\"Концентрация серебра в разрезе этапов очистки\", fontsize=14, pad=15)\n",
    "pc.set_xlabel(\"Этапы очистки\", fontsize=12)\n",
    "pc.set_ylabel(\"Концентрация\", fontsize=12)\n",
    "plt.show()"
   ]
  },
  {
   "cell_type": "markdown",
   "metadata": {},
   "source": [
    "**Содержание свинца**"
   ]
  },
  {
   "cell_type": "code",
   "execution_count": 56,
   "metadata": {
    "scrolled": true
   },
   "outputs": [],
   "source": [
    "plumbum = []\n",
    "plumbum=pd.DataFrame(plumbum)\n",
    "plumbum['rougher.input.feed_pb']=gold_full['rougher.input.feed_pb']\n",
    "plumbum['rougher.output.concentrate_pb']=gold_full['rougher.output.concentrate_pb']\n",
    "plumbum['primary_cleaner.output.concentrate_pb']=gold_full['primary_cleaner.output.concentrate_pb']\n",
    "plumbum['final.output.concentrate_pb']=gold_full['final.output.concentrate_pb']"
   ]
  },
  {
   "cell_type": "code",
   "execution_count": 57,
   "metadata": {
    "scrolled": false
   },
   "outputs": [
    {
     "data": {
      "image/png": "[encoded data removed]",
      "text/plain": [
       "<Figure size 1152x720 with 1 Axes>"
      ]
     },
     "metadata": {},
     "output_type": "display_data"
    }
   ],
   "source": [
    "plt.figure(figsize=(16,10))\n",
    "pc = sns.set(style=\"whitegrid\")\n",
    "pc = sns.boxplot(data=plumbum)\n",
    "pc.axes.set_title(\"Концентрация свинца в разрезе этапов очистки\", fontsize=14, pad=15)\n",
    "pc.set_xlabel(\"Этапы очистки\", fontsize=12)\n",
    "pc.set_ylabel(\"Концентрация\", fontsize=12)\n",
    "plt.show()"
   ]
  },
  {
   "cell_type": "markdown",
   "metadata": {},
   "source": [
    "**Вывод**:\n",
    "* содержание золота стабильно увеличивается, но вместе с этим увеличиваются и выбросы;\n",
    "* содержание серебра увеличилось в черновом концентрате по сравнению со смесью руды, но в дальнейшем его концентрация уменьшилась;\n",
    "* содержание свинца постепенно увеличивалось."
   ]
  },
  {
   "cell_type": "markdown",
   "metadata": {},
   "source": [
    "###  Распределение размеров гранул сырья "
   ]
  },
  {
   "cell_type": "markdown",
   "metadata": {},
   "source": [
    "Сравним распределения размеров гранул сырья на обучающей и тестовой выборках. "
   ]
  },
  {
   "cell_type": "code",
   "execution_count": 58,
   "metadata": {
    "scrolled": false
   },
   "outputs": [
    {
     "data": {
      "image/png": "[encoded data removed]",
      "text/plain": [
       "<Figure size 864x576 with 1 Axes>"
      ]
     },
     "metadata": {},
     "output_type": "display_data"
    }
   ],
   "source": [
    "plt.figure(figsize=(12,8))\n",
    "sns.kdeplot(gold_train['rougher.input.feed_size'], shade=True, color=\"green\", label=\"Обучающая выборка\", alpha=.5)\n",
    "sns.kdeplot(gold_test['rougher.input.feed_size'], shade=True, color=\"deeppink\", label=\"Тестовая выборка\", alpha=.5)\n",
    "plt.title('Распределения размеров гранул сырья в смеси золотой руды в разрезе обучающей и тестовой выборках', fontsize=14, pad=15)\n",
    "plt.xlabel(\"Размер гранул\", fontsize=12)\n",
    "plt.ylabel(\"Плотность\", fontsize=12)\n",
    "plt.legend()\n",
    "plt.show()"
   ]
  },
  {
   "cell_type": "code",
   "execution_count": 59,
   "metadata": {
    "scrolled": false
   },
   "outputs": [
    {
     "data": {
      "image/png": "[encoded data removed]",
      "text/plain": [
       "<Figure size 864x576 with 1 Axes>"
      ]
     },
     "metadata": {},
     "output_type": "display_data"
    }
   ],
   "source": [
    "plt.figure(figsize=(12,8))\n",
    "sns.kdeplot(gold_train['primary_cleaner.input.feed_size'], shade=True, color=\"green\", label=\"Обучающая выборка\", alpha=.5)\n",
    "sns.kdeplot(gold_test['primary_cleaner.input.feed_size'], shade=True, color=\"deeppink\", label=\"Тестовая выборка\", alpha=.5)\n",
    "plt.title('Распределения размеров гранул сырья в черновом концентрате в разрезе обучающей и тестовой выборках', fontsize=14, pad=15)\n",
    "plt.xlabel(\"Размер гранул\", fontsize=12)\n",
    "plt.ylabel(\"Плотность\", fontsize=12)\n",
    "plt.legend()\n",
    "plt.show()"
   ]
  },
  {
   "cell_type": "markdown",
   "metadata": {},
   "source": [
    "**Вывод:** распределения размеров гранул сырья на обучающей и тестовой выборках практически совпадают."
   ]
  },
  {
   "cell_type": "markdown",
   "metadata": {},
   "source": [
    "### Cуммарная концентрация всех веществ на разных стадиях"
   ]
  },
  {
   "cell_type": "markdown",
   "metadata": {},
   "source": [
    "Исследуем суммарную концентрацию всех веществ на разных стадиях: в сырье, в черновом и финальном концентратах."
   ]
  },
  {
   "cell_type": "code",
   "execution_count": 60,
   "metadata": {
    "scrolled": true
   },
   "outputs": [],
   "source": [
    "gold_train['rougher_input_feed_sum'] = gold_train['rougher.input.feed_ag'] + gold_train['rougher.input.feed_pb'] + gold_train['rougher.input.feed_sol'] + gold_train['rougher.input.feed_au']\n",
    "gold_train['rougher_output_concentrate_sum'] = gold_train['rougher.output.concentrate_ag'] + gold_train['rougher.output.concentrate_pb'] + gold_train['rougher.output.concentrate_sol'] + gold_train['rougher.output.concentrate_au']\n",
    "gold_train['primary_cleaner_output_concentrate_sum'] = gold_train['primary_cleaner.output.concentrate_ag'] + gold_train['primary_cleaner.output.concentrate_pb'] + gold_train['primary_cleaner.output.concentrate_sol'] + gold_train['primary_cleaner.output.concentrate_au']\n",
    "gold_train['final_output_concentrate_sum'] = gold_train['final.output.concentrate_au'] + gold_train['final.output.concentrate_ag'] + gold_train['final.output.concentrate_pb'] + gold_train['final.output.concentrate_sol']\n"
   ]
  },
  {
   "cell_type": "code",
   "execution_count": 61,
   "metadata": {
    "scrolled": false
   },
   "outputs": [
    {
     "data": {
      "image/png": "[encoded data removed]",
      "text/plain": [
       "<Figure size 1080x576 with 1 Axes>"
      ]
     },
     "metadata": {},
     "output_type": "display_data"
    }
   ],
   "source": [
    "plt.figure(figsize=(15,8))\n",
    "sns.histplot(gold_train['rougher_input_feed_sum'], label='Сырье', color=\"g\")\n",
    "sns.histplot(gold_train['rougher_output_concentrate_sum'], label='Черновой концентрат', color=\"yellow\")\n",
    "sns.histplot(gold_train['primary_cleaner_output_concentrate_sum'], color=\"deeppink\",label='Первый этап очистки')\n",
    "sns.histplot(gold_train['final_output_concentrate_sum'], color=\"dodgerblue\",label='Финальный концентрат')\n",
    "\n",
    "plt.title('Суммарная концентрация всех веществ на разных стадиях', fontsize=14, pad=15)\n",
    "plt.xlabel(\"Концентрация всех веществ\", fontsize=12)\n",
    "plt.ylabel(\"Количество\", fontsize=12)\n",
    "plt.legend()\n",
    "plt.show()"
   ]
  },
  {
   "cell_type": "markdown",
   "metadata": {},
   "source": [
    "На графике наблюдаются аномальные значения в суммарной концентрации (пик при нуле), такие данные необходимо убрать. "
   ]
  },
  {
   "cell_type": "code",
   "execution_count": 62,
   "metadata": {
    "scrolled": true
   },
   "outputs": [],
   "source": [
    "gold_train = gold_train.drop(gold_train.query('primary_cleaner_output_concentrate_sum == 0 or final_output_concentrate_sum == 0 or rougher_output_concentrate_sum == 0').index)"
   ]
  },
  {
   "cell_type": "code",
   "execution_count": 63,
   "metadata": {
    "scrolled": false
   },
   "outputs": [
    {
     "name": "stdout",
     "output_type": "stream",
     "text": [
      "<class 'pandas.core.frame.DataFrame'>\n",
      "DatetimeIndex: 13725 entries, 2016-01-15 00:00:00 to 2018-08-18 10:59:59\n",
      "Data columns (total 91 columns):\n",
      " #   Column                                              Non-Null Count  Dtype  \n",
      "---  ------                                              --------------  -----  \n",
      " 0   final.output.concentrate_ag                         13725 non-null  float64\n",
      " 1   final.output.concentrate_pb                         13725 non-null  float64\n",
      " 2   final.output.concentrate_sol                        13725 non-null  float64\n",
      " 3   final.output.concentrate_au                         13725 non-null  float64\n",
      " 4   final.output.recovery                               13725 non-null  float64\n",
      " 5   final.output.tail_ag                                13725 non-null  float64\n",
      " 6   final.output.tail_pb                                13725 non-null  float64\n",
      " 7   final.output.tail_sol                               13725 non-null  float64\n",
      " 8   final.output.tail_au                                13725 non-null  float64\n",
      " 9   primary_cleaner.input.sulfate                       13725 non-null  float64\n",
      " 10  primary_cleaner.input.depressant                    13725 non-null  float64\n",
      " 11  primary_cleaner.input.feed_size                     13725 non-null  float64\n",
      " 12  primary_cleaner.input.xanthate                      13725 non-null  float64\n",
      " 13  primary_cleaner.output.concentrate_ag               13725 non-null  float64\n",
      " 14  primary_cleaner.output.concentrate_pb               13725 non-null  float64\n",
      " 15  primary_cleaner.output.concentrate_sol              13725 non-null  float64\n",
      " 16  primary_cleaner.output.concentrate_au               13725 non-null  float64\n",
      " 17  primary_cleaner.output.tail_ag                      13725 non-null  float64\n",
      " 18  primary_cleaner.output.tail_pb                      13725 non-null  float64\n",
      " 19  primary_cleaner.output.tail_sol                     13725 non-null  float64\n",
      " 20  primary_cleaner.output.tail_au                      13725 non-null  float64\n",
      " 21  primary_cleaner.state.floatbank8_a_air              13725 non-null  float64\n",
      " 22  primary_cleaner.state.floatbank8_a_level            13725 non-null  float64\n",
      " 23  primary_cleaner.state.floatbank8_b_air              13725 non-null  float64\n",
      " 24  primary_cleaner.state.floatbank8_b_level            13725 non-null  float64\n",
      " 25  primary_cleaner.state.floatbank8_c_air              13725 non-null  float64\n",
      " 26  primary_cleaner.state.floatbank8_c_level            13725 non-null  float64\n",
      " 27  primary_cleaner.state.floatbank8_d_air              13725 non-null  float64\n",
      " 28  primary_cleaner.state.floatbank8_d_level            13725 non-null  float64\n",
      " 29  rougher.calculation.sulfate_to_au_concentrate       13725 non-null  float64\n",
      " 30  rougher.calculation.floatbank10_sulfate_to_au_feed  13725 non-null  float64\n",
      " 31  rougher.calculation.floatbank11_sulfate_to_au_feed  13725 non-null  float64\n",
      " 32  rougher.calculation.au_pb_ratio                     13725 non-null  float64\n",
      " 33  rougher.input.feed_ag                               13725 non-null  float64\n",
      " 34  rougher.input.feed_pb                               13725 non-null  float64\n",
      " 35  rougher.input.feed_rate                             13725 non-null  float64\n",
      " 36  rougher.input.feed_size                             13725 non-null  float64\n",
      " 37  rougher.input.feed_sol                              13725 non-null  float64\n",
      " 38  rougher.input.feed_au                               13725 non-null  float64\n",
      " 39  rougher.input.floatbank10_sulfate                   13725 non-null  float64\n",
      " 40  rougher.input.floatbank10_xanthate                  13725 non-null  float64\n",
      " 41  rougher.input.floatbank11_sulfate                   13725 non-null  float64\n",
      " 42  rougher.input.floatbank11_xanthate                  13725 non-null  float64\n",
      " 43  rougher.output.concentrate_ag                       13725 non-null  float64\n",
      " 44  rougher.output.concentrate_pb                       13725 non-null  float64\n",
      " 45  rougher.output.concentrate_sol                      13725 non-null  float64\n",
      " 46  rougher.output.concentrate_au                       13725 non-null  float64\n",
      " 47  rougher.output.recovery                             13725 non-null  float64\n",
      " 48  rougher.output.tail_ag                              13725 non-null  float64\n",
      " 49  rougher.output.tail_pb                              13725 non-null  float64\n",
      " 50  rougher.output.tail_sol                             13725 non-null  float64\n",
      " 51  rougher.output.tail_au                              13725 non-null  float64\n",
      " 52  rougher.state.floatbank10_a_air                     13725 non-null  float64\n",
      " 53  rougher.state.floatbank10_a_level                   13725 non-null  float64\n",
      " 54  rougher.state.floatbank10_b_air                     13725 non-null  float64\n",
      " 55  rougher.state.floatbank10_b_level                   13725 non-null  float64\n",
      " 56  rougher.state.floatbank10_c_air                     13725 non-null  float64\n",
      " 57  rougher.state.floatbank10_c_level                   13725 non-null  float64\n",
      " 58  rougher.state.floatbank10_d_air                     13725 non-null  float64\n",
      " 59  rougher.state.floatbank10_d_level                   13725 non-null  float64\n",
      " 60  rougher.state.floatbank10_e_air                     13725 non-null  float64\n",
      " 61  rougher.state.floatbank10_e_level                   13725 non-null  float64\n",
      " 62  rougher.state.floatbank10_f_air                     13725 non-null  float64\n",
      " 63  rougher.state.floatbank10_f_level                   13725 non-null  float64\n",
      " 64  secondary_cleaner.output.tail_ag                    13725 non-null  float64\n",
      " 65  secondary_cleaner.output.tail_pb                    13725 non-null  float64\n",
      " 66  secondary_cleaner.output.tail_sol                   13725 non-null  float64\n",
      " 67  secondary_cleaner.output.tail_au                    13725 non-null  float64\n",
      " 68  secondary_cleaner.state.floatbank2_a_air            13725 non-null  float64\n",
      " 69  secondary_cleaner.state.floatbank2_a_level          13725 non-null  float64\n",
      " 70  secondary_cleaner.state.floatbank2_b_air            13725 non-null  float64\n",
      " 71  secondary_cleaner.state.floatbank2_b_level          13725 non-null  float64\n",
      " 72  secondary_cleaner.state.floatbank3_a_air            13725 non-null  float64\n",
      " 73  secondary_cleaner.state.floatbank3_a_level          13725 non-null  float64\n",
      " 74  secondary_cleaner.state.floatbank3_b_air            13725 non-null  float64\n",
      " 75  secondary_cleaner.state.floatbank3_b_level          13725 non-null  float64\n",
      " 76  secondary_cleaner.state.floatbank4_a_air            13725 non-null  float64\n",
      " 77  secondary_cleaner.state.floatbank4_a_level          13725 non-null  float64\n",
      " 78  secondary_cleaner.state.floatbank4_b_air            13725 non-null  float64\n",
      " 79  secondary_cleaner.state.floatbank4_b_level          13725 non-null  float64\n",
      " 80  secondary_cleaner.state.floatbank5_a_air            13725 non-null  float64\n",
      " 81  secondary_cleaner.state.floatbank5_a_level          13725 non-null  float64\n",
      " 82  secondary_cleaner.state.floatbank5_b_air            13725 non-null  float64\n",
      " 83  secondary_cleaner.state.floatbank5_b_level          13725 non-null  float64\n",
      " 84  secondary_cleaner.state.floatbank6_a_air            13725 non-null  float64\n",
      " 85  secondary_cleaner.state.floatbank6_a_level          13725 non-null  float64\n",
      " 86  recovery                                            13725 non-null  float64\n",
      " 87  rougher_input_feed_sum                              13725 non-null  float64\n",
      " 88  rougher_output_concentrate_sum                      13725 non-null  float64\n",
      " 89  primary_cleaner_output_concentrate_sum              13725 non-null  float64\n",
      " 90  final_output_concentrate_sum                        13725 non-null  float64\n",
      "dtypes: float64(91)\n",
      "memory usage: 9.6 MB\n"
     ]
    }
   ],
   "source": [
    "gold_train.info()"
   ]
  },
  {
   "cell_type": "markdown",
   "metadata": {},
   "source": [
    "## Построение модели"
   ]
  },
  {
   "cell_type": "markdown",
   "metadata": {},
   "source": [
    "### Функция для вычисления sMAPE"
   ]
  },
  {
   "cell_type": "markdown",
   "metadata": {},
   "source": [
    "Создадим функцию расчета метрики качества согласно условий проекта."
   ]
  },
  {
   "attachments": {
    "smape_1.jpg": {
     "image/jpeg": "[encoded data removed]"
    }
   },
   "cell_type": "markdown",
   "metadata": {},
   "source": [
    "![smape_1.jpg](attachment:smape_1.jpg)"
   ]
  },
  {
   "attachments": {
    "smape_2.jpg": {
     "image/jpeg": "[encoded data removed]"
    }
   },
   "cell_type": "markdown",
   "metadata": {},
   "source": [
    "![smape_2.jpg](attachment:smape_2.jpg)"
   ]
  },
  {
   "cell_type": "code",
   "execution_count": 64,
   "metadata": {
    "scrolled": true
   },
   "outputs": [],
   "source": [
    "def smape(target, predict):\n",
    "    smape = (1/len(target))*np.sum((np.abs(target - predict))/( (np.abs(target)+np.abs(predict))/2))*100\n",
    "    return smape"
   ]
  },
  {
   "cell_type": "code",
   "execution_count": 65,
   "metadata": {
    "scrolled": true
   },
   "outputs": [],
   "source": [
    "def final_smape(target, predictions):\n",
    "    return 0.25 * smape(target.iloc[:,0], predictions[:,0]) + 0.75 * smape(target.iloc[:,1], predictions[:,1])"
   ]
  },
  {
   "cell_type": "code",
   "execution_count": 66,
   "metadata": {
    "scrolled": true
   },
   "outputs": [],
   "source": [
    "smape_scorer = make_scorer(final_smape, greater_is_better=False)"
   ]
  },
  {
   "cell_type": "markdown",
   "metadata": {},
   "source": [
    "### Выборка и масштабирование"
   ]
  },
  {
   "cell_type": "code",
   "execution_count": 67,
   "metadata": {
    "scrolled": false
   },
   "outputs": [],
   "source": [
    "diff_columns = list(set(gold_train.columns) - set(gold_test.columns))"
   ]
  },
  {
   "cell_type": "code",
   "execution_count": 68,
   "metadata": {
    "scrolled": true
   },
   "outputs": [],
   "source": [
    "gold_train = gold_train.drop(diff_columns, axis=1)\n"
   ]
  },
  {
   "cell_type": "code",
   "execution_count": 69,
   "metadata": {
    "scrolled": false
   },
   "outputs": [
    {
     "data": {
      "text/html": [
       "<div>\n",
       "<style scoped>\n",
       "    .dataframe tbody tr th:only-of-type {\n",
       "        vertical-align: middle;\n",
       "    }\n",
       "\n",
       "    .dataframe tbody tr th {\n",
       "        vertical-align: top;\n",
       "    }\n",
       "\n",
       "    .dataframe thead th {\n",
       "        text-align: right;\n",
       "    }\n",
       "</style>\n",
       "<table border=\"1\" class=\"dataframe\">\n",
       "  <thead>\n",
       "    <tr style=\"text-align: right;\">\n",
       "      <th></th>\n",
       "      <th>primary_cleaner.input.sulfate</th>\n",
       "      <th>primary_cleaner.input.depressant</th>\n",
       "      <th>primary_cleaner.input.feed_size</th>\n",
       "      <th>primary_cleaner.input.xanthate</th>\n",
       "      <th>primary_cleaner.state.floatbank8_a_air</th>\n",
       "      <th>primary_cleaner.state.floatbank8_a_level</th>\n",
       "      <th>primary_cleaner.state.floatbank8_b_air</th>\n",
       "      <th>primary_cleaner.state.floatbank8_b_level</th>\n",
       "      <th>primary_cleaner.state.floatbank8_c_air</th>\n",
       "      <th>primary_cleaner.state.floatbank8_c_level</th>\n",
       "      <th>...</th>\n",
       "      <th>secondary_cleaner.state.floatbank4_a_air</th>\n",
       "      <th>secondary_cleaner.state.floatbank4_a_level</th>\n",
       "      <th>secondary_cleaner.state.floatbank4_b_air</th>\n",
       "      <th>secondary_cleaner.state.floatbank4_b_level</th>\n",
       "      <th>secondary_cleaner.state.floatbank5_a_air</th>\n",
       "      <th>secondary_cleaner.state.floatbank5_a_level</th>\n",
       "      <th>secondary_cleaner.state.floatbank5_b_air</th>\n",
       "      <th>secondary_cleaner.state.floatbank5_b_level</th>\n",
       "      <th>secondary_cleaner.state.floatbank6_a_air</th>\n",
       "      <th>secondary_cleaner.state.floatbank6_a_level</th>\n",
       "    </tr>\n",
       "    <tr>\n",
       "      <th>date</th>\n",
       "      <th></th>\n",
       "      <th></th>\n",
       "      <th></th>\n",
       "      <th></th>\n",
       "      <th></th>\n",
       "      <th></th>\n",
       "      <th></th>\n",
       "      <th></th>\n",
       "      <th></th>\n",
       "      <th></th>\n",
       "      <th></th>\n",
       "      <th></th>\n",
       "      <th></th>\n",
       "      <th></th>\n",
       "      <th></th>\n",
       "      <th></th>\n",
       "      <th></th>\n",
       "      <th></th>\n",
       "      <th></th>\n",
       "      <th></th>\n",
       "      <th></th>\n",
       "    </tr>\n",
       "  </thead>\n",
       "  <tbody>\n",
       "    <tr>\n",
       "      <th>2016-01-15 00:00:00</th>\n",
       "      <td>127.092003</td>\n",
       "      <td>10.128295</td>\n",
       "      <td>7.25</td>\n",
       "      <td>0.988759</td>\n",
       "      <td>1549.775757</td>\n",
       "      <td>-498.912140</td>\n",
       "      <td>1551.434204</td>\n",
       "      <td>-516.403442</td>\n",
       "      <td>1549.873901</td>\n",
       "      <td>-498.666595</td>\n",
       "      <td>...</td>\n",
       "      <td>14.016835</td>\n",
       "      <td>-502.488007</td>\n",
       "      <td>12.099931</td>\n",
       "      <td>-504.715942</td>\n",
       "      <td>9.925633</td>\n",
       "      <td>-498.310211</td>\n",
       "      <td>8.079666</td>\n",
       "      <td>-500.470978</td>\n",
       "      <td>14.151341</td>\n",
       "      <td>-605.841980</td>\n",
       "    </tr>\n",
       "    <tr>\n",
       "      <th>2016-01-15 01:00:00</th>\n",
       "      <td>125.629232</td>\n",
       "      <td>10.296251</td>\n",
       "      <td>7.25</td>\n",
       "      <td>1.002663</td>\n",
       "      <td>1576.166671</td>\n",
       "      <td>-500.904965</td>\n",
       "      <td>1575.950626</td>\n",
       "      <td>-499.865889</td>\n",
       "      <td>1575.994189</td>\n",
       "      <td>-499.315107</td>\n",
       "      <td>...</td>\n",
       "      <td>13.992281</td>\n",
       "      <td>-505.503262</td>\n",
       "      <td>11.950531</td>\n",
       "      <td>-501.331529</td>\n",
       "      <td>10.039245</td>\n",
       "      <td>-500.169983</td>\n",
       "      <td>7.984757</td>\n",
       "      <td>-500.582168</td>\n",
       "      <td>13.998353</td>\n",
       "      <td>-599.787184</td>\n",
       "    </tr>\n",
       "    <tr>\n",
       "      <th>2016-01-15 02:00:00</th>\n",
       "      <td>123.819808</td>\n",
       "      <td>11.316280</td>\n",
       "      <td>7.25</td>\n",
       "      <td>0.991265</td>\n",
       "      <td>1601.556163</td>\n",
       "      <td>-499.997791</td>\n",
       "      <td>1600.386685</td>\n",
       "      <td>-500.607762</td>\n",
       "      <td>1602.003542</td>\n",
       "      <td>-500.870069</td>\n",
       "      <td>...</td>\n",
       "      <td>14.015015</td>\n",
       "      <td>-502.520901</td>\n",
       "      <td>11.912783</td>\n",
       "      <td>-501.133383</td>\n",
       "      <td>10.070913</td>\n",
       "      <td>-500.129135</td>\n",
       "      <td>8.013877</td>\n",
       "      <td>-500.517572</td>\n",
       "      <td>14.028663</td>\n",
       "      <td>-601.427363</td>\n",
       "    </tr>\n",
       "    <tr>\n",
       "      <th>2016-01-15 03:00:00</th>\n",
       "      <td>122.270188</td>\n",
       "      <td>11.322140</td>\n",
       "      <td>7.25</td>\n",
       "      <td>0.996739</td>\n",
       "      <td>1599.968720</td>\n",
       "      <td>-500.951778</td>\n",
       "      <td>1600.659236</td>\n",
       "      <td>-499.677094</td>\n",
       "      <td>1600.304144</td>\n",
       "      <td>-500.727997</td>\n",
       "      <td>...</td>\n",
       "      <td>14.036510</td>\n",
       "      <td>-500.857308</td>\n",
       "      <td>11.999550</td>\n",
       "      <td>-501.193686</td>\n",
       "      <td>9.970366</td>\n",
       "      <td>-499.201640</td>\n",
       "      <td>7.977324</td>\n",
       "      <td>-500.255908</td>\n",
       "      <td>14.005551</td>\n",
       "      <td>-599.996129</td>\n",
       "    </tr>\n",
       "    <tr>\n",
       "      <th>2016-01-15 04:00:00</th>\n",
       "      <td>117.988169</td>\n",
       "      <td>11.913613</td>\n",
       "      <td>7.25</td>\n",
       "      <td>1.009869</td>\n",
       "      <td>1601.339707</td>\n",
       "      <td>-498.975456</td>\n",
       "      <td>1601.437854</td>\n",
       "      <td>-500.323246</td>\n",
       "      <td>1599.581894</td>\n",
       "      <td>-500.888152</td>\n",
       "      <td>...</td>\n",
       "      <td>14.027298</td>\n",
       "      <td>-499.838632</td>\n",
       "      <td>11.953070</td>\n",
       "      <td>-501.053894</td>\n",
       "      <td>9.925709</td>\n",
       "      <td>-501.686727</td>\n",
       "      <td>7.894242</td>\n",
       "      <td>-500.356035</td>\n",
       "      <td>13.996647</td>\n",
       "      <td>-601.496691</td>\n",
       "    </tr>\n",
       "  </tbody>\n",
       "</table>\n",
       "<p>5 rows × 52 columns</p>\n",
       "</div>"
      ],
      "text/plain": [
       "                     primary_cleaner.input.sulfate  \\\n",
       "date                                                 \n",
       "2016-01-15 00:00:00                     127.092003   \n",
       "2016-01-15 01:00:00                     125.629232   \n",
       "2016-01-15 02:00:00                     123.819808   \n",
       "2016-01-15 03:00:00                     122.270188   \n",
       "2016-01-15 04:00:00                     117.988169   \n",
       "\n",
       "                     primary_cleaner.input.depressant  \\\n",
       "date                                                    \n",
       "2016-01-15 00:00:00                         10.128295   \n",
       "2016-01-15 01:00:00                         10.296251   \n",
       "2016-01-15 02:00:00                         11.316280   \n",
       "2016-01-15 03:00:00                         11.322140   \n",
       "2016-01-15 04:00:00                         11.913613   \n",
       "\n",
       "                     primary_cleaner.input.feed_size  \\\n",
       "date                                                   \n",
       "2016-01-15 00:00:00                             7.25   \n",
       "2016-01-15 01:00:00                             7.25   \n",
       "2016-01-15 02:00:00                             7.25   \n",
       "2016-01-15 03:00:00                             7.25   \n",
       "2016-01-15 04:00:00                             7.25   \n",
       "\n",
       "                     primary_cleaner.input.xanthate  \\\n",
       "date                                                  \n",
       "2016-01-15 00:00:00                        0.988759   \n",
       "2016-01-15 01:00:00                        1.002663   \n",
       "2016-01-15 02:00:00                        0.991265   \n",
       "2016-01-15 03:00:00                        0.996739   \n",
       "2016-01-15 04:00:00                        1.009869   \n",
       "\n",
       "                     primary_cleaner.state.floatbank8_a_air  \\\n",
       "date                                                          \n",
       "2016-01-15 00:00:00                             1549.775757   \n",
       "2016-01-15 01:00:00                             1576.166671   \n",
       "2016-01-15 02:00:00                             1601.556163   \n",
       "2016-01-15 03:00:00                             1599.968720   \n",
       "2016-01-15 04:00:00                             1601.339707   \n",
       "\n",
       "                     primary_cleaner.state.floatbank8_a_level  \\\n",
       "date                                                            \n",
       "2016-01-15 00:00:00                               -498.912140   \n",
       "2016-01-15 01:00:00                               -500.904965   \n",
       "2016-01-15 02:00:00                               -499.997791   \n",
       "2016-01-15 03:00:00                               -500.951778   \n",
       "2016-01-15 04:00:00                               -498.975456   \n",
       "\n",
       "                     primary_cleaner.state.floatbank8_b_air  \\\n",
       "date                                                          \n",
       "2016-01-15 00:00:00                             1551.434204   \n",
       "2016-01-15 01:00:00                             1575.950626   \n",
       "2016-01-15 02:00:00                             1600.386685   \n",
       "2016-01-15 03:00:00                             1600.659236   \n",
       "2016-01-15 04:00:00                             1601.437854   \n",
       "\n",
       "                     primary_cleaner.state.floatbank8_b_level  \\\n",
       "date                                                            \n",
       "2016-01-15 00:00:00                               -516.403442   \n",
       "2016-01-15 01:00:00                               -499.865889   \n",
       "2016-01-15 02:00:00                               -500.607762   \n",
       "2016-01-15 03:00:00                               -499.677094   \n",
       "2016-01-15 04:00:00                               -500.323246   \n",
       "\n",
       "                     primary_cleaner.state.floatbank8_c_air  \\\n",
       "date                                                          \n",
       "2016-01-15 00:00:00                             1549.873901   \n",
       "2016-01-15 01:00:00                             1575.994189   \n",
       "2016-01-15 02:00:00                             1602.003542   \n",
       "2016-01-15 03:00:00                             1600.304144   \n",
       "2016-01-15 04:00:00                             1599.581894   \n",
       "\n",
       "                     primary_cleaner.state.floatbank8_c_level  ...  \\\n",
       "date                                                           ...   \n",
       "2016-01-15 00:00:00                               -498.666595  ...   \n",
       "2016-01-15 01:00:00                               -499.315107  ...   \n",
       "2016-01-15 02:00:00                               -500.870069  ...   \n",
       "2016-01-15 03:00:00                               -500.727997  ...   \n",
       "2016-01-15 04:00:00                               -500.888152  ...   \n",
       "\n",
       "                     secondary_cleaner.state.floatbank4_a_air  \\\n",
       "date                                                            \n",
       "2016-01-15 00:00:00                                 14.016835   \n",
       "2016-01-15 01:00:00                                 13.992281   \n",
       "2016-01-15 02:00:00                                 14.015015   \n",
       "2016-01-15 03:00:00                                 14.036510   \n",
       "2016-01-15 04:00:00                                 14.027298   \n",
       "\n",
       "                     secondary_cleaner.state.floatbank4_a_level  \\\n",
       "date                                                              \n",
       "2016-01-15 00:00:00                                 -502.488007   \n",
       "2016-01-15 01:00:00                                 -505.503262   \n",
       "2016-01-15 02:00:00                                 -502.520901   \n",
       "2016-01-15 03:00:00                                 -500.857308   \n",
       "2016-01-15 04:00:00                                 -499.838632   \n",
       "\n",
       "                     secondary_cleaner.state.floatbank4_b_air  \\\n",
       "date                                                            \n",
       "2016-01-15 00:00:00                                 12.099931   \n",
       "2016-01-15 01:00:00                                 11.950531   \n",
       "2016-01-15 02:00:00                                 11.912783   \n",
       "2016-01-15 03:00:00                                 11.999550   \n",
       "2016-01-15 04:00:00                                 11.953070   \n",
       "\n",
       "                     secondary_cleaner.state.floatbank4_b_level  \\\n",
       "date                                                              \n",
       "2016-01-15 00:00:00                                 -504.715942   \n",
       "2016-01-15 01:00:00                                 -501.331529   \n",
       "2016-01-15 02:00:00                                 -501.133383   \n",
       "2016-01-15 03:00:00                                 -501.193686   \n",
       "2016-01-15 04:00:00                                 -501.053894   \n",
       "\n",
       "                     secondary_cleaner.state.floatbank5_a_air  \\\n",
       "date                                                            \n",
       "2016-01-15 00:00:00                                  9.925633   \n",
       "2016-01-15 01:00:00                                 10.039245   \n",
       "2016-01-15 02:00:00                                 10.070913   \n",
       "2016-01-15 03:00:00                                  9.970366   \n",
       "2016-01-15 04:00:00                                  9.925709   \n",
       "\n",
       "                     secondary_cleaner.state.floatbank5_a_level  \\\n",
       "date                                                              \n",
       "2016-01-15 00:00:00                                 -498.310211   \n",
       "2016-01-15 01:00:00                                 -500.169983   \n",
       "2016-01-15 02:00:00                                 -500.129135   \n",
       "2016-01-15 03:00:00                                 -499.201640   \n",
       "2016-01-15 04:00:00                                 -501.686727   \n",
       "\n",
       "                     secondary_cleaner.state.floatbank5_b_air  \\\n",
       "date                                                            \n",
       "2016-01-15 00:00:00                                  8.079666   \n",
       "2016-01-15 01:00:00                                  7.984757   \n",
       "2016-01-15 02:00:00                                  8.013877   \n",
       "2016-01-15 03:00:00                                  7.977324   \n",
       "2016-01-15 04:00:00                                  7.894242   \n",
       "\n",
       "                     secondary_cleaner.state.floatbank5_b_level  \\\n",
       "date                                                              \n",
       "2016-01-15 00:00:00                                 -500.470978   \n",
       "2016-01-15 01:00:00                                 -500.582168   \n",
       "2016-01-15 02:00:00                                 -500.517572   \n",
       "2016-01-15 03:00:00                                 -500.255908   \n",
       "2016-01-15 04:00:00                                 -500.356035   \n",
       "\n",
       "                     secondary_cleaner.state.floatbank6_a_air  \\\n",
       "date                                                            \n",
       "2016-01-15 00:00:00                                 14.151341   \n",
       "2016-01-15 01:00:00                                 13.998353   \n",
       "2016-01-15 02:00:00                                 14.028663   \n",
       "2016-01-15 03:00:00                                 14.005551   \n",
       "2016-01-15 04:00:00                                 13.996647   \n",
       "\n",
       "                     secondary_cleaner.state.floatbank6_a_level  \n",
       "date                                                             \n",
       "2016-01-15 00:00:00                                 -605.841980  \n",
       "2016-01-15 01:00:00                                 -599.787184  \n",
       "2016-01-15 02:00:00                                 -601.427363  \n",
       "2016-01-15 03:00:00                                 -599.996129  \n",
       "2016-01-15 04:00:00                                 -601.496691  \n",
       "\n",
       "[5 rows x 52 columns]"
      ]
     },
     "execution_count": 69,
     "metadata": {},
     "output_type": "execute_result"
    }
   ],
   "source": [
    "gold_train.head() "
   ]
  },
  {
   "cell_type": "code",
   "execution_count": 70,
   "metadata": {
    "scrolled": true
   },
   "outputs": [
    {
     "data": {
      "text/plain": [
       "((13725, 54), (5290, 54))"
      ]
     },
     "execution_count": 70,
     "metadata": {},
     "output_type": "execute_result"
    }
   ],
   "source": [
    "gold_train = pd.merge(gold_train, gold_full[['rougher.output.recovery', 'final.output.recovery']],\n",
    "                      left_index = True, right_index = True)\n",
    "gold_test = pd.merge(gold_test, gold_full[['rougher.output.recovery', 'final.output.recovery']],\n",
    "                      left_index = True, right_index = True)\n",
    "gold_train.shape, gold_test.shape"
   ]
  },
  {
   "cell_type": "code",
   "execution_count": 71,
   "metadata": {
    "scrolled": true
   },
   "outputs": [],
   "source": [
    "features_train = gold_train.drop(['rougher.output.recovery', 'final.output.recovery'], axis=1)\n",
    "target_train = gold_train[['rougher.output.recovery', 'final.output.recovery']]\n",
    "\n",
    "features_test = gold_test.drop(['rougher.output.recovery', 'final.output.recovery'], axis=1)\n",
    "target_test = gold_test[['rougher.output.recovery', 'final.output.recovery']]\n",
    "\n",
    "state = np.random.RandomState(12345)"
   ]
  },
  {
   "cell_type": "markdown",
   "metadata": {},
   "source": [
    "**Масштабирование**"
   ]
  },
  {
   "cell_type": "code",
   "execution_count": 72,
   "metadata": {
    "scrolled": true
   },
   "outputs": [
    {
     "name": "stdout",
     "output_type": "stream",
     "text": [
      "(13725, 52)\n",
      "(5290, 52)\n"
     ]
    }
   ],
   "source": [
    "numeric = features_train.columns\n",
    "\n",
    "scaler = StandardScaler()\n",
    "scaler.fit(features_train[numeric])\n",
    "features_train[numeric] = scaler.transform(features_train[numeric])\n",
    "features_test[numeric] = scaler.transform(features_test[numeric])\n",
    "print(features_train.shape)\n",
    "print(features_test.shape)\n"
   ]
  },
  {
   "cell_type": "markdown",
   "metadata": {},
   "source": [
    "### Обучение моделей и оценка их качества кросс-валидацией."
   ]
  },
  {
   "cell_type": "markdown",
   "metadata": {},
   "source": [
    "**Модель LinearRegression**"
   ]
  },
  {
   "cell_type": "code",
   "execution_count": 73,
   "metadata": {
    "scrolled": true
   },
   "outputs": [
    {
     "name": "stdout",
     "output_type": "stream",
     "text": [
      "Среднee значение sMAPE для модели LinearRegression: -10.02932338763635\n"
     ]
    }
   ],
   "source": [
    "lr_model = LinearRegression()\n",
    "lr_model.fit(features_train, target_train) \n",
    "final_score = np.mean(cross_val_score(lr_model, features_train, target_train, cv=5, scoring=smape_scorer))\n",
    "print('Среднee значение sMAPE для модели LinearRegression:', final_score)\n",
    "\n"
   ]
  },
  {
   "cell_type": "markdown",
   "metadata": {},
   "source": [
    "**Модель RandomForestRegressor**"
   ]
  },
  {
   "cell_type": "code",
   "execution_count": 74,
   "metadata": {
    "scrolled": true
   },
   "outputs": [
    {
     "name": "stdout",
     "output_type": "stream",
     "text": [
      "Лучшее значение sMAPE для модели  RandomForestRegressor: -8.715113697495243 с параметрами {'max_depth': 4, 'n_estimators': 9}\n"
     ]
    }
   ],
   "source": [
    "rfr_model = RandomForestRegressor(random_state = state)\n",
    "\n",
    "parametrs_rfr_model = {'n_estimators': range (5, 25, 2),\n",
    "                      'max_depth': range (1, 11, 1)}\n",
    "\n",
    "grid_rfr_model = GridSearchCV(rfr_model, parametrs_rfr_model,  cv=5, n_jobs=-1, scoring=smape_scorer)\n",
    "grid_rfr_model.fit(features_train, target_train) \n",
    "print('Лучшее значение sMAPE для модели  RandomForestRegressor:', grid_rfr_model.best_score_,\n",
    "     'с параметрами', grid_rfr_model.best_params_)"
   ]
  },
  {
   "cell_type": "markdown",
   "metadata": {},
   "source": [
    "**Модель DecisionTreeRegressor**"
   ]
  },
  {
   "cell_type": "code",
   "execution_count": 75,
   "metadata": {
    "scrolled": true
   },
   "outputs": [
    {
     "name": "stdout",
     "output_type": "stream",
     "text": [
      "Лучшее значение sMAPE модели  \"DecisionTreeRegressor\": -8.95861345893431 с параметрами {'max_depth': 1}\n"
     ]
    }
   ],
   "source": [
    "dtr_model = DecisionTreeRegressor(random_state = state)\n",
    "\n",
    "parametrs_dtr_model = {'max_depth': range (1, 20)}\n",
    "\n",
    "grid_dtr_model = GridSearchCV(dtr_model, parametrs_dtr_model,  cv=5, n_jobs=-1, scoring=smape_scorer)\n",
    "grid_dtr_model.fit(features_train, target_train) \n",
    "print('Лучшее значение sMAPE модели  \"DecisionTreeRegressor\":', grid_dtr_model.best_score_,\n",
    "     'с параметрами', grid_dtr_model.best_params_)"
   ]
  },
  {
   "cell_type": "markdown",
   "metadata": {},
   "source": [
    "**Таким образом**, лучшее значение sMAPE у модели RandomForestRegressor: -8.715 с параметрами max_depth = 4 и n_estimators = 9. "
   ]
  },
  {
   "cell_type": "markdown",
   "metadata": {},
   "source": [
    "## Тестирование лучшей модели"
   ]
  },
  {
   "cell_type": "markdown",
   "metadata": {},
   "source": [
    "**Проведем тестирование лучшей модели по результатам исследования: модель \"RandomForestRegressor\" с параметрами max_depth = 4 и n_estimators = 9.**"
   ]
  },
  {
   "cell_type": "code",
   "execution_count": 76,
   "metadata": {
    "scrolled": true
   },
   "outputs": [
    {
     "name": "stdout",
     "output_type": "stream",
     "text": [
      "sMAPE на тестовой выборке: 9.301520553475715\n"
     ]
    }
   ],
   "source": [
    "best_model = RandomForestRegressor(random_state = state, **grid_rfr_model.best_params_)\n",
    "best_model.fit(features_train, target_train) \n",
    "predictions = best_model.predict(features_test)\n",
    "best_model_score = final_smape(target_test, predictions)\n",
    "print('sMAPE на тестовой выборке:', best_model_score)"
   ]
  },
  {
   "cell_type": "markdown",
   "metadata": {},
   "source": [
    "**Константная модель**"
   ]
  },
  {
   "cell_type": "code",
   "execution_count": 77,
   "metadata": {
    "scrolled": true
   },
   "outputs": [
    {
     "name": "stdout",
     "output_type": "stream",
     "text": [
      "sMAPE константной модели: 9.831066377059802\n"
     ]
    }
   ],
   "source": [
    "dummy_model = DummyRegressor(strategy=\"mean\")\n",
    "dummy_model.fit(features_train, target_train) \n",
    "predictions = dummy_model.predict(features_test)\n",
    "best_model_score = final_smape(target_test, predictions)\n",
    "print('sMAPE константной модели:', best_model_score)"
   ]
  },
  {
   "cell_type": "markdown",
   "metadata": {},
   "source": [
    "## Отчет"
   ]
  },
  {
   "cell_type": "markdown",
   "metadata": {},
   "source": [
    "**Описание проекта:**\n",
    "\n",
    "Строится модель машинного обучения для промышленной компании, разрабатывающая решения для эффективной работы промышленных предприятий. Модель должна предсказать коэффициент восстановления золота из золотосодержащей руды на основе данных с параметрами добычи и очистки. Модель поможет оптимизировать производство, чтобы не запускать предприятие с убыточными характеристиками.\n",
    "\n",
    "**Цель:** оптимизация производства на основе выявления предприятий с убыточными характеристиками.\n",
    "\n",
    "\n",
    "**Задача проекта:** спрогнозировать концентрацию золота при проведении процесса очистки золота.\n",
    "\n",
    "Данные состоят из трех файлов:\n",
    "\n",
    "* `gold_recovery_train_new.csv` - обучающая выборка;\n",
    "* `gold_recovery_test_new.csv` - тестовая выборка;\n",
    "* `gold_recovery_full_new.csv` - исходные данные.\n",
    "\n",
    "**Исследование происходило в несколько этапов:**\n",
    "\n",
    "**1.Подготовка данных.**\n",
    "\n",
    "Изучены четыре файла методами info(), head(), describe() и duplicated(). В каждом  файле содержатся пропущенные значения. Дубликаты не обнаружены.\n",
    "\n",
    "* Таблица gold_train (обучающая выборка) содержит 86 столбцов (тип данных float64) и 14149 строк.\n",
    "* Таблица gold_test (тестовая выборка) содержит 53 столбца (тип данных float64) и 5290 строк.\n",
    "* Таблица gold_full (исходные данные) содержит 87 столбцов (тип данных float64) и 19439 строк.\n",
    "\n",
    "Проведена проверка рассчета эффективности обогащения на обучающей выборке для признака rougher.output.recovery. MAE между моими расчётами и значением признака очень маленькое (порядка 10^-15), поэтому можно считать, что формула корректна.\n",
    "\n",
    "Проведен анализ признаков, недоступных в тестовой выборке. \n",
    "\n",
    "В **тестовой выборке** отсутствуют два типа параметров: \n",
    "* **output** (параметры продукта);\n",
    "* **calculation** (расчётные характеристики).\n",
    "\n",
    "**Общие** типы данных для обеих выборок: \n",
    "* **input** (параметры сырья); \n",
    "* **state** (параметры, характеризующие текущее состояние этапа).\n",
    "\n",
    "Проведена предобработка данных: так как обучающая и тестовая выборка имеют пропущенные значения, а по условию технического задания, соседние по времени параметры часто похожи, то заполнение значений осуществлялось с использованием метода ffill.\n"
   ]
  },
  {
   "cell_type": "markdown",
   "metadata": {},
   "source": [
    "**2. Анализ данных.**\n",
    "\n",
    "**Концентрация металлов на различных этапах очистки**\n",
    "\n",
    "Проведен анализ изменения концентрации золота, серебра и свинца на различных этапах очистки:\n",
    "* содержание золота стабильно увеличивается, но вместе с этим увеличиваются и выбросы;\n",
    "* содержание серебра увеличилось в черновом концентрате по сравнению со смесью руды, но в дальнейшем его концентрация уменьшилась;\n",
    "* содержание свинца постепенно увеличивалось.\n",
    "\n",
    "**Распределение размеров гранул сырья**\n",
    "\n",
    "Проведено сравнение распределения размеров гранул сырья на обучающей и тестовой выборках: размеров гранул сырья практически совпадают.\n",
    "\n",
    "**Cуммарная концентрация всех веществ на разных стадиях**\n",
    "\n",
    "Проведено исследование суммарной концентрации всех веществ на разных стадиях: в сырье, в черновом и финальном концентратах.\n",
    "На графике обнаружились аномальные значения в суммарной концентрации (пик при нуле), поэтому такие данные были удалены.\n",
    "\n"
   ]
  },
  {
   "cell_type": "markdown",
   "metadata": {},
   "source": [
    "**3. Построение модели**\n",
    "\n",
    "**Функция для вычисления sMAPE**: создана функция расчета метрики качества согласно условий проекта.\n",
    "\n",
    "\n",
    "**Выборка и масштабирование**: подготовлены обучающая и тестовая выборки, проведено масштабирование методом StandardScaler().\n",
    "\n",
    "**Обучение моделей и оценка их качества кросс-валидацией**\n",
    "\n",
    "Проведено обучение и анализ следующих моделей на обучающей выборке данных с подбором оптимальных гиперпараметров (GridSearchCV) и оценкой метрики качества с помощью кросс-валидации: `LinearRegression`, `RandomForestRegressor`, `DecisionTreeRegressor`. Лучшие результаты:\n",
    "         \n",
    "1. **Модель \"LinearRegression\":** \n",
    "* `метрика`: sMAPE = -10.03\n",
    "\n",
    "2. **Модель \"RandomForestRegressor\":**\n",
    "* `метрика`: sMAPE = -8.72\n",
    "* `параметры`: max_depth = 4, n_estimators = 9.\n",
    "\n",
    "3. **Модель \"DecisionTreeRegressor\":**\n",
    "* `метрика`: sMAPE = -8.96\n",
    "* `параметры`: max_depth = 1.\n",
    "\n",
    "Таким образом, наилучшие значения ROC-AUC у модели `RandomForestRegressor` с параметрами: max_depth = 4, n_estimators = 9."
   ]
  },
  {
   "cell_type": "markdown",
   "metadata": {},
   "source": [
    "**4. Тестирование лучшей модели.**\n",
    "\n",
    "Проведено тестирование лучшей модели `RandomForestRegressor` на тестовой выборке с параметрами:  max_depth = 4, n_estimators = 9 на тестовой выборке. \n",
    "\n",
    "Итоговое sMAPE на тестовой выборке: 9.3015\n",
    "\n",
    "Итоговое sMAPE константной модели: 9.8311\n"
   ]
  },
  {
   "cell_type": "markdown",
   "metadata": {},
   "source": [
    "\n",
    "\n"
   ]
  }
 ],
 "metadata": {
  "ExecuteTimeLog": [
   {
    "duration": 1375,
    "start_time": "2022-06-26T21:18:16.885Z"
   },
   {
    "duration": 100,
    "start_time": "2022-06-26T21:18:18.262Z"
   },
   {
    "duration": 38,
    "start_time": "2022-06-26T21:18:58.284Z"
   },
   {
    "duration": 14,
    "start_time": "2022-06-26T21:21:12.896Z"
   },
   {
    "duration": 1473,
    "start_time": "2022-06-26T21:24:57.938Z"
   },
   {
    "duration": 54,
    "start_time": "2022-06-26T21:25:02.608Z"
   },
   {
    "duration": 14,
    "start_time": "2022-06-26T21:25:12.488Z"
   },
   {
    "duration": 431,
    "start_time": "2022-06-26T21:27:22.908Z"
   },
   {
    "duration": 488,
    "start_time": "2022-06-26T21:28:37.128Z"
   },
   {
    "duration": 263,
    "start_time": "2022-06-26T21:31:14.248Z"
   },
   {
    "duration": 381,
    "start_time": "2022-06-26T21:31:47.324Z"
   },
   {
    "duration": 404,
    "start_time": "2022-06-26T21:34:14.765Z"
   },
   {
    "duration": 465,
    "start_time": "2022-06-26T21:36:15.001Z"
   },
   {
    "duration": 5,
    "start_time": "2022-06-26T21:39:57.872Z"
   },
   {
    "duration": 3,
    "start_time": "2022-06-26T21:40:27.209Z"
   },
   {
    "duration": 4,
    "start_time": "2022-06-26T21:40:40.429Z"
   },
   {
    "duration": 5,
    "start_time": "2022-06-26T21:41:26.988Z"
   },
   {
    "duration": 4,
    "start_time": "2022-06-26T21:42:05.079Z"
   },
   {
    "duration": 4,
    "start_time": "2022-06-26T21:42:06.837Z"
   },
   {
    "duration": 3,
    "start_time": "2022-06-26T21:45:14.240Z"
   },
   {
    "duration": 1551,
    "start_time": "2022-06-27T11:58:44.990Z"
   },
   {
    "duration": 1510,
    "start_time": "2022-06-27T11:58:48.684Z"
   },
   {
    "duration": 6,
    "start_time": "2022-06-27T11:58:54.736Z"
   },
   {
    "duration": 4,
    "start_time": "2022-06-27T12:00:37.555Z"
   },
   {
    "duration": 3,
    "start_time": "2022-06-27T12:00:42.307Z"
   },
   {
    "duration": 5,
    "start_time": "2022-06-27T12:06:06.130Z"
   },
   {
    "duration": 2,
    "start_time": "2022-06-27T12:06:16.844Z"
   },
   {
    "duration": 111,
    "start_time": "2022-06-27T12:09:08.001Z"
   },
   {
    "duration": 106,
    "start_time": "2022-06-27T12:14:52.462Z"
   },
   {
    "duration": 1156,
    "start_time": "2022-06-27T12:15:08.026Z"
   },
   {
    "duration": 1641,
    "start_time": "2022-06-27T19:37:26.951Z"
   },
   {
    "duration": 3184,
    "start_time": "2022-06-27T19:37:31.270Z"
   },
   {
    "duration": 1046,
    "start_time": "2022-06-27T19:37:42.529Z"
   },
   {
    "duration": 855,
    "start_time": "2022-06-27T19:38:47.063Z"
   },
   {
    "duration": 863,
    "start_time": "2022-06-27T20:11:40.145Z"
   },
   {
    "duration": 79,
    "start_time": "2022-06-27T21:23:36.859Z"
   },
   {
    "duration": 73,
    "start_time": "2022-06-27T21:23:53.889Z"
   },
   {
    "duration": 8,
    "start_time": "2022-06-27T21:25:17.857Z"
   },
   {
    "duration": 107,
    "start_time": "2022-06-27T21:34:26.029Z"
   },
   {
    "duration": 4,
    "start_time": "2022-06-27T21:35:21.558Z"
   },
   {
    "duration": 1951,
    "start_time": "2022-06-27T21:35:28.599Z"
   },
   {
    "duration": 6,
    "start_time": "2022-06-27T21:36:25.648Z"
   },
   {
    "duration": 109,
    "start_time": "2022-06-27T21:38:20.109Z"
   },
   {
    "duration": 72,
    "start_time": "2022-06-27T21:40:09.389Z"
   },
   {
    "duration": 70,
    "start_time": "2022-06-27T21:42:55.019Z"
   },
   {
    "duration": 5,
    "start_time": "2022-06-27T21:44:15.541Z"
   },
   {
    "duration": 78,
    "start_time": "2022-06-27T21:44:44.799Z"
   },
   {
    "duration": 67,
    "start_time": "2022-06-28T05:27:38.163Z"
   },
   {
    "duration": 1909,
    "start_time": "2022-06-28T05:27:49.379Z"
   },
   {
    "duration": 5302,
    "start_time": "2022-06-28T05:27:53.513Z"
   },
   {
    "duration": 1285,
    "start_time": "2022-06-28T05:27:58.817Z"
   },
   {
    "duration": 8,
    "start_time": "2022-06-28T05:28:07.490Z"
   },
   {
    "duration": 7,
    "start_time": "2022-06-28T05:28:20.173Z"
   },
   {
    "duration": 8,
    "start_time": "2022-06-28T05:28:38.645Z"
   },
   {
    "duration": 12,
    "start_time": "2022-06-28T05:38:23.544Z"
   },
   {
    "duration": 12,
    "start_time": "2022-06-28T05:55:32.220Z"
   },
   {
    "duration": 845,
    "start_time": "2022-06-28T06:50:46.096Z"
   },
   {
    "duration": 1081,
    "start_time": "2022-06-28T06:50:49.616Z"
   },
   {
    "duration": 10,
    "start_time": "2022-06-28T06:54:39.892Z"
   },
   {
    "duration": 13,
    "start_time": "2022-06-28T06:54:42.266Z"
   },
   {
    "duration": 14,
    "start_time": "2022-06-28T06:54:47.743Z"
   },
   {
    "duration": 9,
    "start_time": "2022-06-28T06:56:20.001Z"
   },
   {
    "duration": 17,
    "start_time": "2022-06-28T06:57:54.967Z"
   },
   {
    "duration": 17,
    "start_time": "2022-06-28T07:34:19.792Z"
   },
   {
    "duration": 6,
    "start_time": "2022-06-28T07:34:22.711Z"
   },
   {
    "duration": 10,
    "start_time": "2022-06-28T07:35:09.954Z"
   },
   {
    "duration": 22,
    "start_time": "2022-06-28T07:35:27.010Z"
   },
   {
    "duration": 8,
    "start_time": "2022-06-28T07:35:54.757Z"
   },
   {
    "duration": 110,
    "start_time": "2022-06-28T07:48:54.143Z"
   },
   {
    "duration": 9,
    "start_time": "2022-06-28T07:49:21.279Z"
   },
   {
    "duration": 14,
    "start_time": "2022-06-28T08:06:31.453Z"
   },
   {
    "duration": 129,
    "start_time": "2022-06-28T08:06:42.746Z"
   },
   {
    "duration": 0,
    "start_time": "2022-06-28T08:06:42.877Z"
   },
   {
    "duration": 0,
    "start_time": "2022-06-28T08:06:42.878Z"
   },
   {
    "duration": 0,
    "start_time": "2022-06-28T08:06:42.880Z"
   },
   {
    "duration": 15,
    "start_time": "2022-06-28T08:06:42.906Z"
   },
   {
    "duration": 0,
    "start_time": "2022-06-28T08:06:42.923Z"
   },
   {
    "duration": 9,
    "start_time": "2022-06-28T08:06:43.385Z"
   },
   {
    "duration": 13,
    "start_time": "2022-06-28T08:06:43.550Z"
   },
   {
    "duration": 0,
    "start_time": "2022-06-28T08:06:43.564Z"
   },
   {
    "duration": 7,
    "start_time": "2022-06-28T08:07:17.346Z"
   },
   {
    "duration": 960,
    "start_time": "2022-06-28T08:07:18.651Z"
   },
   {
    "duration": 1189,
    "start_time": "2022-06-28T08:07:19.998Z"
   },
   {
    "duration": 14,
    "start_time": "2022-06-28T08:07:24.326Z"
   },
   {
    "duration": 6,
    "start_time": "2022-06-28T08:07:25.904Z"
   },
   {
    "duration": 6,
    "start_time": "2022-06-28T08:07:29.852Z"
   },
   {
    "duration": 10,
    "start_time": "2022-06-28T08:07:37.562Z"
   },
   {
    "duration": 14,
    "start_time": "2022-06-28T08:07:50.196Z"
   },
   {
    "duration": 10,
    "start_time": "2022-06-28T08:07:51.859Z"
   },
   {
    "duration": 32,
    "start_time": "2022-06-28T08:08:39.804Z"
   },
   {
    "duration": 21,
    "start_time": "2022-06-28T08:11:18.965Z"
   },
   {
    "duration": 1591,
    "start_time": "2022-06-28T17:59:06.755Z"
   },
   {
    "duration": 3341,
    "start_time": "2022-06-28T18:10:47.288Z"
   },
   {
    "duration": 900,
    "start_time": "2022-06-28T18:10:57.417Z"
   },
   {
    "duration": 30,
    "start_time": "2022-06-28T18:14:50.299Z"
   },
   {
    "duration": 5,
    "start_time": "2022-06-28T18:15:05.615Z"
   },
   {
    "duration": 4,
    "start_time": "2022-06-28T18:15:24.015Z"
   },
   {
    "duration": 16,
    "start_time": "2022-06-28T18:15:33.723Z"
   },
   {
    "duration": 15,
    "start_time": "2022-06-28T18:15:37.745Z"
   },
   {
    "duration": 11,
    "start_time": "2022-06-28T18:15:55.380Z"
   },
   {
    "duration": 198,
    "start_time": "2022-06-28T18:25:53.215Z"
   },
   {
    "duration": 213,
    "start_time": "2022-06-28T18:48:01.618Z"
   },
   {
    "duration": 122,
    "start_time": "2022-06-28T19:02:25.668Z"
   },
   {
    "duration": 35,
    "start_time": "2022-06-28T19:03:00.218Z"
   },
   {
    "duration": 1519,
    "start_time": "2022-06-29T10:30:13.244Z"
   },
   {
    "duration": 3354,
    "start_time": "2022-06-29T10:30:14.765Z"
   },
   {
    "duration": 917,
    "start_time": "2022-06-29T10:30:18.120Z"
   },
   {
    "duration": 11,
    "start_time": "2022-06-29T10:30:19.040Z"
   },
   {
    "duration": 6,
    "start_time": "2022-06-29T10:30:19.053Z"
   },
   {
    "duration": 8,
    "start_time": "2022-06-29T10:30:19.060Z"
   },
   {
    "duration": 17,
    "start_time": "2022-06-29T10:30:19.069Z"
   },
   {
    "duration": 47,
    "start_time": "2022-06-29T10:30:19.087Z"
   },
   {
    "duration": 12,
    "start_time": "2022-06-29T10:30:19.136Z"
   },
   {
    "duration": 788,
    "start_time": "2022-06-29T10:35:07.863Z"
   },
   {
    "duration": 195,
    "start_time": "2022-06-29T10:35:08.653Z"
   },
   {
    "duration": 129,
    "start_time": "2022-06-29T10:35:25.876Z"
   },
   {
    "duration": 22,
    "start_time": "2022-06-29T10:35:59.914Z"
   },
   {
    "duration": 33,
    "start_time": "2022-06-29T10:38:50.421Z"
   },
   {
    "duration": 8,
    "start_time": "2022-06-29T10:48:28.848Z"
   },
   {
    "duration": 6,
    "start_time": "2022-06-29T10:49:46.862Z"
   },
   {
    "duration": 6,
    "start_time": "2022-06-29T10:56:43.944Z"
   },
   {
    "duration": 6,
    "start_time": "2022-06-29T10:58:25.033Z"
   },
   {
    "duration": 5,
    "start_time": "2022-06-29T10:58:34.273Z"
   },
   {
    "duration": 196,
    "start_time": "2022-06-29T11:02:51.411Z"
   },
   {
    "duration": 261,
    "start_time": "2022-06-29T11:03:15.699Z"
   },
   {
    "duration": 6,
    "start_time": "2022-06-29T11:08:50.351Z"
   },
   {
    "duration": 5,
    "start_time": "2022-06-29T11:08:58.256Z"
   },
   {
    "duration": 6,
    "start_time": "2022-06-29T11:09:10.355Z"
   },
   {
    "duration": 6,
    "start_time": "2022-06-29T11:09:28.840Z"
   },
   {
    "duration": 61,
    "start_time": "2022-06-29T19:45:57.206Z"
   },
   {
    "duration": 1569,
    "start_time": "2022-06-29T19:46:04.114Z"
   },
   {
    "duration": 3523,
    "start_time": "2022-06-29T19:46:05.685Z"
   },
   {
    "duration": 942,
    "start_time": "2022-06-29T19:46:09.210Z"
   },
   {
    "duration": 16,
    "start_time": "2022-06-29T19:46:10.155Z"
   },
   {
    "duration": 5,
    "start_time": "2022-06-29T19:46:10.172Z"
   },
   {
    "duration": 5,
    "start_time": "2022-06-29T19:46:10.179Z"
   },
   {
    "duration": 14,
    "start_time": "2022-06-29T19:46:10.185Z"
   },
   {
    "duration": 14,
    "start_time": "2022-06-29T19:46:10.201Z"
   },
   {
    "duration": 35,
    "start_time": "2022-06-29T19:46:10.217Z"
   },
   {
    "duration": 53,
    "start_time": "2022-06-29T19:46:34.846Z"
   },
   {
    "duration": 250,
    "start_time": "2022-06-29T19:46:38.399Z"
   },
   {
    "duration": 286,
    "start_time": "2022-06-29T19:47:52.597Z"
   },
   {
    "duration": 196,
    "start_time": "2022-06-29T19:48:32.419Z"
   },
   {
    "duration": 210,
    "start_time": "2022-06-29T19:49:10.733Z"
   },
   {
    "duration": 193,
    "start_time": "2022-06-29T19:49:44.675Z"
   },
   {
    "duration": 196,
    "start_time": "2022-06-29T19:53:33.878Z"
   },
   {
    "duration": 216,
    "start_time": "2022-06-29T19:53:48.400Z"
   },
   {
    "duration": 193,
    "start_time": "2022-06-29T19:54:02.441Z"
   },
   {
    "duration": 59,
    "start_time": "2022-06-29T20:11:42.527Z"
   },
   {
    "duration": 205,
    "start_time": "2022-06-29T20:11:44.299Z"
   },
   {
    "duration": 140,
    "start_time": "2022-06-29T20:13:25.036Z"
   },
   {
    "duration": 48,
    "start_time": "2022-06-29T20:20:16.339Z"
   },
   {
    "duration": 197,
    "start_time": "2022-06-29T20:20:17.491Z"
   },
   {
    "duration": 6,
    "start_time": "2022-06-29T20:32:49.905Z"
   },
   {
    "duration": 298,
    "start_time": "2022-06-29T20:32:50.900Z"
   },
   {
    "duration": 61,
    "start_time": "2022-06-29T20:33:45.631Z"
   },
   {
    "duration": 200,
    "start_time": "2022-06-29T20:33:47.292Z"
   },
   {
    "duration": 168,
    "start_time": "2022-06-29T20:34:12.773Z"
   },
   {
    "duration": 157,
    "start_time": "2022-06-29T20:34:46.037Z"
   },
   {
    "duration": 237,
    "start_time": "2022-06-29T20:35:08.787Z"
   },
   {
    "duration": 166,
    "start_time": "2022-06-29T20:36:01.687Z"
   },
   {
    "duration": 183,
    "start_time": "2022-06-29T20:36:42.087Z"
   },
   {
    "duration": 266,
    "start_time": "2022-06-29T20:37:13.867Z"
   },
   {
    "duration": 187,
    "start_time": "2022-06-29T20:38:04.047Z"
   },
   {
    "duration": 63,
    "start_time": "2022-06-29T20:38:48.447Z"
   },
   {
    "duration": 167,
    "start_time": "2022-06-29T20:38:49.346Z"
   },
   {
    "duration": 72,
    "start_time": "2022-06-29T20:39:07.479Z"
   },
   {
    "duration": 185,
    "start_time": "2022-06-29T20:39:08.838Z"
   },
   {
    "duration": 140,
    "start_time": "2022-06-29T20:39:15.974Z"
   },
   {
    "duration": 175,
    "start_time": "2022-06-29T20:39:17.106Z"
   },
   {
    "duration": 51,
    "start_time": "2022-06-29T20:39:23.093Z"
   },
   {
    "duration": 204,
    "start_time": "2022-06-29T20:39:23.907Z"
   },
   {
    "duration": 519,
    "start_time": "2022-06-29T21:23:08.889Z"
   },
   {
    "duration": 512,
    "start_time": "2022-06-29T21:23:49.509Z"
   },
   {
    "duration": 458,
    "start_time": "2022-06-29T21:25:25.817Z"
   },
   {
    "duration": 524,
    "start_time": "2022-06-29T21:26:56.549Z"
   },
   {
    "duration": 461,
    "start_time": "2022-06-29T21:27:47.011Z"
   },
   {
    "duration": 550,
    "start_time": "2022-06-29T21:28:28.753Z"
   },
   {
    "duration": 502,
    "start_time": "2022-06-29T21:28:57.899Z"
   },
   {
    "duration": 375,
    "start_time": "2022-06-29T21:31:32.370Z"
   },
   {
    "duration": 522,
    "start_time": "2022-06-29T21:31:59.429Z"
   },
   {
    "duration": 500,
    "start_time": "2022-06-29T21:32:16.148Z"
   },
   {
    "duration": 529,
    "start_time": "2022-06-29T21:32:33.626Z"
   },
   {
    "duration": 568,
    "start_time": "2022-06-29T21:38:29.811Z"
   },
   {
    "duration": 223,
    "start_time": "2022-06-29T22:17:58.554Z"
   },
   {
    "duration": 205,
    "start_time": "2022-06-29T22:18:02.056Z"
   },
   {
    "duration": 999,
    "start_time": "2022-06-29T22:19:36.356Z"
   },
   {
    "duration": 234,
    "start_time": "2022-06-29T22:20:14.840Z"
   },
   {
    "duration": 236,
    "start_time": "2022-06-29T22:26:44.037Z"
   },
   {
    "duration": 221,
    "start_time": "2022-06-29T22:33:09.527Z"
   },
   {
    "duration": 209,
    "start_time": "2022-06-29T22:35:03.205Z"
   },
   {
    "duration": 141,
    "start_time": "2022-06-29T22:35:22.407Z"
   },
   {
    "duration": 206,
    "start_time": "2022-06-29T22:40:53.806Z"
   },
   {
    "duration": 189,
    "start_time": "2022-06-29T22:41:26.647Z"
   },
   {
    "duration": 188,
    "start_time": "2022-06-29T22:41:45.087Z"
   },
   {
    "duration": 186,
    "start_time": "2022-06-29T22:42:08.304Z"
   },
   {
    "duration": 184,
    "start_time": "2022-06-29T22:42:24.669Z"
   },
   {
    "duration": 185,
    "start_time": "2022-06-29T22:43:44.016Z"
   },
   {
    "duration": 1005,
    "start_time": "2022-06-29T22:50:19.207Z"
   },
   {
    "duration": 11,
    "start_time": "2022-06-29T22:52:34.588Z"
   },
   {
    "duration": 205,
    "start_time": "2022-06-29T22:53:01.195Z"
   },
   {
    "duration": 242,
    "start_time": "2022-06-29T23:01:13.448Z"
   },
   {
    "duration": 141,
    "start_time": "2022-06-29T23:04:22.269Z"
   },
   {
    "duration": 14,
    "start_time": "2022-06-29T23:06:26.520Z"
   },
   {
    "duration": 13,
    "start_time": "2022-06-29T23:06:36.527Z"
   },
   {
    "duration": 198,
    "start_time": "2022-06-29T23:07:30.350Z"
   },
   {
    "duration": 11,
    "start_time": "2022-06-29T23:09:03.931Z"
   },
   {
    "duration": 396,
    "start_time": "2022-06-29T23:09:42.735Z"
   },
   {
    "duration": 7,
    "start_time": "2022-06-29T23:12:57.633Z"
   },
   {
    "duration": 1140,
    "start_time": "2022-06-29T23:13:28.568Z"
   },
   {
    "duration": 1075,
    "start_time": "2022-06-29T23:15:27.518Z"
   },
   {
    "duration": 19,
    "start_time": "2022-06-30T00:33:38.926Z"
   },
   {
    "duration": 26,
    "start_time": "2022-06-30T00:34:05.989Z"
   },
   {
    "duration": 9,
    "start_time": "2022-06-30T00:45:03.397Z"
   },
   {
    "duration": 1283,
    "start_time": "2022-06-30T00:45:07.315Z"
   },
   {
    "duration": 1270,
    "start_time": "2022-06-30T00:46:04.743Z"
   },
   {
    "duration": 30,
    "start_time": "2022-06-30T00:47:30.019Z"
   },
   {
    "duration": 7,
    "start_time": "2022-06-30T18:38:01.839Z"
   },
   {
    "duration": 2,
    "start_time": "2022-06-30T18:38:03.658Z"
   },
   {
    "duration": 1596,
    "start_time": "2022-06-30T18:38:10.538Z"
   },
   {
    "duration": 1497,
    "start_time": "2022-06-30T18:38:12.136Z"
   },
   {
    "duration": 952,
    "start_time": "2022-06-30T18:38:13.635Z"
   },
   {
    "duration": 11,
    "start_time": "2022-06-30T18:38:14.590Z"
   },
   {
    "duration": 6,
    "start_time": "2022-06-30T18:38:14.602Z"
   },
   {
    "duration": 8,
    "start_time": "2022-06-30T18:38:14.609Z"
   },
   {
    "duration": 42,
    "start_time": "2022-06-30T18:38:14.619Z"
   },
   {
    "duration": 17,
    "start_time": "2022-06-30T18:38:14.663Z"
   },
   {
    "duration": 12,
    "start_time": "2022-06-30T18:38:14.682Z"
   },
   {
    "duration": 78,
    "start_time": "2022-06-30T18:38:14.696Z"
   },
   {
    "duration": 196,
    "start_time": "2022-06-30T18:38:14.776Z"
   },
   {
    "duration": 131,
    "start_time": "2022-06-30T18:38:14.974Z"
   },
   {
    "duration": 194,
    "start_time": "2022-06-30T18:38:15.106Z"
   },
   {
    "duration": 59,
    "start_time": "2022-06-30T18:38:15.302Z"
   },
   {
    "duration": 198,
    "start_time": "2022-06-30T18:38:15.363Z"
   },
   {
    "duration": 63,
    "start_time": "2022-06-30T18:38:15.562Z"
   },
   {
    "duration": 210,
    "start_time": "2022-06-30T18:38:15.627Z"
   },
   {
    "duration": 558,
    "start_time": "2022-06-30T18:38:15.838Z"
   },
   {
    "duration": 502,
    "start_time": "2022-06-30T18:38:16.397Z"
   },
   {
    "duration": 9,
    "start_time": "2022-06-30T18:38:16.901Z"
   },
   {
    "duration": 1403,
    "start_time": "2022-06-30T18:38:16.911Z"
   },
   {
    "duration": 47,
    "start_time": "2022-06-30T18:38:18.315Z"
   },
   {
    "duration": 3,
    "start_time": "2022-06-30T18:38:18.363Z"
   },
   {
    "duration": 3,
    "start_time": "2022-06-30T18:38:32.052Z"
   },
   {
    "duration": 4,
    "start_time": "2022-06-30T18:38:35.718Z"
   },
   {
    "duration": 112,
    "start_time": "2022-06-30T18:40:52.459Z"
   },
   {
    "duration": 17,
    "start_time": "2022-06-30T18:41:07.653Z"
   },
   {
    "duration": 13,
    "start_time": "2022-06-30T18:41:35.517Z"
   },
   {
    "duration": 10,
    "start_time": "2022-06-30T18:46:30.435Z"
   },
   {
    "duration": 14,
    "start_time": "2022-06-30T18:46:44.993Z"
   },
   {
    "duration": 14,
    "start_time": "2022-06-30T18:47:29.301Z"
   },
   {
    "duration": 15,
    "start_time": "2022-06-30T18:48:09.780Z"
   },
   {
    "duration": 13,
    "start_time": "2022-06-30T18:58:29.275Z"
   },
   {
    "duration": 15,
    "start_time": "2022-06-30T18:58:54.309Z"
   },
   {
    "duration": 29,
    "start_time": "2022-06-30T18:59:06.740Z"
   },
   {
    "duration": 4,
    "start_time": "2022-06-30T19:00:40.270Z"
   },
   {
    "duration": 723,
    "start_time": "2022-06-30T19:00:40.302Z"
   },
   {
    "duration": 917,
    "start_time": "2022-06-30T19:00:41.027Z"
   },
   {
    "duration": 14,
    "start_time": "2022-06-30T19:00:41.946Z"
   },
   {
    "duration": 6,
    "start_time": "2022-06-30T19:00:41.962Z"
   },
   {
    "duration": 7,
    "start_time": "2022-06-30T19:00:41.970Z"
   },
   {
    "duration": 19,
    "start_time": "2022-06-30T19:00:41.979Z"
   },
   {
    "duration": 16,
    "start_time": "2022-06-30T19:00:42.000Z"
   },
   {
    "duration": 45,
    "start_time": "2022-06-30T19:00:42.018Z"
   },
   {
    "duration": 177,
    "start_time": "2022-06-30T19:00:42.065Z"
   },
   {
    "duration": 188,
    "start_time": "2022-06-30T19:00:42.244Z"
   },
   {
    "duration": 54,
    "start_time": "2022-06-30T19:00:42.434Z"
   },
   {
    "duration": 188,
    "start_time": "2022-06-30T19:00:42.490Z"
   },
   {
    "duration": 86,
    "start_time": "2022-06-30T19:00:42.679Z"
   },
   {
    "duration": 187,
    "start_time": "2022-06-30T19:00:42.767Z"
   },
   {
    "duration": 154,
    "start_time": "2022-06-30T19:00:42.956Z"
   },
   {
    "duration": 182,
    "start_time": "2022-06-30T19:00:43.111Z"
   },
   {
    "duration": 564,
    "start_time": "2022-06-30T19:00:43.295Z"
   },
   {
    "duration": 534,
    "start_time": "2022-06-30T19:00:43.860Z"
   },
   {
    "duration": 13,
    "start_time": "2022-06-30T19:00:44.396Z"
   },
   {
    "duration": 1384,
    "start_time": "2022-06-30T19:00:44.411Z"
   },
   {
    "duration": 34,
    "start_time": "2022-06-30T19:00:45.797Z"
   },
   {
    "duration": 3,
    "start_time": "2022-06-30T19:00:45.832Z"
   },
   {
    "duration": 22,
    "start_time": "2022-06-30T19:00:45.837Z"
   },
   {
    "duration": 3,
    "start_time": "2022-06-30T19:00:50.302Z"
   },
   {
    "duration": 5,
    "start_time": "2022-06-30T19:01:02.700Z"
   },
   {
    "duration": 10,
    "start_time": "2022-06-30T19:03:08.573Z"
   },
   {
    "duration": 10,
    "start_time": "2022-06-30T19:03:40.133Z"
   },
   {
    "duration": 10,
    "start_time": "2022-06-30T19:05:17.015Z"
   },
   {
    "duration": 52,
    "start_time": "2022-06-30T19:33:27.936Z"
   },
   {
    "duration": 50,
    "start_time": "2022-06-30T19:34:45.174Z"
   },
   {
    "duration": 97,
    "start_time": "2022-06-30T19:36:12.545Z"
   },
   {
    "duration": 11,
    "start_time": "2022-06-30T19:37:04.116Z"
   },
   {
    "duration": 49,
    "start_time": "2022-06-30T19:37:49.816Z"
   },
   {
    "duration": 10,
    "start_time": "2022-06-30T19:37:49.972Z"
   },
   {
    "duration": 56,
    "start_time": "2022-06-30T19:38:10.581Z"
   },
   {
    "duration": 13,
    "start_time": "2022-06-30T19:48:25.658Z"
   },
   {
    "duration": 9,
    "start_time": "2022-06-30T19:50:36.779Z"
   },
   {
    "duration": 3,
    "start_time": "2022-06-30T19:51:41.880Z"
   },
   {
    "duration": 701,
    "start_time": "2022-06-30T19:51:42.339Z"
   },
   {
    "duration": 953,
    "start_time": "2022-06-30T19:51:43.042Z"
   },
   {
    "duration": 10,
    "start_time": "2022-06-30T19:51:43.997Z"
   },
   {
    "duration": 10,
    "start_time": "2022-06-30T19:51:44.009Z"
   },
   {
    "duration": 7,
    "start_time": "2022-06-30T19:51:44.022Z"
   },
   {
    "duration": 38,
    "start_time": "2022-06-30T19:51:44.031Z"
   },
   {
    "duration": 16,
    "start_time": "2022-06-30T19:51:44.072Z"
   },
   {
    "duration": 14,
    "start_time": "2022-06-30T19:51:44.488Z"
   },
   {
    "duration": 57,
    "start_time": "2022-06-30T19:51:44.504Z"
   },
   {
    "duration": 183,
    "start_time": "2022-06-30T19:51:44.563Z"
   },
   {
    "duration": 66,
    "start_time": "2022-06-30T19:51:44.748Z"
   },
   {
    "duration": 195,
    "start_time": "2022-06-30T19:51:44.816Z"
   },
   {
    "duration": 184,
    "start_time": "2022-06-30T19:51:45.272Z"
   },
   {
    "duration": 172,
    "start_time": "2022-06-30T19:51:45.637Z"
   },
   {
    "duration": 65,
    "start_time": "2022-06-30T19:51:45.812Z"
   },
   {
    "duration": 201,
    "start_time": "2022-06-30T19:51:45.878Z"
   },
   {
    "duration": 613,
    "start_time": "2022-06-30T19:51:46.384Z"
   },
   {
    "duration": 670,
    "start_time": "2022-06-30T19:51:47.000Z"
   },
   {
    "duration": 10,
    "start_time": "2022-06-30T19:51:47.671Z"
   },
   {
    "duration": 1384,
    "start_time": "2022-06-30T19:51:47.683Z"
   },
   {
    "duration": 33,
    "start_time": "2022-06-30T19:51:49.069Z"
   },
   {
    "duration": 24,
    "start_time": "2022-06-30T19:51:53.622Z"
   },
   {
    "duration": 21,
    "start_time": "2022-06-30T19:57:05.552Z"
   },
   {
    "duration": 19,
    "start_time": "2022-06-30T19:57:23.618Z"
   },
   {
    "duration": 61,
    "start_time": "2022-06-30T19:59:31.448Z"
   },
   {
    "duration": 18,
    "start_time": "2022-06-30T19:59:57.228Z"
   },
   {
    "duration": 3,
    "start_time": "2022-06-30T20:17:07.985Z"
   },
   {
    "duration": 654,
    "start_time": "2022-06-30T20:17:08.009Z"
   },
   {
    "duration": 895,
    "start_time": "2022-06-30T20:17:08.665Z"
   },
   {
    "duration": 10,
    "start_time": "2022-06-30T20:17:09.562Z"
   },
   {
    "duration": 4,
    "start_time": "2022-06-30T20:17:09.575Z"
   },
   {
    "duration": 7,
    "start_time": "2022-06-30T20:17:09.581Z"
   },
   {
    "duration": 20,
    "start_time": "2022-06-30T20:17:09.589Z"
   },
   {
    "duration": 16,
    "start_time": "2022-06-30T20:17:09.611Z"
   },
   {
    "duration": 41,
    "start_time": "2022-06-30T20:17:09.629Z"
   },
   {
    "duration": 51,
    "start_time": "2022-06-30T20:17:09.671Z"
   },
   {
    "duration": 198,
    "start_time": "2022-06-30T20:17:09.724Z"
   },
   {
    "duration": 180,
    "start_time": "2022-06-30T20:17:09.923Z"
   },
   {
    "duration": 192,
    "start_time": "2022-06-30T20:17:10.105Z"
   },
   {
    "duration": 60,
    "start_time": "2022-06-30T20:17:10.299Z"
   },
   {
    "duration": 174,
    "start_time": "2022-06-30T20:17:10.360Z"
   },
   {
    "duration": 59,
    "start_time": "2022-06-30T20:17:10.536Z"
   },
   {
    "duration": 187,
    "start_time": "2022-06-30T20:17:10.597Z"
   },
   {
    "duration": 568,
    "start_time": "2022-06-30T20:17:10.786Z"
   },
   {
    "duration": 529,
    "start_time": "2022-06-30T20:17:11.356Z"
   },
   {
    "duration": 10,
    "start_time": "2022-06-30T20:17:11.887Z"
   },
   {
    "duration": 62,
    "start_time": "2022-06-30T20:17:28.893Z"
   },
   {
    "duration": 137,
    "start_time": "2022-06-30T20:23:04.336Z"
   },
   {
    "duration": 15,
    "start_time": "2022-06-30T20:23:30.512Z"
   },
   {
    "duration": 3,
    "start_time": "2022-06-30T20:29:51.306Z"
   },
   {
    "duration": 657,
    "start_time": "2022-06-30T20:29:51.377Z"
   },
   {
    "duration": 867,
    "start_time": "2022-06-30T20:29:52.037Z"
   },
   {
    "duration": 9,
    "start_time": "2022-06-30T20:29:52.906Z"
   },
   {
    "duration": 8,
    "start_time": "2022-06-30T20:29:52.917Z"
   },
   {
    "duration": 11,
    "start_time": "2022-06-30T20:29:52.926Z"
   },
   {
    "duration": 26,
    "start_time": "2022-06-30T20:29:52.939Z"
   },
   {
    "duration": 17,
    "start_time": "2022-06-30T20:29:52.968Z"
   },
   {
    "duration": 16,
    "start_time": "2022-06-30T20:29:52.987Z"
   },
   {
    "duration": 94,
    "start_time": "2022-06-30T20:29:53.006Z"
   },
   {
    "duration": 189,
    "start_time": "2022-06-30T20:29:53.103Z"
   },
   {
    "duration": 66,
    "start_time": "2022-06-30T20:29:53.295Z"
   },
   {
    "duration": 199,
    "start_time": "2022-06-30T20:29:53.363Z"
   },
   {
    "duration": 143,
    "start_time": "2022-06-30T20:29:53.564Z"
   },
   {
    "duration": 186,
    "start_time": "2022-06-30T20:29:53.709Z"
   },
   {
    "duration": 62,
    "start_time": "2022-06-30T20:29:53.897Z"
   },
   {
    "duration": 177,
    "start_time": "2022-06-30T20:29:53.960Z"
   },
   {
    "duration": 533,
    "start_time": "2022-06-30T20:29:54.138Z"
   },
   {
    "duration": 514,
    "start_time": "2022-06-30T20:29:54.673Z"
   },
   {
    "duration": 11,
    "start_time": "2022-06-30T20:29:55.189Z"
   },
   {
    "duration": 1365,
    "start_time": "2022-06-30T20:30:00.935Z"
   },
   {
    "duration": 59,
    "start_time": "2022-06-30T20:30:08.912Z"
   },
   {
    "duration": 10,
    "start_time": "2022-06-30T20:41:16.906Z"
   },
   {
    "duration": 7,
    "start_time": "2022-06-30T20:41:36.872Z"
   },
   {
    "duration": 11,
    "start_time": "2022-06-30T20:43:39.089Z"
   },
   {
    "duration": 15,
    "start_time": "2022-06-30T20:47:20.338Z"
   },
   {
    "duration": 13,
    "start_time": "2022-06-30T20:47:32.685Z"
   },
   {
    "duration": 19,
    "start_time": "2022-06-30T20:48:08.210Z"
   },
   {
    "duration": 16,
    "start_time": "2022-06-30T20:48:28.549Z"
   },
   {
    "duration": 13,
    "start_time": "2022-06-30T20:52:01.615Z"
   },
   {
    "duration": 10,
    "start_time": "2022-06-30T20:52:04.977Z"
   },
   {
    "duration": 11,
    "start_time": "2022-06-30T21:02:45.696Z"
   },
   {
    "duration": 10,
    "start_time": "2022-06-30T21:16:21.646Z"
   },
   {
    "duration": 10,
    "start_time": "2022-06-30T21:16:47.135Z"
   },
   {
    "duration": 4,
    "start_time": "2022-06-30T21:20:56.236Z"
   },
   {
    "duration": 784,
    "start_time": "2022-06-30T21:20:56.250Z"
   },
   {
    "duration": 1006,
    "start_time": "2022-06-30T21:20:57.037Z"
   },
   {
    "duration": 19,
    "start_time": "2022-06-30T21:20:58.045Z"
   },
   {
    "duration": 5,
    "start_time": "2022-06-30T21:20:58.065Z"
   },
   {
    "duration": 8,
    "start_time": "2022-06-30T21:20:58.071Z"
   },
   {
    "duration": 16,
    "start_time": "2022-06-30T21:20:58.080Z"
   },
   {
    "duration": 15,
    "start_time": "2022-06-30T21:20:58.098Z"
   },
   {
    "duration": 11,
    "start_time": "2022-06-30T21:20:58.114Z"
   },
   {
    "duration": 83,
    "start_time": "2022-06-30T21:20:58.126Z"
   },
   {
    "duration": 183,
    "start_time": "2022-06-30T21:20:58.211Z"
   },
   {
    "duration": 179,
    "start_time": "2022-06-30T21:20:58.395Z"
   },
   {
    "duration": 192,
    "start_time": "2022-06-30T21:20:58.576Z"
   },
   {
    "duration": 49,
    "start_time": "2022-06-30T21:20:58.770Z"
   },
   {
    "duration": 182,
    "start_time": "2022-06-30T21:20:58.821Z"
   },
   {
    "duration": 59,
    "start_time": "2022-06-30T21:20:59.005Z"
   },
   {
    "duration": 181,
    "start_time": "2022-06-30T21:20:59.065Z"
   },
   {
    "duration": 515,
    "start_time": "2022-06-30T21:20:59.248Z"
   },
   {
    "duration": 533,
    "start_time": "2022-06-30T21:20:59.764Z"
   },
   {
    "duration": 10,
    "start_time": "2022-06-30T21:21:00.299Z"
   },
   {
    "duration": 1412,
    "start_time": "2022-06-30T21:21:00.311Z"
   },
   {
    "duration": 57,
    "start_time": "2022-06-30T21:25:40.714Z"
   },
   {
    "duration": 55,
    "start_time": "2022-06-30T21:26:23.474Z"
   },
   {
    "duration": 11,
    "start_time": "2022-06-30T21:45:29.534Z"
   },
   {
    "duration": 1371,
    "start_time": "2022-06-30T21:45:34.861Z"
   },
   {
    "duration": 14,
    "start_time": "2022-06-30T21:50:49.894Z"
   },
   {
    "duration": 128,
    "start_time": "2022-06-30T21:51:51.653Z"
   },
   {
    "duration": 23,
    "start_time": "2022-06-30T21:52:08.924Z"
   },
   {
    "duration": 9,
    "start_time": "2022-06-30T21:52:46.144Z"
   },
   {
    "duration": 11,
    "start_time": "2022-06-30T21:55:10.223Z"
   },
   {
    "duration": 4,
    "start_time": "2022-06-30T21:55:15.863Z"
   },
   {
    "duration": 653,
    "start_time": "2022-06-30T21:55:15.995Z"
   },
   {
    "duration": 1008,
    "start_time": "2022-06-30T21:55:16.651Z"
   },
   {
    "duration": 8,
    "start_time": "2022-06-30T21:55:17.661Z"
   },
   {
    "duration": 6,
    "start_time": "2022-06-30T21:55:17.671Z"
   },
   {
    "duration": 15,
    "start_time": "2022-06-30T21:55:17.679Z"
   },
   {
    "duration": 19,
    "start_time": "2022-06-30T21:55:17.696Z"
   },
   {
    "duration": 43,
    "start_time": "2022-06-30T21:55:17.717Z"
   },
   {
    "duration": 12,
    "start_time": "2022-06-30T21:55:17.762Z"
   },
   {
    "duration": 192,
    "start_time": "2022-06-30T21:55:17.776Z"
   },
   {
    "duration": 185,
    "start_time": "2022-06-30T21:55:17.971Z"
   },
   {
    "duration": 51,
    "start_time": "2022-06-30T21:55:18.159Z"
   },
   {
    "duration": 195,
    "start_time": "2022-06-30T21:55:18.212Z"
   },
   {
    "duration": 64,
    "start_time": "2022-06-30T21:55:18.409Z"
   },
   {
    "duration": 186,
    "start_time": "2022-06-30T21:55:18.475Z"
   },
   {
    "duration": 143,
    "start_time": "2022-06-30T21:55:18.663Z"
   },
   {
    "duration": 184,
    "start_time": "2022-06-30T21:55:18.808Z"
   },
   {
    "duration": 593,
    "start_time": "2022-06-30T21:55:18.994Z"
   },
   {
    "duration": 510,
    "start_time": "2022-06-30T21:55:19.589Z"
   },
   {
    "duration": 10,
    "start_time": "2022-06-30T21:55:20.100Z"
   },
   {
    "duration": 1378,
    "start_time": "2022-06-30T21:55:20.111Z"
   },
   {
    "duration": 64,
    "start_time": "2022-06-30T21:55:28.064Z"
   },
   {
    "duration": 61,
    "start_time": "2022-06-30T21:56:48.025Z"
   },
   {
    "duration": 11,
    "start_time": "2022-06-30T21:56:59.364Z"
   },
   {
    "duration": 3,
    "start_time": "2022-06-30T21:57:03.894Z"
   },
   {
    "duration": 37,
    "start_time": "2022-06-30T21:57:30.916Z"
   },
   {
    "duration": 46,
    "start_time": "2022-06-30T22:01:07.283Z"
   },
   {
    "duration": 6,
    "start_time": "2022-06-30T22:01:49.495Z"
   },
   {
    "duration": 739,
    "start_time": "2022-06-30T22:01:49.503Z"
   },
   {
    "duration": 1009,
    "start_time": "2022-06-30T22:01:50.243Z"
   },
   {
    "duration": 9,
    "start_time": "2022-06-30T22:01:51.259Z"
   },
   {
    "duration": 8,
    "start_time": "2022-06-30T22:01:51.271Z"
   },
   {
    "duration": 8,
    "start_time": "2022-06-30T22:01:51.280Z"
   },
   {
    "duration": 18,
    "start_time": "2022-06-30T22:01:51.289Z"
   },
   {
    "duration": 16,
    "start_time": "2022-06-30T22:01:51.309Z"
   },
   {
    "duration": 42,
    "start_time": "2022-06-30T22:01:51.327Z"
   },
   {
    "duration": 61,
    "start_time": "2022-06-30T22:01:51.372Z"
   },
   {
    "duration": 212,
    "start_time": "2022-06-30T22:01:51.435Z"
   },
   {
    "duration": 190,
    "start_time": "2022-06-30T22:01:51.649Z"
   },
   {
    "duration": 194,
    "start_time": "2022-06-30T22:01:51.840Z"
   },
   {
    "duration": 60,
    "start_time": "2022-06-30T22:01:52.036Z"
   },
   {
    "duration": 191,
    "start_time": "2022-06-30T22:01:52.097Z"
   },
   {
    "duration": 77,
    "start_time": "2022-06-30T22:01:52.289Z"
   },
   {
    "duration": 178,
    "start_time": "2022-06-30T22:01:52.368Z"
   },
   {
    "duration": 552,
    "start_time": "2022-06-30T22:01:52.547Z"
   },
   {
    "duration": 632,
    "start_time": "2022-06-30T22:01:53.102Z"
   },
   {
    "duration": 10,
    "start_time": "2022-06-30T22:01:53.736Z"
   },
   {
    "duration": 1441,
    "start_time": "2022-06-30T22:01:53.748Z"
   },
   {
    "duration": 64,
    "start_time": "2022-06-30T22:02:04.893Z"
   },
   {
    "duration": 4,
    "start_time": "2022-06-30T22:09:18.098Z"
   },
   {
    "duration": 187,
    "start_time": "2022-06-30T22:09:49.700Z"
   },
   {
    "duration": 14,
    "start_time": "2022-06-30T22:11:21.920Z"
   },
   {
    "duration": 15,
    "start_time": "2022-06-30T22:11:26.160Z"
   },
   {
    "duration": 2,
    "start_time": "2022-06-30T22:13:28.910Z"
   },
   {
    "duration": 7,
    "start_time": "2022-06-30T22:13:39.263Z"
   },
   {
    "duration": 8,
    "start_time": "2022-06-30T22:13:42.220Z"
   },
   {
    "duration": 10,
    "start_time": "2022-06-30T22:14:28.055Z"
   },
   {
    "duration": 3,
    "start_time": "2022-06-30T22:14:36.988Z"
   },
   {
    "duration": 763,
    "start_time": "2022-06-30T22:14:37.005Z"
   },
   {
    "duration": 1040,
    "start_time": "2022-06-30T22:14:37.770Z"
   },
   {
    "duration": 9,
    "start_time": "2022-06-30T22:14:38.812Z"
   },
   {
    "duration": 21,
    "start_time": "2022-06-30T22:14:38.824Z"
   },
   {
    "duration": 19,
    "start_time": "2022-06-30T22:14:38.847Z"
   },
   {
    "duration": 42,
    "start_time": "2022-06-30T22:14:38.868Z"
   },
   {
    "duration": 22,
    "start_time": "2022-06-30T22:14:38.912Z"
   },
   {
    "duration": 42,
    "start_time": "2022-06-30T22:14:38.936Z"
   },
   {
    "duration": 88,
    "start_time": "2022-06-30T22:14:38.981Z"
   },
   {
    "duration": 210,
    "start_time": "2022-06-30T22:14:39.072Z"
   },
   {
    "duration": 57,
    "start_time": "2022-06-30T22:14:39.284Z"
   },
   {
    "duration": 223,
    "start_time": "2022-06-30T22:14:39.342Z"
   },
   {
    "duration": 160,
    "start_time": "2022-06-30T22:14:39.567Z"
   },
   {
    "duration": 199,
    "start_time": "2022-06-30T22:14:39.729Z"
   },
   {
    "duration": 61,
    "start_time": "2022-06-30T22:14:39.930Z"
   },
   {
    "duration": 197,
    "start_time": "2022-06-30T22:14:39.993Z"
   },
   {
    "duration": 631,
    "start_time": "2022-06-30T22:14:40.192Z"
   },
   {
    "duration": 617,
    "start_time": "2022-06-30T22:14:40.825Z"
   },
   {
    "duration": 18,
    "start_time": "2022-06-30T22:14:41.444Z"
   },
   {
    "duration": 1353,
    "start_time": "2022-06-30T22:14:41.464Z"
   },
   {
    "duration": 20,
    "start_time": "2022-06-30T22:14:42.818Z"
   },
   {
    "duration": 29,
    "start_time": "2022-06-30T22:14:42.840Z"
   },
   {
    "duration": 13,
    "start_time": "2022-06-30T22:14:42.871Z"
   },
   {
    "duration": 12,
    "start_time": "2022-06-30T22:14:42.886Z"
   },
   {
    "duration": 3,
    "start_time": "2022-06-30T22:14:50.501Z"
   },
   {
    "duration": 5,
    "start_time": "2022-06-30T22:14:51.602Z"
   },
   {
    "duration": 21,
    "start_time": "2022-06-30T22:14:54.262Z"
   },
   {
    "duration": 13,
    "start_time": "2022-06-30T22:16:02.956Z"
   },
   {
    "duration": 11,
    "start_time": "2022-06-30T22:16:58.321Z"
   },
   {
    "duration": 12,
    "start_time": "2022-06-30T22:19:01.085Z"
   },
   {
    "duration": 4,
    "start_time": "2022-06-30T22:19:29.509Z"
   },
   {
    "duration": 634,
    "start_time": "2022-06-30T22:19:29.520Z"
   },
   {
    "duration": 942,
    "start_time": "2022-06-30T22:19:30.156Z"
   },
   {
    "duration": 9,
    "start_time": "2022-06-30T22:19:31.100Z"
   },
   {
    "duration": 12,
    "start_time": "2022-06-30T22:19:31.111Z"
   },
   {
    "duration": 29,
    "start_time": "2022-06-30T22:19:31.125Z"
   },
   {
    "duration": 34,
    "start_time": "2022-06-30T22:19:31.155Z"
   },
   {
    "duration": 17,
    "start_time": "2022-06-30T22:19:31.190Z"
   },
   {
    "duration": 12,
    "start_time": "2022-06-30T22:19:31.209Z"
   },
   {
    "duration": 66,
    "start_time": "2022-06-30T22:19:31.222Z"
   },
   {
    "duration": 183,
    "start_time": "2022-06-30T22:19:31.291Z"
   },
   {
    "duration": 192,
    "start_time": "2022-06-30T22:19:31.476Z"
   },
   {
    "duration": 199,
    "start_time": "2022-06-30T22:19:31.672Z"
   },
   {
    "duration": 51,
    "start_time": "2022-06-30T22:19:31.873Z"
   },
   {
    "duration": 182,
    "start_time": "2022-06-30T22:19:31.925Z"
   },
   {
    "duration": 67,
    "start_time": "2022-06-30T22:19:32.109Z"
   },
   {
    "duration": 193,
    "start_time": "2022-06-30T22:19:32.178Z"
   },
   {
    "duration": 612,
    "start_time": "2022-06-30T22:19:32.373Z"
   },
   {
    "duration": 613,
    "start_time": "2022-06-30T22:19:32.987Z"
   },
   {
    "duration": 10,
    "start_time": "2022-06-30T22:19:33.601Z"
   },
   {
    "duration": 1376,
    "start_time": "2022-06-30T22:19:33.612Z"
   },
   {
    "duration": 20,
    "start_time": "2022-06-30T22:19:34.989Z"
   },
   {
    "duration": 16,
    "start_time": "2022-06-30T22:19:35.010Z"
   },
   {
    "duration": 3,
    "start_time": "2022-06-30T22:19:35.028Z"
   },
   {
    "duration": 40,
    "start_time": "2022-06-30T22:19:35.033Z"
   },
   {
    "duration": 20,
    "start_time": "2022-06-30T22:19:35.075Z"
   },
   {
    "duration": 13,
    "start_time": "2022-06-30T22:19:35.096Z"
   },
   {
    "duration": 28,
    "start_time": "2022-06-30T22:19:35.110Z"
   },
   {
    "duration": 12,
    "start_time": "2022-06-30T22:19:39.541Z"
   },
   {
    "duration": 10,
    "start_time": "2022-06-30T23:02:11.504Z"
   },
   {
    "duration": 10,
    "start_time": "2022-06-30T23:02:14.695Z"
   },
   {
    "duration": 4,
    "start_time": "2022-06-30T23:02:53.235Z"
   },
   {
    "duration": 28,
    "start_time": "2022-06-30T23:03:03.705Z"
   },
   {
    "duration": 46,
    "start_time": "2022-06-30T23:04:55.255Z"
   },
   {
    "duration": 44,
    "start_time": "2022-06-30T23:07:44.285Z"
   },
   {
    "duration": 48,
    "start_time": "2022-06-30T23:10:22.584Z"
   },
   {
    "duration": 10,
    "start_time": "2022-06-30T23:18:52.911Z"
   },
   {
    "duration": 13,
    "start_time": "2022-06-30T23:19:41.811Z"
   },
   {
    "duration": 25,
    "start_time": "2022-06-30T23:34:18.599Z"
   },
   {
    "duration": 2,
    "start_time": "2022-07-01T00:16:01.855Z"
   },
   {
    "duration": 14,
    "start_time": "2022-07-01T00:18:47.424Z"
   },
   {
    "duration": 4,
    "start_time": "2022-07-01T00:33:16.505Z"
   },
   {
    "duration": 4,
    "start_time": "2022-07-01T00:33:18.356Z"
   },
   {
    "duration": 883,
    "start_time": "2022-07-01T00:35:02.476Z"
   },
   {
    "duration": 10,
    "start_time": "2022-07-01T09:01:11.075Z"
   },
   {
    "duration": 1495,
    "start_time": "2022-07-01T09:15:51.198Z"
   },
   {
    "duration": 1406,
    "start_time": "2022-07-01T09:15:52.695Z"
   },
   {
    "duration": 937,
    "start_time": "2022-07-01T09:15:54.103Z"
   },
   {
    "duration": 11,
    "start_time": "2022-07-01T09:15:55.042Z"
   },
   {
    "duration": 7,
    "start_time": "2022-07-01T09:15:55.067Z"
   },
   {
    "duration": 15,
    "start_time": "2022-07-01T09:15:55.076Z"
   },
   {
    "duration": 22,
    "start_time": "2022-07-01T09:15:55.093Z"
   },
   {
    "duration": 16,
    "start_time": "2022-07-01T09:15:55.117Z"
   },
   {
    "duration": 32,
    "start_time": "2022-07-01T09:15:55.135Z"
   },
   {
    "duration": 55,
    "start_time": "2022-07-01T09:15:55.169Z"
   },
   {
    "duration": 208,
    "start_time": "2022-07-01T09:15:55.226Z"
   },
   {
    "duration": 121,
    "start_time": "2022-07-01T09:15:55.435Z"
   },
   {
    "duration": 198,
    "start_time": "2022-07-01T09:15:55.558Z"
   },
   {
    "duration": 60,
    "start_time": "2022-07-01T09:15:55.759Z"
   },
   {
    "duration": 184,
    "start_time": "2022-07-01T09:15:55.821Z"
   },
   {
    "duration": 74,
    "start_time": "2022-07-01T09:15:56.006Z"
   },
   {
    "duration": 185,
    "start_time": "2022-07-01T09:15:56.082Z"
   },
   {
    "duration": 577,
    "start_time": "2022-07-01T09:15:56.269Z"
   },
   {
    "duration": 561,
    "start_time": "2022-07-01T09:15:56.848Z"
   },
   {
    "duration": 11,
    "start_time": "2022-07-01T09:15:57.411Z"
   },
   {
    "duration": 1388,
    "start_time": "2022-07-01T09:15:57.424Z"
   },
   {
    "duration": 20,
    "start_time": "2022-07-01T09:15:58.814Z"
   },
   {
    "duration": 31,
    "start_time": "2022-07-01T09:15:58.836Z"
   },
   {
    "duration": 4,
    "start_time": "2022-07-01T09:18:01.236Z"
   },
   {
    "duration": 4,
    "start_time": "2022-07-01T09:18:20.462Z"
   },
   {
    "duration": 112,
    "start_time": "2022-07-01T09:18:21.860Z"
   },
   {
    "duration": 4,
    "start_time": "2022-07-01T09:25:22.631Z"
   },
   {
    "duration": 4,
    "start_time": "2022-07-01T09:28:13.879Z"
   },
   {
    "duration": 10,
    "start_time": "2022-07-01T09:30:22.205Z"
   },
   {
    "duration": 3,
    "start_time": "2022-07-01T09:30:52.355Z"
   },
   {
    "duration": 5,
    "start_time": "2022-07-01T09:30:53.286Z"
   },
   {
    "duration": 20,
    "start_time": "2022-07-01T09:30:55.300Z"
   },
   {
    "duration": 13,
    "start_time": "2022-07-01T09:31:04.112Z"
   },
   {
    "duration": 10,
    "start_time": "2022-07-01T09:31:11.125Z"
   },
   {
    "duration": 12,
    "start_time": "2022-07-01T09:32:41.788Z"
   },
   {
    "duration": 32,
    "start_time": "2022-07-01T09:32:45.406Z"
   },
   {
    "duration": 1175,
    "start_time": "2022-07-01T09:32:57.397Z"
   },
   {
    "duration": 4,
    "start_time": "2022-07-01T09:35:03.241Z"
   },
   {
    "duration": 1239,
    "start_time": "2022-07-01T09:35:17.835Z"
   },
   {
    "duration": 1477,
    "start_time": "2022-07-01T09:40:26.116Z"
   },
   {
    "duration": 14,
    "start_time": "2022-07-01T09:59:32.829Z"
   },
   {
    "duration": 30,
    "start_time": "2022-07-01T09:59:42.124Z"
   },
   {
    "duration": 4097,
    "start_time": "2022-07-01T09:59:50.097Z"
   },
   {
    "duration": 3,
    "start_time": "2022-07-01T10:06:20.763Z"
   },
   {
    "duration": 3,
    "start_time": "2022-07-01T10:06:23.294Z"
   },
   {
    "duration": 1907,
    "start_time": "2022-07-01T10:06:37.243Z"
   },
   {
    "duration": 5,
    "start_time": "2022-07-01T10:15:38.517Z"
   },
   {
    "duration": 831,
    "start_time": "2022-07-01T10:15:38.525Z"
   },
   {
    "duration": 1095,
    "start_time": "2022-07-01T10:15:39.358Z"
   },
   {
    "duration": 20,
    "start_time": "2022-07-01T10:15:40.454Z"
   },
   {
    "duration": 9,
    "start_time": "2022-07-01T10:15:40.477Z"
   },
   {
    "duration": 14,
    "start_time": "2022-07-01T10:15:40.488Z"
   },
   {
    "duration": 17,
    "start_time": "2022-07-01T10:15:40.504Z"
   },
   {
    "duration": 17,
    "start_time": "2022-07-01T10:15:40.524Z"
   },
   {
    "duration": 37,
    "start_time": "2022-07-01T10:15:40.542Z"
   },
   {
    "duration": 168,
    "start_time": "2022-07-01T10:15:40.582Z"
   },
   {
    "duration": 223,
    "start_time": "2022-07-01T10:15:40.753Z"
   },
   {
    "duration": 61,
    "start_time": "2022-07-01T10:15:40.978Z"
   },
   {
    "duration": 230,
    "start_time": "2022-07-01T10:15:41.041Z"
   },
   {
    "duration": 65,
    "start_time": "2022-07-01T10:15:41.273Z"
   },
   {
    "duration": 233,
    "start_time": "2022-07-01T10:15:41.340Z"
   },
   {
    "duration": 143,
    "start_time": "2022-07-01T10:15:41.575Z"
   },
   {
    "duration": 213,
    "start_time": "2022-07-01T10:15:41.720Z"
   },
   {
    "duration": 578,
    "start_time": "2022-07-01T10:15:41.934Z"
   },
   {
    "duration": 637,
    "start_time": "2022-07-01T10:15:42.514Z"
   },
   {
    "duration": 25,
    "start_time": "2022-07-01T10:15:43.153Z"
   },
   {
    "duration": 1593,
    "start_time": "2022-07-01T10:15:43.179Z"
   },
   {
    "duration": 34,
    "start_time": "2022-07-01T10:15:44.774Z"
   },
   {
    "duration": 19,
    "start_time": "2022-07-01T10:15:44.810Z"
   },
   {
    "duration": 5,
    "start_time": "2022-07-01T10:15:44.831Z"
   },
   {
    "duration": 32,
    "start_time": "2022-07-01T10:15:44.838Z"
   },
   {
    "duration": 8,
    "start_time": "2022-07-01T10:15:44.873Z"
   },
   {
    "duration": 15,
    "start_time": "2022-07-01T10:15:44.884Z"
   },
   {
    "duration": 11,
    "start_time": "2022-07-01T10:15:44.902Z"
   },
   {
    "duration": 52,
    "start_time": "2022-07-01T10:15:44.917Z"
   },
   {
    "duration": 19,
    "start_time": "2022-07-01T10:15:44.972Z"
   },
   {
    "duration": 17,
    "start_time": "2022-07-01T10:15:44.993Z"
   },
   {
    "duration": 63,
    "start_time": "2022-07-01T10:15:45.012Z"
   },
   {
    "duration": 2854,
    "start_time": "2022-07-01T10:15:51.646Z"
   },
   {
    "duration": 30,
    "start_time": "2022-07-01T11:12:04.045Z"
   },
   {
    "duration": 1291691,
    "start_time": "2022-07-01T11:41:38.225Z"
   },
   {
    "duration": 1930,
    "start_time": "2022-07-01T12:12:03.556Z"
   },
   {
    "duration": 39,
    "start_time": "2022-07-01T12:30:08.158Z"
   },
   {
    "duration": 24,
    "start_time": "2022-07-01T12:30:31.619Z"
   },
   {
    "duration": 25,
    "start_time": "2022-07-01T12:32:03.041Z"
   },
   {
    "duration": 48564,
    "start_time": "2022-07-01T12:42:25.042Z"
   },
   {
    "duration": 87,
    "start_time": "2022-07-01T16:56:05.199Z"
   },
   {
    "duration": 2792,
    "start_time": "2022-07-01T16:56:43.578Z"
   },
   {
    "duration": 4779,
    "start_time": "2022-07-01T16:56:46.381Z"
   },
   {
    "duration": 1418,
    "start_time": "2022-07-01T16:56:51.167Z"
   },
   {
    "duration": 22,
    "start_time": "2022-07-01T16:56:52.592Z"
   },
   {
    "duration": 68,
    "start_time": "2022-07-01T16:56:52.616Z"
   },
   {
    "duration": 158,
    "start_time": "2022-07-01T16:56:52.685Z"
   },
   {
    "duration": 44,
    "start_time": "2022-07-01T16:56:52.845Z"
   },
   {
    "duration": 86,
    "start_time": "2022-07-01T16:56:52.891Z"
   },
   {
    "duration": 45,
    "start_time": "2022-07-01T16:56:52.979Z"
   },
   {
    "duration": 215,
    "start_time": "2022-07-01T16:56:53.030Z"
   },
   {
    "duration": 436,
    "start_time": "2022-07-01T16:56:53.253Z"
   },
   {
    "duration": 111,
    "start_time": "2022-07-01T16:56:53.701Z"
   },
   {
    "duration": 263,
    "start_time": "2022-07-01T16:56:53.813Z"
   },
   {
    "duration": 78,
    "start_time": "2022-07-01T16:56:54.078Z"
   },
   {
    "duration": 236,
    "start_time": "2022-07-01T16:56:54.158Z"
   },
   {
    "duration": 85,
    "start_time": "2022-07-01T16:56:54.399Z"
   },
   {
    "duration": 257,
    "start_time": "2022-07-01T16:56:54.490Z"
   },
   {
    "duration": 764,
    "start_time": "2022-07-01T16:56:54.749Z"
   },
   {
    "duration": 894,
    "start_time": "2022-07-01T16:56:55.515Z"
   },
   {
    "duration": 18,
    "start_time": "2022-07-01T16:56:56.416Z"
   },
   {
    "duration": 1878,
    "start_time": "2022-07-01T16:56:56.436Z"
   },
   {
    "duration": 31,
    "start_time": "2022-07-01T16:56:58.319Z"
   },
   {
    "duration": 144,
    "start_time": "2022-07-01T16:56:58.354Z"
   },
   {
    "duration": 25,
    "start_time": "2022-07-01T16:56:58.514Z"
   },
   {
    "duration": 133,
    "start_time": "2022-07-01T16:56:58.549Z"
   },
   {
    "duration": 155,
    "start_time": "2022-07-01T16:56:58.690Z"
   },
   {
    "duration": 66,
    "start_time": "2022-07-01T16:56:58.852Z"
   },
   {
    "duration": 25,
    "start_time": "2022-07-01T16:56:58.929Z"
   },
   {
    "duration": 60,
    "start_time": "2022-07-01T16:56:58.963Z"
   },
   {
    "duration": 22,
    "start_time": "2022-07-01T16:56:59.029Z"
   },
   {
    "duration": 23,
    "start_time": "2022-07-01T16:56:59.057Z"
   },
   {
    "duration": 65,
    "start_time": "2022-07-01T16:56:59.088Z"
   },
   {
    "duration": 814,
    "start_time": "2022-07-01T16:56:59.159Z"
   },
   {
    "duration": 0,
    "start_time": "2022-07-01T16:56:59.975Z"
   },
   {
    "duration": 0,
    "start_time": "2022-07-01T16:56:59.976Z"
   },
   {
    "duration": 5866,
    "start_time": "2022-07-01T16:57:37.593Z"
   },
   {
    "duration": 4132,
    "start_time": "2022-07-01T16:58:06.503Z"
   },
   {
    "duration": 1463044,
    "start_time": "2022-07-01T16:59:06.792Z"
   },
   {
    "duration": 3,
    "start_time": "2022-07-01T18:12:13.290Z"
   },
   {
    "duration": 4,
    "start_time": "2022-07-01T18:12:15.196Z"
   },
   {
    "duration": 3,
    "start_time": "2022-07-01T18:12:16.354Z"
   },
   {
    "duration": 4702,
    "start_time": "2022-07-01T18:12:42.876Z"
   },
   {
    "duration": 4,
    "start_time": "2022-07-01T18:19:16.999Z"
   },
   {
    "duration": 6,
    "start_time": "2022-07-01T18:19:20.291Z"
   },
   {
    "duration": 6,
    "start_time": "2022-07-01T18:19:21.197Z"
   },
   {
    "duration": 5887,
    "start_time": "2022-07-01T18:19:29.245Z"
   },
   {
    "duration": 55706,
    "start_time": "2022-07-01T18:20:03.538Z"
   },
   {
    "duration": 2182,
    "start_time": "2022-07-01T18:41:19.949Z"
   },
   {
    "duration": 2140,
    "start_time": "2022-07-01T18:43:03.191Z"
   },
   {
    "duration": 2055,
    "start_time": "2022-07-01T18:43:58.491Z"
   },
   {
    "duration": 2224,
    "start_time": "2022-07-01T18:49:08.733Z"
   },
   {
    "duration": 10,
    "start_time": "2022-07-01T18:54:58.220Z"
   },
   {
    "duration": 6,
    "start_time": "2022-07-01T18:56:12.200Z"
   },
   {
    "duration": 97,
    "start_time": "2022-07-01T18:56:25.520Z"
   },
   {
    "duration": 78,
    "start_time": "2022-07-01T19:01:33.509Z"
   },
   {
    "duration": 2266,
    "start_time": "2022-07-01T19:01:48.414Z"
   },
   {
    "duration": 106,
    "start_time": "2022-07-01T19:02:54.433Z"
   },
   {
    "duration": 3,
    "start_time": "2022-07-01T19:20:58.228Z"
   },
   {
    "duration": 1796,
    "start_time": "2022-07-02T07:21:07.092Z"
   },
   {
    "duration": 1389,
    "start_time": "2022-07-02T07:21:08.890Z"
   },
   {
    "duration": 864,
    "start_time": "2022-07-02T07:21:10.280Z"
   },
   {
    "duration": 15,
    "start_time": "2022-07-02T07:21:11.146Z"
   },
   {
    "duration": 5,
    "start_time": "2022-07-02T07:21:11.162Z"
   },
   {
    "duration": 13,
    "start_time": "2022-07-02T07:21:11.168Z"
   },
   {
    "duration": 28,
    "start_time": "2022-07-02T07:21:11.182Z"
   },
   {
    "duration": 14,
    "start_time": "2022-07-02T07:21:11.212Z"
   },
   {
    "duration": 10,
    "start_time": "2022-07-02T07:21:11.228Z"
   },
   {
    "duration": 59,
    "start_time": "2022-07-02T07:21:11.240Z"
   },
   {
    "duration": 252,
    "start_time": "2022-07-02T07:21:11.300Z"
   },
   {
    "duration": 50,
    "start_time": "2022-07-02T07:21:11.553Z"
   },
   {
    "duration": 189,
    "start_time": "2022-07-02T07:21:11.605Z"
   },
   {
    "duration": 57,
    "start_time": "2022-07-02T07:21:11.795Z"
   },
   {
    "duration": 167,
    "start_time": "2022-07-02T07:21:11.854Z"
   },
   {
    "duration": 60,
    "start_time": "2022-07-02T07:21:12.023Z"
   },
   {
    "duration": 184,
    "start_time": "2022-07-02T07:21:12.085Z"
   },
   {
    "duration": 517,
    "start_time": "2022-07-02T07:21:12.272Z"
   },
   {
    "duration": 598,
    "start_time": "2022-07-02T07:21:12.791Z"
   },
   {
    "duration": 11,
    "start_time": "2022-07-02T07:21:13.391Z"
   },
   {
    "duration": 1264,
    "start_time": "2022-07-02T07:21:13.404Z"
   },
   {
    "duration": 25,
    "start_time": "2022-07-02T07:21:14.670Z"
   },
   {
    "duration": 18,
    "start_time": "2022-07-02T07:21:14.697Z"
   },
   {
    "duration": 9,
    "start_time": "2022-07-02T07:21:14.717Z"
   },
   {
    "duration": 17,
    "start_time": "2022-07-02T07:21:14.727Z"
   },
   {
    "duration": 10,
    "start_time": "2022-07-02T07:21:14.745Z"
   },
   {
    "duration": 23,
    "start_time": "2022-07-02T07:21:14.756Z"
   },
   {
    "duration": 10,
    "start_time": "2022-07-02T07:21:14.783Z"
   },
   {
    "duration": 41,
    "start_time": "2022-07-02T07:21:14.794Z"
   },
   {
    "duration": 24,
    "start_time": "2022-07-02T07:21:14.837Z"
   },
   {
    "duration": 34,
    "start_time": "2022-07-02T07:21:14.863Z"
   },
   {
    "duration": 48,
    "start_time": "2022-07-02T07:21:14.898Z"
   },
   {
    "duration": 21,
    "start_time": "2022-07-02T07:21:14.948Z"
   },
   {
    "duration": 1795,
    "start_time": "2022-07-02T07:21:33.381Z"
   },
   {
    "duration": 4,
    "start_time": "2022-07-02T07:21:52.714Z"
   },
   {
    "duration": 3,
    "start_time": "2022-07-02T07:21:56.020Z"
   },
   {
    "duration": 2,
    "start_time": "2022-07-02T07:21:57.924Z"
   },
   {
    "duration": 1956,
    "start_time": "2022-07-02T07:22:04.596Z"
   },
   {
    "duration": 3,
    "start_time": "2022-07-02T07:26:31.965Z"
   },
   {
    "duration": 4,
    "start_time": "2022-07-02T07:26:35.014Z"
   },
   {
    "duration": 3,
    "start_time": "2022-07-02T07:26:37.509Z"
   },
   {
    "duration": 1717,
    "start_time": "2022-07-02T07:26:45.366Z"
   },
   {
    "duration": 4,
    "start_time": "2022-07-02T07:27:10.581Z"
   },
   {
    "duration": 3,
    "start_time": "2022-07-02T07:27:13.327Z"
   },
   {
    "duration": 3,
    "start_time": "2022-07-02T07:27:13.893Z"
   },
   {
    "duration": 1784,
    "start_time": "2022-07-02T07:27:21.685Z"
   },
   {
    "duration": 2148,
    "start_time": "2022-07-02T07:29:28.113Z"
   },
   {
    "duration": 3,
    "start_time": "2022-07-02T07:31:29.721Z"
   },
   {
    "duration": 3,
    "start_time": "2022-07-02T07:31:33.320Z"
   },
   {
    "duration": 3,
    "start_time": "2022-07-02T07:31:35.600Z"
   },
   {
    "duration": 1362,
    "start_time": "2022-07-02T07:31:59.897Z"
   },
   {
    "duration": 4,
    "start_time": "2022-07-02T07:32:55.801Z"
   },
   {
    "duration": 4,
    "start_time": "2022-07-02T07:32:58.505Z"
   },
   {
    "duration": 1712,
    "start_time": "2022-07-02T07:33:07.242Z"
   },
   {
    "duration": 4,
    "start_time": "2022-07-02T07:33:19.097Z"
   },
   {
    "duration": 3,
    "start_time": "2022-07-02T07:33:21.314Z"
   },
   {
    "duration": 3,
    "start_time": "2022-07-02T07:33:23.737Z"
   },
   {
    "duration": 1391,
    "start_time": "2022-07-02T07:33:30.666Z"
   },
   {
    "duration": 3,
    "start_time": "2022-07-02T07:33:40.898Z"
   },
   {
    "duration": 3,
    "start_time": "2022-07-02T07:33:44.170Z"
   },
   {
    "duration": 3,
    "start_time": "2022-07-02T07:33:45.969Z"
   },
   {
    "duration": 1903,
    "start_time": "2022-07-02T07:33:52.274Z"
   },
   {
    "duration": 4,
    "start_time": "2022-07-02T07:34:27.108Z"
   },
   {
    "duration": 3,
    "start_time": "2022-07-02T07:34:29.632Z"
   },
   {
    "duration": 3,
    "start_time": "2022-07-02T07:34:32.424Z"
   },
   {
    "duration": 1799,
    "start_time": "2022-07-02T07:34:36.762Z"
   },
   {
    "duration": 4,
    "start_time": "2022-07-02T07:37:08.245Z"
   },
   {
    "duration": 3,
    "start_time": "2022-07-02T07:37:11.755Z"
   },
   {
    "duration": 3,
    "start_time": "2022-07-02T07:37:12.338Z"
   },
   {
    "duration": 1462,
    "start_time": "2022-07-02T07:37:16.691Z"
   },
   {
    "duration": 4,
    "start_time": "2022-07-02T07:37:48.812Z"
   },
   {
    "duration": 4,
    "start_time": "2022-07-02T07:37:52.997Z"
   },
   {
    "duration": 3,
    "start_time": "2022-07-02T07:37:53.491Z"
   },
   {
    "duration": 2098,
    "start_time": "2022-07-02T07:37:57.675Z"
   },
   {
    "duration": 1772,
    "start_time": "2022-07-02T07:44:30.274Z"
   },
   {
    "duration": 738,
    "start_time": "2022-07-02T07:44:32.047Z"
   },
   {
    "duration": 972,
    "start_time": "2022-07-02T07:44:32.786Z"
   },
   {
    "duration": 13,
    "start_time": "2022-07-02T07:44:33.760Z"
   },
   {
    "duration": 5,
    "start_time": "2022-07-02T07:44:33.775Z"
   },
   {
    "duration": 12,
    "start_time": "2022-07-02T07:44:33.781Z"
   },
   {
    "duration": 34,
    "start_time": "2022-07-02T07:44:33.794Z"
   },
   {
    "duration": 16,
    "start_time": "2022-07-02T07:44:33.830Z"
   },
   {
    "duration": 22,
    "start_time": "2022-07-02T07:44:33.853Z"
   },
   {
    "duration": 51,
    "start_time": "2022-07-02T07:44:33.878Z"
   },
   {
    "duration": 288,
    "start_time": "2022-07-02T07:44:33.931Z"
   },
   {
    "duration": 66,
    "start_time": "2022-07-02T07:44:34.221Z"
   },
   {
    "duration": 206,
    "start_time": "2022-07-02T07:44:34.288Z"
   },
   {
    "duration": 70,
    "start_time": "2022-07-02T07:44:34.496Z"
   },
   {
    "duration": 221,
    "start_time": "2022-07-02T07:44:34.568Z"
   },
   {
    "duration": 67,
    "start_time": "2022-07-02T07:44:34.791Z"
   },
   {
    "duration": 187,
    "start_time": "2022-07-02T07:44:34.860Z"
   },
   {
    "duration": 564,
    "start_time": "2022-07-02T07:44:35.049Z"
   },
   {
    "duration": 683,
    "start_time": "2022-07-02T07:44:35.615Z"
   },
   {
    "duration": 10,
    "start_time": "2022-07-02T07:44:36.300Z"
   },
   {
    "duration": 1375,
    "start_time": "2022-07-02T07:44:36.312Z"
   },
   {
    "duration": 26,
    "start_time": "2022-07-02T07:44:37.689Z"
   },
   {
    "duration": 18,
    "start_time": "2022-07-02T07:44:37.717Z"
   },
   {
    "duration": 5,
    "start_time": "2022-07-02T07:44:37.754Z"
   },
   {
    "duration": 7,
    "start_time": "2022-07-02T07:44:37.765Z"
   },
   {
    "duration": 12,
    "start_time": "2022-07-02T07:44:37.774Z"
   },
   {
    "duration": 7,
    "start_time": "2022-07-02T07:44:37.787Z"
   },
   {
    "duration": 6,
    "start_time": "2022-07-02T07:44:37.797Z"
   },
   {
    "duration": 29,
    "start_time": "2022-07-02T07:44:37.804Z"
   },
   {
    "duration": 19,
    "start_time": "2022-07-02T07:44:37.835Z"
   },
   {
    "duration": 13,
    "start_time": "2022-07-02T07:44:37.856Z"
   },
   {
    "duration": 32,
    "start_time": "2022-07-02T07:44:37.871Z"
   },
   {
    "duration": 2854,
    "start_time": "2022-07-02T07:44:37.905Z"
   },
   {
    "duration": 25,
    "start_time": "2022-07-02T10:52:51.483Z"
   },
   {
    "duration": 1851,
    "start_time": "2022-07-02T10:53:01.329Z"
   },
   {
    "duration": 3404,
    "start_time": "2022-07-02T10:53:03.183Z"
   },
   {
    "duration": 1159,
    "start_time": "2022-07-02T10:53:06.589Z"
   },
   {
    "duration": 11,
    "start_time": "2022-07-02T10:53:07.751Z"
   },
   {
    "duration": 5,
    "start_time": "2022-07-02T10:53:07.764Z"
   },
   {
    "duration": 7,
    "start_time": "2022-07-02T10:53:07.771Z"
   },
   {
    "duration": 16,
    "start_time": "2022-07-02T10:53:07.780Z"
   },
   {
    "duration": 53,
    "start_time": "2022-07-02T10:53:07.798Z"
   },
   {
    "duration": 14,
    "start_time": "2022-07-02T10:53:07.853Z"
   },
   {
    "duration": 76,
    "start_time": "2022-07-02T10:53:07.869Z"
   },
   {
    "duration": 307,
    "start_time": "2022-07-02T10:53:07.947Z"
   },
   {
    "duration": 60,
    "start_time": "2022-07-02T10:53:08.256Z"
   },
   {
    "duration": 251,
    "start_time": "2022-07-02T10:53:08.317Z"
   },
   {
    "duration": 82,
    "start_time": "2022-07-02T10:53:08.570Z"
   },
   {
    "duration": 216,
    "start_time": "2022-07-02T10:53:08.654Z"
   },
   {
    "duration": 119,
    "start_time": "2022-07-02T10:53:08.872Z"
   },
   {
    "duration": 262,
    "start_time": "2022-07-02T10:53:08.993Z"
   },
   {
    "duration": 713,
    "start_time": "2022-07-02T10:53:09.257Z"
   },
   {
    "duration": 644,
    "start_time": "2022-07-02T10:53:09.972Z"
   },
   {
    "duration": 24,
    "start_time": "2022-07-02T10:53:10.618Z"
   },
   {
    "duration": 1556,
    "start_time": "2022-07-02T10:53:10.644Z"
   },
   {
    "duration": 26,
    "start_time": "2022-07-02T10:53:12.202Z"
   },
   {
    "duration": 26,
    "start_time": "2022-07-02T10:53:12.230Z"
   },
   {
    "duration": 6,
    "start_time": "2022-07-02T10:54:02.867Z"
   },
   {
    "duration": 4,
    "start_time": "2022-07-02T10:54:09.299Z"
   },
   {
    "duration": 3,
    "start_time": "2022-07-02T10:54:10.412Z"
   },
   {
    "duration": 4,
    "start_time": "2022-07-02T10:54:14.934Z"
   },
   {
    "duration": 7,
    "start_time": "2022-07-02T10:54:15.611Z"
   },
   {
    "duration": 26,
    "start_time": "2022-07-02T10:54:17.287Z"
   },
   {
    "duration": 13,
    "start_time": "2022-07-02T10:54:17.455Z"
   },
   {
    "duration": 13,
    "start_time": "2022-07-02T10:54:22.773Z"
   },
   {
    "duration": 123,
    "start_time": "2022-07-02T10:54:22.919Z"
   },
   {
    "duration": 19,
    "start_time": "2022-07-02T10:55:02.037Z"
   },
   {
    "duration": 4,
    "start_time": "2022-07-02T10:55:45.203Z"
   },
   {
    "duration": 704,
    "start_time": "2022-07-02T10:55:45.216Z"
   },
   {
    "duration": 1170,
    "start_time": "2022-07-02T10:55:45.922Z"
   },
   {
    "duration": 11,
    "start_time": "2022-07-02T10:55:47.094Z"
   },
   {
    "duration": 6,
    "start_time": "2022-07-02T10:55:47.107Z"
   },
   {
    "duration": 9,
    "start_time": "2022-07-02T10:55:47.114Z"
   },
   {
    "duration": 14,
    "start_time": "2022-07-02T10:55:47.142Z"
   },
   {
    "duration": 17,
    "start_time": "2022-07-02T10:55:47.158Z"
   },
   {
    "duration": 13,
    "start_time": "2022-07-02T10:55:47.177Z"
   },
   {
    "duration": 83,
    "start_time": "2022-07-02T10:55:47.192Z"
   },
   {
    "duration": 231,
    "start_time": "2022-07-02T10:55:47.279Z"
   },
   {
    "duration": 69,
    "start_time": "2022-07-02T10:55:47.512Z"
   },
   {
    "duration": 214,
    "start_time": "2022-07-02T10:55:47.584Z"
   },
   {
    "duration": 67,
    "start_time": "2022-07-02T10:55:47.800Z"
   },
   {
    "duration": 204,
    "start_time": "2022-07-02T10:55:47.868Z"
   },
   {
    "duration": 146,
    "start_time": "2022-07-02T10:55:48.073Z"
   },
   {
    "duration": 203,
    "start_time": "2022-07-02T10:55:48.221Z"
   },
   {
    "duration": 564,
    "start_time": "2022-07-02T10:55:48.426Z"
   },
   {
    "duration": 633,
    "start_time": "2022-07-02T10:55:48.991Z"
   },
   {
    "duration": 16,
    "start_time": "2022-07-02T10:55:49.626Z"
   },
   {
    "duration": 1526,
    "start_time": "2022-07-02T10:55:49.644Z"
   },
   {
    "duration": 26,
    "start_time": "2022-07-02T10:55:51.172Z"
   },
   {
    "duration": 17,
    "start_time": "2022-07-02T10:55:51.200Z"
   },
   {
    "duration": 22,
    "start_time": "2022-07-02T10:55:51.220Z"
   },
   {
    "duration": 4,
    "start_time": "2022-07-02T10:55:51.243Z"
   },
   {
    "duration": 8,
    "start_time": "2022-07-02T10:55:51.249Z"
   },
   {
    "duration": 6,
    "start_time": "2022-07-02T10:55:51.259Z"
   },
   {
    "duration": 8,
    "start_time": "2022-07-02T10:55:51.266Z"
   },
   {
    "duration": 24,
    "start_time": "2022-07-02T10:55:51.277Z"
   },
   {
    "duration": 41,
    "start_time": "2022-07-02T10:55:51.303Z"
   },
   {
    "duration": 12,
    "start_time": "2022-07-02T10:55:51.346Z"
   },
   {
    "duration": 29,
    "start_time": "2022-07-02T10:55:51.359Z"
   },
   {
    "duration": 1802,
    "start_time": "2022-07-02T10:56:42.357Z"
   },
   {
    "duration": 1366594,
    "start_time": "2022-07-02T10:56:58.625Z"
   },
   {
    "duration": 51060,
    "start_time": "2022-07-02T11:21:03.697Z"
   },
   {
    "duration": 1767,
    "start_time": "2022-07-02T11:37:55.467Z"
   },
   {
    "duration": 68,
    "start_time": "2022-07-02T11:38:41.491Z"
   },
   {
    "duration": 84,
    "start_time": "2022-07-02T12:01:36.150Z"
   },
   {
    "duration": 1551,
    "start_time": "2022-07-02T12:02:59.230Z"
   },
   {
    "duration": 4,
    "start_time": "2022-07-02T12:03:47.080Z"
   },
   {
    "duration": 746,
    "start_time": "2022-07-02T12:03:47.090Z"
   },
   {
    "duration": 1008,
    "start_time": "2022-07-02T12:03:47.839Z"
   },
   {
    "duration": 11,
    "start_time": "2022-07-02T12:03:58.952Z"
   },
   {
    "duration": 5,
    "start_time": "2022-07-02T12:40:02.000Z"
   },
   {
    "duration": 711,
    "start_time": "2022-07-02T12:40:02.016Z"
   },
   {
    "duration": 982,
    "start_time": "2022-07-02T12:40:02.729Z"
   },
   {
    "duration": 11,
    "start_time": "2022-07-02T12:40:03.713Z"
   },
   {
    "duration": 15,
    "start_time": "2022-07-02T12:40:03.727Z"
   },
   {
    "duration": 5,
    "start_time": "2022-07-02T12:40:03.744Z"
   },
   {
    "duration": 15,
    "start_time": "2022-07-02T12:40:03.751Z"
   },
   {
    "duration": 16,
    "start_time": "2022-07-02T12:40:03.768Z"
   },
   {
    "duration": 12,
    "start_time": "2022-07-02T12:40:03.786Z"
   },
   {
    "duration": 165,
    "start_time": "2022-07-02T12:40:08.236Z"
   },
   {
    "duration": 208,
    "start_time": "2022-07-02T12:40:11.678Z"
   },
   {
    "duration": 57,
    "start_time": "2022-07-02T12:43:29.300Z"
   },
   {
    "duration": 206,
    "start_time": "2022-07-02T12:43:31.194Z"
   },
   {
    "duration": 57,
    "start_time": "2022-07-02T12:47:04.338Z"
   },
   {
    "duration": 223,
    "start_time": "2022-07-02T12:47:05.261Z"
   },
   {
    "duration": 233,
    "start_time": "2022-07-02T13:01:39.892Z"
   },
   {
    "duration": 340,
    "start_time": "2022-07-02T13:01:52.341Z"
   },
   {
    "duration": 247,
    "start_time": "2022-07-02T13:02:06.583Z"
   },
   {
    "duration": 4,
    "start_time": "2022-07-02T13:04:03.881Z"
   },
   {
    "duration": 693,
    "start_time": "2022-07-02T13:04:03.889Z"
   },
   {
    "duration": 978,
    "start_time": "2022-07-02T13:04:04.585Z"
   },
   {
    "duration": 10,
    "start_time": "2022-07-02T13:04:05.565Z"
   },
   {
    "duration": 8,
    "start_time": "2022-07-02T13:04:05.577Z"
   },
   {
    "duration": 8,
    "start_time": "2022-07-02T13:04:05.586Z"
   },
   {
    "duration": 18,
    "start_time": "2022-07-02T13:04:05.596Z"
   },
   {
    "duration": 38,
    "start_time": "2022-07-02T13:04:05.616Z"
   },
   {
    "duration": 12,
    "start_time": "2022-07-02T13:04:05.656Z"
   },
   {
    "duration": 77,
    "start_time": "2022-07-02T13:04:05.670Z"
   },
   {
    "duration": 240,
    "start_time": "2022-07-02T13:04:05.750Z"
   },
   {
    "duration": 78,
    "start_time": "2022-07-02T13:04:05.991Z"
   },
   {
    "duration": 255,
    "start_time": "2022-07-02T13:04:06.070Z"
   },
   {
    "duration": 151,
    "start_time": "2022-07-02T13:04:06.327Z"
   },
   {
    "duration": 255,
    "start_time": "2022-07-02T13:04:06.480Z"
   },
   {
    "duration": 618,
    "start_time": "2022-07-02T13:04:06.736Z"
   },
   {
    "duration": 563,
    "start_time": "2022-07-02T13:04:07.355Z"
   },
   {
    "duration": 11,
    "start_time": "2022-07-02T13:04:07.920Z"
   },
   {
    "duration": 1555,
    "start_time": "2022-07-02T13:04:07.933Z"
   },
   {
    "duration": 23,
    "start_time": "2022-07-02T13:04:09.490Z"
   },
   {
    "duration": 30,
    "start_time": "2022-07-02T13:04:09.515Z"
   },
   {
    "duration": 4,
    "start_time": "2022-07-02T13:04:09.546Z"
   },
   {
    "duration": 8,
    "start_time": "2022-07-02T13:04:09.552Z"
   },
   {
    "duration": 6,
    "start_time": "2022-07-02T13:04:09.561Z"
   },
   {
    "duration": 7,
    "start_time": "2022-07-02T13:04:09.569Z"
   },
   {
    "duration": 19,
    "start_time": "2022-07-02T13:04:09.577Z"
   },
   {
    "duration": 25,
    "start_time": "2022-07-02T13:04:09.598Z"
   },
   {
    "duration": 24,
    "start_time": "2022-07-02T13:04:09.625Z"
   },
   {
    "duration": 16,
    "start_time": "2022-07-02T13:04:09.653Z"
   },
   {
    "duration": 32,
    "start_time": "2022-07-02T13:04:09.670Z"
   },
   {
    "duration": 1954,
    "start_time": "2022-07-02T13:04:09.703Z"
   },
   {
    "duration": 1362819,
    "start_time": "2022-07-02T13:04:11.659Z"
   },
   {
    "duration": 51669,
    "start_time": "2022-07-02T13:26:54.480Z"
   },
   {
    "duration": 1856,
    "start_time": "2022-07-02T13:27:46.152Z"
   },
   {
    "duration": 77,
    "start_time": "2022-07-02T13:27:48.010Z"
   },
   {
    "duration": 10,
    "start_time": "2022-07-02T19:56:19.567Z"
   },
   {
    "duration": 1668,
    "start_time": "2022-12-05T10:19:45.574Z"
   },
   {
    "duration": 2801,
    "start_time": "2022-12-05T10:20:01.057Z"
   },
   {
    "duration": 898,
    "start_time": "2022-12-05T10:20:15.578Z"
   },
   {
    "duration": 10,
    "start_time": "2022-12-05T10:30:40.812Z"
   },
   {
    "duration": 6,
    "start_time": "2022-12-05T10:34:09.284Z"
   },
   {
    "duration": 5,
    "start_time": "2022-12-05T10:34:14.723Z"
   },
   {
    "duration": 14,
    "start_time": "2022-12-05T10:36:25.396Z"
   },
   {
    "duration": 16,
    "start_time": "2022-12-05T10:36:34.380Z"
   },
   {
    "duration": 12,
    "start_time": "2022-12-05T10:36:44.236Z"
   },
   {
    "duration": 115,
    "start_time": "2022-12-05T10:38:38.102Z"
   },
   {
    "duration": 230,
    "start_time": "2022-12-05T10:38:42.389Z"
   },
   {
    "duration": 62,
    "start_time": "2022-12-05T10:39:34.365Z"
   },
   {
    "duration": 197,
    "start_time": "2022-12-05T10:39:36.765Z"
   },
   {
    "duration": 59,
    "start_time": "2022-12-05T10:39:41.069Z"
   },
   {
    "duration": 210,
    "start_time": "2022-12-05T10:39:43.135Z"
   },
   {
    "duration": 548,
    "start_time": "2022-12-05T10:41:37.749Z"
   },
   {
    "duration": 545,
    "start_time": "2022-12-05T10:42:26.838Z"
   },
   {
    "duration": 8,
    "start_time": "2022-12-05T10:43:17.655Z"
   },
   {
    "duration": 1194,
    "start_time": "2022-12-05T10:43:23.782Z"
   },
   {
    "duration": 22,
    "start_time": "2022-12-05T10:45:09.207Z"
   },
   {
    "duration": 16,
    "start_time": "2022-12-05T10:45:13.615Z"
   },
   {
    "duration": 5,
    "start_time": "2022-12-05T10:51:48.758Z"
   },
   {
    "duration": 2,
    "start_time": "2022-12-05T10:58:24.336Z"
   },
   {
    "duration": 2,
    "start_time": "2022-12-05T10:58:32.391Z"
   },
   {
    "duration": 5,
    "start_time": "2022-12-05T10:58:33.104Z"
   },
   {
    "duration": 25,
    "start_time": "2022-12-05T10:58:34.863Z"
   },
   {
    "duration": 11,
    "start_time": "2022-12-05T10:58:42.392Z"
   },
   {
    "duration": 11,
    "start_time": "2022-12-05T10:58:43.096Z"
   },
   {
    "duration": 29,
    "start_time": "2022-12-05T10:58:55.408Z"
   },
   {
    "duration": 1346,
    "start_time": "2022-12-05T10:59:58.032Z"
   },
   {
    "duration": 3,
    "start_time": "2022-12-05T11:39:57.094Z"
   },
   {
    "duration": 3,
    "start_time": "2022-12-05T11:39:57.911Z"
   },
   {
    "duration": 2,
    "start_time": "2022-12-05T11:39:58.615Z"
   },
   {
    "duration": 3170,
    "start_time": "2022-12-05T11:40:37.015Z"
   },
   {
    "duration": 1308348,
    "start_time": "2022-12-05T11:50:10.441Z"
   },
   {
    "duration": 46136,
    "start_time": "2022-12-05T12:32:56.609Z"
   },
   {
    "duration": 150,
    "start_time": "2022-12-05T12:51:54.796Z"
   },
   {
    "duration": 1659,
    "start_time": "2022-12-05T12:52:37.076Z"
   },
   {
    "duration": 8,
    "start_time": "2022-12-05T12:52:52.059Z"
   },
   {
    "duration": 1628,
    "start_time": "2022-12-13T11:06:12.592Z"
   },
   {
    "duration": 2105,
    "start_time": "2022-12-13T11:06:14.222Z"
   },
   {
    "duration": 931,
    "start_time": "2022-12-13T11:06:16.329Z"
   },
   {
    "duration": 10,
    "start_time": "2022-12-13T11:06:17.262Z"
   },
   {
    "duration": 14,
    "start_time": "2022-12-13T11:06:17.274Z"
   },
   {
    "duration": 13,
    "start_time": "2022-12-13T11:06:17.289Z"
   },
   {
    "duration": 37,
    "start_time": "2022-12-13T11:06:17.303Z"
   },
   {
    "duration": 30,
    "start_time": "2022-12-13T11:06:17.343Z"
   },
   {
    "duration": 16,
    "start_time": "2022-12-13T11:06:17.375Z"
   },
   {
    "duration": 165,
    "start_time": "2022-12-13T11:06:17.393Z"
   },
   {
    "duration": 232,
    "start_time": "2022-12-13T11:06:17.560Z"
   },
   {
    "duration": 76,
    "start_time": "2022-12-13T11:06:17.794Z"
   },
   {
    "duration": 242,
    "start_time": "2022-12-13T11:06:17.872Z"
   },
   {
    "duration": 56,
    "start_time": "2022-12-13T11:06:18.115Z"
   },
   {
    "duration": 241,
    "start_time": "2022-12-13T11:06:18.173Z"
   },
   {
    "duration": 576,
    "start_time": "2022-12-13T11:06:26.734Z"
   },
   {
    "duration": 504,
    "start_time": "2022-12-13T11:07:34.295Z"
   },
   {
    "duration": 525,
    "start_time": "2022-12-13T11:09:36.168Z"
   },
   {
    "duration": 540,
    "start_time": "2022-12-13T11:09:53.599Z"
   },
   {
    "duration": 528,
    "start_time": "2022-12-13T11:12:30.248Z"
   },
   {
    "duration": 511,
    "start_time": "2022-12-13T11:12:45.688Z"
   },
   {
    "duration": 485,
    "start_time": "2022-12-13T11:16:01.865Z"
   },
   {
    "duration": 429,
    "start_time": "2022-12-13T11:17:57.961Z"
   },
   {
    "duration": 489,
    "start_time": "2022-12-13T11:18:29.883Z"
   },
   {
    "duration": 443,
    "start_time": "2022-12-13T11:20:07.978Z"
   },
   {
    "duration": 1297,
    "start_time": "2022-12-13T11:28:41.747Z"
   },
   {
    "duration": 11,
    "start_time": "2022-12-13T11:32:05.092Z"
   },
   {
    "duration": 1399,
    "start_time": "2022-12-13T11:32:08.004Z"
   },
   {
    "duration": 32,
    "start_time": "2022-12-13T11:32:48.195Z"
   },
   {
    "duration": 23,
    "start_time": "2022-12-13T11:32:51.011Z"
   },
   {
    "duration": 7,
    "start_time": "2022-12-13T11:33:09.651Z"
   },
   {
    "duration": 5,
    "start_time": "2022-12-13T11:33:10.315Z"
   },
   {
    "duration": 3,
    "start_time": "2022-12-13T11:33:10.847Z"
   },
   {
    "duration": 3,
    "start_time": "2022-12-13T11:33:30.868Z"
   },
   {
    "duration": 6,
    "start_time": "2022-12-13T11:33:31.340Z"
   },
   {
    "duration": 22,
    "start_time": "2022-12-13T11:34:00.662Z"
   },
   {
    "duration": 27,
    "start_time": "2022-12-13T11:34:23.444Z"
   },
   {
    "duration": 16,
    "start_time": "2022-12-13T11:34:25.403Z"
   },
   {
    "duration": 41,
    "start_time": "2022-12-13T11:34:29.092Z"
   },
   {
    "duration": 501,
    "start_time": "2022-12-13T11:53:06.806Z"
   },
   {
    "duration": 443,
    "start_time": "2022-12-13T11:55:40.264Z"
   },
   {
    "duration": 253,
    "start_time": "2022-12-13T11:56:23.224Z"
   },
   {
    "duration": 4,
    "start_time": "2022-12-13T11:58:21.742Z"
   },
   {
    "duration": 699,
    "start_time": "2022-12-13T11:58:21.748Z"
   },
   {
    "duration": 1030,
    "start_time": "2022-12-13T11:58:22.449Z"
   },
   {
    "duration": 9,
    "start_time": "2022-12-13T11:58:23.481Z"
   },
   {
    "duration": 10,
    "start_time": "2022-12-13T11:58:23.492Z"
   },
   {
    "duration": 6,
    "start_time": "2022-12-13T11:58:23.504Z"
   },
   {
    "duration": 12,
    "start_time": "2022-12-13T11:58:23.526Z"
   },
   {
    "duration": 31,
    "start_time": "2022-12-13T11:58:23.540Z"
   },
   {
    "duration": 10,
    "start_time": "2022-12-13T11:58:23.573Z"
   },
   {
    "duration": 68,
    "start_time": "2022-12-13T11:58:23.585Z"
   },
   {
    "duration": 226,
    "start_time": "2022-12-13T11:58:23.656Z"
   },
   {
    "duration": 64,
    "start_time": "2022-12-13T11:58:23.883Z"
   },
   {
    "duration": 217,
    "start_time": "2022-12-13T11:58:23.949Z"
   },
   {
    "duration": 59,
    "start_time": "2022-12-13T11:58:24.167Z"
   },
   {
    "duration": 226,
    "start_time": "2022-12-13T11:58:24.230Z"
   },
   {
    "duration": 510,
    "start_time": "2022-12-13T11:58:24.457Z"
   },
   {
    "duration": 513,
    "start_time": "2022-12-13T11:58:24.968Z"
   },
   {
    "duration": 10,
    "start_time": "2022-12-13T11:58:25.483Z"
   },
   {
    "duration": 1357,
    "start_time": "2022-12-13T11:58:25.494Z"
   },
   {
    "duration": 20,
    "start_time": "2022-12-13T11:58:26.853Z"
   },
   {
    "duration": 146,
    "start_time": "2022-12-13T11:58:26.875Z"
   },
   {
    "duration": 12,
    "start_time": "2022-12-13T11:58:27.023Z"
   },
   {
    "duration": 11,
    "start_time": "2022-12-13T11:58:27.036Z"
   },
   {
    "duration": 8,
    "start_time": "2022-12-13T11:58:27.048Z"
   },
   {
    "duration": 10,
    "start_time": "2022-12-13T11:58:27.057Z"
   },
   {
    "duration": 9,
    "start_time": "2022-12-13T11:58:27.069Z"
   },
   {
    "duration": 26,
    "start_time": "2022-12-13T11:58:27.080Z"
   },
   {
    "duration": 14,
    "start_time": "2022-12-13T11:58:27.108Z"
   },
   {
    "duration": 18,
    "start_time": "2022-12-13T11:58:27.125Z"
   },
   {
    "duration": 39,
    "start_time": "2022-12-13T11:58:27.145Z"
   },
   {
    "duration": 3947,
    "start_time": "2022-12-13T11:58:27.186Z"
   },
   {
    "duration": 1226950,
    "start_time": "2022-12-13T11:58:31.137Z"
   },
   {
    "duration": 44367,
    "start_time": "2022-12-13T12:18:58.088Z"
   },
   {
    "duration": 1547,
    "start_time": "2022-12-13T12:19:42.458Z"
   },
   {
    "duration": 7,
    "start_time": "2022-12-13T12:19:44.007Z"
   }
  ],
  "kernelspec": {
   "display_name": "Python 3 (ipykernel)",
   "language": "python",
   "name": "python3"
  },
  "language_info": {
   "codemirror_mode": {
    "name": "ipython",
    "version": 3
   },
   "file_extension": ".py",
   "mimetype": "text/x-python",
   "name": "python",
   "nbconvert_exporter": "python",
   "pygments_lexer": "ipython3",
   "version": "3.9.5"
  },
  "toc": {
   "base_numbering": 1,
   "nav_menu": {},
   "number_sections": true,
   "sideBar": true,
   "skip_h1_title": true,
   "title_cell": "Содержание",
   "title_sidebar": "Contents",
   "toc_cell": true,
   "toc_position": {
    "height": "calc(100% - 180px)",
    "left": "10px",
    "top": "150px",
    "width": "245px"
   },
   "toc_section_display": true,
   "toc_window_display": true
  }
 },
 "nbformat": 4,
 "nbformat_minor": 2
}
