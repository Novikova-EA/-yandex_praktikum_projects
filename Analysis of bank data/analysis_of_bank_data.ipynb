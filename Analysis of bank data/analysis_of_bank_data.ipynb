{
 "cells": [
  {
   "cell_type": "markdown",
   "id": "cf510cab",
   "metadata": {},
   "source": [
    "# Исследование надежности заемщиков - анализ банковских данных."
   ]
  },
  {
   "cell_type": "markdown",
   "id": "a9754daf",
   "metadata": {},
   "source": [
    "**Заказчик** — кредитный отдел банка. Нужно разобраться, влияет ли семейное положение и количество детей клиента на факт погашения кредита в срок. Входные данные от банка — статистика о платёжеспособности клиентов.\n",
    "Результаты исследования будут учтены при построении модели кредитного скоринга — специальной системы, которая оценивает способность потенциального заёмщика вернуть кредит банку.\n",
    "\n",
    "**Задача исследования** — установить зависимость семейного положения и количества детей на погашение кредита в срок. Для этого найдем ответы на четыре вопроса:\n",
    "1. Есть ли зависимость между количеством детей и возвратом кредита в срок?\n",
    "2. Есть ли зависимость между семейным положением и возвратом кредита в срок?\n",
    "3. Есть ли зависимость между уровнем дохода и возвратом кредита в срок?\n",
    "4. Как разные цели кредита влияют на его возврат в срок?\n",
    "\n",
    "**Ход исследования**\n",
    "\n",
    "Данные о платежеспособности клиентов  находятся в  файле `/datasets/data.csv`. О качестве данных ничего не известно. Поэтому перед понадобится обзор данных. \n",
    "\n",
    "Необходимо проверить данные на ошибки и оценить их влияние на исследование. Затем, на этапе предобработки найти возможность исправить самые критичные ошибки данных.\n",
    " \n",
    "Таким образом, исследование пройдёт в три этапа:\n",
    " 1. Обзор данных.\n",
    " 2. Предобработка данных.\n",
    " 3. Ответы на вопросы.\n",
    "\n"
   ]
  },
  {
   "cell_type": "markdown",
   "id": "f8d7223f",
   "metadata": {},
   "source": [
    "## Обзор данных"
   ]
  },
  {
   "cell_type": "code",
   "execution_count": 1,
   "id": "c4b84b95",
   "metadata": {},
   "outputs": [],
   "source": [
    "import pandas as pd"
   ]
  },
  {
   "cell_type": "code",
   "execution_count": 2,
   "id": "8aa02b51",
   "metadata": {},
   "outputs": [],
   "source": [
    "df = pd.read_csv('/datasets/data.csv')"
   ]
  },
  {
   "cell_type": "code",
   "execution_count": 3,
   "id": "4d6e88e4",
   "metadata": {},
   "outputs": [
    {
     "data": {
      "text/html": [
       "<div>\n",
       "<style scoped>\n",
       "    .dataframe tbody tr th:only-of-type {\n",
       "        vertical-align: middle;\n",
       "    }\n",
       "\n",
       "    .dataframe tbody tr th {\n",
       "        vertical-align: top;\n",
       "    }\n",
       "\n",
       "    .dataframe thead th {\n",
       "        text-align: right;\n",
       "    }\n",
       "</style>\n",
       "<table border=\"1\" class=\"dataframe\">\n",
       "  <thead>\n",
       "    <tr style=\"text-align: right;\">\n",
       "      <th></th>\n",
       "      <th>children</th>\n",
       "      <th>days_employed</th>\n",
       "      <th>dob_years</th>\n",
       "      <th>education</th>\n",
       "      <th>education_id</th>\n",
       "      <th>family_status</th>\n",
       "      <th>family_status_id</th>\n",
       "      <th>gender</th>\n",
       "      <th>income_type</th>\n",
       "      <th>debt</th>\n",
       "      <th>total_income</th>\n",
       "      <th>purpose</th>\n",
       "    </tr>\n",
       "  </thead>\n",
       "  <tbody>\n",
       "    <tr>\n",
       "      <th>0</th>\n",
       "      <td>1</td>\n",
       "      <td>-8437.673028</td>\n",
       "      <td>42</td>\n",
       "      <td>высшее</td>\n",
       "      <td>0</td>\n",
       "      <td>женат / замужем</td>\n",
       "      <td>0</td>\n",
       "      <td>F</td>\n",
       "      <td>сотрудник</td>\n",
       "      <td>0</td>\n",
       "      <td>253875.639453</td>\n",
       "      <td>покупка жилья</td>\n",
       "    </tr>\n",
       "    <tr>\n",
       "      <th>1</th>\n",
       "      <td>1</td>\n",
       "      <td>-4024.803754</td>\n",
       "      <td>36</td>\n",
       "      <td>среднее</td>\n",
       "      <td>1</td>\n",
       "      <td>женат / замужем</td>\n",
       "      <td>0</td>\n",
       "      <td>F</td>\n",
       "      <td>сотрудник</td>\n",
       "      <td>0</td>\n",
       "      <td>112080.014102</td>\n",
       "      <td>приобретение автомобиля</td>\n",
       "    </tr>\n",
       "    <tr>\n",
       "      <th>2</th>\n",
       "      <td>0</td>\n",
       "      <td>-5623.422610</td>\n",
       "      <td>33</td>\n",
       "      <td>Среднее</td>\n",
       "      <td>1</td>\n",
       "      <td>женат / замужем</td>\n",
       "      <td>0</td>\n",
       "      <td>M</td>\n",
       "      <td>сотрудник</td>\n",
       "      <td>0</td>\n",
       "      <td>145885.952297</td>\n",
       "      <td>покупка жилья</td>\n",
       "    </tr>\n",
       "    <tr>\n",
       "      <th>3</th>\n",
       "      <td>3</td>\n",
       "      <td>-4124.747207</td>\n",
       "      <td>32</td>\n",
       "      <td>среднее</td>\n",
       "      <td>1</td>\n",
       "      <td>женат / замужем</td>\n",
       "      <td>0</td>\n",
       "      <td>M</td>\n",
       "      <td>сотрудник</td>\n",
       "      <td>0</td>\n",
       "      <td>267628.550329</td>\n",
       "      <td>дополнительное образование</td>\n",
       "    </tr>\n",
       "    <tr>\n",
       "      <th>4</th>\n",
       "      <td>0</td>\n",
       "      <td>340266.072047</td>\n",
       "      <td>53</td>\n",
       "      <td>среднее</td>\n",
       "      <td>1</td>\n",
       "      <td>гражданский брак</td>\n",
       "      <td>1</td>\n",
       "      <td>F</td>\n",
       "      <td>пенсионер</td>\n",
       "      <td>0</td>\n",
       "      <td>158616.077870</td>\n",
       "      <td>сыграть свадьбу</td>\n",
       "    </tr>\n",
       "  </tbody>\n",
       "</table>\n",
       "</div>"
      ],
      "text/plain": [
       "   children  days_employed  dob_years education  education_id  \\\n",
       "0         1   -8437.673028         42    высшее             0   \n",
       "1         1   -4024.803754         36   среднее             1   \n",
       "2         0   -5623.422610         33   Среднее             1   \n",
       "3         3   -4124.747207         32   среднее             1   \n",
       "4         0  340266.072047         53   среднее             1   \n",
       "\n",
       "      family_status  family_status_id gender income_type  debt   total_income  \\\n",
       "0   женат / замужем                 0      F   сотрудник     0  253875.639453   \n",
       "1   женат / замужем                 0      F   сотрудник     0  112080.014102   \n",
       "2   женат / замужем                 0      M   сотрудник     0  145885.952297   \n",
       "3   женат / замужем                 0      M   сотрудник     0  267628.550329   \n",
       "4  гражданский брак                 1      F   пенсионер     0  158616.077870   \n",
       "\n",
       "                      purpose  \n",
       "0               покупка жилья  \n",
       "1     приобретение автомобиля  \n",
       "2               покупка жилья  \n",
       "3  дополнительное образование  \n",
       "4             сыграть свадьбу  "
      ]
     },
     "execution_count": 3,
     "metadata": {},
     "output_type": "execute_result"
    }
   ],
   "source": [
    "df.head(5)"
   ]
  },
  {
   "cell_type": "code",
   "execution_count": 4,
   "id": "b6c0d381",
   "metadata": {
    "scrolled": true
   },
   "outputs": [
    {
     "name": "stdout",
     "output_type": "stream",
     "text": [
      "<class 'pandas.core.frame.DataFrame'>\n",
      "RangeIndex: 21525 entries, 0 to 21524\n",
      "Data columns (total 12 columns):\n",
      " #   Column            Non-Null Count  Dtype  \n",
      "---  ------            --------------  -----  \n",
      " 0   children          21525 non-null  int64  \n",
      " 1   days_employed     19351 non-null  float64\n",
      " 2   dob_years         21525 non-null  int64  \n",
      " 3   education         21525 non-null  object \n",
      " 4   education_id      21525 non-null  int64  \n",
      " 5   family_status     21525 non-null  object \n",
      " 6   family_status_id  21525 non-null  int64  \n",
      " 7   gender            21525 non-null  object \n",
      " 8   income_type       21525 non-null  object \n",
      " 9   debt              21525 non-null  int64  \n",
      " 10  total_income      19351 non-null  float64\n",
      " 11  purpose           21525 non-null  object \n",
      "dtypes: float64(2), int64(5), object(5)\n",
      "memory usage: 2.0+ MB\n"
     ]
    }
   ],
   "source": [
    "df.info()"
   ]
  },
  {
   "cell_type": "markdown",
   "id": "6420a72d",
   "metadata": {},
   "source": [
    "Итак, в таблице 12 столбцов. Тип данных object (5 столбцов), int64 (5 столбцов), float64 (2 столбца).\n",
    "\n",
    "Согласно документации к данным:\n",
    "\n",
    " *\t`children` — количество детей в семье;\n",
    " *\t`days_employed` — общий трудовой стаж в днях;\n",
    " *\t`dob_years` — возраст клиента в годах;\n",
    " *\t`education` — уровень образования клиента;\n",
    " *\t`education_id` — идентификатор уровня образования;\n",
    " *\t`family_status` — семейное положение;\n",
    " *\t`family_status_id` — идентификатор семейного положения;\n",
    " *\t`gender` — пол клиента;\n",
    " *\t`income_type` — тип занятости;\n",
    " *\t`debt` — имел ли задолженность по возврату кредитов;\n",
    " *\t`total_income` — ежемесячный доход;\n",
    " *\t`purpose` — цель получения кредита.\n",
    "\n",
    "Количество значений в столбцах различается. Значит, в данных есть пропущенные значения."
   ]
  },
  {
   "cell_type": "markdown",
   "id": "5783b5fc",
   "metadata": {},
   "source": [
    "**Выводы**\n",
    "\n",
    "В каждой строке таблицы — данные о заемщиках банка. Часть колонок описывает самого заемщика и его семью: общий трудовой стаж в днях, возраст клиента в годах, уровень образования клиента, пол клиента,  семейное положение и количество детей в семье. Остальные данные рассказывают о занятости и кредите заемщика: тип занятости, ежемесячный доход, имел ли задолженность по возврату кредитов, цель получения кредита.\n",
    "\n",
    "Предварительно можно утверждать, что, данных достаточно для проверки гипотез. Но встречаются пропуски в данных.\n",
    "\n",
    "Чтобы двигаться дальше, нужно устранить проблемы в данных."
   ]
  },
  {
   "cell_type": "markdown",
   "id": "ecffda7d",
   "metadata": {},
   "source": [
    "## Предобработка данных"
   ]
  },
  {
   "cell_type": "markdown",
   "id": "3bb91a96",
   "metadata": {},
   "source": [
    "### Заполнение пропусков"
   ]
  },
  {
   "cell_type": "markdown",
   "id": "708211d6",
   "metadata": {},
   "source": [
    "В первом этапе методом info() были обнаружены два столбца с одинаковым количеством пропущенных данных: **days_employed** — общий трудовой стаж в днях и **total_income** — ежемесячный доход."
   ]
  },
  {
   "cell_type": "markdown",
   "id": "eaebb7e3",
   "metadata": {},
   "source": [
    "Предположим, что пропущенные данные находятся в одних и тех же строчках"
   ]
  },
  {
   "cell_type": "code",
   "execution_count": 5,
   "id": "6de1fabb",
   "metadata": {
    "scrolled": true
   },
   "outputs": [
    {
     "data": {
      "text/plain": [
       "2174"
      ]
     },
     "execution_count": 5,
     "metadata": {},
     "output_type": "execute_result"
    }
   ],
   "source": [
    "nul_str = df.loc[:, ['total_income', 'days_employed', 'income_type']]\n",
    "nul_str['days_employed'] = nul_str['days_employed'].fillna(0)\n",
    "nul_str['total_income'] = nul_str['total_income'].fillna(0)\n",
    "nul_str = nul_str[(nul_str['days_employed'] == 0) & (nul_str['total_income'] == 0)]\n",
    "\n",
    "len(nul_str)"
   ]
  },
  {
   "cell_type": "code",
   "execution_count": 6,
   "id": "3b9bb12c",
   "metadata": {
    "scrolled": true
   },
   "outputs": [
    {
     "data": {
      "text/plain": [
       "income_type\n",
       "госслужащий         147\n",
       "компаньон           508\n",
       "пенсионер           413\n",
       "предприниматель       1\n",
       "сотрудник          1105\n",
       "Name: income_type, dtype: int64"
      ]
     },
     "execution_count": 6,
     "metadata": {},
     "output_type": "execute_result"
    }
   ],
   "source": [
    "nul_str.groupby('income_type')['income_type'].count()"
   ]
  },
  {
   "cell_type": "code",
   "execution_count": 7,
   "id": "dd79d546",
   "metadata": {
    "scrolled": true
   },
   "outputs": [
    {
     "data": {
      "text/plain": [
       "income_type\n",
       "безработный            2\n",
       "в декрете              1\n",
       "госслужащий         1459\n",
       "компаньон           5085\n",
       "пенсионер           3856\n",
       "предприниматель        2\n",
       "сотрудник          11119\n",
       "студент                1\n",
       "Name: income_type, dtype: int64"
      ]
     },
     "execution_count": 7,
     "metadata": {},
     "output_type": "execute_result"
    }
   ],
   "source": [
    "df.groupby('income_type')['income_type'].count()"
   ]
  },
  {
   "cell_type": "markdown",
   "id": "0efba93c",
   "metadata": {},
   "source": [
    "Таким образом, трудовой стаж и ежемесячный доход не заполняли одновременно, предположительно, заемщик не предоставил сведения.\n",
    "Пропущенные значения составляют 10 % для столбцов days_employed  и total_income. При этом в разрезе четырех типов занятости доля пропущенных значений по вышеуказанным столбцам распределена идентично."
   ]
  },
  {
   "cell_type": "markdown",
   "id": "b6495aaa",
   "metadata": {},
   "source": [
    "Рассмотрим столбец **days_employed** (общий трудовой стаж в днях)."
   ]
  },
  {
   "cell_type": "code",
   "execution_count": 8,
   "id": "0d645648",
   "metadata": {
    "scrolled": false
   },
   "outputs": [
    {
     "data": {
      "text/plain": [
       "count     19351.000000\n",
       "mean      63046.497661\n",
       "std      140827.311974\n",
       "min      -18388.949901\n",
       "25%       -2747.423625\n",
       "50%       -1203.369529\n",
       "75%        -291.095954\n",
       "max      401755.400475\n",
       "Name: days_employed, dtype: float64"
      ]
     },
     "execution_count": 8,
     "metadata": {},
     "output_type": "execute_result"
    }
   ],
   "source": [
    "df['days_employed'].describe()"
   ]
  },
  {
   "cell_type": "markdown",
   "id": "e7f1922c",
   "metadata": {},
   "source": [
    "   В столбце **days_employed** наблюдадаются выбросы и отрицательные значения трудового стажа. Отрицательные значения выглядят как случайно поставленный знак минус (или тире), поэтому уберем знаки, так как с ними будет искажение.\n",
    "   Наличие выбросов говорит о том, что распределение признака не является нормальным, а значит заполнять пропуски необходимо медианным значением, так как она  устоучива к выбросам."
   ]
  },
  {
   "cell_type": "code",
   "execution_count": 9,
   "id": "dcd7a0d8",
   "metadata": {
    "scrolled": false
   },
   "outputs": [
    {
     "name": "stdout",
     "output_type": "stream",
     "text": [
      "<class 'pandas.core.frame.DataFrame'>\n",
      "RangeIndex: 21525 entries, 0 to 21524\n",
      "Data columns (total 12 columns):\n",
      " #   Column            Non-Null Count  Dtype  \n",
      "---  ------            --------------  -----  \n",
      " 0   children          21525 non-null  int64  \n",
      " 1   days_employed     21525 non-null  float64\n",
      " 2   dob_years         21525 non-null  int64  \n",
      " 3   education         21525 non-null  object \n",
      " 4   education_id      21525 non-null  int64  \n",
      " 5   family_status     21525 non-null  object \n",
      " 6   family_status_id  21525 non-null  int64  \n",
      " 7   gender            21525 non-null  object \n",
      " 8   income_type       21525 non-null  object \n",
      " 9   debt              21525 non-null  int64  \n",
      " 10  total_income      19351 non-null  float64\n",
      " 11  purpose           21525 non-null  object \n",
      "dtypes: float64(2), int64(5), object(5)\n",
      "memory usage: 2.0+ MB\n"
     ]
    }
   ],
   "source": [
    "df['days_employed'] = df['days_employed'].abs()\n",
    "df = df.fillna({'days_employed': df.groupby('income_type')['days_employed'].transform('median')}) \n",
    "df.info()"
   ]
  },
  {
   "cell_type": "markdown",
   "id": "de5e9122",
   "metadata": {},
   "source": [
    "Второй столбец с пропущенными значениями **total_income** (ежемесячный доход)."
   ]
  },
  {
   "cell_type": "code",
   "execution_count": 10,
   "id": "e317242d",
   "metadata": {
    "scrolled": false
   },
   "outputs": [
    {
     "data": {
      "text/plain": [
       "count    1.935100e+04\n",
       "mean     1.674223e+05\n",
       "std      1.029716e+05\n",
       "min      2.066726e+04\n",
       "25%      1.030532e+05\n",
       "50%      1.450179e+05\n",
       "75%      2.034351e+05\n",
       "max      2.265604e+06\n",
       "Name: total_income, dtype: float64"
      ]
     },
     "execution_count": 10,
     "metadata": {},
     "output_type": "execute_result"
    }
   ],
   "source": [
    "df['total_income'].describe()"
   ]
  },
  {
   "cell_type": "markdown",
   "id": "0417e191",
   "metadata": {},
   "source": [
    "  В столбце **total_income** тоже фикструется наличие выбросов, следовательно заполнять пропуски будем медианным значением, так как она  устоучива к выбросам."
   ]
  },
  {
   "cell_type": "code",
   "execution_count": 11,
   "id": "a638afe7",
   "metadata": {},
   "outputs": [
    {
     "name": "stdout",
     "output_type": "stream",
     "text": [
      "<class 'pandas.core.frame.DataFrame'>\n",
      "RangeIndex: 21525 entries, 0 to 21524\n",
      "Data columns (total 12 columns):\n",
      " #   Column            Non-Null Count  Dtype  \n",
      "---  ------            --------------  -----  \n",
      " 0   children          21525 non-null  int64  \n",
      " 1   days_employed     21525 non-null  float64\n",
      " 2   dob_years         21525 non-null  int64  \n",
      " 3   education         21525 non-null  object \n",
      " 4   education_id      21525 non-null  int64  \n",
      " 5   family_status     21525 non-null  object \n",
      " 6   family_status_id  21525 non-null  int64  \n",
      " 7   gender            21525 non-null  object \n",
      " 8   income_type       21525 non-null  object \n",
      " 9   debt              21525 non-null  int64  \n",
      " 10  total_income      21525 non-null  float64\n",
      " 11  purpose           21525 non-null  object \n",
      "dtypes: float64(2), int64(5), object(5)\n",
      "memory usage: 2.0+ MB\n"
     ]
    }
   ],
   "source": [
    "df = df.fillna({'total_income': df.groupby('income_type')['total_income'].transform('median')}) \n",
    "df.info()"
   ]
  },
  {
   "cell_type": "markdown",
   "id": "91f197b4",
   "metadata": {},
   "source": [
    "### Проверка данных на аномалии и исправления"
   ]
  },
  {
   "cell_type": "code",
   "execution_count": 12,
   "id": "c767ac47",
   "metadata": {
    "scrolled": true
   },
   "outputs": [
    {
     "data": {
      "text/html": [
       "<div>\n",
       "<style scoped>\n",
       "    .dataframe tbody tr th:only-of-type {\n",
       "        vertical-align: middle;\n",
       "    }\n",
       "\n",
       "    .dataframe tbody tr th {\n",
       "        vertical-align: top;\n",
       "    }\n",
       "\n",
       "    .dataframe thead th {\n",
       "        text-align: right;\n",
       "    }\n",
       "</style>\n",
       "<table border=\"1\" class=\"dataframe\">\n",
       "  <thead>\n",
       "    <tr style=\"text-align: right;\">\n",
       "      <th></th>\n",
       "      <th>children</th>\n",
       "      <th>days_employed</th>\n",
       "      <th>dob_years</th>\n",
       "      <th>education_id</th>\n",
       "      <th>family_status_id</th>\n",
       "      <th>debt</th>\n",
       "      <th>total_income</th>\n",
       "    </tr>\n",
       "  </thead>\n",
       "  <tbody>\n",
       "    <tr>\n",
       "      <th>count</th>\n",
       "      <td>21525.000000</td>\n",
       "      <td>21525.000000</td>\n",
       "      <td>21525.000000</td>\n",
       "      <td>21525.000000</td>\n",
       "      <td>21525.000000</td>\n",
       "      <td>21525.000000</td>\n",
       "      <td>2.152500e+04</td>\n",
       "    </tr>\n",
       "    <tr>\n",
       "      <th>mean</th>\n",
       "      <td>0.538908</td>\n",
       "      <td>67299.486032</td>\n",
       "      <td>43.293380</td>\n",
       "      <td>0.817236</td>\n",
       "      <td>0.972544</td>\n",
       "      <td>0.080883</td>\n",
       "      <td>1.652253e+05</td>\n",
       "    </tr>\n",
       "    <tr>\n",
       "      <th>std</th>\n",
       "      <td>1.381587</td>\n",
       "      <td>139401.804684</td>\n",
       "      <td>12.574584</td>\n",
       "      <td>0.548138</td>\n",
       "      <td>1.420324</td>\n",
       "      <td>0.272661</td>\n",
       "      <td>9.804367e+04</td>\n",
       "    </tr>\n",
       "    <tr>\n",
       "      <th>min</th>\n",
       "      <td>-1.000000</td>\n",
       "      <td>24.141633</td>\n",
       "      <td>0.000000</td>\n",
       "      <td>0.000000</td>\n",
       "      <td>0.000000</td>\n",
       "      <td>0.000000</td>\n",
       "      <td>2.066726e+04</td>\n",
       "    </tr>\n",
       "    <tr>\n",
       "      <th>25%</th>\n",
       "      <td>0.000000</td>\n",
       "      <td>1025.549623</td>\n",
       "      <td>33.000000</td>\n",
       "      <td>1.000000</td>\n",
       "      <td>0.000000</td>\n",
       "      <td>0.000000</td>\n",
       "      <td>1.077982e+05</td>\n",
       "    </tr>\n",
       "    <tr>\n",
       "      <th>50%</th>\n",
       "      <td>0.000000</td>\n",
       "      <td>1993.522017</td>\n",
       "      <td>42.000000</td>\n",
       "      <td>1.000000</td>\n",
       "      <td>0.000000</td>\n",
       "      <td>0.000000</td>\n",
       "      <td>1.425944e+05</td>\n",
       "    </tr>\n",
       "    <tr>\n",
       "      <th>75%</th>\n",
       "      <td>1.000000</td>\n",
       "      <td>5347.024506</td>\n",
       "      <td>53.000000</td>\n",
       "      <td>1.000000</td>\n",
       "      <td>1.000000</td>\n",
       "      <td>0.000000</td>\n",
       "      <td>1.955499e+05</td>\n",
       "    </tr>\n",
       "    <tr>\n",
       "      <th>max</th>\n",
       "      <td>20.000000</td>\n",
       "      <td>401755.400475</td>\n",
       "      <td>75.000000</td>\n",
       "      <td>4.000000</td>\n",
       "      <td>4.000000</td>\n",
       "      <td>1.000000</td>\n",
       "      <td>2.265604e+06</td>\n",
       "    </tr>\n",
       "  </tbody>\n",
       "</table>\n",
       "</div>"
      ],
      "text/plain": [
       "           children  days_employed     dob_years  education_id  \\\n",
       "count  21525.000000   21525.000000  21525.000000  21525.000000   \n",
       "mean       0.538908   67299.486032     43.293380      0.817236   \n",
       "std        1.381587  139401.804684     12.574584      0.548138   \n",
       "min       -1.000000      24.141633      0.000000      0.000000   \n",
       "25%        0.000000    1025.549623     33.000000      1.000000   \n",
       "50%        0.000000    1993.522017     42.000000      1.000000   \n",
       "75%        1.000000    5347.024506     53.000000      1.000000   \n",
       "max       20.000000  401755.400475     75.000000      4.000000   \n",
       "\n",
       "       family_status_id          debt  total_income  \n",
       "count      21525.000000  21525.000000  2.152500e+04  \n",
       "mean           0.972544      0.080883  1.652253e+05  \n",
       "std            1.420324      0.272661  9.804367e+04  \n",
       "min            0.000000      0.000000  2.066726e+04  \n",
       "25%            0.000000      0.000000  1.077982e+05  \n",
       "50%            0.000000      0.000000  1.425944e+05  \n",
       "75%            1.000000      0.000000  1.955499e+05  \n",
       "max            4.000000      1.000000  2.265604e+06  "
      ]
     },
     "execution_count": 12,
     "metadata": {},
     "output_type": "execute_result"
    }
   ],
   "source": [
    "df.describe()"
   ]
  },
  {
   "cell_type": "markdown",
   "id": "157c5088",
   "metadata": {},
   "source": [
    "В столбце **children** наблюдадаются выбросы и отрицательные значения. Найдем значения не входящие в промежуток от 0 до 5 детей."
   ]
  },
  {
   "cell_type": "code",
   "execution_count": 13,
   "id": "808efc0e",
   "metadata": {
    "scrolled": true
   },
   "outputs": [
    {
     "data": {
      "text/plain": [
       "array([-1, 20])"
      ]
     },
     "execution_count": 13,
     "metadata": {},
     "output_type": "execute_result"
    }
   ],
   "source": [
    "df[(df['children'] < 0) | (df['children'] > 5)]['children'].unique()"
   ]
  },
  {
   "cell_type": "markdown",
   "id": "3480f75e",
   "metadata": {},
   "source": [
    "В столбце children \"-1\"  выглядит как случайно поставленный знак минус (или тире), а 20 как случайно приписанный \"0\" к двойке. Для замены используем два метода replace() и abs()."
   ]
  },
  {
   "cell_type": "code",
   "execution_count": 14,
   "id": "2bb61b09",
   "metadata": {
    "scrolled": true
   },
   "outputs": [
    {
     "data": {
      "text/plain": [
       "array([], dtype=int64)"
      ]
     },
     "execution_count": 14,
     "metadata": {},
     "output_type": "execute_result"
    }
   ],
   "source": [
    "df['children'] = df['children'].replace(20, 2)\n",
    "df['children'] = df['children'].abs()\n",
    "df[(df['children'] < 0) | (df['children'] > 5)]['children'].unique()"
   ]
  },
  {
   "cell_type": "markdown",
   "id": "0a5e5ed9",
   "metadata": {},
   "source": [
    "В столбце **days_employed** от отрицательных значений избавились в предыдущем шаге, но остались выбросы."
   ]
  },
  {
   "cell_type": "code",
   "execution_count": 15,
   "id": "78536d97",
   "metadata": {},
   "outputs": [
    {
     "data": {
      "text/plain": [
       "income_type\n",
       "безработный       2\n",
       "компаньон         1\n",
       "пенсионер      3856\n",
       "сотрудник         2\n",
       "Name: income_type, dtype: int64"
      ]
     },
     "execution_count": 15,
     "metadata": {},
     "output_type": "execute_result"
    }
   ],
   "source": [
    "days_employed_big = df[df['days_employed'] > 16425]\n",
    "days_employed_big.groupby('income_type')['income_type'].count()\n"
   ]
  },
  {
   "cell_type": "markdown",
   "id": "08174fec",
   "metadata": {},
   "source": [
    "При выборки стажа более 45 лет, все пенсионеры и  безработные оказались в этой выборке. Таким образом скорее всего аномалия в данных связана с технической стороной.\n"
   ]
  },
  {
   "cell_type": "markdown",
   "id": "7cbb9f9e",
   "metadata": {},
   "source": [
    "В столбце **dob_years** минимальное значение \"0\", поэтому выведем строчки с возрастом менее 18 лет."
   ]
  },
  {
   "cell_type": "code",
   "execution_count": 16,
   "id": "f0ade05f",
   "metadata": {
    "scrolled": false
   },
   "outputs": [
    {
     "data": {
      "text/html": [
       "<div>\n",
       "<style scoped>\n",
       "    .dataframe tbody tr th:only-of-type {\n",
       "        vertical-align: middle;\n",
       "    }\n",
       "\n",
       "    .dataframe tbody tr th {\n",
       "        vertical-align: top;\n",
       "    }\n",
       "\n",
       "    .dataframe thead th {\n",
       "        text-align: right;\n",
       "    }\n",
       "</style>\n",
       "<table border=\"1\" class=\"dataframe\">\n",
       "  <thead>\n",
       "    <tr style=\"text-align: right;\">\n",
       "      <th></th>\n",
       "      <th>children</th>\n",
       "      <th>days_employed</th>\n",
       "      <th>dob_years</th>\n",
       "      <th>education</th>\n",
       "      <th>education_id</th>\n",
       "      <th>family_status</th>\n",
       "      <th>family_status_id</th>\n",
       "      <th>gender</th>\n",
       "      <th>income_type</th>\n",
       "      <th>debt</th>\n",
       "      <th>total_income</th>\n",
       "      <th>purpose</th>\n",
       "    </tr>\n",
       "  </thead>\n",
       "  <tbody>\n",
       "    <tr>\n",
       "      <th>99</th>\n",
       "      <td>0</td>\n",
       "      <td>346541.618895</td>\n",
       "      <td>0</td>\n",
       "      <td>Среднее</td>\n",
       "      <td>1</td>\n",
       "      <td>женат / замужем</td>\n",
       "      <td>0</td>\n",
       "      <td>F</td>\n",
       "      <td>пенсионер</td>\n",
       "      <td>0</td>\n",
       "      <td>71291.522491</td>\n",
       "      <td>автомобиль</td>\n",
       "    </tr>\n",
       "    <tr>\n",
       "      <th>149</th>\n",
       "      <td>0</td>\n",
       "      <td>2664.273168</td>\n",
       "      <td>0</td>\n",
       "      <td>среднее</td>\n",
       "      <td>1</td>\n",
       "      <td>в разводе</td>\n",
       "      <td>3</td>\n",
       "      <td>F</td>\n",
       "      <td>сотрудник</td>\n",
       "      <td>0</td>\n",
       "      <td>70176.435951</td>\n",
       "      <td>операции с жильем</td>\n",
       "    </tr>\n",
       "    <tr>\n",
       "      <th>270</th>\n",
       "      <td>3</td>\n",
       "      <td>1872.663186</td>\n",
       "      <td>0</td>\n",
       "      <td>среднее</td>\n",
       "      <td>1</td>\n",
       "      <td>женат / замужем</td>\n",
       "      <td>0</td>\n",
       "      <td>F</td>\n",
       "      <td>сотрудник</td>\n",
       "      <td>0</td>\n",
       "      <td>102166.458894</td>\n",
       "      <td>ремонт жилью</td>\n",
       "    </tr>\n",
       "    <tr>\n",
       "      <th>578</th>\n",
       "      <td>0</td>\n",
       "      <td>397856.565013</td>\n",
       "      <td>0</td>\n",
       "      <td>среднее</td>\n",
       "      <td>1</td>\n",
       "      <td>женат / замужем</td>\n",
       "      <td>0</td>\n",
       "      <td>F</td>\n",
       "      <td>пенсионер</td>\n",
       "      <td>0</td>\n",
       "      <td>97620.687042</td>\n",
       "      <td>строительство собственной недвижимости</td>\n",
       "    </tr>\n",
       "    <tr>\n",
       "      <th>1040</th>\n",
       "      <td>0</td>\n",
       "      <td>1158.029561</td>\n",
       "      <td>0</td>\n",
       "      <td>высшее</td>\n",
       "      <td>0</td>\n",
       "      <td>в разводе</td>\n",
       "      <td>3</td>\n",
       "      <td>F</td>\n",
       "      <td>компаньон</td>\n",
       "      <td>0</td>\n",
       "      <td>303994.134987</td>\n",
       "      <td>свой автомобиль</td>\n",
       "    </tr>\n",
       "    <tr>\n",
       "      <th>...</th>\n",
       "      <td>...</td>\n",
       "      <td>...</td>\n",
       "      <td>...</td>\n",
       "      <td>...</td>\n",
       "      <td>...</td>\n",
       "      <td>...</td>\n",
       "      <td>...</td>\n",
       "      <td>...</td>\n",
       "      <td>...</td>\n",
       "      <td>...</td>\n",
       "      <td>...</td>\n",
       "      <td>...</td>\n",
       "    </tr>\n",
       "    <tr>\n",
       "      <th>19829</th>\n",
       "      <td>0</td>\n",
       "      <td>1574.202821</td>\n",
       "      <td>0</td>\n",
       "      <td>среднее</td>\n",
       "      <td>1</td>\n",
       "      <td>женат / замужем</td>\n",
       "      <td>0</td>\n",
       "      <td>F</td>\n",
       "      <td>сотрудник</td>\n",
       "      <td>0</td>\n",
       "      <td>142594.396847</td>\n",
       "      <td>жилье</td>\n",
       "    </tr>\n",
       "    <tr>\n",
       "      <th>20462</th>\n",
       "      <td>0</td>\n",
       "      <td>338734.868540</td>\n",
       "      <td>0</td>\n",
       "      <td>среднее</td>\n",
       "      <td>1</td>\n",
       "      <td>женат / замужем</td>\n",
       "      <td>0</td>\n",
       "      <td>F</td>\n",
       "      <td>пенсионер</td>\n",
       "      <td>0</td>\n",
       "      <td>259193.920299</td>\n",
       "      <td>покупка своего жилья</td>\n",
       "    </tr>\n",
       "    <tr>\n",
       "      <th>20577</th>\n",
       "      <td>0</td>\n",
       "      <td>331741.271455</td>\n",
       "      <td>0</td>\n",
       "      <td>среднее</td>\n",
       "      <td>1</td>\n",
       "      <td>Не женат / не замужем</td>\n",
       "      <td>4</td>\n",
       "      <td>F</td>\n",
       "      <td>пенсионер</td>\n",
       "      <td>0</td>\n",
       "      <td>129788.762899</td>\n",
       "      <td>недвижимость</td>\n",
       "    </tr>\n",
       "    <tr>\n",
       "      <th>21179</th>\n",
       "      <td>2</td>\n",
       "      <td>108.967042</td>\n",
       "      <td>0</td>\n",
       "      <td>высшее</td>\n",
       "      <td>0</td>\n",
       "      <td>женат / замужем</td>\n",
       "      <td>0</td>\n",
       "      <td>M</td>\n",
       "      <td>компаньон</td>\n",
       "      <td>0</td>\n",
       "      <td>240702.007382</td>\n",
       "      <td>строительство жилой недвижимости</td>\n",
       "    </tr>\n",
       "    <tr>\n",
       "      <th>21313</th>\n",
       "      <td>0</td>\n",
       "      <td>1268.487728</td>\n",
       "      <td>0</td>\n",
       "      <td>среднее</td>\n",
       "      <td>1</td>\n",
       "      <td>Не женат / не замужем</td>\n",
       "      <td>4</td>\n",
       "      <td>M</td>\n",
       "      <td>сотрудник</td>\n",
       "      <td>0</td>\n",
       "      <td>152419.184851</td>\n",
       "      <td>операции с жильем</td>\n",
       "    </tr>\n",
       "  </tbody>\n",
       "</table>\n",
       "<p>101 rows × 12 columns</p>\n",
       "</div>"
      ],
      "text/plain": [
       "       children  days_employed  dob_years education  education_id  \\\n",
       "99            0  346541.618895          0   Среднее             1   \n",
       "149           0    2664.273168          0   среднее             1   \n",
       "270           3    1872.663186          0   среднее             1   \n",
       "578           0  397856.565013          0   среднее             1   \n",
       "1040          0    1158.029561          0    высшее             0   \n",
       "...         ...            ...        ...       ...           ...   \n",
       "19829         0    1574.202821          0   среднее             1   \n",
       "20462         0  338734.868540          0   среднее             1   \n",
       "20577         0  331741.271455          0   среднее             1   \n",
       "21179         2     108.967042          0    высшее             0   \n",
       "21313         0    1268.487728          0   среднее             1   \n",
       "\n",
       "               family_status  family_status_id gender income_type  debt  \\\n",
       "99           женат / замужем                 0      F   пенсионер     0   \n",
       "149                в разводе                 3      F   сотрудник     0   \n",
       "270          женат / замужем                 0      F   сотрудник     0   \n",
       "578          женат / замужем                 0      F   пенсионер     0   \n",
       "1040               в разводе                 3      F   компаньон     0   \n",
       "...                      ...               ...    ...         ...   ...   \n",
       "19829        женат / замужем                 0      F   сотрудник     0   \n",
       "20462        женат / замужем                 0      F   пенсионер     0   \n",
       "20577  Не женат / не замужем                 4      F   пенсионер     0   \n",
       "21179        женат / замужем                 0      M   компаньон     0   \n",
       "21313  Не женат / не замужем                 4      M   сотрудник     0   \n",
       "\n",
       "        total_income                                 purpose  \n",
       "99      71291.522491                              автомобиль  \n",
       "149     70176.435951                       операции с жильем  \n",
       "270    102166.458894                            ремонт жилью  \n",
       "578     97620.687042  строительство собственной недвижимости  \n",
       "1040   303994.134987                         свой автомобиль  \n",
       "...              ...                                     ...  \n",
       "19829  142594.396847                                   жилье  \n",
       "20462  259193.920299                    покупка своего жилья  \n",
       "20577  129788.762899                            недвижимость  \n",
       "21179  240702.007382        строительство жилой недвижимости  \n",
       "21313  152419.184851                       операции с жильем  \n",
       "\n",
       "[101 rows x 12 columns]"
      ]
     },
     "execution_count": 16,
     "metadata": {},
     "output_type": "execute_result"
    }
   ],
   "source": [
    "df[df['dob_years'] < 18]"
   ]
  },
  {
   "cell_type": "markdown",
   "id": "339f591f",
   "metadata": {},
   "source": [
    "   Все строчки оказались нулевыми, на их долю приходится 0,5% от столбца, следовательно скорее всего данные не внесли."
   ]
  },
  {
   "cell_type": "code",
   "execution_count": 17,
   "id": "9d89f8ef",
   "metadata": {
    "scrolled": true
   },
   "outputs": [
    {
     "data": {
      "text/plain": [
       "income_type\n",
       "госслужащий     6\n",
       "компаньон      20\n",
       "пенсионер      20\n",
       "сотрудник      55\n",
       "Name: income_type, dtype: int64"
      ]
     },
     "execution_count": 17,
     "metadata": {},
     "output_type": "execute_result"
    }
   ],
   "source": [
    "df[df['dob_years'] < 18].groupby('income_type')['income_type'].count()"
   ]
  },
  {
   "cell_type": "markdown",
   "id": "25487031",
   "metadata": {},
   "source": [
    "   В разрезе типов занятости нулевые значения также составляют 0,4 - 0,5% от вышеперечисленных типов. Значение не большое и существенного влияния на результаты, если брать их во внимание, не окажет."
   ]
  },
  {
   "cell_type": "markdown",
   "id": "9ba642a2",
   "metadata": {},
   "source": [
    "### Изменение типов данных"
   ]
  },
  {
   "cell_type": "code",
   "execution_count": 18,
   "id": "95b2d2bd",
   "metadata": {},
   "outputs": [
    {
     "name": "stdout",
     "output_type": "stream",
     "text": [
      "<class 'pandas.core.frame.DataFrame'>\n",
      "RangeIndex: 21525 entries, 0 to 21524\n",
      "Data columns (total 12 columns):\n",
      " #   Column            Non-Null Count  Dtype  \n",
      "---  ------            --------------  -----  \n",
      " 0   children          21525 non-null  int64  \n",
      " 1   days_employed     21525 non-null  float64\n",
      " 2   dob_years         21525 non-null  int64  \n",
      " 3   education         21525 non-null  object \n",
      " 4   education_id      21525 non-null  int64  \n",
      " 5   family_status     21525 non-null  object \n",
      " 6   family_status_id  21525 non-null  int64  \n",
      " 7   gender            21525 non-null  object \n",
      " 8   income_type       21525 non-null  object \n",
      " 9   debt              21525 non-null  int64  \n",
      " 10  total_income      21525 non-null  int64  \n",
      " 11  purpose           21525 non-null  object \n",
      "dtypes: float64(1), int64(6), object(5)\n",
      "memory usage: 2.0+ MB\n"
     ]
    }
   ],
   "source": [
    "df['total_income'] = df['total_income'].astype('int')\n",
    "df.info()"
   ]
  },
  {
   "cell_type": "markdown",
   "id": "875dba59",
   "metadata": {},
   "source": [
    "###  Удаление дубликатов"
   ]
  },
  {
   "cell_type": "markdown",
   "id": "48bd53c6",
   "metadata": {},
   "source": [
    "Выведем на экран список уникальных названий столбца **education**, отсортированный в алфавитном порядке."
   ]
  },
  {
   "cell_type": "code",
   "execution_count": 19,
   "id": "50a58a5c",
   "metadata": {},
   "outputs": [
    {
     "data": {
      "text/plain": [
       "array(['ВЫСШЕЕ', 'Высшее', 'НАЧАЛЬНОЕ', 'НЕОКОНЧЕННОЕ ВЫСШЕЕ',\n",
       "       'Начальное', 'Неоконченное высшее', 'СРЕДНЕЕ', 'Среднее',\n",
       "       'УЧЕНАЯ СТЕПЕНЬ', 'Ученая степень', 'высшее', 'начальное',\n",
       "       'неоконченное высшее', 'среднее', 'ученая степень'], dtype=object)"
      ]
     },
     "execution_count": 19,
     "metadata": {},
     "output_type": "execute_result"
    }
   ],
   "source": [
    "df['education'].sort_values().unique()"
   ]
  },
  {
   "cell_type": "markdown",
   "id": "4eb3f4a2",
   "metadata": {},
   "source": [
    "Каждый уровень образования представлен тремя формами написания отличающимися друг от друга записью в разных регистрах. Для приведения к одной форме используем метод str.lower(), который приведет символы к нижнему регистру."
   ]
  },
  {
   "cell_type": "code",
   "execution_count": 20,
   "id": "191c070a",
   "metadata": {},
   "outputs": [
    {
     "data": {
      "text/plain": [
       "array(['высшее', 'начальное', 'неоконченное высшее', 'среднее',\n",
       "       'ученая степень'], dtype=object)"
      ]
     },
     "execution_count": 20,
     "metadata": {},
     "output_type": "execute_result"
    }
   ],
   "source": [
    "df['education'] = df['education'].str.lower()\n",
    "df['education'].sort_values().unique()"
   ]
  },
  {
   "cell_type": "markdown",
   "id": "5247390f",
   "metadata": {},
   "source": [
    "   Найдем сумму явных дубликатов методом duplicated()."
   ]
  },
  {
   "cell_type": "code",
   "execution_count": 21,
   "id": "10c09a53",
   "metadata": {},
   "outputs": [
    {
     "data": {
      "text/plain": [
       "71"
      ]
     },
     "execution_count": 21,
     "metadata": {},
     "output_type": "execute_result"
    }
   ],
   "source": [
    "df.duplicated().sum()"
   ]
  },
  {
   "cell_type": "markdown",
   "id": "b3e15ad3",
   "metadata": {},
   "source": [
    "   Удалим дубликаты и восстановим индексы методом reset_index() c параметром drop равным True. "
   ]
  },
  {
   "cell_type": "code",
   "execution_count": 22,
   "id": "cebf3b73",
   "metadata": {},
   "outputs": [],
   "source": [
    "df = df.drop_duplicates().reset_index(drop=True)"
   ]
  },
  {
   "cell_type": "code",
   "execution_count": 23,
   "id": "e066220a",
   "metadata": {},
   "outputs": [
    {
     "data": {
      "text/plain": [
       "0"
      ]
     },
     "execution_count": 23,
     "metadata": {},
     "output_type": "execute_result"
    }
   ],
   "source": [
    "df.duplicated().sum()"
   ]
  },
  {
   "cell_type": "markdown",
   "id": "a6643676",
   "metadata": {},
   "source": [
    "Выведем на экран список уникальных названий столбца **family_status**, отсортированный в алфавитном порядке."
   ]
  },
  {
   "cell_type": "code",
   "execution_count": 24,
   "id": "891a5de0",
   "metadata": {},
   "outputs": [
    {
     "data": {
      "text/plain": [
       "array(['Не женат / не замужем', 'в разводе', 'вдовец / вдова',\n",
       "       'гражданский брак', 'женат / замужем'], dtype=object)"
      ]
     },
     "execution_count": 24,
     "metadata": {},
     "output_type": "execute_result"
    }
   ],
   "source": [
    "df['family_status'].sort_values().unique()"
   ]
  },
  {
   "cell_type": "markdown",
   "id": "13f61430",
   "metadata": {},
   "source": [
    "Дубликатов в столбце **family_status** не выявлено. \n",
    "Выведем на экран список уникальных названий столбца **gender**."
   ]
  },
  {
   "cell_type": "code",
   "execution_count": 25,
   "id": "b311b567",
   "metadata": {
    "scrolled": true
   },
   "outputs": [
    {
     "data": {
      "text/plain": [
       "array(['F', 'M', 'XNA'], dtype=object)"
      ]
     },
     "execution_count": 25,
     "metadata": {},
     "output_type": "execute_result"
    }
   ],
   "source": [
    "df['gender'].sort_values().unique()"
   ]
  },
  {
   "cell_type": "markdown",
   "id": "b9650a33",
   "metadata": {},
   "source": [
    "В данных обнаружился не известный пол. Выведем строку с некорректным значением и исправим."
   ]
  },
  {
   "cell_type": "code",
   "execution_count": 26,
   "id": "eb2fa555",
   "metadata": {
    "scrolled": true
   },
   "outputs": [
    {
     "data": {
      "text/html": [
       "<div>\n",
       "<style scoped>\n",
       "    .dataframe tbody tr th:only-of-type {\n",
       "        vertical-align: middle;\n",
       "    }\n",
       "\n",
       "    .dataframe tbody tr th {\n",
       "        vertical-align: top;\n",
       "    }\n",
       "\n",
       "    .dataframe thead th {\n",
       "        text-align: right;\n",
       "    }\n",
       "</style>\n",
       "<table border=\"1\" class=\"dataframe\">\n",
       "  <thead>\n",
       "    <tr style=\"text-align: right;\">\n",
       "      <th></th>\n",
       "      <th>children</th>\n",
       "      <th>days_employed</th>\n",
       "      <th>dob_years</th>\n",
       "      <th>education</th>\n",
       "      <th>education_id</th>\n",
       "      <th>family_status</th>\n",
       "      <th>family_status_id</th>\n",
       "      <th>gender</th>\n",
       "      <th>income_type</th>\n",
       "      <th>debt</th>\n",
       "      <th>total_income</th>\n",
       "      <th>purpose</th>\n",
       "    </tr>\n",
       "  </thead>\n",
       "  <tbody>\n",
       "    <tr>\n",
       "      <th>10684</th>\n",
       "      <td>0</td>\n",
       "      <td>2358.600502</td>\n",
       "      <td>24</td>\n",
       "      <td>неоконченное высшее</td>\n",
       "      <td>2</td>\n",
       "      <td>гражданский брак</td>\n",
       "      <td>1</td>\n",
       "      <td>XNA</td>\n",
       "      <td>компаньон</td>\n",
       "      <td>0</td>\n",
       "      <td>203905</td>\n",
       "      <td>покупка недвижимости</td>\n",
       "    </tr>\n",
       "  </tbody>\n",
       "</table>\n",
       "</div>"
      ],
      "text/plain": [
       "       children  days_employed  dob_years            education  education_id  \\\n",
       "10684         0    2358.600502         24  неоконченное высшее             2   \n",
       "\n",
       "          family_status  family_status_id gender income_type  debt  \\\n",
       "10684  гражданский брак                 1    XNA   компаньон     0   \n",
       "\n",
       "       total_income               purpose  \n",
       "10684        203905  покупка недвижимости  "
      ]
     },
     "execution_count": 26,
     "metadata": {},
     "output_type": "execute_result"
    }
   ],
   "source": [
    "df[df['gender'] == 'XNA']"
   ]
  },
  {
   "cell_type": "code",
   "execution_count": 27,
   "id": "cbaf2668",
   "metadata": {},
   "outputs": [
    {
     "data": {
      "text/plain": [
       "array(['F', 'M'], dtype=object)"
      ]
     },
     "execution_count": 27,
     "metadata": {},
     "output_type": "execute_result"
    }
   ],
   "source": [
    "df['gender'] = df['gender'].replace('XNA', 'M')\n",
    "df['gender'].sort_values().unique()"
   ]
  },
  {
   "cell_type": "markdown",
   "id": "15f54ee7",
   "metadata": {},
   "source": [
    "Выведем на экран список уникальных названий столбца **income_type**."
   ]
  },
  {
   "cell_type": "code",
   "execution_count": 28,
   "id": "7a475313",
   "metadata": {
    "scrolled": true
   },
   "outputs": [
    {
     "data": {
      "text/plain": [
       "array(['безработный', 'в декрете', 'госслужащий', 'компаньон',\n",
       "       'пенсионер', 'предприниматель', 'сотрудник', 'студент'],\n",
       "      dtype=object)"
      ]
     },
     "execution_count": 28,
     "metadata": {},
     "output_type": "execute_result"
    }
   ],
   "source": [
    "df['income_type'].sort_values().unique()"
   ]
  },
  {
   "cell_type": "markdown",
   "id": "18a492be",
   "metadata": {},
   "source": [
    "Дубликатов в столбце **income_type** не выявлено. "
   ]
  },
  {
   "cell_type": "markdown",
   "id": "cd0aa080",
   "metadata": {},
   "source": [
    "### Формирование дополнительных датафреймов словарей, декомпозиция исходного датафрейма"
   ]
  },
  {
   "cell_type": "markdown",
   "id": "1d2dddaf",
   "metadata": {},
   "source": [
    "Создадим два новых датафрейма для уровня образования и семейного положения и удалим из исходного датафрейма столбцы с названиями оставив только их идентификаторы."
   ]
  },
  {
   "cell_type": "code",
   "execution_count": 29,
   "id": "97a338df",
   "metadata": {
    "scrolled": true
   },
   "outputs": [
    {
     "data": {
      "text/html": [
       "<div>\n",
       "<style scoped>\n",
       "    .dataframe tbody tr th:only-of-type {\n",
       "        vertical-align: middle;\n",
       "    }\n",
       "\n",
       "    .dataframe tbody tr th {\n",
       "        vertical-align: top;\n",
       "    }\n",
       "\n",
       "    .dataframe thead th {\n",
       "        text-align: right;\n",
       "    }\n",
       "</style>\n",
       "<table border=\"1\" class=\"dataframe\">\n",
       "  <thead>\n",
       "    <tr style=\"text-align: right;\">\n",
       "      <th></th>\n",
       "      <th>education_id</th>\n",
       "      <th>education</th>\n",
       "    </tr>\n",
       "  </thead>\n",
       "  <tbody>\n",
       "    <tr>\n",
       "      <th>0</th>\n",
       "      <td>0</td>\n",
       "      <td>высшее</td>\n",
       "    </tr>\n",
       "    <tr>\n",
       "      <th>1</th>\n",
       "      <td>1</td>\n",
       "      <td>среднее</td>\n",
       "    </tr>\n",
       "    <tr>\n",
       "      <th>2</th>\n",
       "      <td>2</td>\n",
       "      <td>неоконченное высшее</td>\n",
       "    </tr>\n",
       "    <tr>\n",
       "      <th>3</th>\n",
       "      <td>3</td>\n",
       "      <td>начальное</td>\n",
       "    </tr>\n",
       "    <tr>\n",
       "      <th>4</th>\n",
       "      <td>4</td>\n",
       "      <td>ученая степень</td>\n",
       "    </tr>\n",
       "  </tbody>\n",
       "</table>\n",
       "</div>"
      ],
      "text/plain": [
       "   education_id            education\n",
       "0             0               высшее\n",
       "1             1              среднее\n",
       "2             2  неоконченное высшее\n",
       "3             3            начальное\n",
       "4             4       ученая степень"
      ]
     },
     "metadata": {},
     "output_type": "display_data"
    },
    {
     "data": {
      "text/html": [
       "<div>\n",
       "<style scoped>\n",
       "    .dataframe tbody tr th:only-of-type {\n",
       "        vertical-align: middle;\n",
       "    }\n",
       "\n",
       "    .dataframe tbody tr th {\n",
       "        vertical-align: top;\n",
       "    }\n",
       "\n",
       "    .dataframe thead th {\n",
       "        text-align: right;\n",
       "    }\n",
       "</style>\n",
       "<table border=\"1\" class=\"dataframe\">\n",
       "  <thead>\n",
       "    <tr style=\"text-align: right;\">\n",
       "      <th></th>\n",
       "      <th>family_status_id</th>\n",
       "      <th>family_status</th>\n",
       "    </tr>\n",
       "  </thead>\n",
       "  <tbody>\n",
       "    <tr>\n",
       "      <th>0</th>\n",
       "      <td>0</td>\n",
       "      <td>женат / замужем</td>\n",
       "    </tr>\n",
       "    <tr>\n",
       "      <th>1</th>\n",
       "      <td>1</td>\n",
       "      <td>гражданский брак</td>\n",
       "    </tr>\n",
       "    <tr>\n",
       "      <th>2</th>\n",
       "      <td>2</td>\n",
       "      <td>вдовец / вдова</td>\n",
       "    </tr>\n",
       "    <tr>\n",
       "      <th>3</th>\n",
       "      <td>3</td>\n",
       "      <td>в разводе</td>\n",
       "    </tr>\n",
       "    <tr>\n",
       "      <th>4</th>\n",
       "      <td>4</td>\n",
       "      <td>Не женат / не замужем</td>\n",
       "    </tr>\n",
       "  </tbody>\n",
       "</table>\n",
       "</div>"
      ],
      "text/plain": [
       "   family_status_id          family_status\n",
       "0                 0        женат / замужем\n",
       "1                 1       гражданский брак\n",
       "2                 2         вдовец / вдова\n",
       "3                 3              в разводе\n",
       "4                 4  Не женат / не замужем"
      ]
     },
     "metadata": {},
     "output_type": "display_data"
    }
   ],
   "source": [
    "df_edu = df[['education_id', 'education']]\n",
    "df_family= df[['family_status_id', 'family_status']]\n",
    "df_edu = df_edu.drop_duplicates().reset_index(drop=True)\n",
    "df_family = df_family.drop_duplicates().reset_index(drop=True)\n",
    "display(df_edu)\n",
    "display(df_family)"
   ]
  },
  {
   "cell_type": "code",
   "execution_count": 30,
   "id": "ccf50de1",
   "metadata": {},
   "outputs": [],
   "source": [
    "df = df.drop(columns=['education', 'family_status'], axis=1)"
   ]
  },
  {
   "cell_type": "code",
   "execution_count": 31,
   "id": "bd7782ba",
   "metadata": {
    "scrolled": true
   },
   "outputs": [
    {
     "data": {
      "text/html": [
       "<div>\n",
       "<style scoped>\n",
       "    .dataframe tbody tr th:only-of-type {\n",
       "        vertical-align: middle;\n",
       "    }\n",
       "\n",
       "    .dataframe tbody tr th {\n",
       "        vertical-align: top;\n",
       "    }\n",
       "\n",
       "    .dataframe thead th {\n",
       "        text-align: right;\n",
       "    }\n",
       "</style>\n",
       "<table border=\"1\" class=\"dataframe\">\n",
       "  <thead>\n",
       "    <tr style=\"text-align: right;\">\n",
       "      <th></th>\n",
       "      <th>children</th>\n",
       "      <th>days_employed</th>\n",
       "      <th>dob_years</th>\n",
       "      <th>education_id</th>\n",
       "      <th>family_status_id</th>\n",
       "      <th>gender</th>\n",
       "      <th>income_type</th>\n",
       "      <th>debt</th>\n",
       "      <th>total_income</th>\n",
       "      <th>purpose</th>\n",
       "    </tr>\n",
       "  </thead>\n",
       "  <tbody>\n",
       "    <tr>\n",
       "      <th>0</th>\n",
       "      <td>1</td>\n",
       "      <td>8437.673028</td>\n",
       "      <td>42</td>\n",
       "      <td>0</td>\n",
       "      <td>0</td>\n",
       "      <td>F</td>\n",
       "      <td>сотрудник</td>\n",
       "      <td>0</td>\n",
       "      <td>253875</td>\n",
       "      <td>покупка жилья</td>\n",
       "    </tr>\n",
       "    <tr>\n",
       "      <th>1</th>\n",
       "      <td>1</td>\n",
       "      <td>4024.803754</td>\n",
       "      <td>36</td>\n",
       "      <td>1</td>\n",
       "      <td>0</td>\n",
       "      <td>F</td>\n",
       "      <td>сотрудник</td>\n",
       "      <td>0</td>\n",
       "      <td>112080</td>\n",
       "      <td>приобретение автомобиля</td>\n",
       "    </tr>\n",
       "    <tr>\n",
       "      <th>2</th>\n",
       "      <td>0</td>\n",
       "      <td>5623.422610</td>\n",
       "      <td>33</td>\n",
       "      <td>1</td>\n",
       "      <td>0</td>\n",
       "      <td>M</td>\n",
       "      <td>сотрудник</td>\n",
       "      <td>0</td>\n",
       "      <td>145885</td>\n",
       "      <td>покупка жилья</td>\n",
       "    </tr>\n",
       "    <tr>\n",
       "      <th>3</th>\n",
       "      <td>3</td>\n",
       "      <td>4124.747207</td>\n",
       "      <td>32</td>\n",
       "      <td>1</td>\n",
       "      <td>0</td>\n",
       "      <td>M</td>\n",
       "      <td>сотрудник</td>\n",
       "      <td>0</td>\n",
       "      <td>267628</td>\n",
       "      <td>дополнительное образование</td>\n",
       "    </tr>\n",
       "    <tr>\n",
       "      <th>4</th>\n",
       "      <td>0</td>\n",
       "      <td>340266.072047</td>\n",
       "      <td>53</td>\n",
       "      <td>1</td>\n",
       "      <td>1</td>\n",
       "      <td>F</td>\n",
       "      <td>пенсионер</td>\n",
       "      <td>0</td>\n",
       "      <td>158616</td>\n",
       "      <td>сыграть свадьбу</td>\n",
       "    </tr>\n",
       "  </tbody>\n",
       "</table>\n",
       "</div>"
      ],
      "text/plain": [
       "   children  days_employed  dob_years  education_id  family_status_id gender  \\\n",
       "0         1    8437.673028         42             0                 0      F   \n",
       "1         1    4024.803754         36             1                 0      F   \n",
       "2         0    5623.422610         33             1                 0      M   \n",
       "3         3    4124.747207         32             1                 0      M   \n",
       "4         0  340266.072047         53             1                 1      F   \n",
       "\n",
       "  income_type  debt  total_income                     purpose  \n",
       "0   сотрудник     0        253875               покупка жилья  \n",
       "1   сотрудник     0        112080     приобретение автомобиля  \n",
       "2   сотрудник     0        145885               покупка жилья  \n",
       "3   сотрудник     0        267628  дополнительное образование  \n",
       "4   пенсионер     0        158616             сыграть свадьбу  "
      ]
     },
     "execution_count": 31,
     "metadata": {},
     "output_type": "execute_result"
    }
   ],
   "source": [
    "df.head()"
   ]
  },
  {
   "cell_type": "markdown",
   "id": "f833f1ef",
   "metadata": {},
   "source": [
    "### Категоризация дохода"
   ]
  },
  {
   "cell_type": "markdown",
   "id": "7584f7ee",
   "metadata": {},
   "source": [
    "Создадим новый столбец **total_income_category**, в котором будут 5 категорий в зависимости от ежемесячного дохода кредитополучателя."
   ]
  },
  {
   "cell_type": "code",
   "execution_count": 32,
   "id": "f9545f1b",
   "metadata": {},
   "outputs": [
    {
     "data": {
      "text/html": [
       "<div>\n",
       "<style scoped>\n",
       "    .dataframe tbody tr th:only-of-type {\n",
       "        vertical-align: middle;\n",
       "    }\n",
       "\n",
       "    .dataframe tbody tr th {\n",
       "        vertical-align: top;\n",
       "    }\n",
       "\n",
       "    .dataframe thead th {\n",
       "        text-align: right;\n",
       "    }\n",
       "</style>\n",
       "<table border=\"1\" class=\"dataframe\">\n",
       "  <thead>\n",
       "    <tr style=\"text-align: right;\">\n",
       "      <th></th>\n",
       "      <th>children</th>\n",
       "      <th>days_employed</th>\n",
       "      <th>dob_years</th>\n",
       "      <th>education_id</th>\n",
       "      <th>family_status_id</th>\n",
       "      <th>gender</th>\n",
       "      <th>income_type</th>\n",
       "      <th>debt</th>\n",
       "      <th>total_income</th>\n",
       "      <th>purpose</th>\n",
       "      <th>total_income_category</th>\n",
       "    </tr>\n",
       "  </thead>\n",
       "  <tbody>\n",
       "    <tr>\n",
       "      <th>0</th>\n",
       "      <td>1</td>\n",
       "      <td>8437.673028</td>\n",
       "      <td>42</td>\n",
       "      <td>0</td>\n",
       "      <td>0</td>\n",
       "      <td>F</td>\n",
       "      <td>сотрудник</td>\n",
       "      <td>0</td>\n",
       "      <td>253875</td>\n",
       "      <td>покупка жилья</td>\n",
       "      <td>B</td>\n",
       "    </tr>\n",
       "    <tr>\n",
       "      <th>1</th>\n",
       "      <td>1</td>\n",
       "      <td>4024.803754</td>\n",
       "      <td>36</td>\n",
       "      <td>1</td>\n",
       "      <td>0</td>\n",
       "      <td>F</td>\n",
       "      <td>сотрудник</td>\n",
       "      <td>0</td>\n",
       "      <td>112080</td>\n",
       "      <td>приобретение автомобиля</td>\n",
       "      <td>C</td>\n",
       "    </tr>\n",
       "    <tr>\n",
       "      <th>2</th>\n",
       "      <td>0</td>\n",
       "      <td>5623.422610</td>\n",
       "      <td>33</td>\n",
       "      <td>1</td>\n",
       "      <td>0</td>\n",
       "      <td>M</td>\n",
       "      <td>сотрудник</td>\n",
       "      <td>0</td>\n",
       "      <td>145885</td>\n",
       "      <td>покупка жилья</td>\n",
       "      <td>C</td>\n",
       "    </tr>\n",
       "    <tr>\n",
       "      <th>3</th>\n",
       "      <td>3</td>\n",
       "      <td>4124.747207</td>\n",
       "      <td>32</td>\n",
       "      <td>1</td>\n",
       "      <td>0</td>\n",
       "      <td>M</td>\n",
       "      <td>сотрудник</td>\n",
       "      <td>0</td>\n",
       "      <td>267628</td>\n",
       "      <td>дополнительное образование</td>\n",
       "      <td>B</td>\n",
       "    </tr>\n",
       "    <tr>\n",
       "      <th>4</th>\n",
       "      <td>0</td>\n",
       "      <td>340266.072047</td>\n",
       "      <td>53</td>\n",
       "      <td>1</td>\n",
       "      <td>1</td>\n",
       "      <td>F</td>\n",
       "      <td>пенсионер</td>\n",
       "      <td>0</td>\n",
       "      <td>158616</td>\n",
       "      <td>сыграть свадьбу</td>\n",
       "      <td>C</td>\n",
       "    </tr>\n",
       "  </tbody>\n",
       "</table>\n",
       "</div>"
      ],
      "text/plain": [
       "   children  days_employed  dob_years  education_id  family_status_id gender  \\\n",
       "0         1    8437.673028         42             0                 0      F   \n",
       "1         1    4024.803754         36             1                 0      F   \n",
       "2         0    5623.422610         33             1                 0      M   \n",
       "3         3    4124.747207         32             1                 0      M   \n",
       "4         0  340266.072047         53             1                 1      F   \n",
       "\n",
       "  income_type  debt  total_income                     purpose  \\\n",
       "0   сотрудник     0        253875               покупка жилья   \n",
       "1   сотрудник     0        112080     приобретение автомобиля   \n",
       "2   сотрудник     0        145885               покупка жилья   \n",
       "3   сотрудник     0        267628  дополнительное образование   \n",
       "4   пенсионер     0        158616             сыграть свадьбу   \n",
       "\n",
       "  total_income_category  \n",
       "0                     B  \n",
       "1                     C  \n",
       "2                     C  \n",
       "3                     B  \n",
       "4                     C  "
      ]
     },
     "execution_count": 32,
     "metadata": {},
     "output_type": "execute_result"
    }
   ],
   "source": [
    "def total_income_group(total_income):\n",
    "    if total_income <= 30000:\n",
    "        return 'E'\n",
    "    if 30000 < total_income <= 50000:\n",
    "        return 'D'\n",
    "    if 50000 < total_income <= 200000:\n",
    "        return 'C'\n",
    "    if 200000 < total_income <= 1000000:\n",
    "        return 'B'\n",
    "    return 'A'\n",
    "df['total_income_category'] = df['total_income'].apply(total_income_group)\n",
    "df.head()\n"
   ]
  },
  {
   "cell_type": "code",
   "execution_count": 33,
   "id": "822da6d3",
   "metadata": {},
   "outputs": [
    {
     "data": {
      "text/plain": [
       "array(['B', 'C', 'D', 'E', 'A'], dtype=object)"
      ]
     },
     "execution_count": 33,
     "metadata": {},
     "output_type": "execute_result"
    }
   ],
   "source": [
    "df['total_income_category'].unique()"
   ]
  },
  {
   "cell_type": "markdown",
   "id": "d8e7eab3",
   "metadata": {},
   "source": [
    "### Категоризация целей кредита"
   ]
  },
  {
   "cell_type": "markdown",
   "id": "fc74d75d",
   "metadata": {},
   "source": [
    "Создадим новый столбец **purpose_category**, в котором будут 4 категории в зависимости от целей получения кредита. Для этого выведем на экран уникальные записи целей получения кредита и напишем функцию, которая сформирует новый столбец с использованием метода apply()."
   ]
  },
  {
   "cell_type": "code",
   "execution_count": 34,
   "id": "b0cc38f1",
   "metadata": {},
   "outputs": [
    {
     "data": {
      "text/plain": [
       "array(['автомобили', 'автомобиль', 'высшее образование',\n",
       "       'дополнительное образование', 'жилье',\n",
       "       'заняться высшим образованием', 'заняться образованием',\n",
       "       'на покупку автомобиля', 'на покупку подержанного автомобиля',\n",
       "       'на покупку своего автомобиля', 'на проведение свадьбы',\n",
       "       'недвижимость', 'образование', 'операции с жильем',\n",
       "       'операции с коммерческой недвижимостью',\n",
       "       'операции с недвижимостью', 'операции со своей недвижимостью',\n",
       "       'покупка жилой недвижимости', 'покупка жилья',\n",
       "       'покупка жилья для сдачи', 'покупка жилья для семьи',\n",
       "       'покупка коммерческой недвижимости', 'покупка недвижимости',\n",
       "       'покупка своего жилья', 'получение высшего образования',\n",
       "       'получение дополнительного образования', 'получение образования',\n",
       "       'приобретение автомобиля', 'профильное образование',\n",
       "       'ремонт жилью', 'свадьба', 'свой автомобиль',\n",
       "       'сделка с автомобилем', 'сделка с подержанным автомобилем',\n",
       "       'строительство жилой недвижимости', 'строительство недвижимости',\n",
       "       'строительство собственной недвижимости', 'сыграть свадьбу'],\n",
       "      dtype=object)"
      ]
     },
     "execution_count": 34,
     "metadata": {},
     "output_type": "execute_result"
    }
   ],
   "source": [
    "df['purpose'].sort_values().unique()"
   ]
  },
  {
   "cell_type": "code",
   "execution_count": 35,
   "id": "87141961",
   "metadata": {},
   "outputs": [
    {
     "data": {
      "text/html": [
       "<div>\n",
       "<style scoped>\n",
       "    .dataframe tbody tr th:only-of-type {\n",
       "        vertical-align: middle;\n",
       "    }\n",
       "\n",
       "    .dataframe tbody tr th {\n",
       "        vertical-align: top;\n",
       "    }\n",
       "\n",
       "    .dataframe thead th {\n",
       "        text-align: right;\n",
       "    }\n",
       "</style>\n",
       "<table border=\"1\" class=\"dataframe\">\n",
       "  <thead>\n",
       "    <tr style=\"text-align: right;\">\n",
       "      <th></th>\n",
       "      <th>children</th>\n",
       "      <th>days_employed</th>\n",
       "      <th>dob_years</th>\n",
       "      <th>education_id</th>\n",
       "      <th>family_status_id</th>\n",
       "      <th>gender</th>\n",
       "      <th>income_type</th>\n",
       "      <th>debt</th>\n",
       "      <th>total_income</th>\n",
       "      <th>purpose</th>\n",
       "      <th>total_income_category</th>\n",
       "      <th>purpose_category</th>\n",
       "    </tr>\n",
       "  </thead>\n",
       "  <tbody>\n",
       "    <tr>\n",
       "      <th>0</th>\n",
       "      <td>1</td>\n",
       "      <td>8437.673028</td>\n",
       "      <td>42</td>\n",
       "      <td>0</td>\n",
       "      <td>0</td>\n",
       "      <td>F</td>\n",
       "      <td>сотрудник</td>\n",
       "      <td>0</td>\n",
       "      <td>253875</td>\n",
       "      <td>покупка жилья</td>\n",
       "      <td>B</td>\n",
       "      <td>операции с недвижимостью</td>\n",
       "    </tr>\n",
       "    <tr>\n",
       "      <th>1</th>\n",
       "      <td>1</td>\n",
       "      <td>4024.803754</td>\n",
       "      <td>36</td>\n",
       "      <td>1</td>\n",
       "      <td>0</td>\n",
       "      <td>F</td>\n",
       "      <td>сотрудник</td>\n",
       "      <td>0</td>\n",
       "      <td>112080</td>\n",
       "      <td>приобретение автомобиля</td>\n",
       "      <td>C</td>\n",
       "      <td>операции с автомобилем</td>\n",
       "    </tr>\n",
       "    <tr>\n",
       "      <th>2</th>\n",
       "      <td>0</td>\n",
       "      <td>5623.422610</td>\n",
       "      <td>33</td>\n",
       "      <td>1</td>\n",
       "      <td>0</td>\n",
       "      <td>M</td>\n",
       "      <td>сотрудник</td>\n",
       "      <td>0</td>\n",
       "      <td>145885</td>\n",
       "      <td>покупка жилья</td>\n",
       "      <td>C</td>\n",
       "      <td>операции с недвижимостью</td>\n",
       "    </tr>\n",
       "    <tr>\n",
       "      <th>3</th>\n",
       "      <td>3</td>\n",
       "      <td>4124.747207</td>\n",
       "      <td>32</td>\n",
       "      <td>1</td>\n",
       "      <td>0</td>\n",
       "      <td>M</td>\n",
       "      <td>сотрудник</td>\n",
       "      <td>0</td>\n",
       "      <td>267628</td>\n",
       "      <td>дополнительное образование</td>\n",
       "      <td>B</td>\n",
       "      <td>получение образования</td>\n",
       "    </tr>\n",
       "    <tr>\n",
       "      <th>4</th>\n",
       "      <td>0</td>\n",
       "      <td>340266.072047</td>\n",
       "      <td>53</td>\n",
       "      <td>1</td>\n",
       "      <td>1</td>\n",
       "      <td>F</td>\n",
       "      <td>пенсионер</td>\n",
       "      <td>0</td>\n",
       "      <td>158616</td>\n",
       "      <td>сыграть свадьбу</td>\n",
       "      <td>C</td>\n",
       "      <td>проведение свадьбы</td>\n",
       "    </tr>\n",
       "  </tbody>\n",
       "</table>\n",
       "</div>"
      ],
      "text/plain": [
       "   children  days_employed  dob_years  education_id  family_status_id gender  \\\n",
       "0         1    8437.673028         42             0                 0      F   \n",
       "1         1    4024.803754         36             1                 0      F   \n",
       "2         0    5623.422610         33             1                 0      M   \n",
       "3         3    4124.747207         32             1                 0      M   \n",
       "4         0  340266.072047         53             1                 1      F   \n",
       "\n",
       "  income_type  debt  total_income                     purpose  \\\n",
       "0   сотрудник     0        253875               покупка жилья   \n",
       "1   сотрудник     0        112080     приобретение автомобиля   \n",
       "2   сотрудник     0        145885               покупка жилья   \n",
       "3   сотрудник     0        267628  дополнительное образование   \n",
       "4   пенсионер     0        158616             сыграть свадьбу   \n",
       "\n",
       "  total_income_category          purpose_category  \n",
       "0                     B  операции с недвижимостью  \n",
       "1                     C    операции с автомобилем  \n",
       "2                     C  операции с недвижимостью  \n",
       "3                     B     получение образования  \n",
       "4                     C        проведение свадьбы  "
      ]
     },
     "execution_count": 35,
     "metadata": {},
     "output_type": "execute_result"
    }
   ],
   "source": [
    "def purpose_group(purpose):\n",
    "    if 'авто' in purpose:\n",
    "        return 'операции с автомобилем'\n",
    "    if 'недвиж' in purpose:\n",
    "        return 'операции с недвижимостью'\n",
    "    if 'жиль' in purpose:\n",
    "        return 'операции с недвижимостью'\n",
    "    if 'свадьб' in purpose:\n",
    "        return 'проведение свадьбы'\n",
    "    if 'образов' in purpose:\n",
    "        return 'получение образования'\n",
    "    else:\n",
    "        print(df[purpose])\n",
    "\n",
    "df['purpose_category'] = df['purpose'].apply(purpose_group)\n",
    "df.head(5)"
   ]
  },
  {
   "cell_type": "code",
   "execution_count": 36,
   "id": "0dbc439c",
   "metadata": {},
   "outputs": [
    {
     "data": {
      "text/plain": [
       "array(['операции с автомобилем', 'операции с недвижимостью',\n",
       "       'получение образования', 'проведение свадьбы'], dtype=object)"
      ]
     },
     "execution_count": 36,
     "metadata": {},
     "output_type": "execute_result"
    }
   ],
   "source": [
    "df['purpose_category'].sort_values().unique()\n"
   ]
  },
  {
   "cell_type": "markdown",
   "id": "69a0f1d4",
   "metadata": {},
   "source": [
    "## Ответы на вопросы"
   ]
  },
  {
   "cell_type": "markdown",
   "id": "1d9ee776",
   "metadata": {},
   "source": [
    "### Есть ли зависимость между количеством детей и возвратом кредита в срок?"
   ]
  },
  {
   "cell_type": "markdown",
   "id": "6e1b6e01",
   "metadata": {},
   "source": [
    "   Определим процент возврата кредита в срок в разрезе количества детей заемщика. Для этого сформируем сводную таблицу методом pivot_table().   "
   ]
  },
  {
   "cell_type": "code",
   "execution_count": 37,
   "id": "d380dc4d",
   "metadata": {
    "scrolled": true
   },
   "outputs": [
    {
     "data": {
      "text/html": [
       "<div>\n",
       "<style scoped>\n",
       "    .dataframe tbody tr th:only-of-type {\n",
       "        vertical-align: middle;\n",
       "    }\n",
       "\n",
       "    .dataframe tbody tr th {\n",
       "        vertical-align: top;\n",
       "    }\n",
       "\n",
       "    .dataframe thead th {\n",
       "        text-align: right;\n",
       "    }\n",
       "</style>\n",
       "<table border=\"1\" class=\"dataframe\">\n",
       "  <thead>\n",
       "    <tr style=\"text-align: right;\">\n",
       "      <th>debt</th>\n",
       "      <th>0</th>\n",
       "      <th>1</th>\n",
       "      <th>loan_repayment_on_time</th>\n",
       "    </tr>\n",
       "    <tr>\n",
       "      <th>children</th>\n",
       "      <th></th>\n",
       "      <th></th>\n",
       "      <th></th>\n",
       "    </tr>\n",
       "  </thead>\n",
       "  <tbody>\n",
       "    <tr>\n",
       "      <th>0</th>\n",
       "      <td>13028.0</td>\n",
       "      <td>1063.0</td>\n",
       "      <td>92.456178</td>\n",
       "    </tr>\n",
       "    <tr>\n",
       "      <th>3</th>\n",
       "      <td>303.0</td>\n",
       "      <td>27.0</td>\n",
       "      <td>91.818182</td>\n",
       "    </tr>\n",
       "    <tr>\n",
       "      <th>1</th>\n",
       "      <td>4410.0</td>\n",
       "      <td>445.0</td>\n",
       "      <td>90.834192</td>\n",
       "    </tr>\n",
       "    <tr>\n",
       "      <th>2</th>\n",
       "      <td>1926.0</td>\n",
       "      <td>202.0</td>\n",
       "      <td>90.507519</td>\n",
       "    </tr>\n",
       "    <tr>\n",
       "      <th>4</th>\n",
       "      <td>37.0</td>\n",
       "      <td>4.0</td>\n",
       "      <td>90.243902</td>\n",
       "    </tr>\n",
       "    <tr>\n",
       "      <th>5</th>\n",
       "      <td>9.0</td>\n",
       "      <td>NaN</td>\n",
       "      <td>NaN</td>\n",
       "    </tr>\n",
       "  </tbody>\n",
       "</table>\n",
       "</div>"
      ],
      "text/plain": [
       "debt            0       1  loan_repayment_on_time\n",
       "children                                         \n",
       "0         13028.0  1063.0               92.456178\n",
       "3           303.0    27.0               91.818182\n",
       "1          4410.0   445.0               90.834192\n",
       "2          1926.0   202.0               90.507519\n",
       "4            37.0     4.0               90.243902\n",
       "5             9.0     NaN                     NaN"
      ]
     },
     "execution_count": 37,
     "metadata": {},
     "output_type": "execute_result"
    }
   ],
   "source": [
    "df_pivot_child = df.pivot_table(index='children', columns='debt', values='total_income', aggfunc='count')\n",
    "df_pivot_child['loan_repayment_on_time'] = df_pivot_child[0] * 100 /(df_pivot_child[0] + df_pivot_child[1])\n",
    "df_pivot_child.sort_values(by='loan_repayment_on_time', ascending=False)"
   ]
  },
  {
   "cell_type": "markdown",
   "id": "d4b3fe86",
   "metadata": {},
   "source": [
    "**Вывод**:"
   ]
  },
  {
   "cell_type": "markdown",
   "id": "0405e754",
   "metadata": {},
   "source": [
    "   Наблюдается зависимость между количеством детей и возвратом кредита в срок. \n",
    "   \n",
    "   Наиболее ярко зависимость  выражена от 0 до 2 детей, где процент возврата кредита в срок постепенно уменьшается в зависимости от увеличения количества детей. Данная выборка характеризуется большим объемом заемщиков, что обеспечивает ее достоверность.\n",
    "   \n",
    "   Если рассматривать процент возврата кредита в срок с увеличением детей с трех до пяти, то тенденция носит волнообразный характер. Увеличение процента возврата кредита в срок для трех детей по сравнению с двумя и отсутствием просроченных кредитов у заемщиков с пятью детьми, в совокупности маленьким объемом выборки (клиенты, имеющие трех и более детей составляют всего 1,8% от всех заемщиков), говорит о возможном искажении результатов.\n",
    "   \n",
    "   Таким образом, чем больше клиент имеет детей, тем меньше вероятность возврата кредита в срок. "
   ]
  },
  {
   "cell_type": "markdown",
   "id": "4e613610",
   "metadata": {},
   "source": [
    "### Есть ли зависимость между семейным положением и возвратом кредита в срок?"
   ]
  },
  {
   "cell_type": "markdown",
   "id": "d6e9f9f9",
   "metadata": {},
   "source": [
    "   Определим процент возврата кредита в срок в разрезе семейного положения заемщика. Для этого сформируем сводную таблицу методом pivot_table(). "
   ]
  },
  {
   "cell_type": "code",
   "execution_count": 38,
   "id": "a0d4988c",
   "metadata": {
    "scrolled": true
   },
   "outputs": [
    {
     "data": {
      "text/html": [
       "<div>\n",
       "<style scoped>\n",
       "    .dataframe tbody tr th:only-of-type {\n",
       "        vertical-align: middle;\n",
       "    }\n",
       "\n",
       "    .dataframe tbody tr th {\n",
       "        vertical-align: top;\n",
       "    }\n",
       "\n",
       "    .dataframe thead th {\n",
       "        text-align: right;\n",
       "    }\n",
       "</style>\n",
       "<table border=\"1\" class=\"dataframe\">\n",
       "  <thead>\n",
       "    <tr style=\"text-align: right;\">\n",
       "      <th></th>\n",
       "      <th>family_status_id</th>\n",
       "      <th>0</th>\n",
       "      <th>1</th>\n",
       "      <th>loan_repayment_on_time</th>\n",
       "      <th>family_status</th>\n",
       "    </tr>\n",
       "  </thead>\n",
       "  <tbody>\n",
       "    <tr>\n",
       "      <th>0</th>\n",
       "      <td>0</td>\n",
       "      <td>11408</td>\n",
       "      <td>931</td>\n",
       "      <td>92.454818</td>\n",
       "      <td>женат / замужем</td>\n",
       "    </tr>\n",
       "    <tr>\n",
       "      <th>1</th>\n",
       "      <td>1</td>\n",
       "      <td>3763</td>\n",
       "      <td>388</td>\n",
       "      <td>90.652855</td>\n",
       "      <td>гражданский брак</td>\n",
       "    </tr>\n",
       "    <tr>\n",
       "      <th>2</th>\n",
       "      <td>2</td>\n",
       "      <td>896</td>\n",
       "      <td>63</td>\n",
       "      <td>93.430657</td>\n",
       "      <td>вдовец / вдова</td>\n",
       "    </tr>\n",
       "    <tr>\n",
       "      <th>3</th>\n",
       "      <td>3</td>\n",
       "      <td>1110</td>\n",
       "      <td>85</td>\n",
       "      <td>92.887029</td>\n",
       "      <td>в разводе</td>\n",
       "    </tr>\n",
       "    <tr>\n",
       "      <th>4</th>\n",
       "      <td>4</td>\n",
       "      <td>2536</td>\n",
       "      <td>274</td>\n",
       "      <td>90.249110</td>\n",
       "      <td>Не женат / не замужем</td>\n",
       "    </tr>\n",
       "  </tbody>\n",
       "</table>\n",
       "</div>"
      ],
      "text/plain": [
       "   family_status_id      0    1  loan_repayment_on_time          family_status\n",
       "0                 0  11408  931               92.454818        женат / замужем\n",
       "1                 1   3763  388               90.652855       гражданский брак\n",
       "2                 2    896   63               93.430657         вдовец / вдова\n",
       "3                 3   1110   85               92.887029              в разводе\n",
       "4                 4   2536  274               90.249110  Не женат / не замужем"
      ]
     },
     "execution_count": 38,
     "metadata": {},
     "output_type": "execute_result"
    }
   ],
   "source": [
    "df_pivot_family = df.pivot_table(index=['family_status_id'], columns='debt', values='total_income', aggfunc='count')\n",
    "df_pivot_family['loan_repayment_on_time'] = df_pivot_family[0] * 100 /(df_pivot_family[0] + df_pivot_family[1])\n",
    "df_pivot_family.sort_values(by='loan_repayment_on_time', ascending=False)\n",
    "df_pivot_family.merge(df_family, on='family_status_id', how='left')"
   ]
  },
  {
   "cell_type": "markdown",
   "id": "f625fd23",
   "metadata": {},
   "source": [
    "**Вывод**:"
   ]
  },
  {
   "cell_type": "markdown",
   "id": "7f26ff7a",
   "metadata": {},
   "source": [
    "Наблюдается зависимость между семейным положением и возвратом кредита в срок.\n",
    "\n",
    "Наибольший процент возврата кредита в срок у свободных заемщиков ранее состоявших в браке (на первом месте \"вдовец / вдова\", на втором  \"в разводе\") и состоящих в официальном браке на момент получения кредита (\"женат / замужем\").\n",
    "\n",
    "Хуже всего возвращают свободные заемщики (\"Не женат / не замужем\")."
   ]
  },
  {
   "cell_type": "markdown",
   "id": "58f459b5",
   "metadata": {},
   "source": [
    "### Есть ли зависимость между уровнем дохода и возвратом кредита в срок?"
   ]
  },
  {
   "cell_type": "markdown",
   "id": "8c8e25e7",
   "metadata": {},
   "source": [
    "Для определения зависимости уровня дохода и возрата кредита в срок в предыдущем этапе столбец **total_income** был разбит на 5 категорий в зависимости от ежемесячного дохода и записан в новый столбец **total_income_category**:\n",
    "\n",
    "*\t`Е` — 0-30000;\n",
    "*\t`D` — 30001-50000;\n",
    "*\t`C` — 50001-200000;\n",
    "*\t`B` — 200001-1000000;\n",
    "*\t`F` — 1000001 и выше.\n",
    "\n",
    "Определим процент возврата кредита в срок в разрезе категорий. Для этого сформируем сводную таблицу методом pivot_table(). "
   ]
  },
  {
   "cell_type": "code",
   "execution_count": 39,
   "id": "55d52bb9",
   "metadata": {},
   "outputs": [
    {
     "data": {
      "text/html": [
       "<div>\n",
       "<style scoped>\n",
       "    .dataframe tbody tr th:only-of-type {\n",
       "        vertical-align: middle;\n",
       "    }\n",
       "\n",
       "    .dataframe tbody tr th {\n",
       "        vertical-align: top;\n",
       "    }\n",
       "\n",
       "    .dataframe thead th {\n",
       "        text-align: right;\n",
       "    }\n",
       "</style>\n",
       "<table border=\"1\" class=\"dataframe\">\n",
       "  <thead>\n",
       "    <tr style=\"text-align: right;\">\n",
       "      <th>debt</th>\n",
       "      <th>0</th>\n",
       "      <th>1</th>\n",
       "      <th>loan_repayment_on_time</th>\n",
       "    </tr>\n",
       "    <tr>\n",
       "      <th>total_income_category</th>\n",
       "      <th></th>\n",
       "      <th></th>\n",
       "      <th></th>\n",
       "    </tr>\n",
       "  </thead>\n",
       "  <tbody>\n",
       "    <tr>\n",
       "      <th>D</th>\n",
       "      <td>329</td>\n",
       "      <td>21</td>\n",
       "      <td>94.000000</td>\n",
       "    </tr>\n",
       "    <tr>\n",
       "      <th>B</th>\n",
       "      <td>4686</td>\n",
       "      <td>356</td>\n",
       "      <td>92.939310</td>\n",
       "    </tr>\n",
       "    <tr>\n",
       "      <th>A</th>\n",
       "      <td>23</td>\n",
       "      <td>2</td>\n",
       "      <td>92.000000</td>\n",
       "    </tr>\n",
       "    <tr>\n",
       "      <th>C</th>\n",
       "      <td>14655</td>\n",
       "      <td>1360</td>\n",
       "      <td>91.507961</td>\n",
       "    </tr>\n",
       "    <tr>\n",
       "      <th>E</th>\n",
       "      <td>20</td>\n",
       "      <td>2</td>\n",
       "      <td>90.909091</td>\n",
       "    </tr>\n",
       "  </tbody>\n",
       "</table>\n",
       "</div>"
      ],
      "text/plain": [
       "debt                       0     1  loan_repayment_on_time\n",
       "total_income_category                                     \n",
       "D                        329    21               94.000000\n",
       "B                       4686   356               92.939310\n",
       "A                         23     2               92.000000\n",
       "C                      14655  1360               91.507961\n",
       "E                         20     2               90.909091"
      ]
     },
     "execution_count": 39,
     "metadata": {},
     "output_type": "execute_result"
    }
   ],
   "source": [
    "df_pivot_income = df.pivot_table(index='total_income_category', columns='debt', values='total_income', aggfunc='count')\n",
    "df_pivot_income['loan_repayment_on_time'] = df_pivot_income[0] * 100 /(df_pivot_income[0] + df_pivot_income[1])\n",
    "df_pivot_income.sort_values(by='loan_repayment_on_time', ascending=False)"
   ]
  },
  {
   "cell_type": "markdown",
   "id": "0bf12201",
   "metadata": {},
   "source": [
    "**Вывод**: "
   ]
  },
  {
   "cell_type": "markdown",
   "id": "8d8e9ca7",
   "metadata": {},
   "source": [
    "Если рассматривать отдельно уровень дохода по категориям и процент возврата кредита в срок, то наблюдается зависимость между ними. Наибольший процент возврата кредита в срок при ежемесячном доходе от 30 до 50 тыс. в месяц, наименьший при доходе до 30 тыс.\n",
    "\n",
    "Но если учесть, что объем выборки по каждой категории сильно отличается друг от друга (по категориям А и Е она совсем маленькая), то говорить о достоверности тенденций нельзя.\n",
    "\n",
    "Таким образом, в связи с непрезентативной выборкой однозначно сделать вывод о зависимости вышеперечисленных параметров нельзя."
   ]
  },
  {
   "cell_type": "markdown",
   "id": "91f54cdb",
   "metadata": {},
   "source": [
    "### Как разные цели кредита влияют на его возврат в срок?"
   ]
  },
  {
   "cell_type": "markdown",
   "id": "ed0dab54",
   "metadata": {},
   "source": [
    "Для определения зависимости цели кредита и возрата кредита в срок в предыдущем этапе столбец **purpose** былсгруппирован по четырем категориям в зависимости от целей и записан в новый столбец **purpose_category**:\n",
    "\n",
    "*\t`операции с автомобилем`;\n",
    "*\t`операции с недвижимостью`;\n",
    "*\t`получение образования`;\n",
    "*\t`проведение свадьбы`.\n",
    "\n",
    "Определим процент возврата кредита в срок в в зависимости от целей. Для этого сформируем сводную таблицу методом pivot_table(). "
   ]
  },
  {
   "cell_type": "code",
   "execution_count": 40,
   "id": "75a1038c",
   "metadata": {},
   "outputs": [
    {
     "data": {
      "text/html": [
       "<div>\n",
       "<style scoped>\n",
       "    .dataframe tbody tr th:only-of-type {\n",
       "        vertical-align: middle;\n",
       "    }\n",
       "\n",
       "    .dataframe tbody tr th {\n",
       "        vertical-align: top;\n",
       "    }\n",
       "\n",
       "    .dataframe thead th {\n",
       "        text-align: right;\n",
       "    }\n",
       "</style>\n",
       "<table border=\"1\" class=\"dataframe\">\n",
       "  <thead>\n",
       "    <tr style=\"text-align: right;\">\n",
       "      <th>debt</th>\n",
       "      <th>0</th>\n",
       "      <th>1</th>\n",
       "      <th>loan_repayment_on_time</th>\n",
       "    </tr>\n",
       "    <tr>\n",
       "      <th>purpose_category</th>\n",
       "      <th></th>\n",
       "      <th></th>\n",
       "      <th></th>\n",
       "    </tr>\n",
       "  </thead>\n",
       "  <tbody>\n",
       "    <tr>\n",
       "      <th>операции с недвижимостью</th>\n",
       "      <td>10029</td>\n",
       "      <td>782</td>\n",
       "      <td>92.766627</td>\n",
       "    </tr>\n",
       "    <tr>\n",
       "      <th>проведение свадьбы</th>\n",
       "      <td>2138</td>\n",
       "      <td>186</td>\n",
       "      <td>91.996558</td>\n",
       "    </tr>\n",
       "    <tr>\n",
       "      <th>получение образования</th>\n",
       "      <td>3643</td>\n",
       "      <td>370</td>\n",
       "      <td>90.779965</td>\n",
       "    </tr>\n",
       "    <tr>\n",
       "      <th>операции с автомобилем</th>\n",
       "      <td>3903</td>\n",
       "      <td>403</td>\n",
       "      <td>90.640966</td>\n",
       "    </tr>\n",
       "  </tbody>\n",
       "</table>\n",
       "</div>"
      ],
      "text/plain": [
       "debt                          0    1  loan_repayment_on_time\n",
       "purpose_category                                            \n",
       "операции с недвижимостью  10029  782               92.766627\n",
       "проведение свадьбы         2138  186               91.996558\n",
       "получение образования      3643  370               90.779965\n",
       "операции с автомобилем     3903  403               90.640966"
      ]
     },
     "execution_count": 40,
     "metadata": {},
     "output_type": "execute_result"
    }
   ],
   "source": [
    "df_pivot_purpose = df.pivot_table(index='purpose_category', columns='debt', values='total_income', aggfunc='count')\n",
    "df_pivot_purpose['loan_repayment_on_time'] = df_pivot_purpose[0] * 100 /(df_pivot_purpose[0] + df_pivot_purpose[1])\n",
    "df_pivot_purpose.sort_values(by='loan_repayment_on_time', ascending=False)"
   ]
  },
  {
   "cell_type": "markdown",
   "id": "7daed117",
   "metadata": {},
   "source": [
    "**Вывод**:"
   ]
  },
  {
   "cell_type": "markdown",
   "id": "0ae0b9fd",
   "metadata": {},
   "source": [
    "Наблюдается зависимость между целями кредита и возвратом кредита в срок.\n",
    "\n",
    "Наибольший процент возврата кредита в срок у клиентов, которые покупают недвижимость и собираются оформить официальный брак, что обусловлено тем, что клиенты с такими целями более твердо стоят на ногах, в отличии от еще получающих образование."
   ]
  },
  {
   "cell_type": "markdown",
   "id": "f7cb651e",
   "metadata": {},
   "source": [
    "## Общий вывод:"
   ]
  },
  {
   "cell_type": "markdown",
   "id": "3e1ee5d1",
   "metadata": {},
   "source": [
    "Была рассмотрена зависимость факта возврата кредита в срок от четырех параметров:\n",
    "\n",
    "*\tколичество детей;\n",
    "*\tсемейное положение;\n",
    "*\tуровень дохода;\n",
    "*\tцель кредита.\n",
    "\n",
    "Взаимосвязь установлена по трем параметрам, кроме уровня дохода в связи с непрезентативной выборкой.\n",
    "\n",
    "**Количество детей**: чем больше клиент имеет детей, тем меньше вероятность возврата кредита в срок.\n",
    "\n",
    "**Семейное положение**: наибольший процент возврата кредита в срок у свободных заемщиков ранее состоявших в браке (на первом месте \"вдовец / вдова\", на втором \"в разводе\") и состоящих в официальном браке на момент получения кредита (\"женат / замужем\").\n",
    "\n",
    "**Цель кредита**: наибольший процент возврата кредита в срок у клиентов, которые покупают недвижимость и собираются оформить официальный брак, что обусловлено тем, что клиенты с такими целями более твердо стоят на ногах, в отличии от еще получающих образование.\n"
   ]
  }
 ],
 "metadata": {
  "ExecuteTimeLog": [
   {
    "duration": 200,
    "start_time": "2022-03-15T19:07:41.643Z"
   },
   {
    "duration": 508,
    "start_time": "2022-03-15T19:08:34.388Z"
   },
   {
    "duration": 48,
    "start_time": "2022-03-15T19:08:36.563Z"
   },
   {
    "duration": 19,
    "start_time": "2022-03-15T19:08:48.001Z"
   },
   {
    "duration": 11,
    "start_time": "2022-03-15T19:09:52.991Z"
   },
   {
    "duration": 55,
    "start_time": "2022-03-15T19:46:46.508Z"
   },
   {
    "duration": 484,
    "start_time": "2022-03-18T08:25:26.912Z"
   },
   {
    "duration": 81,
    "start_time": "2022-03-18T08:25:29.559Z"
   },
   {
    "duration": 31,
    "start_time": "2022-03-18T08:25:33.118Z"
   },
   {
    "duration": 26,
    "start_time": "2022-03-18T08:27:36.546Z"
   },
   {
    "duration": 45,
    "start_time": "2022-03-18T09:31:12.817Z"
   },
   {
    "duration": 129,
    "start_time": "2022-03-18T09:41:02.208Z"
   },
   {
    "duration": 10,
    "start_time": "2022-03-18T09:41:12.929Z"
   },
   {
    "duration": 11,
    "start_time": "2022-03-18T09:45:15.666Z"
   },
   {
    "duration": 12,
    "start_time": "2022-03-18T09:45:36.352Z"
   },
   {
    "duration": 11,
    "start_time": "2022-03-18T09:48:43.346Z"
   },
   {
    "duration": 11,
    "start_time": "2022-03-18T09:51:36.223Z"
   },
   {
    "duration": 11,
    "start_time": "2022-03-18T09:55:08.300Z"
   },
   {
    "duration": 10,
    "start_time": "2022-03-18T09:59:13.888Z"
   },
   {
    "duration": 10,
    "start_time": "2022-03-18T10:01:33.044Z"
   },
   {
    "duration": 9,
    "start_time": "2022-03-18T10:01:40.810Z"
   },
   {
    "duration": 9,
    "start_time": "2022-03-18T10:02:59.280Z"
   },
   {
    "duration": 10,
    "start_time": "2022-03-18T10:03:25.891Z"
   },
   {
    "duration": 11,
    "start_time": "2022-03-18T11:38:11.664Z"
   },
   {
    "duration": 28,
    "start_time": "2022-03-18T11:40:01.448Z"
   },
   {
    "duration": 8,
    "start_time": "2022-03-18T11:40:39.446Z"
   },
   {
    "duration": 15,
    "start_time": "2022-03-18T11:53:25.531Z"
   },
   {
    "duration": 24,
    "start_time": "2022-03-18T11:55:57.203Z"
   },
   {
    "duration": 1389,
    "start_time": "2022-03-18T11:57:35.114Z"
   },
   {
    "duration": 10,
    "start_time": "2022-03-18T12:02:49.819Z"
   },
   {
    "duration": 13,
    "start_time": "2022-03-18T12:04:54.372Z"
   },
   {
    "duration": 13,
    "start_time": "2022-03-18T12:06:34.111Z"
   },
   {
    "duration": 177,
    "start_time": "2022-03-18T12:06:50.612Z"
   },
   {
    "duration": 12,
    "start_time": "2022-03-18T12:07:10.826Z"
   },
   {
    "duration": 12,
    "start_time": "2022-03-18T12:07:18.457Z"
   },
   {
    "duration": 36,
    "start_time": "2022-03-18T12:09:46.208Z"
   },
   {
    "duration": 39,
    "start_time": "2022-03-18T12:15:58.072Z"
   },
   {
    "duration": 14,
    "start_time": "2022-03-18T12:16:15.311Z"
   },
   {
    "duration": 21,
    "start_time": "2022-03-18T12:16:56.960Z"
   },
   {
    "duration": 16,
    "start_time": "2022-03-18T12:17:57.676Z"
   },
   {
    "duration": 128,
    "start_time": "2022-03-18T12:18:19.260Z"
   },
   {
    "duration": 150,
    "start_time": "2022-03-18T12:20:23.760Z"
   },
   {
    "duration": 161,
    "start_time": "2022-03-18T12:20:38.351Z"
   },
   {
    "duration": 157,
    "start_time": "2022-03-18T12:20:47.501Z"
   },
   {
    "duration": 12,
    "start_time": "2022-03-18T12:21:04.793Z"
   },
   {
    "duration": 45,
    "start_time": "2022-03-18T12:22:52.315Z"
   },
   {
    "duration": 5,
    "start_time": "2022-03-18T12:31:21.062Z"
   },
   {
    "duration": 4,
    "start_time": "2022-03-18T12:31:38.874Z"
   },
   {
    "duration": 45,
    "start_time": "2022-03-18T12:31:58.665Z"
   },
   {
    "duration": 12,
    "start_time": "2022-03-18T12:33:56.226Z"
   },
   {
    "duration": 33,
    "start_time": "2022-03-18T12:34:07.766Z"
   },
   {
    "duration": 43,
    "start_time": "2022-03-18T12:36:50.432Z"
   },
   {
    "duration": 45,
    "start_time": "2022-03-18T12:37:11.991Z"
   },
   {
    "duration": 5,
    "start_time": "2022-03-18T12:38:44.210Z"
   },
   {
    "duration": 33,
    "start_time": "2022-03-18T12:40:01.796Z"
   },
   {
    "duration": 9,
    "start_time": "2022-03-18T12:45:55.064Z"
   },
   {
    "duration": 6,
    "start_time": "2022-03-18T12:47:06.520Z"
   },
   {
    "duration": 25,
    "start_time": "2022-03-18T12:48:16.505Z"
   },
   {
    "duration": 24,
    "start_time": "2022-03-18T13:01:05.764Z"
   },
   {
    "duration": 9,
    "start_time": "2022-03-18T13:16:25.428Z"
   },
   {
    "duration": 44,
    "start_time": "2022-03-18T13:17:47.154Z"
   },
   {
    "duration": 34,
    "start_time": "2022-03-18T13:19:11.033Z"
   },
   {
    "duration": 23,
    "start_time": "2022-03-18T13:20:15.868Z"
   },
   {
    "duration": 22,
    "start_time": "2022-03-18T13:20:48.218Z"
   },
   {
    "duration": 23,
    "start_time": "2022-03-18T13:20:59.550Z"
   },
   {
    "duration": 10,
    "start_time": "2022-03-18T13:22:32.308Z"
   },
   {
    "duration": 11,
    "start_time": "2022-03-18T13:23:17.005Z"
   },
   {
    "duration": 12,
    "start_time": "2022-03-18T13:23:51.573Z"
   },
   {
    "duration": 14,
    "start_time": "2022-03-18T13:46:22.885Z"
   },
   {
    "duration": 2924,
    "start_time": "2022-03-18T13:47:03.993Z"
   },
   {
    "duration": 19,
    "start_time": "2022-03-18T13:47:20.557Z"
   },
   {
    "duration": 12,
    "start_time": "2022-03-18T13:52:53.205Z"
   },
   {
    "duration": 9487,
    "start_time": "2022-03-18T14:00:38.996Z"
   },
   {
    "duration": 5,
    "start_time": "2022-03-18T14:02:29.118Z"
   },
   {
    "duration": 9163,
    "start_time": "2022-03-18T14:02:50.777Z"
   },
   {
    "duration": 237,
    "start_time": "2022-03-18T14:04:37.315Z"
   },
   {
    "duration": 9,
    "start_time": "2022-03-18T14:05:33.967Z"
   },
   {
    "duration": 147,
    "start_time": "2022-03-18T14:07:36.492Z"
   },
   {
    "duration": 7,
    "start_time": "2022-03-18T14:08:11.226Z"
   },
   {
    "duration": 6,
    "start_time": "2022-03-18T14:08:27.684Z"
   },
   {
    "duration": 19,
    "start_time": "2022-03-18T14:09:09.991Z"
   },
   {
    "duration": 177,
    "start_time": "2022-03-18T14:12:03.541Z"
   },
   {
    "duration": 190,
    "start_time": "2022-03-18T14:12:36.334Z"
   },
   {
    "duration": 147,
    "start_time": "2022-03-18T14:19:23.210Z"
   },
   {
    "duration": 10,
    "start_time": "2022-03-18T14:19:46.628Z"
   },
   {
    "duration": 6,
    "start_time": "2022-03-18T14:20:58.753Z"
   },
   {
    "duration": 6,
    "start_time": "2022-03-18T14:22:00.367Z"
   },
   {
    "duration": 3,
    "start_time": "2022-03-18T14:22:21.232Z"
   },
   {
    "duration": 71,
    "start_time": "2022-03-18T14:22:23.010Z"
   },
   {
    "duration": 18,
    "start_time": "2022-03-18T14:22:31.504Z"
   },
   {
    "duration": 19,
    "start_time": "2022-03-18T14:22:42.430Z"
   },
   {
    "duration": 11,
    "start_time": "2022-03-18T14:23:02.898Z"
   },
   {
    "duration": 9268,
    "start_time": "2022-03-18T14:24:04.649Z"
   },
   {
    "duration": 9308,
    "start_time": "2022-03-18T14:25:31.460Z"
   },
   {
    "duration": 12,
    "start_time": "2022-03-18T14:26:11.710Z"
   },
   {
    "duration": 11,
    "start_time": "2022-03-18T14:29:41.703Z"
   },
   {
    "duration": 9,
    "start_time": "2022-03-18T14:29:54.176Z"
   },
   {
    "duration": 12,
    "start_time": "2022-03-18T14:30:06.672Z"
   },
   {
    "duration": 13,
    "start_time": "2022-03-18T14:31:07.076Z"
   },
   {
    "duration": 8,
    "start_time": "2022-03-18T14:51:06.061Z"
   },
   {
    "duration": 9,
    "start_time": "2022-03-18T14:52:23.235Z"
   },
   {
    "duration": 14,
    "start_time": "2022-03-18T15:08:43.636Z"
   },
   {
    "duration": 31,
    "start_time": "2022-03-18T15:16:16.303Z"
   },
   {
    "duration": 19,
    "start_time": "2022-03-18T15:16:42.105Z"
   },
   {
    "duration": 22,
    "start_time": "2022-03-18T15:16:48.065Z"
   },
   {
    "duration": 5,
    "start_time": "2022-03-18T15:24:55.411Z"
   },
   {
    "duration": 12,
    "start_time": "2022-03-18T15:29:40.964Z"
   },
   {
    "duration": 9,
    "start_time": "2022-03-18T16:07:07.736Z"
   },
   {
    "duration": 27,
    "start_time": "2022-03-18T16:07:46.886Z"
   },
   {
    "duration": 34,
    "start_time": "2022-03-18T16:10:53.123Z"
   },
   {
    "duration": 6,
    "start_time": "2022-03-18T16:13:58.806Z"
   },
   {
    "duration": 6,
    "start_time": "2022-03-18T16:14:37.870Z"
   },
   {
    "duration": 49,
    "start_time": "2022-03-18T16:24:11.787Z"
   },
   {
    "duration": 44,
    "start_time": "2022-03-18T16:29:21.030Z"
   },
   {
    "duration": 5,
    "start_time": "2022-03-18T16:39:27.598Z"
   },
   {
    "duration": 19,
    "start_time": "2022-03-18T16:39:56.345Z"
   },
   {
    "duration": 11,
    "start_time": "2022-03-18T16:40:39.177Z"
   },
   {
    "duration": 9,
    "start_time": "2022-03-18T16:41:14.836Z"
   },
   {
    "duration": 7,
    "start_time": "2022-03-18T16:42:54.521Z"
   },
   {
    "duration": 10,
    "start_time": "2022-03-18T19:27:59.629Z"
   },
   {
    "duration": 9,
    "start_time": "2022-03-18T19:28:40.476Z"
   },
   {
    "duration": 9,
    "start_time": "2022-03-18T19:28:57.832Z"
   },
   {
    "duration": 8,
    "start_time": "2022-03-18T19:29:04.714Z"
   },
   {
    "duration": 10,
    "start_time": "2022-03-18T19:29:15.404Z"
   },
   {
    "duration": 44,
    "start_time": "2022-03-18T19:29:26.559Z"
   },
   {
    "duration": 8,
    "start_time": "2022-03-18T19:29:31.199Z"
   },
   {
    "duration": 4,
    "start_time": "2022-03-18T19:29:48.786Z"
   },
   {
    "duration": 79,
    "start_time": "2022-03-18T19:29:48.793Z"
   },
   {
    "duration": 19,
    "start_time": "2022-03-18T19:29:48.874Z"
   },
   {
    "duration": 20,
    "start_time": "2022-03-18T19:29:48.895Z"
   },
   {
    "duration": 11,
    "start_time": "2022-03-18T19:29:48.919Z"
   },
   {
    "duration": 8,
    "start_time": "2022-03-18T19:29:48.933Z"
   },
   {
    "duration": 10,
    "start_time": "2022-03-18T19:29:48.983Z"
   },
   {
    "duration": 11,
    "start_time": "2022-03-18T19:29:48.996Z"
   },
   {
    "duration": 33,
    "start_time": "2022-03-18T19:29:49.066Z"
   },
   {
    "duration": 11,
    "start_time": "2022-03-18T19:29:49.160Z"
   },
   {
    "duration": 39,
    "start_time": "2022-03-18T19:29:49.339Z"
   },
   {
    "duration": 62,
    "start_time": "2022-03-18T19:29:49.488Z"
   },
   {
    "duration": 9,
    "start_time": "2022-03-18T19:29:49.553Z"
   },
   {
    "duration": 4,
    "start_time": "2022-03-18T19:38:42.159Z"
   },
   {
    "duration": 8,
    "start_time": "2022-03-18T19:38:55.873Z"
   },
   {
    "duration": 132,
    "start_time": "2022-03-18T19:46:26.822Z"
   },
   {
    "duration": 13,
    "start_time": "2022-03-18T19:46:35.544Z"
   },
   {
    "duration": 10,
    "start_time": "2022-03-18T19:47:24.538Z"
   },
   {
    "duration": 8,
    "start_time": "2022-03-18T19:48:38.703Z"
   },
   {
    "duration": 11,
    "start_time": "2022-03-18T19:48:53.298Z"
   },
   {
    "duration": 10,
    "start_time": "2022-03-18T19:55:18.498Z"
   },
   {
    "duration": 33,
    "start_time": "2022-03-18T19:56:26.567Z"
   },
   {
    "duration": 10,
    "start_time": "2022-03-18T20:00:01.867Z"
   },
   {
    "duration": 11,
    "start_time": "2022-03-18T20:01:46.762Z"
   },
   {
    "duration": 14,
    "start_time": "2022-03-18T20:03:04.984Z"
   },
   {
    "duration": 12,
    "start_time": "2022-03-18T20:04:50.312Z"
   },
   {
    "duration": 12,
    "start_time": "2022-03-18T20:05:34.826Z"
   },
   {
    "duration": 10,
    "start_time": "2022-03-18T20:07:56.369Z"
   },
   {
    "duration": 189,
    "start_time": "2022-03-18T20:53:44.042Z"
   },
   {
    "duration": 10,
    "start_time": "2022-03-18T20:54:44.504Z"
   },
   {
    "duration": 12,
    "start_time": "2022-03-18T20:56:21.604Z"
   },
   {
    "duration": 39,
    "start_time": "2022-03-18T20:59:57.082Z"
   },
   {
    "duration": 9,
    "start_time": "2022-03-18T21:12:23.569Z"
   },
   {
    "duration": 8,
    "start_time": "2022-03-18T21:12:44.645Z"
   },
   {
    "duration": 13,
    "start_time": "2022-03-18T21:14:13.782Z"
   },
   {
    "duration": 5,
    "start_time": "2022-03-18T21:14:39.604Z"
   },
   {
    "duration": 30,
    "start_time": "2022-03-18T21:14:52.722Z"
   },
   {
    "duration": 12,
    "start_time": "2022-03-18T21:15:21.576Z"
   },
   {
    "duration": 13,
    "start_time": "2022-03-18T21:18:43.160Z"
   },
   {
    "duration": 46,
    "start_time": "2022-03-18T21:19:31.473Z"
   },
   {
    "duration": 26,
    "start_time": "2022-03-18T21:43:46.476Z"
   },
   {
    "duration": 10,
    "start_time": "2022-03-18T21:44:53.554Z"
   },
   {
    "duration": 8,
    "start_time": "2022-03-18T21:45:47.922Z"
   },
   {
    "duration": 18,
    "start_time": "2022-03-18T21:47:57.030Z"
   },
   {
    "duration": 14,
    "start_time": "2022-03-18T22:01:17.091Z"
   },
   {
    "duration": 4,
    "start_time": "2022-03-18T22:01:53.599Z"
   },
   {
    "duration": 32,
    "start_time": "2022-03-18T22:01:58.771Z"
   },
   {
    "duration": 23,
    "start_time": "2022-03-18T22:02:10.265Z"
   },
   {
    "duration": 21,
    "start_time": "2022-03-18T22:02:25.254Z"
   },
   {
    "duration": 30,
    "start_time": "2022-03-18T22:10:05.307Z"
   },
   {
    "duration": 18,
    "start_time": "2022-03-18T22:11:20.801Z"
   },
   {
    "duration": 22,
    "start_time": "2022-03-18T22:12:41.746Z"
   },
   {
    "duration": 32,
    "start_time": "2022-03-18T22:16:22.208Z"
   },
   {
    "duration": 20,
    "start_time": "2022-03-18T22:17:26.427Z"
   },
   {
    "duration": 22,
    "start_time": "2022-03-18T22:18:12.012Z"
   },
   {
    "duration": 26,
    "start_time": "2022-03-18T22:32:09.415Z"
   },
   {
    "duration": 26,
    "start_time": "2022-03-18T22:32:30.931Z"
   },
   {
    "duration": 28,
    "start_time": "2022-03-18T22:34:45.311Z"
   },
   {
    "duration": 8,
    "start_time": "2022-03-18T22:44:55.424Z"
   },
   {
    "duration": 4,
    "start_time": "2022-03-18T22:45:49.849Z"
   },
   {
    "duration": 73,
    "start_time": "2022-03-18T22:45:49.855Z"
   },
   {
    "duration": 19,
    "start_time": "2022-03-18T22:45:49.930Z"
   },
   {
    "duration": 46,
    "start_time": "2022-03-18T22:45:49.952Z"
   },
   {
    "duration": 13,
    "start_time": "2022-03-18T22:45:50.002Z"
   },
   {
    "duration": 11,
    "start_time": "2022-03-18T22:45:50.017Z"
   },
   {
    "duration": 57,
    "start_time": "2022-03-18T22:45:50.030Z"
   },
   {
    "duration": 11,
    "start_time": "2022-03-18T22:45:50.089Z"
   },
   {
    "duration": 33,
    "start_time": "2022-03-18T22:45:50.102Z"
   },
   {
    "duration": 47,
    "start_time": "2022-03-18T22:45:50.137Z"
   },
   {
    "duration": 26,
    "start_time": "2022-03-18T22:45:50.187Z"
   },
   {
    "duration": 40,
    "start_time": "2022-03-18T22:45:50.215Z"
   },
   {
    "duration": 30,
    "start_time": "2022-03-18T22:45:50.257Z"
   },
   {
    "duration": 14,
    "start_time": "2022-03-18T22:45:50.289Z"
   },
   {
    "duration": 13,
    "start_time": "2022-03-18T22:45:50.305Z"
   },
   {
    "duration": 61,
    "start_time": "2022-03-18T22:45:50.321Z"
   },
   {
    "duration": 11,
    "start_time": "2022-03-18T22:45:50.385Z"
   },
   {
    "duration": 13,
    "start_time": "2022-03-18T22:45:50.398Z"
   },
   {
    "duration": 25,
    "start_time": "2022-03-18T22:46:19.924Z"
   },
   {
    "duration": 25,
    "start_time": "2022-03-18T22:46:49.023Z"
   },
   {
    "duration": 28,
    "start_time": "2022-03-18T22:46:54.499Z"
   },
   {
    "duration": 29,
    "start_time": "2022-03-18T22:46:57.625Z"
   },
   {
    "duration": 19,
    "start_time": "2022-03-18T22:47:08.735Z"
   },
   {
    "duration": 47,
    "start_time": "2022-03-18T22:55:17.450Z"
   },
   {
    "duration": 36,
    "start_time": "2022-03-18T22:57:28.399Z"
   },
   {
    "duration": 22,
    "start_time": "2022-03-18T22:58:52.389Z"
   },
   {
    "duration": 18,
    "start_time": "2022-03-18T23:00:22.363Z"
   },
   {
    "duration": 18,
    "start_time": "2022-03-18T23:00:26.943Z"
   },
   {
    "duration": 19,
    "start_time": "2022-03-18T23:00:31.909Z"
   },
   {
    "duration": 19,
    "start_time": "2022-03-18T23:00:37.210Z"
   },
   {
    "duration": 20,
    "start_time": "2022-03-18T23:00:43.241Z"
   },
   {
    "duration": 6,
    "start_time": "2022-03-18T23:10:45.626Z"
   },
   {
    "duration": 153,
    "start_time": "2022-03-19T07:50:27.427Z"
   },
   {
    "duration": 136,
    "start_time": "2022-03-19T07:50:36.314Z"
   },
   {
    "duration": 138,
    "start_time": "2022-03-19T07:52:25.176Z"
   },
   {
    "duration": 42,
    "start_time": "2022-03-19T09:39:09.702Z"
   },
   {
    "duration": 379,
    "start_time": "2022-03-19T09:39:48.616Z"
   },
   {
    "duration": 63,
    "start_time": "2022-03-19T09:39:48.997Z"
   },
   {
    "duration": 20,
    "start_time": "2022-03-19T09:39:49.062Z"
   },
   {
    "duration": 14,
    "start_time": "2022-03-19T09:39:49.085Z"
   },
   {
    "duration": 9,
    "start_time": "2022-03-19T09:39:49.101Z"
   },
   {
    "duration": 6,
    "start_time": "2022-03-19T09:39:49.112Z"
   },
   {
    "duration": 45,
    "start_time": "2022-03-19T09:39:49.119Z"
   },
   {
    "duration": 13,
    "start_time": "2022-03-19T09:39:49.165Z"
   },
   {
    "duration": 32,
    "start_time": "2022-03-19T09:39:49.179Z"
   },
   {
    "duration": 7,
    "start_time": "2022-03-19T09:39:49.214Z"
   },
   {
    "duration": 40,
    "start_time": "2022-03-19T09:39:49.223Z"
   },
   {
    "duration": 27,
    "start_time": "2022-03-19T09:39:49.265Z"
   },
   {
    "duration": 5,
    "start_time": "2022-03-19T09:39:49.293Z"
   },
   {
    "duration": 7,
    "start_time": "2022-03-19T09:39:49.300Z"
   },
   {
    "duration": 7,
    "start_time": "2022-03-19T09:39:49.309Z"
   },
   {
    "duration": 53,
    "start_time": "2022-03-19T09:39:49.317Z"
   },
   {
    "duration": 12,
    "start_time": "2022-03-19T09:39:49.372Z"
   },
   {
    "duration": 10,
    "start_time": "2022-03-19T09:39:49.385Z"
   },
   {
    "duration": 19,
    "start_time": "2022-03-19T09:39:49.396Z"
   },
   {
    "duration": 20,
    "start_time": "2022-03-19T09:39:49.416Z"
   },
   {
    "duration": 39,
    "start_time": "2022-03-19T09:39:49.437Z"
   },
   {
    "duration": 15,
    "start_time": "2022-03-19T09:39:49.478Z"
   },
   {
    "duration": 28,
    "start_time": "2022-03-19T09:39:49.495Z"
   },
   {
    "duration": 39,
    "start_time": "2022-03-19T09:39:49.525Z"
   },
   {
    "duration": 15,
    "start_time": "2022-03-19T09:39:49.565Z"
   },
   {
    "duration": 126,
    "start_time": "2022-03-19T09:39:49.582Z"
   },
   {
    "duration": 0,
    "start_time": "2022-03-19T09:39:49.709Z"
   },
   {
    "duration": 0,
    "start_time": "2022-03-19T09:39:49.711Z"
   },
   {
    "duration": 0,
    "start_time": "2022-03-19T09:39:49.712Z"
   },
   {
    "duration": 12,
    "start_time": "2022-03-19T09:41:10.835Z"
   },
   {
    "duration": 15,
    "start_time": "2022-03-19T09:41:12.028Z"
   },
   {
    "duration": 18,
    "start_time": "2022-03-19T09:41:16.098Z"
   },
   {
    "duration": 5,
    "start_time": "2022-03-19T09:41:22.786Z"
   },
   {
    "duration": 10,
    "start_time": "2022-03-19T09:43:13.999Z"
   },
   {
    "duration": 14,
    "start_time": "2022-03-19T09:44:05.205Z"
   },
   {
    "duration": 5,
    "start_time": "2022-03-19T10:30:27.267Z"
   },
   {
    "duration": 11,
    "start_time": "2022-03-19T10:30:30.480Z"
   },
   {
    "duration": 2518,
    "start_time": "2022-03-19T11:10:51.305Z"
   },
   {
    "duration": 6,
    "start_time": "2022-03-19T11:12:44.358Z"
   },
   {
    "duration": 6,
    "start_time": "2022-03-19T11:13:22.037Z"
   },
   {
    "duration": 7,
    "start_time": "2022-03-19T11:13:44.382Z"
   },
   {
    "duration": 15,
    "start_time": "2022-03-19T11:14:04.175Z"
   },
   {
    "duration": 2674,
    "start_time": "2022-03-19T11:14:10.110Z"
   },
   {
    "duration": 2501,
    "start_time": "2022-03-19T11:14:53.942Z"
   },
   {
    "duration": 2764,
    "start_time": "2022-03-19T11:15:19.142Z"
   },
   {
    "duration": 6,
    "start_time": "2022-03-19T11:16:18.842Z"
   },
   {
    "duration": 20,
    "start_time": "2022-03-19T11:17:48.716Z"
   },
   {
    "duration": 6,
    "start_time": "2022-03-19T11:18:56.917Z"
   },
   {
    "duration": 18,
    "start_time": "2022-03-19T11:40:06.423Z"
   },
   {
    "duration": 4,
    "start_time": "2022-03-19T11:58:58.767Z"
   },
   {
    "duration": 8,
    "start_time": "2022-03-19T11:59:19.446Z"
   },
   {
    "duration": 3,
    "start_time": "2022-03-19T11:59:56.471Z"
   },
   {
    "duration": 21185,
    "start_time": "2022-03-19T12:00:23.752Z"
   },
   {
    "duration": 3,
    "start_time": "2022-03-19T12:10:15.689Z"
   },
   {
    "duration": 37,
    "start_time": "2022-03-19T12:10:18.325Z"
   },
   {
    "duration": 4,
    "start_time": "2022-03-19T12:13:27.027Z"
   },
   {
    "duration": 2567,
    "start_time": "2022-03-19T12:13:35.745Z"
   },
   {
    "duration": 4,
    "start_time": "2022-03-19T12:17:40.480Z"
   },
   {
    "duration": 3,
    "start_time": "2022-03-19T13:08:58.318Z"
   },
   {
    "duration": 4,
    "start_time": "2022-03-19T13:13:56.161Z"
   },
   {
    "duration": 4,
    "start_time": "2022-03-19T13:14:11.691Z"
   },
   {
    "duration": 57081,
    "start_time": "2022-03-19T13:14:55.233Z"
   },
   {
    "duration": 3,
    "start_time": "2022-03-19T13:22:22.039Z"
   },
   {
    "duration": 57123,
    "start_time": "2022-03-19T13:22:26.474Z"
   },
   {
    "duration": 4,
    "start_time": "2022-03-19T13:28:36.027Z"
   },
   {
    "duration": 57868,
    "start_time": "2022-03-19T13:28:44.053Z"
   },
   {
    "duration": 57297,
    "start_time": "2022-03-19T13:30:19.190Z"
   },
   {
    "duration": 130,
    "start_time": "2022-03-19T13:33:21.547Z"
   },
   {
    "duration": 7,
    "start_time": "2022-03-19T13:33:29.107Z"
   },
   {
    "duration": 2196,
    "start_time": "2022-03-19T13:46:11.306Z"
   },
   {
    "duration": 2120,
    "start_time": "2022-03-19T13:48:19.808Z"
   },
   {
    "duration": 20,
    "start_time": "2022-03-19T13:49:24.384Z"
   },
   {
    "duration": 14,
    "start_time": "2022-03-19T13:49:50.564Z"
   },
   {
    "duration": 21,
    "start_time": "2022-03-19T13:50:30.028Z"
   },
   {
    "duration": 15,
    "start_time": "2022-03-19T13:51:44.521Z"
   },
   {
    "duration": 14,
    "start_time": "2022-03-19T13:53:13.106Z"
   },
   {
    "duration": 15,
    "start_time": "2022-03-19T14:10:33.868Z"
   },
   {
    "duration": 133,
    "start_time": "2022-03-19T14:13:18.419Z"
   },
   {
    "duration": 18,
    "start_time": "2022-03-19T14:14:03.159Z"
   },
   {
    "duration": 16,
    "start_time": "2022-03-19T14:14:13.267Z"
   },
   {
    "duration": 2,
    "start_time": "2022-03-19T14:18:30.939Z"
   },
   {
    "duration": 2,
    "start_time": "2022-03-19T14:18:35.581Z"
   },
   {
    "duration": 68,
    "start_time": "2022-03-19T20:17:35.668Z"
   },
   {
    "duration": 505,
    "start_time": "2022-03-19T20:18:20.860Z"
   },
   {
    "duration": 74,
    "start_time": "2022-03-19T20:18:21.367Z"
   },
   {
    "duration": 40,
    "start_time": "2022-03-19T20:18:21.443Z"
   },
   {
    "duration": 21,
    "start_time": "2022-03-19T20:18:21.486Z"
   },
   {
    "duration": 12,
    "start_time": "2022-03-19T20:18:21.509Z"
   },
   {
    "duration": 8,
    "start_time": "2022-03-19T20:18:21.523Z"
   },
   {
    "duration": 13,
    "start_time": "2022-03-19T20:18:21.533Z"
   },
   {
    "duration": 13,
    "start_time": "2022-03-19T20:18:21.583Z"
   },
   {
    "duration": 41,
    "start_time": "2022-03-19T20:18:53.038Z"
   },
   {
    "duration": 14,
    "start_time": "2022-03-19T20:19:52.235Z"
   },
   {
    "duration": 52,
    "start_time": "2022-03-19T20:21:10.637Z"
   },
   {
    "duration": 18,
    "start_time": "2022-03-19T20:21:55.537Z"
   },
   {
    "duration": 20,
    "start_time": "2022-03-19T20:29:03.698Z"
   },
   {
    "duration": 21,
    "start_time": "2022-03-19T20:29:32.176Z"
   },
   {
    "duration": 4,
    "start_time": "2022-03-19T20:31:49.038Z"
   },
   {
    "duration": 73,
    "start_time": "2022-03-19T20:31:51.762Z"
   },
   {
    "duration": 21,
    "start_time": "2022-03-19T20:31:53.932Z"
   },
   {
    "duration": 21,
    "start_time": "2022-03-19T20:32:02.231Z"
   },
   {
    "duration": 12,
    "start_time": "2022-03-19T20:32:22.904Z"
   },
   {
    "duration": 27,
    "start_time": "2022-03-19T20:32:29.983Z"
   },
   {
    "duration": 13,
    "start_time": "2022-03-19T20:33:09.623Z"
   },
   {
    "duration": 27,
    "start_time": "2022-03-19T20:33:15.556Z"
   },
   {
    "duration": 47,
    "start_time": "2022-03-19T20:39:22.978Z"
   },
   {
    "duration": 10,
    "start_time": "2022-03-19T20:39:29.680Z"
   },
   {
    "duration": 10,
    "start_time": "2022-03-19T20:39:35.524Z"
   },
   {
    "duration": 11,
    "start_time": "2022-03-19T20:39:43.875Z"
   },
   {
    "duration": 12,
    "start_time": "2022-03-19T20:43:22.513Z"
   },
   {
    "duration": 11,
    "start_time": "2022-03-19T20:43:49.926Z"
   },
   {
    "duration": 11,
    "start_time": "2022-03-19T20:44:38.037Z"
   },
   {
    "duration": 11,
    "start_time": "2022-03-19T20:49:15.155Z"
   },
   {
    "duration": 31,
    "start_time": "2022-03-19T20:55:08.430Z"
   },
   {
    "duration": 9,
    "start_time": "2022-03-19T20:55:26.803Z"
   },
   {
    "duration": 8,
    "start_time": "2022-03-19T20:55:52.913Z"
   },
   {
    "duration": 27,
    "start_time": "2022-03-19T20:56:05.836Z"
   },
   {
    "duration": 30,
    "start_time": "2022-03-19T20:56:33.108Z"
   },
   {
    "duration": 25,
    "start_time": "2022-03-19T20:56:34.180Z"
   },
   {
    "duration": 21,
    "start_time": "2022-03-19T20:58:30.742Z"
   },
   {
    "duration": 37,
    "start_time": "2022-03-19T20:58:42.859Z"
   },
   {
    "duration": 19,
    "start_time": "2022-03-19T20:59:01.960Z"
   },
   {
    "duration": 18,
    "start_time": "2022-03-19T20:59:18.309Z"
   },
   {
    "duration": 18,
    "start_time": "2022-03-19T20:59:31.710Z"
   },
   {
    "duration": 21,
    "start_time": "2022-03-19T20:59:36.248Z"
   },
   {
    "duration": 20,
    "start_time": "2022-03-19T21:04:45.178Z"
   },
   {
    "duration": 20,
    "start_time": "2022-03-19T21:20:20.458Z"
   },
   {
    "duration": 7,
    "start_time": "2022-03-19T21:20:27.841Z"
   },
   {
    "duration": 15,
    "start_time": "2022-03-19T21:20:36.946Z"
   },
   {
    "duration": 28,
    "start_time": "2022-03-19T21:42:06.963Z"
   },
   {
    "duration": 7,
    "start_time": "2022-03-19T21:42:41.641Z"
   },
   {
    "duration": 22,
    "start_time": "2022-03-19T21:50:14.564Z"
   },
   {
    "duration": 29,
    "start_time": "2022-03-19T21:50:19.899Z"
   },
   {
    "duration": 21,
    "start_time": "2022-03-19T21:50:47.955Z"
   },
   {
    "duration": 25,
    "start_time": "2022-03-19T22:19:55.746Z"
   },
   {
    "duration": 9,
    "start_time": "2022-03-19T22:37:42.139Z"
   },
   {
    "duration": 10,
    "start_time": "2022-03-19T22:41:36.243Z"
   },
   {
    "duration": 7,
    "start_time": "2022-03-19T22:45:30.290Z"
   },
   {
    "duration": 11,
    "start_time": "2022-03-19T22:46:22.137Z"
   },
   {
    "duration": 9,
    "start_time": "2022-03-19T22:52:57.732Z"
   },
   {
    "duration": 13,
    "start_time": "2022-03-19T22:53:12.670Z"
   },
   {
    "duration": 8,
    "start_time": "2022-03-19T22:57:25.999Z"
   },
   {
    "duration": 13,
    "start_time": "2022-03-19T23:59:32.036Z"
   },
   {
    "duration": 9,
    "start_time": "2022-03-19T23:59:36.262Z"
   },
   {
    "duration": 71,
    "start_time": "2022-03-20T09:33:23.524Z"
   },
   {
    "duration": 498,
    "start_time": "2022-03-20T09:33:43.787Z"
   },
   {
    "duration": 76,
    "start_time": "2022-03-20T09:33:44.287Z"
   },
   {
    "duration": 40,
    "start_time": "2022-03-20T09:33:44.365Z"
   },
   {
    "duration": 21,
    "start_time": "2022-03-20T09:33:44.407Z"
   },
   {
    "duration": 15,
    "start_time": "2022-03-20T09:33:44.432Z"
   },
   {
    "duration": 9,
    "start_time": "2022-03-20T09:33:44.483Z"
   },
   {
    "duration": 12,
    "start_time": "2022-03-20T09:33:44.494Z"
   },
   {
    "duration": 13,
    "start_time": "2022-03-20T09:33:44.508Z"
   },
   {
    "duration": 64,
    "start_time": "2022-03-20T09:33:44.524Z"
   },
   {
    "duration": 11,
    "start_time": "2022-03-20T09:33:44.590Z"
   },
   {
    "duration": 28,
    "start_time": "2022-03-20T09:33:44.603Z"
   },
   {
    "duration": 71,
    "start_time": "2022-03-20T09:33:44.633Z"
   },
   {
    "duration": 8,
    "start_time": "2022-03-20T09:33:44.706Z"
   },
   {
    "duration": 11,
    "start_time": "2022-03-20T09:33:44.718Z"
   },
   {
    "duration": 11,
    "start_time": "2022-03-20T09:33:44.732Z"
   },
   {
    "duration": 69,
    "start_time": "2022-03-20T09:33:44.745Z"
   },
   {
    "duration": 9,
    "start_time": "2022-03-20T09:33:44.816Z"
   },
   {
    "duration": 10,
    "start_time": "2022-03-20T09:33:44.827Z"
   },
   {
    "duration": 60,
    "start_time": "2022-03-20T09:33:44.839Z"
   },
   {
    "duration": 29,
    "start_time": "2022-03-20T09:33:44.901Z"
   },
   {
    "duration": 27,
    "start_time": "2022-03-20T09:33:44.932Z"
   },
   {
    "duration": 40,
    "start_time": "2022-03-20T09:33:44.961Z"
   },
   {
    "duration": 38,
    "start_time": "2022-03-20T09:33:45.003Z"
   },
   {
    "duration": 48,
    "start_time": "2022-03-20T09:33:45.043Z"
   },
   {
    "duration": 21,
    "start_time": "2022-03-20T09:33:45.093Z"
   },
   {
    "duration": 18,
    "start_time": "2022-03-20T09:33:45.117Z"
   },
   {
    "duration": 52,
    "start_time": "2022-03-20T09:33:45.137Z"
   },
   {
    "duration": 20,
    "start_time": "2022-03-20T09:33:45.191Z"
   },
   {
    "duration": 18,
    "start_time": "2022-03-20T09:33:45.214Z"
   },
   {
    "duration": 8,
    "start_time": "2022-03-20T09:33:45.234Z"
   },
   {
    "duration": 48,
    "start_time": "2022-03-20T09:33:45.244Z"
   },
   {
    "duration": 34,
    "start_time": "2022-03-20T09:33:45.294Z"
   },
   {
    "duration": 8,
    "start_time": "2022-03-20T09:33:45.330Z"
   },
   {
    "duration": 55,
    "start_time": "2022-03-20T09:33:45.340Z"
   },
   {
    "duration": 29,
    "start_time": "2022-03-20T09:33:45.397Z"
   },
   {
    "duration": 24,
    "start_time": "2022-03-20T09:33:45.429Z"
   },
   {
    "duration": 40,
    "start_time": "2022-03-20T09:33:45.455Z"
   },
   {
    "duration": 9,
    "start_time": "2022-03-20T09:33:45.497Z"
   },
   {
    "duration": 13,
    "start_time": "2022-03-20T09:33:53.878Z"
   },
   {
    "duration": 25,
    "start_time": "2022-03-20T09:39:54.201Z"
   },
   {
    "duration": 108,
    "start_time": "2022-03-20T10:02:58.270Z"
   },
   {
    "duration": 98,
    "start_time": "2022-03-20T10:06:57.239Z"
   },
   {
    "duration": 257,
    "start_time": "2022-03-20T10:07:44.172Z"
   },
   {
    "duration": 94,
    "start_time": "2022-03-20T10:08:36.363Z"
   },
   {
    "duration": 111,
    "start_time": "2022-03-20T10:10:25.156Z"
   },
   {
    "duration": 116,
    "start_time": "2022-03-20T10:18:10.925Z"
   },
   {
    "duration": 123,
    "start_time": "2022-03-20T10:18:27.751Z"
   },
   {
    "duration": 47,
    "start_time": "2022-03-20T10:28:30.189Z"
   },
   {
    "duration": 12,
    "start_time": "2022-03-20T10:29:48.329Z"
   },
   {
    "duration": 24,
    "start_time": "2022-03-20T10:30:58.830Z"
   },
   {
    "duration": 31,
    "start_time": "2022-03-20T10:32:07.402Z"
   },
   {
    "duration": 1699,
    "start_time": "2022-03-20T11:57:58.583Z"
   },
   {
    "duration": 1331,
    "start_time": "2022-03-20T12:01:14.872Z"
   },
   {
    "duration": 37,
    "start_time": "2022-03-20T12:05:17.138Z"
   },
   {
    "duration": 35,
    "start_time": "2022-03-20T12:06:52.846Z"
   },
   {
    "duration": 38,
    "start_time": "2022-03-20T12:12:06.270Z"
   },
   {
    "duration": 35,
    "start_time": "2022-03-20T12:12:46.096Z"
   },
   {
    "duration": 28,
    "start_time": "2022-03-20T12:17:31.221Z"
   },
   {
    "duration": 29,
    "start_time": "2022-03-20T14:05:28.632Z"
   },
   {
    "duration": 4,
    "start_time": "2022-03-20T16:34:48.235Z"
   },
   {
    "duration": 30,
    "start_time": "2022-03-20T16:46:27.544Z"
   },
   {
    "duration": 18,
    "start_time": "2022-03-20T17:34:29.841Z"
   },
   {
    "duration": 31,
    "start_time": "2022-03-20T17:36:05.501Z"
   },
   {
    "duration": 29,
    "start_time": "2022-03-20T17:36:35.587Z"
   },
   {
    "duration": 3,
    "start_time": "2022-03-20T17:37:47.175Z"
   },
   {
    "duration": 80,
    "start_time": "2022-03-20T17:37:47.181Z"
   },
   {
    "duration": 18,
    "start_time": "2022-03-20T17:37:47.263Z"
   },
   {
    "duration": 25,
    "start_time": "2022-03-20T17:37:47.285Z"
   },
   {
    "duration": 13,
    "start_time": "2022-03-20T17:37:47.314Z"
   },
   {
    "duration": 10,
    "start_time": "2022-03-20T17:37:47.330Z"
   },
   {
    "duration": 16,
    "start_time": "2022-03-20T17:37:47.385Z"
   },
   {
    "duration": 14,
    "start_time": "2022-03-20T17:37:47.404Z"
   },
   {
    "duration": 82,
    "start_time": "2022-03-20T17:37:47.420Z"
   },
   {
    "duration": 16,
    "start_time": "2022-03-20T17:37:47.504Z"
   },
   {
    "duration": 65,
    "start_time": "2022-03-20T17:37:47.526Z"
   },
   {
    "duration": 49,
    "start_time": "2022-03-20T17:37:47.594Z"
   },
   {
    "duration": 8,
    "start_time": "2022-03-20T17:37:47.646Z"
   },
   {
    "duration": 12,
    "start_time": "2022-03-20T17:37:47.683Z"
   },
   {
    "duration": 20,
    "start_time": "2022-03-20T17:37:47.697Z"
   },
   {
    "duration": 66,
    "start_time": "2022-03-20T17:37:47.719Z"
   },
   {
    "duration": 21,
    "start_time": "2022-03-20T17:37:47.788Z"
   },
   {
    "duration": 33,
    "start_time": "2022-03-20T17:37:47.811Z"
   },
   {
    "duration": 54,
    "start_time": "2022-03-20T17:37:47.847Z"
   },
   {
    "duration": 30,
    "start_time": "2022-03-20T17:37:47.904Z"
   },
   {
    "duration": 28,
    "start_time": "2022-03-20T17:37:47.936Z"
   },
   {
    "duration": 20,
    "start_time": "2022-03-20T17:37:47.985Z"
   },
   {
    "duration": 60,
    "start_time": "2022-03-20T17:37:48.007Z"
   },
   {
    "duration": 30,
    "start_time": "2022-03-20T17:37:48.069Z"
   },
   {
    "duration": 31,
    "start_time": "2022-03-20T17:37:48.101Z"
   },
   {
    "duration": 31,
    "start_time": "2022-03-20T17:37:48.134Z"
   },
   {
    "duration": 33,
    "start_time": "2022-03-20T17:37:48.167Z"
   },
   {
    "duration": 26,
    "start_time": "2022-03-20T17:37:48.202Z"
   },
   {
    "duration": 22,
    "start_time": "2022-03-20T17:37:48.234Z"
   },
   {
    "duration": 9,
    "start_time": "2022-03-20T17:37:48.285Z"
   },
   {
    "duration": 18,
    "start_time": "2022-03-20T17:37:48.298Z"
   },
   {
    "duration": 30,
    "start_time": "2022-03-20T17:37:48.319Z"
   },
   {
    "duration": 38,
    "start_time": "2022-03-20T17:37:48.352Z"
   },
   {
    "duration": 43,
    "start_time": "2022-03-20T17:37:48.392Z"
   },
   {
    "duration": 55,
    "start_time": "2022-03-20T17:37:48.437Z"
   },
   {
    "duration": 56,
    "start_time": "2022-03-20T17:37:48.495Z"
   },
   {
    "duration": 42,
    "start_time": "2022-03-20T17:37:48.553Z"
   },
   {
    "duration": 38,
    "start_time": "2022-03-20T17:37:48.597Z"
   },
   {
    "duration": 59,
    "start_time": "2022-03-20T17:37:48.637Z"
   },
   {
    "duration": 31,
    "start_time": "2022-03-20T17:37:48.699Z"
   },
   {
    "duration": 46,
    "start_time": "2022-03-20T18:37:05.475Z"
   },
   {
    "duration": 43,
    "start_time": "2022-03-20T18:38:25.881Z"
   },
   {
    "duration": 59,
    "start_time": "2022-03-20T18:39:07.301Z"
   },
   {
    "duration": 13,
    "start_time": "2022-03-20T18:49:16.424Z"
   },
   {
    "duration": 13,
    "start_time": "2022-03-20T18:50:32.137Z"
   },
   {
    "duration": 12,
    "start_time": "2022-03-20T18:50:54.965Z"
   },
   {
    "duration": 31,
    "start_time": "2022-03-20T18:54:25.345Z"
   },
   {
    "duration": 41,
    "start_time": "2022-03-20T18:54:44.058Z"
   },
   {
    "duration": 437,
    "start_time": "2022-03-31T13:33:32.325Z"
   },
   {
    "duration": 69,
    "start_time": "2022-03-31T13:33:32.765Z"
   },
   {
    "duration": 26,
    "start_time": "2022-03-31T13:33:32.836Z"
   },
   {
    "duration": 29,
    "start_time": "2022-03-31T13:33:32.865Z"
   },
   {
    "duration": 12,
    "start_time": "2022-03-31T13:33:32.896Z"
   },
   {
    "duration": 8,
    "start_time": "2022-03-31T13:33:32.911Z"
   },
   {
    "duration": 12,
    "start_time": "2022-03-31T13:33:32.921Z"
   },
   {
    "duration": 52,
    "start_time": "2022-03-31T13:33:32.935Z"
   },
   {
    "duration": 26,
    "start_time": "2022-03-31T13:33:32.989Z"
   },
   {
    "duration": 10,
    "start_time": "2022-03-31T13:33:33.019Z"
   },
   {
    "duration": 57,
    "start_time": "2022-03-31T13:33:33.031Z"
   },
   {
    "duration": 40,
    "start_time": "2022-03-31T13:33:33.091Z"
   },
   {
    "duration": 8,
    "start_time": "2022-03-31T13:33:33.133Z"
   },
   {
    "duration": 40,
    "start_time": "2022-03-31T13:33:33.143Z"
   },
   {
    "duration": 11,
    "start_time": "2022-03-31T13:33:33.185Z"
   },
   {
    "duration": 30,
    "start_time": "2022-03-31T13:33:33.198Z"
   },
   {
    "duration": 8,
    "start_time": "2022-03-31T13:33:33.230Z"
   },
   {
    "duration": 9,
    "start_time": "2022-03-31T13:33:33.240Z"
   },
   {
    "duration": 24,
    "start_time": "2022-03-31T13:33:33.283Z"
   },
   {
    "duration": 26,
    "start_time": "2022-03-31T13:33:33.308Z"
   },
   {
    "duration": 51,
    "start_time": "2022-03-31T13:33:33.336Z"
   },
   {
    "duration": 19,
    "start_time": "2022-03-31T13:33:33.389Z"
   },
   {
    "duration": 34,
    "start_time": "2022-03-31T13:33:33.410Z"
   },
   {
    "duration": 41,
    "start_time": "2022-03-31T13:33:33.446Z"
   },
   {
    "duration": 18,
    "start_time": "2022-03-31T13:33:33.489Z"
   },
   {
    "duration": 16,
    "start_time": "2022-03-31T13:33:33.509Z"
   },
   {
    "duration": 22,
    "start_time": "2022-03-31T13:33:33.527Z"
   },
   {
    "duration": 19,
    "start_time": "2022-03-31T13:33:33.586Z"
   },
   {
    "duration": 18,
    "start_time": "2022-03-31T13:33:33.607Z"
   },
   {
    "duration": 10,
    "start_time": "2022-03-31T13:33:33.627Z"
   },
   {
    "duration": 44,
    "start_time": "2022-03-31T13:33:33.639Z"
   },
   {
    "duration": 26,
    "start_time": "2022-03-31T13:33:33.685Z"
   },
   {
    "duration": 8,
    "start_time": "2022-03-31T13:33:33.713Z"
   },
   {
    "duration": 24,
    "start_time": "2022-03-31T13:33:33.723Z"
   },
   {
    "duration": 55,
    "start_time": "2022-03-31T13:33:33.749Z"
   },
   {
    "duration": 21,
    "start_time": "2022-03-31T13:33:33.805Z"
   },
   {
    "duration": 27,
    "start_time": "2022-03-31T13:33:33.828Z"
   },
   {
    "duration": 28,
    "start_time": "2022-03-31T13:33:33.883Z"
   },
   {
    "duration": 24,
    "start_time": "2022-03-31T13:33:33.914Z"
   },
   {
    "duration": 56,
    "start_time": "2022-03-31T13:33:33.940Z"
   },
   {
    "duration": 35,
    "start_time": "2022-03-31T13:33:33.998Z"
   },
   {
    "duration": 478,
    "start_time": "2022-03-31T13:40:40.403Z"
   },
   {
    "duration": 65,
    "start_time": "2022-03-31T13:40:40.884Z"
   },
   {
    "duration": 36,
    "start_time": "2022-03-31T13:40:40.951Z"
   },
   {
    "duration": 20,
    "start_time": "2022-03-31T13:40:40.990Z"
   },
   {
    "duration": 12,
    "start_time": "2022-03-31T13:40:41.013Z"
   },
   {
    "duration": 8,
    "start_time": "2022-03-31T13:40:41.027Z"
   },
   {
    "duration": 47,
    "start_time": "2022-03-31T13:40:41.037Z"
   },
   {
    "duration": 13,
    "start_time": "2022-03-31T13:40:41.087Z"
   },
   {
    "duration": 25,
    "start_time": "2022-03-31T13:40:41.103Z"
   },
   {
    "duration": 10,
    "start_time": "2022-03-31T13:40:41.132Z"
   },
   {
    "duration": 62,
    "start_time": "2022-03-31T13:40:41.145Z"
   },
   {
    "duration": 40,
    "start_time": "2022-03-31T13:40:41.209Z"
   },
   {
    "duration": 36,
    "start_time": "2022-03-31T13:40:41.251Z"
   },
   {
    "duration": 31,
    "start_time": "2022-03-31T13:40:41.289Z"
   },
   {
    "duration": 12,
    "start_time": "2022-03-31T13:40:41.323Z"
   },
   {
    "duration": 30,
    "start_time": "2022-03-31T13:40:41.337Z"
   },
   {
    "duration": 20,
    "start_time": "2022-03-31T13:40:41.369Z"
   },
   {
    "duration": 8,
    "start_time": "2022-03-31T13:40:41.391Z"
   },
   {
    "duration": 25,
    "start_time": "2022-03-31T13:40:41.402Z"
   },
   {
    "duration": 64,
    "start_time": "2022-03-31T13:40:41.429Z"
   },
   {
    "duration": 24,
    "start_time": "2022-03-31T13:40:41.495Z"
   },
   {
    "duration": 17,
    "start_time": "2022-03-31T13:40:41.521Z"
   },
   {
    "duration": 58,
    "start_time": "2022-03-31T13:40:41.540Z"
   },
   {
    "duration": 23,
    "start_time": "2022-03-31T13:40:41.600Z"
   },
   {
    "duration": 17,
    "start_time": "2022-03-31T13:40:41.625Z"
   },
   {
    "duration": 41,
    "start_time": "2022-03-31T13:40:41.644Z"
   },
   {
    "duration": 30,
    "start_time": "2022-03-31T13:40:41.687Z"
   },
   {
    "duration": 18,
    "start_time": "2022-03-31T13:40:41.722Z"
   },
   {
    "duration": 41,
    "start_time": "2022-03-31T13:40:41.742Z"
   },
   {
    "duration": 6,
    "start_time": "2022-03-31T13:40:41.785Z"
   },
   {
    "duration": 31,
    "start_time": "2022-03-31T13:40:41.792Z"
   },
   {
    "duration": 44,
    "start_time": "2022-03-31T13:40:41.825Z"
   },
   {
    "duration": 7,
    "start_time": "2022-03-31T13:40:41.871Z"
   },
   {
    "duration": 51,
    "start_time": "2022-03-31T13:40:41.880Z"
   },
   {
    "duration": 28,
    "start_time": "2022-03-31T13:40:41.932Z"
   },
   {
    "duration": 40,
    "start_time": "2022-03-31T13:40:41.962Z"
   },
   {
    "duration": 30,
    "start_time": "2022-03-31T13:40:42.004Z"
   },
   {
    "duration": 30,
    "start_time": "2022-03-31T13:40:42.036Z"
   },
   {
    "duration": 25,
    "start_time": "2022-03-31T13:40:42.082Z"
   },
   {
    "duration": 31,
    "start_time": "2022-03-31T13:40:42.109Z"
   },
   {
    "duration": 64,
    "start_time": "2022-03-31T13:40:42.142Z"
   },
   {
    "duration": 470,
    "start_time": "2022-03-31T13:41:19.493Z"
   },
   {
    "duration": 70,
    "start_time": "2022-03-31T13:41:19.966Z"
   },
   {
    "duration": 27,
    "start_time": "2022-03-31T13:41:20.038Z"
   },
   {
    "duration": 33,
    "start_time": "2022-03-31T13:41:20.067Z"
   },
   {
    "duration": 18,
    "start_time": "2022-03-31T13:41:20.102Z"
   },
   {
    "duration": 25,
    "start_time": "2022-03-31T13:41:20.122Z"
   },
   {
    "duration": 22,
    "start_time": "2022-03-31T13:41:20.150Z"
   },
   {
    "duration": 29,
    "start_time": "2022-03-31T13:41:20.174Z"
   },
   {
    "duration": 25,
    "start_time": "2022-03-31T13:41:20.206Z"
   },
   {
    "duration": 10,
    "start_time": "2022-03-31T13:41:20.235Z"
   },
   {
    "duration": 46,
    "start_time": "2022-03-31T13:41:20.248Z"
   },
   {
    "duration": 39,
    "start_time": "2022-03-31T13:41:20.296Z"
   },
   {
    "duration": 9,
    "start_time": "2022-03-31T13:41:20.337Z"
   },
   {
    "duration": 40,
    "start_time": "2022-03-31T13:41:20.348Z"
   },
   {
    "duration": 22,
    "start_time": "2022-03-31T13:41:20.390Z"
   },
   {
    "duration": 45,
    "start_time": "2022-03-31T13:41:20.414Z"
   },
   {
    "duration": 19,
    "start_time": "2022-03-31T13:41:20.461Z"
   },
   {
    "duration": 34,
    "start_time": "2022-03-31T13:41:20.482Z"
   },
   {
    "duration": 27,
    "start_time": "2022-03-31T13:41:20.519Z"
   },
   {
    "duration": 25,
    "start_time": "2022-03-31T13:41:20.549Z"
   },
   {
    "duration": 26,
    "start_time": "2022-03-31T13:41:20.576Z"
   },
   {
    "duration": 18,
    "start_time": "2022-03-31T13:41:20.605Z"
   },
   {
    "duration": 42,
    "start_time": "2022-03-31T13:41:20.625Z"
   },
   {
    "duration": 19,
    "start_time": "2022-03-31T13:41:20.683Z"
   },
   {
    "duration": 35,
    "start_time": "2022-03-31T13:41:20.704Z"
   },
   {
    "duration": 17,
    "start_time": "2022-03-31T13:41:20.741Z"
   },
   {
    "duration": 35,
    "start_time": "2022-03-31T13:41:20.760Z"
   },
   {
    "duration": 19,
    "start_time": "2022-03-31T13:41:20.799Z"
   },
   {
    "duration": 18,
    "start_time": "2022-03-31T13:41:20.820Z"
   },
   {
    "duration": 6,
    "start_time": "2022-03-31T13:41:20.840Z"
   },
   {
    "duration": 48,
    "start_time": "2022-03-31T13:41:20.848Z"
   },
   {
    "duration": 29,
    "start_time": "2022-03-31T13:41:20.898Z"
   },
   {
    "duration": 7,
    "start_time": "2022-03-31T13:41:20.929Z"
   },
   {
    "duration": 47,
    "start_time": "2022-03-31T13:41:20.939Z"
   },
   {
    "duration": 26,
    "start_time": "2022-03-31T13:41:20.989Z"
   },
   {
    "duration": 24,
    "start_time": "2022-03-31T13:41:21.017Z"
   },
   {
    "duration": 53,
    "start_time": "2022-03-31T13:41:21.043Z"
   },
   {
    "duration": 30,
    "start_time": "2022-03-31T13:41:21.098Z"
   },
   {
    "duration": 53,
    "start_time": "2022-03-31T13:41:21.130Z"
   },
   {
    "duration": 27,
    "start_time": "2022-03-31T13:41:21.185Z"
   },
   {
    "duration": 36,
    "start_time": "2022-03-31T13:41:21.215Z"
   },
   {
    "duration": 47,
    "start_time": "2022-03-31T18:06:44.302Z"
   },
   {
    "duration": 425,
    "start_time": "2022-03-31T18:07:13.746Z"
   },
   {
    "duration": 61,
    "start_time": "2022-03-31T18:07:14.173Z"
   },
   {
    "duration": 20,
    "start_time": "2022-03-31T18:07:14.236Z"
   },
   {
    "duration": 19,
    "start_time": "2022-03-31T18:07:14.259Z"
   },
   {
    "duration": 31,
    "start_time": "2022-03-31T18:07:14.279Z"
   },
   {
    "duration": 6,
    "start_time": "2022-03-31T18:07:14.312Z"
   },
   {
    "duration": 11,
    "start_time": "2022-03-31T18:07:14.320Z"
   },
   {
    "duration": 11,
    "start_time": "2022-03-31T18:07:14.332Z"
   },
   {
    "duration": 21,
    "start_time": "2022-03-31T18:07:14.344Z"
   },
   {
    "duration": 9,
    "start_time": "2022-03-31T18:07:14.367Z"
   },
   {
    "duration": 21,
    "start_time": "2022-03-31T18:07:14.409Z"
   },
   {
    "duration": 31,
    "start_time": "2022-03-31T18:07:14.432Z"
   },
   {
    "duration": 6,
    "start_time": "2022-03-31T18:07:14.465Z"
   },
   {
    "duration": 10,
    "start_time": "2022-03-31T18:07:14.472Z"
   },
   {
    "duration": 8,
    "start_time": "2022-03-31T18:07:14.509Z"
   },
   {
    "duration": 22,
    "start_time": "2022-03-31T18:07:14.519Z"
   },
   {
    "duration": 14,
    "start_time": "2022-03-31T18:07:14.543Z"
   },
   {
    "duration": 56,
    "start_time": "2022-03-31T18:07:14.559Z"
   },
   {
    "duration": 0,
    "start_time": "2022-03-31T18:07:14.616Z"
   },
   {
    "duration": 0,
    "start_time": "2022-03-31T18:07:14.618Z"
   },
   {
    "duration": 0,
    "start_time": "2022-03-31T18:07:14.619Z"
   },
   {
    "duration": 0,
    "start_time": "2022-03-31T18:07:14.620Z"
   },
   {
    "duration": 0,
    "start_time": "2022-03-31T18:07:14.621Z"
   },
   {
    "duration": 0,
    "start_time": "2022-03-31T18:07:14.622Z"
   },
   {
    "duration": 0,
    "start_time": "2022-03-31T18:07:14.622Z"
   },
   {
    "duration": 0,
    "start_time": "2022-03-31T18:07:14.623Z"
   },
   {
    "duration": 0,
    "start_time": "2022-03-31T18:07:14.624Z"
   },
   {
    "duration": 0,
    "start_time": "2022-03-31T18:07:14.625Z"
   },
   {
    "duration": 0,
    "start_time": "2022-03-31T18:07:14.626Z"
   },
   {
    "duration": 0,
    "start_time": "2022-03-31T18:07:14.627Z"
   },
   {
    "duration": 1,
    "start_time": "2022-03-31T18:07:14.627Z"
   },
   {
    "duration": 0,
    "start_time": "2022-03-31T18:07:14.629Z"
   },
   {
    "duration": 0,
    "start_time": "2022-03-31T18:07:14.630Z"
   },
   {
    "duration": 0,
    "start_time": "2022-03-31T18:07:14.631Z"
   },
   {
    "duration": 0,
    "start_time": "2022-03-31T18:07:14.632Z"
   },
   {
    "duration": 0,
    "start_time": "2022-03-31T18:07:14.633Z"
   },
   {
    "duration": 0,
    "start_time": "2022-03-31T18:07:14.634Z"
   },
   {
    "duration": 0,
    "start_time": "2022-03-31T18:07:14.635Z"
   },
   {
    "duration": 0,
    "start_time": "2022-03-31T18:07:14.636Z"
   },
   {
    "duration": 0,
    "start_time": "2022-03-31T18:07:14.637Z"
   },
   {
    "duration": 0,
    "start_time": "2022-03-31T18:07:14.638Z"
   },
   {
    "duration": 16,
    "start_time": "2022-03-31T18:08:55.776Z"
   },
   {
    "duration": 16,
    "start_time": "2022-03-31T18:15:02.999Z"
   },
   {
    "duration": 19,
    "start_time": "2022-03-31T18:15:10.193Z"
   },
   {
    "duration": 18,
    "start_time": "2022-03-31T18:15:16.925Z"
   },
   {
    "duration": 25,
    "start_time": "2022-03-31T18:35:31.538Z"
   },
   {
    "duration": 29,
    "start_time": "2022-03-31T18:35:48.978Z"
   },
   {
    "duration": 19,
    "start_time": "2022-03-31T18:35:59.675Z"
   },
   {
    "duration": 29,
    "start_time": "2022-03-31T18:37:16.139Z"
   },
   {
    "duration": 17,
    "start_time": "2022-03-31T18:37:18.766Z"
   },
   {
    "duration": 19,
    "start_time": "2022-03-31T18:38:08.218Z"
   },
   {
    "duration": 3,
    "start_time": "2022-03-31T18:38:19.002Z"
   },
   {
    "duration": 76,
    "start_time": "2022-03-31T18:38:19.011Z"
   },
   {
    "duration": 12,
    "start_time": "2022-03-31T18:38:19.089Z"
   },
   {
    "duration": 17,
    "start_time": "2022-03-31T18:38:19.102Z"
   },
   {
    "duration": 8,
    "start_time": "2022-03-31T18:38:19.121Z"
   },
   {
    "duration": 6,
    "start_time": "2022-03-31T18:38:19.131Z"
   },
   {
    "duration": 9,
    "start_time": "2022-03-31T18:38:19.138Z"
   },
   {
    "duration": 9,
    "start_time": "2022-03-31T18:38:19.149Z"
   },
   {
    "duration": 60,
    "start_time": "2022-03-31T18:38:19.160Z"
   },
   {
    "duration": 10,
    "start_time": "2022-03-31T18:38:19.221Z"
   },
   {
    "duration": 20,
    "start_time": "2022-03-31T18:38:19.234Z"
   },
   {
    "duration": 59,
    "start_time": "2022-03-31T18:38:19.255Z"
   },
   {
    "duration": 6,
    "start_time": "2022-03-31T18:38:19.315Z"
   },
   {
    "duration": 9,
    "start_time": "2022-03-31T18:38:19.323Z"
   },
   {
    "duration": 17,
    "start_time": "2022-03-31T18:38:19.333Z"
   },
   {
    "duration": 21,
    "start_time": "2022-03-31T18:38:19.352Z"
   },
   {
    "duration": 34,
    "start_time": "2022-03-31T18:38:19.375Z"
   },
   {
    "duration": 17,
    "start_time": "2022-03-31T18:38:19.410Z"
   },
   {
    "duration": 16,
    "start_time": "2022-03-31T18:38:19.428Z"
   },
   {
    "duration": 29,
    "start_time": "2022-03-31T18:38:19.446Z"
   },
   {
    "duration": 19,
    "start_time": "2022-03-31T18:38:55.797Z"
   },
   {
    "duration": 22,
    "start_time": "2022-03-31T18:42:12.782Z"
   },
   {
    "duration": 19,
    "start_time": "2022-03-31T18:42:16.866Z"
   },
   {
    "duration": 16,
    "start_time": "2022-03-31T18:44:22.051Z"
   },
   {
    "duration": 15,
    "start_time": "2022-03-31T18:44:24.875Z"
   },
   {
    "duration": 11,
    "start_time": "2022-03-31T18:44:30.644Z"
   },
   {
    "duration": 16,
    "start_time": "2022-03-31T18:44:31.873Z"
   },
   {
    "duration": 16,
    "start_time": "2022-03-31T18:44:37.447Z"
   },
   {
    "duration": 12,
    "start_time": "2022-03-31T18:45:39.422Z"
   },
   {
    "duration": 5,
    "start_time": "2022-03-31T18:45:55.452Z"
   },
   {
    "duration": 10,
    "start_time": "2022-03-31T18:45:58.730Z"
   },
   {
    "duration": 13,
    "start_time": "2022-03-31T18:49:14.183Z"
   },
   {
    "duration": 11,
    "start_time": "2022-03-31T18:50:33.015Z"
   },
   {
    "duration": 16,
    "start_time": "2022-03-31T18:57:37.991Z"
   },
   {
    "duration": 15,
    "start_time": "2022-03-31T18:58:06.795Z"
   },
   {
    "duration": 16,
    "start_time": "2022-03-31T18:59:46.730Z"
   },
   {
    "duration": 14,
    "start_time": "2022-03-31T19:00:35.006Z"
   },
   {
    "duration": 3,
    "start_time": "2022-03-31T19:02:31.968Z"
   },
   {
    "duration": 85,
    "start_time": "2022-03-31T19:02:31.978Z"
   },
   {
    "duration": 18,
    "start_time": "2022-03-31T19:02:32.066Z"
   },
   {
    "duration": 51,
    "start_time": "2022-03-31T19:02:32.087Z"
   },
   {
    "duration": 13,
    "start_time": "2022-03-31T19:02:32.141Z"
   },
   {
    "duration": 12,
    "start_time": "2022-03-31T19:02:32.157Z"
   },
   {
    "duration": 46,
    "start_time": "2022-03-31T19:02:32.171Z"
   },
   {
    "duration": 12,
    "start_time": "2022-03-31T19:02:32.219Z"
   },
   {
    "duration": 33,
    "start_time": "2022-03-31T19:02:32.233Z"
   },
   {
    "duration": 44,
    "start_time": "2022-03-31T19:02:32.269Z"
   },
   {
    "duration": 29,
    "start_time": "2022-03-31T19:02:32.317Z"
   },
   {
    "duration": 61,
    "start_time": "2022-03-31T19:02:32.349Z"
   },
   {
    "duration": 9,
    "start_time": "2022-03-31T19:02:32.412Z"
   },
   {
    "duration": 10,
    "start_time": "2022-03-31T19:02:32.424Z"
   },
   {
    "duration": 10,
    "start_time": "2022-03-31T19:02:32.436Z"
   },
   {
    "duration": 71,
    "start_time": "2022-03-31T19:02:32.448Z"
   },
   {
    "duration": 10,
    "start_time": "2022-03-31T19:02:32.521Z"
   },
   {
    "duration": 24,
    "start_time": "2022-03-31T19:02:32.533Z"
   },
   {
    "duration": 54,
    "start_time": "2022-03-31T19:02:32.559Z"
   },
   {
    "duration": 52,
    "start_time": "2022-03-31T19:02:32.616Z"
   },
   {
    "duration": 49,
    "start_time": "2022-03-31T19:02:32.670Z"
   },
   {
    "duration": 30,
    "start_time": "2022-03-31T19:02:32.721Z"
   },
   {
    "duration": 26,
    "start_time": "2022-03-31T19:02:32.754Z"
   },
   {
    "duration": 52,
    "start_time": "2022-03-31T19:02:32.782Z"
   },
   {
    "duration": 27,
    "start_time": "2022-03-31T19:02:32.836Z"
   },
   {
    "duration": 19,
    "start_time": "2022-03-31T19:02:32.865Z"
   },
   {
    "duration": 29,
    "start_time": "2022-03-31T19:02:32.910Z"
   },
   {
    "duration": 27,
    "start_time": "2022-03-31T19:02:32.942Z"
   },
   {
    "duration": 14,
    "start_time": "2022-03-31T19:02:40.199Z"
   },
   {
    "duration": 28,
    "start_time": "2022-03-31T19:03:27.280Z"
   },
   {
    "duration": 5,
    "start_time": "2022-03-31T19:03:53.394Z"
   },
   {
    "duration": 15,
    "start_time": "2022-03-31T19:03:55.917Z"
   },
   {
    "duration": 32,
    "start_time": "2022-03-31T19:06:10.809Z"
   },
   {
    "duration": 5,
    "start_time": "2022-03-31T19:06:16.869Z"
   },
   {
    "duration": 20,
    "start_time": "2022-03-31T19:06:33.516Z"
   },
   {
    "duration": 20,
    "start_time": "2022-03-31T19:06:36.809Z"
   },
   {
    "duration": 26,
    "start_time": "2022-03-31T19:06:48.604Z"
   },
   {
    "duration": 23,
    "start_time": "2022-03-31T19:26:25.541Z"
   },
   {
    "duration": 1133,
    "start_time": "2022-03-31T19:26:38.788Z"
   },
   {
    "duration": 20,
    "start_time": "2022-03-31T19:32:27.809Z"
   },
   {
    "duration": 20,
    "start_time": "2022-03-31T19:32:35.854Z"
   },
   {
    "duration": 14,
    "start_time": "2022-03-31T19:37:28.483Z"
   },
   {
    "duration": 18,
    "start_time": "2022-03-31T19:37:55.112Z"
   },
   {
    "duration": 15,
    "start_time": "2022-03-31T19:51:15.331Z"
   },
   {
    "duration": 17,
    "start_time": "2022-03-31T19:51:34.251Z"
   },
   {
    "duration": 23,
    "start_time": "2022-03-31T20:23:23.807Z"
   },
   {
    "duration": 19,
    "start_time": "2022-03-31T20:28:06.972Z"
   },
   {
    "duration": 19,
    "start_time": "2022-03-31T20:29:00.234Z"
   },
   {
    "duration": 1238,
    "start_time": "2022-03-31T20:32:11.837Z"
   },
   {
    "duration": 27,
    "start_time": "2022-03-31T20:53:31.877Z"
   },
   {
    "duration": 45,
    "start_time": "2022-04-01T04:20:28.630Z"
   },
   {
    "duration": 422,
    "start_time": "2022-04-01T04:20:37.981Z"
   },
   {
    "duration": 60,
    "start_time": "2022-04-01T04:20:38.405Z"
   },
   {
    "duration": 17,
    "start_time": "2022-04-01T04:20:38.466Z"
   },
   {
    "duration": 17,
    "start_time": "2022-04-01T04:20:38.485Z"
   },
   {
    "duration": 9,
    "start_time": "2022-04-01T04:20:38.503Z"
   },
   {
    "duration": 6,
    "start_time": "2022-04-01T04:20:38.513Z"
   },
   {
    "duration": 13,
    "start_time": "2022-04-01T04:20:38.520Z"
   },
   {
    "duration": 10,
    "start_time": "2022-04-01T04:20:38.535Z"
   },
   {
    "duration": 19,
    "start_time": "2022-04-01T04:20:38.546Z"
   },
   {
    "duration": 37,
    "start_time": "2022-04-01T04:20:38.567Z"
   },
   {
    "duration": 18,
    "start_time": "2022-04-01T04:20:38.606Z"
   },
   {
    "duration": 28,
    "start_time": "2022-04-01T04:20:38.626Z"
   },
   {
    "duration": 7,
    "start_time": "2022-04-01T04:20:38.655Z"
   },
   {
    "duration": 10,
    "start_time": "2022-04-01T04:20:38.663Z"
   },
   {
    "duration": 28,
    "start_time": "2022-04-01T04:20:38.674Z"
   },
   {
    "duration": 20,
    "start_time": "2022-04-01T04:20:38.703Z"
   },
   {
    "duration": 5,
    "start_time": "2022-04-01T04:20:38.725Z"
   },
   {
    "duration": 14,
    "start_time": "2022-04-01T04:20:38.732Z"
   },
   {
    "duration": 13,
    "start_time": "2022-04-01T04:20:38.748Z"
   },
   {
    "duration": 61,
    "start_time": "2022-04-01T04:20:38.763Z"
   },
   {
    "duration": 17,
    "start_time": "2022-04-01T04:20:38.825Z"
   },
   {
    "duration": 18,
    "start_time": "2022-04-01T04:20:38.844Z"
   },
   {
    "duration": 41,
    "start_time": "2022-04-01T04:20:38.863Z"
   },
   {
    "duration": 14,
    "start_time": "2022-04-01T04:20:38.906Z"
   },
   {
    "duration": 13,
    "start_time": "2022-04-01T04:20:38.922Z"
   },
   {
    "duration": 11,
    "start_time": "2022-04-01T04:20:38.937Z"
   },
   {
    "duration": 15,
    "start_time": "2022-04-01T04:20:38.949Z"
   },
   {
    "duration": 39,
    "start_time": "2022-04-01T04:20:38.967Z"
   },
   {
    "duration": 19,
    "start_time": "2022-04-01T04:20:39.007Z"
   },
   {
    "duration": 5,
    "start_time": "2022-04-01T04:20:39.028Z"
   },
   {
    "duration": 10,
    "start_time": "2022-04-01T04:20:39.034Z"
   },
   {
    "duration": 18,
    "start_time": "2022-04-01T04:20:39.045Z"
   },
   {
    "duration": 4,
    "start_time": "2022-04-01T04:20:39.065Z"
   },
   {
    "duration": 44,
    "start_time": "2022-04-01T04:20:39.071Z"
   },
   {
    "duration": 18,
    "start_time": "2022-04-01T04:20:39.116Z"
   },
   {
    "duration": 18,
    "start_time": "2022-04-01T04:20:39.135Z"
   },
   {
    "duration": 20,
    "start_time": "2022-04-01T04:20:39.154Z"
   },
   {
    "duration": 46,
    "start_time": "2022-04-01T04:20:39.175Z"
   },
   {
    "duration": 25,
    "start_time": "2022-04-01T04:20:39.223Z"
   },
   {
    "duration": 18,
    "start_time": "2022-04-01T04:20:39.249Z"
   },
   {
    "duration": 46,
    "start_time": "2022-04-01T04:20:39.269Z"
   },
   {
    "duration": 3860,
    "start_time": "2022-04-01T04:20:39.316Z"
   },
   {
    "duration": 32,
    "start_time": "2022-04-01T04:23:40.783Z"
   },
   {
    "duration": 553,
    "start_time": "2022-04-01T07:42:40.840Z"
   },
   {
    "duration": 74,
    "start_time": "2022-04-01T07:42:41.396Z"
   },
   {
    "duration": 37,
    "start_time": "2022-04-01T07:42:41.473Z"
   },
   {
    "duration": 41,
    "start_time": "2022-04-01T07:42:41.513Z"
   },
   {
    "duration": 19,
    "start_time": "2022-04-01T07:42:41.556Z"
   },
   {
    "duration": 27,
    "start_time": "2022-04-01T07:42:41.577Z"
   },
   {
    "duration": 22,
    "start_time": "2022-04-01T07:42:41.607Z"
   },
   {
    "duration": 22,
    "start_time": "2022-04-01T07:42:41.631Z"
   },
   {
    "duration": 33,
    "start_time": "2022-04-01T07:42:41.655Z"
   },
   {
    "duration": 13,
    "start_time": "2022-04-01T07:42:41.692Z"
   },
   {
    "duration": 40,
    "start_time": "2022-04-01T07:42:41.708Z"
   },
   {
    "duration": 67,
    "start_time": "2022-04-01T07:42:41.750Z"
   },
   {
    "duration": 9,
    "start_time": "2022-04-01T07:42:41.819Z"
   },
   {
    "duration": 33,
    "start_time": "2022-04-01T07:42:41.831Z"
   },
   {
    "duration": 21,
    "start_time": "2022-04-01T07:42:41.867Z"
   },
   {
    "duration": 45,
    "start_time": "2022-04-01T07:42:41.891Z"
   },
   {
    "duration": 11,
    "start_time": "2022-04-01T07:42:41.938Z"
   },
   {
    "duration": 47,
    "start_time": "2022-04-01T07:42:41.952Z"
   },
   {
    "duration": 23,
    "start_time": "2022-04-01T07:42:42.002Z"
   },
   {
    "duration": 58,
    "start_time": "2022-04-01T07:42:42.027Z"
   },
   {
    "duration": 30,
    "start_time": "2022-04-01T07:42:42.087Z"
   },
   {
    "duration": 33,
    "start_time": "2022-04-01T07:42:42.120Z"
   },
   {
    "duration": 53,
    "start_time": "2022-04-01T07:42:42.155Z"
   },
   {
    "duration": 23,
    "start_time": "2022-04-01T07:42:42.210Z"
   },
   {
    "duration": 55,
    "start_time": "2022-04-01T07:42:42.235Z"
   },
   {
    "duration": 19,
    "start_time": "2022-04-01T07:42:42.293Z"
   },
   {
    "duration": 30,
    "start_time": "2022-04-01T07:42:42.314Z"
   },
   {
    "duration": 43,
    "start_time": "2022-04-01T07:42:42.351Z"
   },
   {
    "duration": 39,
    "start_time": "2022-04-01T07:42:42.397Z"
   },
   {
    "duration": 8,
    "start_time": "2022-04-01T07:42:42.438Z"
   },
   {
    "duration": 37,
    "start_time": "2022-04-01T07:42:42.448Z"
   },
   {
    "duration": 41,
    "start_time": "2022-04-01T07:42:42.487Z"
   },
   {
    "duration": 27,
    "start_time": "2022-04-01T07:42:42.531Z"
   },
   {
    "duration": 38,
    "start_time": "2022-04-01T07:42:42.560Z"
   },
   {
    "duration": 47,
    "start_time": "2022-04-01T07:42:42.601Z"
   },
   {
    "duration": 39,
    "start_time": "2022-04-01T07:42:42.650Z"
   },
   {
    "duration": 49,
    "start_time": "2022-04-01T07:42:42.691Z"
   },
   {
    "duration": 33,
    "start_time": "2022-04-01T07:42:42.742Z"
   },
   {
    "duration": 34,
    "start_time": "2022-04-01T07:42:42.778Z"
   },
   {
    "duration": 29,
    "start_time": "2022-04-01T07:42:42.814Z"
   },
   {
    "duration": 530,
    "start_time": "2022-04-01T07:43:56.075Z"
   },
   {
    "duration": 85,
    "start_time": "2022-04-01T07:43:56.607Z"
   },
   {
    "duration": 29,
    "start_time": "2022-04-01T07:43:56.694Z"
   },
   {
    "duration": 21,
    "start_time": "2022-04-01T07:43:56.725Z"
   },
   {
    "duration": 42,
    "start_time": "2022-04-01T07:43:56.748Z"
   },
   {
    "duration": 8,
    "start_time": "2022-04-01T07:43:56.792Z"
   },
   {
    "duration": 23,
    "start_time": "2022-04-01T07:43:56.802Z"
   },
   {
    "duration": 21,
    "start_time": "2022-04-01T07:43:56.827Z"
   },
   {
    "duration": 48,
    "start_time": "2022-04-01T07:43:56.850Z"
   },
   {
    "duration": 11,
    "start_time": "2022-04-01T07:43:56.902Z"
   },
   {
    "duration": 27,
    "start_time": "2022-04-01T07:43:56.916Z"
   },
   {
    "duration": 75,
    "start_time": "2022-04-01T07:43:56.945Z"
   },
   {
    "duration": 8,
    "start_time": "2022-04-01T07:43:57.022Z"
   },
   {
    "duration": 15,
    "start_time": "2022-04-01T07:43:57.032Z"
   },
   {
    "duration": 35,
    "start_time": "2022-04-01T07:43:57.050Z"
   },
   {
    "duration": 34,
    "start_time": "2022-04-01T07:43:57.087Z"
   },
   {
    "duration": 14,
    "start_time": "2022-04-01T07:43:57.123Z"
   },
   {
    "duration": 49,
    "start_time": "2022-04-01T07:43:57.139Z"
   },
   {
    "duration": 20,
    "start_time": "2022-04-01T07:43:57.190Z"
   },
   {
    "duration": 39,
    "start_time": "2022-04-01T07:43:57.212Z"
   },
   {
    "duration": 56,
    "start_time": "2022-04-01T07:43:57.253Z"
   },
   {
    "duration": 31,
    "start_time": "2022-04-01T07:43:57.311Z"
   },
   {
    "duration": 49,
    "start_time": "2022-04-01T07:43:57.344Z"
   },
   {
    "duration": 20,
    "start_time": "2022-04-01T07:43:57.395Z"
   },
   {
    "duration": 19,
    "start_time": "2022-04-01T07:43:57.417Z"
   },
   {
    "duration": 50,
    "start_time": "2022-04-01T07:43:57.438Z"
   },
   {
    "duration": 23,
    "start_time": "2022-04-01T07:43:57.491Z"
   },
   {
    "duration": 21,
    "start_time": "2022-04-01T07:43:57.518Z"
   },
   {
    "duration": 61,
    "start_time": "2022-04-01T07:43:57.541Z"
   },
   {
    "duration": 8,
    "start_time": "2022-04-01T07:43:57.604Z"
   },
   {
    "duration": 19,
    "start_time": "2022-04-01T07:43:57.614Z"
   },
   {
    "duration": 53,
    "start_time": "2022-04-01T07:43:57.635Z"
   },
   {
    "duration": 8,
    "start_time": "2022-04-01T07:43:57.690Z"
   },
   {
    "duration": 29,
    "start_time": "2022-04-01T07:43:57.700Z"
   },
   {
    "duration": 52,
    "start_time": "2022-04-01T07:43:57.731Z"
   },
   {
    "duration": 21,
    "start_time": "2022-04-01T07:43:57.786Z"
   },
   {
    "duration": 31,
    "start_time": "2022-04-01T07:43:57.809Z"
   },
   {
    "duration": 65,
    "start_time": "2022-04-01T07:43:57.842Z"
   },
   {
    "duration": 28,
    "start_time": "2022-04-01T07:43:57.909Z"
   },
   {
    "duration": 49,
    "start_time": "2022-04-01T07:43:57.940Z"
   }
  ],
  "kernelspec": {
   "display_name": "Python 3 (ipykernel)",
   "language": "python",
   "name": "python3"
  },
  "language_info": {
   "codemirror_mode": {
    "name": "ipython",
    "version": 3
   },
   "file_extension": ".py",
   "mimetype": "text/x-python",
   "name": "python",
   "nbconvert_exporter": "python",
   "pygments_lexer": "ipython3",
   "version": "3.9.5"
  },
  "toc": {
   "base_numbering": 1,
   "nav_menu": {},
   "number_sections": true,
   "sideBar": true,
   "skip_h1_title": true,
   "title_cell": "Table of Contents",
   "title_sidebar": "Contents",
   "toc_cell": false,
   "toc_position": {
    "height": "calc(100% - 180px)",
    "left": "10px",
    "top": "150px",
    "width": "338px"
   },
   "toc_section_display": true,
   "toc_window_display": true
  }
 },
 "nbformat": 4,
 "nbformat_minor": 5
}
