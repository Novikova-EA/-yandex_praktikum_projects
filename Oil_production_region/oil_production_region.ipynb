{
 "cells": [
  {
   "cell_type": "markdown",
   "metadata": {},
   "source": [
    "# Определение наиболее выгодного региона нефтедобычи"
   ]
  },
  {
   "cell_type": "markdown",
   "metadata": {},
   "source": [
    "**Описание проекта:**\n",
    "\n",
    "Вы работаете в добывающей компании «ГлавРосГосНефть». Предоставлены пробы нефти в трёх регионах: в каждом 10 000 месторождений, где измерили качество нефти и объём её запасов. Нужно решить, где бурить новую скважину.\n",
    "\n",
    "**Задача:**\n",
    "\n",
    "1. Построить модель машинного обучения, которая поможет определить регион, где добыча принесёт наибольшую прибыль.\n",
    "2. Проанализировать возможную прибыль и риски техникой *Bootstrap.*\n",
    "\n",
    "Таким образом, исследование пройдёт в четыре этапа:\n",
    "\n",
    "1. Загрузка и подготовка данных.\n",
    "2. Обучение и проверка модели.\n",
    "3. Подготовка к расчету прибыли.\n",
    "4. Расчет прибыли и рисков.\n"
   ]
  },
  {
   "cell_type": "markdown",
   "metadata": {},
   "source": [
    "## Загрузка и подготовка данных"
   ]
  },
  {
   "cell_type": "markdown",
   "metadata": {},
   "source": [
    "### Изучение данных из файла"
   ]
  },
  {
   "cell_type": "code",
   "execution_count": 1,
   "metadata": {},
   "outputs": [],
   "source": [
    "import pandas as pd\n",
    "import matplotlib.pyplot as plt\n",
    "import numpy as np\n",
    "\n",
    "from sklearn.model_selection import train_test_split\n",
    "from sklearn.linear_model import LinearRegression\n",
    "from sklearn.metrics import mean_squared_error\n",
    "from scipy import stats as st\n"
   ]
  },
  {
   "cell_type": "code",
   "execution_count": 2,
   "metadata": {},
   "outputs": [],
   "source": [
    "region_0 = pd.read_csv('/datasets/geo_data_0.csv')\n",
    "region_1 = pd.read_csv('/datasets/geo_data_1.csv')\n",
    "region_2 = pd.read_csv('/datasets/geo_data_2.csv')"
   ]
  },
  {
   "cell_type": "code",
   "execution_count": 3,
   "metadata": {
    "scrolled": false
   },
   "outputs": [
    {
     "name": "stdout",
     "output_type": "stream",
     "text": [
      "\n",
      "Регион 0 \n",
      "\n",
      "Сводная информация о таблице: \n",
      "\n",
      "<class 'pandas.core.frame.DataFrame'>\n",
      "RangeIndex: 100000 entries, 0 to 99999\n",
      "Data columns (total 5 columns):\n",
      " #   Column   Non-Null Count   Dtype  \n",
      "---  ------   --------------   -----  \n",
      " 0   id       100000 non-null  object \n",
      " 1   f0       100000 non-null  float64\n",
      " 2   f1       100000 non-null  float64\n",
      " 3   f2       100000 non-null  float64\n",
      " 4   product  100000 non-null  float64\n",
      "dtypes: float64(4), object(1)\n",
      "memory usage: 3.8+ MB\n",
      "None\n",
      "\n",
      " Первые пять строк таблицы: \n",
      "\n"
     ]
    },
    {
     "data": {
      "text/html": [
       "<div>\n",
       "<style scoped>\n",
       "    .dataframe tbody tr th:only-of-type {\n",
       "        vertical-align: middle;\n",
       "    }\n",
       "\n",
       "    .dataframe tbody tr th {\n",
       "        vertical-align: top;\n",
       "    }\n",
       "\n",
       "    .dataframe thead th {\n",
       "        text-align: right;\n",
       "    }\n",
       "</style>\n",
       "<table border=\"1\" class=\"dataframe\">\n",
       "  <thead>\n",
       "    <tr style=\"text-align: right;\">\n",
       "      <th></th>\n",
       "      <th>id</th>\n",
       "      <th>f0</th>\n",
       "      <th>f1</th>\n",
       "      <th>f2</th>\n",
       "      <th>product</th>\n",
       "    </tr>\n",
       "  </thead>\n",
       "  <tbody>\n",
       "    <tr>\n",
       "      <th>0</th>\n",
       "      <td>txEyH</td>\n",
       "      <td>0.705745</td>\n",
       "      <td>-0.497823</td>\n",
       "      <td>1.221170</td>\n",
       "      <td>105.280062</td>\n",
       "    </tr>\n",
       "    <tr>\n",
       "      <th>1</th>\n",
       "      <td>2acmU</td>\n",
       "      <td>1.334711</td>\n",
       "      <td>-0.340164</td>\n",
       "      <td>4.365080</td>\n",
       "      <td>73.037750</td>\n",
       "    </tr>\n",
       "    <tr>\n",
       "      <th>2</th>\n",
       "      <td>409Wp</td>\n",
       "      <td>1.022732</td>\n",
       "      <td>0.151990</td>\n",
       "      <td>1.419926</td>\n",
       "      <td>85.265647</td>\n",
       "    </tr>\n",
       "    <tr>\n",
       "      <th>3</th>\n",
       "      <td>iJLyR</td>\n",
       "      <td>-0.032172</td>\n",
       "      <td>0.139033</td>\n",
       "      <td>2.978566</td>\n",
       "      <td>168.620776</td>\n",
       "    </tr>\n",
       "    <tr>\n",
       "      <th>4</th>\n",
       "      <td>Xdl7t</td>\n",
       "      <td>1.988431</td>\n",
       "      <td>0.155413</td>\n",
       "      <td>4.751769</td>\n",
       "      <td>154.036647</td>\n",
       "    </tr>\n",
       "  </tbody>\n",
       "</table>\n",
       "</div>"
      ],
      "text/plain": [
       "      id        f0        f1        f2     product\n",
       "0  txEyH  0.705745 -0.497823  1.221170  105.280062\n",
       "1  2acmU  1.334711 -0.340164  4.365080   73.037750\n",
       "2  409Wp  1.022732  0.151990  1.419926   85.265647\n",
       "3  iJLyR -0.032172  0.139033  2.978566  168.620776\n",
       "4  Xdl7t  1.988431  0.155413  4.751769  154.036647"
      ]
     },
     "metadata": {},
     "output_type": "display_data"
    },
    {
     "name": "stdout",
     "output_type": "stream",
     "text": [
      "\n",
      " Статистические данные: \n",
      "\n"
     ]
    },
    {
     "data": {
      "text/html": [
       "<div>\n",
       "<style scoped>\n",
       "    .dataframe tbody tr th:only-of-type {\n",
       "        vertical-align: middle;\n",
       "    }\n",
       "\n",
       "    .dataframe tbody tr th {\n",
       "        vertical-align: top;\n",
       "    }\n",
       "\n",
       "    .dataframe thead th {\n",
       "        text-align: right;\n",
       "    }\n",
       "</style>\n",
       "<table border=\"1\" class=\"dataframe\">\n",
       "  <thead>\n",
       "    <tr style=\"text-align: right;\">\n",
       "      <th></th>\n",
       "      <th>f0</th>\n",
       "      <th>f1</th>\n",
       "      <th>f2</th>\n",
       "      <th>product</th>\n",
       "    </tr>\n",
       "  </thead>\n",
       "  <tbody>\n",
       "    <tr>\n",
       "      <th>count</th>\n",
       "      <td>100000.000000</td>\n",
       "      <td>100000.000000</td>\n",
       "      <td>100000.000000</td>\n",
       "      <td>100000.000000</td>\n",
       "    </tr>\n",
       "    <tr>\n",
       "      <th>mean</th>\n",
       "      <td>0.500419</td>\n",
       "      <td>0.250143</td>\n",
       "      <td>2.502647</td>\n",
       "      <td>92.500000</td>\n",
       "    </tr>\n",
       "    <tr>\n",
       "      <th>std</th>\n",
       "      <td>0.871832</td>\n",
       "      <td>0.504433</td>\n",
       "      <td>3.248248</td>\n",
       "      <td>44.288691</td>\n",
       "    </tr>\n",
       "    <tr>\n",
       "      <th>min</th>\n",
       "      <td>-1.408605</td>\n",
       "      <td>-0.848218</td>\n",
       "      <td>-12.088328</td>\n",
       "      <td>0.000000</td>\n",
       "    </tr>\n",
       "    <tr>\n",
       "      <th>25%</th>\n",
       "      <td>-0.072580</td>\n",
       "      <td>-0.200881</td>\n",
       "      <td>0.287748</td>\n",
       "      <td>56.497507</td>\n",
       "    </tr>\n",
       "    <tr>\n",
       "      <th>50%</th>\n",
       "      <td>0.502360</td>\n",
       "      <td>0.250252</td>\n",
       "      <td>2.515969</td>\n",
       "      <td>91.849972</td>\n",
       "    </tr>\n",
       "    <tr>\n",
       "      <th>75%</th>\n",
       "      <td>1.073581</td>\n",
       "      <td>0.700646</td>\n",
       "      <td>4.715088</td>\n",
       "      <td>128.564089</td>\n",
       "    </tr>\n",
       "    <tr>\n",
       "      <th>max</th>\n",
       "      <td>2.362331</td>\n",
       "      <td>1.343769</td>\n",
       "      <td>16.003790</td>\n",
       "      <td>185.364347</td>\n",
       "    </tr>\n",
       "  </tbody>\n",
       "</table>\n",
       "</div>"
      ],
      "text/plain": [
       "                  f0             f1             f2        product\n",
       "count  100000.000000  100000.000000  100000.000000  100000.000000\n",
       "mean        0.500419       0.250143       2.502647      92.500000\n",
       "std         0.871832       0.504433       3.248248      44.288691\n",
       "min        -1.408605      -0.848218     -12.088328       0.000000\n",
       "25%        -0.072580      -0.200881       0.287748      56.497507\n",
       "50%         0.502360       0.250252       2.515969      91.849972\n",
       "75%         1.073581       0.700646       4.715088     128.564089\n",
       "max         2.362331       1.343769      16.003790     185.364347"
      ]
     },
     "metadata": {},
     "output_type": "display_data"
    },
    {
     "name": "stdout",
     "output_type": "stream",
     "text": [
      "\n",
      " Дубликаты: 0 \n",
      "\n",
      "\n",
      "Регион 1 \n",
      "\n",
      "Сводная информация о таблице: \n",
      "\n",
      "<class 'pandas.core.frame.DataFrame'>\n",
      "RangeIndex: 100000 entries, 0 to 99999\n",
      "Data columns (total 5 columns):\n",
      " #   Column   Non-Null Count   Dtype  \n",
      "---  ------   --------------   -----  \n",
      " 0   id       100000 non-null  object \n",
      " 1   f0       100000 non-null  float64\n",
      " 2   f1       100000 non-null  float64\n",
      " 3   f2       100000 non-null  float64\n",
      " 4   product  100000 non-null  float64\n",
      "dtypes: float64(4), object(1)\n",
      "memory usage: 3.8+ MB\n",
      "None\n",
      "\n",
      " Первые пять строк таблицы: \n",
      "\n"
     ]
    },
    {
     "data": {
      "text/html": [
       "<div>\n",
       "<style scoped>\n",
       "    .dataframe tbody tr th:only-of-type {\n",
       "        vertical-align: middle;\n",
       "    }\n",
       "\n",
       "    .dataframe tbody tr th {\n",
       "        vertical-align: top;\n",
       "    }\n",
       "\n",
       "    .dataframe thead th {\n",
       "        text-align: right;\n",
       "    }\n",
       "</style>\n",
       "<table border=\"1\" class=\"dataframe\">\n",
       "  <thead>\n",
       "    <tr style=\"text-align: right;\">\n",
       "      <th></th>\n",
       "      <th>id</th>\n",
       "      <th>f0</th>\n",
       "      <th>f1</th>\n",
       "      <th>f2</th>\n",
       "      <th>product</th>\n",
       "    </tr>\n",
       "  </thead>\n",
       "  <tbody>\n",
       "    <tr>\n",
       "      <th>0</th>\n",
       "      <td>kBEdx</td>\n",
       "      <td>-15.001348</td>\n",
       "      <td>-8.276000</td>\n",
       "      <td>-0.005876</td>\n",
       "      <td>3.179103</td>\n",
       "    </tr>\n",
       "    <tr>\n",
       "      <th>1</th>\n",
       "      <td>62mP7</td>\n",
       "      <td>14.272088</td>\n",
       "      <td>-3.475083</td>\n",
       "      <td>0.999183</td>\n",
       "      <td>26.953261</td>\n",
       "    </tr>\n",
       "    <tr>\n",
       "      <th>2</th>\n",
       "      <td>vyE1P</td>\n",
       "      <td>6.263187</td>\n",
       "      <td>-5.948386</td>\n",
       "      <td>5.001160</td>\n",
       "      <td>134.766305</td>\n",
       "    </tr>\n",
       "    <tr>\n",
       "      <th>3</th>\n",
       "      <td>KcrkZ</td>\n",
       "      <td>-13.081196</td>\n",
       "      <td>-11.506057</td>\n",
       "      <td>4.999415</td>\n",
       "      <td>137.945408</td>\n",
       "    </tr>\n",
       "    <tr>\n",
       "      <th>4</th>\n",
       "      <td>AHL4O</td>\n",
       "      <td>12.702195</td>\n",
       "      <td>-8.147433</td>\n",
       "      <td>5.004363</td>\n",
       "      <td>134.766305</td>\n",
       "    </tr>\n",
       "  </tbody>\n",
       "</table>\n",
       "</div>"
      ],
      "text/plain": [
       "      id         f0         f1        f2     product\n",
       "0  kBEdx -15.001348  -8.276000 -0.005876    3.179103\n",
       "1  62mP7  14.272088  -3.475083  0.999183   26.953261\n",
       "2  vyE1P   6.263187  -5.948386  5.001160  134.766305\n",
       "3  KcrkZ -13.081196 -11.506057  4.999415  137.945408\n",
       "4  AHL4O  12.702195  -8.147433  5.004363  134.766305"
      ]
     },
     "metadata": {},
     "output_type": "display_data"
    },
    {
     "name": "stdout",
     "output_type": "stream",
     "text": [
      "\n",
      " Статистические данные: \n",
      "\n"
     ]
    },
    {
     "data": {
      "text/html": [
       "<div>\n",
       "<style scoped>\n",
       "    .dataframe tbody tr th:only-of-type {\n",
       "        vertical-align: middle;\n",
       "    }\n",
       "\n",
       "    .dataframe tbody tr th {\n",
       "        vertical-align: top;\n",
       "    }\n",
       "\n",
       "    .dataframe thead th {\n",
       "        text-align: right;\n",
       "    }\n",
       "</style>\n",
       "<table border=\"1\" class=\"dataframe\">\n",
       "  <thead>\n",
       "    <tr style=\"text-align: right;\">\n",
       "      <th></th>\n",
       "      <th>f0</th>\n",
       "      <th>f1</th>\n",
       "      <th>f2</th>\n",
       "      <th>product</th>\n",
       "    </tr>\n",
       "  </thead>\n",
       "  <tbody>\n",
       "    <tr>\n",
       "      <th>count</th>\n",
       "      <td>100000.000000</td>\n",
       "      <td>100000.000000</td>\n",
       "      <td>100000.000000</td>\n",
       "      <td>100000.000000</td>\n",
       "    </tr>\n",
       "    <tr>\n",
       "      <th>mean</th>\n",
       "      <td>1.141296</td>\n",
       "      <td>-4.796579</td>\n",
       "      <td>2.494541</td>\n",
       "      <td>68.825000</td>\n",
       "    </tr>\n",
       "    <tr>\n",
       "      <th>std</th>\n",
       "      <td>8.965932</td>\n",
       "      <td>5.119872</td>\n",
       "      <td>1.703572</td>\n",
       "      <td>45.944423</td>\n",
       "    </tr>\n",
       "    <tr>\n",
       "      <th>min</th>\n",
       "      <td>-31.609576</td>\n",
       "      <td>-26.358598</td>\n",
       "      <td>-0.018144</td>\n",
       "      <td>0.000000</td>\n",
       "    </tr>\n",
       "    <tr>\n",
       "      <th>25%</th>\n",
       "      <td>-6.298551</td>\n",
       "      <td>-8.267985</td>\n",
       "      <td>1.000021</td>\n",
       "      <td>26.953261</td>\n",
       "    </tr>\n",
       "    <tr>\n",
       "      <th>50%</th>\n",
       "      <td>1.153055</td>\n",
       "      <td>-4.813172</td>\n",
       "      <td>2.011479</td>\n",
       "      <td>57.085625</td>\n",
       "    </tr>\n",
       "    <tr>\n",
       "      <th>75%</th>\n",
       "      <td>8.621015</td>\n",
       "      <td>-1.332816</td>\n",
       "      <td>3.999904</td>\n",
       "      <td>107.813044</td>\n",
       "    </tr>\n",
       "    <tr>\n",
       "      <th>max</th>\n",
       "      <td>29.421755</td>\n",
       "      <td>18.734063</td>\n",
       "      <td>5.019721</td>\n",
       "      <td>137.945408</td>\n",
       "    </tr>\n",
       "  </tbody>\n",
       "</table>\n",
       "</div>"
      ],
      "text/plain": [
       "                  f0             f1             f2        product\n",
       "count  100000.000000  100000.000000  100000.000000  100000.000000\n",
       "mean        1.141296      -4.796579       2.494541      68.825000\n",
       "std         8.965932       5.119872       1.703572      45.944423\n",
       "min       -31.609576     -26.358598      -0.018144       0.000000\n",
       "25%        -6.298551      -8.267985       1.000021      26.953261\n",
       "50%         1.153055      -4.813172       2.011479      57.085625\n",
       "75%         8.621015      -1.332816       3.999904     107.813044\n",
       "max        29.421755      18.734063       5.019721     137.945408"
      ]
     },
     "metadata": {},
     "output_type": "display_data"
    },
    {
     "name": "stdout",
     "output_type": "stream",
     "text": [
      "\n",
      " Дубликаты: 0 \n",
      "\n",
      "\n",
      "Регион 2 \n",
      "\n",
      "Сводная информация о таблице: \n",
      "\n",
      "<class 'pandas.core.frame.DataFrame'>\n",
      "RangeIndex: 100000 entries, 0 to 99999\n",
      "Data columns (total 5 columns):\n",
      " #   Column   Non-Null Count   Dtype  \n",
      "---  ------   --------------   -----  \n",
      " 0   id       100000 non-null  object \n",
      " 1   f0       100000 non-null  float64\n",
      " 2   f1       100000 non-null  float64\n",
      " 3   f2       100000 non-null  float64\n",
      " 4   product  100000 non-null  float64\n",
      "dtypes: float64(4), object(1)\n",
      "memory usage: 3.8+ MB\n",
      "None\n",
      "\n",
      " Первые пять строк таблицы: \n",
      "\n"
     ]
    },
    {
     "data": {
      "text/html": [
       "<div>\n",
       "<style scoped>\n",
       "    .dataframe tbody tr th:only-of-type {\n",
       "        vertical-align: middle;\n",
       "    }\n",
       "\n",
       "    .dataframe tbody tr th {\n",
       "        vertical-align: top;\n",
       "    }\n",
       "\n",
       "    .dataframe thead th {\n",
       "        text-align: right;\n",
       "    }\n",
       "</style>\n",
       "<table border=\"1\" class=\"dataframe\">\n",
       "  <thead>\n",
       "    <tr style=\"text-align: right;\">\n",
       "      <th></th>\n",
       "      <th>id</th>\n",
       "      <th>f0</th>\n",
       "      <th>f1</th>\n",
       "      <th>f2</th>\n",
       "      <th>product</th>\n",
       "    </tr>\n",
       "  </thead>\n",
       "  <tbody>\n",
       "    <tr>\n",
       "      <th>0</th>\n",
       "      <td>fwXo0</td>\n",
       "      <td>-1.146987</td>\n",
       "      <td>0.963328</td>\n",
       "      <td>-0.828965</td>\n",
       "      <td>27.758673</td>\n",
       "    </tr>\n",
       "    <tr>\n",
       "      <th>1</th>\n",
       "      <td>WJtFt</td>\n",
       "      <td>0.262778</td>\n",
       "      <td>0.269839</td>\n",
       "      <td>-2.530187</td>\n",
       "      <td>56.069697</td>\n",
       "    </tr>\n",
       "    <tr>\n",
       "      <th>2</th>\n",
       "      <td>ovLUW</td>\n",
       "      <td>0.194587</td>\n",
       "      <td>0.289035</td>\n",
       "      <td>-5.586433</td>\n",
       "      <td>62.871910</td>\n",
       "    </tr>\n",
       "    <tr>\n",
       "      <th>3</th>\n",
       "      <td>q6cA6</td>\n",
       "      <td>2.236060</td>\n",
       "      <td>-0.553760</td>\n",
       "      <td>0.930038</td>\n",
       "      <td>114.572842</td>\n",
       "    </tr>\n",
       "    <tr>\n",
       "      <th>4</th>\n",
       "      <td>WPMUX</td>\n",
       "      <td>-0.515993</td>\n",
       "      <td>1.716266</td>\n",
       "      <td>5.899011</td>\n",
       "      <td>149.600746</td>\n",
       "    </tr>\n",
       "  </tbody>\n",
       "</table>\n",
       "</div>"
      ],
      "text/plain": [
       "      id        f0        f1        f2     product\n",
       "0  fwXo0 -1.146987  0.963328 -0.828965   27.758673\n",
       "1  WJtFt  0.262778  0.269839 -2.530187   56.069697\n",
       "2  ovLUW  0.194587  0.289035 -5.586433   62.871910\n",
       "3  q6cA6  2.236060 -0.553760  0.930038  114.572842\n",
       "4  WPMUX -0.515993  1.716266  5.899011  149.600746"
      ]
     },
     "metadata": {},
     "output_type": "display_data"
    },
    {
     "name": "stdout",
     "output_type": "stream",
     "text": [
      "\n",
      " Статистические данные: \n",
      "\n"
     ]
    },
    {
     "data": {
      "text/html": [
       "<div>\n",
       "<style scoped>\n",
       "    .dataframe tbody tr th:only-of-type {\n",
       "        vertical-align: middle;\n",
       "    }\n",
       "\n",
       "    .dataframe tbody tr th {\n",
       "        vertical-align: top;\n",
       "    }\n",
       "\n",
       "    .dataframe thead th {\n",
       "        text-align: right;\n",
       "    }\n",
       "</style>\n",
       "<table border=\"1\" class=\"dataframe\">\n",
       "  <thead>\n",
       "    <tr style=\"text-align: right;\">\n",
       "      <th></th>\n",
       "      <th>f0</th>\n",
       "      <th>f1</th>\n",
       "      <th>f2</th>\n",
       "      <th>product</th>\n",
       "    </tr>\n",
       "  </thead>\n",
       "  <tbody>\n",
       "    <tr>\n",
       "      <th>count</th>\n",
       "      <td>100000.000000</td>\n",
       "      <td>100000.000000</td>\n",
       "      <td>100000.000000</td>\n",
       "      <td>100000.000000</td>\n",
       "    </tr>\n",
       "    <tr>\n",
       "      <th>mean</th>\n",
       "      <td>0.002023</td>\n",
       "      <td>-0.002081</td>\n",
       "      <td>2.495128</td>\n",
       "      <td>95.000000</td>\n",
       "    </tr>\n",
       "    <tr>\n",
       "      <th>std</th>\n",
       "      <td>1.732045</td>\n",
       "      <td>1.730417</td>\n",
       "      <td>3.473445</td>\n",
       "      <td>44.749921</td>\n",
       "    </tr>\n",
       "    <tr>\n",
       "      <th>min</th>\n",
       "      <td>-8.760004</td>\n",
       "      <td>-7.084020</td>\n",
       "      <td>-11.970335</td>\n",
       "      <td>0.000000</td>\n",
       "    </tr>\n",
       "    <tr>\n",
       "      <th>25%</th>\n",
       "      <td>-1.162288</td>\n",
       "      <td>-1.174820</td>\n",
       "      <td>0.130359</td>\n",
       "      <td>59.450441</td>\n",
       "    </tr>\n",
       "    <tr>\n",
       "      <th>50%</th>\n",
       "      <td>0.009424</td>\n",
       "      <td>-0.009482</td>\n",
       "      <td>2.484236</td>\n",
       "      <td>94.925613</td>\n",
       "    </tr>\n",
       "    <tr>\n",
       "      <th>75%</th>\n",
       "      <td>1.158535</td>\n",
       "      <td>1.163678</td>\n",
       "      <td>4.858794</td>\n",
       "      <td>130.595027</td>\n",
       "    </tr>\n",
       "    <tr>\n",
       "      <th>max</th>\n",
       "      <td>7.238262</td>\n",
       "      <td>7.844801</td>\n",
       "      <td>16.739402</td>\n",
       "      <td>190.029838</td>\n",
       "    </tr>\n",
       "  </tbody>\n",
       "</table>\n",
       "</div>"
      ],
      "text/plain": [
       "                  f0             f1             f2        product\n",
       "count  100000.000000  100000.000000  100000.000000  100000.000000\n",
       "mean        0.002023      -0.002081       2.495128      95.000000\n",
       "std         1.732045       1.730417       3.473445      44.749921\n",
       "min        -8.760004      -7.084020     -11.970335       0.000000\n",
       "25%        -1.162288      -1.174820       0.130359      59.450441\n",
       "50%         0.009424      -0.009482       2.484236      94.925613\n",
       "75%         1.158535       1.163678       4.858794     130.595027\n",
       "max         7.238262       7.844801      16.739402     190.029838"
      ]
     },
     "metadata": {},
     "output_type": "display_data"
    },
    {
     "name": "stdout",
     "output_type": "stream",
     "text": [
      "\n",
      " Дубликаты: 0 \n",
      "\n"
     ]
    }
   ],
   "source": [
    "regions = [region_0, region_1, region_2]\n",
    "region_num = 0\n",
    "for region in regions:\n",
    "    print()\n",
    "    print('Регион', region_num, \"\\n\")\n",
    "    print('Сводная информация о таблице:', \"\\n\")\n",
    "    print(region.info())\n",
    "    print(\"\\n\", 'Первые пять строк таблицы:', \"\\n\")\n",
    "    display(region.head())\n",
    "    print(\"\\n\", 'Статистические данные:', \"\\n\")\n",
    "    display(region.describe()) \n",
    "    print(\"\\n\", 'Дубликаты:', region.duplicated().sum(), \"\\n\")\n",
    "    region_num += 1"
   ]
  },
  {
   "cell_type": "markdown",
   "metadata": {},
   "source": [
    "**Вывод** \n",
    "\n",
    "Представлено три файла с информацией по трем регионам. Каждый файл содержит таблицы с данными о 10 000 месторождений, в которых измерили качество нефти и объем ее запасов.\n",
    "\n",
    "Каждая таблица содержит 5 столбцов (1 столбец имеет тип данных object, 4 столбца float).\n",
    "\n",
    "Пропущенные значения и дубликаты не обнаружены.\n",
    "\n",
    "Средние и медианные значения в таблицах близки, следовательно выбросы маловероятны.\n",
    "\n",
    "Признаки:\n",
    "*\t`id` — уникальный идентификатор скважины;     \n",
    "*   `f0`       \n",
    "*   `f1` \n",
    "*   `f2` \n",
    "\n",
    "Целевой признак:\n",
    "*\t`product` — объём запасов в скважине (тыс. баррелей)."
   ]
  },
  {
   "cell_type": "markdown",
   "metadata": {},
   "source": [
    "### Подготовка данных"
   ]
  },
  {
   "cell_type": "markdown",
   "metadata": {},
   "source": [
    "Признак  **id** (уникальный идентификатор скважины) является лишним, так как он уникален. Создадим переменные без него по каждому региону."
   ]
  },
  {
   "cell_type": "code",
   "execution_count": 4,
   "metadata": {},
   "outputs": [
    {
     "name": "stdout",
     "output_type": "stream",
     "text": [
      "(100000, 4)\n"
     ]
    },
    {
     "data": {
      "text/html": [
       "<div>\n",
       "<style scoped>\n",
       "    .dataframe tbody tr th:only-of-type {\n",
       "        vertical-align: middle;\n",
       "    }\n",
       "\n",
       "    .dataframe tbody tr th {\n",
       "        vertical-align: top;\n",
       "    }\n",
       "\n",
       "    .dataframe thead th {\n",
       "        text-align: right;\n",
       "    }\n",
       "</style>\n",
       "<table border=\"1\" class=\"dataframe\">\n",
       "  <thead>\n",
       "    <tr style=\"text-align: right;\">\n",
       "      <th></th>\n",
       "      <th>f0</th>\n",
       "      <th>f1</th>\n",
       "      <th>f2</th>\n",
       "      <th>product</th>\n",
       "    </tr>\n",
       "  </thead>\n",
       "  <tbody>\n",
       "    <tr>\n",
       "      <th>0</th>\n",
       "      <td>0.705745</td>\n",
       "      <td>-0.497823</td>\n",
       "      <td>1.221170</td>\n",
       "      <td>105.280062</td>\n",
       "    </tr>\n",
       "    <tr>\n",
       "      <th>1</th>\n",
       "      <td>1.334711</td>\n",
       "      <td>-0.340164</td>\n",
       "      <td>4.365080</td>\n",
       "      <td>73.037750</td>\n",
       "    </tr>\n",
       "    <tr>\n",
       "      <th>2</th>\n",
       "      <td>1.022732</td>\n",
       "      <td>0.151990</td>\n",
       "      <td>1.419926</td>\n",
       "      <td>85.265647</td>\n",
       "    </tr>\n",
       "    <tr>\n",
       "      <th>3</th>\n",
       "      <td>-0.032172</td>\n",
       "      <td>0.139033</td>\n",
       "      <td>2.978566</td>\n",
       "      <td>168.620776</td>\n",
       "    </tr>\n",
       "    <tr>\n",
       "      <th>4</th>\n",
       "      <td>1.988431</td>\n",
       "      <td>0.155413</td>\n",
       "      <td>4.751769</td>\n",
       "      <td>154.036647</td>\n",
       "    </tr>\n",
       "  </tbody>\n",
       "</table>\n",
       "</div>"
      ],
      "text/plain": [
       "         f0        f1        f2     product\n",
       "0  0.705745 -0.497823  1.221170  105.280062\n",
       "1  1.334711 -0.340164  4.365080   73.037750\n",
       "2  1.022732  0.151990  1.419926   85.265647\n",
       "3 -0.032172  0.139033  2.978566  168.620776\n",
       "4  1.988431  0.155413  4.751769  154.036647"
      ]
     },
     "execution_count": 4,
     "metadata": {},
     "output_type": "execute_result"
    }
   ],
   "source": [
    "region_0_drop = region_0.drop('id', axis=1)\n",
    "region_1_drop = region_1.drop('id', axis=1)\n",
    "region_2_drop = region_2.drop('id', axis=1)\n",
    "print(region_0_drop.shape)\n",
    "region_0_drop.head()"
   ]
  },
  {
   "cell_type": "markdown",
   "metadata": {},
   "source": [
    "## Обучение и проверка модели"
   ]
  },
  {
   "cell_type": "markdown",
   "metadata": {},
   "source": [
    "### Разделение данных на выборки"
   ]
  },
  {
   "cell_type": "markdown",
   "metadata": {},
   "source": [
    "Создадим переменные для признаков и целевого признака для  обучающей и валидационной выборки по каждому региону. Для этого создадим функцию."
   ]
  },
  {
   "cell_type": "code",
   "execution_count": 5,
   "metadata": {},
   "outputs": [],
   "source": [
    "def split (region):\n",
    "    features = region.drop('product', axis=1)\n",
    "    target = region['product']\n",
    "    \n",
    "    features_train, features_valid, target_train, target_valid = train_test_split(\n",
    "        features, target, test_size=0.25, random_state=12345)\n",
    "      \n",
    "    return features_train, features_valid, target_train, target_valid   "
   ]
  },
  {
   "cell_type": "code",
   "execution_count": 6,
   "metadata": {
    "scrolled": true
   },
   "outputs": [
    {
     "name": "stdout",
     "output_type": "stream",
     "text": [
      "(75000, 3)\n",
      "(25000, 3)\n",
      "(75000,)\n",
      "(25000,)\n"
     ]
    }
   ],
   "source": [
    "features_train_0, features_valid_0, target_train_0, target_valid_0 = split(region_0_drop)\n",
    "features_train_1, features_valid_1, target_train_1, target_valid_1 = split(region_1_drop)\n",
    "features_train_2, features_valid_2, target_train_2, target_valid_2 = split(region_2_drop)\n",
    "\n",
    "print(features_train_0.shape)\n",
    "print(features_valid_0.shape)\n",
    "print(target_train_0.shape)\n",
    "print(target_valid_0.shape)"
   ]
  },
  {
   "cell_type": "markdown",
   "metadata": {},
   "source": [
    "### Обучение и проверка модели"
   ]
  },
  {
   "cell_type": "code",
   "execution_count": 7,
   "metadata": {},
   "outputs": [],
   "source": [
    "def model_fit(features_train, features_valid, target_train, target_valid):\n",
    "    \n",
    "    model = LinearRegression() \n",
    "    model.fit(features_train, target_train)\n",
    "    predicted_valid = model.predict(features_valid)\n",
    "\n",
    "    rmse = mean_squared_error(target_valid, predicted_valid)**0.5 \n",
    "    mean_pred_product = predicted_valid.mean()\n",
    "    \n",
    "    return predicted_valid, rmse, mean_pred_product"
   ]
  },
  {
   "cell_type": "code",
   "execution_count": 8,
   "metadata": {},
   "outputs": [
    {
     "name": "stdout",
     "output_type": "stream",
     "text": [
      "Регион 0: \n",
      " * средний запас предсказанного сырья - 92.59 \n",
      " * RMSE модели - 37.58 \n",
      "\n",
      "Регион 1: \n",
      " * средний запас предсказанного сырья - 68.73 \n",
      " * RMSE модели - 0.89 \n",
      "\n",
      "Регион 2: \n",
      " * средний запас предсказанного сырья - 94.97 \n",
      " * RMSE модели - 40.03 \n",
      "\n"
     ]
    }
   ],
   "source": [
    "predicted_valid_0, rmse_0, mean_pred_pr_0 = model_fit(features_train_0, features_valid_0, target_train_0, target_valid_0)\n",
    "predicted_valid_1, rmse_1, mean_pred_pr_1 = model_fit(features_train_1, features_valid_1, target_train_1, target_valid_1)\n",
    "predicted_valid_2, rmse_2, mean_pred_pr_2 = model_fit(features_train_2, features_valid_2, target_train_2, target_valid_2)\n",
    "print('Регион 0:' , \"\\n\", '* средний запас предсказанного сырья -', round(mean_pred_pr_0, 2),\n",
    "      \"\\n\", '* RMSE модели -', round(rmse_0, 2), \"\\n\") \n",
    "print('Регион 1:' , \"\\n\", '* средний запас предсказанного сырья -', round(mean_pred_pr_1, 2),\n",
    "      \"\\n\", '* RMSE модели -', round(rmse_1, 2), \"\\n\")       \n",
    "print('Регион 2:' , \"\\n\", '* средний запас предсказанного сырья -', round(mean_pred_pr_2, 2),\n",
    "      \"\\n\", '* RMSE модели -', round(rmse_2, 2), \"\\n\")       "
   ]
  },
  {
   "cell_type": "markdown",
   "metadata": {},
   "source": [
    "Таким образом, наилучший прогноз модель дала в **регионе 1** (RMSE модели - 0.89). "
   ]
  },
  {
   "cell_type": "markdown",
   "metadata": {},
   "source": [
    "## Подготовка к расчёту прибыли"
   ]
  },
  {
   "cell_type": "markdown",
   "metadata": {},
   "source": [
    "Введем переменные для расчетов."
   ]
  },
  {
   "cell_type": "code",
   "execution_count": 9,
   "metadata": {},
   "outputs": [],
   "source": [
    "BUDGET = 10000000000 #бюджет на разработку\n",
    "BOREHOLE_RESEARCH = 500 #исследуемые скважины\n",
    "BOREHOLE_BEST = 200 #лучшие скважины для разработки\n",
    "COST_UNIT_PROD = 450000 #стоимость единицы сырья (1 тыс. баррелей)"
   ]
  },
  {
   "cell_type": "markdown",
   "metadata": {},
   "source": [
    "Рассчитаем достаточный объём сырья для безубыточной разработки новой скважины. "
   ]
  },
  {
   "cell_type": "code",
   "execution_count": 10,
   "metadata": {},
   "outputs": [
    {
     "data": {
      "text/plain": [
       "111.111"
      ]
     },
     "execution_count": 10,
     "metadata": {},
     "output_type": "execute_result"
    }
   ],
   "source": [
    "min_volume_prod = BUDGET / BOREHOLE_BEST / COST_UNIT_PROD\n",
    "round(min_volume_prod, 3)"
   ]
  },
  {
   "cell_type": "markdown",
   "metadata": {},
   "source": [
    "Минимальный объем сырья в скважине для безубыточной разработки составляет 111 тыс. баррелей, средний запас предсказанного сырья по всем трем регионам меньше минимального объема, следовательно необходимо определить скважины с высокими запасами нефти."
   ]
  },
  {
   "cell_type": "markdown",
   "metadata": {},
   "source": [
    "Напишим функцию для расчёта прибыли по выбранным скважинам и предсказаниям модели."
   ]
  },
  {
   "cell_type": "code",
   "execution_count": 11,
   "metadata": {},
   "outputs": [],
   "source": [
    "def profit(target, predicted, count):\n",
    "    target = pd.Series(target).reset_index(drop=True)\n",
    "    predicted = pd.Series(predicted).reset_index(drop=True)\n",
    "    predicted_sorted = predicted.sort_values(ascending=False)\n",
    "    selected = target[predicted_sorted.index][:count].sum()\n",
    "    profit =  selected * COST_UNIT_PROD - BUDGET\n",
    "    return profit"
   ]
  },
  {
   "cell_type": "markdown",
   "metadata": {},
   "source": [
    "## Расчёт прибыли и рисков "
   ]
  },
  {
   "cell_type": "markdown",
   "metadata": {},
   "source": [
    "Применим технику Bootstrap с 1000 выборок, чтобы найти распределение прибыли. Найдем среднюю прибыль, 95%-й доверительный интервал и риск убытков."
   ]
  },
  {
   "cell_type": "code",
   "execution_count": 12,
   "metadata": {},
   "outputs": [],
   "source": [
    "target_valid_0 = pd.Series(target_valid_0)\n",
    "predicted_valid_0 = pd.Series(predicted_valid_0)\n",
    "\n",
    "target_valid_1 = pd.Series(target_valid_1)\n",
    "predicted_valid_1 = pd.Series(predicted_valid_1)\n",
    "\n",
    "target_valid_2 = pd.Series(target_valid_2)\n",
    "predicted_valid_2 = pd.Series(predicted_valid_2)\n",
    "\n",
    "def bootstrap(target, predicted):\n",
    " \n",
    "    state = np.random.RandomState(12345)\n",
    "    values =[]\n",
    " \n",
    "    for i in range(1000):\n",
    "        target_subsample = target.sample(BOREHOLE_RESEARCH, random_state=state, replace=True)\n",
    "        probs_subsample = predicted[target_subsample.index]\n",
    "        values.append(profit(target_subsample, probs_subsample, BOREHOLE_BEST))\n",
    "    \n",
    "    values = pd.Series(values)\n",
    "    mean = values.mean()\n",
    "    risk = (values < 0).mean()\n",
    "    \n",
    "    lower = values.quantile(0.025)\n",
    "    upper = values.quantile(0.975)\n",
    " \n",
    "    return mean, risk, lower, upper\n",
    "    \n"
   ]
  },
  {
   "cell_type": "code",
   "execution_count": 13,
   "metadata": {},
   "outputs": [],
   "source": [
    "mean_0, risk_0, lower_0, upper_0 = bootstrap(target_valid_0.reset_index(drop=True), predicted_valid_0)\n",
    "mean_1, risk_1, lower_1, upper_1 = bootstrap(target_valid_1.reset_index(drop=True), predicted_valid_1)\n",
    "mean_2, risk_2, lower_2, upper_2 = bootstrap(target_valid_2.reset_index(drop=True), predicted_valid_2)"
   ]
  },
  {
   "cell_type": "code",
   "execution_count": 14,
   "metadata": {
    "scrolled": true
   },
   "outputs": [
    {
     "name": "stdout",
     "output_type": "stream",
     "text": [
      "Регион 0: \n",
      " * Средняя прибыль: 396164984.8 \n",
      " * 95%-ый доверительный интервал: от  -111215545.89049526 до  909766941.5534226 \n",
      " * Вероятность убытков: 0.069 \n",
      "\n",
      "Регион 1: \n",
      " * Средняя прибыль: 456045105.79 \n",
      " * 95%-ый доверительный интервал: от  33820509.39898363 до  852289453.866036 \n",
      " * Вероятность убытков: 0.015 \n",
      "\n",
      "Регион 2: \n",
      " * Средняя прибыль: 404403866.57 \n",
      " * 95%-ый доверительный интервал: от  -163350413.39560106 до  950359574.9237995 \n",
      " * Вероятность убытков: 0.076 \n",
      "\n"
     ]
    }
   ],
   "source": [
    "print('Регион 0:' , \"\\n\", '* Средняя прибыль:', round(mean_0, 2), \"\\n\", \n",
    "      '* 95%-ый доверительный интервал:', 'от ', lower_0, 'до ',  upper_0, \"\\n\", \n",
    "      '* Вероятность убытков:', risk_0, \"\\n\")\n",
    "print('Регион 1:' , \"\\n\", '* Средняя прибыль:', round(mean_1, 2), \"\\n\", \n",
    "      '* 95%-ый доверительный интервал:',  'от ', lower_1, 'до ',  upper_1, \"\\n\",\n",
    "      '* Вероятность убытков:', risk_1, \"\\n\")\n",
    "print('Регион 2:' , \"\\n\", '* Средняя прибыль:', round(mean_2, 2), \"\\n\", \n",
    "      '* 95%-ый доверительный интервал:',  'от ', lower_2, 'до ',  upper_2, \"\\n\",\n",
    "      '* Вероятность убытков:', risk_2, \"\\n\")"
   ]
  },
  {
   "cell_type": "markdown",
   "metadata": {},
   "source": [
    "## Заключение"
   ]
  },
  {
   "cell_type": "markdown",
   "metadata": {},
   "source": [
    "Проведен анализ данных о пробах нефти в трёх регионах: в каждом 10 000 месторождений, где измерено качество нефти и объём её запасов. \n",
    "\n",
    "Построена модель машинного обучения, которая помогла определить регион, где добыча принесёт наибольшую прибыль. \n",
    "\n",
    "**Результат, в разрезе регионов:**\n",
    "\n",
    "Регион 0: \n",
    " * средний запас предсказанного сырья - 92.59 \n",
    " * RMSE модели - 37.58 \n",
    " * Средняя прибыль: 396164984.8 \n",
    " * 95%-ый доверительный интервал: от  -111215545.89049526 до  909766941.5534226 \n",
    " * Вероятность убытков: 0.069 \n",
    "\n",
    "Регион 1: \n",
    " * средний запас предсказанного сырья - 68.73 \n",
    " * RMSE модели - 0.89 \n",
    " * Средняя прибыль: 456045105.79 \n",
    " * 95%-ый доверительный интервал: от  33820509.39898363 до  852289453.866036 \n",
    " * Вероятность убытков: 0.015 \n",
    "\n",
    "Регион 2:\n",
    " * средний запас предсказанного сырья - 94.97 \n",
    " * RMSE модели - 40.03 \n",
    " * Средняя прибыль: 404403866.57 \n",
    " * 95%-ый доверительный интервал: от  -163350413.39560106 до  950359574.9237995 \n",
    " * Вероятность убытков: 0.076 \n",
    "\n",
    " \n",
    " **Вывод:**\n",
    "\n",
    "На основании вышеперечисленных результатов, лучший регион для разработки скважин - это **Регион 1**:\n",
    " * наилучший прогноз модель дала в этом регионе (RMSE модели - 0.89);\n",
    " * вероятность убытков меньше 2.5% - 1.5%;\n",
    " * самая высокая средняя прибыль: 456045105.79 руб."
   ]
  }
 ],
 "metadata": {
  "ExecuteTimeLog": [
   {
    "duration": 1671,
    "start_time": "2022-06-21T08:42:14.037Z"
   },
   {
    "duration": 750,
    "start_time": "2022-06-21T08:42:17.648Z"
   },
   {
    "duration": 3,
    "start_time": "2022-06-21T08:42:20.988Z"
   },
   {
    "duration": 3,
    "start_time": "2022-06-21T08:42:58.734Z"
   },
   {
    "duration": 56,
    "start_time": "2022-06-21T08:55:08.596Z"
   },
   {
    "duration": 145,
    "start_time": "2022-06-21T08:55:45.512Z"
   },
   {
    "duration": 130,
    "start_time": "2022-06-21T08:58:33.108Z"
   },
   {
    "duration": 163,
    "start_time": "2022-06-21T09:02:25.735Z"
   },
   {
    "duration": 165,
    "start_time": "2022-06-21T09:02:38.771Z"
   },
   {
    "duration": 176,
    "start_time": "2022-06-21T09:02:44.535Z"
   },
   {
    "duration": 105,
    "start_time": "2022-06-21T09:07:43.635Z"
   },
   {
    "duration": 431,
    "start_time": "2022-06-21T09:08:31.188Z"
   },
   {
    "duration": 176,
    "start_time": "2022-06-21T09:08:35.123Z"
   },
   {
    "duration": 147,
    "start_time": "2022-06-21T09:09:40.079Z"
   },
   {
    "duration": 166,
    "start_time": "2022-06-21T09:19:51.718Z"
   },
   {
    "duration": 169,
    "start_time": "2022-06-21T09:21:36.420Z"
   },
   {
    "duration": 915,
    "start_time": "2022-06-21T09:28:03.906Z"
   },
   {
    "duration": 182,
    "start_time": "2022-06-21T09:29:32.003Z"
   },
   {
    "duration": 9,
    "start_time": "2022-06-21T09:39:48.251Z"
   },
   {
    "duration": 12,
    "start_time": "2022-06-21T09:47:13.944Z"
   },
   {
    "duration": 167,
    "start_time": "2022-06-21T09:49:38.074Z"
   },
   {
    "duration": 163,
    "start_time": "2022-06-21T10:31:22.393Z"
   },
   {
    "duration": 154,
    "start_time": "2022-06-21T10:31:42.406Z"
   },
   {
    "duration": 14,
    "start_time": "2022-06-21T10:33:47.547Z"
   },
   {
    "duration": 47,
    "start_time": "2022-06-21T10:46:28.003Z"
   },
   {
    "duration": 46,
    "start_time": "2022-06-21T10:47:42.817Z"
   },
   {
    "duration": 175,
    "start_time": "2022-06-21T10:48:03.608Z"
   },
   {
    "duration": 1199,
    "start_time": "2022-06-21T10:50:36.028Z"
   },
   {
    "duration": 9,
    "start_time": "2022-06-21T10:54:15.165Z"
   },
   {
    "duration": 10,
    "start_time": "2022-06-21T11:04:58.187Z"
   },
   {
    "duration": 182,
    "start_time": "2022-06-21T11:05:15.875Z"
   },
   {
    "duration": 56,
    "start_time": "2022-06-21T11:05:43.275Z"
   },
   {
    "duration": 153,
    "start_time": "2022-06-21T11:06:00.519Z"
   },
   {
    "duration": 162,
    "start_time": "2022-06-21T11:07:32.635Z"
   },
   {
    "duration": 176,
    "start_time": "2022-06-21T11:10:03.612Z"
   },
   {
    "duration": 144,
    "start_time": "2022-06-21T11:11:08.758Z"
   },
   {
    "duration": 158,
    "start_time": "2022-06-21T11:11:53.126Z"
   },
   {
    "duration": 159,
    "start_time": "2022-06-21T11:12:22.151Z"
   },
   {
    "duration": 146,
    "start_time": "2022-06-21T11:14:45.270Z"
   },
   {
    "duration": 163,
    "start_time": "2022-06-21T11:15:41.309Z"
   },
   {
    "duration": 122,
    "start_time": "2022-06-21T11:49:48.396Z"
   },
   {
    "duration": 152,
    "start_time": "2022-06-21T11:57:22.188Z"
   },
   {
    "duration": 128,
    "start_time": "2022-06-21T11:57:36.046Z"
   },
   {
    "duration": 190,
    "start_time": "2022-06-21T11:58:29.821Z"
   },
   {
    "duration": 141,
    "start_time": "2022-06-21T11:59:18.389Z"
   },
   {
    "duration": 152,
    "start_time": "2022-06-21T11:59:31.188Z"
   },
   {
    "duration": 138,
    "start_time": "2022-06-21T12:01:15.023Z"
   },
   {
    "duration": 126,
    "start_time": "2022-06-21T12:02:16.736Z"
   },
   {
    "duration": 133,
    "start_time": "2022-06-21T12:03:10.683Z"
   },
   {
    "duration": 133,
    "start_time": "2022-06-21T12:03:38.447Z"
   },
   {
    "duration": 142,
    "start_time": "2022-06-21T12:04:26.158Z"
   },
   {
    "duration": 132,
    "start_time": "2022-06-21T12:04:38.246Z"
   },
   {
    "duration": 122,
    "start_time": "2022-06-21T12:05:06.590Z"
   },
   {
    "duration": 194,
    "start_time": "2022-06-21T12:05:48.281Z"
   },
   {
    "duration": 160,
    "start_time": "2022-06-21T12:06:27.994Z"
   },
   {
    "duration": 222,
    "start_time": "2022-06-21T12:07:04.327Z"
   },
   {
    "duration": 193,
    "start_time": "2022-06-21T12:07:45.948Z"
   },
   {
    "duration": 173,
    "start_time": "2022-06-21T12:08:30.232Z"
   },
   {
    "duration": 180,
    "start_time": "2022-06-21T12:09:08.011Z"
   },
   {
    "duration": 182,
    "start_time": "2022-06-21T12:09:36.426Z"
   },
   {
    "duration": 360,
    "start_time": "2022-06-21T12:10:22.427Z"
   },
   {
    "duration": 222,
    "start_time": "2022-06-21T12:10:24.535Z"
   },
   {
    "duration": 154,
    "start_time": "2022-06-21T12:11:09.686Z"
   },
   {
    "duration": 170,
    "start_time": "2022-06-21T12:11:26.186Z"
   },
   {
    "duration": 168,
    "start_time": "2022-06-21T12:13:07.282Z"
   },
   {
    "duration": 162,
    "start_time": "2022-06-21T12:16:25.052Z"
   },
   {
    "duration": 135,
    "start_time": "2022-06-21T12:17:38.515Z"
   },
   {
    "duration": 129,
    "start_time": "2022-06-21T12:46:11.233Z"
   },
   {
    "duration": 132,
    "start_time": "2022-06-21T12:47:25.390Z"
   },
   {
    "duration": 151,
    "start_time": "2022-06-21T12:48:02.419Z"
   },
   {
    "duration": 122,
    "start_time": "2022-06-21T12:48:46.108Z"
   },
   {
    "duration": 130,
    "start_time": "2022-06-21T12:50:08.645Z"
   },
   {
    "duration": 125,
    "start_time": "2022-06-21T12:51:52.735Z"
   },
   {
    "duration": 155,
    "start_time": "2022-06-21T12:52:47.809Z"
   },
   {
    "duration": 148,
    "start_time": "2022-06-21T12:53:29.595Z"
   },
   {
    "duration": 201,
    "start_time": "2022-06-21T12:54:11.449Z"
   },
   {
    "duration": 50,
    "start_time": "2022-06-21T13:00:20.602Z"
   },
   {
    "duration": 297,
    "start_time": "2022-06-21T13:00:51.941Z"
   },
   {
    "duration": 282,
    "start_time": "2022-06-21T13:02:23.807Z"
   },
   {
    "duration": 10,
    "start_time": "2022-06-21T15:50:43.815Z"
   },
   {
    "duration": 12,
    "start_time": "2022-06-21T15:51:04.880Z"
   },
   {
    "duration": 15,
    "start_time": "2022-06-21T15:53:39.186Z"
   },
   {
    "duration": 3,
    "start_time": "2022-06-21T20:44:58.900Z"
   },
   {
    "duration": 28,
    "start_time": "2022-06-21T20:45:00.236Z"
   },
   {
    "duration": 4,
    "start_time": "2022-06-21T20:51:22.536Z"
   },
   {
    "duration": 38,
    "start_time": "2022-06-21T20:51:24.702Z"
   },
   {
    "duration": 8,
    "start_time": "2022-06-22T05:56:10.865Z"
   },
   {
    "duration": 3,
    "start_time": "2022-06-22T06:15:00.075Z"
   },
   {
    "duration": 62,
    "start_time": "2022-06-22T06:29:39.313Z"
   },
   {
    "duration": 1832,
    "start_time": "2022-06-22T06:29:49.965Z"
   },
   {
    "duration": 2211,
    "start_time": "2022-06-22T06:29:51.799Z"
   },
   {
    "duration": 373,
    "start_time": "2022-06-22T06:29:54.012Z"
   },
   {
    "duration": 24,
    "start_time": "2022-06-22T06:29:54.387Z"
   },
   {
    "duration": 29,
    "start_time": "2022-06-22T06:29:54.413Z"
   },
   {
    "duration": 63,
    "start_time": "2022-06-22T06:29:54.444Z"
   },
   {
    "duration": 4,
    "start_time": "2022-06-22T06:30:06.608Z"
   },
   {
    "duration": 80,
    "start_time": "2022-06-22T06:30:07.964Z"
   },
   {
    "duration": 6,
    "start_time": "2022-06-22T06:32:22.458Z"
   },
   {
    "duration": 4,
    "start_time": "2022-06-22T06:32:35.768Z"
   },
   {
    "duration": 208,
    "start_time": "2022-06-22T06:32:37.228Z"
   },
   {
    "duration": 207,
    "start_time": "2022-06-22T06:41:24.247Z"
   },
   {
    "duration": 50,
    "start_time": "2022-06-22T06:41:36.508Z"
   },
   {
    "duration": 35,
    "start_time": "2022-06-22T06:42:05.657Z"
   },
   {
    "duration": 117,
    "start_time": "2022-06-22T06:48:13.116Z"
   },
   {
    "duration": 9,
    "start_time": "2022-06-23T07:23:16.755Z"
   },
   {
    "duration": 4,
    "start_time": "2022-06-23T07:23:20.981Z"
   },
   {
    "duration": 12,
    "start_time": "2022-06-23T07:23:35.947Z"
   },
   {
    "duration": 3,
    "start_time": "2022-06-23T07:25:59.007Z"
   },
   {
    "duration": 5,
    "start_time": "2022-06-23T07:26:00.947Z"
   },
   {
    "duration": 1758,
    "start_time": "2022-06-23T11:57:22.102Z"
   },
   {
    "duration": 1980,
    "start_time": "2022-06-23T11:57:23.862Z"
   },
   {
    "duration": 333,
    "start_time": "2022-06-23T11:57:25.844Z"
   },
   {
    "duration": 19,
    "start_time": "2022-06-23T11:57:26.183Z"
   },
   {
    "duration": 22,
    "start_time": "2022-06-23T11:57:26.203Z"
   },
   {
    "duration": 53,
    "start_time": "2022-06-23T11:57:26.226Z"
   },
   {
    "duration": 13,
    "start_time": "2022-06-23T11:57:26.288Z"
   },
   {
    "duration": 254,
    "start_time": "2022-06-23T11:57:26.308Z"
   },
   {
    "duration": 14,
    "start_time": "2022-06-23T11:57:26.567Z"
   },
   {
    "duration": 121,
    "start_time": "2022-06-23T11:57:26.584Z"
   },
   {
    "duration": 84,
    "start_time": "2022-06-23T11:58:37.417Z"
   },
   {
    "duration": 7,
    "start_time": "2022-06-23T11:58:50.189Z"
   },
   {
    "duration": 129,
    "start_time": "2022-06-23T12:03:57.808Z"
   },
   {
    "duration": 3,
    "start_time": "2022-06-23T12:06:58.745Z"
   },
   {
    "duration": 23,
    "start_time": "2022-06-23T12:07:00.197Z"
   },
   {
    "duration": 3,
    "start_time": "2022-06-23T12:09:49.384Z"
   },
   {
    "duration": 12,
    "start_time": "2022-06-23T12:09:55.992Z"
   },
   {
    "duration": 61,
    "start_time": "2022-06-23T12:11:35.505Z"
   },
   {
    "duration": 28,
    "start_time": "2022-06-23T12:11:35.604Z"
   },
   {
    "duration": 21,
    "start_time": "2022-06-23T12:12:01.461Z"
   },
   {
    "duration": 23,
    "start_time": "2022-06-23T12:12:03.688Z"
   },
   {
    "duration": 3,
    "start_time": "2022-06-23T15:21:28.513Z"
   },
   {
    "duration": 11,
    "start_time": "2022-06-23T15:21:36.597Z"
   },
   {
    "duration": 4,
    "start_time": "2022-06-23T15:26:09.462Z"
   },
   {
    "duration": 15,
    "start_time": "2022-06-23T15:26:13.072Z"
   },
   {
    "duration": 3,
    "start_time": "2022-06-23T15:27:21.393Z"
   },
   {
    "duration": 13,
    "start_time": "2022-06-23T15:27:24.610Z"
   },
   {
    "duration": 8,
    "start_time": "2022-06-23T15:27:44.827Z"
   },
   {
    "duration": 4,
    "start_time": "2022-06-23T15:29:28.204Z"
   },
   {
    "duration": 16,
    "start_time": "2022-06-23T15:29:42.545Z"
   },
   {
    "duration": 12,
    "start_time": "2022-06-23T15:50:27.003Z"
   },
   {
    "duration": 69,
    "start_time": "2022-06-23T15:52:24.592Z"
   },
   {
    "duration": 149,
    "start_time": "2022-06-23T16:38:21.331Z"
   },
   {
    "duration": 4,
    "start_time": "2022-06-23T16:42:18.525Z"
   },
   {
    "duration": 130,
    "start_time": "2022-06-23T16:42:23.308Z"
   },
   {
    "duration": 15,
    "start_time": "2022-06-23T16:42:50.957Z"
   },
   {
    "duration": 12,
    "start_time": "2022-06-23T16:43:02.837Z"
   },
   {
    "duration": 31,
    "start_time": "2022-06-23T16:43:45.029Z"
   },
   {
    "duration": 12,
    "start_time": "2022-06-23T16:44:06.506Z"
   },
   {
    "duration": 12,
    "start_time": "2022-06-23T16:44:14.529Z"
   },
   {
    "duration": 23,
    "start_time": "2022-06-23T16:46:01.731Z"
   },
   {
    "duration": 11,
    "start_time": "2022-06-23T16:47:15.305Z"
   },
   {
    "duration": 35,
    "start_time": "2022-06-23T16:47:18.289Z"
   },
   {
    "duration": 7,
    "start_time": "2022-06-23T16:48:05.109Z"
   },
   {
    "duration": 25,
    "start_time": "2022-06-23T16:48:07.082Z"
   },
   {
    "duration": 21,
    "start_time": "2022-06-23T16:51:40.099Z"
   },
   {
    "duration": 6,
    "start_time": "2022-06-23T16:56:50.027Z"
   },
   {
    "duration": 508,
    "start_time": "2022-06-23T16:56:50.035Z"
   },
   {
    "duration": 430,
    "start_time": "2022-06-23T16:56:50.552Z"
   },
   {
    "duration": 21,
    "start_time": "2022-06-23T16:56:50.987Z"
   },
   {
    "duration": 97,
    "start_time": "2022-06-23T16:56:51.012Z"
   },
   {
    "duration": 37,
    "start_time": "2022-06-23T16:56:51.116Z"
   },
   {
    "duration": 5,
    "start_time": "2022-06-23T16:56:51.159Z"
   },
   {
    "duration": 373,
    "start_time": "2022-06-23T16:56:51.169Z"
   },
   {
    "duration": 15,
    "start_time": "2022-06-23T16:56:51.547Z"
   },
   {
    "duration": 63,
    "start_time": "2022-06-23T16:56:51.597Z"
   },
   {
    "duration": 68,
    "start_time": "2022-06-23T16:56:51.664Z"
   },
   {
    "duration": 13,
    "start_time": "2022-06-23T16:56:51.735Z"
   },
   {
    "duration": 5,
    "start_time": "2022-06-23T16:57:13.729Z"
   },
   {
    "duration": 31,
    "start_time": "2022-06-23T16:58:29.063Z"
   },
   {
    "duration": 7,
    "start_time": "2022-06-23T16:59:42.298Z"
   },
   {
    "duration": 30,
    "start_time": "2022-06-23T16:59:50.408Z"
   },
   {
    "duration": 27,
    "start_time": "2022-06-23T16:59:50.494Z"
   },
   {
    "duration": 1497,
    "start_time": "2022-06-23T17:05:33.314Z"
   },
   {
    "duration": 4,
    "start_time": "2022-06-23T17:07:38.130Z"
   },
   {
    "duration": 1510,
    "start_time": "2022-06-23T17:08:14.722Z"
   },
   {
    "duration": 9,
    "start_time": "2022-06-23T17:08:34.762Z"
   },
   {
    "duration": 5,
    "start_time": "2022-06-23T20:47:46.598Z"
   },
   {
    "duration": 1328,
    "start_time": "2022-06-23T20:47:47.783Z"
   },
   {
    "duration": 12,
    "start_time": "2022-06-23T20:47:49.153Z"
   },
   {
    "duration": 5,
    "start_time": "2022-06-23T20:49:20.543Z"
   },
   {
    "duration": 3777,
    "start_time": "2022-06-23T20:50:55.344Z"
   },
   {
    "duration": 11,
    "start_time": "2022-06-23T20:52:00.088Z"
   },
   {
    "duration": 14,
    "start_time": "2022-06-23T20:57:24.348Z"
   },
   {
    "duration": 1410,
    "start_time": "2022-06-23T20:57:24.365Z"
   },
   {
    "duration": 356,
    "start_time": "2022-06-23T20:57:25.777Z"
   },
   {
    "duration": 56,
    "start_time": "2022-06-23T20:57:26.135Z"
   },
   {
    "duration": 38,
    "start_time": "2022-06-23T20:57:26.197Z"
   },
   {
    "duration": 77,
    "start_time": "2022-06-23T20:57:26.237Z"
   },
   {
    "duration": 9,
    "start_time": "2022-06-23T20:57:26.317Z"
   },
   {
    "duration": 78,
    "start_time": "2022-06-23T20:57:26.329Z"
   },
   {
    "duration": 10,
    "start_time": "2022-06-23T20:57:26.465Z"
   },
   {
    "duration": 124,
    "start_time": "2022-06-23T20:57:26.484Z"
   },
   {
    "duration": 8,
    "start_time": "2022-06-23T20:57:26.610Z"
   },
   {
    "duration": 17,
    "start_time": "2022-06-23T20:57:26.621Z"
   },
   {
    "duration": 4747,
    "start_time": "2022-06-23T20:57:26.641Z"
   },
   {
    "duration": 13,
    "start_time": "2022-06-23T20:57:36.580Z"
   },
   {
    "duration": 32,
    "start_time": "2022-06-23T20:58:42.369Z"
   },
   {
    "duration": 4339,
    "start_time": "2022-06-23T20:59:17.785Z"
   },
   {
    "duration": 4,
    "start_time": "2022-06-23T21:27:56.527Z"
   },
   {
    "duration": 12,
    "start_time": "2022-06-23T21:37:32.804Z"
   },
   {
    "duration": 7,
    "start_time": "2022-06-23T21:45:27.501Z"
   },
   {
    "duration": 3921,
    "start_time": "2022-06-23T21:45:29.311Z"
   },
   {
    "duration": 20,
    "start_time": "2022-06-23T21:45:33.234Z"
   },
   {
    "duration": 5,
    "start_time": "2022-06-23T22:08:42.514Z"
   },
   {
    "duration": 5,
    "start_time": "2022-06-23T22:09:41.503Z"
   },
   {
    "duration": 514,
    "start_time": "2022-06-23T22:09:41.510Z"
   },
   {
    "duration": 393,
    "start_time": "2022-06-23T22:09:42.027Z"
   },
   {
    "duration": 38,
    "start_time": "2022-06-23T22:09:42.427Z"
   },
   {
    "duration": 15,
    "start_time": "2022-06-23T22:09:42.477Z"
   },
   {
    "duration": 86,
    "start_time": "2022-06-23T22:09:42.502Z"
   },
   {
    "duration": 8,
    "start_time": "2022-06-23T22:09:42.593Z"
   },
   {
    "duration": 151,
    "start_time": "2022-06-23T22:09:42.603Z"
   },
   {
    "duration": 4,
    "start_time": "2022-06-23T22:09:42.756Z"
   },
   {
    "duration": 98,
    "start_time": "2022-06-23T22:09:42.762Z"
   },
   {
    "duration": 57,
    "start_time": "2022-06-23T22:09:42.862Z"
   },
   {
    "duration": 8,
    "start_time": "2022-06-23T22:09:42.921Z"
   },
   {
    "duration": 4154,
    "start_time": "2022-06-23T22:09:42.931Z"
   },
   {
    "duration": 11,
    "start_time": "2022-06-23T22:09:47.086Z"
   },
   {
    "duration": 39,
    "start_time": "2022-06-23T22:09:47.099Z"
   },
   {
    "duration": 60,
    "start_time": "2022-06-25T19:49:33.653Z"
   },
   {
    "duration": 79,
    "start_time": "2022-06-25T19:52:43.160Z"
   },
   {
    "duration": 102,
    "start_time": "2022-06-25T20:05:40.231Z"
   },
   {
    "duration": 1637,
    "start_time": "2022-06-25T20:07:53.780Z"
   },
   {
    "duration": 2084,
    "start_time": "2022-06-25T20:07:55.419Z"
   },
   {
    "duration": 321,
    "start_time": "2022-06-25T20:07:57.504Z"
   },
   {
    "duration": 31,
    "start_time": "2022-06-25T20:07:57.827Z"
   },
   {
    "duration": 6,
    "start_time": "2022-06-25T20:07:57.859Z"
   },
   {
    "duration": 44,
    "start_time": "2022-06-25T20:07:57.866Z"
   },
   {
    "duration": 4,
    "start_time": "2022-06-25T20:07:57.912Z"
   },
   {
    "duration": 329,
    "start_time": "2022-06-25T20:07:57.917Z"
   },
   {
    "duration": 4,
    "start_time": "2022-06-25T20:07:58.248Z"
   },
   {
    "duration": 9,
    "start_time": "2022-06-25T20:07:58.343Z"
   },
   {
    "duration": 10,
    "start_time": "2022-06-25T20:07:58.354Z"
   },
   {
    "duration": 10,
    "start_time": "2022-06-25T20:07:58.366Z"
   },
   {
    "duration": 3736,
    "start_time": "2022-06-25T20:07:58.378Z"
   },
   {
    "duration": 9,
    "start_time": "2022-06-25T20:08:02.115Z"
   },
   {
    "duration": 81,
    "start_time": "2022-06-25T20:08:02.127Z"
   },
   {
    "duration": 11,
    "start_time": "2022-06-25T20:09:09.022Z"
   },
   {
    "duration": 10,
    "start_time": "2022-06-25T20:09:44.000Z"
   },
   {
    "duration": 1881,
    "start_time": "2023-02-08T11:57:28.490Z"
   },
   {
    "duration": 1630,
    "start_time": "2023-02-08T11:57:30.373Z"
   },
   {
    "duration": 357,
    "start_time": "2023-02-08T11:57:32.005Z"
   },
   {
    "duration": 29,
    "start_time": "2023-02-08T11:57:32.364Z"
   },
   {
    "duration": 23,
    "start_time": "2023-02-08T11:57:32.394Z"
   },
   {
    "duration": 58,
    "start_time": "2023-02-08T11:57:32.418Z"
   },
   {
    "duration": 5,
    "start_time": "2023-02-08T11:57:32.478Z"
   },
   {
    "duration": 121,
    "start_time": "2023-02-08T11:57:32.485Z"
   },
   {
    "duration": 89,
    "start_time": "2023-02-08T11:57:32.607Z"
   },
   {
    "duration": 93,
    "start_time": "2023-02-08T11:57:32.704Z"
   },
   {
    "duration": 10,
    "start_time": "2023-02-08T11:57:32.798Z"
   },
   {
    "duration": 12,
    "start_time": "2023-02-08T11:57:32.810Z"
   },
   {
    "duration": 3522,
    "start_time": "2023-02-08T11:57:32.823Z"
   },
   {
    "duration": 9,
    "start_time": "2023-02-08T11:57:36.346Z"
   }
  ],
  "kernelspec": {
   "display_name": "Python 3 (ipykernel)",
   "language": "python",
   "name": "python3"
  },
  "language_info": {
   "codemirror_mode": {
    "name": "ipython",
    "version": 3
   },
   "file_extension": ".py",
   "mimetype": "text/x-python",
   "name": "python",
   "nbconvert_exporter": "python",
   "pygments_lexer": "ipython3",
   "version": "3.9.5"
  },
  "toc": {
   "base_numbering": 1,
   "nav_menu": {},
   "number_sections": true,
   "sideBar": true,
   "skip_h1_title": true,
   "title_cell": "Table of Contents",
   "title_sidebar": "Contents",
   "toc_cell": false,
   "toc_position": {
    "height": "calc(100% - 180px)",
    "left": "10px",
    "top": "150px",
    "width": "319.016px"
   },
   "toc_section_display": true,
   "toc_window_display": true
  }
 },
 "nbformat": 4,
 "nbformat_minor": 2
}
