{
 "cells": [
  {
   "cell_type": "markdown",
   "metadata": {},
   "source": [
    "# Обучение модели классификации комментариев"
   ]
  },
  {
   "cell_type": "markdown",
   "metadata": {},
   "source": [
    "**Описание проекта**\n",
    "\n",
    "Интернет-магазин «Викишоп» запускает новый сервис. Теперь пользователи могут редактировать и дополнять описания товаров, как в вики-сообществах. То есть клиенты предлагают свои правки и комментируют изменения других. Требуется инструмент, который будет искать токсичные комментарии и отправлять их на модерацию. \n",
    "\n",
    "Необходимо обучить модель классифицировать комментарии на позитивные и негативные со значением метрики качества *F1* не меньше 0.75. В распоряжении набор данных с разметкой о токсичности правок.\n",
    "\n",
    "**Задача**\n",
    "\n",
    "Определение токсичности комментариев.\n",
    "\n",
    "**Описание данных**\n",
    "\n",
    "Данные находятся в файле `toxic_comments.csv`. Столбец *text* в нём содержит текст комментария, а *toxic* — целевой признак.\n",
    "\n",
    "Таким образом, исследование пройдёт в три этапа:\n",
    "\n",
    "1. Загрузка и подготовка данных.\n",
    "2. Обучение моделей.\n",
    "3. Тестирование лучшей модели."
   ]
  },
  {
   "cell_type": "markdown",
   "metadata": {},
   "source": [
    "## Загрузка и подготовка данных"
   ]
  },
  {
   "cell_type": "code",
   "execution_count": 1,
   "metadata": {},
   "outputs": [
    {
     "name": "stderr",
     "output_type": "stream",
     "text": [
      "[nltk_data] Downloading package averaged_perceptron_tagger to\n",
      "[nltk_data]     /home/jovyan/nltk_data...\n",
      "[nltk_data]   Unzipping taggers/averaged_perceptron_tagger.zip.\n"
     ]
    }
   ],
   "source": [
    "import pandas as pd\n",
    "import numpy as np\n",
    "import matplotlib.pyplot as plt\n",
    "import re\n",
    "\n",
    "import nltk\n",
    "from nltk.stem import WordNetLemmatizer\n",
    "nltk.download('averaged_perceptron_tagger')\n",
    "from nltk.corpus import wordnet\n",
    "from nltk.corpus import stopwords as nltk_stopwords\n",
    "from nltk.tokenize import word_tokenize\n",
    "\n",
    "from sklearn.feature_extraction.text import TfidfVectorizer\n",
    "from sklearn.metrics import f1_score\n",
    "from sklearn.metrics import accuracy_score \n",
    "from sklearn.metrics import roc_auc_score\n",
    "from sklearn.model_selection import cross_val_score\n",
    "from sklearn.model_selection import train_test_split\n",
    "from sklearn.utils import shuffle\n",
    "from sklearn.model_selection import GridSearchCV\n",
    "from sklearn.linear_model import LogisticRegression\n",
    "from sklearn.ensemble import RandomForestClassifier\n",
    "\n",
    "import warnings\n",
    "warnings.filterwarnings('ignore')"
   ]
  },
  {
   "cell_type": "code",
   "execution_count": 2,
   "metadata": {
    "scrolled": true
   },
   "outputs": [
    {
     "name": "stdout",
     "output_type": "stream",
     "text": [
      "(159292, 2)\n"
     ]
    },
    {
     "data": {
      "text/html": [
       "<div>\n",
       "<style scoped>\n",
       "    .dataframe tbody tr th:only-of-type {\n",
       "        vertical-align: middle;\n",
       "    }\n",
       "\n",
       "    .dataframe tbody tr th {\n",
       "        vertical-align: top;\n",
       "    }\n",
       "\n",
       "    .dataframe thead th {\n",
       "        text-align: right;\n",
       "    }\n",
       "</style>\n",
       "<table border=\"1\" class=\"dataframe\">\n",
       "  <thead>\n",
       "    <tr style=\"text-align: right;\">\n",
       "      <th></th>\n",
       "      <th>text</th>\n",
       "      <th>toxic</th>\n",
       "    </tr>\n",
       "  </thead>\n",
       "  <tbody>\n",
       "    <tr>\n",
       "      <th>0</th>\n",
       "      <td>Explanation\\nWhy the edits made under my usern...</td>\n",
       "      <td>0</td>\n",
       "    </tr>\n",
       "    <tr>\n",
       "      <th>1</th>\n",
       "      <td>D'aww! He matches this background colour I'm s...</td>\n",
       "      <td>0</td>\n",
       "    </tr>\n",
       "    <tr>\n",
       "      <th>2</th>\n",
       "      <td>Hey man, I'm really not trying to edit war. It...</td>\n",
       "      <td>0</td>\n",
       "    </tr>\n",
       "    <tr>\n",
       "      <th>3</th>\n",
       "      <td>\"\\nMore\\nI can't make any real suggestions on ...</td>\n",
       "      <td>0</td>\n",
       "    </tr>\n",
       "    <tr>\n",
       "      <th>4</th>\n",
       "      <td>You, sir, are my hero. Any chance you remember...</td>\n",
       "      <td>0</td>\n",
       "    </tr>\n",
       "  </tbody>\n",
       "</table>\n",
       "</div>"
      ],
      "text/plain": [
       "                                                text  toxic\n",
       "0  Explanation\\nWhy the edits made under my usern...      0\n",
       "1  D'aww! He matches this background colour I'm s...      0\n",
       "2  Hey man, I'm really not trying to edit war. It...      0\n",
       "3  \"\\nMore\\nI can't make any real suggestions on ...      0\n",
       "4  You, sir, are my hero. Any chance you remember...      0"
      ]
     },
     "execution_count": 2,
     "metadata": {},
     "output_type": "execute_result"
    }
   ],
   "source": [
    "df = pd.read_csv(\"/datasets/toxic_comments.csv\", index_col=0)\n",
    "print(df.shape)\n",
    "df.head()"
   ]
  },
  {
   "cell_type": "code",
   "execution_count": 3,
   "metadata": {
    "scrolled": true
   },
   "outputs": [
    {
     "name": "stdout",
     "output_type": "stream",
     "text": [
      "<class 'pandas.core.frame.DataFrame'>\n",
      "Int64Index: 159292 entries, 0 to 159450\n",
      "Data columns (total 2 columns):\n",
      " #   Column  Non-Null Count   Dtype \n",
      "---  ------  --------------   ----- \n",
      " 0   text    159292 non-null  object\n",
      " 1   toxic   159292 non-null  int64 \n",
      "dtypes: int64(1), object(1)\n",
      "memory usage: 3.6+ MB\n"
     ]
    }
   ],
   "source": [
    "df.info()"
   ]
  },
  {
   "cell_type": "code",
   "execution_count": 4,
   "metadata": {
    "scrolled": true
   },
   "outputs": [
    {
     "data": {
      "text/plain": [
       "0"
      ]
     },
     "execution_count": 4,
     "metadata": {},
     "output_type": "execute_result"
    }
   ],
   "source": [
    "df.duplicated().sum()"
   ]
  },
  {
   "cell_type": "markdown",
   "metadata": {},
   "source": [
    "**Вывод** \n",
    "\n",
    "Файл содержит 2 столбца, из них 1 столбец имеют тип данных int64, 1 столбец object и  159292 строки. \n",
    "\n",
    "Столбец **text**  содержит текст комментария, а **toxic** — целевой признак.\n",
    "\n",
    "Дубликаты не найдены. Пропущенные значения не обнаружены. "
   ]
  },
  {
   "cell_type": "markdown",
   "metadata": {},
   "source": [
    "**Исследуем баланс классов, проверим как часто в целевом признаке встречается клас \"1\" и \"0.**"
   ]
  },
  {
   "cell_type": "code",
   "execution_count": 5,
   "metadata": {
    "scrolled": true
   },
   "outputs": [
    {
     "name": "stdout",
     "output_type": "stream",
     "text": [
      "0    0.898388\n",
      "1    0.101612\n",
      "Name: toxic, dtype: float64\n"
     ]
    },
    {
     "data": {
      "image/png": "[encoded data removed]",
      "text/plain": [
       "<Figure size 432x288 with 1 Axes>"
      ]
     },
     "metadata": {
      "needs_background": "light"
     },
     "output_type": "display_data"
    }
   ],
   "source": [
    "class_frequency = df['toxic'].value_counts(normalize=True)\n",
    "print(class_frequency)\n",
    "class_frequency.plot(kind='bar', title='Распределение классов в целевом признаке')\n",
    "plt.show()"
   ]
  },
  {
   "cell_type": "markdown",
   "metadata": {},
   "source": [
    "**Наблюдается сильный дисбаланс классов, соотношение классов 9:1.**\n",
    "\n",
    "Приведем слова к нижнему регистру."
   ]
  },
  {
   "cell_type": "code",
   "execution_count": 6,
   "metadata": {
    "scrolled": true
   },
   "outputs": [
    {
     "data": {
      "text/html": [
       "<div>\n",
       "<style scoped>\n",
       "    .dataframe tbody tr th:only-of-type {\n",
       "        vertical-align: middle;\n",
       "    }\n",
       "\n",
       "    .dataframe tbody tr th {\n",
       "        vertical-align: top;\n",
       "    }\n",
       "\n",
       "    .dataframe thead th {\n",
       "        text-align: right;\n",
       "    }\n",
       "</style>\n",
       "<table border=\"1\" class=\"dataframe\">\n",
       "  <thead>\n",
       "    <tr style=\"text-align: right;\">\n",
       "      <th></th>\n",
       "      <th>text</th>\n",
       "      <th>toxic</th>\n",
       "    </tr>\n",
       "  </thead>\n",
       "  <tbody>\n",
       "    <tr>\n",
       "      <th>0</th>\n",
       "      <td>explanation\\nwhy the edits made under my usern...</td>\n",
       "      <td>0</td>\n",
       "    </tr>\n",
       "    <tr>\n",
       "      <th>1</th>\n",
       "      <td>d'aww! he matches this background colour i'm s...</td>\n",
       "      <td>0</td>\n",
       "    </tr>\n",
       "    <tr>\n",
       "      <th>2</th>\n",
       "      <td>hey man, i'm really not trying to edit war. it...</td>\n",
       "      <td>0</td>\n",
       "    </tr>\n",
       "    <tr>\n",
       "      <th>3</th>\n",
       "      <td>\"\\nmore\\ni can't make any real suggestions on ...</td>\n",
       "      <td>0</td>\n",
       "    </tr>\n",
       "    <tr>\n",
       "      <th>4</th>\n",
       "      <td>you, sir, are my hero. any chance you remember...</td>\n",
       "      <td>0</td>\n",
       "    </tr>\n",
       "  </tbody>\n",
       "</table>\n",
       "</div>"
      ],
      "text/plain": [
       "                                                text  toxic\n",
       "0  explanation\\nwhy the edits made under my usern...      0\n",
       "1  d'aww! he matches this background colour i'm s...      0\n",
       "2  hey man, i'm really not trying to edit war. it...      0\n",
       "3  \"\\nmore\\ni can't make any real suggestions on ...      0\n",
       "4  you, sir, are my hero. any chance you remember...      0"
      ]
     },
     "execution_count": 6,
     "metadata": {},
     "output_type": "execute_result"
    }
   ],
   "source": [
    "df['text'] = df['text'].str.lower()\n",
    "df.head()"
   ]
  },
  {
   "cell_type": "markdown",
   "metadata": {},
   "source": [
    "Создадим столбец **lemm_text** с лемматизированным текстом."
   ]
  },
  {
   "cell_type": "code",
   "execution_count": 7,
   "metadata": {},
   "outputs": [],
   "source": [
    "def get_wordnet_pos(word):\n",
    "   \n",
    "    tag = nltk.pos_tag([word])[0][1][0].upper()\n",
    "    tag_dict = {\"J\": wordnet.ADJ,\n",
    "                \"N\": wordnet.NOUN,\n",
    "                \"V\": wordnet.VERB,\n",
    "                \"R\": wordnet.ADV}\n",
    "    return tag_dict.get(tag, wordnet.NOUN)"
   ]
  },
  {
   "cell_type": "code",
   "execution_count": 8,
   "metadata": {},
   "outputs": [],
   "source": [
    "lemmatizer = WordNetLemmatizer()\n",
    "def lemmatize_text(text):\n",
    "    word_list = nltk.word_tokenize(text)\n",
    "    return \" \".join([lemmatizer.lemmatize(word, get_wordnet_pos(word)) \n",
    "                     for word in word_list])     "
   ]
  },
  {
   "cell_type": "code",
   "execution_count": 9,
   "metadata": {},
   "outputs": [],
   "source": [
    "def clear_text(text):\n",
    "    clear_text = re.sub(r'[^a-zA-Z]', ' ', text) \n",
    "    clear_text = clear_text.split() \n",
    "    clear_text = \" \".join(clear_text) \n",
    "    return clear_text"
   ]
  },
  {
   "cell_type": "code",
   "execution_count": 10,
   "metadata": {},
   "outputs": [
    {
     "data": {
      "text/html": [
       "<div>\n",
       "<style scoped>\n",
       "    .dataframe tbody tr th:only-of-type {\n",
       "        vertical-align: middle;\n",
       "    }\n",
       "\n",
       "    .dataframe tbody tr th {\n",
       "        vertical-align: top;\n",
       "    }\n",
       "\n",
       "    .dataframe thead th {\n",
       "        text-align: right;\n",
       "    }\n",
       "</style>\n",
       "<table border=\"1\" class=\"dataframe\">\n",
       "  <thead>\n",
       "    <tr style=\"text-align: right;\">\n",
       "      <th></th>\n",
       "      <th>text</th>\n",
       "      <th>toxic</th>\n",
       "      <th>clear_text</th>\n",
       "    </tr>\n",
       "  </thead>\n",
       "  <tbody>\n",
       "    <tr>\n",
       "      <th>0</th>\n",
       "      <td>explanation\\nwhy the edits made under my usern...</td>\n",
       "      <td>0</td>\n",
       "      <td>explanation why the edits made under my userna...</td>\n",
       "    </tr>\n",
       "    <tr>\n",
       "      <th>1</th>\n",
       "      <td>d'aww! he matches this background colour i'm s...</td>\n",
       "      <td>0</td>\n",
       "      <td>d aww he matches this background colour i m se...</td>\n",
       "    </tr>\n",
       "    <tr>\n",
       "      <th>2</th>\n",
       "      <td>hey man, i'm really not trying to edit war. it...</td>\n",
       "      <td>0</td>\n",
       "      <td>hey man i m really not trying to edit war it s...</td>\n",
       "    </tr>\n",
       "    <tr>\n",
       "      <th>3</th>\n",
       "      <td>\"\\nmore\\ni can't make any real suggestions on ...</td>\n",
       "      <td>0</td>\n",
       "      <td>more i can t make any real suggestions on impr...</td>\n",
       "    </tr>\n",
       "    <tr>\n",
       "      <th>4</th>\n",
       "      <td>you, sir, are my hero. any chance you remember...</td>\n",
       "      <td>0</td>\n",
       "      <td>you sir are my hero any chance you remember wh...</td>\n",
       "    </tr>\n",
       "  </tbody>\n",
       "</table>\n",
       "</div>"
      ],
      "text/plain": [
       "                                                text  toxic  \\\n",
       "0  explanation\\nwhy the edits made under my usern...      0   \n",
       "1  d'aww! he matches this background colour i'm s...      0   \n",
       "2  hey man, i'm really not trying to edit war. it...      0   \n",
       "3  \"\\nmore\\ni can't make any real suggestions on ...      0   \n",
       "4  you, sir, are my hero. any chance you remember...      0   \n",
       "\n",
       "                                          clear_text  \n",
       "0  explanation why the edits made under my userna...  \n",
       "1  d aww he matches this background colour i m se...  \n",
       "2  hey man i m really not trying to edit war it s...  \n",
       "3  more i can t make any real suggestions on impr...  \n",
       "4  you sir are my hero any chance you remember wh...  "
      ]
     },
     "execution_count": 10,
     "metadata": {},
     "output_type": "execute_result"
    }
   ],
   "source": [
    "df['clear_text'] = df['text'].apply(clear_text)\n",
    "df.head()"
   ]
  },
  {
   "cell_type": "code",
   "execution_count": 11,
   "metadata": {
    "scrolled": true
   },
   "outputs": [
    {
     "data": {
      "text/html": [
       "<div>\n",
       "<style scoped>\n",
       "    .dataframe tbody tr th:only-of-type {\n",
       "        vertical-align: middle;\n",
       "    }\n",
       "\n",
       "    .dataframe tbody tr th {\n",
       "        vertical-align: top;\n",
       "    }\n",
       "\n",
       "    .dataframe thead th {\n",
       "        text-align: right;\n",
       "    }\n",
       "</style>\n",
       "<table border=\"1\" class=\"dataframe\">\n",
       "  <thead>\n",
       "    <tr style=\"text-align: right;\">\n",
       "      <th></th>\n",
       "      <th>text</th>\n",
       "      <th>toxic</th>\n",
       "      <th>clear_text</th>\n",
       "      <th>lemm_text</th>\n",
       "    </tr>\n",
       "  </thead>\n",
       "  <tbody>\n",
       "    <tr>\n",
       "      <th>0</th>\n",
       "      <td>explanation\\nwhy the edits made under my usern...</td>\n",
       "      <td>0</td>\n",
       "      <td>explanation why the edits made under my userna...</td>\n",
       "      <td>explanation why the edits make under my userna...</td>\n",
       "    </tr>\n",
       "    <tr>\n",
       "      <th>1</th>\n",
       "      <td>d'aww! he matches this background colour i'm s...</td>\n",
       "      <td>0</td>\n",
       "      <td>d aww he matches this background colour i m se...</td>\n",
       "      <td>d aww he match this background colour i m seem...</td>\n",
       "    </tr>\n",
       "    <tr>\n",
       "      <th>2</th>\n",
       "      <td>hey man, i'm really not trying to edit war. it...</td>\n",
       "      <td>0</td>\n",
       "      <td>hey man i m really not trying to edit war it s...</td>\n",
       "      <td>hey man i m really not try to edit war it s ju...</td>\n",
       "    </tr>\n",
       "    <tr>\n",
       "      <th>3</th>\n",
       "      <td>\"\\nmore\\ni can't make any real suggestions on ...</td>\n",
       "      <td>0</td>\n",
       "      <td>more i can t make any real suggestions on impr...</td>\n",
       "      <td>more i can t make any real suggestion on impro...</td>\n",
       "    </tr>\n",
       "    <tr>\n",
       "      <th>4</th>\n",
       "      <td>you, sir, are my hero. any chance you remember...</td>\n",
       "      <td>0</td>\n",
       "      <td>you sir are my hero any chance you remember wh...</td>\n",
       "      <td>you sir be my hero any chance you remember wha...</td>\n",
       "    </tr>\n",
       "  </tbody>\n",
       "</table>\n",
       "</div>"
      ],
      "text/plain": [
       "                                                text  toxic  \\\n",
       "0  explanation\\nwhy the edits made under my usern...      0   \n",
       "1  d'aww! he matches this background colour i'm s...      0   \n",
       "2  hey man, i'm really not trying to edit war. it...      0   \n",
       "3  \"\\nmore\\ni can't make any real suggestions on ...      0   \n",
       "4  you, sir, are my hero. any chance you remember...      0   \n",
       "\n",
       "                                          clear_text  \\\n",
       "0  explanation why the edits made under my userna...   \n",
       "1  d aww he matches this background colour i m se...   \n",
       "2  hey man i m really not trying to edit war it s...   \n",
       "3  more i can t make any real suggestions on impr...   \n",
       "4  you sir are my hero any chance you remember wh...   \n",
       "\n",
       "                                           lemm_text  \n",
       "0  explanation why the edits make under my userna...  \n",
       "1  d aww he match this background colour i m seem...  \n",
       "2  hey man i m really not try to edit war it s ju...  \n",
       "3  more i can t make any real suggestion on impro...  \n",
       "4  you sir be my hero any chance you remember wha...  "
      ]
     },
     "execution_count": 11,
     "metadata": {},
     "output_type": "execute_result"
    }
   ],
   "source": [
    "df['lemm_text'] = df['clear_text'].apply(lemmatize_text)\n",
    "df.head()"
   ]
  },
  {
   "cell_type": "code",
   "execution_count": 12,
   "metadata": {},
   "outputs": [
    {
     "name": "stderr",
     "output_type": "stream",
     "text": [
      "[nltk_data] Downloading package stopwords to /home/jovyan/nltk_data...\n",
      "[nltk_data]   Package stopwords is already up-to-date!\n"
     ]
    }
   ],
   "source": [
    "nltk.download('stopwords')\n",
    "stopwords = set(nltk_stopwords.words('english'))\n",
    "\n",
    "count_tf_idf = TfidfVectorizer(stop_words=stopwords)"
   ]
  },
  {
   "cell_type": "code",
   "execution_count": 13,
   "metadata": {},
   "outputs": [
    {
     "name": "stdout",
     "output_type": "stream",
     "text": [
      "(119469,)\n",
      "(119469,)\n",
      "(39823,)\n",
      "(39823,)\n"
     ]
    }
   ],
   "source": [
    "target = df['toxic']\n",
    "features = df['lemm_text']\n",
    "features_train, features_test, target_train, target_test = train_test_split(\n",
    "    features, target, test_size=0.25, random_state=12345, stratify=target)\n",
    "print(features_train.shape)\n",
    "print(target_train.shape)\n",
    "print(features_test.shape)\n",
    "print(target_test.shape)"
   ]
  },
  {
   "cell_type": "code",
   "execution_count": 14,
   "metadata": {
    "scrolled": true
   },
   "outputs": [
    {
     "name": "stdout",
     "output_type": "stream",
     "text": [
      "(119469, 127488)\n",
      "(39823, 127488)\n"
     ]
    }
   ],
   "source": [
    "features_train = count_tf_idf.fit_transform(features_train)\n",
    "features_test = count_tf_idf.transform(features_test)\n",
    "print(features_train.shape)\n",
    "print(features_test.shape)\n"
   ]
  },
  {
   "cell_type": "markdown",
   "metadata": {},
   "source": [
    "## Обучение моделей"
   ]
  },
  {
   "cell_type": "markdown",
   "metadata": {},
   "source": [
    "### Логистическая регрессия"
   ]
  },
  {
   "cell_type": "code",
   "execution_count": 15,
   "metadata": {},
   "outputs": [
    {
     "name": "stdout",
     "output_type": "stream",
     "text": [
      "Лучшее значение F1-меры для модели  Логистическая регрессия: 0.7627041378733973 с параметрами {'max_iter': 50, 'penalty': 'l1', 'solver': 'liblinear'}\n"
     ]
    }
   ],
   "source": [
    "model_logist = LogisticRegression(random_state=12345)\n",
    "parametrs_model_logist = {'max_iter': [50, 100, 200],\n",
    "                          'solver': ['liblinear'],\n",
    "                          'penalty': ['l1', 'l2']}\n",
    "\n",
    "grid_model_logist = GridSearchCV(model_logist, parametrs_model_logist, cv=5, n_jobs=-1, scoring= 'f1')\n",
    "\n",
    "grid_model_logist.fit(features_train, target_train) \n",
    "print('Лучшее значение F1-меры для модели  Логистическая регрессия:', grid_model_logist.best_score_,\n",
    "     'с параметрами', grid_model_logist.best_params_)     "
   ]
  },
  {
   "cell_type": "code",
   "execution_count": 16,
   "metadata": {},
   "outputs": [
    {
     "name": "stdout",
     "output_type": "stream",
     "text": [
      "Среднее значение F1-мера для модели  Логистическая регрессия: 0.7627041378733973\n"
     ]
    }
   ],
   "source": [
    "model_logist = LogisticRegression(random_state=12345, **grid_model_logist.best_params_)\n",
    "model_logist.fit(features_train, target_train)\n",
    "F1 = np.mean(cross_val_score(model_logist, features_train, target_train, cv=5,\n",
    "                               scoring='f1'))\n",
    "\n",
    "print('Среднее значение F1-мера для модели  Логистическая регрессия:', F1)"
   ]
  },
  {
   "cell_type": "markdown",
   "metadata": {},
   "source": [
    "### Случайный лес"
   ]
  },
  {
   "cell_type": "code",
   "execution_count": 17,
   "metadata": {},
   "outputs": [
    {
     "name": "stdout",
     "output_type": "stream",
     "text": [
      "Лучшее значение F1 для модели  Случайный лес: 0.29945340026446665 с параметрами {'class_weight': 'balanced', 'max_depth': 10, 'n_estimators': 13}\n"
     ]
    }
   ],
   "source": [
    "model_forest = RandomForestClassifier(random_state=12345) \n",
    "parametrs_model_forest = {'n_estimators': range (5, 15, 2),\n",
    "                          'max_depth': range (1, 11, 1),\n",
    "                          'class_weight': ['balanced', None]}\n",
    "\n",
    "grid_model_forest = GridSearchCV(model_forest, parametrs_model_forest, \n",
    "                              cv=5, n_jobs=-1, scoring='f1')\n",
    "\n",
    "grid_model_forest.fit(features_train, target_train) \n",
    "print('Лучшее значение F1 для модели  Случайный лес:', grid_model_forest.best_score_,\n",
    "     'с параметрами', grid_model_forest.best_params_)\n"
   ]
  },
  {
   "cell_type": "code",
   "execution_count": 18,
   "metadata": {},
   "outputs": [
    {
     "name": "stdout",
     "output_type": "stream",
     "text": [
      "Среднее значение F1 для модели  Случайный лес: 0.29945340026446665\n"
     ]
    }
   ],
   "source": [
    "model_forest = RandomForestClassifier(random_state=12345, \n",
    "                                      **grid_model_forest.best_params_) \n",
    "model_forest.fit(features_train, target_train) \n",
    "\n",
    "F1 = np.mean(cross_val_score(model_forest, features_train, target_train, cv=5,\n",
    "                               scoring='f1'))\n",
    "\n",
    "print('Среднее значение F1 для модели  Случайный лес:', F1)"
   ]
  },
  {
   "cell_type": "markdown",
   "metadata": {},
   "source": [
    "## Тестирование лучшей модели"
   ]
  },
  {
   "cell_type": "markdown",
   "metadata": {},
   "source": [
    "**Лучшей стала модель  Логистической регрессии с F1 = 0.76  с параметрами max_iter = 50, penalty = l1, solver = liblinear.**"
   ]
  },
  {
   "cell_type": "code",
   "execution_count": 19,
   "metadata": {
    "scrolled": true
   },
   "outputs": [
    {
     "name": "stdout",
     "output_type": "stream",
     "text": [
      "F1-мера наилучшей модели на тестовой выборке: 0.7702627166014534\n",
      "AUC-ROC на тестовой выборке = 0.9681278291237542\n",
      "Accuracy модели на тестовой выборке: 0.9587173241594054\n"
     ]
    }
   ],
   "source": [
    "model_best = LogisticRegression(random_state=12345, **grid_model_logist.best_params_)\n",
    "model_best.fit(features_train, target_train)\n",
    "\n",
    "predictions_test = model_best.predict(features_test)\n",
    "probabilities_test = model_best.predict_proba(features_test)\n",
    "probabilities_one_test = probabilities_test[:, 1]\n",
    "\n",
    "print(\"F1-мера наилучшей модели на тестовой выборке:\", f1_score(target_test, predictions_test))\n",
    "print(\"AUC-ROC на тестовой выборке =\", roc_auc_score (target_test, probabilities_one_test))\n",
    "print(\"Accuracy модели на тестовой выборке:\", model_best.score(features_test, target_test))\n"
   ]
  },
  {
   "cell_type": "markdown",
   "metadata": {},
   "source": [
    "**Таким образом, тестирование подтвердило, что модель Логистическая регрессия лучшая.**"
   ]
  },
  {
   "cell_type": "markdown",
   "metadata": {},
   "source": [
    "## Выводы"
   ]
  },
  {
   "cell_type": "markdown",
   "metadata": {},
   "source": [
    "**Построены две модели машинного обучения с подбором гиперпараметров и метрики f1-меры:**\n",
    "\n",
    "1. **Модель \"Логистическая регрессия\":** F1=0.76 с параметрами:\n",
    "* max_iter = 50;\n",
    "* penalty = l1;\n",
    "* solver = liblinear.\n",
    "\n",
    "2. **Модель \"Случайный лес\":** F1=0.3 с параметрами:\n",
    "* class_weight = balanced;\n",
    "* max_depth = 10;\n",
    "* n_estimators = 13.\n",
    "\n",
    "**Таким образом, наилучшиее значения f1-меры у модели \"Логистическая регрессия\": F1=0.76**\n",
    "\n",
    "**Проведено тестирование лучшей модели** на тестовой выборки со следуюими результатами:\n",
    "* F1-мера на тестовой выборке = 0.77;\n",
    "* AUC-ROC на тестовой выборке = 0.97\n",
    "* Accuracy модели на тестовой выборке = 0.96"
   ]
  }
 ],
 "metadata": {
  "ExecuteTimeLog": [
   {
    "duration": 52,
    "start_time": "2022-08-28T13:20:55.285Z"
   },
   {
    "duration": 1334,
    "start_time": "2022-08-28T13:20:57.711Z"
   },
   {
    "duration": 2563,
    "start_time": "2022-08-28T13:21:10.257Z"
   },
   {
    "duration": 2284,
    "start_time": "2022-08-28T19:11:47.043Z"
   },
   {
    "duration": 2431,
    "start_time": "2022-08-28T19:11:53.503Z"
   },
   {
    "duration": 827,
    "start_time": "2022-08-28T19:16:07.223Z"
   },
   {
    "duration": 24,
    "start_time": "2022-08-28T19:16:34.823Z"
   },
   {
    "duration": 240,
    "start_time": "2022-08-28T19:17:04.325Z"
   },
   {
    "duration": 622,
    "start_time": "2022-08-28T19:19:40.148Z"
   },
   {
    "duration": 4,
    "start_time": "2022-08-28T19:20:38.673Z"
   },
   {
    "duration": 153,
    "start_time": "2022-08-28T19:20:48.043Z"
   },
   {
    "duration": 4,
    "start_time": "2022-08-28T19:30:23.539Z"
   },
   {
    "duration": 14,
    "start_time": "2022-08-28T19:41:16.152Z"
   },
   {
    "duration": 4,
    "start_time": "2022-08-28T19:42:30.085Z"
   },
   {
    "duration": 101904,
    "start_time": "2022-08-28T19:42:36.493Z"
   },
   {
    "duration": 3,
    "start_time": "2022-08-28T20:40:53.842Z"
   },
   {
    "duration": 248,
    "start_time": "2022-08-28T21:44:24.781Z"
   },
   {
    "duration": 12,
    "start_time": "2022-08-28T21:56:33.437Z"
   },
   {
    "duration": 4,
    "start_time": "2022-08-28T21:56:44.549Z"
   },
   {
    "duration": 3,
    "start_time": "2022-08-28T21:56:48.090Z"
   },
   {
    "duration": 448,
    "start_time": "2022-08-28T21:59:07.958Z"
   },
   {
    "duration": 1108,
    "start_time": "2022-08-28T22:00:54.991Z"
   },
   {
    "duration": 1468137,
    "start_time": "2022-08-28T22:01:04.167Z"
   },
   {
    "duration": 7,
    "start_time": "2022-08-28T23:42:19.462Z"
   },
   {
    "duration": 1670,
    "start_time": "2022-08-29T05:21:05.468Z"
   },
   {
    "duration": 3189,
    "start_time": "2022-08-29T05:21:11.491Z"
   },
   {
    "duration": 35,
    "start_time": "2022-08-29T05:21:21.532Z"
   },
   {
    "duration": 229,
    "start_time": "2022-08-29T05:21:23.768Z"
   },
   {
    "duration": 4,
    "start_time": "2022-08-29T05:25:24.725Z"
   },
   {
    "duration": 3,
    "start_time": "2022-08-29T05:25:27.325Z"
   },
   {
    "duration": 3,
    "start_time": "2022-08-29T05:25:30.901Z"
   },
   {
    "duration": 541,
    "start_time": "2022-08-29T05:25:33.422Z"
   },
   {
    "duration": 3,
    "start_time": "2022-08-29T05:25:57.957Z"
   },
   {
    "duration": 422,
    "start_time": "2022-08-29T05:26:07.773Z"
   },
   {
    "duration": 741,
    "start_time": "2022-08-29T05:26:58.284Z"
   },
   {
    "duration": 1928,
    "start_time": "2022-08-29T05:27:07.900Z"
   },
   {
    "duration": 9,
    "start_time": "2022-08-29T05:28:19.228Z"
   },
   {
    "duration": 1976,
    "start_time": "2022-08-29T05:28:28.052Z"
   },
   {
    "duration": 4,
    "start_time": "2022-08-29T05:32:06.410Z"
   },
   {
    "duration": 849,
    "start_time": "2022-08-29T05:32:52.410Z"
   },
   {
    "duration": 1291007,
    "start_time": "2022-08-29T05:33:23.499Z"
   },
   {
    "duration": 182,
    "start_time": "2022-08-29T06:16:00.588Z"
   },
   {
    "duration": 12,
    "start_time": "2022-08-29T06:20:56.473Z"
   },
   {
    "duration": 11,
    "start_time": "2022-08-29T06:21:27.869Z"
   },
   {
    "duration": 5,
    "start_time": "2022-08-29T06:22:40.128Z"
   },
   {
    "duration": 5,
    "start_time": "2022-08-29T06:22:48.378Z"
   },
   {
    "duration": 165,
    "start_time": "2022-08-29T06:27:51.848Z"
   },
   {
    "duration": 5,
    "start_time": "2022-08-29T06:29:52.996Z"
   },
   {
    "duration": 61,
    "start_time": "2022-08-29T07:13:33.175Z"
   },
   {
    "duration": 7273,
    "start_time": "2022-08-29T07:17:38.244Z"
   },
   {
    "duration": 21,
    "start_time": "2022-08-29T07:18:25.066Z"
   },
   {
    "duration": 12,
    "start_time": "2022-08-29T07:50:29.643Z"
   },
   {
    "duration": 193,
    "start_time": "2022-08-29T07:57:57.245Z"
   },
   {
    "duration": 816,
    "start_time": "2022-08-29T07:58:00.935Z"
   },
   {
    "duration": 40,
    "start_time": "2022-08-29T07:58:06.490Z"
   },
   {
    "duration": 227,
    "start_time": "2022-08-29T07:58:09.280Z"
   },
   {
    "duration": 15,
    "start_time": "2022-08-29T07:58:19.469Z"
   },
   {
    "duration": 1205,
    "start_time": "2022-08-29T08:10:46.239Z"
   },
   {
    "duration": 288,
    "start_time": "2022-08-29T08:11:10.270Z"
   },
   {
    "duration": 3,
    "start_time": "2022-08-29T08:11:18.919Z"
   },
   {
    "duration": 3,
    "start_time": "2022-08-29T08:11:21.804Z"
   },
   {
    "duration": 4,
    "start_time": "2022-08-29T08:11:47.306Z"
   },
   {
    "duration": 1311162,
    "start_time": "2022-08-29T08:11:56.641Z"
   },
   {
    "duration": 17,
    "start_time": "2022-08-29T08:38:18.682Z"
   },
   {
    "duration": 73,
    "start_time": "2022-08-29T08:38:21.668Z"
   },
   {
    "duration": 7425,
    "start_time": "2022-08-29T08:38:32.251Z"
   },
   {
    "duration": 5,
    "start_time": "2022-08-29T08:51:58.499Z"
   },
   {
    "duration": 8445,
    "start_time": "2022-08-29T08:54:40.750Z"
   },
   {
    "duration": 6,
    "start_time": "2022-08-29T08:56:05.745Z"
   },
   {
    "duration": 8497,
    "start_time": "2022-08-29T08:56:13.493Z"
   },
   {
    "duration": 6,
    "start_time": "2022-08-29T08:57:47.350Z"
   },
   {
    "duration": 8445,
    "start_time": "2022-08-29T08:58:03.748Z"
   },
   {
    "duration": 28681,
    "start_time": "2022-08-29T09:03:20.101Z"
   },
   {
    "duration": 34,
    "start_time": "2022-08-29T09:19:33.739Z"
   },
   {
    "duration": 238,
    "start_time": "2022-08-29T09:22:41.731Z"
   },
   {
    "duration": 40,
    "start_time": "2022-08-29T09:23:28.156Z"
   },
   {
    "duration": 43,
    "start_time": "2022-08-29T09:35:15.332Z"
   },
   {
    "duration": 41343,
    "start_time": "2022-08-29T09:36:37.748Z"
   },
   {
    "duration": 136270,
    "start_time": "2022-08-29T09:57:57.507Z"
   },
   {
    "duration": 26,
    "start_time": "2022-08-29T10:12:45.768Z"
   },
   {
    "duration": 18,
    "start_time": "2022-08-29T10:13:08.217Z"
   },
   {
    "duration": 14,
    "start_time": "2022-08-29T10:14:42.413Z"
   },
   {
    "duration": 20,
    "start_time": "2022-08-29T10:14:55.582Z"
   },
   {
    "duration": 262912,
    "start_time": "2022-08-29T10:25:35.955Z"
   },
   {
    "duration": 804129,
    "start_time": "2022-08-29T10:32:28.025Z"
   },
   {
    "duration": 5628,
    "start_time": "2022-08-29T10:56:18.767Z"
   },
   {
    "duration": 5467,
    "start_time": "2022-08-29T11:02:46.865Z"
   },
   {
    "duration": 275456,
    "start_time": "2022-08-29T11:04:48.417Z"
   },
   {
    "duration": 265,
    "start_time": "2022-08-29T11:33:30.950Z"
   },
   {
    "duration": 6,
    "start_time": "2022-08-29T11:40:09.609Z"
   },
   {
    "duration": 33,
    "start_time": "2022-08-29T11:40:36.141Z"
   },
   {
    "duration": 39,
    "start_time": "2022-08-29T11:45:15.577Z"
   },
   {
    "duration": 29,
    "start_time": "2022-08-29T11:47:25.357Z"
   },
   {
    "duration": 4,
    "start_time": "2022-08-29T11:51:05.199Z"
   },
   {
    "duration": 43,
    "start_time": "2022-08-29T11:52:20.591Z"
   },
   {
    "duration": 282659,
    "start_time": "2022-08-29T12:03:25.610Z"
   },
   {
    "duration": 14263,
    "start_time": "2022-08-29T12:12:40.739Z"
   },
   {
    "duration": 327,
    "start_time": "2022-08-29T13:06:11.564Z"
   },
   {
    "duration": 1913,
    "start_time": "2022-08-29T15:32:13.314Z"
   },
   {
    "duration": 826,
    "start_time": "2022-08-29T15:32:51.813Z"
   },
   {
    "duration": 35,
    "start_time": "2022-08-29T15:32:57.767Z"
   },
   {
    "duration": 249,
    "start_time": "2022-08-29T15:33:00.723Z"
   },
   {
    "duration": 32,
    "start_time": "2022-08-29T15:37:30.399Z"
   },
   {
    "duration": 4,
    "start_time": "2022-08-29T15:38:21.515Z"
   },
   {
    "duration": 122,
    "start_time": "2022-08-29T15:42:26.759Z"
   },
   {
    "duration": 309,
    "start_time": "2022-08-29T15:43:26.793Z"
   },
   {
    "duration": 3,
    "start_time": "2022-08-29T15:43:59.497Z"
   },
   {
    "duration": 4,
    "start_time": "2022-08-29T15:44:10.369Z"
   },
   {
    "duration": 1323575,
    "start_time": "2022-08-29T15:44:32.872Z"
   },
   {
    "duration": 6,
    "start_time": "2022-08-29T16:09:25.328Z"
   },
   {
    "duration": 9,
    "start_time": "2022-08-29T16:09:47.142Z"
   },
   {
    "duration": 63,
    "start_time": "2022-08-29T16:14:02.966Z"
   },
   {
    "duration": 7437,
    "start_time": "2022-08-29T16:14:08.014Z"
   },
   {
    "duration": 133,
    "start_time": "2022-08-29T16:15:08.397Z"
   },
   {
    "duration": 1208937,
    "start_time": "2022-08-29T16:23:07.333Z"
   },
   {
    "duration": 3,
    "start_time": "2022-08-29T16:53:13.390Z"
   },
   {
    "duration": 241,
    "start_time": "2022-08-29T16:53:21.915Z"
   },
   {
    "duration": 754,
    "start_time": "2022-08-29T16:53:22.158Z"
   },
   {
    "duration": 31,
    "start_time": "2022-08-29T16:53:22.914Z"
   },
   {
    "duration": 237,
    "start_time": "2022-08-29T16:53:22.947Z"
   },
   {
    "duration": 117,
    "start_time": "2022-08-29T16:53:23.186Z"
   },
   {
    "duration": 301,
    "start_time": "2022-08-29T16:53:23.305Z"
   },
   {
    "duration": 4,
    "start_time": "2022-08-29T16:53:23.607Z"
   },
   {
    "duration": 6,
    "start_time": "2022-08-29T16:53:23.613Z"
   },
   {
    "duration": 3,
    "start_time": "2022-08-29T16:53:29.196Z"
   },
   {
    "duration": 313,
    "start_time": "2022-08-29T16:53:32.747Z"
   },
   {
    "duration": 7,
    "start_time": "2022-08-29T16:54:19.351Z"
   },
   {
    "duration": 4055,
    "start_time": "2022-08-29T16:54:34.016Z"
   },
   {
    "duration": 1181419,
    "start_time": "2022-08-29T16:57:02.918Z"
   },
   {
    "duration": 19,
    "start_time": "2022-08-29T17:20:59.877Z"
   },
   {
    "duration": 66,
    "start_time": "2022-08-29T17:21:04.604Z"
   },
   {
    "duration": 6832,
    "start_time": "2022-08-29T17:21:08.326Z"
   },
   {
    "duration": 1140136,
    "start_time": "2022-08-29T17:22:06.547Z"
   },
   {
    "duration": 56405,
    "start_time": "2022-08-29T18:27:10.285Z"
   },
   {
    "duration": 14183,
    "start_time": "2022-08-29T18:29:35.924Z"
   },
   {
    "duration": 182623,
    "start_time": "2022-08-29T18:31:01.550Z"
   },
   {
    "duration": 97,
    "start_time": "2022-08-29T18:37:38.407Z"
   },
   {
    "duration": 1088622,
    "start_time": "2022-08-29T18:38:11.962Z"
   },
   {
    "duration": 13873,
    "start_time": "2022-08-29T19:00:17.937Z"
   },
   {
    "duration": 14,
    "start_time": "2022-08-29T19:08:32.969Z"
   },
   {
    "duration": 13,
    "start_time": "2022-08-29T19:10:05.998Z"
   },
   {
    "duration": 364768,
    "start_time": "2022-08-29T19:10:50.489Z"
   },
   {
    "duration": 178601,
    "start_time": "2022-08-29T19:35:21.970Z"
   },
   {
    "duration": 2329,
    "start_time": "2022-08-29T21:57:45.161Z"
   },
   {
    "duration": 3089,
    "start_time": "2022-08-29T21:57:47.492Z"
   },
   {
    "duration": 31,
    "start_time": "2022-08-29T21:57:50.582Z"
   },
   {
    "duration": 219,
    "start_time": "2022-08-29T21:57:50.614Z"
   },
   {
    "duration": 114,
    "start_time": "2022-08-29T21:57:50.835Z"
   },
   {
    "duration": 289,
    "start_time": "2022-08-29T21:57:50.950Z"
   },
   {
    "duration": 3,
    "start_time": "2022-08-29T21:57:51.240Z"
   },
   {
    "duration": 5,
    "start_time": "2022-08-29T21:57:51.245Z"
   },
   {
    "duration": 16,
    "start_time": "2022-08-29T21:57:51.251Z"
   },
   {
    "duration": 3624,
    "start_time": "2022-08-29T21:57:51.270Z"
   },
   {
    "duration": 1053675,
    "start_time": "2022-08-29T21:57:54.896Z"
   },
   {
    "duration": 13,
    "start_time": "2022-08-29T22:15:28.572Z"
   },
   {
    "duration": 64,
    "start_time": "2022-08-29T22:15:28.587Z"
   },
   {
    "duration": 6506,
    "start_time": "2022-08-29T22:15:28.652Z"
   },
   {
    "duration": 1112219,
    "start_time": "2022-08-29T22:15:35.160Z"
   },
   {
    "duration": 150188,
    "start_time": "2022-08-29T22:34:07.382Z"
   },
   {
    "duration": 455045,
    "start_time": "2022-08-29T22:36:37.572Z"
   },
   {
    "duration": 11144,
    "start_time": "2022-08-29T22:44:12.619Z"
   },
   {
    "duration": 2591,
    "start_time": "2022-08-30T05:28:41.484Z"
   },
   {
    "duration": 2220,
    "start_time": "2022-08-30T05:28:44.076Z"
   },
   {
    "duration": 23,
    "start_time": "2022-08-30T05:28:46.297Z"
   },
   {
    "duration": 219,
    "start_time": "2022-08-30T05:28:46.322Z"
   },
   {
    "duration": 100,
    "start_time": "2022-08-30T05:28:46.543Z"
   },
   {
    "duration": 220,
    "start_time": "2022-08-30T05:28:46.644Z"
   },
   {
    "duration": 3,
    "start_time": "2022-08-30T05:28:46.865Z"
   },
   {
    "duration": 9,
    "start_time": "2022-08-30T05:28:46.869Z"
   },
   {
    "duration": 24,
    "start_time": "2022-08-30T05:28:46.879Z"
   },
   {
    "duration": 3613,
    "start_time": "2022-08-30T05:28:46.905Z"
   },
   {
    "duration": 1112017,
    "start_time": "2022-08-30T05:28:50.520Z"
   },
   {
    "duration": 313,
    "start_time": "2022-08-30T05:47:22.539Z"
   },
   {
    "duration": 63,
    "start_time": "2022-08-30T05:47:22.854Z"
   },
   {
    "duration": 6213,
    "start_time": "2022-08-30T05:47:22.920Z"
   },
   {
    "duration": 51,
    "start_time": "2022-08-30T06:01:03.114Z"
   },
   {
    "duration": 60,
    "start_time": "2022-08-30T06:01:45.220Z"
   },
   {
    "duration": 42,
    "start_time": "2022-08-30T06:02:20.798Z"
   },
   {
    "duration": 56,
    "start_time": "2022-08-30T06:02:29.815Z"
   },
   {
    "duration": 64,
    "start_time": "2022-08-30T06:03:21.697Z"
   },
   {
    "duration": 139,
    "start_time": "2022-08-30T06:03:47.959Z"
   },
   {
    "duration": 87,
    "start_time": "2022-08-30T06:20:21.536Z"
   },
   {
    "duration": 10322580,
    "start_time": "2022-08-30T06:20:37.546Z"
   },
   {
    "duration": 119518,
    "start_time": "2022-08-30T09:17:10.367Z"
   },
   {
    "duration": 4725,
    "start_time": "2022-08-30T09:25:09.009Z"
   },
   {
    "duration": 483539,
    "start_time": "2022-08-30T09:26:56.605Z"
   },
   {
    "duration": 12086,
    "start_time": "2022-08-30T09:35:56.617Z"
   },
   {
    "duration": 46,
    "start_time": "2022-08-30T09:57:55.606Z"
   },
   {
    "duration": 1918,
    "start_time": "2022-08-30T10:00:28.577Z"
   },
   {
    "duration": 2255,
    "start_time": "2022-08-30T10:00:30.497Z"
   },
   {
    "duration": 23,
    "start_time": "2022-08-30T10:00:32.754Z"
   },
   {
    "duration": 229,
    "start_time": "2022-08-30T10:00:32.778Z"
   },
   {
    "duration": 108,
    "start_time": "2022-08-30T10:00:33.010Z"
   },
   {
    "duration": 230,
    "start_time": "2022-08-30T10:00:33.119Z"
   },
   {
    "duration": 3,
    "start_time": "2022-08-30T10:00:33.351Z"
   },
   {
    "duration": 11,
    "start_time": "2022-08-30T10:00:33.355Z"
   },
   {
    "duration": 4,
    "start_time": "2022-08-30T10:00:33.368Z"
   },
   {
    "duration": 3814,
    "start_time": "2022-08-30T10:00:33.373Z"
   },
   {
    "duration": 1125135,
    "start_time": "2022-08-30T10:00:37.188Z"
   },
   {
    "duration": 12,
    "start_time": "2022-08-30T10:19:22.324Z"
   },
   {
    "duration": 71,
    "start_time": "2022-08-30T10:19:22.337Z"
   },
   {
    "duration": 6373,
    "start_time": "2022-08-30T10:19:22.411Z"
   },
   {
    "duration": 53,
    "start_time": "2022-08-30T13:10:53.949Z"
   },
   {
    "duration": 1989,
    "start_time": "2022-08-30T13:11:34.459Z"
   },
   {
    "duration": 2246,
    "start_time": "2022-08-30T13:11:36.450Z"
   },
   {
    "duration": 24,
    "start_time": "2022-08-30T13:11:38.698Z"
   },
   {
    "duration": 236,
    "start_time": "2022-08-30T13:11:38.724Z"
   },
   {
    "duration": 108,
    "start_time": "2022-08-30T13:11:38.961Z"
   },
   {
    "duration": 248,
    "start_time": "2022-08-30T13:11:39.070Z"
   },
   {
    "duration": 3,
    "start_time": "2022-08-30T13:11:39.319Z"
   },
   {
    "duration": 4,
    "start_time": "2022-08-30T13:11:39.324Z"
   },
   {
    "duration": 5,
    "start_time": "2022-08-30T13:11:39.329Z"
   },
   {
    "duration": 3780,
    "start_time": "2022-08-30T13:11:39.336Z"
   },
   {
    "duration": 1096399,
    "start_time": "2022-08-30T13:11:43.117Z"
   },
   {
    "duration": 9,
    "start_time": "2022-08-30T13:29:59.518Z"
   },
   {
    "duration": 70,
    "start_time": "2022-08-30T13:29:59.529Z"
   },
   {
    "duration": 6081,
    "start_time": "2022-08-30T13:29:59.600Z"
   },
   {
    "duration": 109337,
    "start_time": "2022-08-30T13:30:05.683Z"
   },
   {
    "duration": 5202,
    "start_time": "2022-08-30T13:31:55.021Z"
   },
   {
    "duration": 484574,
    "start_time": "2022-08-30T13:32:00.225Z"
   },
   {
    "duration": 12301,
    "start_time": "2022-08-30T13:40:04.800Z"
   },
   {
    "duration": 1118,
    "start_time": "2022-08-30T14:07:49.727Z"
   },
   {
    "duration": 6,
    "start_time": "2022-08-30T14:09:41.309Z"
   },
   {
    "duration": 1096,
    "start_time": "2022-08-30T14:09:54.088Z"
   },
   {
    "duration": 1079,
    "start_time": "2022-08-30T14:10:28.659Z"
   },
   {
    "duration": 2351,
    "start_time": "2023-04-24T07:31:50.028Z"
   },
   {
    "duration": 3269,
    "start_time": "2023-04-24T07:31:52.381Z"
   },
   {
    "duration": 38,
    "start_time": "2023-04-24T07:31:55.652Z"
   },
   {
    "duration": 222,
    "start_time": "2023-04-24T07:31:55.692Z"
   },
   {
    "duration": 120,
    "start_time": "2023-04-24T07:31:55.916Z"
   },
   {
    "duration": 302,
    "start_time": "2023-04-24T07:31:56.038Z"
   },
   {
    "duration": 4,
    "start_time": "2023-04-24T07:31:56.341Z"
   },
   {
    "duration": 6,
    "start_time": "2023-04-24T07:31:56.346Z"
   },
   {
    "duration": 4,
    "start_time": "2023-04-24T07:31:56.353Z"
   },
   {
    "duration": 4057,
    "start_time": "2023-04-24T07:31:56.359Z"
   },
   {
    "duration": 1119444,
    "start_time": "2023-04-24T07:32:00.417Z"
   },
   {
    "duration": 5,
    "start_time": "2023-04-24T07:50:39.862Z"
   },
   {
    "duration": 77,
    "start_time": "2023-04-24T07:50:39.869Z"
   },
   {
    "duration": 6476,
    "start_time": "2023-04-24T07:50:39.948Z"
   },
   {
    "duration": 145261,
    "start_time": "2023-04-24T07:50:46.426Z"
   },
   {
    "duration": 6182,
    "start_time": "2023-04-24T07:53:11.689Z"
   },
   {
    "duration": 502131,
    "start_time": "2023-04-24T07:53:17.872Z"
   },
   {
    "duration": 12664,
    "start_time": "2023-04-24T08:01:40.005Z"
   },
   {
    "duration": 1284,
    "start_time": "2023-04-24T08:01:52.670Z"
   }
  ],
  "kernelspec": {
   "display_name": "Python 3 (ipykernel)",
   "language": "python",
   "name": "python3"
  },
  "language_info": {
   "codemirror_mode": {
    "name": "ipython",
    "version": 3
   },
   "file_extension": ".py",
   "mimetype": "text/x-python",
   "name": "python",
   "nbconvert_exporter": "python",
   "pygments_lexer": "ipython3",
   "version": "3.9.5"
  },
  "toc": {
   "base_numbering": 1,
   "nav_menu": {},
   "number_sections": true,
   "sideBar": true,
   "skip_h1_title": true,
   "title_cell": "Содержание",
   "title_sidebar": "Contents",
   "toc_cell": true,
   "toc_position": {
    "height": "calc(100% - 180px)",
    "left": "10px",
    "top": "150px",
    "width": "325px"
   },
   "toc_section_display": true,
   "toc_window_display": true
  }
 },
 "nbformat": 4,
 "nbformat_minor": 2
}
