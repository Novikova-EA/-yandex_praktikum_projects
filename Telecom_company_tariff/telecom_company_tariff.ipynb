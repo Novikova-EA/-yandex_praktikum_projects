{
 "cells": [
  {
   "cell_type": "markdown",
   "metadata": {},
   "source": [
    "# Определение выгодного тарифа для телеком компаний\n",
    "\n",
    "**Описание проекта:** \n",
    "\n",
    "Федеральный оператор сотовой связи Компания «Мегалайн» предлагает клиентам два тарифных плана: «Смарт» и «Ультра». Предоставлена небольшая выборка клиентов (500 пользователей «Мегалайна») с данными о клиентах: кто они, откуда, каким тарифом пользуются, сколько звонков и сообщений каждый отправил за 2018 год. Чтобы скорректировать рекламный бюджет, коммерческий департамент хочет понять, какой тариф приносит больше денег.\n",
    "\n",
    "**Задача:** \n",
    "\n",
    "На основе данных клиентов оператора сотовой связи проанализировать поведение клиентов и найти выгодный тариф."
   ]
  },
  {
   "cell_type": "markdown",
   "metadata": {},
   "source": [
    "Проведем анализ и описание тарифов «Смарт» и «Ультра» в разрезе использованных минут, сообщений и интернет-трафика в месяц. Проверим гипотезы:\n",
    "\n",
    "* средняя выручка пользователей тарифов «Ультра» и «Смарт» различается;\n",
    "* средняя выручка пользователей из Москвы отличается от выручки пользователей из других регионов.\n",
    "\n",
    "Таким образом, исследование пройдёт в четыре этапа:\n",
    "\n",
    "1. Изучение данных из файла.\n",
    "2. Предобработка данных.\n",
    "3. Анализ и описание данных.\n",
    "4. Проверка гипотез и пояснения."
   ]
  },
  {
   "cell_type": "markdown",
   "metadata": {},
   "source": [
    "## Изучение данных из файла"
   ]
  },
  {
   "cell_type": "code",
   "execution_count": 1,
   "metadata": {},
   "outputs": [],
   "source": [
    "import pandas as pd\n",
    "import matplotlib.pyplot as plt\n",
    "from scipy import stats as st\n",
    "import numpy as np\n",
    "import seaborn as sns"
   ]
  },
  {
   "cell_type": "code",
   "execution_count": 2,
   "metadata": {},
   "outputs": [],
   "source": [
    "df_calls = pd.read_csv('/datasets/calls.csv', sep=',')"
   ]
  },
  {
   "cell_type": "code",
   "execution_count": 3,
   "metadata": {},
   "outputs": [],
   "source": [
    "df_internet = pd.read_csv('/datasets/internet.csv', sep=',', index_col=0)"
   ]
  },
  {
   "cell_type": "code",
   "execution_count": 4,
   "metadata": {},
   "outputs": [],
   "source": [
    "df_messages = pd.read_csv('/datasets/messages.csv', sep=',')"
   ]
  },
  {
   "cell_type": "code",
   "execution_count": 5,
   "metadata": {},
   "outputs": [],
   "source": [
    "df_tariffs = pd.read_csv('/datasets/tariffs.csv', sep=',')"
   ]
  },
  {
   "cell_type": "code",
   "execution_count": 6,
   "metadata": {},
   "outputs": [],
   "source": [
    "df_users = pd.read_csv('/datasets/users.csv', sep=',')"
   ]
  },
  {
   "cell_type": "markdown",
   "metadata": {},
   "source": [
    "**Рассмотрим каждый файл.**\n",
    "\n",
    "**Таблица calls (информация о звонках).**"
   ]
  },
  {
   "cell_type": "code",
   "execution_count": 7,
   "metadata": {
    "scrolled": true
   },
   "outputs": [
    {
     "data": {
      "text/html": [
       "<div>\n",
       "<style scoped>\n",
       "    .dataframe tbody tr th:only-of-type {\n",
       "        vertical-align: middle;\n",
       "    }\n",
       "\n",
       "    .dataframe tbody tr th {\n",
       "        vertical-align: top;\n",
       "    }\n",
       "\n",
       "    .dataframe thead th {\n",
       "        text-align: right;\n",
       "    }\n",
       "</style>\n",
       "<table border=\"1\" class=\"dataframe\">\n",
       "  <thead>\n",
       "    <tr style=\"text-align: right;\">\n",
       "      <th></th>\n",
       "      <th>id</th>\n",
       "      <th>call_date</th>\n",
       "      <th>duration</th>\n",
       "      <th>user_id</th>\n",
       "    </tr>\n",
       "  </thead>\n",
       "  <tbody>\n",
       "    <tr>\n",
       "      <th>0</th>\n",
       "      <td>1000_0</td>\n",
       "      <td>2018-07-25</td>\n",
       "      <td>0.00</td>\n",
       "      <td>1000</td>\n",
       "    </tr>\n",
       "    <tr>\n",
       "      <th>1</th>\n",
       "      <td>1000_1</td>\n",
       "      <td>2018-08-17</td>\n",
       "      <td>0.00</td>\n",
       "      <td>1000</td>\n",
       "    </tr>\n",
       "    <tr>\n",
       "      <th>2</th>\n",
       "      <td>1000_2</td>\n",
       "      <td>2018-06-11</td>\n",
       "      <td>2.85</td>\n",
       "      <td>1000</td>\n",
       "    </tr>\n",
       "    <tr>\n",
       "      <th>3</th>\n",
       "      <td>1000_3</td>\n",
       "      <td>2018-09-21</td>\n",
       "      <td>13.80</td>\n",
       "      <td>1000</td>\n",
       "    </tr>\n",
       "    <tr>\n",
       "      <th>4</th>\n",
       "      <td>1000_4</td>\n",
       "      <td>2018-12-15</td>\n",
       "      <td>5.18</td>\n",
       "      <td>1000</td>\n",
       "    </tr>\n",
       "  </tbody>\n",
       "</table>\n",
       "</div>"
      ],
      "text/plain": [
       "       id   call_date  duration  user_id\n",
       "0  1000_0  2018-07-25      0.00     1000\n",
       "1  1000_1  2018-08-17      0.00     1000\n",
       "2  1000_2  2018-06-11      2.85     1000\n",
       "3  1000_3  2018-09-21     13.80     1000\n",
       "4  1000_4  2018-12-15      5.18     1000"
      ]
     },
     "execution_count": 7,
     "metadata": {},
     "output_type": "execute_result"
    }
   ],
   "source": [
    "df_calls.head()"
   ]
  },
  {
   "cell_type": "code",
   "execution_count": 8,
   "metadata": {
    "scrolled": true
   },
   "outputs": [
    {
     "name": "stdout",
     "output_type": "stream",
     "text": [
      "<class 'pandas.core.frame.DataFrame'>\n",
      "RangeIndex: 202607 entries, 0 to 202606\n",
      "Data columns (total 4 columns):\n",
      " #   Column     Non-Null Count   Dtype  \n",
      "---  ------     --------------   -----  \n",
      " 0   id         202607 non-null  object \n",
      " 1   call_date  202607 non-null  object \n",
      " 2   duration   202607 non-null  float64\n",
      " 3   user_id    202607 non-null  int64  \n",
      "dtypes: float64(1), int64(1), object(2)\n",
      "memory usage: 6.2+ MB\n"
     ]
    }
   ],
   "source": [
    "df_calls.info()"
   ]
  },
  {
   "cell_type": "code",
   "execution_count": 9,
   "metadata": {
    "scrolled": true
   },
   "outputs": [
    {
     "data": {
      "text/html": [
       "<div>\n",
       "<style scoped>\n",
       "    .dataframe tbody tr th:only-of-type {\n",
       "        vertical-align: middle;\n",
       "    }\n",
       "\n",
       "    .dataframe tbody tr th {\n",
       "        vertical-align: top;\n",
       "    }\n",
       "\n",
       "    .dataframe thead th {\n",
       "        text-align: right;\n",
       "    }\n",
       "</style>\n",
       "<table border=\"1\" class=\"dataframe\">\n",
       "  <thead>\n",
       "    <tr style=\"text-align: right;\">\n",
       "      <th></th>\n",
       "      <th>duration</th>\n",
       "      <th>user_id</th>\n",
       "    </tr>\n",
       "  </thead>\n",
       "  <tbody>\n",
       "    <tr>\n",
       "      <th>count</th>\n",
       "      <td>202607.000000</td>\n",
       "      <td>202607.000000</td>\n",
       "    </tr>\n",
       "    <tr>\n",
       "      <th>mean</th>\n",
       "      <td>6.755887</td>\n",
       "      <td>1253.940619</td>\n",
       "    </tr>\n",
       "    <tr>\n",
       "      <th>std</th>\n",
       "      <td>5.843365</td>\n",
       "      <td>144.722751</td>\n",
       "    </tr>\n",
       "    <tr>\n",
       "      <th>min</th>\n",
       "      <td>0.000000</td>\n",
       "      <td>1000.000000</td>\n",
       "    </tr>\n",
       "    <tr>\n",
       "      <th>25%</th>\n",
       "      <td>1.300000</td>\n",
       "      <td>1126.000000</td>\n",
       "    </tr>\n",
       "    <tr>\n",
       "      <th>50%</th>\n",
       "      <td>6.000000</td>\n",
       "      <td>1260.000000</td>\n",
       "    </tr>\n",
       "    <tr>\n",
       "      <th>75%</th>\n",
       "      <td>10.700000</td>\n",
       "      <td>1379.000000</td>\n",
       "    </tr>\n",
       "    <tr>\n",
       "      <th>max</th>\n",
       "      <td>38.000000</td>\n",
       "      <td>1499.000000</td>\n",
       "    </tr>\n",
       "  </tbody>\n",
       "</table>\n",
       "</div>"
      ],
      "text/plain": [
       "            duration        user_id\n",
       "count  202607.000000  202607.000000\n",
       "mean        6.755887    1253.940619\n",
       "std         5.843365     144.722751\n",
       "min         0.000000    1000.000000\n",
       "25%         1.300000    1126.000000\n",
       "50%         6.000000    1260.000000\n",
       "75%        10.700000    1379.000000\n",
       "max        38.000000    1499.000000"
      ]
     },
     "execution_count": 9,
     "metadata": {},
     "output_type": "execute_result"
    }
   ],
   "source": [
    "df_calls.describe()"
   ]
  },
  {
   "cell_type": "code",
   "execution_count": 10,
   "metadata": {},
   "outputs": [
    {
     "data": {
      "text/plain": [
       "array([1000, 1001, 1002, 1003, 1004, 1005, 1006, 1007, 1008, 1009, 1010,\n",
       "       1011, 1012, 1013, 1014, 1015, 1016, 1017, 1018, 1019, 1020, 1021,\n",
       "       1022, 1023, 1024, 1025, 1026, 1027, 1028, 1029, 1030, 1031, 1032,\n",
       "       1033, 1034, 1035, 1036, 1037, 1038, 1039, 1040, 1041, 1042, 1043,\n",
       "       1044, 1045, 1046, 1047, 1048, 1049, 1050, 1051, 1052, 1053, 1054,\n",
       "       1055, 1056, 1057, 1058, 1059, 1060, 1061, 1062, 1063, 1064, 1065,\n",
       "       1066, 1067, 1068, 1069, 1070, 1071, 1072, 1073, 1074, 1075, 1076,\n",
       "       1077, 1078, 1079, 1080, 1081, 1082, 1083, 1084, 1085, 1086, 1087,\n",
       "       1088, 1089, 1090, 1092, 1093, 1094, 1095, 1096, 1097, 1098, 1099,\n",
       "       1100, 1101, 1102, 1103, 1104, 1105, 1107, 1108, 1109, 1110, 1111,\n",
       "       1112, 1113, 1114, 1115, 1116, 1117, 1118, 1119, 1120, 1121, 1122,\n",
       "       1123, 1124, 1125, 1126, 1127, 1129, 1130, 1131, 1132, 1133, 1134,\n",
       "       1135, 1136, 1137, 1138, 1139, 1140, 1141, 1142, 1143, 1144, 1145,\n",
       "       1146, 1147, 1148, 1149, 1150, 1151, 1152, 1153, 1154, 1155, 1156,\n",
       "       1157, 1158, 1159, 1160, 1161, 1162, 1163, 1164, 1165, 1166, 1167,\n",
       "       1168, 1169, 1170, 1171, 1172, 1173, 1174, 1175, 1176, 1177, 1178,\n",
       "       1179, 1180, 1181, 1182, 1183, 1184, 1185, 1186, 1187, 1188, 1189,\n",
       "       1190, 1191, 1192, 1193, 1194, 1195, 1196, 1197, 1198, 1199, 1200,\n",
       "       1201, 1202, 1203, 1204, 1205, 1206, 1207, 1208, 1209, 1210, 1211,\n",
       "       1212, 1213, 1214, 1215, 1216, 1217, 1218, 1219, 1220, 1221, 1222,\n",
       "       1223, 1224, 1225, 1226, 1227, 1228, 1229, 1230, 1232, 1233, 1234,\n",
       "       1235, 1236, 1237, 1238, 1239, 1240, 1241, 1242, 1243, 1244, 1245,\n",
       "       1246, 1247, 1248, 1249, 1250, 1251, 1252, 1253, 1254, 1255, 1256,\n",
       "       1257, 1258, 1259, 1260, 1261, 1262, 1263, 1264, 1265, 1266, 1267,\n",
       "       1268, 1269, 1270, 1271, 1272, 1273, 1274, 1275, 1276, 1277, 1278,\n",
       "       1279, 1280, 1281, 1282, 1283, 1284, 1285, 1286, 1287, 1288, 1289,\n",
       "       1290, 1291, 1292, 1293, 1294, 1295, 1296, 1297, 1298, 1299, 1300,\n",
       "       1301, 1302, 1303, 1304, 1305, 1306, 1307, 1308, 1309, 1310, 1311,\n",
       "       1312, 1313, 1314, 1315, 1316, 1317, 1318, 1319, 1320, 1321, 1322,\n",
       "       1323, 1324, 1325, 1326, 1327, 1329, 1330, 1331, 1332, 1333, 1334,\n",
       "       1335, 1336, 1337, 1338, 1339, 1340, 1341, 1342, 1343, 1344, 1345,\n",
       "       1346, 1347, 1348, 1349, 1350, 1351, 1352, 1353, 1354, 1355, 1356,\n",
       "       1357, 1358, 1359, 1360, 1361, 1362, 1363, 1364, 1365, 1366, 1367,\n",
       "       1368, 1369, 1370, 1372, 1373, 1374, 1375, 1376, 1377, 1378, 1379,\n",
       "       1380, 1381, 1382, 1383, 1384, 1385, 1386, 1387, 1388, 1389, 1390,\n",
       "       1391, 1392, 1393, 1394, 1395, 1396, 1397, 1398, 1399, 1400, 1401,\n",
       "       1402, 1403, 1404, 1405, 1406, 1407, 1408, 1409, 1410, 1411, 1412,\n",
       "       1413, 1414, 1415, 1416, 1417, 1418, 1419, 1420, 1421, 1422, 1423,\n",
       "       1424, 1425, 1426, 1427, 1428, 1429, 1430, 1431, 1432, 1433, 1434,\n",
       "       1435, 1436, 1437, 1438, 1439, 1440, 1441, 1442, 1443, 1444, 1445,\n",
       "       1446, 1447, 1448, 1449, 1450, 1451, 1452, 1453, 1454, 1455, 1456,\n",
       "       1457, 1458, 1459, 1460, 1461, 1462, 1463, 1464, 1465, 1466, 1467,\n",
       "       1468, 1469, 1470, 1471, 1472, 1474, 1475, 1476, 1477, 1478, 1479,\n",
       "       1480, 1481, 1482, 1483, 1484, 1485, 1486, 1487, 1488, 1490, 1491,\n",
       "       1492, 1493, 1494, 1495, 1496, 1497, 1498, 1499])"
      ]
     },
     "execution_count": 10,
     "metadata": {},
     "output_type": "execute_result"
    }
   ],
   "source": [
    "df_calls['user_id'].sort_values().unique()"
   ]
  },
  {
   "cell_type": "markdown",
   "metadata": {},
   "source": [
    "**Таблица internet (информация об интернет-сессиях)**"
   ]
  },
  {
   "cell_type": "code",
   "execution_count": 11,
   "metadata": {
    "scrolled": true
   },
   "outputs": [
    {
     "data": {
      "text/html": [
       "<div>\n",
       "<style scoped>\n",
       "    .dataframe tbody tr th:only-of-type {\n",
       "        vertical-align: middle;\n",
       "    }\n",
       "\n",
       "    .dataframe tbody tr th {\n",
       "        vertical-align: top;\n",
       "    }\n",
       "\n",
       "    .dataframe thead th {\n",
       "        text-align: right;\n",
       "    }\n",
       "</style>\n",
       "<table border=\"1\" class=\"dataframe\">\n",
       "  <thead>\n",
       "    <tr style=\"text-align: right;\">\n",
       "      <th></th>\n",
       "      <th>id</th>\n",
       "      <th>mb_used</th>\n",
       "      <th>session_date</th>\n",
       "      <th>user_id</th>\n",
       "    </tr>\n",
       "  </thead>\n",
       "  <tbody>\n",
       "    <tr>\n",
       "      <th>0</th>\n",
       "      <td>1000_0</td>\n",
       "      <td>112.95</td>\n",
       "      <td>2018-11-25</td>\n",
       "      <td>1000</td>\n",
       "    </tr>\n",
       "    <tr>\n",
       "      <th>1</th>\n",
       "      <td>1000_1</td>\n",
       "      <td>1052.81</td>\n",
       "      <td>2018-09-07</td>\n",
       "      <td>1000</td>\n",
       "    </tr>\n",
       "    <tr>\n",
       "      <th>2</th>\n",
       "      <td>1000_2</td>\n",
       "      <td>1197.26</td>\n",
       "      <td>2018-06-25</td>\n",
       "      <td>1000</td>\n",
       "    </tr>\n",
       "    <tr>\n",
       "      <th>3</th>\n",
       "      <td>1000_3</td>\n",
       "      <td>550.27</td>\n",
       "      <td>2018-08-22</td>\n",
       "      <td>1000</td>\n",
       "    </tr>\n",
       "    <tr>\n",
       "      <th>4</th>\n",
       "      <td>1000_4</td>\n",
       "      <td>302.56</td>\n",
       "      <td>2018-09-24</td>\n",
       "      <td>1000</td>\n",
       "    </tr>\n",
       "  </tbody>\n",
       "</table>\n",
       "</div>"
      ],
      "text/plain": [
       "       id  mb_used session_date  user_id\n",
       "0  1000_0   112.95   2018-11-25     1000\n",
       "1  1000_1  1052.81   2018-09-07     1000\n",
       "2  1000_2  1197.26   2018-06-25     1000\n",
       "3  1000_3   550.27   2018-08-22     1000\n",
       "4  1000_4   302.56   2018-09-24     1000"
      ]
     },
     "execution_count": 11,
     "metadata": {},
     "output_type": "execute_result"
    }
   ],
   "source": [
    "df_internet.head()"
   ]
  },
  {
   "cell_type": "code",
   "execution_count": 12,
   "metadata": {
    "scrolled": true
   },
   "outputs": [
    {
     "name": "stdout",
     "output_type": "stream",
     "text": [
      "<class 'pandas.core.frame.DataFrame'>\n",
      "Int64Index: 149396 entries, 0 to 149395\n",
      "Data columns (total 4 columns):\n",
      " #   Column        Non-Null Count   Dtype  \n",
      "---  ------        --------------   -----  \n",
      " 0   id            149396 non-null  object \n",
      " 1   mb_used       149396 non-null  float64\n",
      " 2   session_date  149396 non-null  object \n",
      " 3   user_id       149396 non-null  int64  \n",
      "dtypes: float64(1), int64(1), object(2)\n",
      "memory usage: 5.7+ MB\n"
     ]
    }
   ],
   "source": [
    "df_internet.info()"
   ]
  },
  {
   "cell_type": "code",
   "execution_count": 13,
   "metadata": {},
   "outputs": [
    {
     "data": {
      "text/html": [
       "<div>\n",
       "<style scoped>\n",
       "    .dataframe tbody tr th:only-of-type {\n",
       "        vertical-align: middle;\n",
       "    }\n",
       "\n",
       "    .dataframe tbody tr th {\n",
       "        vertical-align: top;\n",
       "    }\n",
       "\n",
       "    .dataframe thead th {\n",
       "        text-align: right;\n",
       "    }\n",
       "</style>\n",
       "<table border=\"1\" class=\"dataframe\">\n",
       "  <thead>\n",
       "    <tr style=\"text-align: right;\">\n",
       "      <th></th>\n",
       "      <th>mb_used</th>\n",
       "      <th>user_id</th>\n",
       "    </tr>\n",
       "  </thead>\n",
       "  <tbody>\n",
       "    <tr>\n",
       "      <th>count</th>\n",
       "      <td>149396.000000</td>\n",
       "      <td>149396.000000</td>\n",
       "    </tr>\n",
       "    <tr>\n",
       "      <th>mean</th>\n",
       "      <td>370.192426</td>\n",
       "      <td>1252.099842</td>\n",
       "    </tr>\n",
       "    <tr>\n",
       "      <th>std</th>\n",
       "      <td>278.300951</td>\n",
       "      <td>144.050823</td>\n",
       "    </tr>\n",
       "    <tr>\n",
       "      <th>min</th>\n",
       "      <td>0.000000</td>\n",
       "      <td>1000.000000</td>\n",
       "    </tr>\n",
       "    <tr>\n",
       "      <th>25%</th>\n",
       "      <td>138.187500</td>\n",
       "      <td>1130.000000</td>\n",
       "    </tr>\n",
       "    <tr>\n",
       "      <th>50%</th>\n",
       "      <td>348.015000</td>\n",
       "      <td>1251.000000</td>\n",
       "    </tr>\n",
       "    <tr>\n",
       "      <th>75%</th>\n",
       "      <td>559.552500</td>\n",
       "      <td>1380.000000</td>\n",
       "    </tr>\n",
       "    <tr>\n",
       "      <th>max</th>\n",
       "      <td>1724.830000</td>\n",
       "      <td>1499.000000</td>\n",
       "    </tr>\n",
       "  </tbody>\n",
       "</table>\n",
       "</div>"
      ],
      "text/plain": [
       "             mb_used        user_id\n",
       "count  149396.000000  149396.000000\n",
       "mean      370.192426    1252.099842\n",
       "std       278.300951     144.050823\n",
       "min         0.000000    1000.000000\n",
       "25%       138.187500    1130.000000\n",
       "50%       348.015000    1251.000000\n",
       "75%       559.552500    1380.000000\n",
       "max      1724.830000    1499.000000"
      ]
     },
     "execution_count": 13,
     "metadata": {},
     "output_type": "execute_result"
    }
   ],
   "source": [
    "df_internet.describe()"
   ]
  },
  {
   "cell_type": "code",
   "execution_count": 14,
   "metadata": {
    "scrolled": true
   },
   "outputs": [
    {
     "data": {
      "image/png": "[encoded data removed]",
      "text/plain": [
       "<Figure size 432x288 with 1 Axes>"
      ]
     },
     "metadata": {
      "needs_background": "light"
     },
     "output_type": "display_data"
    }
   ],
   "source": [
    "sns.histplot(data=df_internet, x=\"mb_used\", kde=True, bins=30)\n",
    "plt.title(\"Распределение объема интернет-трафика\" + \"\\n\")\n",
    "plt.show()"
   ]
  },
  {
   "cell_type": "code",
   "execution_count": 15,
   "metadata": {},
   "outputs": [
    {
     "data": {
      "text/plain": [
       "array([1000, 1001, 1002, 1003, 1004, 1005, 1006, 1007, 1008, 1009, 1010,\n",
       "       1011, 1012, 1013, 1014, 1015, 1016, 1017, 1018, 1019, 1020, 1021,\n",
       "       1022, 1023, 1024, 1025, 1026, 1027, 1028, 1029, 1030, 1031, 1032,\n",
       "       1033, 1034, 1035, 1036, 1037, 1038, 1039, 1040, 1041, 1042, 1043,\n",
       "       1044, 1045, 1046, 1047, 1048, 1049, 1050, 1051, 1052, 1053, 1054,\n",
       "       1055, 1056, 1057, 1058, 1059, 1060, 1061, 1062, 1063, 1064, 1065,\n",
       "       1066, 1067, 1068, 1069, 1070, 1071, 1072, 1073, 1074, 1075, 1076,\n",
       "       1077, 1078, 1079, 1080, 1081, 1082, 1083, 1084, 1085, 1086, 1087,\n",
       "       1088, 1089, 1090, 1091, 1092, 1093, 1094, 1095, 1096, 1097, 1098,\n",
       "       1099, 1100, 1101, 1102, 1103, 1104, 1105, 1106, 1107, 1108, 1109,\n",
       "       1110, 1111, 1112, 1113, 1114, 1115, 1116, 1117, 1118, 1119, 1120,\n",
       "       1121, 1122, 1123, 1124, 1125, 1126, 1127, 1129, 1130, 1131, 1132,\n",
       "       1133, 1134, 1135, 1136, 1137, 1138, 1139, 1140, 1141, 1142, 1143,\n",
       "       1144, 1145, 1146, 1147, 1148, 1149, 1150, 1151, 1152, 1153, 1154,\n",
       "       1155, 1156, 1157, 1158, 1159, 1160, 1161, 1162, 1163, 1164, 1165,\n",
       "       1166, 1167, 1168, 1169, 1170, 1171, 1172, 1173, 1174, 1175, 1176,\n",
       "       1177, 1178, 1179, 1180, 1181, 1182, 1183, 1184, 1185, 1186, 1187,\n",
       "       1188, 1189, 1190, 1191, 1192, 1193, 1194, 1195, 1196, 1197, 1198,\n",
       "       1199, 1200, 1201, 1202, 1203, 1204, 1205, 1206, 1207, 1208, 1209,\n",
       "       1210, 1211, 1212, 1213, 1214, 1215, 1216, 1217, 1218, 1219, 1220,\n",
       "       1221, 1222, 1223, 1224, 1225, 1226, 1227, 1228, 1229, 1230, 1231,\n",
       "       1232, 1233, 1234, 1235, 1236, 1237, 1238, 1239, 1240, 1241, 1242,\n",
       "       1243, 1244, 1245, 1246, 1247, 1248, 1249, 1250, 1251, 1252, 1253,\n",
       "       1254, 1255, 1256, 1257, 1258, 1259, 1260, 1261, 1262, 1263, 1264,\n",
       "       1265, 1266, 1267, 1268, 1269, 1270, 1271, 1272, 1274, 1275, 1276,\n",
       "       1277, 1278, 1279, 1280, 1281, 1282, 1283, 1284, 1285, 1286, 1287,\n",
       "       1288, 1289, 1290, 1291, 1292, 1293, 1294, 1295, 1296, 1297, 1298,\n",
       "       1299, 1300, 1301, 1302, 1303, 1304, 1305, 1306, 1307, 1308, 1309,\n",
       "       1310, 1311, 1312, 1313, 1314, 1315, 1316, 1317, 1318, 1319, 1320,\n",
       "       1321, 1322, 1323, 1324, 1325, 1326, 1327, 1328, 1329, 1330, 1331,\n",
       "       1332, 1333, 1334, 1335, 1336, 1337, 1338, 1339, 1340, 1341, 1342,\n",
       "       1343, 1344, 1345, 1346, 1347, 1348, 1349, 1350, 1351, 1352, 1353,\n",
       "       1354, 1355, 1356, 1357, 1358, 1359, 1360, 1361, 1362, 1363, 1364,\n",
       "       1365, 1366, 1367, 1368, 1369, 1370, 1372, 1373, 1374, 1375, 1376,\n",
       "       1377, 1378, 1379, 1380, 1381, 1382, 1383, 1384, 1385, 1386, 1387,\n",
       "       1388, 1389, 1390, 1391, 1392, 1393, 1394, 1395, 1396, 1397, 1398,\n",
       "       1399, 1400, 1401, 1402, 1403, 1404, 1405, 1406, 1407, 1408, 1409,\n",
       "       1410, 1411, 1412, 1413, 1414, 1415, 1416, 1417, 1418, 1419, 1420,\n",
       "       1421, 1422, 1423, 1424, 1425, 1426, 1427, 1428, 1429, 1430, 1431,\n",
       "       1432, 1433, 1434, 1435, 1436, 1437, 1438, 1439, 1440, 1441, 1442,\n",
       "       1443, 1444, 1445, 1446, 1447, 1448, 1449, 1450, 1451, 1452, 1453,\n",
       "       1454, 1455, 1456, 1457, 1458, 1459, 1460, 1461, 1462, 1463, 1464,\n",
       "       1465, 1466, 1467, 1468, 1469, 1470, 1471, 1472, 1473, 1474, 1475,\n",
       "       1476, 1477, 1478, 1479, 1480, 1481, 1482, 1483, 1484, 1485, 1486,\n",
       "       1487, 1488, 1489, 1490, 1491, 1492, 1493, 1494, 1495, 1496, 1497,\n",
       "       1498, 1499])"
      ]
     },
     "execution_count": 15,
     "metadata": {},
     "output_type": "execute_result"
    }
   ],
   "source": [
    "df_internet['user_id'].sort_values().unique()"
   ]
  },
  {
   "cell_type": "markdown",
   "metadata": {},
   "source": [
    "**Таблица messages (информация о сообщениях).**"
   ]
  },
  {
   "cell_type": "code",
   "execution_count": 16,
   "metadata": {
    "scrolled": true
   },
   "outputs": [
    {
     "data": {
      "text/html": [
       "<div>\n",
       "<style scoped>\n",
       "    .dataframe tbody tr th:only-of-type {\n",
       "        vertical-align: middle;\n",
       "    }\n",
       "\n",
       "    .dataframe tbody tr th {\n",
       "        vertical-align: top;\n",
       "    }\n",
       "\n",
       "    .dataframe thead th {\n",
       "        text-align: right;\n",
       "    }\n",
       "</style>\n",
       "<table border=\"1\" class=\"dataframe\">\n",
       "  <thead>\n",
       "    <tr style=\"text-align: right;\">\n",
       "      <th></th>\n",
       "      <th>id</th>\n",
       "      <th>message_date</th>\n",
       "      <th>user_id</th>\n",
       "    </tr>\n",
       "  </thead>\n",
       "  <tbody>\n",
       "    <tr>\n",
       "      <th>0</th>\n",
       "      <td>1000_0</td>\n",
       "      <td>2018-06-27</td>\n",
       "      <td>1000</td>\n",
       "    </tr>\n",
       "    <tr>\n",
       "      <th>1</th>\n",
       "      <td>1000_1</td>\n",
       "      <td>2018-10-08</td>\n",
       "      <td>1000</td>\n",
       "    </tr>\n",
       "    <tr>\n",
       "      <th>2</th>\n",
       "      <td>1000_2</td>\n",
       "      <td>2018-08-04</td>\n",
       "      <td>1000</td>\n",
       "    </tr>\n",
       "    <tr>\n",
       "      <th>3</th>\n",
       "      <td>1000_3</td>\n",
       "      <td>2018-06-16</td>\n",
       "      <td>1000</td>\n",
       "    </tr>\n",
       "    <tr>\n",
       "      <th>4</th>\n",
       "      <td>1000_4</td>\n",
       "      <td>2018-12-05</td>\n",
       "      <td>1000</td>\n",
       "    </tr>\n",
       "  </tbody>\n",
       "</table>\n",
       "</div>"
      ],
      "text/plain": [
       "       id message_date  user_id\n",
       "0  1000_0   2018-06-27     1000\n",
       "1  1000_1   2018-10-08     1000\n",
       "2  1000_2   2018-08-04     1000\n",
       "3  1000_3   2018-06-16     1000\n",
       "4  1000_4   2018-12-05     1000"
      ]
     },
     "execution_count": 16,
     "metadata": {},
     "output_type": "execute_result"
    }
   ],
   "source": [
    "df_messages.head()"
   ]
  },
  {
   "cell_type": "code",
   "execution_count": 17,
   "metadata": {
    "scrolled": true
   },
   "outputs": [
    {
     "name": "stdout",
     "output_type": "stream",
     "text": [
      "<class 'pandas.core.frame.DataFrame'>\n",
      "RangeIndex: 123036 entries, 0 to 123035\n",
      "Data columns (total 3 columns):\n",
      " #   Column        Non-Null Count   Dtype \n",
      "---  ------        --------------   ----- \n",
      " 0   id            123036 non-null  object\n",
      " 1   message_date  123036 non-null  object\n",
      " 2   user_id       123036 non-null  int64 \n",
      "dtypes: int64(1), object(2)\n",
      "memory usage: 2.8+ MB\n"
     ]
    }
   ],
   "source": [
    "df_messages.info()"
   ]
  },
  {
   "cell_type": "code",
   "execution_count": 18,
   "metadata": {
    "scrolled": true
   },
   "outputs": [
    {
     "data": {
      "text/html": [
       "<div>\n",
       "<style scoped>\n",
       "    .dataframe tbody tr th:only-of-type {\n",
       "        vertical-align: middle;\n",
       "    }\n",
       "\n",
       "    .dataframe tbody tr th {\n",
       "        vertical-align: top;\n",
       "    }\n",
       "\n",
       "    .dataframe thead th {\n",
       "        text-align: right;\n",
       "    }\n",
       "</style>\n",
       "<table border=\"1\" class=\"dataframe\">\n",
       "  <thead>\n",
       "    <tr style=\"text-align: right;\">\n",
       "      <th></th>\n",
       "      <th>user_id</th>\n",
       "    </tr>\n",
       "  </thead>\n",
       "  <tbody>\n",
       "    <tr>\n",
       "      <th>count</th>\n",
       "      <td>123036.000000</td>\n",
       "    </tr>\n",
       "    <tr>\n",
       "      <th>mean</th>\n",
       "      <td>1256.989410</td>\n",
       "    </tr>\n",
       "    <tr>\n",
       "      <th>std</th>\n",
       "      <td>143.523967</td>\n",
       "    </tr>\n",
       "    <tr>\n",
       "      <th>min</th>\n",
       "      <td>1000.000000</td>\n",
       "    </tr>\n",
       "    <tr>\n",
       "      <th>25%</th>\n",
       "      <td>1134.000000</td>\n",
       "    </tr>\n",
       "    <tr>\n",
       "      <th>50%</th>\n",
       "      <td>1271.000000</td>\n",
       "    </tr>\n",
       "    <tr>\n",
       "      <th>75%</th>\n",
       "      <td>1381.000000</td>\n",
       "    </tr>\n",
       "    <tr>\n",
       "      <th>max</th>\n",
       "      <td>1499.000000</td>\n",
       "    </tr>\n",
       "  </tbody>\n",
       "</table>\n",
       "</div>"
      ],
      "text/plain": [
       "             user_id\n",
       "count  123036.000000\n",
       "mean     1256.989410\n",
       "std       143.523967\n",
       "min      1000.000000\n",
       "25%      1134.000000\n",
       "50%      1271.000000\n",
       "75%      1381.000000\n",
       "max      1499.000000"
      ]
     },
     "execution_count": 18,
     "metadata": {},
     "output_type": "execute_result"
    }
   ],
   "source": [
    "df_messages.describe()"
   ]
  },
  {
   "cell_type": "code",
   "execution_count": 19,
   "metadata": {},
   "outputs": [
    {
     "data": {
      "text/plain": [
       "array([1000, 1002, 1003, 1004, 1005, 1007, 1008, 1009, 1011, 1012, 1013,\n",
       "       1014, 1015, 1016, 1018, 1019, 1020, 1021, 1022, 1023, 1025, 1026,\n",
       "       1027, 1028, 1029, 1030, 1031, 1032, 1033, 1034, 1035, 1036, 1037,\n",
       "       1038, 1039, 1041, 1042, 1043, 1044, 1045, 1046, 1047, 1048, 1050,\n",
       "       1051, 1052, 1054, 1055, 1056, 1057, 1058, 1059, 1060, 1061, 1062,\n",
       "       1064, 1065, 1066, 1067, 1068, 1069, 1070, 1071, 1072, 1073, 1074,\n",
       "       1075, 1076, 1077, 1079, 1080, 1081, 1082, 1083, 1084, 1086, 1087,\n",
       "       1088, 1089, 1090, 1091, 1092, 1093, 1094, 1096, 1097, 1098, 1099,\n",
       "       1100, 1102, 1103, 1104, 1105, 1106, 1108, 1109, 1110, 1111, 1112,\n",
       "       1113, 1115, 1119, 1121, 1122, 1123, 1124, 1125, 1126, 1127, 1130,\n",
       "       1131, 1133, 1134, 1135, 1136, 1137, 1138, 1139, 1140, 1141, 1142,\n",
       "       1144, 1145, 1146, 1147, 1148, 1149, 1150, 1151, 1154, 1155, 1156,\n",
       "       1158, 1159, 1160, 1161, 1163, 1164, 1165, 1166, 1167, 1168, 1169,\n",
       "       1170, 1171, 1172, 1173, 1174, 1176, 1178, 1180, 1181, 1182, 1183,\n",
       "       1184, 1186, 1187, 1188, 1189, 1190, 1191, 1192, 1193, 1194, 1196,\n",
       "       1197, 1198, 1199, 1200, 1202, 1203, 1205, 1206, 1207, 1209, 1211,\n",
       "       1212, 1213, 1214, 1215, 1216, 1217, 1218, 1219, 1221, 1222, 1223,\n",
       "       1226, 1227, 1229, 1230, 1231, 1232, 1233, 1234, 1235, 1236, 1237,\n",
       "       1238, 1239, 1241, 1243, 1244, 1245, 1246, 1247, 1249, 1250, 1251,\n",
       "       1252, 1253, 1256, 1257, 1258, 1259, 1261, 1262, 1263, 1264, 1265,\n",
       "       1266, 1267, 1268, 1269, 1270, 1271, 1272, 1273, 1274, 1275, 1276,\n",
       "       1277, 1278, 1279, 1280, 1281, 1282, 1283, 1284, 1285, 1286, 1287,\n",
       "       1288, 1289, 1293, 1294, 1295, 1296, 1298, 1299, 1300, 1302, 1303,\n",
       "       1304, 1307, 1308, 1309, 1310, 1311, 1312, 1313, 1314, 1315, 1316,\n",
       "       1317, 1318, 1319, 1320, 1321, 1323, 1324, 1325, 1326, 1327, 1328,\n",
       "       1329, 1330, 1331, 1332, 1333, 1335, 1336, 1337, 1338, 1340, 1341,\n",
       "       1342, 1343, 1344, 1345, 1346, 1347, 1348, 1349, 1350, 1351, 1352,\n",
       "       1353, 1354, 1355, 1356, 1357, 1358, 1359, 1361, 1362, 1364, 1365,\n",
       "       1366, 1368, 1369, 1372, 1373, 1374, 1375, 1377, 1378, 1379, 1380,\n",
       "       1381, 1382, 1383, 1384, 1385, 1386, 1387, 1389, 1390, 1391, 1392,\n",
       "       1393, 1394, 1395, 1396, 1398, 1399, 1400, 1401, 1402, 1403, 1404,\n",
       "       1405, 1406, 1407, 1408, 1409, 1410, 1411, 1412, 1413, 1414, 1415,\n",
       "       1416, 1417, 1418, 1419, 1420, 1421, 1422, 1423, 1424, 1425, 1426,\n",
       "       1427, 1430, 1431, 1432, 1433, 1434, 1436, 1437, 1438, 1439, 1440,\n",
       "       1441, 1443, 1444, 1445, 1446, 1447, 1448, 1449, 1450, 1451, 1452,\n",
       "       1453, 1454, 1455, 1457, 1458, 1459, 1460, 1461, 1463, 1464, 1465,\n",
       "       1467, 1468, 1470, 1471, 1472, 1473, 1474, 1475, 1476, 1477, 1478,\n",
       "       1480, 1481, 1482, 1483, 1484, 1485, 1486, 1487, 1488, 1489, 1490,\n",
       "       1491, 1492, 1493, 1495, 1496, 1497, 1498, 1499])"
      ]
     },
     "execution_count": 19,
     "metadata": {},
     "output_type": "execute_result"
    }
   ],
   "source": [
    "df_messages['user_id'].sort_values().unique()"
   ]
  },
  {
   "cell_type": "markdown",
   "metadata": {},
   "source": [
    "**Таблица tariffs (информация о тарифах).**"
   ]
  },
  {
   "cell_type": "code",
   "execution_count": 20,
   "metadata": {
    "scrolled": true
   },
   "outputs": [
    {
     "data": {
      "text/html": [
       "<div>\n",
       "<style scoped>\n",
       "    .dataframe tbody tr th:only-of-type {\n",
       "        vertical-align: middle;\n",
       "    }\n",
       "\n",
       "    .dataframe tbody tr th {\n",
       "        vertical-align: top;\n",
       "    }\n",
       "\n",
       "    .dataframe thead th {\n",
       "        text-align: right;\n",
       "    }\n",
       "</style>\n",
       "<table border=\"1\" class=\"dataframe\">\n",
       "  <thead>\n",
       "    <tr style=\"text-align: right;\">\n",
       "      <th></th>\n",
       "      <th>messages_included</th>\n",
       "      <th>mb_per_month_included</th>\n",
       "      <th>minutes_included</th>\n",
       "      <th>rub_monthly_fee</th>\n",
       "      <th>rub_per_gb</th>\n",
       "      <th>rub_per_message</th>\n",
       "      <th>rub_per_minute</th>\n",
       "      <th>tariff_name</th>\n",
       "    </tr>\n",
       "  </thead>\n",
       "  <tbody>\n",
       "    <tr>\n",
       "      <th>0</th>\n",
       "      <td>50</td>\n",
       "      <td>15360</td>\n",
       "      <td>500</td>\n",
       "      <td>550</td>\n",
       "      <td>200</td>\n",
       "      <td>3</td>\n",
       "      <td>3</td>\n",
       "      <td>smart</td>\n",
       "    </tr>\n",
       "    <tr>\n",
       "      <th>1</th>\n",
       "      <td>1000</td>\n",
       "      <td>30720</td>\n",
       "      <td>3000</td>\n",
       "      <td>1950</td>\n",
       "      <td>150</td>\n",
       "      <td>1</td>\n",
       "      <td>1</td>\n",
       "      <td>ultra</td>\n",
       "    </tr>\n",
       "  </tbody>\n",
       "</table>\n",
       "</div>"
      ],
      "text/plain": [
       "   messages_included  mb_per_month_included  minutes_included  \\\n",
       "0                 50                  15360               500   \n",
       "1               1000                  30720              3000   \n",
       "\n",
       "   rub_monthly_fee  rub_per_gb  rub_per_message  rub_per_minute tariff_name  \n",
       "0              550         200                3               3       smart  \n",
       "1             1950         150                1               1       ultra  "
      ]
     },
     "execution_count": 20,
     "metadata": {},
     "output_type": "execute_result"
    }
   ],
   "source": [
    "df_tariffs.head()"
   ]
  },
  {
   "cell_type": "code",
   "execution_count": 21,
   "metadata": {},
   "outputs": [
    {
     "name": "stdout",
     "output_type": "stream",
     "text": [
      "<class 'pandas.core.frame.DataFrame'>\n",
      "RangeIndex: 2 entries, 0 to 1\n",
      "Data columns (total 8 columns):\n",
      " #   Column                 Non-Null Count  Dtype \n",
      "---  ------                 --------------  ----- \n",
      " 0   messages_included      2 non-null      int64 \n",
      " 1   mb_per_month_included  2 non-null      int64 \n",
      " 2   minutes_included       2 non-null      int64 \n",
      " 3   rub_monthly_fee        2 non-null      int64 \n",
      " 4   rub_per_gb             2 non-null      int64 \n",
      " 5   rub_per_message        2 non-null      int64 \n",
      " 6   rub_per_minute         2 non-null      int64 \n",
      " 7   tariff_name            2 non-null      object\n",
      "dtypes: int64(7), object(1)\n",
      "memory usage: 256.0+ bytes\n"
     ]
    }
   ],
   "source": [
    "df_tariffs.info()"
   ]
  },
  {
   "cell_type": "markdown",
   "metadata": {},
   "source": [
    "**Таблица users (информация о пользователях)**"
   ]
  },
  {
   "cell_type": "code",
   "execution_count": 22,
   "metadata": {},
   "outputs": [
    {
     "data": {
      "text/html": [
       "<div>\n",
       "<style scoped>\n",
       "    .dataframe tbody tr th:only-of-type {\n",
       "        vertical-align: middle;\n",
       "    }\n",
       "\n",
       "    .dataframe tbody tr th {\n",
       "        vertical-align: top;\n",
       "    }\n",
       "\n",
       "    .dataframe thead th {\n",
       "        text-align: right;\n",
       "    }\n",
       "</style>\n",
       "<table border=\"1\" class=\"dataframe\">\n",
       "  <thead>\n",
       "    <tr style=\"text-align: right;\">\n",
       "      <th></th>\n",
       "      <th>user_id</th>\n",
       "      <th>age</th>\n",
       "      <th>churn_date</th>\n",
       "      <th>city</th>\n",
       "      <th>first_name</th>\n",
       "      <th>last_name</th>\n",
       "      <th>reg_date</th>\n",
       "      <th>tariff</th>\n",
       "    </tr>\n",
       "  </thead>\n",
       "  <tbody>\n",
       "    <tr>\n",
       "      <th>0</th>\n",
       "      <td>1000</td>\n",
       "      <td>52</td>\n",
       "      <td>NaN</td>\n",
       "      <td>Краснодар</td>\n",
       "      <td>Рафаил</td>\n",
       "      <td>Верещагин</td>\n",
       "      <td>2018-05-25</td>\n",
       "      <td>ultra</td>\n",
       "    </tr>\n",
       "    <tr>\n",
       "      <th>1</th>\n",
       "      <td>1001</td>\n",
       "      <td>41</td>\n",
       "      <td>NaN</td>\n",
       "      <td>Москва</td>\n",
       "      <td>Иван</td>\n",
       "      <td>Ежов</td>\n",
       "      <td>2018-11-01</td>\n",
       "      <td>smart</td>\n",
       "    </tr>\n",
       "    <tr>\n",
       "      <th>2</th>\n",
       "      <td>1002</td>\n",
       "      <td>59</td>\n",
       "      <td>NaN</td>\n",
       "      <td>Стерлитамак</td>\n",
       "      <td>Евгений</td>\n",
       "      <td>Абрамович</td>\n",
       "      <td>2018-06-17</td>\n",
       "      <td>smart</td>\n",
       "    </tr>\n",
       "    <tr>\n",
       "      <th>3</th>\n",
       "      <td>1003</td>\n",
       "      <td>23</td>\n",
       "      <td>NaN</td>\n",
       "      <td>Москва</td>\n",
       "      <td>Белла</td>\n",
       "      <td>Белякова</td>\n",
       "      <td>2018-08-17</td>\n",
       "      <td>ultra</td>\n",
       "    </tr>\n",
       "    <tr>\n",
       "      <th>4</th>\n",
       "      <td>1004</td>\n",
       "      <td>68</td>\n",
       "      <td>NaN</td>\n",
       "      <td>Новокузнецк</td>\n",
       "      <td>Татьяна</td>\n",
       "      <td>Авдеенко</td>\n",
       "      <td>2018-05-14</td>\n",
       "      <td>ultra</td>\n",
       "    </tr>\n",
       "  </tbody>\n",
       "</table>\n",
       "</div>"
      ],
      "text/plain": [
       "   user_id  age churn_date         city first_name  last_name    reg_date  \\\n",
       "0     1000   52        NaN    Краснодар     Рафаил  Верещагин  2018-05-25   \n",
       "1     1001   41        NaN       Москва       Иван       Ежов  2018-11-01   \n",
       "2     1002   59        NaN  Стерлитамак    Евгений  Абрамович  2018-06-17   \n",
       "3     1003   23        NaN       Москва      Белла   Белякова  2018-08-17   \n",
       "4     1004   68        NaN  Новокузнецк    Татьяна   Авдеенко  2018-05-14   \n",
       "\n",
       "  tariff  \n",
       "0  ultra  \n",
       "1  smart  \n",
       "2  smart  \n",
       "3  ultra  \n",
       "4  ultra  "
      ]
     },
     "execution_count": 22,
     "metadata": {},
     "output_type": "execute_result"
    }
   ],
   "source": [
    "df_users.head()"
   ]
  },
  {
   "cell_type": "code",
   "execution_count": 23,
   "metadata": {},
   "outputs": [
    {
     "name": "stdout",
     "output_type": "stream",
     "text": [
      "<class 'pandas.core.frame.DataFrame'>\n",
      "RangeIndex: 500 entries, 0 to 499\n",
      "Data columns (total 8 columns):\n",
      " #   Column      Non-Null Count  Dtype \n",
      "---  ------      --------------  ----- \n",
      " 0   user_id     500 non-null    int64 \n",
      " 1   age         500 non-null    int64 \n",
      " 2   churn_date  38 non-null     object\n",
      " 3   city        500 non-null    object\n",
      " 4   first_name  500 non-null    object\n",
      " 5   last_name   500 non-null    object\n",
      " 6   reg_date    500 non-null    object\n",
      " 7   tariff      500 non-null    object\n",
      "dtypes: int64(2), object(6)\n",
      "memory usage: 31.4+ KB\n"
     ]
    }
   ],
   "source": [
    "df_users.info()"
   ]
  },
  {
   "cell_type": "code",
   "execution_count": 24,
   "metadata": {
    "scrolled": false
   },
   "outputs": [
    {
     "data": {
      "text/html": [
       "<div>\n",
       "<style scoped>\n",
       "    .dataframe tbody tr th:only-of-type {\n",
       "        vertical-align: middle;\n",
       "    }\n",
       "\n",
       "    .dataframe tbody tr th {\n",
       "        vertical-align: top;\n",
       "    }\n",
       "\n",
       "    .dataframe thead th {\n",
       "        text-align: right;\n",
       "    }\n",
       "</style>\n",
       "<table border=\"1\" class=\"dataframe\">\n",
       "  <thead>\n",
       "    <tr style=\"text-align: right;\">\n",
       "      <th></th>\n",
       "      <th>user_id</th>\n",
       "      <th>age</th>\n",
       "    </tr>\n",
       "  </thead>\n",
       "  <tbody>\n",
       "    <tr>\n",
       "      <th>count</th>\n",
       "      <td>500.000000</td>\n",
       "      <td>500.00000</td>\n",
       "    </tr>\n",
       "    <tr>\n",
       "      <th>mean</th>\n",
       "      <td>1249.500000</td>\n",
       "      <td>46.58800</td>\n",
       "    </tr>\n",
       "    <tr>\n",
       "      <th>std</th>\n",
       "      <td>144.481833</td>\n",
       "      <td>16.66763</td>\n",
       "    </tr>\n",
       "    <tr>\n",
       "      <th>min</th>\n",
       "      <td>1000.000000</td>\n",
       "      <td>18.00000</td>\n",
       "    </tr>\n",
       "    <tr>\n",
       "      <th>25%</th>\n",
       "      <td>1124.750000</td>\n",
       "      <td>32.00000</td>\n",
       "    </tr>\n",
       "    <tr>\n",
       "      <th>50%</th>\n",
       "      <td>1249.500000</td>\n",
       "      <td>46.00000</td>\n",
       "    </tr>\n",
       "    <tr>\n",
       "      <th>75%</th>\n",
       "      <td>1374.250000</td>\n",
       "      <td>62.00000</td>\n",
       "    </tr>\n",
       "    <tr>\n",
       "      <th>max</th>\n",
       "      <td>1499.000000</td>\n",
       "      <td>75.00000</td>\n",
       "    </tr>\n",
       "  </tbody>\n",
       "</table>\n",
       "</div>"
      ],
      "text/plain": [
       "           user_id        age\n",
       "count   500.000000  500.00000\n",
       "mean   1249.500000   46.58800\n",
       "std     144.481833   16.66763\n",
       "min    1000.000000   18.00000\n",
       "25%    1124.750000   32.00000\n",
       "50%    1249.500000   46.00000\n",
       "75%    1374.250000   62.00000\n",
       "max    1499.000000   75.00000"
      ]
     },
     "execution_count": 24,
     "metadata": {},
     "output_type": "execute_result"
    }
   ],
   "source": [
    "df_users.describe()"
   ]
  },
  {
   "cell_type": "code",
   "execution_count": 25,
   "metadata": {},
   "outputs": [
    {
     "data": {
      "text/plain": [
       "array([1000, 1001, 1002, 1003, 1004, 1005, 1006, 1007, 1008, 1009, 1010,\n",
       "       1011, 1012, 1013, 1014, 1015, 1016, 1017, 1018, 1019, 1020, 1021,\n",
       "       1022, 1023, 1024, 1025, 1026, 1027, 1028, 1029, 1030, 1031, 1032,\n",
       "       1033, 1034, 1035, 1036, 1037, 1038, 1039, 1040, 1041, 1042, 1043,\n",
       "       1044, 1045, 1046, 1047, 1048, 1049, 1050, 1051, 1052, 1053, 1054,\n",
       "       1055, 1056, 1057, 1058, 1059, 1060, 1061, 1062, 1063, 1064, 1065,\n",
       "       1066, 1067, 1068, 1069, 1070, 1071, 1072, 1073, 1074, 1075, 1076,\n",
       "       1077, 1078, 1079, 1080, 1081, 1082, 1083, 1084, 1085, 1086, 1087,\n",
       "       1088, 1089, 1090, 1091, 1092, 1093, 1094, 1095, 1096, 1097, 1098,\n",
       "       1099, 1100, 1101, 1102, 1103, 1104, 1105, 1106, 1107, 1108, 1109,\n",
       "       1110, 1111, 1112, 1113, 1114, 1115, 1116, 1117, 1118, 1119, 1120,\n",
       "       1121, 1122, 1123, 1124, 1125, 1126, 1127, 1128, 1129, 1130, 1131,\n",
       "       1132, 1133, 1134, 1135, 1136, 1137, 1138, 1139, 1140, 1141, 1142,\n",
       "       1143, 1144, 1145, 1146, 1147, 1148, 1149, 1150, 1151, 1152, 1153,\n",
       "       1154, 1155, 1156, 1157, 1158, 1159, 1160, 1161, 1162, 1163, 1164,\n",
       "       1165, 1166, 1167, 1168, 1169, 1170, 1171, 1172, 1173, 1174, 1175,\n",
       "       1176, 1177, 1178, 1179, 1180, 1181, 1182, 1183, 1184, 1185, 1186,\n",
       "       1187, 1188, 1189, 1190, 1191, 1192, 1193, 1194, 1195, 1196, 1197,\n",
       "       1198, 1199, 1200, 1201, 1202, 1203, 1204, 1205, 1206, 1207, 1208,\n",
       "       1209, 1210, 1211, 1212, 1213, 1214, 1215, 1216, 1217, 1218, 1219,\n",
       "       1220, 1221, 1222, 1223, 1224, 1225, 1226, 1227, 1228, 1229, 1230,\n",
       "       1231, 1232, 1233, 1234, 1235, 1236, 1237, 1238, 1239, 1240, 1241,\n",
       "       1242, 1243, 1244, 1245, 1246, 1247, 1248, 1249, 1250, 1251, 1252,\n",
       "       1253, 1254, 1255, 1256, 1257, 1258, 1259, 1260, 1261, 1262, 1263,\n",
       "       1264, 1265, 1266, 1267, 1268, 1269, 1270, 1271, 1272, 1273, 1274,\n",
       "       1275, 1276, 1277, 1278, 1279, 1280, 1281, 1282, 1283, 1284, 1285,\n",
       "       1286, 1287, 1288, 1289, 1290, 1291, 1292, 1293, 1294, 1295, 1296,\n",
       "       1297, 1298, 1299, 1300, 1301, 1302, 1303, 1304, 1305, 1306, 1307,\n",
       "       1308, 1309, 1310, 1311, 1312, 1313, 1314, 1315, 1316, 1317, 1318,\n",
       "       1319, 1320, 1321, 1322, 1323, 1324, 1325, 1326, 1327, 1328, 1329,\n",
       "       1330, 1331, 1332, 1333, 1334, 1335, 1336, 1337, 1338, 1339, 1340,\n",
       "       1341, 1342, 1343, 1344, 1345, 1346, 1347, 1348, 1349, 1350, 1351,\n",
       "       1352, 1353, 1354, 1355, 1356, 1357, 1358, 1359, 1360, 1361, 1362,\n",
       "       1363, 1364, 1365, 1366, 1367, 1368, 1369, 1370, 1371, 1372, 1373,\n",
       "       1374, 1375, 1376, 1377, 1378, 1379, 1380, 1381, 1382, 1383, 1384,\n",
       "       1385, 1386, 1387, 1388, 1389, 1390, 1391, 1392, 1393, 1394, 1395,\n",
       "       1396, 1397, 1398, 1399, 1400, 1401, 1402, 1403, 1404, 1405, 1406,\n",
       "       1407, 1408, 1409, 1410, 1411, 1412, 1413, 1414, 1415, 1416, 1417,\n",
       "       1418, 1419, 1420, 1421, 1422, 1423, 1424, 1425, 1426, 1427, 1428,\n",
       "       1429, 1430, 1431, 1432, 1433, 1434, 1435, 1436, 1437, 1438, 1439,\n",
       "       1440, 1441, 1442, 1443, 1444, 1445, 1446, 1447, 1448, 1449, 1450,\n",
       "       1451, 1452, 1453, 1454, 1455, 1456, 1457, 1458, 1459, 1460, 1461,\n",
       "       1462, 1463, 1464, 1465, 1466, 1467, 1468, 1469, 1470, 1471, 1472,\n",
       "       1473, 1474, 1475, 1476, 1477, 1478, 1479, 1480, 1481, 1482, 1483,\n",
       "       1484, 1485, 1486, 1487, 1488, 1489, 1490, 1491, 1492, 1493, 1494,\n",
       "       1495, 1496, 1497, 1498, 1499])"
      ]
     },
     "execution_count": 25,
     "metadata": {},
     "output_type": "execute_result"
    }
   ],
   "source": [
    "df_users['user_id'].sort_values().unique()"
   ]
  },
  {
   "cell_type": "markdown",
   "metadata": {},
   "source": [
    "Проверим пересечение  уникальных первичных ключей в таблицах (столбец user_id)  между объединяемыми таблицами."
   ]
  },
  {
   "cell_type": "code",
   "execution_count": 26,
   "metadata": {
    "scrolled": true
   },
   "outputs": [
    {
     "data": {
      "text/plain": [
       "[1000,\n",
       " 1002,\n",
       " 1003,\n",
       " 1004,\n",
       " 1005,\n",
       " 1007,\n",
       " 1008,\n",
       " 1009,\n",
       " 1011,\n",
       " 1012,\n",
       " 1013,\n",
       " 1014,\n",
       " 1015,\n",
       " 1016,\n",
       " 1018,\n",
       " 1019,\n",
       " 1020,\n",
       " 1021,\n",
       " 1022,\n",
       " 1023,\n",
       " 1025,\n",
       " 1026,\n",
       " 1027,\n",
       " 1028,\n",
       " 1029,\n",
       " 1030,\n",
       " 1031,\n",
       " 1032,\n",
       " 1033,\n",
       " 1034,\n",
       " 1035,\n",
       " 1036,\n",
       " 1037,\n",
       " 1038,\n",
       " 1039,\n",
       " 1041,\n",
       " 1042,\n",
       " 1043,\n",
       " 1044,\n",
       " 1045,\n",
       " 1046,\n",
       " 1047,\n",
       " 1048,\n",
       " 1050,\n",
       " 1051,\n",
       " 1052,\n",
       " 1054,\n",
       " 1055,\n",
       " 1056,\n",
       " 1057,\n",
       " 1058,\n",
       " 1059,\n",
       " 1060,\n",
       " 1061,\n",
       " 1062,\n",
       " 1064,\n",
       " 1065,\n",
       " 1066,\n",
       " 1067,\n",
       " 1068,\n",
       " 1069,\n",
       " 1070,\n",
       " 1071,\n",
       " 1072,\n",
       " 1073,\n",
       " 1074,\n",
       " 1075,\n",
       " 1076,\n",
       " 1077,\n",
       " 1079,\n",
       " 1080,\n",
       " 1081,\n",
       " 1082,\n",
       " 1083,\n",
       " 1084,\n",
       " 1086,\n",
       " 1087,\n",
       " 1088,\n",
       " 1089,\n",
       " 1090,\n",
       " 1092,\n",
       " 1093,\n",
       " 1094,\n",
       " 1096,\n",
       " 1097,\n",
       " 1098,\n",
       " 1099,\n",
       " 1100,\n",
       " 1102,\n",
       " 1103,\n",
       " 1104,\n",
       " 1105,\n",
       " 1108,\n",
       " 1109,\n",
       " 1110,\n",
       " 1111,\n",
       " 1112,\n",
       " 1113,\n",
       " 1115,\n",
       " 1119,\n",
       " 1121,\n",
       " 1122,\n",
       " 1123,\n",
       " 1124,\n",
       " 1125,\n",
       " 1126,\n",
       " 1127,\n",
       " 1130,\n",
       " 1131,\n",
       " 1133,\n",
       " 1134,\n",
       " 1135,\n",
       " 1136,\n",
       " 1137,\n",
       " 1138,\n",
       " 1139,\n",
       " 1140,\n",
       " 1141,\n",
       " 1142,\n",
       " 1144,\n",
       " 1145,\n",
       " 1146,\n",
       " 1147,\n",
       " 1148,\n",
       " 1149,\n",
       " 1150,\n",
       " 1151,\n",
       " 1154,\n",
       " 1155,\n",
       " 1156,\n",
       " 1158,\n",
       " 1159,\n",
       " 1160,\n",
       " 1161,\n",
       " 1163,\n",
       " 1164,\n",
       " 1165,\n",
       " 1166,\n",
       " 1167,\n",
       " 1168,\n",
       " 1169,\n",
       " 1170,\n",
       " 1171,\n",
       " 1172,\n",
       " 1173,\n",
       " 1174,\n",
       " 1176,\n",
       " 1178,\n",
       " 1180,\n",
       " 1181,\n",
       " 1182,\n",
       " 1183,\n",
       " 1184,\n",
       " 1186,\n",
       " 1187,\n",
       " 1188,\n",
       " 1189,\n",
       " 1190,\n",
       " 1191,\n",
       " 1192,\n",
       " 1193,\n",
       " 1194,\n",
       " 1196,\n",
       " 1197,\n",
       " 1198,\n",
       " 1199,\n",
       " 1200,\n",
       " 1202,\n",
       " 1203,\n",
       " 1205,\n",
       " 1206,\n",
       " 1207,\n",
       " 1209,\n",
       " 1211,\n",
       " 1212,\n",
       " 1213,\n",
       " 1214,\n",
       " 1215,\n",
       " 1216,\n",
       " 1217,\n",
       " 1218,\n",
       " 1219,\n",
       " 1221,\n",
       " 1222,\n",
       " 1223,\n",
       " 1226,\n",
       " 1227,\n",
       " 1229,\n",
       " 1230,\n",
       " 1232,\n",
       " 1233,\n",
       " 1234,\n",
       " 1235,\n",
       " 1236,\n",
       " 1237,\n",
       " 1238,\n",
       " 1239,\n",
       " 1241,\n",
       " 1243,\n",
       " 1244,\n",
       " 1245,\n",
       " 1246,\n",
       " 1247,\n",
       " 1249,\n",
       " 1250,\n",
       " 1251,\n",
       " 1252,\n",
       " 1253,\n",
       " 1256,\n",
       " 1257,\n",
       " 1258,\n",
       " 1259,\n",
       " 1261,\n",
       " 1262,\n",
       " 1263,\n",
       " 1264,\n",
       " 1265,\n",
       " 1266,\n",
       " 1267,\n",
       " 1268,\n",
       " 1269,\n",
       " 1270,\n",
       " 1271,\n",
       " 1272,\n",
       " 1274,\n",
       " 1275,\n",
       " 1276,\n",
       " 1277,\n",
       " 1278,\n",
       " 1279,\n",
       " 1280,\n",
       " 1281,\n",
       " 1282,\n",
       " 1283,\n",
       " 1284,\n",
       " 1285,\n",
       " 1286,\n",
       " 1287,\n",
       " 1288,\n",
       " 1289,\n",
       " 1293,\n",
       " 1294,\n",
       " 1295,\n",
       " 1296,\n",
       " 1298,\n",
       " 1299,\n",
       " 1300,\n",
       " 1302,\n",
       " 1303,\n",
       " 1304,\n",
       " 1307,\n",
       " 1308,\n",
       " 1309,\n",
       " 1310,\n",
       " 1311,\n",
       " 1312,\n",
       " 1313,\n",
       " 1314,\n",
       " 1315,\n",
       " 1316,\n",
       " 1317,\n",
       " 1318,\n",
       " 1319,\n",
       " 1320,\n",
       " 1321,\n",
       " 1323,\n",
       " 1324,\n",
       " 1325,\n",
       " 1326,\n",
       " 1327,\n",
       " 1329,\n",
       " 1330,\n",
       " 1331,\n",
       " 1332,\n",
       " 1333,\n",
       " 1335,\n",
       " 1336,\n",
       " 1337,\n",
       " 1338,\n",
       " 1340,\n",
       " 1341,\n",
       " 1342,\n",
       " 1343,\n",
       " 1344,\n",
       " 1345,\n",
       " 1346,\n",
       " 1347,\n",
       " 1348,\n",
       " 1349,\n",
       " 1350,\n",
       " 1351,\n",
       " 1352,\n",
       " 1353,\n",
       " 1354,\n",
       " 1355,\n",
       " 1356,\n",
       " 1357,\n",
       " 1358,\n",
       " 1359,\n",
       " 1361,\n",
       " 1362,\n",
       " 1364,\n",
       " 1365,\n",
       " 1366,\n",
       " 1368,\n",
       " 1369,\n",
       " 1372,\n",
       " 1373,\n",
       " 1374,\n",
       " 1375,\n",
       " 1377,\n",
       " 1378,\n",
       " 1379,\n",
       " 1380,\n",
       " 1381,\n",
       " 1382,\n",
       " 1383,\n",
       " 1384,\n",
       " 1385,\n",
       " 1386,\n",
       " 1387,\n",
       " 1389,\n",
       " 1390,\n",
       " 1391,\n",
       " 1392,\n",
       " 1393,\n",
       " 1394,\n",
       " 1395,\n",
       " 1396,\n",
       " 1398,\n",
       " 1399,\n",
       " 1400,\n",
       " 1401,\n",
       " 1402,\n",
       " 1403,\n",
       " 1404,\n",
       " 1405,\n",
       " 1406,\n",
       " 1407,\n",
       " 1408,\n",
       " 1409,\n",
       " 1410,\n",
       " 1411,\n",
       " 1412,\n",
       " 1413,\n",
       " 1414,\n",
       " 1415,\n",
       " 1416,\n",
       " 1417,\n",
       " 1418,\n",
       " 1419,\n",
       " 1420,\n",
       " 1421,\n",
       " 1422,\n",
       " 1423,\n",
       " 1424,\n",
       " 1425,\n",
       " 1426,\n",
       " 1427,\n",
       " 1430,\n",
       " 1431,\n",
       " 1432,\n",
       " 1433,\n",
       " 1434,\n",
       " 1436,\n",
       " 1437,\n",
       " 1438,\n",
       " 1439,\n",
       " 1440,\n",
       " 1441,\n",
       " 1443,\n",
       " 1444,\n",
       " 1445,\n",
       " 1446,\n",
       " 1447,\n",
       " 1448,\n",
       " 1449,\n",
       " 1450,\n",
       " 1451,\n",
       " 1452,\n",
       " 1453,\n",
       " 1454,\n",
       " 1455,\n",
       " 1457,\n",
       " 1458,\n",
       " 1459,\n",
       " 1460,\n",
       " 1461,\n",
       " 1463,\n",
       " 1464,\n",
       " 1465,\n",
       " 1467,\n",
       " 1468,\n",
       " 1470,\n",
       " 1471,\n",
       " 1472,\n",
       " 1474,\n",
       " 1475,\n",
       " 1476,\n",
       " 1477,\n",
       " 1478,\n",
       " 1480,\n",
       " 1481,\n",
       " 1482,\n",
       " 1483,\n",
       " 1484,\n",
       " 1485,\n",
       " 1486,\n",
       " 1487,\n",
       " 1488,\n",
       " 1490,\n",
       " 1491,\n",
       " 1492,\n",
       " 1493,\n",
       " 1495,\n",
       " 1496,\n",
       " 1497,\n",
       " 1498,\n",
       " 1499]"
      ]
     },
     "execution_count": 26,
     "metadata": {},
     "output_type": "execute_result"
    }
   ],
   "source": [
    "c = list(set(df_calls['user_id']) & set(df_internet['user_id']) & set(df_messages['user_id']) & set(df_users['user_id']))\n",
    "c"
   ]
  },
  {
   "cell_type": "markdown",
   "metadata": {},
   "source": [
    "Итак, в наличии пять файлов, которые содержат информацию  о пользователях компании «Мегалайн». \n",
    "\n",
    "Согласно документации к данным:\n",
    "\n",
    "Таблица **users** (информация о пользователях):\n",
    "*\t`user_id` — уникальный идентификатор пользователя\n",
    "*\t`first_name` — имя пользователя\n",
    "*\t`last_name` — фамилия пользователя\n",
    "*\t`age` — возраст пользователя (годы)\n",
    "*\t`reg_date` — дата подключения тарифа (день, месяц, год)\n",
    "*\t`churn_date` — дата прекращения пользования тарифом (если значение пропущено, то тариф ещё действовал на момент выгрузки данных)\n",
    "*\t`city` — город проживания пользователя\n",
    "*\t`tariff` — название тарифного плана\n",
    "\n",
    "Таблица **calls** (информация о звонках):\n",
    "*\t`id` — уникальный номер звонка\n",
    "*\t`call_date` — дата звонка\n",
    "*\t`duration` — длительность звонка в минутах\n",
    "*\t`user_id` — идентификатор пользователя, сделавшего звонок\n",
    "\n",
    "Таблица **messages** (информация о сообщениях):\n",
    "*\t`id` — уникальный номер сообщения\n",
    "*\t`message_date` — дата сообщения\n",
    "*\t`user_id` — идентификатор пользователя, отправившего сообщение\n",
    "\n",
    "Таблица **internet** (информация об интернет-сессиях):\n",
    "*\t`id` — уникальный номер сессии\n",
    "*\t`mb_used` — объём потраченного за сессию интернет-трафика (в мегабайтах)\n",
    "*\t`session_date` — дата интернет-сессии\n",
    "*\t`user_id` — идентификатор пользователя\n",
    "\n",
    "Таблица **tariffs** (информация о тарифах):\n",
    "*\t`tariff_name` — название тарифа\n",
    "*\t`rub_monthly_fee` — ежемесячная абонентская плата в рублях\n",
    "*\t`minutes_included` — количество минут разговора в месяц, включённых в абонентскую плату\n",
    "*\t`messages_included` — количество сообщений в месяц, включённых в абонентскую плату\n",
    "*\t`mb_per_month_included` — объём интернет-трафика, включённого в абонентскую плату (в мегабайтах)\n",
    "*\t`rub_per_minute` — стоимость минуты разговора сверх тарифного пакета (например, если в тарифе 100 минут разговора в месяц, то со 101 минуты будет взиматься плата)\n",
    "*\t`rub_per_message` — стоимость отправки сообщения сверх тарифного пакета\n",
    "*\t`rub_per_gb` — стоимость дополнительного гигабайта интернет-трафика сверх тарифного пакета (1 гигабайт = 1024 мегабайта)\n",
    "\n",
    "**Описание тарифов**\n",
    "\n",
    "**Тариф «Смарт»**\n",
    "1.\tЕжемесячная плата: 550 рублей\n",
    "2.\tВключено 500 минут разговора, 50 сообщений и 15 Гб интернет-трафика\n",
    "3.\tСтоимость услуг сверх тарифного пакета:\n",
    "    * минута разговора: 3 рубля\n",
    "    * сообщение: 3 рубля\n",
    "    * 1 Гб интернет-трафика: 200 рублей\n",
    "**Тариф «Ультра»**\n",
    "1.\tЕжемесячная плата: 1950 рублей\n",
    "2.\tВключено 3000 минут разговора, 1000 сообщений и 30 Гб интернет-трафика\n",
    "3.\tСтоимость услуг сверх тарифного пакета:\n",
    "    * минута разговора: 1 рубль\n",
    "    * сообщение: 1 рубль\n",
    "    * 1 Гб интернет-трафика: 150 рублей\n",
    "\n",
    "В четырех таблицах у столбцов с датами определяется неверный тип данных. Есть пропущенные значения."
   ]
  },
  {
   "cell_type": "markdown",
   "metadata": {},
   "source": [
    "### Вывод"
   ]
  },
  {
   "cell_type": "markdown",
   "metadata": {},
   "source": [
    "Информация содержится в пяти таблицах:\n",
    "\n",
    "* таблица **users** содержит информацию непосредственно о пользователях: уникальный идентификатор, имя, фамилию, возраст и город проживания, а также дату подключения, дату прекращения пользования тарифом и название тарифного плана;\n",
    "\n",
    "\n",
    "* Таблица **calls** содержит информацию  о звонках: уникальный номер, дату и длительность звонка, а также идентификатор пользователя;\n",
    "\n",
    "\n",
    "* Таблица **messages** содержит информацию о сообщениях: уникальный номер и дату сообщения, а также идентификатор пользователя;\n",
    "\n",
    "\n",
    "\n",
    "* Таблица **internet** содержит информацию об интернет-сессиях: уникальный номер, дату интернет-сессии, объём потраченного за сессию интернет-трафика, а также идентификатор пользователя;\n",
    "\n",
    "\n",
    "* Таблица **tariffs** содержит информацию  о тарифах: название тарифа, стоимость абонентской платы и включеные в нее минуты разговора, сообщения, объём интернет-трафика, а также стоимость сверх тарифного пакета.\n",
    "\n",
    "Предварительно можно утверждать, что, данных достаточно для анализа поведения пользователей и определения тарифа, приносящего большую прибыль. Обнаружены не верные форматы данных и пропущенные значения.\n",
    "\n",
    "Чтобы двигаться дальше, нужно устранить проблемы в данных."
   ]
  },
  {
   "cell_type": "markdown",
   "metadata": {},
   "source": [
    "## Предобработка данных"
   ]
  },
  {
   "cell_type": "markdown",
   "metadata": {},
   "source": [
    "### Подготовка данных"
   ]
  },
  {
   "cell_type": "markdown",
   "metadata": {},
   "source": [
    "В четырех таблицах столбцы с датами переведем из типа object в тип datetime методом to_datetime() для того, чтобы можно было совершать операции с данными."
   ]
  },
  {
   "cell_type": "code",
   "execution_count": 27,
   "metadata": {},
   "outputs": [
    {
     "data": {
      "text/plain": [
       "id                   object\n",
       "call_date    datetime64[ns]\n",
       "duration            float64\n",
       "user_id               int64\n",
       "dtype: object"
      ]
     },
     "execution_count": 27,
     "metadata": {},
     "output_type": "execute_result"
    }
   ],
   "source": [
    "df_calls['call_date'] = pd.to_datetime(df_calls['call_date'], format='%Y-%m-%d')\n",
    "df_calls.dtypes"
   ]
  },
  {
   "cell_type": "code",
   "execution_count": 28,
   "metadata": {},
   "outputs": [
    {
     "data": {
      "text/plain": [
       "id                      object\n",
       "message_date    datetime64[ns]\n",
       "user_id                  int64\n",
       "dtype: object"
      ]
     },
     "execution_count": 28,
     "metadata": {},
     "output_type": "execute_result"
    }
   ],
   "source": [
    "df_messages['message_date'] = pd.to_datetime(df_messages['message_date'], format='%Y-%m-%d')\n",
    "df_messages.dtypes"
   ]
  },
  {
   "cell_type": "code",
   "execution_count": 29,
   "metadata": {},
   "outputs": [
    {
     "data": {
      "text/plain": [
       "id                      object\n",
       "mb_used                float64\n",
       "session_date    datetime64[ns]\n",
       "user_id                  int64\n",
       "dtype: object"
      ]
     },
     "execution_count": 29,
     "metadata": {},
     "output_type": "execute_result"
    }
   ],
   "source": [
    "df_internet['session_date'] = pd.to_datetime(df_internet['session_date'], format='%Y-%m-%d')\n",
    "df_internet.dtypes"
   ]
  },
  {
   "cell_type": "code",
   "execution_count": 30,
   "metadata": {
    "scrolled": true
   },
   "outputs": [
    {
     "data": {
      "text/plain": [
       "user_id                int64\n",
       "age                    int64\n",
       "churn_date    datetime64[ns]\n",
       "city                  object\n",
       "first_name            object\n",
       "last_name             object\n",
       "reg_date      datetime64[ns]\n",
       "tariff                object\n",
       "dtype: object"
      ]
     },
     "execution_count": 30,
     "metadata": {},
     "output_type": "execute_result"
    }
   ],
   "source": [
    "df_users['churn_date'] = pd.to_datetime(df_users['churn_date'], format='%Y-%m-%d')\n",
    "df_users['reg_date'] = pd.to_datetime(df_users['reg_date'], format='%Y-%m-%d')\n",
    "df_users.dtypes"
   ]
  },
  {
   "cell_type": "markdown",
   "metadata": {},
   "source": [
    "В столбце **duration**  таблицы **calls** в соответствии с условиями тарифов округлим секунды до минут."
   ]
  },
  {
   "cell_type": "code",
   "execution_count": 31,
   "metadata": {
    "scrolled": true
   },
   "outputs": [
    {
     "data": {
      "text/html": [
       "<div>\n",
       "<style scoped>\n",
       "    .dataframe tbody tr th:only-of-type {\n",
       "        vertical-align: middle;\n",
       "    }\n",
       "\n",
       "    .dataframe tbody tr th {\n",
       "        vertical-align: top;\n",
       "    }\n",
       "\n",
       "    .dataframe thead th {\n",
       "        text-align: right;\n",
       "    }\n",
       "</style>\n",
       "<table border=\"1\" class=\"dataframe\">\n",
       "  <thead>\n",
       "    <tr style=\"text-align: right;\">\n",
       "      <th></th>\n",
       "      <th>id</th>\n",
       "      <th>call_date</th>\n",
       "      <th>duration</th>\n",
       "      <th>user_id</th>\n",
       "    </tr>\n",
       "  </thead>\n",
       "  <tbody>\n",
       "    <tr>\n",
       "      <th>0</th>\n",
       "      <td>1000_0</td>\n",
       "      <td>2018-07-25</td>\n",
       "      <td>0</td>\n",
       "      <td>1000</td>\n",
       "    </tr>\n",
       "    <tr>\n",
       "      <th>1</th>\n",
       "      <td>1000_1</td>\n",
       "      <td>2018-08-17</td>\n",
       "      <td>0</td>\n",
       "      <td>1000</td>\n",
       "    </tr>\n",
       "    <tr>\n",
       "      <th>2</th>\n",
       "      <td>1000_2</td>\n",
       "      <td>2018-06-11</td>\n",
       "      <td>3</td>\n",
       "      <td>1000</td>\n",
       "    </tr>\n",
       "    <tr>\n",
       "      <th>3</th>\n",
       "      <td>1000_3</td>\n",
       "      <td>2018-09-21</td>\n",
       "      <td>14</td>\n",
       "      <td>1000</td>\n",
       "    </tr>\n",
       "    <tr>\n",
       "      <th>4</th>\n",
       "      <td>1000_4</td>\n",
       "      <td>2018-12-15</td>\n",
       "      <td>6</td>\n",
       "      <td>1000</td>\n",
       "    </tr>\n",
       "  </tbody>\n",
       "</table>\n",
       "</div>"
      ],
      "text/plain": [
       "       id  call_date  duration  user_id\n",
       "0  1000_0 2018-07-25         0     1000\n",
       "1  1000_1 2018-08-17         0     1000\n",
       "2  1000_2 2018-06-11         3     1000\n",
       "3  1000_3 2018-09-21        14     1000\n",
       "4  1000_4 2018-12-15         6     1000"
      ]
     },
     "execution_count": 31,
     "metadata": {},
     "output_type": "execute_result"
    }
   ],
   "source": [
    "df_calls['duration'] = np.ceil(df_calls['duration']).astype('int')\n",
    "df_calls.head()"
   ]
  },
  {
   "cell_type": "markdown",
   "metadata": {},
   "source": [
    "Пропущенные значения в столбце **churn_date** таблицы **users** по условиям означают, что тариф еще действовал на момент выгрузки данных, поэтому оставим без изменений.\n",
    "\n",
    "Нулевые значения в столбце **duration** таблицы **calls** по условию означают пропущенные звонки, следовательно можно предположить, что нулевые значения в столбце **mb_used** таблицы **internet** означают неудачные попытки выйти в сеть. Нулевые значения оставляем как есть."
   ]
  },
  {
   "cell_type": "markdown",
   "metadata": {},
   "source": [
    "Проверим таблицы на дубликаты."
   ]
  },
  {
   "cell_type": "code",
   "execution_count": 32,
   "metadata": {},
   "outputs": [
    {
     "data": {
      "text/plain": [
       "0"
      ]
     },
     "execution_count": 32,
     "metadata": {},
     "output_type": "execute_result"
    }
   ],
   "source": [
    "df_calls.duplicated().sum()"
   ]
  },
  {
   "cell_type": "code",
   "execution_count": 33,
   "metadata": {},
   "outputs": [
    {
     "data": {
      "text/plain": [
       "0"
      ]
     },
     "execution_count": 33,
     "metadata": {},
     "output_type": "execute_result"
    }
   ],
   "source": [
    "df_messages.duplicated().sum()"
   ]
  },
  {
   "cell_type": "code",
   "execution_count": 34,
   "metadata": {},
   "outputs": [
    {
     "data": {
      "text/plain": [
       "0"
      ]
     },
     "execution_count": 34,
     "metadata": {},
     "output_type": "execute_result"
    }
   ],
   "source": [
    "df_internet.duplicated().sum()"
   ]
  },
  {
   "cell_type": "code",
   "execution_count": 35,
   "metadata": {},
   "outputs": [
    {
     "data": {
      "text/plain": [
       "0"
      ]
     },
     "execution_count": 35,
     "metadata": {},
     "output_type": "execute_result"
    }
   ],
   "source": [
    "df_users.duplicated().sum()"
   ]
  },
  {
   "cell_type": "markdown",
   "metadata": {},
   "source": [
    "### Подготовка пользовательских данных\n",
    "\n"
   ]
  },
  {
   "cell_type": "markdown",
   "metadata": {},
   "source": [
    "Добавим столбцы с месяцем в таблицы  **calls**, **messages**, **internet**."
   ]
  },
  {
   "cell_type": "code",
   "execution_count": 36,
   "metadata": {},
   "outputs": [
    {
     "data": {
      "text/html": [
       "<div>\n",
       "<style scoped>\n",
       "    .dataframe tbody tr th:only-of-type {\n",
       "        vertical-align: middle;\n",
       "    }\n",
       "\n",
       "    .dataframe tbody tr th {\n",
       "        vertical-align: top;\n",
       "    }\n",
       "\n",
       "    .dataframe thead th {\n",
       "        text-align: right;\n",
       "    }\n",
       "</style>\n",
       "<table border=\"1\" class=\"dataframe\">\n",
       "  <thead>\n",
       "    <tr style=\"text-align: right;\">\n",
       "      <th></th>\n",
       "      <th>id</th>\n",
       "      <th>call_date</th>\n",
       "      <th>duration</th>\n",
       "      <th>user_id</th>\n",
       "      <th>call_month</th>\n",
       "    </tr>\n",
       "  </thead>\n",
       "  <tbody>\n",
       "    <tr>\n",
       "      <th>0</th>\n",
       "      <td>1000_0</td>\n",
       "      <td>2018-07-25</td>\n",
       "      <td>0</td>\n",
       "      <td>1000</td>\n",
       "      <td>2018-07-01</td>\n",
       "    </tr>\n",
       "    <tr>\n",
       "      <th>1</th>\n",
       "      <td>1000_1</td>\n",
       "      <td>2018-08-17</td>\n",
       "      <td>0</td>\n",
       "      <td>1000</td>\n",
       "      <td>2018-08-01</td>\n",
       "    </tr>\n",
       "    <tr>\n",
       "      <th>2</th>\n",
       "      <td>1000_2</td>\n",
       "      <td>2018-06-11</td>\n",
       "      <td>3</td>\n",
       "      <td>1000</td>\n",
       "      <td>2018-06-01</td>\n",
       "    </tr>\n",
       "    <tr>\n",
       "      <th>3</th>\n",
       "      <td>1000_3</td>\n",
       "      <td>2018-09-21</td>\n",
       "      <td>14</td>\n",
       "      <td>1000</td>\n",
       "      <td>2018-09-01</td>\n",
       "    </tr>\n",
       "    <tr>\n",
       "      <th>4</th>\n",
       "      <td>1000_4</td>\n",
       "      <td>2018-12-15</td>\n",
       "      <td>6</td>\n",
       "      <td>1000</td>\n",
       "      <td>2018-12-01</td>\n",
       "    </tr>\n",
       "  </tbody>\n",
       "</table>\n",
       "</div>"
      ],
      "text/plain": [
       "       id  call_date  duration  user_id call_month\n",
       "0  1000_0 2018-07-25         0     1000 2018-07-01\n",
       "1  1000_1 2018-08-17         0     1000 2018-08-01\n",
       "2  1000_2 2018-06-11         3     1000 2018-06-01\n",
       "3  1000_3 2018-09-21        14     1000 2018-09-01\n",
       "4  1000_4 2018-12-15         6     1000 2018-12-01"
      ]
     },
     "execution_count": 36,
     "metadata": {},
     "output_type": "execute_result"
    }
   ],
   "source": [
    "df_calls['call_month'] = df_calls['call_date'].astype('datetime64[M]') \n",
    "df_calls.head()"
   ]
  },
  {
   "cell_type": "code",
   "execution_count": 37,
   "metadata": {
    "scrolled": true
   },
   "outputs": [
    {
     "data": {
      "text/html": [
       "<div>\n",
       "<style scoped>\n",
       "    .dataframe tbody tr th:only-of-type {\n",
       "        vertical-align: middle;\n",
       "    }\n",
       "\n",
       "    .dataframe tbody tr th {\n",
       "        vertical-align: top;\n",
       "    }\n",
       "\n",
       "    .dataframe thead th {\n",
       "        text-align: right;\n",
       "    }\n",
       "</style>\n",
       "<table border=\"1\" class=\"dataframe\">\n",
       "  <thead>\n",
       "    <tr style=\"text-align: right;\">\n",
       "      <th></th>\n",
       "      <th>id</th>\n",
       "      <th>message_date</th>\n",
       "      <th>user_id</th>\n",
       "      <th>message_month</th>\n",
       "    </tr>\n",
       "  </thead>\n",
       "  <tbody>\n",
       "    <tr>\n",
       "      <th>0</th>\n",
       "      <td>1000_0</td>\n",
       "      <td>2018-06-27</td>\n",
       "      <td>1000</td>\n",
       "      <td>2018-06-01</td>\n",
       "    </tr>\n",
       "    <tr>\n",
       "      <th>1</th>\n",
       "      <td>1000_1</td>\n",
       "      <td>2018-10-08</td>\n",
       "      <td>1000</td>\n",
       "      <td>2018-10-01</td>\n",
       "    </tr>\n",
       "    <tr>\n",
       "      <th>2</th>\n",
       "      <td>1000_2</td>\n",
       "      <td>2018-08-04</td>\n",
       "      <td>1000</td>\n",
       "      <td>2018-08-01</td>\n",
       "    </tr>\n",
       "    <tr>\n",
       "      <th>3</th>\n",
       "      <td>1000_3</td>\n",
       "      <td>2018-06-16</td>\n",
       "      <td>1000</td>\n",
       "      <td>2018-06-01</td>\n",
       "    </tr>\n",
       "    <tr>\n",
       "      <th>4</th>\n",
       "      <td>1000_4</td>\n",
       "      <td>2018-12-05</td>\n",
       "      <td>1000</td>\n",
       "      <td>2018-12-01</td>\n",
       "    </tr>\n",
       "  </tbody>\n",
       "</table>\n",
       "</div>"
      ],
      "text/plain": [
       "       id message_date  user_id message_month\n",
       "0  1000_0   2018-06-27     1000    2018-06-01\n",
       "1  1000_1   2018-10-08     1000    2018-10-01\n",
       "2  1000_2   2018-08-04     1000    2018-08-01\n",
       "3  1000_3   2018-06-16     1000    2018-06-01\n",
       "4  1000_4   2018-12-05     1000    2018-12-01"
      ]
     },
     "execution_count": 37,
     "metadata": {},
     "output_type": "execute_result"
    }
   ],
   "source": [
    "df_messages['message_month'] = df_messages['message_date'].astype('datetime64[M]') \n",
    "df_messages.head()"
   ]
  },
  {
   "cell_type": "code",
   "execution_count": 38,
   "metadata": {
    "scrolled": true
   },
   "outputs": [
    {
     "data": {
      "text/html": [
       "<div>\n",
       "<style scoped>\n",
       "    .dataframe tbody tr th:only-of-type {\n",
       "        vertical-align: middle;\n",
       "    }\n",
       "\n",
       "    .dataframe tbody tr th {\n",
       "        vertical-align: top;\n",
       "    }\n",
       "\n",
       "    .dataframe thead th {\n",
       "        text-align: right;\n",
       "    }\n",
       "</style>\n",
       "<table border=\"1\" class=\"dataframe\">\n",
       "  <thead>\n",
       "    <tr style=\"text-align: right;\">\n",
       "      <th></th>\n",
       "      <th>id</th>\n",
       "      <th>mb_used</th>\n",
       "      <th>session_date</th>\n",
       "      <th>user_id</th>\n",
       "      <th>session_month</th>\n",
       "    </tr>\n",
       "  </thead>\n",
       "  <tbody>\n",
       "    <tr>\n",
       "      <th>0</th>\n",
       "      <td>1000_0</td>\n",
       "      <td>112.95</td>\n",
       "      <td>2018-11-25</td>\n",
       "      <td>1000</td>\n",
       "      <td>2018-11-01</td>\n",
       "    </tr>\n",
       "    <tr>\n",
       "      <th>1</th>\n",
       "      <td>1000_1</td>\n",
       "      <td>1052.81</td>\n",
       "      <td>2018-09-07</td>\n",
       "      <td>1000</td>\n",
       "      <td>2018-09-01</td>\n",
       "    </tr>\n",
       "    <tr>\n",
       "      <th>2</th>\n",
       "      <td>1000_2</td>\n",
       "      <td>1197.26</td>\n",
       "      <td>2018-06-25</td>\n",
       "      <td>1000</td>\n",
       "      <td>2018-06-01</td>\n",
       "    </tr>\n",
       "    <tr>\n",
       "      <th>3</th>\n",
       "      <td>1000_3</td>\n",
       "      <td>550.27</td>\n",
       "      <td>2018-08-22</td>\n",
       "      <td>1000</td>\n",
       "      <td>2018-08-01</td>\n",
       "    </tr>\n",
       "    <tr>\n",
       "      <th>4</th>\n",
       "      <td>1000_4</td>\n",
       "      <td>302.56</td>\n",
       "      <td>2018-09-24</td>\n",
       "      <td>1000</td>\n",
       "      <td>2018-09-01</td>\n",
       "    </tr>\n",
       "  </tbody>\n",
       "</table>\n",
       "</div>"
      ],
      "text/plain": [
       "       id  mb_used session_date  user_id session_month\n",
       "0  1000_0   112.95   2018-11-25     1000    2018-11-01\n",
       "1  1000_1  1052.81   2018-09-07     1000    2018-09-01\n",
       "2  1000_2  1197.26   2018-06-25     1000    2018-06-01\n",
       "3  1000_3   550.27   2018-08-22     1000    2018-08-01\n",
       "4  1000_4   302.56   2018-09-24     1000    2018-09-01"
      ]
     },
     "execution_count": 38,
     "metadata": {},
     "output_type": "execute_result"
    }
   ],
   "source": [
    "df_internet['session_month'] = df_internet['session_date'].astype('datetime64[M]') \n",
    "df_internet.head()"
   ]
  },
  {
   "cell_type": "markdown",
   "metadata": {},
   "source": [
    "**Посчитаем для каждого пользователя:** \n",
    "\n",
    "* **количество сделанных звонков и израсходованных минут разговора по месяцам**"
   ]
  },
  {
   "cell_type": "code",
   "execution_count": 39,
   "metadata": {},
   "outputs": [
    {
     "data": {
      "text/html": [
       "<div>\n",
       "<style scoped>\n",
       "    .dataframe tbody tr th:only-of-type {\n",
       "        vertical-align: middle;\n",
       "    }\n",
       "\n",
       "    .dataframe tbody tr th {\n",
       "        vertical-align: top;\n",
       "    }\n",
       "\n",
       "    .dataframe thead th {\n",
       "        text-align: right;\n",
       "    }\n",
       "</style>\n",
       "<table border=\"1\" class=\"dataframe\">\n",
       "  <thead>\n",
       "    <tr style=\"text-align: right;\">\n",
       "      <th></th>\n",
       "      <th></th>\n",
       "      <th>count_duration</th>\n",
       "      <th>sum_duration</th>\n",
       "    </tr>\n",
       "    <tr>\n",
       "      <th>user_id</th>\n",
       "      <th>call_month</th>\n",
       "      <th></th>\n",
       "      <th></th>\n",
       "    </tr>\n",
       "  </thead>\n",
       "  <tbody>\n",
       "    <tr>\n",
       "      <th rowspan=\"8\" valign=\"top\">1000</th>\n",
       "      <th>2018-05-01</th>\n",
       "      <td>22</td>\n",
       "      <td>159</td>\n",
       "    </tr>\n",
       "    <tr>\n",
       "      <th>2018-06-01</th>\n",
       "      <td>43</td>\n",
       "      <td>172</td>\n",
       "    </tr>\n",
       "    <tr>\n",
       "      <th>2018-07-01</th>\n",
       "      <td>47</td>\n",
       "      <td>340</td>\n",
       "    </tr>\n",
       "    <tr>\n",
       "      <th>2018-08-01</th>\n",
       "      <td>52</td>\n",
       "      <td>408</td>\n",
       "    </tr>\n",
       "    <tr>\n",
       "      <th>2018-09-01</th>\n",
       "      <td>58</td>\n",
       "      <td>466</td>\n",
       "    </tr>\n",
       "    <tr>\n",
       "      <th>2018-10-01</th>\n",
       "      <td>57</td>\n",
       "      <td>350</td>\n",
       "    </tr>\n",
       "    <tr>\n",
       "      <th>2018-11-01</th>\n",
       "      <td>43</td>\n",
       "      <td>338</td>\n",
       "    </tr>\n",
       "    <tr>\n",
       "      <th>2018-12-01</th>\n",
       "      <td>46</td>\n",
       "      <td>333</td>\n",
       "    </tr>\n",
       "    <tr>\n",
       "      <th rowspan=\"2\" valign=\"top\">1001</th>\n",
       "      <th>2018-11-01</th>\n",
       "      <td>59</td>\n",
       "      <td>430</td>\n",
       "    </tr>\n",
       "    <tr>\n",
       "      <th>2018-12-01</th>\n",
       "      <td>63</td>\n",
       "      <td>414</td>\n",
       "    </tr>\n",
       "  </tbody>\n",
       "</table>\n",
       "</div>"
      ],
      "text/plain": [
       "                    count_duration  sum_duration\n",
       "user_id call_month                              \n",
       "1000    2018-05-01              22           159\n",
       "        2018-06-01              43           172\n",
       "        2018-07-01              47           340\n",
       "        2018-08-01              52           408\n",
       "        2018-09-01              58           466\n",
       "        2018-10-01              57           350\n",
       "        2018-11-01              43           338\n",
       "        2018-12-01              46           333\n",
       "1001    2018-11-01              59           430\n",
       "        2018-12-01              63           414"
      ]
     },
     "execution_count": 39,
     "metadata": {},
     "output_type": "execute_result"
    }
   ],
   "source": [
    "df_calls_pivot = df_calls.pivot_table(index=['user_id', 'call_month'], values='duration', aggfunc=['count','sum'])\n",
    "df_calls_pivot.columns = ['count_duration', 'sum_duration']\n",
    "df_calls_pivot.head(10)"
   ]
  },
  {
   "cell_type": "markdown",
   "metadata": {},
   "source": [
    "* **количество отправленных сообщений по месяцам**"
   ]
  },
  {
   "cell_type": "code",
   "execution_count": 40,
   "metadata": {
    "scrolled": true
   },
   "outputs": [
    {
     "data": {
      "text/html": [
       "<div>\n",
       "<style scoped>\n",
       "    .dataframe tbody tr th:only-of-type {\n",
       "        vertical-align: middle;\n",
       "    }\n",
       "\n",
       "    .dataframe tbody tr th {\n",
       "        vertical-align: top;\n",
       "    }\n",
       "\n",
       "    .dataframe thead th {\n",
       "        text-align: right;\n",
       "    }\n",
       "</style>\n",
       "<table border=\"1\" class=\"dataframe\">\n",
       "  <thead>\n",
       "    <tr style=\"text-align: right;\">\n",
       "      <th></th>\n",
       "      <th></th>\n",
       "      <th>count_messages</th>\n",
       "    </tr>\n",
       "    <tr>\n",
       "      <th>user_id</th>\n",
       "      <th>message_month</th>\n",
       "      <th></th>\n",
       "    </tr>\n",
       "  </thead>\n",
       "  <tbody>\n",
       "    <tr>\n",
       "      <th rowspan=\"8\" valign=\"top\">1000</th>\n",
       "      <th>2018-05-01</th>\n",
       "      <td>22</td>\n",
       "    </tr>\n",
       "    <tr>\n",
       "      <th>2018-06-01</th>\n",
       "      <td>60</td>\n",
       "    </tr>\n",
       "    <tr>\n",
       "      <th>2018-07-01</th>\n",
       "      <td>75</td>\n",
       "    </tr>\n",
       "    <tr>\n",
       "      <th>2018-08-01</th>\n",
       "      <td>81</td>\n",
       "    </tr>\n",
       "    <tr>\n",
       "      <th>2018-09-01</th>\n",
       "      <td>57</td>\n",
       "    </tr>\n",
       "    <tr>\n",
       "      <th>2018-10-01</th>\n",
       "      <td>73</td>\n",
       "    </tr>\n",
       "    <tr>\n",
       "      <th>2018-11-01</th>\n",
       "      <td>58</td>\n",
       "    </tr>\n",
       "    <tr>\n",
       "      <th>2018-12-01</th>\n",
       "      <td>70</td>\n",
       "    </tr>\n",
       "    <tr>\n",
       "      <th rowspan=\"2\" valign=\"top\">1002</th>\n",
       "      <th>2018-06-01</th>\n",
       "      <td>4</td>\n",
       "    </tr>\n",
       "    <tr>\n",
       "      <th>2018-07-01</th>\n",
       "      <td>11</td>\n",
       "    </tr>\n",
       "  </tbody>\n",
       "</table>\n",
       "</div>"
      ],
      "text/plain": [
       "                       count_messages\n",
       "user_id message_month                \n",
       "1000    2018-05-01                 22\n",
       "        2018-06-01                 60\n",
       "        2018-07-01                 75\n",
       "        2018-08-01                 81\n",
       "        2018-09-01                 57\n",
       "        2018-10-01                 73\n",
       "        2018-11-01                 58\n",
       "        2018-12-01                 70\n",
       "1002    2018-06-01                  4\n",
       "        2018-07-01                 11"
      ]
     },
     "execution_count": 40,
     "metadata": {},
     "output_type": "execute_result"
    }
   ],
   "source": [
    "df_messages_pivot = df_messages.pivot_table(index=['user_id', 'message_month'], values='id', aggfunc='count')\n",
    "df_messages_pivot.columns = ['count_messages'] \n",
    "df_messages_pivot.head(10)"
   ]
  },
  {
   "cell_type": "markdown",
   "metadata": {},
   "source": [
    "* **объем израсходованного интернет-трафика по месяцам**"
   ]
  },
  {
   "cell_type": "code",
   "execution_count": 41,
   "metadata": {
    "scrolled": true
   },
   "outputs": [
    {
     "data": {
      "text/html": [
       "<div>\n",
       "<style scoped>\n",
       "    .dataframe tbody tr th:only-of-type {\n",
       "        vertical-align: middle;\n",
       "    }\n",
       "\n",
       "    .dataframe tbody tr th {\n",
       "        vertical-align: top;\n",
       "    }\n",
       "\n",
       "    .dataframe thead th {\n",
       "        text-align: right;\n",
       "    }\n",
       "</style>\n",
       "<table border=\"1\" class=\"dataframe\">\n",
       "  <thead>\n",
       "    <tr style=\"text-align: right;\">\n",
       "      <th></th>\n",
       "      <th></th>\n",
       "      <th>mb_used</th>\n",
       "    </tr>\n",
       "    <tr>\n",
       "      <th>user_id</th>\n",
       "      <th>session_month</th>\n",
       "      <th></th>\n",
       "    </tr>\n",
       "  </thead>\n",
       "  <tbody>\n",
       "    <tr>\n",
       "      <th rowspan=\"8\" valign=\"top\">1000</th>\n",
       "      <th>2018-05-01</th>\n",
       "      <td>2253.49</td>\n",
       "    </tr>\n",
       "    <tr>\n",
       "      <th>2018-06-01</th>\n",
       "      <td>23233.77</td>\n",
       "    </tr>\n",
       "    <tr>\n",
       "      <th>2018-07-01</th>\n",
       "      <td>14003.64</td>\n",
       "    </tr>\n",
       "    <tr>\n",
       "      <th>2018-08-01</th>\n",
       "      <td>14055.93</td>\n",
       "    </tr>\n",
       "    <tr>\n",
       "      <th>2018-09-01</th>\n",
       "      <td>14568.91</td>\n",
       "    </tr>\n",
       "    <tr>\n",
       "      <th>2018-10-01</th>\n",
       "      <td>14702.49</td>\n",
       "    </tr>\n",
       "    <tr>\n",
       "      <th>2018-11-01</th>\n",
       "      <td>14756.47</td>\n",
       "    </tr>\n",
       "    <tr>\n",
       "      <th>2018-12-01</th>\n",
       "      <td>9817.61</td>\n",
       "    </tr>\n",
       "    <tr>\n",
       "      <th rowspan=\"2\" valign=\"top\">1001</th>\n",
       "      <th>2018-11-01</th>\n",
       "      <td>18429.34</td>\n",
       "    </tr>\n",
       "    <tr>\n",
       "      <th>2018-12-01</th>\n",
       "      <td>14036.66</td>\n",
       "    </tr>\n",
       "  </tbody>\n",
       "</table>\n",
       "</div>"
      ],
      "text/plain": [
       "                        mb_used\n",
       "user_id session_month          \n",
       "1000    2018-05-01      2253.49\n",
       "        2018-06-01     23233.77\n",
       "        2018-07-01     14003.64\n",
       "        2018-08-01     14055.93\n",
       "        2018-09-01     14568.91\n",
       "        2018-10-01     14702.49\n",
       "        2018-11-01     14756.47\n",
       "        2018-12-01      9817.61\n",
       "1001    2018-11-01     18429.34\n",
       "        2018-12-01     14036.66"
      ]
     },
     "execution_count": 41,
     "metadata": {},
     "output_type": "execute_result"
    }
   ],
   "source": [
    "df_internet_pivot = df_internet.pivot_table(index=['user_id', 'session_month'], values='mb_used', aggfunc='sum')\n",
    "df_internet_pivot.head(10)"
   ]
  },
  {
   "cell_type": "markdown",
   "metadata": {},
   "source": [
    "Соединим таблицы **calls**, **messages**, **internet** и **users** в одну."
   ]
  },
  {
   "cell_type": "code",
   "execution_count": 42,
   "metadata": {
    "scrolled": true
   },
   "outputs": [
    {
     "data": {
      "text/html": [
       "<div>\n",
       "<style scoped>\n",
       "    .dataframe tbody tr th:only-of-type {\n",
       "        vertical-align: middle;\n",
       "    }\n",
       "\n",
       "    .dataframe tbody tr th {\n",
       "        vertical-align: top;\n",
       "    }\n",
       "\n",
       "    .dataframe thead th {\n",
       "        text-align: right;\n",
       "    }\n",
       "</style>\n",
       "<table border=\"1\" class=\"dataframe\">\n",
       "  <thead>\n",
       "    <tr style=\"text-align: right;\">\n",
       "      <th></th>\n",
       "      <th>user_id</th>\n",
       "      <th>level_1</th>\n",
       "      <th>count_duration</th>\n",
       "      <th>sum_duration</th>\n",
       "      <th>count_messages</th>\n",
       "      <th>mb_used</th>\n",
       "    </tr>\n",
       "  </thead>\n",
       "  <tbody>\n",
       "    <tr>\n",
       "      <th>0</th>\n",
       "      <td>1000</td>\n",
       "      <td>2018-05-01</td>\n",
       "      <td>22.0</td>\n",
       "      <td>159.0</td>\n",
       "      <td>22.0</td>\n",
       "      <td>2253.49</td>\n",
       "    </tr>\n",
       "    <tr>\n",
       "      <th>1</th>\n",
       "      <td>1000</td>\n",
       "      <td>2018-06-01</td>\n",
       "      <td>43.0</td>\n",
       "      <td>172.0</td>\n",
       "      <td>60.0</td>\n",
       "      <td>23233.77</td>\n",
       "    </tr>\n",
       "    <tr>\n",
       "      <th>2</th>\n",
       "      <td>1000</td>\n",
       "      <td>2018-07-01</td>\n",
       "      <td>47.0</td>\n",
       "      <td>340.0</td>\n",
       "      <td>75.0</td>\n",
       "      <td>14003.64</td>\n",
       "    </tr>\n",
       "    <tr>\n",
       "      <th>3</th>\n",
       "      <td>1000</td>\n",
       "      <td>2018-08-01</td>\n",
       "      <td>52.0</td>\n",
       "      <td>408.0</td>\n",
       "      <td>81.0</td>\n",
       "      <td>14055.93</td>\n",
       "    </tr>\n",
       "    <tr>\n",
       "      <th>4</th>\n",
       "      <td>1000</td>\n",
       "      <td>2018-09-01</td>\n",
       "      <td>58.0</td>\n",
       "      <td>466.0</td>\n",
       "      <td>57.0</td>\n",
       "      <td>14568.91</td>\n",
       "    </tr>\n",
       "    <tr>\n",
       "      <th>5</th>\n",
       "      <td>1000</td>\n",
       "      <td>2018-10-01</td>\n",
       "      <td>57.0</td>\n",
       "      <td>350.0</td>\n",
       "      <td>73.0</td>\n",
       "      <td>14702.49</td>\n",
       "    </tr>\n",
       "    <tr>\n",
       "      <th>6</th>\n",
       "      <td>1000</td>\n",
       "      <td>2018-11-01</td>\n",
       "      <td>43.0</td>\n",
       "      <td>338.0</td>\n",
       "      <td>58.0</td>\n",
       "      <td>14756.47</td>\n",
       "    </tr>\n",
       "    <tr>\n",
       "      <th>7</th>\n",
       "      <td>1000</td>\n",
       "      <td>2018-12-01</td>\n",
       "      <td>46.0</td>\n",
       "      <td>333.0</td>\n",
       "      <td>70.0</td>\n",
       "      <td>9817.61</td>\n",
       "    </tr>\n",
       "    <tr>\n",
       "      <th>8</th>\n",
       "      <td>1001</td>\n",
       "      <td>2018-11-01</td>\n",
       "      <td>59.0</td>\n",
       "      <td>430.0</td>\n",
       "      <td>NaN</td>\n",
       "      <td>18429.34</td>\n",
       "    </tr>\n",
       "    <tr>\n",
       "      <th>9</th>\n",
       "      <td>1001</td>\n",
       "      <td>2018-12-01</td>\n",
       "      <td>63.0</td>\n",
       "      <td>414.0</td>\n",
       "      <td>NaN</td>\n",
       "      <td>14036.66</td>\n",
       "    </tr>\n",
       "  </tbody>\n",
       "</table>\n",
       "</div>"
      ],
      "text/plain": [
       "   user_id    level_1  count_duration  sum_duration  count_messages   mb_used\n",
       "0     1000 2018-05-01            22.0         159.0            22.0   2253.49\n",
       "1     1000 2018-06-01            43.0         172.0            60.0  23233.77\n",
       "2     1000 2018-07-01            47.0         340.0            75.0  14003.64\n",
       "3     1000 2018-08-01            52.0         408.0            81.0  14055.93\n",
       "4     1000 2018-09-01            58.0         466.0            57.0  14568.91\n",
       "5     1000 2018-10-01            57.0         350.0            73.0  14702.49\n",
       "6     1000 2018-11-01            43.0         338.0            58.0  14756.47\n",
       "7     1000 2018-12-01            46.0         333.0            70.0   9817.61\n",
       "8     1001 2018-11-01            59.0         430.0             NaN  18429.34\n",
       "9     1001 2018-12-01            63.0         414.0             NaN  14036.66"
      ]
     },
     "execution_count": 42,
     "metadata": {},
     "output_type": "execute_result"
    }
   ],
   "source": [
    "df_total = df_calls_pivot.join([df_messages_pivot, df_internet_pivot], how='outer').reset_index()\n",
    "df_total\n",
    "df_total.head(10) "
   ]
  },
  {
   "cell_type": "code",
   "execution_count": 43,
   "metadata": {
    "scrolled": true
   },
   "outputs": [
    {
     "data": {
      "text/html": [
       "<div>\n",
       "<style scoped>\n",
       "    .dataframe tbody tr th:only-of-type {\n",
       "        vertical-align: middle;\n",
       "    }\n",
       "\n",
       "    .dataframe tbody tr th {\n",
       "        vertical-align: top;\n",
       "    }\n",
       "\n",
       "    .dataframe thead th {\n",
       "        text-align: right;\n",
       "    }\n",
       "</style>\n",
       "<table border=\"1\" class=\"dataframe\">\n",
       "  <thead>\n",
       "    <tr style=\"text-align: right;\">\n",
       "      <th></th>\n",
       "      <th>user_id</th>\n",
       "      <th>age</th>\n",
       "      <th>churn_date</th>\n",
       "      <th>city</th>\n",
       "      <th>first_name</th>\n",
       "      <th>last_name</th>\n",
       "      <th>reg_date</th>\n",
       "      <th>tariff</th>\n",
       "      <th>month</th>\n",
       "      <th>count_duration</th>\n",
       "      <th>sum_duration</th>\n",
       "      <th>count_messages</th>\n",
       "      <th>mb_used</th>\n",
       "    </tr>\n",
       "  </thead>\n",
       "  <tbody>\n",
       "    <tr>\n",
       "      <th>0</th>\n",
       "      <td>1000</td>\n",
       "      <td>52</td>\n",
       "      <td>NaT</td>\n",
       "      <td>Краснодар</td>\n",
       "      <td>Рафаил</td>\n",
       "      <td>Верещагин</td>\n",
       "      <td>2018-05-25</td>\n",
       "      <td>ultra</td>\n",
       "      <td>2018-05-01</td>\n",
       "      <td>22.0</td>\n",
       "      <td>159.0</td>\n",
       "      <td>22.0</td>\n",
       "      <td>2253.49</td>\n",
       "    </tr>\n",
       "    <tr>\n",
       "      <th>1</th>\n",
       "      <td>1000</td>\n",
       "      <td>52</td>\n",
       "      <td>NaT</td>\n",
       "      <td>Краснодар</td>\n",
       "      <td>Рафаил</td>\n",
       "      <td>Верещагин</td>\n",
       "      <td>2018-05-25</td>\n",
       "      <td>ultra</td>\n",
       "      <td>2018-06-01</td>\n",
       "      <td>43.0</td>\n",
       "      <td>172.0</td>\n",
       "      <td>60.0</td>\n",
       "      <td>23233.77</td>\n",
       "    </tr>\n",
       "    <tr>\n",
       "      <th>2</th>\n",
       "      <td>1000</td>\n",
       "      <td>52</td>\n",
       "      <td>NaT</td>\n",
       "      <td>Краснодар</td>\n",
       "      <td>Рафаил</td>\n",
       "      <td>Верещагин</td>\n",
       "      <td>2018-05-25</td>\n",
       "      <td>ultra</td>\n",
       "      <td>2018-07-01</td>\n",
       "      <td>47.0</td>\n",
       "      <td>340.0</td>\n",
       "      <td>75.0</td>\n",
       "      <td>14003.64</td>\n",
       "    </tr>\n",
       "    <tr>\n",
       "      <th>3</th>\n",
       "      <td>1000</td>\n",
       "      <td>52</td>\n",
       "      <td>NaT</td>\n",
       "      <td>Краснодар</td>\n",
       "      <td>Рафаил</td>\n",
       "      <td>Верещагин</td>\n",
       "      <td>2018-05-25</td>\n",
       "      <td>ultra</td>\n",
       "      <td>2018-08-01</td>\n",
       "      <td>52.0</td>\n",
       "      <td>408.0</td>\n",
       "      <td>81.0</td>\n",
       "      <td>14055.93</td>\n",
       "    </tr>\n",
       "    <tr>\n",
       "      <th>4</th>\n",
       "      <td>1000</td>\n",
       "      <td>52</td>\n",
       "      <td>NaT</td>\n",
       "      <td>Краснодар</td>\n",
       "      <td>Рафаил</td>\n",
       "      <td>Верещагин</td>\n",
       "      <td>2018-05-25</td>\n",
       "      <td>ultra</td>\n",
       "      <td>2018-09-01</td>\n",
       "      <td>58.0</td>\n",
       "      <td>466.0</td>\n",
       "      <td>57.0</td>\n",
       "      <td>14568.91</td>\n",
       "    </tr>\n",
       "  </tbody>\n",
       "</table>\n",
       "</div>"
      ],
      "text/plain": [
       "   user_id  age churn_date       city first_name  last_name   reg_date tariff  \\\n",
       "0     1000   52        NaT  Краснодар     Рафаил  Верещагин 2018-05-25  ultra   \n",
       "1     1000   52        NaT  Краснодар     Рафаил  Верещагин 2018-05-25  ultra   \n",
       "2     1000   52        NaT  Краснодар     Рафаил  Верещагин 2018-05-25  ultra   \n",
       "3     1000   52        NaT  Краснодар     Рафаил  Верещагин 2018-05-25  ultra   \n",
       "4     1000   52        NaT  Краснодар     Рафаил  Верещагин 2018-05-25  ultra   \n",
       "\n",
       "       month  count_duration  sum_duration  count_messages   mb_used  \n",
       "0 2018-05-01            22.0         159.0            22.0   2253.49  \n",
       "1 2018-06-01            43.0         172.0            60.0  23233.77  \n",
       "2 2018-07-01            47.0         340.0            75.0  14003.64  \n",
       "3 2018-08-01            52.0         408.0            81.0  14055.93  \n",
       "4 2018-09-01            58.0         466.0            57.0  14568.91  "
      ]
     },
     "execution_count": 43,
     "metadata": {},
     "output_type": "execute_result"
    }
   ],
   "source": [
    "df_total_users = df_users.merge(df_total, on='user_id', how='left')\n",
    "df_total_users = df_total_users.rename(columns={'level_1': 'month'})\n",
    "df_total_users.head(5)"
   ]
  },
  {
   "cell_type": "code",
   "execution_count": 44,
   "metadata": {
    "scrolled": true
   },
   "outputs": [
    {
     "data": {
      "text/plain": [
       "500"
      ]
     },
     "execution_count": 44,
     "metadata": {},
     "output_type": "execute_result"
    }
   ],
   "source": [
    "len(df_total_users['user_id'].unique())"
   ]
  },
  {
   "cell_type": "markdown",
   "metadata": {},
   "source": [
    "По условиям тарификации общая сумма веб-трафика за месяц округляется в большую сторону до гигабайтов, поэтому переведем мегабайты в гигабайты."
   ]
  },
  {
   "cell_type": "code",
   "execution_count": 45,
   "metadata": {
    "scrolled": false
   },
   "outputs": [
    {
     "data": {
      "text/html": [
       "<div>\n",
       "<style scoped>\n",
       "    .dataframe tbody tr th:only-of-type {\n",
       "        vertical-align: middle;\n",
       "    }\n",
       "\n",
       "    .dataframe tbody tr th {\n",
       "        vertical-align: top;\n",
       "    }\n",
       "\n",
       "    .dataframe thead th {\n",
       "        text-align: right;\n",
       "    }\n",
       "</style>\n",
       "<table border=\"1\" class=\"dataframe\">\n",
       "  <thead>\n",
       "    <tr style=\"text-align: right;\">\n",
       "      <th></th>\n",
       "      <th>user_id</th>\n",
       "      <th>age</th>\n",
       "      <th>churn_date</th>\n",
       "      <th>city</th>\n",
       "      <th>first_name</th>\n",
       "      <th>last_name</th>\n",
       "      <th>reg_date</th>\n",
       "      <th>tariff</th>\n",
       "      <th>month</th>\n",
       "      <th>count_duration</th>\n",
       "      <th>sum_duration</th>\n",
       "      <th>count_messages</th>\n",
       "      <th>gb_used</th>\n",
       "    </tr>\n",
       "  </thead>\n",
       "  <tbody>\n",
       "    <tr>\n",
       "      <th>0</th>\n",
       "      <td>1000</td>\n",
       "      <td>52</td>\n",
       "      <td>NaT</td>\n",
       "      <td>Краснодар</td>\n",
       "      <td>Рафаил</td>\n",
       "      <td>Верещагин</td>\n",
       "      <td>2018-05-25</td>\n",
       "      <td>ultra</td>\n",
       "      <td>2018-05-01</td>\n",
       "      <td>22.0</td>\n",
       "      <td>159.0</td>\n",
       "      <td>22.0</td>\n",
       "      <td>3.0</td>\n",
       "    </tr>\n",
       "    <tr>\n",
       "      <th>1</th>\n",
       "      <td>1000</td>\n",
       "      <td>52</td>\n",
       "      <td>NaT</td>\n",
       "      <td>Краснодар</td>\n",
       "      <td>Рафаил</td>\n",
       "      <td>Верещагин</td>\n",
       "      <td>2018-05-25</td>\n",
       "      <td>ultra</td>\n",
       "      <td>2018-06-01</td>\n",
       "      <td>43.0</td>\n",
       "      <td>172.0</td>\n",
       "      <td>60.0</td>\n",
       "      <td>23.0</td>\n",
       "    </tr>\n",
       "    <tr>\n",
       "      <th>2</th>\n",
       "      <td>1000</td>\n",
       "      <td>52</td>\n",
       "      <td>NaT</td>\n",
       "      <td>Краснодар</td>\n",
       "      <td>Рафаил</td>\n",
       "      <td>Верещагин</td>\n",
       "      <td>2018-05-25</td>\n",
       "      <td>ultra</td>\n",
       "      <td>2018-07-01</td>\n",
       "      <td>47.0</td>\n",
       "      <td>340.0</td>\n",
       "      <td>75.0</td>\n",
       "      <td>14.0</td>\n",
       "    </tr>\n",
       "    <tr>\n",
       "      <th>3</th>\n",
       "      <td>1000</td>\n",
       "      <td>52</td>\n",
       "      <td>NaT</td>\n",
       "      <td>Краснодар</td>\n",
       "      <td>Рафаил</td>\n",
       "      <td>Верещагин</td>\n",
       "      <td>2018-05-25</td>\n",
       "      <td>ultra</td>\n",
       "      <td>2018-08-01</td>\n",
       "      <td>52.0</td>\n",
       "      <td>408.0</td>\n",
       "      <td>81.0</td>\n",
       "      <td>14.0</td>\n",
       "    </tr>\n",
       "    <tr>\n",
       "      <th>4</th>\n",
       "      <td>1000</td>\n",
       "      <td>52</td>\n",
       "      <td>NaT</td>\n",
       "      <td>Краснодар</td>\n",
       "      <td>Рафаил</td>\n",
       "      <td>Верещагин</td>\n",
       "      <td>2018-05-25</td>\n",
       "      <td>ultra</td>\n",
       "      <td>2018-09-01</td>\n",
       "      <td>58.0</td>\n",
       "      <td>466.0</td>\n",
       "      <td>57.0</td>\n",
       "      <td>15.0</td>\n",
       "    </tr>\n",
       "  </tbody>\n",
       "</table>\n",
       "</div>"
      ],
      "text/plain": [
       "   user_id  age churn_date       city first_name  last_name   reg_date tariff  \\\n",
       "0     1000   52        NaT  Краснодар     Рафаил  Верещагин 2018-05-25  ultra   \n",
       "1     1000   52        NaT  Краснодар     Рафаил  Верещагин 2018-05-25  ultra   \n",
       "2     1000   52        NaT  Краснодар     Рафаил  Верещагин 2018-05-25  ultra   \n",
       "3     1000   52        NaT  Краснодар     Рафаил  Верещагин 2018-05-25  ultra   \n",
       "4     1000   52        NaT  Краснодар     Рафаил  Верещагин 2018-05-25  ultra   \n",
       "\n",
       "       month  count_duration  sum_duration  count_messages  gb_used  \n",
       "0 2018-05-01            22.0         159.0            22.0      3.0  \n",
       "1 2018-06-01            43.0         172.0            60.0     23.0  \n",
       "2 2018-07-01            47.0         340.0            75.0     14.0  \n",
       "3 2018-08-01            52.0         408.0            81.0     14.0  \n",
       "4 2018-09-01            58.0         466.0            57.0     15.0  "
      ]
     },
     "execution_count": 45,
     "metadata": {},
     "output_type": "execute_result"
    }
   ],
   "source": [
    "df_total_users['mb_used'] = np.ceil(df_total_users['mb_used'] / 1024)\n",
    "df_total_users = df_total_users.rename(columns={'mb_used': 'gb_used'})\n",
    "df_total_users.head()"
   ]
  },
  {
   "cell_type": "markdown",
   "metadata": {},
   "source": [
    "Проверим и заменим пропущенные значения в столбцах **month**, **count_duration**, **sum_duration**, **count_messages**, **gb_used** на ноль."
   ]
  },
  {
   "cell_type": "code",
   "execution_count": 46,
   "metadata": {
    "scrolled": true
   },
   "outputs": [
    {
     "data": {
      "text/html": [
       "<div>\n",
       "<style scoped>\n",
       "    .dataframe tbody tr th:only-of-type {\n",
       "        vertical-align: middle;\n",
       "    }\n",
       "\n",
       "    .dataframe tbody tr th {\n",
       "        vertical-align: top;\n",
       "    }\n",
       "\n",
       "    .dataframe thead th {\n",
       "        text-align: right;\n",
       "    }\n",
       "</style>\n",
       "<table border=\"1\" class=\"dataframe\">\n",
       "  <thead>\n",
       "    <tr style=\"text-align: right;\">\n",
       "      <th></th>\n",
       "      <th>user_id</th>\n",
       "      <th>age</th>\n",
       "      <th>churn_date</th>\n",
       "      <th>city</th>\n",
       "      <th>first_name</th>\n",
       "      <th>last_name</th>\n",
       "      <th>reg_date</th>\n",
       "      <th>tariff</th>\n",
       "      <th>month</th>\n",
       "      <th>count_duration</th>\n",
       "      <th>sum_duration</th>\n",
       "      <th>count_messages</th>\n",
       "      <th>gb_used</th>\n",
       "    </tr>\n",
       "  </thead>\n",
       "  <tbody>\n",
       "    <tr>\n",
       "      <th>827</th>\n",
       "      <td>1128</td>\n",
       "      <td>51</td>\n",
       "      <td>2018-12-23</td>\n",
       "      <td>Волжский</td>\n",
       "      <td>Ксения</td>\n",
       "      <td>Агаева</td>\n",
       "      <td>2018-12-15</td>\n",
       "      <td>ultra</td>\n",
       "      <td>NaT</td>\n",
       "      <td>NaN</td>\n",
       "      <td>NaN</td>\n",
       "      <td>NaN</td>\n",
       "      <td>NaN</td>\n",
       "    </tr>\n",
       "    <tr>\n",
       "      <th>2335</th>\n",
       "      <td>1371</td>\n",
       "      <td>50</td>\n",
       "      <td>2018-12-30</td>\n",
       "      <td>Омск</td>\n",
       "      <td>Ириней</td>\n",
       "      <td>Трофимов</td>\n",
       "      <td>2018-12-25</td>\n",
       "      <td>smart</td>\n",
       "      <td>NaT</td>\n",
       "      <td>NaN</td>\n",
       "      <td>NaN</td>\n",
       "      <td>NaN</td>\n",
       "      <td>NaN</td>\n",
       "    </tr>\n",
       "  </tbody>\n",
       "</table>\n",
       "</div>"
      ],
      "text/plain": [
       "      user_id  age churn_date      city first_name last_name   reg_date  \\\n",
       "827      1128   51 2018-12-23  Волжский     Ксения    Агаева 2018-12-15   \n",
       "2335     1371   50 2018-12-30      Омск     Ириней  Трофимов 2018-12-25   \n",
       "\n",
       "     tariff month  count_duration  sum_duration  count_messages  gb_used  \n",
       "827   ultra   NaT             NaN           NaN             NaN      NaN  \n",
       "2335  smart   NaT             NaN           NaN             NaN      NaN  "
      ]
     },
     "execution_count": 46,
     "metadata": {},
     "output_type": "execute_result"
    }
   ],
   "source": [
    "df_total_users.query('month.isna()')"
   ]
  },
  {
   "cell_type": "code",
   "execution_count": 47,
   "metadata": {},
   "outputs": [],
   "source": [
    "df_total_users['month_2'] = df_total_users['month'].dt.month"
   ]
  },
  {
   "cell_type": "code",
   "execution_count": 48,
   "metadata": {},
   "outputs": [
    {
     "data": {
      "text/plain": [
       "2"
      ]
     },
     "execution_count": 48,
     "metadata": {},
     "output_type": "execute_result"
    }
   ],
   "source": [
    "df_total_users['month_2'] = df_total_users['month_2'].fillna(12)\n",
    "len(df_total_users.query('month.isna()'))"
   ]
  },
  {
   "cell_type": "code",
   "execution_count": 49,
   "metadata": {},
   "outputs": [
    {
     "data": {
      "text/plain": [
       "42"
      ]
     },
     "execution_count": 49,
     "metadata": {},
     "output_type": "execute_result"
    }
   ],
   "source": [
    "len(df_total_users.query('count_duration.isna()'))"
   ]
  },
  {
   "cell_type": "code",
   "execution_count": 50,
   "metadata": {},
   "outputs": [
    {
     "data": {
      "text/plain": [
       "0"
      ]
     },
     "execution_count": 50,
     "metadata": {},
     "output_type": "execute_result"
    }
   ],
   "source": [
    "df_total_users['count_duration'] = df_total_users['count_duration'].fillna(0)\n",
    "df_total_users['sum_duration'] = df_total_users['sum_duration'].fillna(0)\n",
    "len(df_total_users.query('count_duration.isna()'))\n"
   ]
  },
  {
   "cell_type": "code",
   "execution_count": 51,
   "metadata": {},
   "outputs": [
    {
     "data": {
      "text/plain": [
       "0"
      ]
     },
     "execution_count": 51,
     "metadata": {},
     "output_type": "execute_result"
    }
   ],
   "source": [
    "len(df_total_users.query('sum_duration.isna()'))"
   ]
  },
  {
   "cell_type": "code",
   "execution_count": 52,
   "metadata": {},
   "outputs": [
    {
     "data": {
      "text/plain": [
       "499"
      ]
     },
     "execution_count": 52,
     "metadata": {},
     "output_type": "execute_result"
    }
   ],
   "source": [
    "len(df_total_users.query('count_messages.isna()'))"
   ]
  },
  {
   "cell_type": "code",
   "execution_count": 53,
   "metadata": {},
   "outputs": [
    {
     "data": {
      "text/plain": [
       "0"
      ]
     },
     "execution_count": 53,
     "metadata": {},
     "output_type": "execute_result"
    }
   ],
   "source": [
    "df_total_users['count_messages'] = df_total_users['count_messages'].fillna(0)\n",
    "len(df_total_users.query('count_messages.isna()'))"
   ]
  },
  {
   "cell_type": "code",
   "execution_count": 54,
   "metadata": {},
   "outputs": [
    {
     "data": {
      "text/plain": [
       "13"
      ]
     },
     "execution_count": 54,
     "metadata": {},
     "output_type": "execute_result"
    }
   ],
   "source": [
    "len(df_total_users.query('gb_used.isna()'))"
   ]
  },
  {
   "cell_type": "code",
   "execution_count": 55,
   "metadata": {},
   "outputs": [
    {
     "data": {
      "text/plain": [
       "0"
      ]
     },
     "execution_count": 55,
     "metadata": {},
     "output_type": "execute_result"
    }
   ],
   "source": [
    "df_total_users['gb_used'] = df_total_users['gb_used'].fillna(0)\n",
    "len(df_total_users.query('gb_used.isna()'))"
   ]
  },
  {
   "cell_type": "code",
   "execution_count": 56,
   "metadata": {
    "scrolled": false
   },
   "outputs": [
    {
     "name": "stdout",
     "output_type": "stream",
     "text": [
      "<class 'pandas.core.frame.DataFrame'>\n",
      "Int64Index: 3216 entries, 0 to 3215\n",
      "Data columns (total 14 columns):\n",
      " #   Column          Non-Null Count  Dtype         \n",
      "---  ------          --------------  -----         \n",
      " 0   user_id         3216 non-null   int64         \n",
      " 1   age             3216 non-null   int64         \n",
      " 2   churn_date      189 non-null    datetime64[ns]\n",
      " 3   city            3216 non-null   object        \n",
      " 4   first_name      3216 non-null   object        \n",
      " 5   last_name       3216 non-null   object        \n",
      " 6   reg_date        3216 non-null   datetime64[ns]\n",
      " 7   tariff          3216 non-null   object        \n",
      " 8   month           3214 non-null   datetime64[ns]\n",
      " 9   count_duration  3216 non-null   float64       \n",
      " 10  sum_duration    3216 non-null   float64       \n",
      " 11  count_messages  3216 non-null   float64       \n",
      " 12  gb_used         3216 non-null   float64       \n",
      " 13  month_2         3216 non-null   float64       \n",
      "dtypes: datetime64[ns](3), float64(5), int64(2), object(4)\n",
      "memory usage: 376.9+ KB\n"
     ]
    }
   ],
   "source": [
    "df_total_users.info()"
   ]
  },
  {
   "cell_type": "code",
   "execution_count": 57,
   "metadata": {
    "scrolled": false
   },
   "outputs": [
    {
     "data": {
      "text/html": [
       "<div>\n",
       "<style scoped>\n",
       "    .dataframe tbody tr th:only-of-type {\n",
       "        vertical-align: middle;\n",
       "    }\n",
       "\n",
       "    .dataframe tbody tr th {\n",
       "        vertical-align: top;\n",
       "    }\n",
       "\n",
       "    .dataframe thead th {\n",
       "        text-align: right;\n",
       "    }\n",
       "</style>\n",
       "<table border=\"1\" class=\"dataframe\">\n",
       "  <thead>\n",
       "    <tr style=\"text-align: right;\">\n",
       "      <th></th>\n",
       "      <th>user_id</th>\n",
       "      <th>age</th>\n",
       "      <th>count_duration</th>\n",
       "      <th>sum_duration</th>\n",
       "      <th>count_messages</th>\n",
       "      <th>gb_used</th>\n",
       "      <th>month_2</th>\n",
       "    </tr>\n",
       "  </thead>\n",
       "  <tbody>\n",
       "    <tr>\n",
       "      <th>count</th>\n",
       "      <td>3216.000000</td>\n",
       "      <td>3216.000000</td>\n",
       "      <td>3216.000000</td>\n",
       "      <td>3216.000000</td>\n",
       "      <td>3216.000000</td>\n",
       "      <td>3216.000000</td>\n",
       "      <td>3216.000000</td>\n",
       "    </tr>\n",
       "    <tr>\n",
       "      <th>mean</th>\n",
       "      <td>1251.588930</td>\n",
       "      <td>46.643968</td>\n",
       "      <td>62.999689</td>\n",
       "      <td>450.964241</td>\n",
       "      <td>38.257463</td>\n",
       "      <td>17.288246</td>\n",
       "      <td>8.319652</td>\n",
       "    </tr>\n",
       "    <tr>\n",
       "      <th>std</th>\n",
       "      <td>144.645928</td>\n",
       "      <td>16.581233</td>\n",
       "      <td>33.263185</td>\n",
       "      <td>242.096312</td>\n",
       "      <td>36.149684</td>\n",
       "      <td>7.410845</td>\n",
       "      <td>2.905960</td>\n",
       "    </tr>\n",
       "    <tr>\n",
       "      <th>min</th>\n",
       "      <td>1000.000000</td>\n",
       "      <td>18.000000</td>\n",
       "      <td>0.000000</td>\n",
       "      <td>0.000000</td>\n",
       "      <td>0.000000</td>\n",
       "      <td>0.000000</td>\n",
       "      <td>1.000000</td>\n",
       "    </tr>\n",
       "    <tr>\n",
       "      <th>25%</th>\n",
       "      <td>1125.000000</td>\n",
       "      <td>32.000000</td>\n",
       "      <td>40.000000</td>\n",
       "      <td>282.000000</td>\n",
       "      <td>9.000000</td>\n",
       "      <td>13.000000</td>\n",
       "      <td>6.000000</td>\n",
       "    </tr>\n",
       "    <tr>\n",
       "      <th>50%</th>\n",
       "      <td>1253.000000</td>\n",
       "      <td>46.000000</td>\n",
       "      <td>62.000000</td>\n",
       "      <td>443.000000</td>\n",
       "      <td>30.000000</td>\n",
       "      <td>17.000000</td>\n",
       "      <td>9.000000</td>\n",
       "    </tr>\n",
       "    <tr>\n",
       "      <th>75%</th>\n",
       "      <td>1378.250000</td>\n",
       "      <td>62.000000</td>\n",
       "      <td>82.000000</td>\n",
       "      <td>589.000000</td>\n",
       "      <td>57.000000</td>\n",
       "      <td>21.000000</td>\n",
       "      <td>11.000000</td>\n",
       "    </tr>\n",
       "    <tr>\n",
       "      <th>max</th>\n",
       "      <td>1499.000000</td>\n",
       "      <td>75.000000</td>\n",
       "      <td>244.000000</td>\n",
       "      <td>1673.000000</td>\n",
       "      <td>224.000000</td>\n",
       "      <td>49.000000</td>\n",
       "      <td>12.000000</td>\n",
       "    </tr>\n",
       "  </tbody>\n",
       "</table>\n",
       "</div>"
      ],
      "text/plain": [
       "           user_id          age  count_duration  sum_duration  count_messages  \\\n",
       "count  3216.000000  3216.000000     3216.000000   3216.000000     3216.000000   \n",
       "mean   1251.588930    46.643968       62.999689    450.964241       38.257463   \n",
       "std     144.645928    16.581233       33.263185    242.096312       36.149684   \n",
       "min    1000.000000    18.000000        0.000000      0.000000        0.000000   \n",
       "25%    1125.000000    32.000000       40.000000    282.000000        9.000000   \n",
       "50%    1253.000000    46.000000       62.000000    443.000000       30.000000   \n",
       "75%    1378.250000    62.000000       82.000000    589.000000       57.000000   \n",
       "max    1499.000000    75.000000      244.000000   1673.000000      224.000000   \n",
       "\n",
       "           gb_used      month_2  \n",
       "count  3216.000000  3216.000000  \n",
       "mean     17.288246     8.319652  \n",
       "std       7.410845     2.905960  \n",
       "min       0.000000     1.000000  \n",
       "25%      13.000000     6.000000  \n",
       "50%      17.000000     9.000000  \n",
       "75%      21.000000    11.000000  \n",
       "max      49.000000    12.000000  "
      ]
     },
     "execution_count": 57,
     "metadata": {},
     "output_type": "execute_result"
    }
   ],
   "source": [
    "df_total_users.describe()"
   ]
  },
  {
   "cell_type": "markdown",
   "metadata": {},
   "source": [
    "Определим **помесячную выручку с каждого пользователя** \n",
    "\n",
    "\n",
    "\n",
    "Для этого вычтем бесплатный лимит из суммарного количества звонков, сообщений и интернет-трафика, остаток умножим на значение из тарифного плана и  прибавим абонентскую плату, соответствующую тарифному плану."
   ]
  },
  {
   "cell_type": "code",
   "execution_count": 58,
   "metadata": {},
   "outputs": [],
   "source": [
    "def revenue (df_total_users):\n",
    "        if df_total_users['tariff'] == 'ultra':\n",
    "                            \n",
    "                    if df_total_users['sum_duration'] > df_tariffs.loc[1, 'minutes_included']:\n",
    "                        rub_minutes = (df_total_users['sum_duration'] - df_tariffs.loc[1, 'minutes_included']) * df_tariffs.loc['rub_per_minute']\n",
    "                    else:\n",
    "                        rub_minutes = 0\n",
    "                    if df_total_users['count_messages'] > df_tariffs.loc[1, 'messages_included']:\n",
    "                        rub_messages = (df_total_users['count_messages']  - df_tariffs.loc[1, 'messages_included']) * df_tariffs.loc[1, 'rub_per_message']\n",
    "                    else:\n",
    "                        rub_messages = 0\n",
    "                    if df_total_users['gb_used'] > (df_tariffs.loc[1, 'mb_per_month_included'] / 1024):\n",
    "                        rub_internet = (df_total_users['gb_used'] - (df_tariffs.loc[1, 'mb_per_month_included'] / 1024)) * df_tariffs.loc[1, 'rub_per_gb']\n",
    "                    else:\n",
    "                        rub_internet = 0\n",
    "                    result = rub_minutes + rub_messages + rub_internet + df_tariffs.loc[1, 'rub_monthly_fee']\n",
    "        elif df_total_users['tariff'] == 'smart':\n",
    "              \n",
    "                    if df_total_users['sum_duration'] > df_tariffs.loc[0, 'minutes_included']:\n",
    "                        rub_minutes = (df_total_users['sum_duration'] - df_tariffs.loc[0, 'minutes_included']) * df_tariffs.loc[0, 'rub_per_minute']\n",
    "                    else:\n",
    "                        rub_minutes = 0\n",
    "                    if df_total_users['count_messages'] > df_tariffs.loc[0, 'messages_included']:\n",
    "                        rub_messages = (df_total_users['count_messages']  - df_tariffs.loc[0, 'messages_included']) * df_tariffs.loc[0, 'rub_per_message']\n",
    "                    else:\n",
    "                        rub_messages = 0\n",
    "                    if df_total_users['gb_used'] > (df_tariffs.loc[0, 'mb_per_month_included'] / 1024):\n",
    "                        rub_internet = (df_total_users['gb_used'] - (df_tariffs.loc[0, 'mb_per_month_included'] / 1024))* df_tariffs.loc[0, 'rub_per_gb']\n",
    "                    else:\n",
    "                        rub_internet = 0\n",
    "                    result = rub_minutes + rub_messages + rub_internet + df_tariffs.loc[0, 'rub_monthly_fee']\n",
    "        return result\n",
    "                "
   ]
  },
  {
   "cell_type": "code",
   "execution_count": 59,
   "metadata": {
    "scrolled": false
   },
   "outputs": [
    {
     "data": {
      "text/html": [
       "<div>\n",
       "<style scoped>\n",
       "    .dataframe tbody tr th:only-of-type {\n",
       "        vertical-align: middle;\n",
       "    }\n",
       "\n",
       "    .dataframe tbody tr th {\n",
       "        vertical-align: top;\n",
       "    }\n",
       "\n",
       "    .dataframe thead th {\n",
       "        text-align: right;\n",
       "    }\n",
       "</style>\n",
       "<table border=\"1\" class=\"dataframe\">\n",
       "  <thead>\n",
       "    <tr style=\"text-align: right;\">\n",
       "      <th></th>\n",
       "      <th>user_id</th>\n",
       "      <th>age</th>\n",
       "      <th>churn_date</th>\n",
       "      <th>city</th>\n",
       "      <th>first_name</th>\n",
       "      <th>last_name</th>\n",
       "      <th>reg_date</th>\n",
       "      <th>tariff</th>\n",
       "      <th>month</th>\n",
       "      <th>count_duration</th>\n",
       "      <th>sum_duration</th>\n",
       "      <th>count_messages</th>\n",
       "      <th>gb_used</th>\n",
       "      <th>month_2</th>\n",
       "      <th>revenue</th>\n",
       "    </tr>\n",
       "  </thead>\n",
       "  <tbody>\n",
       "    <tr>\n",
       "      <th>0</th>\n",
       "      <td>1000</td>\n",
       "      <td>52</td>\n",
       "      <td>NaT</td>\n",
       "      <td>Краснодар</td>\n",
       "      <td>Рафаил</td>\n",
       "      <td>Верещагин</td>\n",
       "      <td>2018-05-25</td>\n",
       "      <td>ultra</td>\n",
       "      <td>2018-05-01</td>\n",
       "      <td>22.0</td>\n",
       "      <td>159.0</td>\n",
       "      <td>22.0</td>\n",
       "      <td>3.0</td>\n",
       "      <td>5.0</td>\n",
       "      <td>1950.0</td>\n",
       "    </tr>\n",
       "    <tr>\n",
       "      <th>1</th>\n",
       "      <td>1000</td>\n",
       "      <td>52</td>\n",
       "      <td>NaT</td>\n",
       "      <td>Краснодар</td>\n",
       "      <td>Рафаил</td>\n",
       "      <td>Верещагин</td>\n",
       "      <td>2018-05-25</td>\n",
       "      <td>ultra</td>\n",
       "      <td>2018-06-01</td>\n",
       "      <td>43.0</td>\n",
       "      <td>172.0</td>\n",
       "      <td>60.0</td>\n",
       "      <td>23.0</td>\n",
       "      <td>6.0</td>\n",
       "      <td>1950.0</td>\n",
       "    </tr>\n",
       "    <tr>\n",
       "      <th>2</th>\n",
       "      <td>1000</td>\n",
       "      <td>52</td>\n",
       "      <td>NaT</td>\n",
       "      <td>Краснодар</td>\n",
       "      <td>Рафаил</td>\n",
       "      <td>Верещагин</td>\n",
       "      <td>2018-05-25</td>\n",
       "      <td>ultra</td>\n",
       "      <td>2018-07-01</td>\n",
       "      <td>47.0</td>\n",
       "      <td>340.0</td>\n",
       "      <td>75.0</td>\n",
       "      <td>14.0</td>\n",
       "      <td>7.0</td>\n",
       "      <td>1950.0</td>\n",
       "    </tr>\n",
       "    <tr>\n",
       "      <th>3</th>\n",
       "      <td>1000</td>\n",
       "      <td>52</td>\n",
       "      <td>NaT</td>\n",
       "      <td>Краснодар</td>\n",
       "      <td>Рафаил</td>\n",
       "      <td>Верещагин</td>\n",
       "      <td>2018-05-25</td>\n",
       "      <td>ultra</td>\n",
       "      <td>2018-08-01</td>\n",
       "      <td>52.0</td>\n",
       "      <td>408.0</td>\n",
       "      <td>81.0</td>\n",
       "      <td>14.0</td>\n",
       "      <td>8.0</td>\n",
       "      <td>1950.0</td>\n",
       "    </tr>\n",
       "    <tr>\n",
       "      <th>4</th>\n",
       "      <td>1000</td>\n",
       "      <td>52</td>\n",
       "      <td>NaT</td>\n",
       "      <td>Краснодар</td>\n",
       "      <td>Рафаил</td>\n",
       "      <td>Верещагин</td>\n",
       "      <td>2018-05-25</td>\n",
       "      <td>ultra</td>\n",
       "      <td>2018-09-01</td>\n",
       "      <td>58.0</td>\n",
       "      <td>466.0</td>\n",
       "      <td>57.0</td>\n",
       "      <td>15.0</td>\n",
       "      <td>9.0</td>\n",
       "      <td>1950.0</td>\n",
       "    </tr>\n",
       "    <tr>\n",
       "      <th>5</th>\n",
       "      <td>1000</td>\n",
       "      <td>52</td>\n",
       "      <td>NaT</td>\n",
       "      <td>Краснодар</td>\n",
       "      <td>Рафаил</td>\n",
       "      <td>Верещагин</td>\n",
       "      <td>2018-05-25</td>\n",
       "      <td>ultra</td>\n",
       "      <td>2018-10-01</td>\n",
       "      <td>57.0</td>\n",
       "      <td>350.0</td>\n",
       "      <td>73.0</td>\n",
       "      <td>15.0</td>\n",
       "      <td>10.0</td>\n",
       "      <td>1950.0</td>\n",
       "    </tr>\n",
       "    <tr>\n",
       "      <th>6</th>\n",
       "      <td>1000</td>\n",
       "      <td>52</td>\n",
       "      <td>NaT</td>\n",
       "      <td>Краснодар</td>\n",
       "      <td>Рафаил</td>\n",
       "      <td>Верещагин</td>\n",
       "      <td>2018-05-25</td>\n",
       "      <td>ultra</td>\n",
       "      <td>2018-11-01</td>\n",
       "      <td>43.0</td>\n",
       "      <td>338.0</td>\n",
       "      <td>58.0</td>\n",
       "      <td>15.0</td>\n",
       "      <td>11.0</td>\n",
       "      <td>1950.0</td>\n",
       "    </tr>\n",
       "    <tr>\n",
       "      <th>7</th>\n",
       "      <td>1000</td>\n",
       "      <td>52</td>\n",
       "      <td>NaT</td>\n",
       "      <td>Краснодар</td>\n",
       "      <td>Рафаил</td>\n",
       "      <td>Верещагин</td>\n",
       "      <td>2018-05-25</td>\n",
       "      <td>ultra</td>\n",
       "      <td>2018-12-01</td>\n",
       "      <td>46.0</td>\n",
       "      <td>333.0</td>\n",
       "      <td>70.0</td>\n",
       "      <td>10.0</td>\n",
       "      <td>12.0</td>\n",
       "      <td>1950.0</td>\n",
       "    </tr>\n",
       "    <tr>\n",
       "      <th>8</th>\n",
       "      <td>1001</td>\n",
       "      <td>41</td>\n",
       "      <td>NaT</td>\n",
       "      <td>Москва</td>\n",
       "      <td>Иван</td>\n",
       "      <td>Ежов</td>\n",
       "      <td>2018-11-01</td>\n",
       "      <td>smart</td>\n",
       "      <td>2018-11-01</td>\n",
       "      <td>59.0</td>\n",
       "      <td>430.0</td>\n",
       "      <td>0.0</td>\n",
       "      <td>18.0</td>\n",
       "      <td>11.0</td>\n",
       "      <td>1150.0</td>\n",
       "    </tr>\n",
       "    <tr>\n",
       "      <th>9</th>\n",
       "      <td>1001</td>\n",
       "      <td>41</td>\n",
       "      <td>NaT</td>\n",
       "      <td>Москва</td>\n",
       "      <td>Иван</td>\n",
       "      <td>Ежов</td>\n",
       "      <td>2018-11-01</td>\n",
       "      <td>smart</td>\n",
       "      <td>2018-12-01</td>\n",
       "      <td>63.0</td>\n",
       "      <td>414.0</td>\n",
       "      <td>0.0</td>\n",
       "      <td>14.0</td>\n",
       "      <td>12.0</td>\n",
       "      <td>550.0</td>\n",
       "    </tr>\n",
       "  </tbody>\n",
       "</table>\n",
       "</div>"
      ],
      "text/plain": [
       "   user_id  age churn_date       city first_name  last_name   reg_date tariff  \\\n",
       "0     1000   52        NaT  Краснодар     Рафаил  Верещагин 2018-05-25  ultra   \n",
       "1     1000   52        NaT  Краснодар     Рафаил  Верещагин 2018-05-25  ultra   \n",
       "2     1000   52        NaT  Краснодар     Рафаил  Верещагин 2018-05-25  ultra   \n",
       "3     1000   52        NaT  Краснодар     Рафаил  Верещагин 2018-05-25  ultra   \n",
       "4     1000   52        NaT  Краснодар     Рафаил  Верещагин 2018-05-25  ultra   \n",
       "5     1000   52        NaT  Краснодар     Рафаил  Верещагин 2018-05-25  ultra   \n",
       "6     1000   52        NaT  Краснодар     Рафаил  Верещагин 2018-05-25  ultra   \n",
       "7     1000   52        NaT  Краснодар     Рафаил  Верещагин 2018-05-25  ultra   \n",
       "8     1001   41        NaT     Москва       Иван       Ежов 2018-11-01  smart   \n",
       "9     1001   41        NaT     Москва       Иван       Ежов 2018-11-01  smart   \n",
       "\n",
       "       month  count_duration  sum_duration  count_messages  gb_used  month_2  \\\n",
       "0 2018-05-01            22.0         159.0            22.0      3.0      5.0   \n",
       "1 2018-06-01            43.0         172.0            60.0     23.0      6.0   \n",
       "2 2018-07-01            47.0         340.0            75.0     14.0      7.0   \n",
       "3 2018-08-01            52.0         408.0            81.0     14.0      8.0   \n",
       "4 2018-09-01            58.0         466.0            57.0     15.0      9.0   \n",
       "5 2018-10-01            57.0         350.0            73.0     15.0     10.0   \n",
       "6 2018-11-01            43.0         338.0            58.0     15.0     11.0   \n",
       "7 2018-12-01            46.0         333.0            70.0     10.0     12.0   \n",
       "8 2018-11-01            59.0         430.0             0.0     18.0     11.0   \n",
       "9 2018-12-01            63.0         414.0             0.0     14.0     12.0   \n",
       "\n",
       "   revenue  \n",
       "0   1950.0  \n",
       "1   1950.0  \n",
       "2   1950.0  \n",
       "3   1950.0  \n",
       "4   1950.0  \n",
       "5   1950.0  \n",
       "6   1950.0  \n",
       "7   1950.0  \n",
       "8   1150.0  \n",
       "9    550.0  "
      ]
     },
     "execution_count": 59,
     "metadata": {},
     "output_type": "execute_result"
    }
   ],
   "source": [
    "df_total_users['revenue'] = df_total_users.apply(revenue, axis=1)\n",
    "df_total_users.head(10)"
   ]
  },
  {
   "cell_type": "markdown",
   "metadata": {},
   "source": [
    "## Анализ и описание данных"
   ]
  },
  {
   "cell_type": "markdown",
   "metadata": {},
   "source": [
    "Найдем среднее арифметическое, дисперсию и стандартное отклонение среднемесячных значений использованных минут, сообщений и интернет-трафика."
   ]
  },
  {
   "cell_type": "code",
   "execution_count": 60,
   "metadata": {},
   "outputs": [
    {
     "data": {
      "text/html": [
       "<style  type=\"text/css\" >\n",
       "</style><table id=\"T_13de1_\" ><thead>    <tr>        <th class=\"blank level0\" ></th>        <th class=\"col_heading level0 col0\" colspan=\"3\">mean</th>        <th class=\"col_heading level0 col3\" colspan=\"3\">var</th>        <th class=\"col_heading level0 col6\" colspan=\"3\">std</th>    </tr>    <tr>        <th class=\"blank level1\" ></th>        <th class=\"col_heading level1 col0\" >sms</th>        <th class=\"col_heading level1 col1\" >gb</th>        <th class=\"col_heading level1 col2\" >min_call</th>        <th class=\"col_heading level1 col3\" >sms</th>        <th class=\"col_heading level1 col4\" >gb</th>        <th class=\"col_heading level1 col5\" >min_call</th>        <th class=\"col_heading level1 col6\" >sms</th>        <th class=\"col_heading level1 col7\" >gb</th>        <th class=\"col_heading level1 col8\" >min_call</th>    </tr>    <tr>        <th class=\"index_name level0\" >tariff</th>        <th class=\"blank\" ></th>        <th class=\"blank\" ></th>        <th class=\"blank\" ></th>        <th class=\"blank\" ></th>        <th class=\"blank\" ></th>        <th class=\"blank\" ></th>        <th class=\"blank\" ></th>        <th class=\"blank\" ></th>        <th class=\"blank\" ></th>    </tr></thead><tbody>\n",
       "                <tr>\n",
       "                        <th id=\"T_13de1_level0_row0\" class=\"row_heading level0 row0\" >smart</th>\n",
       "                        <td id=\"T_13de1_row0_col0\" class=\"data row0 col0\" >33.4</td>\n",
       "                        <td id=\"T_13de1_row0_col1\" class=\"data row0 col1\" >16.3</td>\n",
       "                        <td id=\"T_13de1_row0_col2\" class=\"data row0 col2\" >417.7</td>\n",
       "                        <td id=\"T_13de1_row0_col3\" class=\"data row0 col3\" >797.0</td>\n",
       "                        <td id=\"T_13de1_row0_col4\" class=\"data row0 col4\" >33.1</td>\n",
       "                        <td id=\"T_13de1_row0_col5\" class=\"data row0 col5\" >36281.4</td>\n",
       "                        <td id=\"T_13de1_row0_col6\" class=\"data row0 col6\" >28.2</td>\n",
       "                        <td id=\"T_13de1_row0_col7\" class=\"data row0 col7\" >5.8</td>\n",
       "                        <td id=\"T_13de1_row0_col8\" class=\"data row0 col8\" >190.5</td>\n",
       "            </tr>\n",
       "            <tr>\n",
       "                        <th id=\"T_13de1_level0_row1\" class=\"row_heading level0 row1\" >ultra</th>\n",
       "                        <td id=\"T_13de1_row1_col0\" class=\"data row1 col0\" >49.3</td>\n",
       "                        <td id=\"T_13de1_row1_col1\" class=\"data row1 col1\" >19.5</td>\n",
       "                        <td id=\"T_13de1_row1_col2\" class=\"data row1 col2\" >526.1</td>\n",
       "                        <td id=\"T_13de1_row1_col3\" class=\"data row1 col3\" >2285.4</td>\n",
       "                        <td id=\"T_13de1_row1_col4\" class=\"data row1 col4\" >97.4</td>\n",
       "                        <td id=\"T_13de1_row1_col5\" class=\"data row1 col5\" >101052.5</td>\n",
       "                        <td id=\"T_13de1_row1_col6\" class=\"data row1 col6\" >47.8</td>\n",
       "                        <td id=\"T_13de1_row1_col7\" class=\"data row1 col7\" >9.9</td>\n",
       "                        <td id=\"T_13de1_row1_col8\" class=\"data row1 col8\" >317.9</td>\n",
       "            </tr>\n",
       "    </tbody></table>"
      ],
      "text/plain": [
       "<pandas.io.formats.style.Styler at 0x7ffa621998b0>"
      ]
     },
     "execution_count": 60,
     "metadata": {},
     "output_type": "execute_result"
    }
   ],
   "source": [
    "(\n",
    "    df_total_users\n",
    "         .pivot_table(index = 'tariff', values = ['sum_duration',\n",
    "       'count_messages', 'gb_used'], aggfunc = ['mean','var', 'std'])\n",
    "        .rename(columns = {'count_messages':'sms', 'sum_duration':'min_call', 'gb_used':'gb'})\n",
    "        .style.format(\"{:.1f}\")\n",
    ")"
   ]
  },
  {
   "cell_type": "markdown",
   "metadata": {},
   "source": [
    "### Анализ минут"
   ]
  },
  {
   "cell_type": "markdown",
   "metadata": {},
   "source": [
    "**Тариф ultra.**"
   ]
  },
  {
   "cell_type": "markdown",
   "metadata": {},
   "source": [
    "* Среднее арифметическое: 526.1\n",
    "* Дисперсия: 101052.5\n",
    "* Стандартное отклонение: 317.9"
   ]
  },
  {
   "cell_type": "code",
   "execution_count": 61,
   "metadata": {
    "scrolled": true
   },
   "outputs": [
    {
     "data": {
      "image/png": "[encoded data removed]",
      "text/plain": [
       "<Figure size 432x288 with 1 Axes>"
      ]
     },
     "metadata": {
      "needs_background": "light"
     },
     "output_type": "display_data"
    }
   ],
   "source": [
    "sns.histplot(data=df_total_users.query('tariff == \"ultra\"'), x=\"sum_duration\", kde=True, bins=50)\n",
    "plt.title(\"Количество минут в месяц (тариф ultra)\")\n",
    "plt.show()"
   ]
  },
  {
   "cell_type": "markdown",
   "metadata": {},
   "source": [
    "Распределение близкое к нормальному. В среднем абоненты тарифа ultra разговаривают почти 9 часов (526 минут) в месяц, в 95% месяцев укладываются в 19 часов (1162 мин.). Все абоненты используют меньше минут, чем входит в абонентскую плату (3000 мин.)."
   ]
  },
  {
   "cell_type": "markdown",
   "metadata": {},
   "source": [
    "**Тариф smart.**"
   ]
  },
  {
   "cell_type": "markdown",
   "metadata": {},
   "source": [
    "* Среднее арифметическое: 417.7\n",
    "* Дисперсия: 36281.4\n",
    "* Стандартное отклонение: 190.5"
   ]
  },
  {
   "cell_type": "code",
   "execution_count": 62,
   "metadata": {
    "scrolled": true
   },
   "outputs": [
    {
     "data": {
      "image/png": "[encoded data removed]",
      "text/plain": [
       "<Figure size 432x288 with 1 Axes>"
      ]
     },
     "metadata": {
      "needs_background": "light"
     },
     "output_type": "display_data"
    }
   ],
   "source": [
    "sns.histplot(data=df_total_users.query('tariff == \"smart\"'), x=\"sum_duration\", kde=True, bins=50)\n",
    "plt.title(\"Количество минут в месяц (тариф smart)\")\n",
    "plt.show()"
   ]
  },
  {
   "cell_type": "code",
   "execution_count": 63,
   "metadata": {},
   "outputs": [
    {
     "data": {
      "text/plain": [
       "0.6618834080717488"
      ]
     },
     "execution_count": 63,
     "metadata": {},
     "output_type": "execute_result"
    }
   ],
   "source": [
    "len(df_total_users.query('tariff == \"smart\" and sum_duration <= 500')) / len(df_total_users.query('tariff == \"smart\"'))"
   ]
  },
  {
   "cell_type": "markdown",
   "metadata": {},
   "source": [
    "Распределение близко к нормальному. В среднем абоненты тарифа smart разговаривают почти 7 часов (418 минут) в месяц, в 95% месяцев укладываются в 13 часов (799 мин.). Только в 66% месяцев абоненты не выходят за рамки абонентской платы (500 мин.)."
   ]
  },
  {
   "cell_type": "markdown",
   "metadata": {},
   "source": [
    "### Анализ сообщений"
   ]
  },
  {
   "cell_type": "markdown",
   "metadata": {},
   "source": [
    "**Тариф ultra**"
   ]
  },
  {
   "cell_type": "markdown",
   "metadata": {},
   "source": [
    "* Среднее арифметическое: 49.3\n",
    "* Дисперсия: 2285.4\n",
    "* Стандартное отклонение: 47.8"
   ]
  },
  {
   "cell_type": "code",
   "execution_count": 64,
   "metadata": {},
   "outputs": [
    {
     "data": {
      "image/png": "[encoded data removed]",
      "text/plain": [
       "<Figure size 432x288 with 1 Axes>"
      ]
     },
     "metadata": {
      "needs_background": "light"
     },
     "output_type": "display_data"
    }
   ],
   "source": [
    "sns.histplot(data=df_total_users.query('tariff == \"ultra\"'), x=\"count_messages\", kde=True, bins=30)\n",
    "plt.title(\"Количество сообщений в месяц (тариф ultra)\")\n",
    "plt.show()"
   ]
  },
  {
   "cell_type": "markdown",
   "metadata": {},
   "source": [
    "Распределение скошено вправо. В среднем абоненты тарифа ultra отправляют  49 сообщений в месяц, в 95% месяцев укладываются в 145 сообщений. Все абоненты используют меньше сообщений, чем входит в абонентскую плату (1000 сообщений)."
   ]
  },
  {
   "cell_type": "markdown",
   "metadata": {},
   "source": [
    "**Тариф smart**"
   ]
  },
  {
   "cell_type": "markdown",
   "metadata": {},
   "source": [
    "* Среднее арифметическое: 33.4\n",
    "* Дисперсия: 797.0\n",
    "* Стандартное отклонение: 28.2"
   ]
  },
  {
   "cell_type": "code",
   "execution_count": 65,
   "metadata": {
    "scrolled": true
   },
   "outputs": [
    {
     "data": {
      "image/png": "[encoded data removed]",
      "text/plain": [
       "<Figure size 432x288 with 1 Axes>"
      ]
     },
     "metadata": {
      "needs_background": "light"
     },
     "output_type": "display_data"
    }
   ],
   "source": [
    "sns.histplot(data=df_total_users.query('tariff == \"smart\"'), x=\"count_messages\", kde=True, bins=30)\n",
    "plt.title(\"Количество сообщений в месяц (тариф smart)\")\n",
    "plt.show()"
   ]
  },
  {
   "cell_type": "code",
   "execution_count": 66,
   "metadata": {},
   "outputs": [
    {
     "data": {
      "text/plain": [
       "0.747085201793722"
      ]
     },
     "execution_count": 66,
     "metadata": {},
     "output_type": "execute_result"
    }
   ],
   "source": [
    "len(df_total_users.query('tariff == \"smart\" and count_messages <= 50')) / len(df_total_users.query('tariff == \"smart\"'))"
   ]
  },
  {
   "cell_type": "markdown",
   "metadata": {},
   "source": [
    "Распределение скошено вправо. В среднем абоненты тарифа smart отправляют 33 сообщения в месяц, в 95% месяцев укладываются в 90 сообщений. Только в 75% месяцев абоненты не выходят за рамки абонентской платы (50 сообщений)."
   ]
  },
  {
   "cell_type": "markdown",
   "metadata": {},
   "source": [
    "### Анализ интернет-трафика"
   ]
  },
  {
   "cell_type": "markdown",
   "metadata": {},
   "source": [
    "**Тариф ultra**"
   ]
  },
  {
   "cell_type": "markdown",
   "metadata": {},
   "source": [
    "* Среднее арифметическое: 19.5\n",
    "* Дисперсия: 97.4\n",
    "* Стандартное отклонение: 9.9"
   ]
  },
  {
   "cell_type": "code",
   "execution_count": 67,
   "metadata": {
    "scrolled": true
   },
   "outputs": [
    {
     "data": {
      "image/png": "[encoded data removed]",
      "text/plain": [
       "<Figure size 432x288 with 1 Axes>"
      ]
     },
     "metadata": {
      "needs_background": "light"
     },
     "output_type": "display_data"
    }
   ],
   "source": [
    "sns.histplot(data=df_total_users.query('tariff == \"ultra\"'), x=\"gb_used\", kde=True, bins=30)\n",
    "plt.title(\"Объем интернет-трафика в месяц (тариф ultra)\")\n",
    "plt.show()"
   ]
  },
  {
   "cell_type": "code",
   "execution_count": 68,
   "metadata": {},
   "outputs": [
    {
     "data": {
      "text/plain": [
       "0.8640973630831643"
      ]
     },
     "execution_count": 68,
     "metadata": {},
     "output_type": "execute_result"
    }
   ],
   "source": [
    "len(df_total_users.query('tariff == \"ultra\" and gb_used <= 30')) / len(df_total_users.query('tariff == \"ultra\"'))"
   ]
  },
  {
   "cell_type": "markdown",
   "metadata": {},
   "source": [
    "Распределение близко к нормальному. В среднем абоненты тарифа ultra используют  19,5 гигабайт в месяц, в 95% месяцев укладываются в 39,2 гигабайта. Только в 86% месяцев абоненты не выходят за рамки абонентской платы (30 гигабайт)."
   ]
  },
  {
   "cell_type": "markdown",
   "metadata": {},
   "source": [
    "**Тариф smart**"
   ]
  },
  {
   "cell_type": "markdown",
   "metadata": {},
   "source": [
    "* Среднее арифметическое: 16.3\n",
    "* Дисперсия: 33.1\n",
    "* Стандартное отклонение: 5.8"
   ]
  },
  {
   "cell_type": "code",
   "execution_count": 69,
   "metadata": {
    "scrolled": true
   },
   "outputs": [
    {
     "data": {
      "image/png": "[encoded data removed]",
      "text/plain": [
       "<Figure size 432x288 with 1 Axes>"
      ]
     },
     "metadata": {
      "needs_background": "light"
     },
     "output_type": "display_data"
    }
   ],
   "source": [
    "sns.histplot(data=df_total_users.query('tariff == \"smart\"'), x=\"gb_used\", kde=True, bins=30)\n",
    "plt.title(\"Объем интернет-трафика в месяц (тариф smart)\")\n",
    "plt.show()"
   ]
  },
  {
   "cell_type": "code",
   "execution_count": 70,
   "metadata": {},
   "outputs": [
    {
     "data": {
      "text/plain": [
       "0.41524663677130047"
      ]
     },
     "execution_count": 70,
     "metadata": {},
     "output_type": "execute_result"
    }
   ],
   "source": [
    "len(df_total_users.query('tariff == \"smart\" and gb_used <= 15')) / len(df_total_users.query('tariff == \"smart\"'))"
   ]
  },
  {
   "cell_type": "markdown",
   "metadata": {},
   "source": [
    "Распределение близко к нормальному. В среднем абоненты тарифа smart используют  16,3 гигабайта в месяц, в 95% месяцев укладываются в 27,8 гигабайт. Только в 42% месяцев абоненты не выходят за рамки абонентской платы (15 гигабайт)."
   ]
  },
  {
   "cell_type": "markdown",
   "metadata": {},
   "source": [
    "## Проверка гипотез и пояснения"
   ]
  },
  {
   "cell_type": "markdown",
   "metadata": {},
   "source": [
    " ### Cредняя выручка тарифов различается"
   ]
  },
  {
   "cell_type": "markdown",
   "metadata": {},
   "source": [
    "Проверим гипотезу о том, что средняя выручка пользователей тарифов «Ультра» и «Смарт» различается.\n",
    "\n",
    "**Нулевая гипотеза**: средняя выручка тарифов «Ультра» и «Смарт» равны.\n",
    "\n",
    "**Альтернативная гипотеза**: средняя выручка тарифов «Ультра» и «Смарт» не равны."
   ]
  },
  {
   "cell_type": "markdown",
   "metadata": {},
   "source": [
    "Найдем и сравним дисперсии выручки. "
   ]
  },
  {
   "cell_type": "code",
   "execution_count": 71,
   "metadata": {},
   "outputs": [
    {
     "data": {
      "text/plain": [
       "669730.763894807"
      ]
     },
     "execution_count": 71,
     "metadata": {},
     "output_type": "execute_result"
    }
   ],
   "source": [
    " np.var(df_total_users.query('tariff == \"smart\"')['revenue'], ddof=1)"
   ]
  },
  {
   "cell_type": "code",
   "execution_count": 72,
   "metadata": {},
   "outputs": [
    {
     "data": {
      "text/plain": [
       "141387.7148093615"
      ]
     },
     "execution_count": 72,
     "metadata": {},
     "output_type": "execute_result"
    }
   ],
   "source": [
    "np.var(df_total_users.query('tariff == \"ultra\"')['revenue'], ddof=1)"
   ]
  },
  {
   "cell_type": "markdown",
   "metadata": {},
   "source": [
    "Дисперсии не равны, поэтому используем equal_var = False."
   ]
  },
  {
   "cell_type": "code",
   "execution_count": 73,
   "metadata": {},
   "outputs": [
    {
     "name": "stdout",
     "output_type": "stream",
     "text": [
      "p-значение: 1.927011394420941e-250\n",
      "Отвергаем нулевую гипотезу\n"
     ]
    }
   ],
   "source": [
    "alpha = 0.05\n",
    "results = st.ttest_ind(\n",
    "    df_total_users.query('tariff == \"smart\"')['revenue'], \n",
    "    df_total_users.query('tariff == \"ultra\"')['revenue'], \n",
    "    equal_var = False)\n",
    "\n",
    "print('p-значение:', results.pvalue)\n",
    "\n",
    "if results.pvalue < alpha:\n",
    "    print('Отвергаем нулевую гипотезу')\n",
    "else:\n",
    "    print('Не получилось отвергнуть нулевую гипотезу') "
   ]
  },
  {
   "cell_type": "markdown",
   "metadata": {},
   "source": [
    "Таким образом, средняя выручка тарифов «Ультра» и «Смарт» не равны. Найдем среднюю выручку в разрезе тарифов."
   ]
  },
  {
   "cell_type": "code",
   "execution_count": 74,
   "metadata": {},
   "outputs": [
    {
     "name": "stdout",
     "output_type": "stream",
     "text": [
      "Средняя выручка для тарифа smart: 1290\n",
      "Средняя выручка для тарифа ultra: 2070\n"
     ]
    }
   ],
   "source": [
    "print('Средняя выручка для тарифа smart:', round(df_total_users.query('tariff == \"smart\"')['revenue'].mean()))\n",
    "print('Средняя выручка для тарифа ultra:', round(df_total_users.query('tariff == \"ultra\"')['revenue'].mean()))"
   ]
  },
  {
   "cell_type": "markdown",
   "metadata": {},
   "source": [
    "Тариф ultra выгоднее для компании."
   ]
  },
  {
   "cell_type": "markdown",
   "metadata": {},
   "source": [
    " ### Средняя выручка пользователей из Москвы и из других регионов различается"
   ]
  },
  {
   "cell_type": "markdown",
   "metadata": {},
   "source": [
    "Проверим гипотезу о том, что средняя выручка пользователей из Москвы отличается от выручки пользователей из других регионов.\n",
    "\n",
    "**Нулевая гипотеза**: средняя выручка пользователей из Москвы  и пользователей из других регионов равны.\n",
    "\n",
    "**Альтернативная гипотеза**: средняя выручка пользователей из Москвы  и пользователей из других регионов  не равны."
   ]
  },
  {
   "cell_type": "markdown",
   "metadata": {},
   "source": [
    "Найдем уникальные значения столбца **city**."
   ]
  },
  {
   "cell_type": "code",
   "execution_count": 75,
   "metadata": {},
   "outputs": [
    {
     "data": {
      "text/plain": [
       "array(['Архангельск', 'Астрахань', 'Балашиха', 'Барнаул', 'Белгород',\n",
       "       'Брянск', 'Владивосток', 'Владикавказ', 'Владимир', 'Волгоград',\n",
       "       'Волжский', 'Вологда', 'Воронеж', 'Грозный', 'Екатеринбург',\n",
       "       'Иваново', 'Ижевск', 'Иркутск', 'Казань', 'Калининград', 'Калуга',\n",
       "       'Кемерово', 'Киров', 'Кострома', 'Краснодар', 'Красноярск',\n",
       "       'Курган', 'Курск', 'Липецк', 'Магнитогорск', 'Махачкала', 'Москва',\n",
       "       'Мурманск', 'Набережные Челны', 'Нижневартовск', 'Нижний Новгород',\n",
       "       'Нижний Тагил', 'Новокузнецк', 'Новороссийск', 'Новосибирск',\n",
       "       'Омск', 'Оренбург', 'Орёл', 'Пенза', 'Пермь', 'Петрозаводск',\n",
       "       'Подольск', 'Ростов-на-Дону', 'Рязань', 'Самара',\n",
       "       'Санкт-Петербург', 'Саранск', 'Саратов', 'Севастополь', 'Смоленск',\n",
       "       'Сочи', 'Ставрополь', 'Стерлитамак', 'Сургут', 'Тамбов', 'Тверь',\n",
       "       'Тольятти', 'Томск', 'Тула', 'Тюмень', 'Улан-Удэ', 'Ульяновск',\n",
       "       'Уфа', 'Хабаровск', 'Химки', 'Чебоксары', 'Челябинск', 'Череповец',\n",
       "       'Чита', 'Якутск', 'Ярославль'], dtype=object)"
      ]
     },
     "execution_count": 75,
     "metadata": {},
     "output_type": "execute_result"
    }
   ],
   "source": [
    "df_total_users['city'].sort_values().unique()"
   ]
  },
  {
   "cell_type": "markdown",
   "metadata": {},
   "source": [
    "Найдем и сравним дисперсии выручки. "
   ]
  },
  {
   "cell_type": "code",
   "execution_count": 76,
   "metadata": {},
   "outputs": [
    {
     "data": {
      "text/plain": [
       "564710.7117467273"
      ]
     },
     "execution_count": 76,
     "metadata": {},
     "output_type": "execute_result"
    }
   ],
   "source": [
    "np.var(df_total_users.query('city == \"Москва\"')['revenue'])"
   ]
  },
  {
   "cell_type": "code",
   "execution_count": 77,
   "metadata": {},
   "outputs": [
    {
     "data": {
      "text/plain": [
       "653818.4925923498"
      ]
     },
     "execution_count": 77,
     "metadata": {},
     "output_type": "execute_result"
    }
   ],
   "source": [
    "np.var(df_total_users.query('city != \"Москва\"')['revenue'])"
   ]
  },
  {
   "cell_type": "code",
   "execution_count": 78,
   "metadata": {},
   "outputs": [
    {
     "name": "stdout",
     "output_type": "stream",
     "text": [
      "p-значение: 0.5400751614511182\n",
      "Не получилось отвергнуть нулевую гипотезу\n"
     ]
    }
   ],
   "source": [
    "alpha = 0.05\n",
    "results = st.ttest_ind(\n",
    "    df_total_users.query('city == \"Москва\"')['revenue'], \n",
    "    df_total_users.query('city != \"Москва\"')['revenue'])\n",
    "\n",
    "print('p-значение:', results.pvalue)\n",
    "\n",
    "if results.pvalue < alpha:\n",
    "    print('Отвергаем нулевую гипотезу')\n",
    "else:\n",
    "    print('Не получилось отвергнуть нулевую гипотезу') "
   ]
  },
  {
   "cell_type": "markdown",
   "metadata": {},
   "source": [
    "Полученное значение p-value говорит о том, что вероятность получить такое или большее различие случайно 54%. "
   ]
  },
  {
   "cell_type": "markdown",
   "metadata": {},
   "source": [
    "Таким образом, средняя выручка пользователей из Москвы не отличается от выручки пользователей из других регионов. Найдем среднюю выручку пользователей из Москвы и пользователей из других регионов."
   ]
  },
  {
   "cell_type": "code",
   "execution_count": 79,
   "metadata": {},
   "outputs": [
    {
     "name": "stdout",
     "output_type": "stream",
     "text": [
      "Средняя выручка для Москвы: 1547\n",
      "Средняя выручка для других регионов: 1525\n"
     ]
    }
   ],
   "source": [
    "print('Средняя выручка для Москвы:', round(df_total_users.query('city == \"Москва\"')['revenue'].mean()))\n",
    "print('Средняя выручка для других регионов:', round(df_total_users.query('city != \"Москва\"')['revenue'].mean()))"
   ]
  },
  {
   "cell_type": "markdown",
   "metadata": {},
   "source": [
    "Выручка практически не отличается."
   ]
  },
  {
   "cell_type": "markdown",
   "metadata": {},
   "source": [
    "## Общий вывод"
   ]
  },
  {
   "cell_type": "markdown",
   "metadata": {},
   "source": [
    "Проведен анализ тарифов **smart** и **ultra** на  выборке в 500 пользователей.  Изучено поведение клиентов и проведена проверка гипотез в рамках средней выручки и сделан вывод — какой тариф лучше.\n",
    "\n",
    "Абоненты тарифа **smart** :\n",
    "* минуты: в 66% месяцев абоненты укладываются в абонентскую плату (средняя 418 из 500 мин.);\n",
    "* сообщения: в 75% месяцев абоненты укладываются в абонентскую плату (средняя 33 из 50 сообщений);\n",
    "* интернет-трафик: в 42% месяцев абоненты укладываются в абонентскую плату (средняя 16,3 из 15 гигабайт).\n",
    "\n",
    "Абоненты тарифа **ultra**:\n",
    "* минуты: все абоненты укладываются в абонентскую плату (средняя 526 из 3000 мин.);\n",
    "* сообщения: все абоненты укладываются в абонентскую плату (средняя 49 из 1000 сообщений);\n",
    "* интернет-трафик: в 86% месяцев абоненты укладываются в абонентскую плату (средняя 19,5 из 30 гигабайт).\n",
    "\n",
    "Абоненты тарифа **ultra** используют в среднем не намного больше минут, сообщений и интернет-трафика. Но средняя выручка компании от них существенно отличается: 2070 рублей против 1290 рублей для тарифа. Тариф **ultra** выгоднее для компании.\n",
    "\n",
    "Средняя выручка абонентов Москвы и абонентов из других регионов практически не отличается: 1547 рублей для Москвы и 1525 рублей для других регионов."
   ]
  }
 ],
 "metadata": {
  "ExecuteTimeLog": [
   {
    "duration": 1095,
    "start_time": "2022-05-17T18:19:57.988Z"
   },
   {
    "duration": 215,
    "start_time": "2022-05-17T18:20:00.130Z"
   },
   {
    "duration": 160,
    "start_time": "2022-05-17T18:20:00.956Z"
   },
   {
    "duration": 107,
    "start_time": "2022-05-17T18:20:02.184Z"
   },
   {
    "duration": 17,
    "start_time": "2022-05-17T18:20:03.108Z"
   },
   {
    "duration": 18,
    "start_time": "2022-05-17T18:20:05.244Z"
   },
   {
    "duration": 5,
    "start_time": "2022-05-17T18:22:42.817Z"
   },
   {
    "duration": 222,
    "start_time": "2022-05-17T18:22:42.824Z"
   },
   {
    "duration": 156,
    "start_time": "2022-05-17T18:22:43.049Z"
   },
   {
    "duration": 108,
    "start_time": "2022-05-17T18:22:43.207Z"
   },
   {
    "duration": 12,
    "start_time": "2022-05-17T18:22:43.318Z"
   },
   {
    "duration": 16,
    "start_time": "2022-05-17T18:22:43.332Z"
   },
   {
    "duration": 14,
    "start_time": "2022-05-17T18:22:43.350Z"
   },
   {
    "duration": 16,
    "start_time": "2022-05-17T18:22:43.366Z"
   },
   {
    "duration": 11,
    "start_time": "2022-05-17T18:22:43.384Z"
   },
   {
    "duration": 10,
    "start_time": "2022-05-17T18:22:43.397Z"
   },
   {
    "duration": 195,
    "start_time": "2022-05-17T18:24:47.453Z"
   },
   {
    "duration": 12,
    "start_time": "2022-05-17T18:24:54.769Z"
   },
   {
    "duration": 4,
    "start_time": "2022-05-17T18:25:20.669Z"
   },
   {
    "duration": 200,
    "start_time": "2022-05-17T18:25:20.675Z"
   },
   {
    "duration": 164,
    "start_time": "2022-05-17T18:25:20.881Z"
   },
   {
    "duration": 117,
    "start_time": "2022-05-17T18:25:21.047Z"
   },
   {
    "duration": 13,
    "start_time": "2022-05-17T18:25:21.167Z"
   },
   {
    "duration": 18,
    "start_time": "2022-05-17T18:25:21.183Z"
   },
   {
    "duration": 11,
    "start_time": "2022-05-17T18:25:21.204Z"
   },
   {
    "duration": 15,
    "start_time": "2022-05-17T18:25:21.217Z"
   },
   {
    "duration": 10,
    "start_time": "2022-05-17T18:25:21.234Z"
   },
   {
    "duration": 42,
    "start_time": "2022-05-17T18:25:21.246Z"
   },
   {
    "duration": 35,
    "start_time": "2022-05-17T18:26:39.713Z"
   },
   {
    "duration": 4,
    "start_time": "2022-05-17T18:28:32.976Z"
   },
   {
    "duration": 727,
    "start_time": "2022-05-17T18:28:32.984Z"
   },
   {
    "duration": 170,
    "start_time": "2022-05-17T18:28:33.714Z"
   },
   {
    "duration": 122,
    "start_time": "2022-05-17T18:28:33.886Z"
   },
   {
    "duration": 12,
    "start_time": "2022-05-17T18:28:34.011Z"
   },
   {
    "duration": 20,
    "start_time": "2022-05-17T18:28:34.025Z"
   },
   {
    "duration": 11,
    "start_time": "2022-05-17T18:28:34.047Z"
   },
   {
    "duration": 47,
    "start_time": "2022-05-17T18:28:34.060Z"
   },
   {
    "duration": 12,
    "start_time": "2022-05-17T18:28:34.109Z"
   },
   {
    "duration": 46,
    "start_time": "2022-05-17T18:28:34.123Z"
   },
   {
    "duration": 15,
    "start_time": "2022-05-17T18:28:34.172Z"
   },
   {
    "duration": 28,
    "start_time": "2022-05-17T18:28:34.189Z"
   },
   {
    "duration": 11,
    "start_time": "2022-05-17T18:28:34.219Z"
   },
   {
    "duration": 50,
    "start_time": "2022-05-17T18:28:34.232Z"
   },
   {
    "duration": 21,
    "start_time": "2022-05-17T18:28:34.284Z"
   },
   {
    "duration": 16,
    "start_time": "2022-05-17T18:28:40.972Z"
   },
   {
    "duration": 4,
    "start_time": "2022-05-17T18:44:07.406Z"
   },
   {
    "duration": 207,
    "start_time": "2022-05-17T18:44:07.417Z"
   },
   {
    "duration": 170,
    "start_time": "2022-05-17T18:44:07.627Z"
   },
   {
    "duration": 117,
    "start_time": "2022-05-17T18:44:07.799Z"
   },
   {
    "duration": 11,
    "start_time": "2022-05-17T18:44:07.919Z"
   },
   {
    "duration": 20,
    "start_time": "2022-05-17T18:44:07.932Z"
   },
   {
    "duration": 18,
    "start_time": "2022-05-17T18:44:07.954Z"
   },
   {
    "duration": 39,
    "start_time": "2022-05-17T18:44:07.974Z"
   },
   {
    "duration": 33,
    "start_time": "2022-05-17T18:44:08.016Z"
   },
   {
    "duration": 30,
    "start_time": "2022-05-17T18:44:08.051Z"
   },
   {
    "duration": 30,
    "start_time": "2022-05-17T18:44:08.085Z"
   },
   {
    "duration": 35,
    "start_time": "2022-05-17T18:44:08.118Z"
   },
   {
    "duration": 32,
    "start_time": "2022-05-17T18:44:08.155Z"
   },
   {
    "duration": 28,
    "start_time": "2022-05-17T18:44:08.189Z"
   },
   {
    "duration": 19,
    "start_time": "2022-05-17T18:44:08.219Z"
   },
   {
    "duration": 42,
    "start_time": "2022-05-17T18:44:08.240Z"
   },
   {
    "duration": 17,
    "start_time": "2022-05-17T18:44:08.284Z"
   },
   {
    "duration": 41,
    "start_time": "2022-05-17T18:44:08.303Z"
   },
   {
    "duration": 43,
    "start_time": "2022-05-17T18:44:08.346Z"
   },
   {
    "duration": 17,
    "start_time": "2022-05-17T18:44:08.391Z"
   },
   {
    "duration": 19,
    "start_time": "2022-05-17T18:44:17.239Z"
   },
   {
    "duration": 1604,
    "start_time": "2022-05-18T11:30:16.673Z"
   },
   {
    "duration": 554,
    "start_time": "2022-05-18T11:30:18.279Z"
   },
   {
    "duration": 402,
    "start_time": "2022-05-18T11:30:18.834Z"
   },
   {
    "duration": 275,
    "start_time": "2022-05-18T11:30:19.237Z"
   },
   {
    "duration": 79,
    "start_time": "2022-05-18T11:30:19.514Z"
   },
   {
    "duration": 68,
    "start_time": "2022-05-18T11:30:19.594Z"
   },
   {
    "duration": 11,
    "start_time": "2022-05-18T11:30:19.664Z"
   },
   {
    "duration": 25,
    "start_time": "2022-05-18T11:30:19.677Z"
   },
   {
    "duration": 28,
    "start_time": "2022-05-18T11:30:19.704Z"
   },
   {
    "duration": 27,
    "start_time": "2022-05-18T11:30:19.734Z"
   },
   {
    "duration": 30,
    "start_time": "2022-05-18T11:30:19.763Z"
   },
   {
    "duration": 29,
    "start_time": "2022-05-18T11:30:19.794Z"
   },
   {
    "duration": 7,
    "start_time": "2022-05-18T11:30:19.824Z"
   },
   {
    "duration": 39,
    "start_time": "2022-05-18T11:30:19.834Z"
   },
   {
    "duration": 12,
    "start_time": "2022-05-18T11:30:19.874Z"
   },
   {
    "duration": 6,
    "start_time": "2022-05-18T11:30:19.888Z"
   },
   {
    "duration": 13,
    "start_time": "2022-05-18T11:30:19.896Z"
   },
   {
    "duration": 49,
    "start_time": "2022-05-18T11:30:19.911Z"
   },
   {
    "duration": 9,
    "start_time": "2022-05-18T11:30:19.962Z"
   },
   {
    "duration": 12,
    "start_time": "2022-05-18T11:30:19.973Z"
   },
   {
    "duration": 15,
    "start_time": "2022-05-18T11:30:22.661Z"
   },
   {
    "duration": 81,
    "start_time": "2022-05-18T13:07:29.552Z"
   },
   {
    "duration": 28,
    "start_time": "2022-05-18T13:07:53.344Z"
   },
   {
    "duration": 148,
    "start_time": "2022-05-18T13:16:56.344Z"
   },
   {
    "duration": 7,
    "start_time": "2022-05-18T13:17:04.342Z"
   },
   {
    "duration": 20,
    "start_time": "2022-05-18T13:17:06.161Z"
   },
   {
    "duration": 28,
    "start_time": "2022-05-18T13:17:07.161Z"
   },
   {
    "duration": 3,
    "start_time": "2022-05-18T18:38:37.902Z"
   },
   {
    "duration": 175,
    "start_time": "2022-05-18T18:38:37.907Z"
   },
   {
    "duration": 131,
    "start_time": "2022-05-18T18:38:38.084Z"
   },
   {
    "duration": 83,
    "start_time": "2022-05-18T18:38:38.216Z"
   },
   {
    "duration": 10,
    "start_time": "2022-05-18T18:38:38.301Z"
   },
   {
    "duration": 16,
    "start_time": "2022-05-18T18:38:38.312Z"
   },
   {
    "duration": 36,
    "start_time": "2022-05-18T18:38:42.450Z"
   },
   {
    "duration": 8,
    "start_time": "2022-05-18T18:40:28.312Z"
   },
   {
    "duration": 25,
    "start_time": "2022-05-18T18:40:30.225Z"
   },
   {
    "duration": 12,
    "start_time": "2022-05-18T18:43:02.355Z"
   },
   {
    "duration": 31,
    "start_time": "2022-05-18T18:43:03.284Z"
   },
   {
    "duration": 8,
    "start_time": "2022-05-18T18:45:23.309Z"
   },
   {
    "duration": 20,
    "start_time": "2022-05-18T18:45:25.014Z"
   },
   {
    "duration": 16,
    "start_time": "2022-05-18T18:50:12.650Z"
   },
   {
    "duration": 15,
    "start_time": "2022-05-18T18:50:13.501Z"
   },
   {
    "duration": 10,
    "start_time": "2022-05-18T18:51:07.904Z"
   },
   {
    "duration": 11,
    "start_time": "2022-05-18T18:51:09.094Z"
   },
   {
    "duration": 1113,
    "start_time": "2022-05-19T19:14:40.127Z"
   },
   {
    "duration": 307,
    "start_time": "2022-05-19T19:14:41.242Z"
   },
   {
    "duration": 323,
    "start_time": "2022-05-19T19:14:41.551Z"
   },
   {
    "duration": 138,
    "start_time": "2022-05-19T19:14:41.876Z"
   },
   {
    "duration": 47,
    "start_time": "2022-05-19T19:14:42.016Z"
   },
   {
    "duration": 35,
    "start_time": "2022-05-19T19:14:42.065Z"
   },
   {
    "duration": 13,
    "start_time": "2022-05-19T19:14:42.101Z"
   },
   {
    "duration": 44,
    "start_time": "2022-05-19T19:14:42.115Z"
   },
   {
    "duration": 10,
    "start_time": "2022-05-19T19:14:42.161Z"
   },
   {
    "duration": 25,
    "start_time": "2022-05-19T19:14:42.174Z"
   },
   {
    "duration": 7,
    "start_time": "2022-05-19T19:14:42.201Z"
   },
   {
    "duration": 42,
    "start_time": "2022-05-19T19:14:42.209Z"
   },
   {
    "duration": 9,
    "start_time": "2022-05-19T19:14:42.253Z"
   },
   {
    "duration": 11,
    "start_time": "2022-05-19T19:14:42.264Z"
   },
   {
    "duration": 15,
    "start_time": "2022-05-19T19:14:42.277Z"
   },
   {
    "duration": 42,
    "start_time": "2022-05-19T19:14:42.293Z"
   },
   {
    "duration": 166,
    "start_time": "2022-05-19T19:14:48.198Z"
   },
   {
    "duration": 23,
    "start_time": "2022-05-19T19:14:59.769Z"
   },
   {
    "duration": 38,
    "start_time": "2022-05-19T19:16:01.824Z"
   },
   {
    "duration": 29,
    "start_time": "2022-05-19T19:16:15.224Z"
   },
   {
    "duration": 20,
    "start_time": "2022-05-19T19:18:21.145Z"
   },
   {
    "duration": 26,
    "start_time": "2022-05-19T19:20:23.849Z"
   },
   {
    "duration": 6,
    "start_time": "2022-05-19T19:24:44.015Z"
   },
   {
    "duration": 6,
    "start_time": "2022-05-19T19:24:44.901Z"
   },
   {
    "duration": 51,
    "start_time": "2022-05-19T19:33:33.699Z"
   },
   {
    "duration": 32,
    "start_time": "2022-05-19T19:36:12.848Z"
   },
   {
    "duration": 17,
    "start_time": "2022-05-19T19:38:37.291Z"
   },
   {
    "duration": 36,
    "start_time": "2022-05-19T19:41:24.011Z"
   },
   {
    "duration": 23,
    "start_time": "2022-05-19T19:44:34.711Z"
   },
   {
    "duration": 107,
    "start_time": "2022-05-19T19:49:36.936Z"
   },
   {
    "duration": 105,
    "start_time": "2022-05-19T19:49:55.817Z"
   },
   {
    "duration": 54,
    "start_time": "2022-05-19T19:50:25.345Z"
   },
   {
    "duration": 59,
    "start_time": "2022-05-19T19:50:46.538Z"
   },
   {
    "duration": 10,
    "start_time": "2022-05-19T19:51:14.278Z"
   },
   {
    "duration": 14,
    "start_time": "2022-05-19T20:39:35.116Z"
   },
   {
    "duration": 13,
    "start_time": "2022-05-19T20:40:57.174Z"
   },
   {
    "duration": 9,
    "start_time": "2022-05-19T20:45:12.761Z"
   },
   {
    "duration": 4,
    "start_time": "2022-05-19T20:48:11.711Z"
   },
   {
    "duration": 11,
    "start_time": "2022-05-19T20:48:22.291Z"
   },
   {
    "duration": 2,
    "start_time": "2022-05-19T20:55:05.697Z"
   },
   {
    "duration": 10,
    "start_time": "2022-05-19T21:00:14.095Z"
   },
   {
    "duration": 11,
    "start_time": "2022-05-19T21:04:42.654Z"
   },
   {
    "duration": 15,
    "start_time": "2022-05-19T21:05:59.449Z"
   },
   {
    "duration": 62,
    "start_time": "2022-05-20T07:57:11.829Z"
   },
   {
    "duration": 1289,
    "start_time": "2022-05-20T07:57:16.972Z"
   },
   {
    "duration": 580,
    "start_time": "2022-05-20T07:57:18.262Z"
   },
   {
    "duration": 417,
    "start_time": "2022-05-20T07:57:18.844Z"
   },
   {
    "duration": 278,
    "start_time": "2022-05-20T07:57:19.264Z"
   },
   {
    "duration": 77,
    "start_time": "2022-05-20T07:57:19.544Z"
   },
   {
    "duration": 67,
    "start_time": "2022-05-20T07:57:19.623Z"
   },
   {
    "duration": 14,
    "start_time": "2022-05-20T07:57:19.691Z"
   },
   {
    "duration": 27,
    "start_time": "2022-05-20T07:57:19.708Z"
   },
   {
    "duration": 30,
    "start_time": "2022-05-20T07:57:19.736Z"
   },
   {
    "duration": 7,
    "start_time": "2022-05-20T07:57:19.769Z"
   },
   {
    "duration": 50,
    "start_time": "2022-05-20T07:57:19.778Z"
   },
   {
    "duration": 25,
    "start_time": "2022-05-20T07:57:19.830Z"
   },
   {
    "duration": 6,
    "start_time": "2022-05-20T07:57:19.857Z"
   },
   {
    "duration": 48,
    "start_time": "2022-05-20T07:57:19.865Z"
   },
   {
    "duration": 17,
    "start_time": "2022-05-20T07:57:19.916Z"
   },
   {
    "duration": 7,
    "start_time": "2022-05-20T07:57:19.935Z"
   },
   {
    "duration": 12,
    "start_time": "2022-05-20T07:57:19.943Z"
   },
   {
    "duration": 11,
    "start_time": "2022-05-20T07:57:19.956Z"
   },
   {
    "duration": 38,
    "start_time": "2022-05-20T07:57:19.968Z"
   },
   {
    "duration": 20,
    "start_time": "2022-05-20T07:57:20.010Z"
   },
   {
    "duration": 36,
    "start_time": "2022-05-20T07:57:20.032Z"
   },
   {
    "duration": 36,
    "start_time": "2022-05-20T07:57:20.070Z"
   },
   {
    "duration": 29,
    "start_time": "2022-05-20T07:57:20.108Z"
   },
   {
    "duration": 5,
    "start_time": "2022-05-20T07:57:20.139Z"
   },
   {
    "duration": 8,
    "start_time": "2022-05-20T07:57:20.146Z"
   },
   {
    "duration": 12,
    "start_time": "2022-05-20T07:57:20.156Z"
   },
   {
    "duration": 139,
    "start_time": "2022-05-20T07:57:20.170Z"
   },
   {
    "duration": 47,
    "start_time": "2022-05-20T07:57:20.312Z"
   },
   {
    "duration": 62,
    "start_time": "2022-05-20T07:57:20.360Z"
   },
   {
    "duration": 8,
    "start_time": "2022-05-20T07:57:20.425Z"
   },
   {
    "duration": 33,
    "start_time": "2022-05-20T07:57:23.313Z"
   },
   {
    "duration": 30,
    "start_time": "2022-05-20T08:00:45.650Z"
   },
   {
    "duration": 30,
    "start_time": "2022-05-20T08:01:20.488Z"
   },
   {
    "duration": 26,
    "start_time": "2022-05-20T08:04:59.257Z"
   },
   {
    "duration": 390,
    "start_time": "2022-05-20T09:11:23.740Z"
   },
   {
    "duration": 67,
    "start_time": "2022-05-20T09:15:05.269Z"
   },
   {
    "duration": 68,
    "start_time": "2022-05-20T09:21:36.663Z"
   },
   {
    "duration": 38,
    "start_time": "2022-05-20T09:26:42.653Z"
   },
   {
    "duration": 60,
    "start_time": "2022-05-20T09:30:15.464Z"
   },
   {
    "duration": 31,
    "start_time": "2022-05-20T09:30:25.997Z"
   },
   {
    "duration": 4,
    "start_time": "2022-05-20T09:30:48.533Z"
   },
   {
    "duration": 47,
    "start_time": "2022-05-20T09:32:38.790Z"
   },
   {
    "duration": 25,
    "start_time": "2022-05-20T09:32:56.727Z"
   },
   {
    "duration": 11,
    "start_time": "2022-05-20T12:21:45.876Z"
   },
   {
    "duration": 10,
    "start_time": "2022-05-20T12:25:43.570Z"
   },
   {
    "duration": 5,
    "start_time": "2022-05-20T12:27:11.564Z"
   },
   {
    "duration": 12,
    "start_time": "2022-05-20T12:27:34.611Z"
   },
   {
    "duration": 5,
    "start_time": "2022-05-20T12:28:19.364Z"
   },
   {
    "duration": 6,
    "start_time": "2022-05-20T12:28:59.268Z"
   },
   {
    "duration": 6,
    "start_time": "2022-05-20T12:29:31.286Z"
   },
   {
    "duration": 14,
    "start_time": "2022-05-20T12:42:47.702Z"
   },
   {
    "duration": 24,
    "start_time": "2022-05-20T12:43:47.942Z"
   },
   {
    "duration": 34,
    "start_time": "2022-05-20T12:43:58.597Z"
   },
   {
    "duration": 979,
    "start_time": "2022-05-20T14:54:55.813Z"
   },
   {
    "duration": 273,
    "start_time": "2022-05-20T14:54:56.795Z"
   },
   {
    "duration": 545,
    "start_time": "2022-05-20T14:54:57.072Z"
   },
   {
    "duration": 166,
    "start_time": "2022-05-20T14:54:57.619Z"
   },
   {
    "duration": 35,
    "start_time": "2022-05-20T14:54:57.788Z"
   },
   {
    "duration": 64,
    "start_time": "2022-05-20T14:54:57.825Z"
   },
   {
    "duration": 14,
    "start_time": "2022-05-20T14:54:57.891Z"
   },
   {
    "duration": 30,
    "start_time": "2022-05-20T14:54:57.906Z"
   },
   {
    "duration": 52,
    "start_time": "2022-05-20T14:54:57.937Z"
   },
   {
    "duration": 8,
    "start_time": "2022-05-20T14:54:57.994Z"
   },
   {
    "duration": 22,
    "start_time": "2022-05-20T14:54:58.004Z"
   },
   {
    "duration": 23,
    "start_time": "2022-05-20T14:54:58.028Z"
   },
   {
    "duration": 14,
    "start_time": "2022-05-20T14:54:58.069Z"
   },
   {
    "duration": 27,
    "start_time": "2022-05-20T14:54:58.089Z"
   },
   {
    "duration": 14,
    "start_time": "2022-05-20T14:54:58.118Z"
   },
   {
    "duration": 8,
    "start_time": "2022-05-20T14:54:58.134Z"
   },
   {
    "duration": 32,
    "start_time": "2022-05-20T14:54:58.144Z"
   },
   {
    "duration": 26,
    "start_time": "2022-05-20T14:54:58.179Z"
   },
   {
    "duration": 12,
    "start_time": "2022-05-20T14:54:58.207Z"
   },
   {
    "duration": 18,
    "start_time": "2022-05-20T14:54:58.220Z"
   },
   {
    "duration": 66,
    "start_time": "2022-05-20T14:54:58.239Z"
   },
   {
    "duration": 21,
    "start_time": "2022-05-20T14:54:58.307Z"
   },
   {
    "duration": 55,
    "start_time": "2022-05-20T14:54:58.330Z"
   },
   {
    "duration": 9,
    "start_time": "2022-05-20T14:54:58.391Z"
   },
   {
    "duration": 12,
    "start_time": "2022-05-20T14:54:58.401Z"
   },
   {
    "duration": 111,
    "start_time": "2022-05-20T14:54:58.415Z"
   },
   {
    "duration": 69,
    "start_time": "2022-05-20T14:54:58.528Z"
   },
   {
    "duration": 53,
    "start_time": "2022-05-20T14:54:58.599Z"
   },
   {
    "duration": 39,
    "start_time": "2022-05-20T14:54:58.654Z"
   },
   {
    "duration": 34,
    "start_time": "2022-05-20T14:54:58.695Z"
   },
   {
    "duration": 20,
    "start_time": "2022-05-20T14:54:58.730Z"
   },
   {
    "duration": 37,
    "start_time": "2022-05-20T14:54:58.751Z"
   },
   {
    "duration": 87,
    "start_time": "2022-05-20T14:54:58.792Z"
   },
   {
    "duration": 55,
    "start_time": "2022-05-20T14:54:58.881Z"
   },
   {
    "duration": 53,
    "start_time": "2022-05-20T14:54:58.938Z"
   },
   {
    "duration": 7,
    "start_time": "2022-05-20T14:54:59.002Z"
   },
   {
    "duration": 9,
    "start_time": "2022-05-20T14:54:59.010Z"
   },
   {
    "duration": 13,
    "start_time": "2022-05-20T14:54:59.020Z"
   },
   {
    "duration": 71,
    "start_time": "2022-05-20T14:54:59.035Z"
   },
   {
    "duration": 5,
    "start_time": "2022-05-20T14:55:23.515Z"
   },
   {
    "duration": 679,
    "start_time": "2022-05-20T15:30:49.349Z"
   },
   {
    "duration": 8,
    "start_time": "2022-05-20T17:08:57.546Z"
   },
   {
    "duration": 8,
    "start_time": "2022-05-20T17:10:36.391Z"
   },
   {
    "duration": 14,
    "start_time": "2022-05-20T17:12:58.098Z"
   },
   {
    "duration": 51,
    "start_time": "2022-05-20T17:19:10.740Z"
   },
   {
    "duration": 12,
    "start_time": "2022-05-20T17:19:24.501Z"
   },
   {
    "duration": 43,
    "start_time": "2022-05-20T17:20:33.622Z"
   },
   {
    "duration": 5,
    "start_time": "2022-05-20T17:22:55.338Z"
   },
   {
    "duration": 8,
    "start_time": "2022-05-20T17:25:26.320Z"
   },
   {
    "duration": 23,
    "start_time": "2022-05-20T17:25:58.116Z"
   },
   {
    "duration": 84,
    "start_time": "2022-05-20T17:53:02.951Z"
   },
   {
    "duration": 70,
    "start_time": "2022-05-20T17:53:09.521Z"
   },
   {
    "duration": 71,
    "start_time": "2022-05-20T18:03:58.423Z"
   },
   {
    "duration": 71,
    "start_time": "2022-05-20T18:08:35.334Z"
   },
   {
    "duration": 67,
    "start_time": "2022-05-20T18:13:13.533Z"
   },
   {
    "duration": 62,
    "start_time": "2022-05-20T18:13:39.743Z"
   },
   {
    "duration": 66,
    "start_time": "2022-05-20T18:14:07.642Z"
   },
   {
    "duration": 3,
    "start_time": "2022-05-20T18:14:25.086Z"
   },
   {
    "duration": 31,
    "start_time": "2022-05-20T18:15:05.962Z"
   },
   {
    "duration": 7,
    "start_time": "2022-05-20T18:15:27.230Z"
   },
   {
    "duration": 67,
    "start_time": "2022-05-20T18:17:11.890Z"
   },
   {
    "duration": 37,
    "start_time": "2022-05-20T18:47:21.521Z"
   },
   {
    "duration": 67,
    "start_time": "2022-05-20T18:47:55.409Z"
   },
   {
    "duration": 70,
    "start_time": "2022-05-20T18:54:25.958Z"
   },
   {
    "duration": 69,
    "start_time": "2022-05-20T18:58:42.911Z"
   },
   {
    "duration": 34,
    "start_time": "2022-05-20T19:00:47.929Z"
   },
   {
    "duration": 45,
    "start_time": "2022-05-20T19:02:39.461Z"
   },
   {
    "duration": 78,
    "start_time": "2022-05-20T19:03:27.605Z"
   },
   {
    "duration": 30,
    "start_time": "2022-05-20T19:04:03.980Z"
   },
   {
    "duration": 35,
    "start_time": "2022-05-20T19:05:33.141Z"
   },
   {
    "duration": 6,
    "start_time": "2022-05-20T19:05:46.518Z"
   },
   {
    "duration": 5,
    "start_time": "2022-05-20T19:05:47.396Z"
   },
   {
    "duration": 5,
    "start_time": "2022-05-20T19:05:47.936Z"
   },
   {
    "duration": 33,
    "start_time": "2022-05-20T19:06:00.378Z"
   },
   {
    "duration": 31,
    "start_time": "2022-05-20T19:06:44.037Z"
   },
   {
    "duration": 25,
    "start_time": "2022-05-20T19:07:23.848Z"
   },
   {
    "duration": 103,
    "start_time": "2022-05-20T19:08:37.609Z"
   },
   {
    "duration": 21,
    "start_time": "2022-05-20T19:10:14.034Z"
   },
   {
    "duration": 21,
    "start_time": "2022-05-20T19:10:30.998Z"
   },
   {
    "duration": 31,
    "start_time": "2022-05-20T19:11:10.121Z"
   },
   {
    "duration": 16,
    "start_time": "2022-05-20T19:28:11.262Z"
   },
   {
    "duration": 8,
    "start_time": "2022-05-20T19:50:17.607Z"
   },
   {
    "duration": 16,
    "start_time": "2022-05-20T19:50:46.512Z"
   },
   {
    "duration": 17,
    "start_time": "2022-05-20T19:54:22.655Z"
   },
   {
    "duration": 17,
    "start_time": "2022-05-20T19:55:54.724Z"
   },
   {
    "duration": 24,
    "start_time": "2022-05-20T20:04:01.776Z"
   },
   {
    "duration": 20,
    "start_time": "2022-05-20T20:04:46.095Z"
   },
   {
    "duration": 19,
    "start_time": "2022-05-20T20:06:10.445Z"
   },
   {
    "duration": 85,
    "start_time": "2022-05-21T06:17:21.668Z"
   },
   {
    "duration": 24,
    "start_time": "2022-05-21T06:17:36.173Z"
   },
   {
    "duration": 21,
    "start_time": "2022-05-21T06:17:42.188Z"
   },
   {
    "duration": 5,
    "start_time": "2022-05-21T06:18:07.941Z"
   },
   {
    "duration": 16,
    "start_time": "2022-05-21T06:18:15.753Z"
   },
   {
    "duration": 73,
    "start_time": "2022-05-21T15:36:10.383Z"
   },
   {
    "duration": 1355,
    "start_time": "2022-05-21T15:36:20.712Z"
   },
   {
    "duration": 301,
    "start_time": "2022-05-21T15:36:22.070Z"
   },
   {
    "duration": 430,
    "start_time": "2022-05-21T15:36:22.373Z"
   },
   {
    "duration": 186,
    "start_time": "2022-05-21T15:36:22.806Z"
   },
   {
    "duration": 30,
    "start_time": "2022-05-21T15:36:22.994Z"
   },
   {
    "duration": 60,
    "start_time": "2022-05-21T15:36:23.026Z"
   },
   {
    "duration": 15,
    "start_time": "2022-05-21T15:36:23.088Z"
   },
   {
    "duration": 60,
    "start_time": "2022-05-21T15:36:23.106Z"
   },
   {
    "duration": 32,
    "start_time": "2022-05-21T15:36:23.168Z"
   },
   {
    "duration": 11,
    "start_time": "2022-05-21T15:36:23.204Z"
   },
   {
    "duration": 75,
    "start_time": "2022-05-21T15:36:23.219Z"
   },
   {
    "duration": 29,
    "start_time": "2022-05-21T15:36:23.296Z"
   },
   {
    "duration": 27,
    "start_time": "2022-05-21T15:36:23.335Z"
   },
   {
    "duration": 33,
    "start_time": "2022-05-21T15:36:23.364Z"
   },
   {
    "duration": 15,
    "start_time": "2022-05-21T15:36:23.399Z"
   },
   {
    "duration": 11,
    "start_time": "2022-05-21T15:36:23.415Z"
   },
   {
    "duration": 40,
    "start_time": "2022-05-21T15:36:23.434Z"
   },
   {
    "duration": 17,
    "start_time": "2022-05-21T15:36:23.476Z"
   },
   {
    "duration": 14,
    "start_time": "2022-05-21T15:36:23.495Z"
   },
   {
    "duration": 50,
    "start_time": "2022-05-21T15:36:23.511Z"
   },
   {
    "duration": 86,
    "start_time": "2022-05-21T15:36:23.565Z"
   },
   {
    "duration": 30,
    "start_time": "2022-05-21T15:36:23.654Z"
   },
   {
    "duration": 24,
    "start_time": "2022-05-21T15:36:23.686Z"
   },
   {
    "duration": 9,
    "start_time": "2022-05-21T15:36:23.712Z"
   },
   {
    "duration": 44,
    "start_time": "2022-05-21T15:36:23.723Z"
   },
   {
    "duration": 113,
    "start_time": "2022-05-21T15:36:23.769Z"
   },
   {
    "duration": 75,
    "start_time": "2022-05-21T15:36:23.884Z"
   },
   {
    "duration": 51,
    "start_time": "2022-05-21T15:36:23.963Z"
   },
   {
    "duration": 17,
    "start_time": "2022-05-21T15:36:24.016Z"
   },
   {
    "duration": 54,
    "start_time": "2022-05-21T15:36:24.034Z"
   },
   {
    "duration": 25,
    "start_time": "2022-05-21T15:36:24.090Z"
   },
   {
    "duration": 34,
    "start_time": "2022-05-21T15:36:24.117Z"
   },
   {
    "duration": 82,
    "start_time": "2022-05-21T15:36:24.154Z"
   },
   {
    "duration": 42,
    "start_time": "2022-05-21T15:36:24.238Z"
   },
   {
    "duration": 29,
    "start_time": "2022-05-21T15:36:24.282Z"
   },
   {
    "duration": 48,
    "start_time": "2022-05-21T15:36:24.328Z"
   },
   {
    "duration": 21,
    "start_time": "2022-05-21T15:36:24.378Z"
   },
   {
    "duration": 5,
    "start_time": "2022-05-21T15:36:24.402Z"
   },
   {
    "duration": 65,
    "start_time": "2022-05-21T15:36:24.409Z"
   },
   {
    "duration": 29,
    "start_time": "2022-05-21T15:36:28.361Z"
   },
   {
    "duration": 43,
    "start_time": "2022-05-21T15:49:58.177Z"
   },
   {
    "duration": 21,
    "start_time": "2022-05-21T15:50:35.368Z"
   },
   {
    "duration": 21,
    "start_time": "2022-05-21T15:51:50.599Z"
   },
   {
    "duration": 3,
    "start_time": "2022-05-21T15:53:25.207Z"
   },
   {
    "duration": 190,
    "start_time": "2022-05-21T15:53:25.218Z"
   },
   {
    "duration": 170,
    "start_time": "2022-05-21T15:53:25.411Z"
   },
   {
    "duration": 93,
    "start_time": "2022-05-21T15:53:25.583Z"
   },
   {
    "duration": 10,
    "start_time": "2022-05-21T15:53:25.678Z"
   },
   {
    "duration": 22,
    "start_time": "2022-05-21T15:53:25.691Z"
   },
   {
    "duration": 20,
    "start_time": "2022-05-21T15:53:25.715Z"
   },
   {
    "duration": 56,
    "start_time": "2022-05-21T15:53:25.736Z"
   },
   {
    "duration": 38,
    "start_time": "2022-05-21T15:53:25.794Z"
   },
   {
    "duration": 11,
    "start_time": "2022-05-21T15:53:25.834Z"
   },
   {
    "duration": 28,
    "start_time": "2022-05-21T15:53:25.846Z"
   },
   {
    "duration": 23,
    "start_time": "2022-05-21T15:53:25.876Z"
   },
   {
    "duration": 9,
    "start_time": "2022-05-21T15:53:25.900Z"
   },
   {
    "duration": 46,
    "start_time": "2022-05-21T15:53:25.911Z"
   },
   {
    "duration": 28,
    "start_time": "2022-05-21T15:53:25.960Z"
   },
   {
    "duration": 9,
    "start_time": "2022-05-21T15:53:25.990Z"
   },
   {
    "duration": 12,
    "start_time": "2022-05-21T15:53:26.000Z"
   },
   {
    "duration": 23,
    "start_time": "2022-05-21T15:53:26.014Z"
   },
   {
    "duration": 21,
    "start_time": "2022-05-21T15:53:26.038Z"
   },
   {
    "duration": 18,
    "start_time": "2022-05-21T15:53:26.060Z"
   },
   {
    "duration": 64,
    "start_time": "2022-05-21T15:53:26.080Z"
   },
   {
    "duration": 20,
    "start_time": "2022-05-21T15:53:26.147Z"
   },
   {
    "duration": 30,
    "start_time": "2022-05-21T15:53:26.168Z"
   },
   {
    "duration": 10,
    "start_time": "2022-05-21T15:53:26.200Z"
   },
   {
    "duration": 46,
    "start_time": "2022-05-21T15:53:26.212Z"
   },
   {
    "duration": 134,
    "start_time": "2022-05-21T15:53:26.260Z"
   },
   {
    "duration": 70,
    "start_time": "2022-05-21T15:53:26.397Z"
   },
   {
    "duration": 54,
    "start_time": "2022-05-21T15:53:26.469Z"
   },
   {
    "duration": 15,
    "start_time": "2022-05-21T15:53:26.527Z"
   },
   {
    "duration": 49,
    "start_time": "2022-05-21T15:53:26.547Z"
   },
   {
    "duration": 23,
    "start_time": "2022-05-21T15:53:26.598Z"
   },
   {
    "duration": 33,
    "start_time": "2022-05-21T15:53:26.622Z"
   },
   {
    "duration": 69,
    "start_time": "2022-05-21T15:53:26.658Z"
   },
   {
    "duration": 33,
    "start_time": "2022-05-21T15:53:26.729Z"
   },
   {
    "duration": 28,
    "start_time": "2022-05-21T15:53:26.763Z"
   },
   {
    "duration": 61,
    "start_time": "2022-05-21T15:53:26.793Z"
   },
   {
    "duration": 25,
    "start_time": "2022-05-21T15:53:26.856Z"
   },
   {
    "duration": 5,
    "start_time": "2022-05-21T15:53:26.883Z"
   },
   {
    "duration": 19,
    "start_time": "2022-05-21T15:53:30.446Z"
   },
   {
    "duration": 15,
    "start_time": "2022-05-21T15:57:13.111Z"
   },
   {
    "duration": 36,
    "start_time": "2022-05-21T16:00:25.113Z"
   },
   {
    "duration": 33,
    "start_time": "2022-05-21T20:08:39.150Z"
   },
   {
    "duration": 26,
    "start_time": "2022-05-21T20:08:49.584Z"
   },
   {
    "duration": 71,
    "start_time": "2022-05-21T20:09:27.223Z"
   },
   {
    "duration": 24,
    "start_time": "2022-05-21T20:09:39.187Z"
   },
   {
    "duration": 46,
    "start_time": "2022-05-21T20:10:28.136Z"
   },
   {
    "duration": 5,
    "start_time": "2022-05-21T20:10:45.310Z"
   },
   {
    "duration": 35,
    "start_time": "2022-05-21T20:10:50.361Z"
   },
   {
    "duration": 805,
    "start_time": "2022-05-21T20:11:12.593Z"
   },
   {
    "duration": 15,
    "start_time": "2022-05-21T20:17:56.151Z"
   },
   {
    "duration": 8,
    "start_time": "2022-05-21T20:22:06.466Z"
   },
   {
    "duration": 504,
    "start_time": "2022-05-21T20:22:06.479Z"
   },
   {
    "duration": 498,
    "start_time": "2022-05-21T20:22:06.985Z"
   },
   {
    "duration": 190,
    "start_time": "2022-05-21T20:22:07.491Z"
   },
   {
    "duration": 36,
    "start_time": "2022-05-21T20:22:07.684Z"
   },
   {
    "duration": 68,
    "start_time": "2022-05-21T20:22:07.721Z"
   },
   {
    "duration": 8,
    "start_time": "2022-05-21T20:22:07.791Z"
   },
   {
    "duration": 33,
    "start_time": "2022-05-21T20:22:07.801Z"
   },
   {
    "duration": 53,
    "start_time": "2022-05-21T20:22:07.840Z"
   },
   {
    "duration": 9,
    "start_time": "2022-05-21T20:22:07.896Z"
   },
   {
    "duration": 35,
    "start_time": "2022-05-21T20:22:07.907Z"
   },
   {
    "duration": 29,
    "start_time": "2022-05-21T20:22:07.943Z"
   },
   {
    "duration": 15,
    "start_time": "2022-05-21T20:22:07.973Z"
   },
   {
    "duration": 21,
    "start_time": "2022-05-21T20:22:07.991Z"
   },
   {
    "duration": 26,
    "start_time": "2022-05-21T20:22:08.015Z"
   },
   {
    "duration": 10,
    "start_time": "2022-05-21T20:22:08.042Z"
   },
   {
    "duration": 48,
    "start_time": "2022-05-21T20:22:08.054Z"
   },
   {
    "duration": 14,
    "start_time": "2022-05-21T20:22:08.104Z"
   },
   {
    "duration": 25,
    "start_time": "2022-05-21T20:22:08.119Z"
   },
   {
    "duration": 43,
    "start_time": "2022-05-21T20:22:08.148Z"
   },
   {
    "duration": 51,
    "start_time": "2022-05-21T20:22:08.194Z"
   },
   {
    "duration": 38,
    "start_time": "2022-05-21T20:22:08.250Z"
   },
   {
    "duration": 53,
    "start_time": "2022-05-21T20:22:08.290Z"
   },
   {
    "duration": 29,
    "start_time": "2022-05-21T20:22:08.356Z"
   },
   {
    "duration": 21,
    "start_time": "2022-05-21T20:22:08.387Z"
   },
   {
    "duration": 113,
    "start_time": "2022-05-21T20:22:08.409Z"
   },
   {
    "duration": 55,
    "start_time": "2022-05-21T20:22:08.524Z"
   },
   {
    "duration": 65,
    "start_time": "2022-05-21T20:22:08.583Z"
   },
   {
    "duration": 9,
    "start_time": "2022-05-21T20:22:08.650Z"
   },
   {
    "duration": 63,
    "start_time": "2022-05-21T20:22:08.661Z"
   },
   {
    "duration": 40,
    "start_time": "2022-05-21T20:22:08.728Z"
   },
   {
    "duration": 46,
    "start_time": "2022-05-21T20:22:08.770Z"
   },
   {
    "duration": 81,
    "start_time": "2022-05-21T20:22:08.818Z"
   },
   {
    "duration": 59,
    "start_time": "2022-05-21T20:22:08.901Z"
   },
   {
    "duration": 46,
    "start_time": "2022-05-21T20:22:08.966Z"
   },
   {
    "duration": 109,
    "start_time": "2022-05-21T20:22:09.014Z"
   },
   {
    "duration": 27,
    "start_time": "2022-05-21T20:22:09.124Z"
   },
   {
    "duration": 37,
    "start_time": "2022-05-21T20:22:09.158Z"
   },
   {
    "duration": 24,
    "start_time": "2022-05-21T20:22:09.198Z"
   },
   {
    "duration": 39,
    "start_time": "2022-05-21T20:22:09.224Z"
   },
   {
    "duration": 72,
    "start_time": "2022-05-21T20:22:09.267Z"
   },
   {
    "duration": 14,
    "start_time": "2022-05-21T20:22:14.564Z"
   },
   {
    "duration": 50,
    "start_time": "2022-05-21T20:31:39.646Z"
   },
   {
    "duration": 5,
    "start_time": "2022-05-21T20:31:55.659Z"
   },
   {
    "duration": 17,
    "start_time": "2022-05-21T20:32:03.239Z"
   },
   {
    "duration": 565,
    "start_time": "2022-05-21T20:32:12.906Z"
   },
   {
    "duration": 405,
    "start_time": "2022-05-21T20:33:41.314Z"
   },
   {
    "duration": 2,
    "start_time": "2022-05-22T05:29:57.322Z"
   },
   {
    "duration": 194,
    "start_time": "2022-05-22T05:29:57.326Z"
   },
   {
    "duration": 187,
    "start_time": "2022-05-22T05:29:57.522Z"
   },
   {
    "duration": 104,
    "start_time": "2022-05-22T05:29:57.711Z"
   },
   {
    "duration": 17,
    "start_time": "2022-05-22T05:29:57.817Z"
   },
   {
    "duration": 27,
    "start_time": "2022-05-22T05:29:57.836Z"
   },
   {
    "duration": 10,
    "start_time": "2022-05-22T05:29:57.865Z"
   },
   {
    "duration": 27,
    "start_time": "2022-05-22T05:29:57.876Z"
   },
   {
    "duration": 37,
    "start_time": "2022-05-22T05:29:57.905Z"
   },
   {
    "duration": 11,
    "start_time": "2022-05-22T05:29:57.944Z"
   },
   {
    "duration": 27,
    "start_time": "2022-05-22T05:29:57.957Z"
   },
   {
    "duration": 23,
    "start_time": "2022-05-22T05:29:57.986Z"
   },
   {
    "duration": 32,
    "start_time": "2022-05-22T05:29:58.011Z"
   },
   {
    "duration": 23,
    "start_time": "2022-05-22T05:29:58.044Z"
   },
   {
    "duration": 13,
    "start_time": "2022-05-22T05:29:58.069Z"
   },
   {
    "duration": 7,
    "start_time": "2022-05-22T05:29:58.084Z"
   },
   {
    "duration": 13,
    "start_time": "2022-05-22T05:29:58.092Z"
   },
   {
    "duration": 38,
    "start_time": "2022-05-22T05:29:58.107Z"
   },
   {
    "duration": 11,
    "start_time": "2022-05-22T05:29:58.146Z"
   },
   {
    "duration": 19,
    "start_time": "2022-05-22T05:29:58.159Z"
   },
   {
    "duration": 64,
    "start_time": "2022-05-22T05:29:58.180Z"
   },
   {
    "duration": 31,
    "start_time": "2022-05-22T05:29:58.246Z"
   },
   {
    "duration": 34,
    "start_time": "2022-05-22T05:29:58.279Z"
   },
   {
    "duration": 33,
    "start_time": "2022-05-22T05:29:58.316Z"
   },
   {
    "duration": 14,
    "start_time": "2022-05-22T05:29:58.350Z"
   },
   {
    "duration": 116,
    "start_time": "2022-05-22T05:29:58.365Z"
   },
   {
    "duration": 41,
    "start_time": "2022-05-22T05:29:58.483Z"
   },
   {
    "duration": 42,
    "start_time": "2022-05-22T05:29:58.525Z"
   },
   {
    "duration": 7,
    "start_time": "2022-05-22T05:29:58.569Z"
   },
   {
    "duration": 28,
    "start_time": "2022-05-22T05:29:58.577Z"
   },
   {
    "duration": 48,
    "start_time": "2022-05-22T05:29:58.607Z"
   },
   {
    "duration": 22,
    "start_time": "2022-05-22T05:29:58.657Z"
   },
   {
    "duration": 75,
    "start_time": "2022-05-22T05:29:58.681Z"
   },
   {
    "duration": 31,
    "start_time": "2022-05-22T05:29:58.758Z"
   },
   {
    "duration": 27,
    "start_time": "2022-05-22T05:29:58.790Z"
   },
   {
    "duration": 46,
    "start_time": "2022-05-22T05:29:58.819Z"
   },
   {
    "duration": 19,
    "start_time": "2022-05-22T05:29:58.866Z"
   },
   {
    "duration": 6,
    "start_time": "2022-05-22T05:29:58.886Z"
   },
   {
    "duration": 58,
    "start_time": "2022-05-22T05:29:58.893Z"
   },
   {
    "duration": 14,
    "start_time": "2022-05-22T05:29:58.954Z"
   },
   {
    "duration": 27,
    "start_time": "2022-05-22T05:29:58.970Z"
   },
   {
    "duration": 85,
    "start_time": "2022-05-22T05:30:13.105Z"
   },
   {
    "duration": 40,
    "start_time": "2022-05-22T05:30:52.770Z"
   },
   {
    "duration": 6,
    "start_time": "2022-05-22T05:32:36.799Z"
   },
   {
    "duration": 5,
    "start_time": "2022-05-22T05:33:12.212Z"
   },
   {
    "duration": 511,
    "start_time": "2022-05-22T05:33:23.495Z"
   },
   {
    "duration": 6,
    "start_time": "2022-05-22T05:54:15.679Z"
   },
   {
    "duration": 103,
    "start_time": "2022-05-22T05:54:33.677Z"
   },
   {
    "duration": 8,
    "start_time": "2022-05-22T05:58:10.613Z"
   },
   {
    "duration": 36,
    "start_time": "2022-05-22T05:58:16.169Z"
   },
   {
    "duration": 4,
    "start_time": "2022-05-22T05:59:38.696Z"
   },
   {
    "duration": 5,
    "start_time": "2022-05-22T06:00:02.488Z"
   },
   {
    "duration": 43,
    "start_time": "2022-05-22T06:00:11.475Z"
   },
   {
    "duration": 5,
    "start_time": "2022-05-22T06:06:46.700Z"
   },
   {
    "duration": 45,
    "start_time": "2022-05-22T06:06:58.528Z"
   },
   {
    "duration": 8,
    "start_time": "2022-05-22T06:11:22.461Z"
   },
   {
    "duration": 31,
    "start_time": "2022-05-22T06:11:30.313Z"
   },
   {
    "duration": 10,
    "start_time": "2022-05-22T06:17:52.689Z"
   },
   {
    "duration": 40,
    "start_time": "2022-05-22T06:17:58.761Z"
   },
   {
    "duration": 6,
    "start_time": "2022-05-22T06:39:07.668Z"
   },
   {
    "duration": 828,
    "start_time": "2022-05-22T06:39:53.089Z"
   },
   {
    "duration": 8,
    "start_time": "2022-05-22T06:42:19.575Z"
   },
   {
    "duration": 37,
    "start_time": "2022-05-22T06:42:27.203Z"
   },
   {
    "duration": 8,
    "start_time": "2022-05-22T06:44:55.292Z"
   },
   {
    "duration": 12,
    "start_time": "2022-05-22T06:45:22.796Z"
   },
   {
    "duration": 6,
    "start_time": "2022-05-22T06:47:19.715Z"
   },
   {
    "duration": 702,
    "start_time": "2022-05-22T06:47:21.384Z"
   },
   {
    "duration": 21,
    "start_time": "2022-05-22T06:50:40.535Z"
   },
   {
    "duration": 49,
    "start_time": "2022-05-22T06:50:50.706Z"
   },
   {
    "duration": 6,
    "start_time": "2022-05-22T06:52:22.107Z"
   },
   {
    "duration": 44,
    "start_time": "2022-05-22T06:52:26.560Z"
   },
   {
    "duration": 13,
    "start_time": "2022-05-22T06:53:50.016Z"
   },
   {
    "duration": 38,
    "start_time": "2022-05-22T06:53:52.577Z"
   },
   {
    "duration": 22,
    "start_time": "2022-05-22T06:56:52.239Z"
   },
   {
    "duration": 37,
    "start_time": "2022-05-22T06:56:54.776Z"
   },
   {
    "duration": 5,
    "start_time": "2022-05-22T07:15:56.090Z"
   },
   {
    "duration": 6,
    "start_time": "2022-05-22T07:16:43.614Z"
   },
   {
    "duration": 6,
    "start_time": "2022-05-22T07:16:52.482Z"
   },
   {
    "duration": 1234,
    "start_time": "2022-05-22T07:16:59.904Z"
   },
   {
    "duration": 9,
    "start_time": "2022-05-22T07:20:03.775Z"
   },
   {
    "duration": 3631,
    "start_time": "2022-05-22T07:20:06.090Z"
   },
   {
    "duration": 7,
    "start_time": "2022-05-22T07:22:52.200Z"
   },
   {
    "duration": 41,
    "start_time": "2022-05-22T07:22:54.519Z"
   },
   {
    "duration": 8,
    "start_time": "2022-05-22T07:29:18.425Z"
   },
   {
    "duration": 30,
    "start_time": "2022-05-22T07:29:20.988Z"
   },
   {
    "duration": 13,
    "start_time": "2022-05-22T07:31:58.272Z"
   },
   {
    "duration": 327,
    "start_time": "2022-05-22T07:32:01.573Z"
   },
   {
    "duration": 315,
    "start_time": "2022-05-22T07:32:25.841Z"
   },
   {
    "duration": 404,
    "start_time": "2022-05-22T07:48:01.204Z"
   },
   {
    "duration": 11,
    "start_time": "2022-05-22T10:23:17.891Z"
   },
   {
    "duration": 18,
    "start_time": "2022-05-22T10:24:41.742Z"
   },
   {
    "duration": 4,
    "start_time": "2022-05-22T10:27:41.202Z"
   },
   {
    "duration": 13,
    "start_time": "2022-05-22T10:28:08.469Z"
   },
   {
    "duration": 35,
    "start_time": "2022-05-22T10:29:53.197Z"
   },
   {
    "duration": 9,
    "start_time": "2022-05-22T10:32:43.086Z"
   },
   {
    "duration": 11,
    "start_time": "2022-05-22T10:35:08.438Z"
   },
   {
    "duration": 13,
    "start_time": "2022-05-22T10:35:49.066Z"
   },
   {
    "duration": 12,
    "start_time": "2022-05-22T10:36:19.869Z"
   },
   {
    "duration": 7,
    "start_time": "2022-05-22T10:36:20.971Z"
   },
   {
    "duration": 7,
    "start_time": "2022-05-22T10:37:46.301Z"
   },
   {
    "duration": 10,
    "start_time": "2022-05-22T10:39:13.376Z"
   },
   {
    "duration": 8,
    "start_time": "2022-05-22T10:40:30.921Z"
   },
   {
    "duration": 8,
    "start_time": "2022-05-22T10:41:12.672Z"
   },
   {
    "duration": 3,
    "start_time": "2022-05-22T10:50:17.269Z"
   },
   {
    "duration": 615,
    "start_time": "2022-05-22T10:50:17.277Z"
   },
   {
    "duration": 481,
    "start_time": "2022-05-22T10:50:17.894Z"
   },
   {
    "duration": 329,
    "start_time": "2022-05-22T10:50:18.376Z"
   },
   {
    "duration": 83,
    "start_time": "2022-05-22T10:50:18.708Z"
   },
   {
    "duration": 88,
    "start_time": "2022-05-22T10:50:18.793Z"
   },
   {
    "duration": 9,
    "start_time": "2022-05-22T10:50:18.883Z"
   },
   {
    "duration": 29,
    "start_time": "2022-05-22T10:50:18.894Z"
   },
   {
    "duration": 35,
    "start_time": "2022-05-22T10:50:18.924Z"
   },
   {
    "duration": 9,
    "start_time": "2022-05-22T10:50:18.962Z"
   },
   {
    "duration": 23,
    "start_time": "2022-05-22T10:50:18.973Z"
   },
   {
    "duration": 22,
    "start_time": "2022-05-22T10:50:18.998Z"
   },
   {
    "duration": 32,
    "start_time": "2022-05-22T10:50:19.022Z"
   },
   {
    "duration": 19,
    "start_time": "2022-05-22T10:50:19.060Z"
   },
   {
    "duration": 14,
    "start_time": "2022-05-22T10:50:19.081Z"
   },
   {
    "duration": 8,
    "start_time": "2022-05-22T10:50:19.097Z"
   },
   {
    "duration": 43,
    "start_time": "2022-05-22T10:50:19.107Z"
   },
   {
    "duration": 13,
    "start_time": "2022-05-22T10:50:19.161Z"
   },
   {
    "duration": 12,
    "start_time": "2022-05-22T10:50:19.176Z"
   },
   {
    "duration": 16,
    "start_time": "2022-05-22T10:50:19.190Z"
   },
   {
    "duration": 49,
    "start_time": "2022-05-22T10:50:19.208Z"
   },
   {
    "duration": 22,
    "start_time": "2022-05-22T10:50:19.258Z"
   },
   {
    "duration": 25,
    "start_time": "2022-05-22T10:50:19.282Z"
   },
   {
    "duration": 9,
    "start_time": "2022-05-22T10:50:19.309Z"
   },
   {
    "duration": 16,
    "start_time": "2022-05-22T10:50:19.341Z"
   },
   {
    "duration": 123,
    "start_time": "2022-05-22T10:50:19.358Z"
   },
   {
    "duration": 43,
    "start_time": "2022-05-22T10:50:19.483Z"
   },
   {
    "duration": 48,
    "start_time": "2022-05-22T10:50:19.542Z"
   },
   {
    "duration": 8,
    "start_time": "2022-05-22T10:50:19.593Z"
   },
   {
    "duration": 58,
    "start_time": "2022-05-22T10:50:19.604Z"
   },
   {
    "duration": 26,
    "start_time": "2022-05-22T10:50:19.664Z"
   },
   {
    "duration": 31,
    "start_time": "2022-05-22T10:50:19.692Z"
   },
   {
    "duration": 97,
    "start_time": "2022-05-22T10:50:19.743Z"
   },
   {
    "duration": 46,
    "start_time": "2022-05-22T10:50:19.843Z"
   },
   {
    "duration": 33,
    "start_time": "2022-05-22T10:50:19.891Z"
   },
   {
    "duration": 156,
    "start_time": "2022-05-22T10:50:19.946Z"
   },
   {
    "duration": 21,
    "start_time": "2022-05-22T10:50:20.104Z"
   },
   {
    "duration": 10,
    "start_time": "2022-05-22T10:50:20.140Z"
   },
   {
    "duration": 37,
    "start_time": "2022-05-22T10:50:20.152Z"
   },
   {
    "duration": 18,
    "start_time": "2022-05-22T10:50:20.191Z"
   },
   {
    "duration": 8,
    "start_time": "2022-05-22T10:50:20.211Z"
   },
   {
    "duration": 22,
    "start_time": "2022-05-22T10:50:20.242Z"
   },
   {
    "duration": 12,
    "start_time": "2022-05-22T10:50:20.265Z"
   },
   {
    "duration": 9,
    "start_time": "2022-05-22T10:50:20.278Z"
   },
   {
    "duration": 16,
    "start_time": "2022-05-22T10:50:20.289Z"
   },
   {
    "duration": 12,
    "start_time": "2022-05-22T10:50:20.307Z"
   },
   {
    "duration": 25,
    "start_time": "2022-05-22T10:50:20.321Z"
   },
   {
    "duration": 27,
    "start_time": "2022-05-22T10:50:20.348Z"
   },
   {
    "duration": 12,
    "start_time": "2022-05-22T10:50:28.016Z"
   },
   {
    "duration": 29,
    "start_time": "2022-05-22T10:50:48.579Z"
   },
   {
    "duration": 8,
    "start_time": "2022-05-22T10:52:26.208Z"
   },
   {
    "duration": 288,
    "start_time": "2022-05-22T10:52:29.615Z"
   },
   {
    "duration": 960,
    "start_time": "2022-05-23T09:51:58.241Z"
   },
   {
    "duration": 481,
    "start_time": "2022-05-23T09:51:59.202Z"
   },
   {
    "duration": 402,
    "start_time": "2022-05-23T09:51:59.685Z"
   },
   {
    "duration": 260,
    "start_time": "2022-05-23T09:52:00.089Z"
   },
   {
    "duration": 72,
    "start_time": "2022-05-23T09:52:00.350Z"
   },
   {
    "duration": 65,
    "start_time": "2022-05-23T09:52:00.424Z"
   },
   {
    "duration": 13,
    "start_time": "2022-05-23T09:52:00.490Z"
   },
   {
    "duration": 34,
    "start_time": "2022-05-23T09:52:00.504Z"
   },
   {
    "duration": 30,
    "start_time": "2022-05-23T09:52:00.540Z"
   },
   {
    "duration": 8,
    "start_time": "2022-05-23T09:52:00.573Z"
   },
   {
    "duration": 40,
    "start_time": "2022-05-23T09:52:00.583Z"
   },
   {
    "duration": 23,
    "start_time": "2022-05-23T09:52:00.625Z"
   },
   {
    "duration": 6,
    "start_time": "2022-05-23T09:52:00.650Z"
   },
   {
    "duration": 25,
    "start_time": "2022-05-23T09:52:00.658Z"
   },
   {
    "duration": 34,
    "start_time": "2022-05-23T09:52:00.685Z"
   },
   {
    "duration": 7,
    "start_time": "2022-05-23T09:52:00.720Z"
   },
   {
    "duration": 23,
    "start_time": "2022-05-23T09:52:00.729Z"
   },
   {
    "duration": 19,
    "start_time": "2022-05-23T09:52:00.753Z"
   },
   {
    "duration": 32,
    "start_time": "2022-05-23T09:52:00.773Z"
   },
   {
    "duration": 27,
    "start_time": "2022-05-23T09:52:00.807Z"
   },
   {
    "duration": 60,
    "start_time": "2022-05-23T09:52:00.836Z"
   },
   {
    "duration": 36,
    "start_time": "2022-05-23T09:52:00.898Z"
   },
   {
    "duration": 25,
    "start_time": "2022-05-23T09:52:00.935Z"
   },
   {
    "duration": 16,
    "start_time": "2022-05-23T09:52:00.962Z"
   },
   {
    "duration": 18,
    "start_time": "2022-05-23T09:52:00.979Z"
   },
   {
    "duration": 91,
    "start_time": "2022-05-23T09:52:00.998Z"
   },
   {
    "duration": 45,
    "start_time": "2022-05-23T09:52:01.090Z"
   },
   {
    "duration": 44,
    "start_time": "2022-05-23T09:52:01.138Z"
   },
   {
    "duration": 6,
    "start_time": "2022-05-23T09:52:01.184Z"
   },
   {
    "duration": 33,
    "start_time": "2022-05-23T09:52:01.212Z"
   },
   {
    "duration": 18,
    "start_time": "2022-05-23T09:52:01.246Z"
   },
   {
    "duration": 23,
    "start_time": "2022-05-23T09:52:01.266Z"
   },
   {
    "duration": 80,
    "start_time": "2022-05-23T09:52:01.290Z"
   },
   {
    "duration": 44,
    "start_time": "2022-05-23T09:52:01.372Z"
   },
   {
    "duration": 34,
    "start_time": "2022-05-23T09:52:01.418Z"
   },
   {
    "duration": 38,
    "start_time": "2022-05-23T09:52:01.454Z"
   },
   {
    "duration": 24,
    "start_time": "2022-05-23T09:52:01.513Z"
   },
   {
    "duration": 4,
    "start_time": "2022-05-23T09:52:01.539Z"
   },
   {
    "duration": 32,
    "start_time": "2022-05-23T09:52:01.545Z"
   },
   {
    "duration": 36,
    "start_time": "2022-05-23T09:52:01.579Z"
   },
   {
    "duration": 9,
    "start_time": "2022-05-23T09:52:01.617Z"
   },
   {
    "duration": 24,
    "start_time": "2022-05-23T09:52:01.628Z"
   },
   {
    "duration": 31,
    "start_time": "2022-05-23T09:52:01.654Z"
   },
   {
    "duration": 15,
    "start_time": "2022-05-23T09:52:01.687Z"
   },
   {
    "duration": 18,
    "start_time": "2022-05-23T09:52:01.703Z"
   },
   {
    "duration": 14,
    "start_time": "2022-05-23T09:52:01.723Z"
   },
   {
    "duration": 8,
    "start_time": "2022-05-23T09:52:01.739Z"
   },
   {
    "duration": 11,
    "start_time": "2022-05-23T09:52:01.749Z"
   },
   {
    "duration": 20,
    "start_time": "2022-05-23T09:52:01.762Z"
   },
   {
    "duration": 40,
    "start_time": "2022-05-23T09:52:01.784Z"
   },
   {
    "duration": 8,
    "start_time": "2022-05-23T09:52:01.828Z"
   },
   {
    "duration": 242,
    "start_time": "2022-05-23T09:52:01.837Z"
   },
   {
    "duration": 8,
    "start_time": "2022-05-23T09:52:06.093Z"
   },
   {
    "duration": 602,
    "start_time": "2022-05-23T09:52:32.347Z"
   },
   {
    "duration": 145,
    "start_time": "2022-05-23T09:58:12.934Z"
   },
   {
    "duration": 100,
    "start_time": "2022-05-23T09:59:36.270Z"
   },
   {
    "duration": 17,
    "start_time": "2022-05-23T10:45:49.756Z"
   },
   {
    "duration": 10,
    "start_time": "2022-05-23T10:47:20.982Z"
   },
   {
    "duration": 26,
    "start_time": "2022-05-23T10:47:40.598Z"
   },
   {
    "duration": 293,
    "start_time": "2022-05-23T10:48:40.239Z"
   },
   {
    "duration": 144,
    "start_time": "2022-05-23T10:49:04.039Z"
   },
   {
    "duration": 167,
    "start_time": "2022-05-23T10:55:37.607Z"
   },
   {
    "duration": 171,
    "start_time": "2022-05-23T10:56:13.469Z"
   },
   {
    "duration": 19,
    "start_time": "2022-05-23T13:12:32.542Z"
   },
   {
    "duration": 23,
    "start_time": "2022-05-23T13:16:25.273Z"
   },
   {
    "duration": 147,
    "start_time": "2022-05-23T13:18:40.689Z"
   },
   {
    "duration": 170,
    "start_time": "2022-05-23T13:24:56.425Z"
   },
   {
    "duration": 151,
    "start_time": "2022-05-23T13:27:47.941Z"
   },
   {
    "duration": 5,
    "start_time": "2022-05-24T16:52:50.861Z"
   },
   {
    "duration": 3,
    "start_time": "2022-05-24T16:53:41.520Z"
   },
   {
    "duration": 72,
    "start_time": "2022-05-24T17:26:30.745Z"
   },
   {
    "duration": 1262,
    "start_time": "2022-05-24T17:26:38.508Z"
   },
   {
    "duration": 330,
    "start_time": "2022-05-24T17:26:39.773Z"
   },
   {
    "duration": 689,
    "start_time": "2022-05-24T17:26:40.104Z"
   },
   {
    "duration": 461,
    "start_time": "2022-05-24T17:26:40.796Z"
   },
   {
    "duration": 85,
    "start_time": "2022-05-24T17:26:41.259Z"
   },
   {
    "duration": 81,
    "start_time": "2022-05-24T17:26:41.346Z"
   },
   {
    "duration": 17,
    "start_time": "2022-05-24T17:26:41.429Z"
   },
   {
    "duration": 53,
    "start_time": "2022-05-24T17:26:41.448Z"
   },
   {
    "duration": 36,
    "start_time": "2022-05-24T17:26:41.505Z"
   },
   {
    "duration": 7,
    "start_time": "2022-05-24T17:26:41.544Z"
   },
   {
    "duration": 68,
    "start_time": "2022-05-24T17:26:41.552Z"
   },
   {
    "duration": 21,
    "start_time": "2022-05-24T17:26:41.622Z"
   },
   {
    "duration": 7,
    "start_time": "2022-05-24T17:26:41.645Z"
   },
   {
    "duration": 67,
    "start_time": "2022-05-24T17:26:41.653Z"
   },
   {
    "duration": 23,
    "start_time": "2022-05-24T17:26:41.722Z"
   },
   {
    "duration": 61,
    "start_time": "2022-05-24T17:26:41.747Z"
   },
   {
    "duration": 30,
    "start_time": "2022-05-24T17:26:41.809Z"
   },
   {
    "duration": 29,
    "start_time": "2022-05-24T17:26:41.841Z"
   },
   {
    "duration": 46,
    "start_time": "2022-05-24T17:26:41.878Z"
   },
   {
    "duration": 30,
    "start_time": "2022-05-24T17:26:41.925Z"
   },
   {
    "duration": 101,
    "start_time": "2022-05-24T17:26:41.957Z"
   },
   {
    "duration": 51,
    "start_time": "2022-05-24T17:26:42.059Z"
   },
   {
    "duration": 33,
    "start_time": "2022-05-24T17:26:42.112Z"
   },
   {
    "duration": 11,
    "start_time": "2022-05-24T17:26:42.147Z"
   },
   {
    "duration": 52,
    "start_time": "2022-05-24T17:26:42.160Z"
   },
   {
    "duration": 107,
    "start_time": "2022-05-24T17:26:42.214Z"
   },
   {
    "duration": 52,
    "start_time": "2022-05-24T17:26:42.322Z"
   },
   {
    "duration": 51,
    "start_time": "2022-05-24T17:26:42.378Z"
   },
   {
    "duration": 9,
    "start_time": "2022-05-24T17:26:42.431Z"
   },
   {
    "duration": 66,
    "start_time": "2022-05-24T17:26:42.442Z"
   },
   {
    "duration": 28,
    "start_time": "2022-05-24T17:26:42.511Z"
   },
   {
    "duration": 37,
    "start_time": "2022-05-24T17:26:42.542Z"
   },
   {
    "duration": 75,
    "start_time": "2022-05-24T17:26:42.596Z"
   },
   {
    "duration": 40,
    "start_time": "2022-05-24T17:26:42.673Z"
   },
   {
    "duration": 39,
    "start_time": "2022-05-24T17:26:42.715Z"
   },
   {
    "duration": 52,
    "start_time": "2022-05-24T17:26:42.755Z"
   },
   {
    "duration": 21,
    "start_time": "2022-05-24T17:26:42.808Z"
   },
   {
    "duration": 5,
    "start_time": "2022-05-24T17:26:42.831Z"
   },
   {
    "duration": 45,
    "start_time": "2022-05-24T17:26:42.838Z"
   },
   {
    "duration": 28,
    "start_time": "2022-05-24T17:26:42.884Z"
   },
   {
    "duration": 11,
    "start_time": "2022-05-24T17:26:42.917Z"
   },
   {
    "duration": 11,
    "start_time": "2022-05-24T17:26:42.930Z"
   },
   {
    "duration": 14,
    "start_time": "2022-05-24T17:26:42.942Z"
   },
   {
    "duration": 19,
    "start_time": "2022-05-24T17:26:42.958Z"
   },
   {
    "duration": 31,
    "start_time": "2022-05-24T17:26:42.979Z"
   },
   {
    "duration": 11,
    "start_time": "2022-05-24T17:26:43.012Z"
   },
   {
    "duration": 7,
    "start_time": "2022-05-24T17:26:43.025Z"
   },
   {
    "duration": 13,
    "start_time": "2022-05-24T17:26:43.034Z"
   },
   {
    "duration": 13,
    "start_time": "2022-05-24T17:26:43.048Z"
   },
   {
    "duration": 41,
    "start_time": "2022-05-24T17:26:43.063Z"
   },
   {
    "duration": 8,
    "start_time": "2022-05-24T17:26:43.106Z"
   },
   {
    "duration": 293,
    "start_time": "2022-05-24T17:26:43.115Z"
   },
   {
    "duration": 363,
    "start_time": "2022-05-24T17:26:49.162Z"
   },
   {
    "duration": 205,
    "start_time": "2022-05-24T17:27:38.015Z"
   },
   {
    "duration": 424,
    "start_time": "2022-05-24T17:27:49.584Z"
   },
   {
    "duration": 309,
    "start_time": "2022-05-24T17:29:42.147Z"
   },
   {
    "duration": 17,
    "start_time": "2022-05-24T18:00:30.346Z"
   },
   {
    "duration": 256,
    "start_time": "2022-05-24T18:04:24.797Z"
   },
   {
    "duration": 122,
    "start_time": "2022-05-24T18:05:57.460Z"
   },
   {
    "duration": 53,
    "start_time": "2022-05-24T18:08:21.056Z"
   },
   {
    "duration": 39,
    "start_time": "2022-05-24T18:08:36.022Z"
   },
   {
    "duration": 1511,
    "start_time": "2022-05-24T18:21:52.003Z"
   },
   {
    "duration": 325,
    "start_time": "2022-05-24T18:23:44.482Z"
   },
   {
    "duration": 350,
    "start_time": "2022-05-24T18:46:12.144Z"
   },
   {
    "duration": 20,
    "start_time": "2022-05-24T18:46:44.307Z"
   },
   {
    "duration": 57,
    "start_time": "2022-05-24T19:02:44.031Z"
   },
   {
    "duration": 308,
    "start_time": "2022-05-24T19:02:52.525Z"
   },
   {
    "duration": 301,
    "start_time": "2022-05-24T19:03:18.062Z"
   },
   {
    "duration": 15,
    "start_time": "2022-05-24T19:04:30.009Z"
   },
   {
    "duration": 70,
    "start_time": "2022-05-24T19:05:14.629Z"
   },
   {
    "duration": 426,
    "start_time": "2022-05-24T19:05:30.731Z"
   },
   {
    "duration": 19,
    "start_time": "2022-05-24T19:05:48.588Z"
   },
   {
    "duration": 1407,
    "start_time": "2022-05-25T09:47:15.306Z"
   },
   {
    "duration": 501,
    "start_time": "2022-05-25T09:47:16.715Z"
   },
   {
    "duration": 422,
    "start_time": "2022-05-25T09:47:17.218Z"
   },
   {
    "duration": 143,
    "start_time": "2022-05-25T09:47:17.642Z"
   },
   {
    "duration": 57,
    "start_time": "2022-05-25T09:47:17.787Z"
   },
   {
    "duration": 60,
    "start_time": "2022-05-25T09:47:17.846Z"
   },
   {
    "duration": 11,
    "start_time": "2022-05-25T09:47:17.907Z"
   },
   {
    "duration": 22,
    "start_time": "2022-05-25T09:47:17.919Z"
   },
   {
    "duration": 27,
    "start_time": "2022-05-25T09:47:17.943Z"
   },
   {
    "duration": 19,
    "start_time": "2022-05-25T09:47:17.972Z"
   },
   {
    "duration": 24,
    "start_time": "2022-05-25T09:47:17.992Z"
   },
   {
    "duration": 20,
    "start_time": "2022-05-25T09:47:18.018Z"
   },
   {
    "duration": 6,
    "start_time": "2022-05-25T09:47:18.040Z"
   },
   {
    "duration": 17,
    "start_time": "2022-05-25T09:47:18.047Z"
   },
   {
    "duration": 15,
    "start_time": "2022-05-25T09:47:18.080Z"
   },
   {
    "duration": 7,
    "start_time": "2022-05-25T09:47:18.096Z"
   },
   {
    "duration": 10,
    "start_time": "2022-05-25T09:47:18.104Z"
   },
   {
    "duration": 8,
    "start_time": "2022-05-25T09:47:18.115Z"
   },
   {
    "duration": 11,
    "start_time": "2022-05-25T09:47:18.124Z"
   },
   {
    "duration": 12,
    "start_time": "2022-05-25T09:47:18.136Z"
   },
   {
    "duration": 62,
    "start_time": "2022-05-25T09:47:18.149Z"
   },
   {
    "duration": 23,
    "start_time": "2022-05-25T09:47:18.213Z"
   },
   {
    "duration": 48,
    "start_time": "2022-05-25T09:47:18.238Z"
   },
   {
    "duration": 7,
    "start_time": "2022-05-25T09:47:18.288Z"
   },
   {
    "duration": 12,
    "start_time": "2022-05-25T09:47:18.296Z"
   },
   {
    "duration": 96,
    "start_time": "2022-05-25T09:47:18.309Z"
   },
   {
    "duration": 37,
    "start_time": "2022-05-25T09:47:18.406Z"
   },
   {
    "duration": 55,
    "start_time": "2022-05-25T09:47:18.446Z"
   },
   {
    "duration": 6,
    "start_time": "2022-05-25T09:47:18.503Z"
   },
   {
    "duration": 28,
    "start_time": "2022-05-25T09:47:18.510Z"
   },
   {
    "duration": 17,
    "start_time": "2022-05-25T09:47:18.539Z"
   },
   {
    "duration": 26,
    "start_time": "2022-05-25T09:47:18.574Z"
   },
   {
    "duration": 52,
    "start_time": "2022-05-25T09:47:18.601Z"
   },
   {
    "duration": 49,
    "start_time": "2022-05-25T09:47:18.654Z"
   },
   {
    "duration": 24,
    "start_time": "2022-05-25T09:47:18.704Z"
   },
   {
    "duration": 115,
    "start_time": "2022-05-25T09:47:18.729Z"
   },
   {
    "duration": 19,
    "start_time": "2022-05-25T09:47:18.846Z"
   },
   {
    "duration": 5,
    "start_time": "2022-05-25T09:47:18.876Z"
   },
   {
    "duration": 24,
    "start_time": "2022-05-25T09:47:18.882Z"
   },
   {
    "duration": 16,
    "start_time": "2022-05-25T09:47:18.907Z"
   },
   {
    "duration": 7,
    "start_time": "2022-05-25T09:47:18.924Z"
   },
   {
    "duration": 7,
    "start_time": "2022-05-25T09:47:18.933Z"
   },
   {
    "duration": 9,
    "start_time": "2022-05-25T09:47:18.941Z"
   },
   {
    "duration": 14,
    "start_time": "2022-05-25T09:47:18.975Z"
   },
   {
    "duration": 10,
    "start_time": "2022-05-25T09:47:18.990Z"
   },
   {
    "duration": 8,
    "start_time": "2022-05-25T09:47:19.001Z"
   },
   {
    "duration": 9,
    "start_time": "2022-05-25T09:47:19.010Z"
   },
   {
    "duration": 11,
    "start_time": "2022-05-25T09:47:19.020Z"
   },
   {
    "duration": 10,
    "start_time": "2022-05-25T09:47:19.032Z"
   },
   {
    "duration": 42,
    "start_time": "2022-05-25T09:47:19.043Z"
   },
   {
    "duration": 10,
    "start_time": "2022-05-25T09:47:19.086Z"
   },
   {
    "duration": 251,
    "start_time": "2022-05-25T09:47:19.098Z"
   },
   {
    "duration": 253,
    "start_time": "2022-05-25T09:47:19.350Z"
   },
   {
    "duration": 12,
    "start_time": "2022-05-25T09:47:19.604Z"
   },
   {
    "duration": 263,
    "start_time": "2022-05-25T09:47:19.617Z"
   },
   {
    "duration": 12,
    "start_time": "2022-05-25T09:47:19.887Z"
   },
   {
    "duration": 240,
    "start_time": "2022-05-25T09:47:28.569Z"
   },
   {
    "duration": 483,
    "start_time": "2022-05-25T09:47:29.551Z"
   },
   {
    "duration": 518,
    "start_time": "2022-05-25T09:49:39.451Z"
   },
   {
    "duration": 400,
    "start_time": "2022-05-25T09:52:54.592Z"
   },
   {
    "duration": 56,
    "start_time": "2022-05-25T09:53:25.578Z"
   },
   {
    "duration": 410,
    "start_time": "2022-05-25T09:53:40.296Z"
   },
   {
    "duration": 335,
    "start_time": "2022-05-25T09:53:59.601Z"
   },
   {
    "duration": 366,
    "start_time": "2022-05-25T10:00:52.793Z"
   },
   {
    "duration": 370,
    "start_time": "2022-05-25T10:02:30.146Z"
   },
   {
    "duration": 356,
    "start_time": "2022-05-25T10:02:47.753Z"
   },
   {
    "duration": 266,
    "start_time": "2022-05-25T10:07:36.395Z"
   },
   {
    "duration": 391,
    "start_time": "2022-05-25T10:08:11.859Z"
   },
   {
    "duration": 182,
    "start_time": "2022-05-25T10:12:33.414Z"
   },
   {
    "duration": 365,
    "start_time": "2022-05-25T10:13:50.250Z"
   },
   {
    "duration": 365,
    "start_time": "2022-05-25T10:14:39.826Z"
   },
   {
    "duration": 44,
    "start_time": "2022-05-25T10:19:21.557Z"
   },
   {
    "duration": 402,
    "start_time": "2022-05-25T10:19:44.395Z"
   },
   {
    "duration": 397,
    "start_time": "2022-05-25T10:20:49.835Z"
   },
   {
    "duration": 364,
    "start_time": "2022-05-25T10:28:23.602Z"
   },
   {
    "duration": 428,
    "start_time": "2022-05-25T10:29:27.453Z"
   },
   {
    "duration": 413,
    "start_time": "2022-05-25T10:48:22.298Z"
   },
   {
    "duration": 367,
    "start_time": "2022-05-25T10:57:55.631Z"
   },
   {
    "duration": 378,
    "start_time": "2022-05-25T10:58:22.300Z"
   },
   {
    "duration": 228,
    "start_time": "2022-05-25T11:00:50.032Z"
   },
   {
    "duration": 225,
    "start_time": "2022-05-25T11:01:06.345Z"
   },
   {
    "duration": 199,
    "start_time": "2022-05-25T11:13:55.082Z"
   },
   {
    "duration": 166,
    "start_time": "2022-05-25T11:17:57.675Z"
   },
   {
    "duration": 369,
    "start_time": "2022-05-25T11:18:19.308Z"
   },
   {
    "duration": 692,
    "start_time": "2022-05-25T11:19:27.715Z"
   },
   {
    "duration": 189,
    "start_time": "2022-05-25T11:19:51.098Z"
   },
   {
    "duration": 222,
    "start_time": "2022-05-25T11:22:28.835Z"
   },
   {
    "duration": 231,
    "start_time": "2022-05-25T11:30:51.360Z"
   },
   {
    "duration": 196,
    "start_time": "2022-05-25T11:32:35.496Z"
   },
   {
    "duration": 364,
    "start_time": "2022-05-25T11:35:53.808Z"
   },
   {
    "duration": 185,
    "start_time": "2022-05-25T11:37:28.873Z"
   },
   {
    "duration": 10,
    "start_time": "2022-05-25T16:33:40.554Z"
   },
   {
    "duration": 1667,
    "start_time": "2022-05-25T16:33:47.329Z"
   },
   {
    "duration": 239,
    "start_time": "2022-05-25T16:33:48.998Z"
   },
   {
    "duration": 320,
    "start_time": "2022-05-25T16:33:49.239Z"
   },
   {
    "duration": 308,
    "start_time": "2022-05-25T16:33:49.561Z"
   },
   {
    "duration": 58,
    "start_time": "2022-05-25T16:33:49.870Z"
   },
   {
    "duration": 54,
    "start_time": "2022-05-25T16:33:49.930Z"
   },
   {
    "duration": 12,
    "start_time": "2022-05-25T16:33:49.985Z"
   },
   {
    "duration": 34,
    "start_time": "2022-05-25T16:33:49.999Z"
   },
   {
    "duration": 29,
    "start_time": "2022-05-25T16:33:50.035Z"
   },
   {
    "duration": 8,
    "start_time": "2022-05-25T16:33:50.066Z"
   },
   {
    "duration": 28,
    "start_time": "2022-05-25T16:33:50.075Z"
   },
   {
    "duration": 24,
    "start_time": "2022-05-25T16:33:50.104Z"
   },
   {
    "duration": 31,
    "start_time": "2022-05-25T16:33:50.129Z"
   },
   {
    "duration": 21,
    "start_time": "2022-05-25T16:33:50.161Z"
   },
   {
    "duration": 13,
    "start_time": "2022-05-25T16:33:50.183Z"
   },
   {
    "duration": 19,
    "start_time": "2022-05-25T16:33:50.197Z"
   },
   {
    "duration": 18,
    "start_time": "2022-05-25T16:33:50.218Z"
   },
   {
    "duration": 17,
    "start_time": "2022-05-25T16:33:50.258Z"
   },
   {
    "duration": 12,
    "start_time": "2022-05-25T16:33:50.277Z"
   },
   {
    "duration": 16,
    "start_time": "2022-05-25T16:33:50.291Z"
   },
   {
    "duration": 59,
    "start_time": "2022-05-25T16:33:50.309Z"
   },
   {
    "duration": 21,
    "start_time": "2022-05-25T16:33:50.370Z"
   },
   {
    "duration": 26,
    "start_time": "2022-05-25T16:33:50.393Z"
   },
   {
    "duration": 8,
    "start_time": "2022-05-25T16:33:50.420Z"
   },
   {
    "duration": 38,
    "start_time": "2022-05-25T16:33:50.429Z"
   },
   {
    "duration": 124,
    "start_time": "2022-05-25T16:33:50.469Z"
   },
   {
    "duration": 48,
    "start_time": "2022-05-25T16:33:50.595Z"
   },
   {
    "duration": 44,
    "start_time": "2022-05-25T16:33:50.658Z"
   },
   {
    "duration": 7,
    "start_time": "2022-05-25T16:33:50.703Z"
   },
   {
    "duration": 53,
    "start_time": "2022-05-25T16:33:50.711Z"
   },
   {
    "duration": 21,
    "start_time": "2022-05-25T16:33:50.766Z"
   },
   {
    "duration": 23,
    "start_time": "2022-05-25T16:33:50.789Z"
   },
   {
    "duration": 84,
    "start_time": "2022-05-25T16:33:50.814Z"
   },
   {
    "duration": 31,
    "start_time": "2022-05-25T16:33:50.899Z"
   },
   {
    "duration": 39,
    "start_time": "2022-05-25T16:33:50.932Z"
   },
   {
    "duration": 106,
    "start_time": "2022-05-25T16:33:50.973Z"
   },
   {
    "duration": 19,
    "start_time": "2022-05-25T16:33:51.081Z"
   },
   {
    "duration": 5,
    "start_time": "2022-05-25T16:33:51.101Z"
   },
   {
    "duration": 19,
    "start_time": "2022-05-25T16:33:51.107Z"
   },
   {
    "duration": 43,
    "start_time": "2022-05-25T16:33:51.127Z"
   },
   {
    "duration": 8,
    "start_time": "2022-05-25T16:33:51.172Z"
   },
   {
    "duration": 8,
    "start_time": "2022-05-25T16:33:51.182Z"
   },
   {
    "duration": 10,
    "start_time": "2022-05-25T16:33:51.191Z"
   },
   {
    "duration": 6,
    "start_time": "2022-05-25T16:33:51.203Z"
   },
   {
    "duration": 8,
    "start_time": "2022-05-25T16:33:51.211Z"
   },
   {
    "duration": 40,
    "start_time": "2022-05-25T16:33:51.221Z"
   },
   {
    "duration": 11,
    "start_time": "2022-05-25T16:33:51.264Z"
   },
   {
    "duration": 16,
    "start_time": "2022-05-25T16:33:51.277Z"
   },
   {
    "duration": 25,
    "start_time": "2022-05-25T16:33:51.295Z"
   },
   {
    "duration": 27,
    "start_time": "2022-05-25T16:33:51.322Z"
   },
   {
    "duration": 7,
    "start_time": "2022-05-25T16:33:51.351Z"
   },
   {
    "duration": 234,
    "start_time": "2022-05-25T16:33:51.360Z"
   },
   {
    "duration": 13,
    "start_time": "2022-05-25T16:33:51.595Z"
   },
   {
    "duration": 225,
    "start_time": "2022-05-25T16:33:51.610Z"
   },
   {
    "duration": 25,
    "start_time": "2022-05-25T16:33:51.836Z"
   },
   {
    "duration": 229,
    "start_time": "2022-05-25T16:33:51.863Z"
   },
   {
    "duration": 14,
    "start_time": "2022-05-25T16:33:52.093Z"
   },
   {
    "duration": 184,
    "start_time": "2022-05-25T16:33:52.109Z"
   },
   {
    "duration": 508,
    "start_time": "2022-05-25T16:33:52.295Z"
   },
   {
    "duration": 14,
    "start_time": "2022-05-25T16:33:57.539Z"
   },
   {
    "duration": 200,
    "start_time": "2022-05-25T16:33:58.465Z"
   },
   {
    "duration": 172,
    "start_time": "2022-05-25T16:34:48.102Z"
   },
   {
    "duration": 13,
    "start_time": "2022-05-25T16:50:26.947Z"
   },
   {
    "duration": 172,
    "start_time": "2022-05-25T16:50:27.792Z"
   },
   {
    "duration": 33,
    "start_time": "2022-05-25T16:52:04.428Z"
   },
   {
    "duration": 13,
    "start_time": "2022-05-25T16:52:11.963Z"
   },
   {
    "duration": 277,
    "start_time": "2022-05-25T16:52:12.633Z"
   },
   {
    "duration": 8,
    "start_time": "2022-05-25T17:55:14.137Z"
   },
   {
    "duration": 8,
    "start_time": "2022-05-25T18:37:10.285Z"
   },
   {
    "duration": 10,
    "start_time": "2022-05-25T18:38:17.586Z"
   },
   {
    "duration": 13,
    "start_time": "2022-05-25T18:41:13.146Z"
   },
   {
    "duration": 169,
    "start_time": "2022-05-25T18:41:14.323Z"
   },
   {
    "duration": 11,
    "start_time": "2022-05-25T18:55:35.074Z"
   },
   {
    "duration": 9,
    "start_time": "2022-05-25T19:34:41.502Z"
   },
   {
    "duration": 9,
    "start_time": "2022-05-25T19:42:54.613Z"
   },
   {
    "duration": 61,
    "start_time": "2022-05-25T21:20:05.444Z"
   },
   {
    "duration": 3,
    "start_time": "2022-05-25T21:21:08.860Z"
   },
   {
    "duration": 11,
    "start_time": "2022-05-25T21:21:22.549Z"
   },
   {
    "duration": 9,
    "start_time": "2022-05-25T21:22:15.798Z"
   },
   {
    "duration": 29,
    "start_time": "2022-05-25T21:22:57.785Z"
   },
   {
    "duration": 9,
    "start_time": "2022-05-25T21:23:12.461Z"
   },
   {
    "duration": 53,
    "start_time": "2022-05-26T06:54:10.706Z"
   },
   {
    "duration": 1370,
    "start_time": "2022-05-26T06:54:16.237Z"
   },
   {
    "duration": 519,
    "start_time": "2022-05-26T06:54:17.609Z"
   },
   {
    "duration": 409,
    "start_time": "2022-05-26T06:54:18.130Z"
   },
   {
    "duration": 155,
    "start_time": "2022-05-26T06:54:18.541Z"
   },
   {
    "duration": 58,
    "start_time": "2022-05-26T06:54:18.697Z"
   },
   {
    "duration": 61,
    "start_time": "2022-05-26T06:54:18.757Z"
   },
   {
    "duration": 11,
    "start_time": "2022-05-26T06:54:18.820Z"
   },
   {
    "duration": 24,
    "start_time": "2022-05-26T06:54:18.832Z"
   },
   {
    "duration": 29,
    "start_time": "2022-05-26T06:54:18.858Z"
   },
   {
    "duration": 14,
    "start_time": "2022-05-26T06:54:18.889Z"
   },
   {
    "duration": 24,
    "start_time": "2022-05-26T06:54:18.905Z"
   },
   {
    "duration": 21,
    "start_time": "2022-05-26T06:54:18.931Z"
   },
   {
    "duration": 6,
    "start_time": "2022-05-26T06:54:18.953Z"
   },
   {
    "duration": 23,
    "start_time": "2022-05-26T06:54:18.974Z"
   },
   {
    "duration": 16,
    "start_time": "2022-05-26T06:54:18.998Z"
   },
   {
    "duration": 6,
    "start_time": "2022-05-26T06:54:19.016Z"
   },
   {
    "duration": 11,
    "start_time": "2022-05-26T06:54:19.023Z"
   },
   {
    "duration": 10,
    "start_time": "2022-05-26T06:54:19.035Z"
   },
   {
    "duration": 9,
    "start_time": "2022-05-26T06:54:19.046Z"
   },
   {
    "duration": 31,
    "start_time": "2022-05-26T06:54:19.056Z"
   },
   {
    "duration": 33,
    "start_time": "2022-05-26T06:54:19.088Z"
   },
   {
    "duration": 18,
    "start_time": "2022-05-26T06:54:19.123Z"
   },
   {
    "duration": 50,
    "start_time": "2022-05-26T06:54:19.143Z"
   },
   {
    "duration": 7,
    "start_time": "2022-05-26T06:54:19.194Z"
   },
   {
    "duration": 13,
    "start_time": "2022-05-26T06:54:19.202Z"
   },
   {
    "duration": 99,
    "start_time": "2022-05-26T06:54:19.217Z"
   },
   {
    "duration": 40,
    "start_time": "2022-05-26T06:54:19.318Z"
   },
   {
    "duration": 64,
    "start_time": "2022-05-26T06:54:19.361Z"
   },
   {
    "duration": 7,
    "start_time": "2022-05-26T06:54:19.426Z"
   },
   {
    "duration": 25,
    "start_time": "2022-05-26T06:54:19.434Z"
   },
   {
    "duration": 21,
    "start_time": "2022-05-26T06:54:19.474Z"
   },
   {
    "duration": 23,
    "start_time": "2022-05-26T06:54:19.497Z"
   },
   {
    "duration": 76,
    "start_time": "2022-05-26T06:54:19.522Z"
   },
   {
    "duration": 25,
    "start_time": "2022-05-26T06:54:19.600Z"
   },
   {
    "duration": 23,
    "start_time": "2022-05-26T06:54:19.627Z"
   },
   {
    "duration": 105,
    "start_time": "2022-05-26T06:54:19.651Z"
   },
   {
    "duration": 32,
    "start_time": "2022-05-26T06:54:19.757Z"
   },
   {
    "duration": 3,
    "start_time": "2022-05-26T06:54:19.791Z"
   },
   {
    "duration": 16,
    "start_time": "2022-05-26T06:54:19.796Z"
   },
   {
    "duration": 15,
    "start_time": "2022-05-26T06:54:19.813Z"
   },
   {
    "duration": 8,
    "start_time": "2022-05-26T06:54:19.829Z"
   },
   {
    "duration": 7,
    "start_time": "2022-05-26T06:54:19.839Z"
   },
   {
    "duration": 38,
    "start_time": "2022-05-26T06:54:19.848Z"
   },
   {
    "duration": 8,
    "start_time": "2022-05-26T06:54:19.888Z"
   },
   {
    "duration": 10,
    "start_time": "2022-05-26T06:54:19.898Z"
   },
   {
    "duration": 10,
    "start_time": "2022-05-26T06:54:19.910Z"
   },
   {
    "duration": 8,
    "start_time": "2022-05-26T06:54:19.922Z"
   },
   {
    "duration": 9,
    "start_time": "2022-05-26T06:54:19.931Z"
   },
   {
    "duration": 11,
    "start_time": "2022-05-26T06:54:19.942Z"
   },
   {
    "duration": 45,
    "start_time": "2022-05-26T06:54:19.954Z"
   },
   {
    "duration": 6,
    "start_time": "2022-05-26T06:54:20.001Z"
   },
   {
    "duration": 236,
    "start_time": "2022-05-26T06:54:20.009Z"
   },
   {
    "duration": 12,
    "start_time": "2022-05-26T06:54:20.247Z"
   },
   {
    "duration": 229,
    "start_time": "2022-05-26T06:54:20.260Z"
   },
   {
    "duration": 11,
    "start_time": "2022-05-26T06:54:20.491Z"
   },
   {
    "duration": 203,
    "start_time": "2022-05-26T06:54:20.504Z"
   },
   {
    "duration": 9,
    "start_time": "2022-05-26T06:54:20.708Z"
   },
   {
    "duration": 12,
    "start_time": "2022-05-26T06:54:20.718Z"
   },
   {
    "duration": 171,
    "start_time": "2022-05-26T06:54:20.731Z"
   },
   {
    "duration": 12,
    "start_time": "2022-05-26T06:54:20.903Z"
   },
   {
    "duration": 194,
    "start_time": "2022-05-26T06:54:20.917Z"
   },
   {
    "duration": 8,
    "start_time": "2022-05-26T06:54:21.113Z"
   },
   {
    "duration": 21,
    "start_time": "2022-05-26T06:54:21.123Z"
   },
   {
    "duration": 181,
    "start_time": "2022-05-26T06:54:21.145Z"
   },
   {
    "duration": 9,
    "start_time": "2022-05-26T06:54:21.328Z"
   },
   {
    "duration": 18,
    "start_time": "2022-05-26T06:54:21.339Z"
   },
   {
    "duration": 185,
    "start_time": "2022-05-26T06:54:21.358Z"
   },
   {
    "duration": 8,
    "start_time": "2022-05-26T06:54:21.545Z"
   },
   {
    "duration": 23,
    "start_time": "2022-05-26T06:54:21.555Z"
   },
   {
    "duration": 17,
    "start_time": "2022-05-26T06:54:21.579Z"
   },
   {
    "duration": 9,
    "start_time": "2022-05-26T06:54:24.221Z"
   },
   {
    "duration": 9,
    "start_time": "2022-05-26T06:54:27.110Z"
   },
   {
    "duration": 9,
    "start_time": "2022-05-26T06:55:26.871Z"
   },
   {
    "duration": 9,
    "start_time": "2022-05-26T06:57:33.403Z"
   },
   {
    "duration": 11,
    "start_time": "2022-05-26T06:58:45.180Z"
   },
   {
    "duration": 9,
    "start_time": "2022-05-26T07:00:03.590Z"
   },
   {
    "duration": 3,
    "start_time": "2022-05-26T07:01:36.803Z"
   },
   {
    "duration": 8,
    "start_time": "2022-05-26T07:16:42.836Z"
   },
   {
    "duration": 7,
    "start_time": "2022-05-26T07:21:54.981Z"
   },
   {
    "duration": 7,
    "start_time": "2022-05-26T07:21:55.517Z"
   },
   {
    "duration": 6,
    "start_time": "2022-05-26T07:23:12.376Z"
   },
   {
    "duration": 9,
    "start_time": "2022-05-26T07:23:37.396Z"
   },
   {
    "duration": 10,
    "start_time": "2022-05-26T07:28:35.055Z"
   },
   {
    "duration": 10,
    "start_time": "2022-05-26T07:29:35.656Z"
   },
   {
    "duration": 9,
    "start_time": "2022-05-26T07:39:13.369Z"
   },
   {
    "duration": 55,
    "start_time": "2022-05-26T12:30:12.933Z"
   },
   {
    "duration": 1134,
    "start_time": "2022-05-26T12:30:27.368Z"
   },
   {
    "duration": 158,
    "start_time": "2022-05-26T12:30:28.503Z"
   },
   {
    "duration": 146,
    "start_time": "2022-05-26T12:30:28.663Z"
   },
   {
    "duration": 85,
    "start_time": "2022-05-26T12:30:28.811Z"
   },
   {
    "duration": 15,
    "start_time": "2022-05-26T12:30:28.899Z"
   },
   {
    "duration": 44,
    "start_time": "2022-05-26T12:30:28.915Z"
   },
   {
    "duration": 11,
    "start_time": "2022-05-26T12:30:28.961Z"
   },
   {
    "duration": 33,
    "start_time": "2022-05-26T12:30:28.973Z"
   },
   {
    "duration": 29,
    "start_time": "2022-05-26T12:30:29.008Z"
   },
   {
    "duration": 21,
    "start_time": "2022-05-26T12:30:29.039Z"
   },
   {
    "duration": 23,
    "start_time": "2022-05-26T12:30:29.061Z"
   },
   {
    "duration": 22,
    "start_time": "2022-05-26T12:30:29.085Z"
   },
   {
    "duration": 6,
    "start_time": "2022-05-26T12:30:29.109Z"
   },
   {
    "duration": 42,
    "start_time": "2022-05-26T12:30:29.118Z"
   },
   {
    "duration": 14,
    "start_time": "2022-05-26T12:30:29.161Z"
   },
   {
    "duration": 20,
    "start_time": "2022-05-26T12:30:29.176Z"
   },
   {
    "duration": 16,
    "start_time": "2022-05-26T12:30:29.198Z"
   },
   {
    "duration": 32,
    "start_time": "2022-05-26T12:30:29.217Z"
   },
   {
    "duration": 40,
    "start_time": "2022-05-26T12:30:29.251Z"
   },
   {
    "duration": 30,
    "start_time": "2022-05-26T12:30:29.292Z"
   },
   {
    "duration": 45,
    "start_time": "2022-05-26T12:30:29.323Z"
   },
   {
    "duration": 20,
    "start_time": "2022-05-26T12:30:29.369Z"
   },
   {
    "duration": 24,
    "start_time": "2022-05-26T12:30:29.391Z"
   },
   {
    "duration": 8,
    "start_time": "2022-05-26T12:30:29.416Z"
   },
   {
    "duration": 35,
    "start_time": "2022-05-26T12:30:29.425Z"
   },
   {
    "duration": 109,
    "start_time": "2022-05-26T12:30:29.461Z"
   },
   {
    "duration": 48,
    "start_time": "2022-05-26T12:30:29.572Z"
   },
   {
    "duration": 68,
    "start_time": "2022-05-26T12:30:29.622Z"
   },
   {
    "duration": 8,
    "start_time": "2022-05-26T12:30:29.692Z"
   },
   {
    "duration": 65,
    "start_time": "2022-05-26T12:30:29.702Z"
   },
   {
    "duration": 20,
    "start_time": "2022-05-26T12:30:29.769Z"
   },
   {
    "duration": 59,
    "start_time": "2022-05-26T12:30:29.792Z"
   },
   {
    "duration": 61,
    "start_time": "2022-05-26T12:30:29.853Z"
   },
   {
    "duration": 29,
    "start_time": "2022-05-26T12:30:29.916Z"
   },
   {
    "duration": 26,
    "start_time": "2022-05-26T12:30:29.958Z"
   },
   {
    "duration": 116,
    "start_time": "2022-05-26T12:30:29.986Z"
   },
   {
    "duration": 19,
    "start_time": "2022-05-26T12:30:30.104Z"
   },
   {
    "duration": 13,
    "start_time": "2022-05-26T12:30:30.125Z"
   },
   {
    "duration": 46,
    "start_time": "2022-05-26T12:30:30.139Z"
   },
   {
    "duration": 27,
    "start_time": "2022-05-26T12:30:30.188Z"
   },
   {
    "duration": 22,
    "start_time": "2022-05-26T12:30:30.219Z"
   },
   {
    "duration": 43,
    "start_time": "2022-05-26T12:30:30.243Z"
   },
   {
    "duration": 42,
    "start_time": "2022-05-26T12:30:30.288Z"
   },
   {
    "duration": 37,
    "start_time": "2022-05-26T12:30:30.332Z"
   },
   {
    "duration": 45,
    "start_time": "2022-05-26T12:30:30.371Z"
   },
   {
    "duration": 75,
    "start_time": "2022-05-26T12:30:30.418Z"
   },
   {
    "duration": 34,
    "start_time": "2022-05-26T12:30:30.494Z"
   },
   {
    "duration": 48,
    "start_time": "2022-05-26T12:30:30.530Z"
   },
   {
    "duration": 64,
    "start_time": "2022-05-26T12:30:30.580Z"
   },
   {
    "duration": 47,
    "start_time": "2022-05-26T12:30:30.645Z"
   },
   {
    "duration": 79,
    "start_time": "2022-05-26T12:30:30.693Z"
   },
   {
    "duration": 308,
    "start_time": "2022-05-26T12:30:30.774Z"
   },
   {
    "duration": 4,
    "start_time": "2022-05-26T12:30:31.084Z"
   },
   {
    "duration": 47,
    "start_time": "2022-05-26T12:30:31.089Z"
   },
   {
    "duration": 251,
    "start_time": "2022-05-26T12:30:31.138Z"
   },
   {
    "duration": 14,
    "start_time": "2022-05-26T12:30:31.390Z"
   },
   {
    "duration": 271,
    "start_time": "2022-05-26T12:30:31.405Z"
   },
   {
    "duration": 11,
    "start_time": "2022-05-26T12:30:31.678Z"
   },
   {
    "duration": 40,
    "start_time": "2022-05-26T12:30:31.691Z"
   },
   {
    "duration": 216,
    "start_time": "2022-05-26T12:30:31.733Z"
   },
   {
    "duration": 17,
    "start_time": "2022-05-26T12:30:31.951Z"
   },
   {
    "duration": 210,
    "start_time": "2022-05-26T12:30:31.970Z"
   },
   {
    "duration": 12,
    "start_time": "2022-05-26T12:30:32.182Z"
   },
   {
    "duration": 39,
    "start_time": "2022-05-26T12:30:32.195Z"
   },
   {
    "duration": 188,
    "start_time": "2022-05-26T12:30:32.235Z"
   },
   {
    "duration": 10,
    "start_time": "2022-05-26T12:30:32.425Z"
   },
   {
    "duration": 26,
    "start_time": "2022-05-26T12:30:32.436Z"
   },
   {
    "duration": 218,
    "start_time": "2022-05-26T12:30:32.464Z"
   },
   {
    "duration": 10,
    "start_time": "2022-05-26T12:30:32.684Z"
   },
   {
    "duration": 12,
    "start_time": "2022-05-26T12:30:32.695Z"
   },
   {
    "duration": 13,
    "start_time": "2022-05-26T12:30:32.708Z"
   },
   {
    "duration": 17,
    "start_time": "2022-05-26T12:30:32.723Z"
   },
   {
    "duration": 29,
    "start_time": "2022-05-26T12:30:32.742Z"
   },
   {
    "duration": 28,
    "start_time": "2022-05-26T12:30:32.773Z"
   },
   {
    "duration": 71,
    "start_time": "2022-05-26T12:30:32.802Z"
   },
   {
    "duration": 19,
    "start_time": "2022-05-26T12:30:32.875Z"
   },
   {
    "duration": 34,
    "start_time": "2022-05-26T12:30:32.895Z"
   },
   {
    "duration": 145,
    "start_time": "2022-05-26T12:30:32.931Z"
   },
   {
    "duration": 4,
    "start_time": "2022-05-26T12:32:58.917Z"
   },
   {
    "duration": 269,
    "start_time": "2022-05-26T12:33:46.057Z"
   },
   {
    "duration": 3,
    "start_time": "2022-05-26T12:48:44.582Z"
   },
   {
    "duration": 161,
    "start_time": "2022-05-26T12:48:54.422Z"
   },
   {
    "duration": 1157,
    "start_time": "2022-05-26T12:49:20.591Z"
   },
   {
    "duration": 1128,
    "start_time": "2022-05-26T12:49:43.974Z"
   },
   {
    "duration": 148,
    "start_time": "2022-05-26T12:49:45.104Z"
   },
   {
    "duration": 146,
    "start_time": "2022-05-26T12:49:45.253Z"
   },
   {
    "duration": 83,
    "start_time": "2022-05-26T12:49:45.400Z"
   },
   {
    "duration": 15,
    "start_time": "2022-05-26T12:49:45.485Z"
   },
   {
    "duration": 44,
    "start_time": "2022-05-26T12:49:45.502Z"
   },
   {
    "duration": 12,
    "start_time": "2022-05-26T12:49:45.548Z"
   },
   {
    "duration": 24,
    "start_time": "2022-05-26T12:49:45.561Z"
   },
   {
    "duration": 29,
    "start_time": "2022-05-26T12:49:45.587Z"
   },
   {
    "duration": 8,
    "start_time": "2022-05-26T12:49:45.617Z"
   },
   {
    "duration": 45,
    "start_time": "2022-05-26T12:49:45.626Z"
   },
   {
    "duration": 23,
    "start_time": "2022-05-26T12:49:45.673Z"
   },
   {
    "duration": 6,
    "start_time": "2022-05-26T12:49:45.698Z"
   },
   {
    "duration": 18,
    "start_time": "2022-05-26T12:49:45.707Z"
   },
   {
    "duration": 37,
    "start_time": "2022-05-26T12:49:45.727Z"
   },
   {
    "duration": 7,
    "start_time": "2022-05-26T12:49:45.766Z"
   },
   {
    "duration": 14,
    "start_time": "2022-05-26T12:49:45.774Z"
   },
   {
    "duration": 14,
    "start_time": "2022-05-26T12:49:45.789Z"
   },
   {
    "duration": 17,
    "start_time": "2022-05-26T12:49:45.804Z"
   },
   {
    "duration": 17,
    "start_time": "2022-05-26T12:49:45.822Z"
   },
   {
    "duration": 49,
    "start_time": "2022-05-26T12:49:45.841Z"
   },
   {
    "duration": 21,
    "start_time": "2022-05-26T12:49:45.891Z"
   },
   {
    "duration": 25,
    "start_time": "2022-05-26T12:49:45.914Z"
   },
   {
    "duration": 24,
    "start_time": "2022-05-26T12:49:45.940Z"
   },
   {
    "duration": 12,
    "start_time": "2022-05-26T12:49:45.965Z"
   },
   {
    "duration": 110,
    "start_time": "2022-05-26T12:49:45.979Z"
   },
   {
    "duration": 42,
    "start_time": "2022-05-26T12:49:46.091Z"
   },
   {
    "duration": 59,
    "start_time": "2022-05-26T12:49:46.134Z"
   },
   {
    "duration": 7,
    "start_time": "2022-05-26T12:49:46.195Z"
   },
   {
    "duration": 31,
    "start_time": "2022-05-26T12:49:46.203Z"
   },
   {
    "duration": 39,
    "start_time": "2022-05-26T12:49:46.235Z"
   },
   {
    "duration": 22,
    "start_time": "2022-05-26T12:49:46.275Z"
   },
   {
    "duration": 73,
    "start_time": "2022-05-26T12:49:46.299Z"
   },
   {
    "duration": 34,
    "start_time": "2022-05-26T12:49:46.374Z"
   },
   {
    "duration": 24,
    "start_time": "2022-05-26T12:49:46.410Z"
   },
   {
    "duration": 111,
    "start_time": "2022-05-26T12:49:46.436Z"
   },
   {
    "duration": 27,
    "start_time": "2022-05-26T12:49:46.549Z"
   },
   {
    "duration": 4,
    "start_time": "2022-05-26T12:49:46.578Z"
   },
   {
    "duration": 26,
    "start_time": "2022-05-26T12:49:46.584Z"
   },
   {
    "duration": 20,
    "start_time": "2022-05-26T12:49:46.612Z"
   },
   {
    "duration": 22,
    "start_time": "2022-05-26T12:49:46.638Z"
   },
   {
    "duration": 12,
    "start_time": "2022-05-26T12:49:46.662Z"
   },
   {
    "duration": 13,
    "start_time": "2022-05-26T12:49:46.676Z"
   },
   {
    "duration": 7,
    "start_time": "2022-05-26T12:49:46.691Z"
   },
   {
    "duration": 18,
    "start_time": "2022-05-26T12:49:46.699Z"
   },
   {
    "duration": 13,
    "start_time": "2022-05-26T12:49:46.719Z"
   },
   {
    "duration": 27,
    "start_time": "2022-05-26T12:49:46.734Z"
   },
   {
    "duration": 10,
    "start_time": "2022-05-26T12:49:46.763Z"
   },
   {
    "duration": 18,
    "start_time": "2022-05-26T12:49:46.775Z"
   },
   {
    "duration": 27,
    "start_time": "2022-05-26T12:49:46.795Z"
   },
   {
    "duration": 8,
    "start_time": "2022-05-26T12:49:46.824Z"
   },
   {
    "duration": 259,
    "start_time": "2022-05-26T12:49:46.833Z"
   },
   {
    "duration": 5,
    "start_time": "2022-05-26T12:49:47.093Z"
   },
   {
    "duration": 23,
    "start_time": "2022-05-26T12:49:47.099Z"
   },
   {
    "duration": 295,
    "start_time": "2022-05-26T12:49:47.124Z"
   },
   {
    "duration": 17,
    "start_time": "2022-05-26T12:49:47.421Z"
   },
   {
    "duration": 237,
    "start_time": "2022-05-26T12:49:47.440Z"
   },
   {
    "duration": 10,
    "start_time": "2022-05-26T12:49:47.680Z"
   },
   {
    "duration": 13,
    "start_time": "2022-05-26T12:49:47.692Z"
   },
   {
    "duration": 194,
    "start_time": "2022-05-26T12:49:47.707Z"
   },
   {
    "duration": 15,
    "start_time": "2022-05-26T12:49:47.903Z"
   },
   {
    "duration": 209,
    "start_time": "2022-05-26T12:49:47.920Z"
   },
   {
    "duration": 9,
    "start_time": "2022-05-26T12:49:48.131Z"
   },
   {
    "duration": 25,
    "start_time": "2022-05-26T12:49:48.141Z"
   },
   {
    "duration": 191,
    "start_time": "2022-05-26T12:49:48.168Z"
   },
   {
    "duration": 10,
    "start_time": "2022-05-26T12:49:48.360Z"
   },
   {
    "duration": 14,
    "start_time": "2022-05-26T12:49:48.371Z"
   },
   {
    "duration": 210,
    "start_time": "2022-05-26T12:49:48.387Z"
   },
   {
    "duration": 9,
    "start_time": "2022-05-26T12:49:48.599Z"
   },
   {
    "duration": 74,
    "start_time": "2022-05-26T12:49:48.609Z"
   },
   {
    "duration": 7,
    "start_time": "2022-05-26T12:49:48.685Z"
   },
   {
    "duration": 14,
    "start_time": "2022-05-26T12:49:48.694Z"
   },
   {
    "duration": 25,
    "start_time": "2022-05-26T12:49:48.710Z"
   },
   {
    "duration": 12,
    "start_time": "2022-05-26T12:49:48.737Z"
   },
   {
    "duration": 23,
    "start_time": "2022-05-26T12:49:48.751Z"
   },
   {
    "duration": 9,
    "start_time": "2022-05-26T12:49:48.776Z"
   },
   {
    "duration": 15,
    "start_time": "2022-05-26T12:49:48.787Z"
   },
   {
    "duration": 12,
    "start_time": "2022-05-26T12:49:48.804Z"
   },
   {
    "duration": 29,
    "start_time": "2022-05-26T12:49:48.818Z"
   },
   {
    "duration": 12,
    "start_time": "2022-05-26T12:49:48.849Z"
   },
   {
    "duration": 1212,
    "start_time": "2022-05-26T12:49:48.863Z"
   },
   {
    "duration": 186,
    "start_time": "2022-05-26T12:49:50.077Z"
   },
   {
    "duration": 115,
    "start_time": "2022-05-26T12:49:50.265Z"
   },
   {
    "duration": 0,
    "start_time": "2022-05-26T12:49:50.382Z"
   },
   {
    "duration": 0,
    "start_time": "2022-05-26T12:49:50.383Z"
   },
   {
    "duration": 177,
    "start_time": "2022-05-26T12:50:29.642Z"
   },
   {
    "duration": 166,
    "start_time": "2022-05-26T12:50:33.065Z"
   },
   {
    "duration": 70,
    "start_time": "2022-05-26T12:50:33.938Z"
   },
   {
    "duration": 922,
    "start_time": "2022-05-26T19:26:07.911Z"
   },
   {
    "duration": 979,
    "start_time": "2022-05-26T19:29:10.847Z"
   },
   {
    "duration": 8,
    "start_time": "2022-05-26T19:29:31.124Z"
   },
   {
    "duration": 21,
    "start_time": "2022-05-26T19:29:32.034Z"
   },
   {
    "duration": 16,
    "start_time": "2022-05-26T19:29:33.389Z"
   },
   {
    "duration": 9,
    "start_time": "2022-05-26T19:29:38.201Z"
   },
   {
    "duration": 12,
    "start_time": "2022-05-26T19:29:44.041Z"
   },
   {
    "duration": 6,
    "start_time": "2022-05-26T19:44:46.710Z"
   },
   {
    "duration": 1566,
    "start_time": "2022-05-26T19:55:25.587Z"
   },
   {
    "duration": 31,
    "start_time": "2022-05-26T20:03:06.196Z"
   },
   {
    "duration": 43,
    "start_time": "2022-05-26T20:03:18.392Z"
   },
   {
    "duration": 38,
    "start_time": "2022-05-26T20:03:53.873Z"
   },
   {
    "duration": 36,
    "start_time": "2022-05-26T20:04:15.476Z"
   },
   {
    "duration": 39,
    "start_time": "2022-05-26T20:04:35.231Z"
   },
   {
    "duration": 36,
    "start_time": "2022-05-26T20:05:25.682Z"
   },
   {
    "duration": 504,
    "start_time": "2022-05-26T20:06:46.006Z"
   },
   {
    "duration": 44,
    "start_time": "2022-05-26T20:08:57.840Z"
   },
   {
    "duration": 541,
    "start_time": "2022-05-26T20:12:02.753Z"
   },
   {
    "duration": 49,
    "start_time": "2022-05-26T20:12:42.350Z"
   },
   {
    "duration": 19,
    "start_time": "2022-05-26T20:15:57.843Z"
   },
   {
    "duration": 14,
    "start_time": "2022-05-26T20:16:52.524Z"
   },
   {
    "duration": 11,
    "start_time": "2022-05-26T20:17:39.785Z"
   },
   {
    "duration": 8,
    "start_time": "2022-05-26T20:18:15.728Z"
   },
   {
    "duration": 38,
    "start_time": "2022-05-26T21:02:59.712Z"
   },
   {
    "duration": 24,
    "start_time": "2022-05-26T21:03:01.202Z"
   },
   {
    "duration": 30,
    "start_time": "2022-05-26T21:03:01.478Z"
   },
   {
    "duration": 9,
    "start_time": "2022-05-26T21:03:02.889Z"
   },
   {
    "duration": 18,
    "start_time": "2022-05-26T21:03:09.456Z"
   },
   {
    "duration": 113,
    "start_time": "2022-05-26T21:03:18.349Z"
   },
   {
    "duration": 61,
    "start_time": "2022-05-26T21:03:18.803Z"
   },
   {
    "duration": 41,
    "start_time": "2022-05-26T21:03:19.300Z"
   },
   {
    "duration": 7,
    "start_time": "2022-05-26T21:03:19.957Z"
   },
   {
    "duration": 30,
    "start_time": "2022-05-26T21:03:57.778Z"
   },
   {
    "duration": 21,
    "start_time": "2022-05-26T21:04:37.240Z"
   },
   {
    "duration": 26,
    "start_time": "2022-05-26T21:29:06.196Z"
   },
   {
    "duration": 33,
    "start_time": "2022-05-26T21:29:22.220Z"
   },
   {
    "duration": 4,
    "start_time": "2022-05-27T07:35:53.990Z"
   },
   {
    "duration": 201,
    "start_time": "2022-05-27T07:35:53.996Z"
   },
   {
    "duration": 149,
    "start_time": "2022-05-27T07:35:54.199Z"
   },
   {
    "duration": 95,
    "start_time": "2022-05-27T07:35:54.350Z"
   },
   {
    "duration": 16,
    "start_time": "2022-05-27T07:35:54.447Z"
   },
   {
    "duration": 28,
    "start_time": "2022-05-27T07:35:54.465Z"
   },
   {
    "duration": 8,
    "start_time": "2022-05-27T07:35:54.495Z"
   },
   {
    "duration": 30,
    "start_time": "2022-05-27T07:35:54.504Z"
   },
   {
    "duration": 28,
    "start_time": "2022-05-27T07:35:54.536Z"
   },
   {
    "duration": 36,
    "start_time": "2022-05-27T07:35:54.566Z"
   },
   {
    "duration": 8,
    "start_time": "2022-05-27T07:35:54.604Z"
   },
   {
    "duration": 24,
    "start_time": "2022-05-27T07:35:54.614Z"
   },
   {
    "duration": 25,
    "start_time": "2022-05-27T07:35:54.640Z"
   },
   {
    "duration": 945,
    "start_time": "2022-05-27T07:35:54.667Z"
   },
   {
    "duration": 12,
    "start_time": "2022-05-27T07:35:55.615Z"
   },
   {
    "duration": 9,
    "start_time": "2022-05-27T07:35:55.629Z"
   },
   {
    "duration": 22,
    "start_time": "2022-05-27T07:35:55.641Z"
   },
   {
    "duration": 40,
    "start_time": "2022-05-27T07:35:55.665Z"
   },
   {
    "duration": 10,
    "start_time": "2022-05-27T07:35:55.707Z"
   },
   {
    "duration": 10,
    "start_time": "2022-05-27T07:35:55.718Z"
   },
   {
    "duration": 13,
    "start_time": "2022-05-27T07:35:55.730Z"
   },
   {
    "duration": 13,
    "start_time": "2022-05-27T07:35:55.745Z"
   },
   {
    "duration": 42,
    "start_time": "2022-05-27T07:35:55.759Z"
   },
   {
    "duration": 15,
    "start_time": "2022-05-27T07:35:55.802Z"
   },
   {
    "duration": 7,
    "start_time": "2022-05-27T07:35:55.818Z"
   },
   {
    "duration": 45,
    "start_time": "2022-05-27T07:35:55.826Z"
   },
   {
    "duration": 32,
    "start_time": "2022-05-27T07:35:55.895Z"
   },
   {
    "duration": 22,
    "start_time": "2022-05-27T07:35:55.929Z"
   },
   {
    "duration": 47,
    "start_time": "2022-05-27T07:35:55.955Z"
   },
   {
    "duration": 8,
    "start_time": "2022-05-27T07:35:56.004Z"
   },
   {
    "duration": 19,
    "start_time": "2022-05-27T07:35:56.014Z"
   },
   {
    "duration": 136,
    "start_time": "2022-05-27T07:35:56.035Z"
   },
   {
    "duration": 55,
    "start_time": "2022-05-27T07:35:56.173Z"
   },
   {
    "duration": 44,
    "start_time": "2022-05-27T07:35:56.230Z"
   },
   {
    "duration": 25,
    "start_time": "2022-05-27T07:35:56.275Z"
   },
   {
    "duration": 29,
    "start_time": "2022-05-27T07:35:56.301Z"
   },
   {
    "duration": 31,
    "start_time": "2022-05-27T07:35:56.332Z"
   },
   {
    "duration": 0,
    "start_time": "2022-05-27T07:35:56.365Z"
   },
   {
    "duration": 0,
    "start_time": "2022-05-27T07:35:56.366Z"
   },
   {
    "duration": 0,
    "start_time": "2022-05-27T07:35:56.367Z"
   },
   {
    "duration": 0,
    "start_time": "2022-05-27T07:35:56.368Z"
   },
   {
    "duration": 0,
    "start_time": "2022-05-27T07:35:56.369Z"
   },
   {
    "duration": 0,
    "start_time": "2022-05-27T07:35:56.370Z"
   },
   {
    "duration": 0,
    "start_time": "2022-05-27T07:35:56.371Z"
   },
   {
    "duration": 0,
    "start_time": "2022-05-27T07:35:56.373Z"
   },
   {
    "duration": 0,
    "start_time": "2022-05-27T07:35:56.375Z"
   },
   {
    "duration": 0,
    "start_time": "2022-05-27T07:35:56.376Z"
   },
   {
    "duration": 0,
    "start_time": "2022-05-27T07:35:56.377Z"
   },
   {
    "duration": 1,
    "start_time": "2022-05-27T07:35:56.378Z"
   },
   {
    "duration": 0,
    "start_time": "2022-05-27T07:35:56.394Z"
   },
   {
    "duration": 0,
    "start_time": "2022-05-27T07:35:56.395Z"
   },
   {
    "duration": 0,
    "start_time": "2022-05-27T07:35:56.396Z"
   },
   {
    "duration": 0,
    "start_time": "2022-05-27T07:35:56.397Z"
   },
   {
    "duration": 0,
    "start_time": "2022-05-27T07:35:56.398Z"
   },
   {
    "duration": 0,
    "start_time": "2022-05-27T07:35:56.400Z"
   },
   {
    "duration": 0,
    "start_time": "2022-05-27T07:35:56.402Z"
   },
   {
    "duration": 0,
    "start_time": "2022-05-27T07:35:56.403Z"
   },
   {
    "duration": 0,
    "start_time": "2022-05-27T07:35:56.405Z"
   },
   {
    "duration": 0,
    "start_time": "2022-05-27T07:35:56.406Z"
   },
   {
    "duration": 0,
    "start_time": "2022-05-27T07:35:56.407Z"
   },
   {
    "duration": 22,
    "start_time": "2022-05-27T07:37:18.794Z"
   },
   {
    "duration": 24,
    "start_time": "2022-05-27T07:37:19.193Z"
   },
   {
    "duration": 75,
    "start_time": "2022-05-27T07:37:34.682Z"
   },
   {
    "duration": 37,
    "start_time": "2022-05-27T07:37:40.571Z"
   },
   {
    "duration": 31,
    "start_time": "2022-05-27T07:37:43.817Z"
   },
   {
    "duration": 86,
    "start_time": "2022-05-27T07:37:46.881Z"
   },
   {
    "duration": 23,
    "start_time": "2022-05-27T07:38:04.681Z"
   },
   {
    "duration": 5,
    "start_time": "2022-05-27T07:38:05.723Z"
   },
   {
    "duration": 18,
    "start_time": "2022-05-27T07:40:16.617Z"
   },
   {
    "duration": 16,
    "start_time": "2022-05-27T07:40:22.657Z"
   },
   {
    "duration": 97,
    "start_time": "2022-05-27T07:40:51.217Z"
   },
   {
    "duration": 8,
    "start_time": "2022-05-27T07:40:57.153Z"
   },
   {
    "duration": 12,
    "start_time": "2022-05-27T07:41:05.524Z"
   },
   {
    "duration": 7,
    "start_time": "2022-05-27T07:41:07.336Z"
   },
   {
    "duration": 9,
    "start_time": "2022-05-27T07:41:13.152Z"
   },
   {
    "duration": 9,
    "start_time": "2022-05-27T07:41:16.788Z"
   },
   {
    "duration": 8,
    "start_time": "2022-05-27T07:41:17.474Z"
   },
   {
    "duration": 9,
    "start_time": "2022-05-27T07:41:18.225Z"
   },
   {
    "duration": 12,
    "start_time": "2022-05-27T07:41:20.571Z"
   },
   {
    "duration": 26,
    "start_time": "2022-05-27T07:42:19.970Z"
   },
   {
    "duration": 8,
    "start_time": "2022-05-27T07:42:31.557Z"
   },
   {
    "duration": 233,
    "start_time": "2022-05-27T07:42:35.122Z"
   },
   {
    "duration": 5,
    "start_time": "2022-05-27T07:43:28.036Z"
   },
   {
    "duration": 409,
    "start_time": "2022-05-27T08:04:08.149Z"
   },
   {
    "duration": 4,
    "start_time": "2022-05-27T08:04:38.196Z"
   },
   {
    "duration": 33,
    "start_time": "2022-05-27T08:05:25.980Z"
   },
   {
    "duration": 31,
    "start_time": "2022-05-27T08:06:04.333Z"
   },
   {
    "duration": 29,
    "start_time": "2022-05-27T08:09:47.998Z"
   },
   {
    "duration": 34,
    "start_time": "2022-05-27T08:23:05.602Z"
   },
   {
    "duration": 270,
    "start_time": "2022-05-27T09:41:32.388Z"
   },
   {
    "duration": 232,
    "start_time": "2022-05-27T09:42:21.447Z"
   },
   {
    "duration": 16,
    "start_time": "2022-05-27T09:42:27.408Z"
   },
   {
    "duration": 195,
    "start_time": "2022-05-27T09:45:44.433Z"
   },
   {
    "duration": 33,
    "start_time": "2022-05-27T09:47:19.457Z"
   },
   {
    "duration": 238,
    "start_time": "2022-05-27T09:47:27.401Z"
   },
   {
    "duration": 12,
    "start_time": "2022-05-27T09:47:30.425Z"
   },
   {
    "duration": 183,
    "start_time": "2022-05-27T09:50:45.754Z"
   },
   {
    "duration": 13,
    "start_time": "2022-05-27T09:50:49.088Z"
   },
   {
    "duration": 190,
    "start_time": "2022-05-27T09:52:46.364Z"
   },
   {
    "duration": 10,
    "start_time": "2022-05-27T09:52:49.930Z"
   },
   {
    "duration": 30,
    "start_time": "2022-05-27T10:48:32.075Z"
   },
   {
    "duration": 9,
    "start_time": "2022-05-27T10:49:07.520Z"
   },
   {
    "duration": 8,
    "start_time": "2022-05-27T10:49:10.286Z"
   },
   {
    "duration": 13,
    "start_time": "2022-05-27T10:49:12.437Z"
   },
   {
    "duration": 11,
    "start_time": "2022-05-27T10:49:20.125Z"
   },
   {
    "duration": 7,
    "start_time": "2022-05-27T10:49:28.422Z"
   },
   {
    "duration": 9,
    "start_time": "2022-05-27T10:49:34.773Z"
   },
   {
    "duration": 9,
    "start_time": "2022-05-27T10:49:35.590Z"
   },
   {
    "duration": 11,
    "start_time": "2022-05-27T10:49:37.430Z"
   },
   {
    "duration": 13,
    "start_time": "2022-05-27T10:49:49.006Z"
   },
   {
    "duration": 1108,
    "start_time": "2022-05-27T22:18:25.556Z"
   },
   {
    "duration": 158,
    "start_time": "2022-05-27T22:18:26.666Z"
   },
   {
    "duration": 138,
    "start_time": "2022-05-27T22:18:26.826Z"
   },
   {
    "duration": 89,
    "start_time": "2022-05-27T22:18:26.965Z"
   },
   {
    "duration": 15,
    "start_time": "2022-05-27T22:18:27.056Z"
   },
   {
    "duration": 27,
    "start_time": "2022-05-27T22:18:27.073Z"
   },
   {
    "duration": 11,
    "start_time": "2022-05-27T22:18:27.102Z"
   },
   {
    "duration": 38,
    "start_time": "2022-05-27T22:18:27.114Z"
   },
   {
    "duration": 29,
    "start_time": "2022-05-27T22:18:27.154Z"
   },
   {
    "duration": 15,
    "start_time": "2022-05-27T22:18:27.185Z"
   },
   {
    "duration": 25,
    "start_time": "2022-05-27T22:18:27.202Z"
   },
   {
    "duration": 33,
    "start_time": "2022-05-27T22:18:27.228Z"
   },
   {
    "duration": 24,
    "start_time": "2022-05-27T22:18:27.263Z"
   },
   {
    "duration": 808,
    "start_time": "2022-05-27T22:18:27.290Z"
   },
   {
    "duration": 10,
    "start_time": "2022-05-27T22:18:28.099Z"
   },
   {
    "duration": 24,
    "start_time": "2022-05-27T22:18:28.111Z"
   },
   {
    "duration": 43,
    "start_time": "2022-05-27T22:18:28.136Z"
   },
   {
    "duration": 18,
    "start_time": "2022-05-27T22:18:28.180Z"
   },
   {
    "duration": 19,
    "start_time": "2022-05-27T22:18:28.200Z"
   },
   {
    "duration": 9,
    "start_time": "2022-05-27T22:18:28.220Z"
   },
   {
    "duration": 28,
    "start_time": "2022-05-27T22:18:28.230Z"
   },
   {
    "duration": 11,
    "start_time": "2022-05-27T22:18:28.259Z"
   },
   {
    "duration": 72,
    "start_time": "2022-05-27T22:18:28.272Z"
   },
   {
    "duration": 21,
    "start_time": "2022-05-27T22:18:28.345Z"
   },
   {
    "duration": 16,
    "start_time": "2022-05-27T22:18:28.367Z"
   },
   {
    "duration": 55,
    "start_time": "2022-05-27T22:18:28.384Z"
   },
   {
    "duration": 36,
    "start_time": "2022-05-27T22:18:28.441Z"
   },
   {
    "duration": 46,
    "start_time": "2022-05-27T22:18:28.478Z"
   },
   {
    "duration": 18,
    "start_time": "2022-05-27T22:18:28.526Z"
   },
   {
    "duration": 24,
    "start_time": "2022-05-27T22:18:28.546Z"
   },
   {
    "duration": 8,
    "start_time": "2022-05-27T22:18:28.571Z"
   },
   {
    "duration": 22,
    "start_time": "2022-05-27T22:18:28.580Z"
   },
   {
    "duration": 107,
    "start_time": "2022-05-27T22:18:28.603Z"
   },
   {
    "duration": 50,
    "start_time": "2022-05-27T22:18:28.712Z"
   },
   {
    "duration": 42,
    "start_time": "2022-05-27T22:18:28.764Z"
   },
   {
    "duration": 22,
    "start_time": "2022-05-27T22:18:28.807Z"
   },
   {
    "duration": 41,
    "start_time": "2022-05-27T22:18:28.830Z"
   },
   {
    "duration": 18,
    "start_time": "2022-05-27T22:18:28.872Z"
   },
   {
    "duration": 22,
    "start_time": "2022-05-27T22:18:28.891Z"
   },
   {
    "duration": 64,
    "start_time": "2022-05-27T22:18:28.914Z"
   },
   {
    "duration": 29,
    "start_time": "2022-05-27T22:18:28.982Z"
   },
   {
    "duration": 26,
    "start_time": "2022-05-27T22:18:29.026Z"
   },
   {
    "duration": 90,
    "start_time": "2022-05-27T22:18:29.053Z"
   },
   {
    "duration": 17,
    "start_time": "2022-05-27T22:18:29.145Z"
   },
   {
    "duration": 3,
    "start_time": "2022-05-27T22:18:29.164Z"
   },
   {
    "duration": 23,
    "start_time": "2022-05-27T22:18:29.168Z"
   },
   {
    "duration": 15,
    "start_time": "2022-05-27T22:18:29.192Z"
   },
   {
    "duration": 16,
    "start_time": "2022-05-27T22:18:29.226Z"
   },
   {
    "duration": 8,
    "start_time": "2022-05-27T22:18:29.243Z"
   },
   {
    "duration": 19,
    "start_time": "2022-05-27T22:18:29.252Z"
   },
   {
    "duration": 14,
    "start_time": "2022-05-27T22:18:29.273Z"
   },
   {
    "duration": 11,
    "start_time": "2022-05-27T22:18:29.289Z"
   },
   {
    "duration": 11,
    "start_time": "2022-05-27T22:18:29.301Z"
   },
   {
    "duration": 22,
    "start_time": "2022-05-27T22:18:29.313Z"
   },
   {
    "duration": 34,
    "start_time": "2022-05-27T22:18:29.337Z"
   },
   {
    "duration": 12,
    "start_time": "2022-05-27T22:18:29.372Z"
   },
   {
    "duration": 28,
    "start_time": "2022-05-27T22:18:29.385Z"
   },
   {
    "duration": 6,
    "start_time": "2022-05-27T22:18:29.415Z"
   },
   {
    "duration": 234,
    "start_time": "2022-05-27T22:18:29.423Z"
   },
   {
    "duration": 4,
    "start_time": "2022-05-27T22:18:29.659Z"
   },
   {
    "duration": 67,
    "start_time": "2022-05-27T22:18:29.664Z"
   },
   {
    "duration": 207,
    "start_time": "2022-05-27T22:18:29.733Z"
   },
   {
    "duration": 207,
    "start_time": "2022-05-27T22:18:29.941Z"
   },
   {
    "duration": 9,
    "start_time": "2022-05-27T22:18:30.149Z"
   },
   {
    "duration": 186,
    "start_time": "2022-05-27T22:18:30.160Z"
   },
   {
    "duration": 208,
    "start_time": "2022-05-27T22:18:30.348Z"
   },
   {
    "duration": 11,
    "start_time": "2022-05-27T22:18:30.559Z"
   },
   {
    "duration": 298,
    "start_time": "2022-05-27T22:18:30.571Z"
   },
   {
    "duration": 8,
    "start_time": "2022-05-27T22:18:30.871Z"
   },
   {
    "duration": 193,
    "start_time": "2022-05-27T22:18:30.881Z"
   },
   {
    "duration": 8,
    "start_time": "2022-05-27T22:18:31.076Z"
   },
   {
    "duration": 42,
    "start_time": "2022-05-27T22:18:31.086Z"
   },
   {
    "duration": 7,
    "start_time": "2022-05-27T22:18:31.130Z"
   },
   {
    "duration": 11,
    "start_time": "2022-05-27T22:18:31.138Z"
   },
   {
    "duration": 16,
    "start_time": "2022-05-27T22:18:31.151Z"
   },
   {
    "duration": 13,
    "start_time": "2022-05-27T22:18:31.168Z"
   },
   {
    "duration": 14,
    "start_time": "2022-05-27T22:18:31.182Z"
   },
   {
    "duration": 12,
    "start_time": "2022-05-27T22:18:31.198Z"
   },
   {
    "duration": 31,
    "start_time": "2022-05-27T22:18:31.211Z"
   },
   {
    "duration": 22,
    "start_time": "2022-05-27T22:18:31.243Z"
   },
   {
    "duration": 31,
    "start_time": "2022-05-27T22:18:31.266Z"
   },
   {
    "duration": 12,
    "start_time": "2022-05-27T22:18:31.298Z"
   },
   {
    "duration": 1086,
    "start_time": "2022-05-27T22:18:31.312Z"
   },
   {
    "duration": 135,
    "start_time": "2022-05-27T22:18:32.399Z"
   },
   {
    "duration": 0,
    "start_time": "2022-05-27T22:18:32.535Z"
   },
   {
    "duration": 0,
    "start_time": "2022-05-27T22:18:32.536Z"
   },
   {
    "duration": 0,
    "start_time": "2022-05-27T22:18:32.537Z"
   },
   {
    "duration": 45,
    "start_time": "2022-05-27T22:19:13.277Z"
   },
   {
    "duration": 12,
    "start_time": "2022-05-27T22:23:23.967Z"
   },
   {
    "duration": 793,
    "start_time": "2022-05-27T22:23:58.656Z"
   },
   {
    "duration": 28,
    "start_time": "2022-05-27T22:24:29.845Z"
   },
   {
    "duration": 27,
    "start_time": "2022-05-27T22:25:00.564Z"
   },
   {
    "duration": 5,
    "start_time": "2022-05-27T22:25:04.996Z"
   },
   {
    "duration": 14,
    "start_time": "2022-05-27T22:25:09.444Z"
   },
   {
    "duration": 12,
    "start_time": "2022-05-27T22:25:42.255Z"
   },
   {
    "duration": 1166,
    "start_time": "2022-05-27T22:25:54.519Z"
   },
   {
    "duration": 163,
    "start_time": "2022-05-27T22:25:55.688Z"
   },
   {
    "duration": 137,
    "start_time": "2022-05-27T22:25:55.852Z"
   },
   {
    "duration": 85,
    "start_time": "2022-05-27T22:25:55.991Z"
   },
   {
    "duration": 15,
    "start_time": "2022-05-27T22:25:56.077Z"
   },
   {
    "duration": 33,
    "start_time": "2022-05-27T22:25:56.094Z"
   },
   {
    "duration": 12,
    "start_time": "2022-05-27T22:25:56.128Z"
   },
   {
    "duration": 24,
    "start_time": "2022-05-27T22:25:56.141Z"
   },
   {
    "duration": 31,
    "start_time": "2022-05-27T22:25:56.166Z"
   },
   {
    "duration": 33,
    "start_time": "2022-05-27T22:25:56.200Z"
   },
   {
    "duration": 8,
    "start_time": "2022-05-27T22:25:56.235Z"
   },
   {
    "duration": 22,
    "start_time": "2022-05-27T22:25:56.245Z"
   },
   {
    "duration": 22,
    "start_time": "2022-05-27T22:25:56.269Z"
   },
   {
    "duration": 1235,
    "start_time": "2022-05-27T22:25:56.292Z"
   },
   {
    "duration": 17,
    "start_time": "2022-05-27T22:25:57.529Z"
   },
   {
    "duration": 9,
    "start_time": "2022-05-27T22:25:57.548Z"
   },
   {
    "duration": 34,
    "start_time": "2022-05-27T22:25:57.558Z"
   },
   {
    "duration": 44,
    "start_time": "2022-05-27T22:25:57.593Z"
   },
   {
    "duration": 10,
    "start_time": "2022-05-27T22:25:57.639Z"
   },
   {
    "duration": 11,
    "start_time": "2022-05-27T22:25:57.651Z"
   },
   {
    "duration": 11,
    "start_time": "2022-05-27T22:25:57.664Z"
   },
   {
    "duration": 60,
    "start_time": "2022-05-27T22:25:57.676Z"
   },
   {
    "duration": 195,
    "start_time": "2022-05-27T22:25:57.737Z"
   },
   {
    "duration": 17,
    "start_time": "2022-05-27T22:25:57.934Z"
   },
   {
    "duration": 9,
    "start_time": "2022-05-27T22:25:57.952Z"
   },
   {
    "duration": 91,
    "start_time": "2022-05-27T22:25:57.963Z"
   },
   {
    "duration": 22,
    "start_time": "2022-05-27T22:25:58.056Z"
   },
   {
    "duration": 53,
    "start_time": "2022-05-27T22:25:58.082Z"
   },
   {
    "duration": 22,
    "start_time": "2022-05-27T22:25:58.137Z"
   },
   {
    "duration": 24,
    "start_time": "2022-05-27T22:25:58.161Z"
   },
   {
    "duration": 8,
    "start_time": "2022-05-27T22:25:58.187Z"
   },
   {
    "duration": 40,
    "start_time": "2022-05-27T22:25:58.196Z"
   },
   {
    "duration": 117,
    "start_time": "2022-05-27T22:25:58.238Z"
   },
   {
    "duration": 46,
    "start_time": "2022-05-27T22:25:58.357Z"
   },
   {
    "duration": 58,
    "start_time": "2022-05-27T22:25:58.405Z"
   },
   {
    "duration": 6,
    "start_time": "2022-05-27T22:25:58.465Z"
   },
   {
    "duration": 27,
    "start_time": "2022-05-27T22:25:58.472Z"
   },
   {
    "duration": 40,
    "start_time": "2022-05-27T22:25:58.501Z"
   },
   {
    "duration": 22,
    "start_time": "2022-05-27T22:25:58.542Z"
   },
   {
    "duration": 78,
    "start_time": "2022-05-27T22:25:58.565Z"
   },
   {
    "duration": 28,
    "start_time": "2022-05-27T22:25:58.645Z"
   },
   {
    "duration": 27,
    "start_time": "2022-05-27T22:25:58.675Z"
   },
   {
    "duration": 107,
    "start_time": "2022-05-27T22:25:58.703Z"
   },
   {
    "duration": 25,
    "start_time": "2022-05-27T22:25:58.812Z"
   },
   {
    "duration": 6,
    "start_time": "2022-05-27T22:25:58.839Z"
   },
   {
    "duration": 20,
    "start_time": "2022-05-27T22:25:58.846Z"
   },
   {
    "duration": 23,
    "start_time": "2022-05-27T22:25:58.868Z"
   },
   {
    "duration": 42,
    "start_time": "2022-05-27T22:25:58.892Z"
   },
   {
    "duration": 16,
    "start_time": "2022-05-27T22:25:58.935Z"
   },
   {
    "duration": 7,
    "start_time": "2022-05-27T22:25:58.953Z"
   },
   {
    "duration": 10,
    "start_time": "2022-05-27T22:25:58.961Z"
   },
   {
    "duration": 9,
    "start_time": "2022-05-27T22:25:58.973Z"
   },
   {
    "duration": 7,
    "start_time": "2022-05-27T22:25:58.983Z"
   },
   {
    "duration": 8,
    "start_time": "2022-05-27T22:25:58.992Z"
   },
   {
    "duration": 6,
    "start_time": "2022-05-27T22:25:59.026Z"
   },
   {
    "duration": 9,
    "start_time": "2022-05-27T22:25:59.033Z"
   },
   {
    "duration": 10,
    "start_time": "2022-05-27T22:25:59.043Z"
   },
   {
    "duration": 27,
    "start_time": "2022-05-27T22:25:59.054Z"
   },
   {
    "duration": 7,
    "start_time": "2022-05-27T22:25:59.083Z"
   },
   {
    "duration": 256,
    "start_time": "2022-05-27T22:25:59.092Z"
   },
   {
    "duration": 5,
    "start_time": "2022-05-27T22:25:59.350Z"
   },
   {
    "duration": 71,
    "start_time": "2022-05-27T22:25:59.356Z"
   },
   {
    "duration": 216,
    "start_time": "2022-05-27T22:25:59.428Z"
   },
   {
    "duration": 213,
    "start_time": "2022-05-27T22:25:59.645Z"
   },
   {
    "duration": 9,
    "start_time": "2022-05-27T22:25:59.860Z"
   },
   {
    "duration": 183,
    "start_time": "2022-05-27T22:25:59.870Z"
   },
   {
    "duration": 275,
    "start_time": "2022-05-27T22:26:00.054Z"
   },
   {
    "duration": 10,
    "start_time": "2022-05-27T22:26:00.331Z"
   },
   {
    "duration": 198,
    "start_time": "2022-05-27T22:26:00.342Z"
   },
   {
    "duration": 9,
    "start_time": "2022-05-27T22:26:00.542Z"
   },
   {
    "duration": 197,
    "start_time": "2022-05-27T22:26:00.553Z"
   },
   {
    "duration": 9,
    "start_time": "2022-05-27T22:26:00.752Z"
   },
   {
    "duration": 49,
    "start_time": "2022-05-27T22:26:00.762Z"
   },
   {
    "duration": 19,
    "start_time": "2022-05-27T22:26:00.813Z"
   },
   {
    "duration": 12,
    "start_time": "2022-05-27T22:26:00.833Z"
   },
   {
    "duration": 12,
    "start_time": "2022-05-27T22:26:00.847Z"
   },
   {
    "duration": 25,
    "start_time": "2022-05-27T22:26:00.860Z"
   },
   {
    "duration": 13,
    "start_time": "2022-05-27T22:26:00.886Z"
   },
   {
    "duration": 18,
    "start_time": "2022-05-27T22:26:00.901Z"
   },
   {
    "duration": 21,
    "start_time": "2022-05-27T22:26:00.921Z"
   },
   {
    "duration": 22,
    "start_time": "2022-05-27T22:26:00.943Z"
   },
   {
    "duration": 10,
    "start_time": "2022-05-27T22:26:00.970Z"
   },
   {
    "duration": 11,
    "start_time": "2022-05-27T22:26:00.982Z"
   },
   {
    "duration": 1136,
    "start_time": "2022-05-27T22:26:00.994Z"
   },
   {
    "duration": 5,
    "start_time": "2022-05-27T22:26:02.132Z"
   },
   {
    "duration": 140,
    "start_time": "2022-05-27T22:26:02.139Z"
   },
   {
    "duration": 0,
    "start_time": "2022-05-27T22:26:02.281Z"
   },
   {
    "duration": 0,
    "start_time": "2022-05-27T22:26:02.282Z"
   },
   {
    "duration": 0,
    "start_time": "2022-05-27T22:26:02.284Z"
   },
   {
    "duration": 16,
    "start_time": "2022-05-27T22:29:21.730Z"
   },
   {
    "duration": 166,
    "start_time": "2022-05-27T22:29:25.361Z"
   },
   {
    "duration": 170,
    "start_time": "2022-05-27T22:29:29.617Z"
   },
   {
    "duration": 159,
    "start_time": "2022-05-27T22:29:32.977Z"
   },
   {
    "duration": 1121,
    "start_time": "2022-05-27T22:29:38.926Z"
   },
   {
    "duration": 150,
    "start_time": "2022-05-27T22:29:40.049Z"
   },
   {
    "duration": 133,
    "start_time": "2022-05-27T22:29:40.201Z"
   },
   {
    "duration": 84,
    "start_time": "2022-05-27T22:29:40.335Z"
   },
   {
    "duration": 15,
    "start_time": "2022-05-27T22:29:40.421Z"
   },
   {
    "duration": 27,
    "start_time": "2022-05-27T22:29:40.437Z"
   },
   {
    "duration": 11,
    "start_time": "2022-05-27T22:29:40.466Z"
   },
   {
    "duration": 22,
    "start_time": "2022-05-27T22:29:40.478Z"
   },
   {
    "duration": 28,
    "start_time": "2022-05-27T22:29:40.502Z"
   },
   {
    "duration": 15,
    "start_time": "2022-05-27T22:29:40.531Z"
   },
   {
    "duration": 8,
    "start_time": "2022-05-27T22:29:40.547Z"
   },
   {
    "duration": 21,
    "start_time": "2022-05-27T22:29:40.556Z"
   },
   {
    "duration": 20,
    "start_time": "2022-05-27T22:29:40.578Z"
   },
   {
    "duration": 784,
    "start_time": "2022-05-27T22:29:40.601Z"
   },
   {
    "duration": 11,
    "start_time": "2022-05-27T22:29:41.386Z"
   },
   {
    "duration": 6,
    "start_time": "2022-05-27T22:29:41.398Z"
   },
   {
    "duration": 42,
    "start_time": "2022-05-27T22:29:41.405Z"
   },
   {
    "duration": 22,
    "start_time": "2022-05-27T22:29:41.449Z"
   },
   {
    "duration": 14,
    "start_time": "2022-05-27T22:29:41.473Z"
   },
   {
    "duration": 10,
    "start_time": "2022-05-27T22:29:41.489Z"
   },
   {
    "duration": 29,
    "start_time": "2022-05-27T22:29:41.501Z"
   },
   {
    "duration": 17,
    "start_time": "2022-05-27T22:29:41.532Z"
   },
   {
    "duration": 83,
    "start_time": "2022-05-27T22:29:41.551Z"
   },
   {
    "duration": 15,
    "start_time": "2022-05-27T22:29:41.636Z"
   },
   {
    "duration": 5,
    "start_time": "2022-05-27T22:29:41.652Z"
   },
   {
    "duration": 42,
    "start_time": "2022-05-27T22:29:41.659Z"
   },
   {
    "duration": 36,
    "start_time": "2022-05-27T22:29:41.703Z"
   },
   {
    "duration": 36,
    "start_time": "2022-05-27T22:29:41.741Z"
   },
   {
    "duration": 19,
    "start_time": "2022-05-27T22:29:41.779Z"
   },
   {
    "duration": 43,
    "start_time": "2022-05-27T22:29:41.800Z"
   },
   {
    "duration": 7,
    "start_time": "2022-05-27T22:29:41.845Z"
   },
   {
    "duration": 13,
    "start_time": "2022-05-27T22:29:41.854Z"
   },
   {
    "duration": 112,
    "start_time": "2022-05-27T22:29:41.868Z"
   },
   {
    "duration": 52,
    "start_time": "2022-05-27T22:29:41.981Z"
   },
   {
    "duration": 45,
    "start_time": "2022-05-27T22:29:42.034Z"
   },
   {
    "duration": 6,
    "start_time": "2022-05-27T22:29:42.081Z"
   },
   {
    "duration": 47,
    "start_time": "2022-05-27T22:29:42.088Z"
   },
   {
    "duration": 19,
    "start_time": "2022-05-27T22:29:42.136Z"
   },
   {
    "duration": 21,
    "start_time": "2022-05-27T22:29:42.156Z"
   },
   {
    "duration": 80,
    "start_time": "2022-05-27T22:29:42.179Z"
   },
   {
    "duration": 30,
    "start_time": "2022-05-27T22:29:42.264Z"
   },
   {
    "duration": 40,
    "start_time": "2022-05-27T22:29:42.296Z"
   },
   {
    "duration": 76,
    "start_time": "2022-05-27T22:29:42.337Z"
   },
   {
    "duration": 35,
    "start_time": "2022-05-27T22:29:42.415Z"
   },
   {
    "duration": 4,
    "start_time": "2022-05-27T22:29:42.453Z"
   },
   {
    "duration": 17,
    "start_time": "2022-05-27T22:29:42.459Z"
   },
   {
    "duration": 4,
    "start_time": "2022-05-27T22:29:42.478Z"
   },
   {
    "duration": 48,
    "start_time": "2022-05-27T22:29:42.484Z"
   },
   {
    "duration": 17,
    "start_time": "2022-05-27T22:29:42.534Z"
   },
   {
    "duration": 6,
    "start_time": "2022-05-27T22:29:42.553Z"
   },
   {
    "duration": 15,
    "start_time": "2022-05-27T22:29:42.560Z"
   },
   {
    "duration": 11,
    "start_time": "2022-05-27T22:29:42.577Z"
   },
   {
    "duration": 11,
    "start_time": "2022-05-27T22:29:42.589Z"
   },
   {
    "duration": 25,
    "start_time": "2022-05-27T22:29:42.602Z"
   },
   {
    "duration": 7,
    "start_time": "2022-05-27T22:29:42.629Z"
   },
   {
    "duration": 13,
    "start_time": "2022-05-27T22:29:42.637Z"
   },
   {
    "duration": 12,
    "start_time": "2022-05-27T22:29:42.651Z"
   },
   {
    "duration": 25,
    "start_time": "2022-05-27T22:29:42.664Z"
   },
   {
    "duration": 7,
    "start_time": "2022-05-27T22:29:42.690Z"
   },
   {
    "duration": 240,
    "start_time": "2022-05-27T22:29:42.699Z"
   },
   {
    "duration": 4,
    "start_time": "2022-05-27T22:29:42.940Z"
   },
   {
    "duration": 57,
    "start_time": "2022-05-27T22:29:42.946Z"
   },
   {
    "duration": 198,
    "start_time": "2022-05-27T22:29:43.004Z"
   },
   {
    "duration": 220,
    "start_time": "2022-05-27T22:29:43.204Z"
   },
   {
    "duration": 9,
    "start_time": "2022-05-27T22:29:43.426Z"
   },
   {
    "duration": 161,
    "start_time": "2022-05-27T22:29:43.436Z"
   },
   {
    "duration": 261,
    "start_time": "2022-05-27T22:29:43.599Z"
   },
   {
    "duration": 9,
    "start_time": "2022-05-27T22:29:43.861Z"
   },
   {
    "duration": 183,
    "start_time": "2022-05-27T22:29:43.872Z"
   },
   {
    "duration": 10,
    "start_time": "2022-05-27T22:29:44.056Z"
   },
   {
    "duration": 177,
    "start_time": "2022-05-27T22:29:44.067Z"
   },
   {
    "duration": 9,
    "start_time": "2022-05-27T22:29:44.246Z"
   },
   {
    "duration": 27,
    "start_time": "2022-05-27T22:29:44.257Z"
   },
   {
    "duration": 6,
    "start_time": "2022-05-27T22:29:44.286Z"
   },
   {
    "duration": 9,
    "start_time": "2022-05-27T22:29:44.293Z"
   },
   {
    "duration": 11,
    "start_time": "2022-05-27T22:29:44.327Z"
   },
   {
    "duration": 9,
    "start_time": "2022-05-27T22:29:44.339Z"
   },
   {
    "duration": 9,
    "start_time": "2022-05-27T22:29:44.349Z"
   },
   {
    "duration": 7,
    "start_time": "2022-05-27T22:29:44.359Z"
   },
   {
    "duration": 7,
    "start_time": "2022-05-27T22:29:44.368Z"
   },
   {
    "duration": 8,
    "start_time": "2022-05-27T22:29:44.376Z"
   },
   {
    "duration": 41,
    "start_time": "2022-05-27T22:29:44.386Z"
   },
   {
    "duration": 2,
    "start_time": "2022-05-27T22:29:44.429Z"
   },
   {
    "duration": 1058,
    "start_time": "2022-05-27T22:29:44.432Z"
   },
   {
    "duration": 183,
    "start_time": "2022-05-27T22:29:45.491Z"
   },
   {
    "duration": 172,
    "start_time": "2022-05-27T22:29:45.676Z"
   },
   {
    "duration": 160,
    "start_time": "2022-05-27T22:29:45.849Z"
   },
   {
    "duration": 51,
    "start_time": "2022-05-27T22:29:46.011Z"
   },
   {
    "duration": 1414,
    "start_time": "2023-02-06T11:03:43.510Z"
   },
   {
    "duration": 258,
    "start_time": "2023-02-06T11:03:44.925Z"
   },
   {
    "duration": 443,
    "start_time": "2023-02-06T11:03:45.185Z"
   },
   {
    "duration": 142,
    "start_time": "2023-02-06T11:03:45.629Z"
   },
   {
    "duration": 51,
    "start_time": "2023-02-06T11:03:45.773Z"
   },
   {
    "duration": 63,
    "start_time": "2023-02-06T11:03:45.826Z"
   },
   {
    "duration": 12,
    "start_time": "2023-02-06T11:03:45.891Z"
   },
   {
    "duration": 28,
    "start_time": "2023-02-06T11:03:45.905Z"
   },
   {
    "duration": 29,
    "start_time": "2023-02-06T11:03:45.934Z"
   },
   {
    "duration": 15,
    "start_time": "2023-02-06T11:03:45.964Z"
   },
   {
    "duration": 29,
    "start_time": "2023-02-06T11:03:45.980Z"
   },
   {
    "duration": 24,
    "start_time": "2023-02-06T11:03:46.011Z"
   },
   {
    "duration": 27,
    "start_time": "2023-02-06T11:03:46.037Z"
   },
   {
    "duration": 854,
    "start_time": "2023-02-06T11:03:46.067Z"
   },
   {
    "duration": 14,
    "start_time": "2023-02-06T11:03:46.923Z"
   },
   {
    "duration": 8,
    "start_time": "2023-02-06T11:03:46.938Z"
   },
   {
    "duration": 21,
    "start_time": "2023-02-06T11:03:46.947Z"
   },
   {
    "duration": 35,
    "start_time": "2023-02-06T11:03:46.970Z"
   },
   {
    "duration": 11,
    "start_time": "2023-02-06T11:03:47.007Z"
   },
   {
    "duration": 8,
    "start_time": "2023-02-06T11:03:47.020Z"
   },
   {
    "duration": 13,
    "start_time": "2023-02-06T11:03:47.030Z"
   },
   {
    "duration": 13,
    "start_time": "2023-02-06T11:03:47.045Z"
   },
   {
    "duration": 14,
    "start_time": "2023-02-06T11:03:47.060Z"
   },
   {
    "duration": 14,
    "start_time": "2023-02-06T11:03:47.104Z"
   },
   {
    "duration": 12,
    "start_time": "2023-02-06T11:03:47.119Z"
   },
   {
    "duration": 50,
    "start_time": "2023-02-06T11:03:47.132Z"
   },
   {
    "duration": 57,
    "start_time": "2023-02-06T11:03:47.184Z"
   },
   {
    "duration": 28,
    "start_time": "2023-02-06T11:03:47.243Z"
   },
   {
    "duration": 45,
    "start_time": "2023-02-06T11:03:47.274Z"
   },
   {
    "duration": 8,
    "start_time": "2023-02-06T11:03:47.320Z"
   },
   {
    "duration": 15,
    "start_time": "2023-02-06T11:03:47.330Z"
   },
   {
    "duration": 119,
    "start_time": "2023-02-06T11:03:47.346Z"
   },
   {
    "duration": 53,
    "start_time": "2023-02-06T11:03:47.467Z"
   },
   {
    "duration": 47,
    "start_time": "2023-02-06T11:03:47.521Z"
   },
   {
    "duration": 8,
    "start_time": "2023-02-06T11:03:47.570Z"
   },
   {
    "duration": 47,
    "start_time": "2023-02-06T11:03:47.579Z"
   },
   {
    "duration": 18,
    "start_time": "2023-02-06T11:03:47.627Z"
   },
   {
    "duration": 23,
    "start_time": "2023-02-06T11:03:47.647Z"
   },
   {
    "duration": 87,
    "start_time": "2023-02-06T11:03:47.672Z"
   },
   {
    "duration": 43,
    "start_time": "2023-02-06T11:03:47.761Z"
   },
   {
    "duration": 27,
    "start_time": "2023-02-06T11:03:47.809Z"
   },
   {
    "duration": 107,
    "start_time": "2023-02-06T11:03:47.838Z"
   },
   {
    "duration": 23,
    "start_time": "2023-02-06T11:03:47.947Z"
   },
   {
    "duration": 6,
    "start_time": "2023-02-06T11:03:47.971Z"
   },
   {
    "duration": 40,
    "start_time": "2023-02-06T11:03:47.978Z"
   },
   {
    "duration": 20,
    "start_time": "2023-02-06T11:03:48.020Z"
   },
   {
    "duration": 21,
    "start_time": "2023-02-06T11:03:48.041Z"
   },
   {
    "duration": 139,
    "start_time": "2023-02-06T11:03:48.064Z"
   },
   {
    "duration": 0,
    "start_time": "2023-02-06T11:03:48.205Z"
   },
   {
    "duration": 0,
    "start_time": "2023-02-06T11:03:48.206Z"
   },
   {
    "duration": 0,
    "start_time": "2023-02-06T11:03:48.208Z"
   },
   {
    "duration": 0,
    "start_time": "2023-02-06T11:03:48.209Z"
   },
   {
    "duration": 0,
    "start_time": "2023-02-06T11:03:48.211Z"
   },
   {
    "duration": 0,
    "start_time": "2023-02-06T11:03:48.212Z"
   },
   {
    "duration": 0,
    "start_time": "2023-02-06T11:03:48.213Z"
   },
   {
    "duration": 0,
    "start_time": "2023-02-06T11:03:48.214Z"
   },
   {
    "duration": 0,
    "start_time": "2023-02-06T11:03:48.215Z"
   },
   {
    "duration": 0,
    "start_time": "2023-02-06T11:03:48.217Z"
   },
   {
    "duration": 0,
    "start_time": "2023-02-06T11:03:48.218Z"
   },
   {
    "duration": 0,
    "start_time": "2023-02-06T11:03:48.219Z"
   },
   {
    "duration": 0,
    "start_time": "2023-02-06T11:03:48.220Z"
   },
   {
    "duration": 0,
    "start_time": "2023-02-06T11:03:48.221Z"
   },
   {
    "duration": 0,
    "start_time": "2023-02-06T11:03:48.222Z"
   },
   {
    "duration": 0,
    "start_time": "2023-02-06T11:03:48.223Z"
   },
   {
    "duration": 0,
    "start_time": "2023-02-06T11:03:48.224Z"
   },
   {
    "duration": 0,
    "start_time": "2023-02-06T11:03:48.225Z"
   },
   {
    "duration": 0,
    "start_time": "2023-02-06T11:03:48.227Z"
   },
   {
    "duration": 0,
    "start_time": "2023-02-06T11:03:48.228Z"
   },
   {
    "duration": 0,
    "start_time": "2023-02-06T11:03:48.230Z"
   },
   {
    "duration": 0,
    "start_time": "2023-02-06T11:03:48.231Z"
   },
   {
    "duration": 0,
    "start_time": "2023-02-06T11:03:48.232Z"
   },
   {
    "duration": 0,
    "start_time": "2023-02-06T11:03:48.233Z"
   },
   {
    "duration": 0,
    "start_time": "2023-02-06T11:03:48.234Z"
   },
   {
    "duration": 0,
    "start_time": "2023-02-06T11:03:48.235Z"
   },
   {
    "duration": 0,
    "start_time": "2023-02-06T11:03:48.236Z"
   },
   {
    "duration": 0,
    "start_time": "2023-02-06T11:03:48.237Z"
   },
   {
    "duration": 0,
    "start_time": "2023-02-06T11:03:48.239Z"
   },
   {
    "duration": 0,
    "start_time": "2023-02-06T11:03:48.240Z"
   },
   {
    "duration": 0,
    "start_time": "2023-02-06T11:03:48.241Z"
   },
   {
    "duration": 1158,
    "start_time": "2023-02-06T11:06:50.075Z"
   },
   {
    "duration": 164,
    "start_time": "2023-02-06T11:06:51.235Z"
   },
   {
    "duration": 149,
    "start_time": "2023-02-06T11:06:51.401Z"
   },
   {
    "duration": 88,
    "start_time": "2023-02-06T11:06:51.552Z"
   },
   {
    "duration": 14,
    "start_time": "2023-02-06T11:06:51.642Z"
   },
   {
    "duration": 26,
    "start_time": "2023-02-06T11:06:51.658Z"
   },
   {
    "duration": 14,
    "start_time": "2023-02-06T11:06:51.686Z"
   },
   {
    "duration": 34,
    "start_time": "2023-02-06T11:06:51.703Z"
   },
   {
    "duration": 37,
    "start_time": "2023-02-06T11:06:51.738Z"
   },
   {
    "duration": 26,
    "start_time": "2023-02-06T11:06:51.778Z"
   },
   {
    "duration": 10,
    "start_time": "2023-02-06T11:06:51.806Z"
   },
   {
    "duration": 38,
    "start_time": "2023-02-06T11:06:51.819Z"
   },
   {
    "duration": 26,
    "start_time": "2023-02-06T11:06:51.859Z"
   },
   {
    "duration": 847,
    "start_time": "2023-02-06T11:06:51.902Z"
   },
   {
    "duration": 15,
    "start_time": "2023-02-06T11:06:52.751Z"
   },
   {
    "duration": 10,
    "start_time": "2023-02-06T11:06:52.768Z"
   },
   {
    "duration": 41,
    "start_time": "2023-02-06T11:06:52.779Z"
   },
   {
    "duration": 15,
    "start_time": "2023-02-06T11:06:52.822Z"
   },
   {
    "duration": 11,
    "start_time": "2023-02-06T11:06:52.839Z"
   },
   {
    "duration": 9,
    "start_time": "2023-02-06T11:06:52.852Z"
   },
   {
    "duration": 45,
    "start_time": "2023-02-06T11:06:52.863Z"
   },
   {
    "duration": 29,
    "start_time": "2023-02-06T11:06:52.910Z"
   },
   {
    "duration": 13,
    "start_time": "2023-02-06T11:06:52.941Z"
   },
   {
    "duration": 20,
    "start_time": "2023-02-06T11:06:52.956Z"
   },
   {
    "duration": 19,
    "start_time": "2023-02-06T11:06:52.978Z"
   },
   {
    "duration": 53,
    "start_time": "2023-02-06T11:06:52.999Z"
   },
   {
    "duration": 52,
    "start_time": "2023-02-06T11:06:53.053Z"
   },
   {
    "duration": 25,
    "start_time": "2023-02-06T11:06:53.110Z"
   },
   {
    "duration": 27,
    "start_time": "2023-02-06T11:06:53.137Z"
   },
   {
    "duration": 7,
    "start_time": "2023-02-06T11:06:53.166Z"
   },
   {
    "duration": 42,
    "start_time": "2023-02-06T11:06:53.175Z"
   },
   {
    "duration": 126,
    "start_time": "2023-02-06T11:06:53.219Z"
   },
   {
    "duration": 58,
    "start_time": "2023-02-06T11:06:53.346Z"
   },
   {
    "duration": 49,
    "start_time": "2023-02-06T11:06:53.406Z"
   },
   {
    "duration": 7,
    "start_time": "2023-02-06T11:06:53.457Z"
   },
   {
    "duration": 50,
    "start_time": "2023-02-06T11:06:53.466Z"
   },
   {
    "duration": 20,
    "start_time": "2023-02-06T11:06:53.518Z"
   },
   {
    "duration": 24,
    "start_time": "2023-02-06T11:06:53.540Z"
   },
   {
    "duration": 85,
    "start_time": "2023-02-06T11:06:53.565Z"
   },
   {
    "duration": 34,
    "start_time": "2023-02-06T11:06:53.652Z"
   },
   {
    "duration": 39,
    "start_time": "2023-02-06T11:06:53.687Z"
   },
   {
    "duration": 96,
    "start_time": "2023-02-06T11:06:53.727Z"
   },
   {
    "duration": 20,
    "start_time": "2023-02-06T11:06:53.825Z"
   },
   {
    "duration": 5,
    "start_time": "2023-02-06T11:06:53.848Z"
   },
   {
    "duration": 29,
    "start_time": "2023-02-06T11:06:53.855Z"
   },
   {
    "duration": 19,
    "start_time": "2023-02-06T11:06:53.902Z"
   },
   {
    "duration": 6,
    "start_time": "2023-02-06T11:06:53.923Z"
   },
   {
    "duration": 12,
    "start_time": "2023-02-06T11:06:53.930Z"
   },
   {
    "duration": 10,
    "start_time": "2023-02-06T11:06:53.944Z"
   },
   {
    "duration": 12,
    "start_time": "2023-02-06T11:06:53.955Z"
   },
   {
    "duration": 35,
    "start_time": "2023-02-06T11:06:53.969Z"
   },
   {
    "duration": 8,
    "start_time": "2023-02-06T11:06:54.006Z"
   },
   {
    "duration": 20,
    "start_time": "2023-02-06T11:06:54.016Z"
   },
   {
    "duration": 9,
    "start_time": "2023-02-06T11:06:54.038Z"
   },
   {
    "duration": 10,
    "start_time": "2023-02-06T11:06:54.048Z"
   },
   {
    "duration": 12,
    "start_time": "2023-02-06T11:06:54.060Z"
   },
   {
    "duration": 62,
    "start_time": "2023-02-06T11:06:54.074Z"
   },
   {
    "duration": 8,
    "start_time": "2023-02-06T11:06:54.138Z"
   },
   {
    "duration": 324,
    "start_time": "2023-02-06T11:06:54.148Z"
   },
   {
    "duration": 74,
    "start_time": "2023-02-06T11:06:54.474Z"
   },
   {
    "duration": 300,
    "start_time": "2023-02-06T11:06:54.549Z"
   },
   {
    "duration": 227,
    "start_time": "2023-02-06T11:06:54.850Z"
   },
   {
    "duration": 15,
    "start_time": "2023-02-06T11:06:55.079Z"
   },
   {
    "duration": 188,
    "start_time": "2023-02-06T11:06:55.104Z"
   },
   {
    "duration": 226,
    "start_time": "2023-02-06T11:06:55.294Z"
   },
   {
    "duration": 11,
    "start_time": "2023-02-06T11:06:55.521Z"
   },
   {
    "duration": 220,
    "start_time": "2023-02-06T11:06:55.534Z"
   },
   {
    "duration": 9,
    "start_time": "2023-02-06T11:06:55.756Z"
   },
   {
    "duration": 217,
    "start_time": "2023-02-06T11:06:55.767Z"
   },
   {
    "duration": 9,
    "start_time": "2023-02-06T11:06:55.986Z"
   },
   {
    "duration": 8,
    "start_time": "2023-02-06T11:06:56.003Z"
   },
   {
    "duration": 7,
    "start_time": "2023-02-06T11:06:56.013Z"
   },
   {
    "duration": 11,
    "start_time": "2023-02-06T11:06:56.022Z"
   },
   {
    "duration": 10,
    "start_time": "2023-02-06T11:06:56.035Z"
   },
   {
    "duration": 7,
    "start_time": "2023-02-06T11:06:56.046Z"
   },
   {
    "duration": 7,
    "start_time": "2023-02-06T11:06:56.055Z"
   },
   {
    "duration": 9,
    "start_time": "2023-02-06T11:06:56.104Z"
   },
   {
    "duration": 16,
    "start_time": "2023-02-06T11:06:56.114Z"
   },
   {
    "duration": 9,
    "start_time": "2023-02-06T11:06:56.132Z"
   }
  ],
  "kernelspec": {
   "display_name": "Python 3 (ipykernel)",
   "language": "python",
   "name": "python3"
  },
  "language_info": {
   "codemirror_mode": {
    "name": "ipython",
    "version": 3
   },
   "file_extension": ".py",
   "mimetype": "text/x-python",
   "name": "python",
   "nbconvert_exporter": "python",
   "pygments_lexer": "ipython3",
   "version": "3.9.5"
  },
  "toc": {
   "base_numbering": 1,
   "nav_menu": {},
   "number_sections": true,
   "sideBar": true,
   "skip_h1_title": true,
   "title_cell": "Table of Contents",
   "title_sidebar": "Contents",
   "toc_cell": false,
   "toc_position": {
    "height": "calc(100% - 180px)",
    "left": "10px",
    "top": "150px",
    "width": "183px"
   },
   "toc_section_display": true,
   "toc_window_display": true
  }
 },
 "nbformat": 4,
 "nbformat_minor": 2
}
