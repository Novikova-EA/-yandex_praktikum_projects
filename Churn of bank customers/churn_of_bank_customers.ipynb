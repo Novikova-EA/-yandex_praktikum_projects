{
 "cells": [
  {
   "cell_type": "markdown",
   "metadata": {},
   "source": [
    "# Прогнозирование оттока клиентов банка"
   ]
  },
  {
   "cell_type": "markdown",
   "metadata": {},
   "source": [
    "**Описание проекта**\n",
    "\n",
    "Из банка стали уходить клиенты. Каждый месяц. Немного, но заметно. Банковские маркетологи посчитали: сохранять текущих клиентов дешевле, чем привлекать новых. Нужно спрогнозировать, уйдёт клиент из банка в ближайшее время или нет. Предоставлены исторические данные о поведении клиентов и расторжении договоров с банком.\n",
    "\n",
    "**Задача**\n",
    "\n",
    "На основе данных из банка определить клиента, который может уйти.\n",
    "\n",
    "Таким образом, исследование пройдёт в четыре этапа:\n",
    "\n",
    "1. Подготовка данных.\n",
    "2. Исследование задачи.\n",
    "3. Борьба с дисбалансом.\n",
    "4. Тестирование модели.\n"
   ]
  },
  {
   "cell_type": "markdown",
   "metadata": {},
   "source": [
    "## Подготовка данных"
   ]
  },
  {
   "cell_type": "markdown",
   "metadata": {},
   "source": [
    "### Изучение данных из файла"
   ]
  },
  {
   "cell_type": "code",
   "execution_count": 1,
   "metadata": {},
   "outputs": [],
   "source": [
    "import pandas as pd\n",
    "import matplotlib.pyplot as plt\n",
    "import numpy as np\n",
    "from sklearn.tree import DecisionTreeClassifier\n",
    "from sklearn.model_selection import train_test_split\n",
    "from sklearn.ensemble import RandomForestClassifier\n",
    "from sklearn.linear_model import LogisticRegression\n",
    "from sklearn.preprocessing import StandardScaler\n",
    "from sklearn.metrics import f1_score\n",
    "from sklearn.utils import shuffle\n",
    "from sklearn.metrics import roc_auc_score\n",
    "from sklearn.metrics import roc_curve \n",
    "from sklearn.metrics import accuracy_score\n",
    "import random\n",
    "\n"
   ]
  },
  {
   "cell_type": "code",
   "execution_count": 2,
   "metadata": {},
   "outputs": [
    {
     "name": "stdout",
     "output_type": "stream",
     "text": [
      "(10000, 14)\n"
     ]
    },
    {
     "data": {
      "text/html": [
       "<div>\n",
       "<style scoped>\n",
       "    .dataframe tbody tr th:only-of-type {\n",
       "        vertical-align: middle;\n",
       "    }\n",
       "\n",
       "    .dataframe tbody tr th {\n",
       "        vertical-align: top;\n",
       "    }\n",
       "\n",
       "    .dataframe thead th {\n",
       "        text-align: right;\n",
       "    }\n",
       "</style>\n",
       "<table border=\"1\" class=\"dataframe\">\n",
       "  <thead>\n",
       "    <tr style=\"text-align: right;\">\n",
       "      <th></th>\n",
       "      <th>RowNumber</th>\n",
       "      <th>CustomerId</th>\n",
       "      <th>Surname</th>\n",
       "      <th>CreditScore</th>\n",
       "      <th>Geography</th>\n",
       "      <th>Gender</th>\n",
       "      <th>Age</th>\n",
       "      <th>Tenure</th>\n",
       "      <th>Balance</th>\n",
       "      <th>NumOfProducts</th>\n",
       "      <th>HasCrCard</th>\n",
       "      <th>IsActiveMember</th>\n",
       "      <th>EstimatedSalary</th>\n",
       "      <th>Exited</th>\n",
       "    </tr>\n",
       "  </thead>\n",
       "  <tbody>\n",
       "    <tr>\n",
       "      <th>0</th>\n",
       "      <td>1</td>\n",
       "      <td>15634602</td>\n",
       "      <td>Hargrave</td>\n",
       "      <td>619</td>\n",
       "      <td>France</td>\n",
       "      <td>Female</td>\n",
       "      <td>42</td>\n",
       "      <td>2.0</td>\n",
       "      <td>0.00</td>\n",
       "      <td>1</td>\n",
       "      <td>1</td>\n",
       "      <td>1</td>\n",
       "      <td>101348.88</td>\n",
       "      <td>1</td>\n",
       "    </tr>\n",
       "    <tr>\n",
       "      <th>1</th>\n",
       "      <td>2</td>\n",
       "      <td>15647311</td>\n",
       "      <td>Hill</td>\n",
       "      <td>608</td>\n",
       "      <td>Spain</td>\n",
       "      <td>Female</td>\n",
       "      <td>41</td>\n",
       "      <td>1.0</td>\n",
       "      <td>83807.86</td>\n",
       "      <td>1</td>\n",
       "      <td>0</td>\n",
       "      <td>1</td>\n",
       "      <td>112542.58</td>\n",
       "      <td>0</td>\n",
       "    </tr>\n",
       "    <tr>\n",
       "      <th>2</th>\n",
       "      <td>3</td>\n",
       "      <td>15619304</td>\n",
       "      <td>Onio</td>\n",
       "      <td>502</td>\n",
       "      <td>France</td>\n",
       "      <td>Female</td>\n",
       "      <td>42</td>\n",
       "      <td>8.0</td>\n",
       "      <td>159660.80</td>\n",
       "      <td>3</td>\n",
       "      <td>1</td>\n",
       "      <td>0</td>\n",
       "      <td>113931.57</td>\n",
       "      <td>1</td>\n",
       "    </tr>\n",
       "    <tr>\n",
       "      <th>3</th>\n",
       "      <td>4</td>\n",
       "      <td>15701354</td>\n",
       "      <td>Boni</td>\n",
       "      <td>699</td>\n",
       "      <td>France</td>\n",
       "      <td>Female</td>\n",
       "      <td>39</td>\n",
       "      <td>1.0</td>\n",
       "      <td>0.00</td>\n",
       "      <td>2</td>\n",
       "      <td>0</td>\n",
       "      <td>0</td>\n",
       "      <td>93826.63</td>\n",
       "      <td>0</td>\n",
       "    </tr>\n",
       "    <tr>\n",
       "      <th>4</th>\n",
       "      <td>5</td>\n",
       "      <td>15737888</td>\n",
       "      <td>Mitchell</td>\n",
       "      <td>850</td>\n",
       "      <td>Spain</td>\n",
       "      <td>Female</td>\n",
       "      <td>43</td>\n",
       "      <td>2.0</td>\n",
       "      <td>125510.82</td>\n",
       "      <td>1</td>\n",
       "      <td>1</td>\n",
       "      <td>1</td>\n",
       "      <td>79084.10</td>\n",
       "      <td>0</td>\n",
       "    </tr>\n",
       "  </tbody>\n",
       "</table>\n",
       "</div>"
      ],
      "text/plain": [
       "   RowNumber  CustomerId   Surname  CreditScore Geography  Gender  Age  \\\n",
       "0          1    15634602  Hargrave          619    France  Female   42   \n",
       "1          2    15647311      Hill          608     Spain  Female   41   \n",
       "2          3    15619304      Onio          502    France  Female   42   \n",
       "3          4    15701354      Boni          699    France  Female   39   \n",
       "4          5    15737888  Mitchell          850     Spain  Female   43   \n",
       "\n",
       "   Tenure    Balance  NumOfProducts  HasCrCard  IsActiveMember  \\\n",
       "0     2.0       0.00              1          1               1   \n",
       "1     1.0   83807.86              1          0               1   \n",
       "2     8.0  159660.80              3          1               0   \n",
       "3     1.0       0.00              2          0               0   \n",
       "4     2.0  125510.82              1          1               1   \n",
       "\n",
       "   EstimatedSalary  Exited  \n",
       "0        101348.88       1  \n",
       "1        112542.58       0  \n",
       "2        113931.57       1  \n",
       "3         93826.63       0  \n",
       "4         79084.10       0  "
      ]
     },
     "execution_count": 2,
     "metadata": {},
     "output_type": "execute_result"
    }
   ],
   "source": [
    "df = pd.read_csv('/datasets/Churn.csv')\n",
    "print(df.shape)\n",
    "df.head()"
   ]
  },
  {
   "cell_type": "code",
   "execution_count": 3,
   "metadata": {},
   "outputs": [
    {
     "name": "stdout",
     "output_type": "stream",
     "text": [
      "<class 'pandas.core.frame.DataFrame'>\n",
      "RangeIndex: 10000 entries, 0 to 9999\n",
      "Data columns (total 14 columns):\n",
      " #   Column           Non-Null Count  Dtype  \n",
      "---  ------           --------------  -----  \n",
      " 0   RowNumber        10000 non-null  int64  \n",
      " 1   CustomerId       10000 non-null  int64  \n",
      " 2   Surname          10000 non-null  object \n",
      " 3   CreditScore      10000 non-null  int64  \n",
      " 4   Geography        10000 non-null  object \n",
      " 5   Gender           10000 non-null  object \n",
      " 6   Age              10000 non-null  int64  \n",
      " 7   Tenure           9091 non-null   float64\n",
      " 8   Balance          10000 non-null  float64\n",
      " 9   NumOfProducts    10000 non-null  int64  \n",
      " 10  HasCrCard        10000 non-null  int64  \n",
      " 11  IsActiveMember   10000 non-null  int64  \n",
      " 12  EstimatedSalary  10000 non-null  float64\n",
      " 13  Exited           10000 non-null  int64  \n",
      "dtypes: float64(3), int64(8), object(3)\n",
      "memory usage: 1.1+ MB\n"
     ]
    }
   ],
   "source": [
    "df.info()"
   ]
  },
  {
   "cell_type": "code",
   "execution_count": 4,
   "metadata": {
    "scrolled": true
   },
   "outputs": [
    {
     "data": {
      "text/html": [
       "<div>\n",
       "<style scoped>\n",
       "    .dataframe tbody tr th:only-of-type {\n",
       "        vertical-align: middle;\n",
       "    }\n",
       "\n",
       "    .dataframe tbody tr th {\n",
       "        vertical-align: top;\n",
       "    }\n",
       "\n",
       "    .dataframe thead th {\n",
       "        text-align: right;\n",
       "    }\n",
       "</style>\n",
       "<table border=\"1\" class=\"dataframe\">\n",
       "  <thead>\n",
       "    <tr style=\"text-align: right;\">\n",
       "      <th></th>\n",
       "      <th>count</th>\n",
       "      <th>mean</th>\n",
       "      <th>std</th>\n",
       "      <th>min</th>\n",
       "      <th>25%</th>\n",
       "      <th>50%</th>\n",
       "      <th>75%</th>\n",
       "      <th>max</th>\n",
       "    </tr>\n",
       "  </thead>\n",
       "  <tbody>\n",
       "    <tr>\n",
       "      <th>RowNumber</th>\n",
       "      <td>10000.0</td>\n",
       "      <td>5.000500e+03</td>\n",
       "      <td>2886.895680</td>\n",
       "      <td>1.00</td>\n",
       "      <td>2500.75</td>\n",
       "      <td>5.000500e+03</td>\n",
       "      <td>7.500250e+03</td>\n",
       "      <td>10000.00</td>\n",
       "    </tr>\n",
       "    <tr>\n",
       "      <th>CustomerId</th>\n",
       "      <td>10000.0</td>\n",
       "      <td>1.569094e+07</td>\n",
       "      <td>71936.186123</td>\n",
       "      <td>15565701.00</td>\n",
       "      <td>15628528.25</td>\n",
       "      <td>1.569074e+07</td>\n",
       "      <td>1.575323e+07</td>\n",
       "      <td>15815690.00</td>\n",
       "    </tr>\n",
       "    <tr>\n",
       "      <th>CreditScore</th>\n",
       "      <td>10000.0</td>\n",
       "      <td>6.505288e+02</td>\n",
       "      <td>96.653299</td>\n",
       "      <td>350.00</td>\n",
       "      <td>584.00</td>\n",
       "      <td>6.520000e+02</td>\n",
       "      <td>7.180000e+02</td>\n",
       "      <td>850.00</td>\n",
       "    </tr>\n",
       "    <tr>\n",
       "      <th>Age</th>\n",
       "      <td>10000.0</td>\n",
       "      <td>3.892180e+01</td>\n",
       "      <td>10.487806</td>\n",
       "      <td>18.00</td>\n",
       "      <td>32.00</td>\n",
       "      <td>3.700000e+01</td>\n",
       "      <td>4.400000e+01</td>\n",
       "      <td>92.00</td>\n",
       "    </tr>\n",
       "    <tr>\n",
       "      <th>Tenure</th>\n",
       "      <td>9091.0</td>\n",
       "      <td>4.997690e+00</td>\n",
       "      <td>2.894723</td>\n",
       "      <td>0.00</td>\n",
       "      <td>2.00</td>\n",
       "      <td>5.000000e+00</td>\n",
       "      <td>7.000000e+00</td>\n",
       "      <td>10.00</td>\n",
       "    </tr>\n",
       "    <tr>\n",
       "      <th>Balance</th>\n",
       "      <td>10000.0</td>\n",
       "      <td>7.648589e+04</td>\n",
       "      <td>62397.405202</td>\n",
       "      <td>0.00</td>\n",
       "      <td>0.00</td>\n",
       "      <td>9.719854e+04</td>\n",
       "      <td>1.276442e+05</td>\n",
       "      <td>250898.09</td>\n",
       "    </tr>\n",
       "    <tr>\n",
       "      <th>NumOfProducts</th>\n",
       "      <td>10000.0</td>\n",
       "      <td>1.530200e+00</td>\n",
       "      <td>0.581654</td>\n",
       "      <td>1.00</td>\n",
       "      <td>1.00</td>\n",
       "      <td>1.000000e+00</td>\n",
       "      <td>2.000000e+00</td>\n",
       "      <td>4.00</td>\n",
       "    </tr>\n",
       "    <tr>\n",
       "      <th>HasCrCard</th>\n",
       "      <td>10000.0</td>\n",
       "      <td>7.055000e-01</td>\n",
       "      <td>0.455840</td>\n",
       "      <td>0.00</td>\n",
       "      <td>0.00</td>\n",
       "      <td>1.000000e+00</td>\n",
       "      <td>1.000000e+00</td>\n",
       "      <td>1.00</td>\n",
       "    </tr>\n",
       "    <tr>\n",
       "      <th>IsActiveMember</th>\n",
       "      <td>10000.0</td>\n",
       "      <td>5.151000e-01</td>\n",
       "      <td>0.499797</td>\n",
       "      <td>0.00</td>\n",
       "      <td>0.00</td>\n",
       "      <td>1.000000e+00</td>\n",
       "      <td>1.000000e+00</td>\n",
       "      <td>1.00</td>\n",
       "    </tr>\n",
       "    <tr>\n",
       "      <th>EstimatedSalary</th>\n",
       "      <td>10000.0</td>\n",
       "      <td>1.000902e+05</td>\n",
       "      <td>57510.492818</td>\n",
       "      <td>11.58</td>\n",
       "      <td>51002.11</td>\n",
       "      <td>1.001939e+05</td>\n",
       "      <td>1.493882e+05</td>\n",
       "      <td>199992.48</td>\n",
       "    </tr>\n",
       "    <tr>\n",
       "      <th>Exited</th>\n",
       "      <td>10000.0</td>\n",
       "      <td>2.037000e-01</td>\n",
       "      <td>0.402769</td>\n",
       "      <td>0.00</td>\n",
       "      <td>0.00</td>\n",
       "      <td>0.000000e+00</td>\n",
       "      <td>0.000000e+00</td>\n",
       "      <td>1.00</td>\n",
       "    </tr>\n",
       "  </tbody>\n",
       "</table>\n",
       "</div>"
      ],
      "text/plain": [
       "                   count          mean           std          min  \\\n",
       "RowNumber        10000.0  5.000500e+03   2886.895680         1.00   \n",
       "CustomerId       10000.0  1.569094e+07  71936.186123  15565701.00   \n",
       "CreditScore      10000.0  6.505288e+02     96.653299       350.00   \n",
       "Age              10000.0  3.892180e+01     10.487806        18.00   \n",
       "Tenure            9091.0  4.997690e+00      2.894723         0.00   \n",
       "Balance          10000.0  7.648589e+04  62397.405202         0.00   \n",
       "NumOfProducts    10000.0  1.530200e+00      0.581654         1.00   \n",
       "HasCrCard        10000.0  7.055000e-01      0.455840         0.00   \n",
       "IsActiveMember   10000.0  5.151000e-01      0.499797         0.00   \n",
       "EstimatedSalary  10000.0  1.000902e+05  57510.492818        11.58   \n",
       "Exited           10000.0  2.037000e-01      0.402769         0.00   \n",
       "\n",
       "                         25%           50%           75%          max  \n",
       "RowNumber            2500.75  5.000500e+03  7.500250e+03     10000.00  \n",
       "CustomerId       15628528.25  1.569074e+07  1.575323e+07  15815690.00  \n",
       "CreditScore           584.00  6.520000e+02  7.180000e+02       850.00  \n",
       "Age                    32.00  3.700000e+01  4.400000e+01        92.00  \n",
       "Tenure                  2.00  5.000000e+00  7.000000e+00        10.00  \n",
       "Balance                 0.00  9.719854e+04  1.276442e+05    250898.09  \n",
       "NumOfProducts           1.00  1.000000e+00  2.000000e+00         4.00  \n",
       "HasCrCard               0.00  1.000000e+00  1.000000e+00         1.00  \n",
       "IsActiveMember          0.00  1.000000e+00  1.000000e+00         1.00  \n",
       "EstimatedSalary     51002.11  1.001939e+05  1.493882e+05    199992.48  \n",
       "Exited                  0.00  0.000000e+00  0.000000e+00         1.00  "
      ]
     },
     "execution_count": 4,
     "metadata": {},
     "output_type": "execute_result"
    }
   ],
   "source": [
    "df.describe().T"
   ]
  },
  {
   "cell_type": "code",
   "execution_count": 5,
   "metadata": {},
   "outputs": [
    {
     "data": {
      "text/plain": [
       "0"
      ]
     },
     "execution_count": 5,
     "metadata": {},
     "output_type": "execute_result"
    }
   ],
   "source": [
    "df.duplicated().sum()"
   ]
  },
  {
   "cell_type": "markdown",
   "metadata": {},
   "source": [
    "**Вывод** \n",
    "\n",
    "Файл содержит 14 столбцов, из них 3 столбца имеют тип данных float64, 3 столбца object, 8 столбцов int64, и 10000 строк. \n",
    "\n",
    "В столбце **Tenure** обнаружены пропущенные значения. \n",
    "\n",
    "Дубликаты не найдены.\n",
    "\n",
    "Каждый объект в наборе данных — это информация о поведении клиента и расторжении договора с банком.\n",
    "\n",
    "Признаки:\n",
    "*\t`RowNumber` — индекс строки в данных\n",
    "*\t`CustomerId` — уникальный идентификатор клиента\n",
    "*\t`Surname` — фамилия\n",
    "*\t`CreditScore` — кредитный рейтинг\n",
    "*\t`Geography` — страна проживания\n",
    "*\t`Gender` — пол\n",
    "*\t`Age` — возраст\n",
    "*\t`Tenure` — сколько лет человек является клиентом банка\n",
    "*\t`Balance` — баланс на счёте\n",
    "*\t`NumOfProducts` — количество продуктов банка, используемых клиентом\n",
    "*\t`HasCrCard` — наличие кредитной карты\n",
    "*\t`IsActiveMember` — активность клиента\n",
    "*\t`EstimatedSalary` — предполагаемая зарплата\n",
    "\n",
    "Целевой признак:\n",
    "*\t`Exited` — факт ухода клиента"
   ]
  },
  {
   "cell_type": "markdown",
   "metadata": {},
   "source": [
    "### Анализ признаков и заполнение пропусков"
   ]
  },
  {
   "cell_type": "markdown",
   "metadata": {},
   "source": [
    "Три признака  **RowNumber** (индекс строки в данных), **CustomerId** (уникальный идентификатор клиента) и **Surname** (фамилия) являются лишними, так как они уникальны. Создадим переменную без них."
   ]
  },
  {
   "cell_type": "code",
   "execution_count": 6,
   "metadata": {
    "scrolled": false
   },
   "outputs": [
    {
     "name": "stdout",
     "output_type": "stream",
     "text": [
      "(10000, 11)\n"
     ]
    },
    {
     "data": {
      "text/html": [
       "<div>\n",
       "<style scoped>\n",
       "    .dataframe tbody tr th:only-of-type {\n",
       "        vertical-align: middle;\n",
       "    }\n",
       "\n",
       "    .dataframe tbody tr th {\n",
       "        vertical-align: top;\n",
       "    }\n",
       "\n",
       "    .dataframe thead th {\n",
       "        text-align: right;\n",
       "    }\n",
       "</style>\n",
       "<table border=\"1\" class=\"dataframe\">\n",
       "  <thead>\n",
       "    <tr style=\"text-align: right;\">\n",
       "      <th></th>\n",
       "      <th>CreditScore</th>\n",
       "      <th>Geography</th>\n",
       "      <th>Gender</th>\n",
       "      <th>Age</th>\n",
       "      <th>Tenure</th>\n",
       "      <th>Balance</th>\n",
       "      <th>NumOfProducts</th>\n",
       "      <th>HasCrCard</th>\n",
       "      <th>IsActiveMember</th>\n",
       "      <th>EstimatedSalary</th>\n",
       "      <th>Exited</th>\n",
       "    </tr>\n",
       "  </thead>\n",
       "  <tbody>\n",
       "    <tr>\n",
       "      <th>0</th>\n",
       "      <td>619</td>\n",
       "      <td>France</td>\n",
       "      <td>Female</td>\n",
       "      <td>42</td>\n",
       "      <td>2.0</td>\n",
       "      <td>0.00</td>\n",
       "      <td>1</td>\n",
       "      <td>1</td>\n",
       "      <td>1</td>\n",
       "      <td>101348.88</td>\n",
       "      <td>1</td>\n",
       "    </tr>\n",
       "    <tr>\n",
       "      <th>1</th>\n",
       "      <td>608</td>\n",
       "      <td>Spain</td>\n",
       "      <td>Female</td>\n",
       "      <td>41</td>\n",
       "      <td>1.0</td>\n",
       "      <td>83807.86</td>\n",
       "      <td>1</td>\n",
       "      <td>0</td>\n",
       "      <td>1</td>\n",
       "      <td>112542.58</td>\n",
       "      <td>0</td>\n",
       "    </tr>\n",
       "    <tr>\n",
       "      <th>2</th>\n",
       "      <td>502</td>\n",
       "      <td>France</td>\n",
       "      <td>Female</td>\n",
       "      <td>42</td>\n",
       "      <td>8.0</td>\n",
       "      <td>159660.80</td>\n",
       "      <td>3</td>\n",
       "      <td>1</td>\n",
       "      <td>0</td>\n",
       "      <td>113931.57</td>\n",
       "      <td>1</td>\n",
       "    </tr>\n",
       "    <tr>\n",
       "      <th>3</th>\n",
       "      <td>699</td>\n",
       "      <td>France</td>\n",
       "      <td>Female</td>\n",
       "      <td>39</td>\n",
       "      <td>1.0</td>\n",
       "      <td>0.00</td>\n",
       "      <td>2</td>\n",
       "      <td>0</td>\n",
       "      <td>0</td>\n",
       "      <td>93826.63</td>\n",
       "      <td>0</td>\n",
       "    </tr>\n",
       "    <tr>\n",
       "      <th>4</th>\n",
       "      <td>850</td>\n",
       "      <td>Spain</td>\n",
       "      <td>Female</td>\n",
       "      <td>43</td>\n",
       "      <td>2.0</td>\n",
       "      <td>125510.82</td>\n",
       "      <td>1</td>\n",
       "      <td>1</td>\n",
       "      <td>1</td>\n",
       "      <td>79084.10</td>\n",
       "      <td>0</td>\n",
       "    </tr>\n",
       "  </tbody>\n",
       "</table>\n",
       "</div>"
      ],
      "text/plain": [
       "   CreditScore Geography  Gender  Age  Tenure    Balance  NumOfProducts  \\\n",
       "0          619    France  Female   42     2.0       0.00              1   \n",
       "1          608     Spain  Female   41     1.0   83807.86              1   \n",
       "2          502    France  Female   42     8.0  159660.80              3   \n",
       "3          699    France  Female   39     1.0       0.00              2   \n",
       "4          850     Spain  Female   43     2.0  125510.82              1   \n",
       "\n",
       "   HasCrCard  IsActiveMember  EstimatedSalary  Exited  \n",
       "0          1               1        101348.88       1  \n",
       "1          0               1        112542.58       0  \n",
       "2          1               0        113931.57       1  \n",
       "3          0               0         93826.63       0  \n",
       "4          1               1         79084.10       0  "
      ]
     },
     "execution_count": 6,
     "metadata": {},
     "output_type": "execute_result"
    }
   ],
   "source": [
    "df_drop = df.drop(['RowNumber', 'CustomerId', 'Surname'], axis=1)\n",
    "print(df_drop.shape)\n",
    "df_drop.head()"
   ]
  },
  {
   "cell_type": "code",
   "execution_count": 7,
   "metadata": {
    "scrolled": true
   },
   "outputs": [
    {
     "name": "stdout",
     "output_type": "stream",
     "text": [
      "<class 'pandas.core.frame.DataFrame'>\n",
      "RangeIndex: 10000 entries, 0 to 9999\n",
      "Data columns (total 11 columns):\n",
      " #   Column           Non-Null Count  Dtype  \n",
      "---  ------           --------------  -----  \n",
      " 0   CreditScore      10000 non-null  int64  \n",
      " 1   Geography        10000 non-null  object \n",
      " 2   Gender           10000 non-null  object \n",
      " 3   Age              10000 non-null  int64  \n",
      " 4   Tenure           9091 non-null   float64\n",
      " 5   Balance          10000 non-null  float64\n",
      " 6   NumOfProducts    10000 non-null  int64  \n",
      " 7   HasCrCard        10000 non-null  int64  \n",
      " 8   IsActiveMember   10000 non-null  int64  \n",
      " 9   EstimatedSalary  10000 non-null  float64\n",
      " 10  Exited           10000 non-null  int64  \n",
      "dtypes: float64(3), int64(6), object(2)\n",
      "memory usage: 859.5+ KB\n"
     ]
    }
   ],
   "source": [
    "df_drop.info()"
   ]
  },
  {
   "cell_type": "markdown",
   "metadata": {},
   "source": [
    "Пропущенные значения наблюдаются только в одном столбце **Tenure** (сколько лет человек является клиентом банка). Средняя и медиана 5 лет, посмотрим эти значения в зависимости от факта ухода из банка и количеством продуктов банка, используемых клиентом."
   ]
  },
  {
   "cell_type": "code",
   "execution_count": 8,
   "metadata": {
    "scrolled": true
   },
   "outputs": [
    {
     "data": {
      "text/html": [
       "<div>\n",
       "<style scoped>\n",
       "    .dataframe tbody tr th:only-of-type {\n",
       "        vertical-align: middle;\n",
       "    }\n",
       "\n",
       "    .dataframe tbody tr th {\n",
       "        vertical-align: top;\n",
       "    }\n",
       "\n",
       "    .dataframe thead tr th {\n",
       "        text-align: left;\n",
       "    }\n",
       "\n",
       "    .dataframe thead tr:last-of-type th {\n",
       "        text-align: right;\n",
       "    }\n",
       "</style>\n",
       "<table border=\"1\" class=\"dataframe\">\n",
       "  <thead>\n",
       "    <tr>\n",
       "      <th></th>\n",
       "      <th colspan=\"4\" halign=\"left\">count</th>\n",
       "      <th colspan=\"4\" halign=\"left\">mean</th>\n",
       "      <th colspan=\"4\" halign=\"left\">median</th>\n",
       "    </tr>\n",
       "    <tr>\n",
       "      <th>NumOfProducts</th>\n",
       "      <th>1</th>\n",
       "      <th>2</th>\n",
       "      <th>3</th>\n",
       "      <th>4</th>\n",
       "      <th>1</th>\n",
       "      <th>2</th>\n",
       "      <th>3</th>\n",
       "      <th>4</th>\n",
       "      <th>1</th>\n",
       "      <th>2</th>\n",
       "      <th>3</th>\n",
       "      <th>4</th>\n",
       "    </tr>\n",
       "    <tr>\n",
       "      <th>Exited</th>\n",
       "      <th></th>\n",
       "      <th></th>\n",
       "      <th></th>\n",
       "      <th></th>\n",
       "      <th></th>\n",
       "      <th></th>\n",
       "      <th></th>\n",
       "      <th></th>\n",
       "      <th></th>\n",
       "      <th></th>\n",
       "      <th></th>\n",
       "      <th></th>\n",
       "    </tr>\n",
       "  </thead>\n",
       "  <tbody>\n",
       "    <tr>\n",
       "      <th>0</th>\n",
       "      <td>3334.0</td>\n",
       "      <td>3862.0</td>\n",
       "      <td>41.0</td>\n",
       "      <td>NaN</td>\n",
       "      <td>4.994001</td>\n",
       "      <td>5.047126</td>\n",
       "      <td>4.97561</td>\n",
       "      <td>NaN</td>\n",
       "      <td>5.0</td>\n",
       "      <td>5.0</td>\n",
       "      <td>4.0</td>\n",
       "      <td>NaN</td>\n",
       "    </tr>\n",
       "    <tr>\n",
       "      <th>1</th>\n",
       "      <td>1283.0</td>\n",
       "      <td>322.0</td>\n",
       "      <td>193.0</td>\n",
       "      <td>56.0</td>\n",
       "      <td>4.884645</td>\n",
       "      <td>4.854037</td>\n",
       "      <td>5.00000</td>\n",
       "      <td>5.232143</td>\n",
       "      <td>5.0</td>\n",
       "      <td>5.0</td>\n",
       "      <td>5.0</td>\n",
       "      <td>5.0</td>\n",
       "    </tr>\n",
       "  </tbody>\n",
       "</table>\n",
       "</div>"
      ],
      "text/plain": [
       "                count                           mean                     \\\n",
       "NumOfProducts       1       2      3     4         1         2        3   \n",
       "Exited                                                                    \n",
       "0              3334.0  3862.0   41.0   NaN  4.994001  5.047126  4.97561   \n",
       "1              1283.0   322.0  193.0  56.0  4.884645  4.854037  5.00000   \n",
       "\n",
       "                        median                 \n",
       "NumOfProducts         4      1    2    3    4  \n",
       "Exited                                         \n",
       "0                   NaN    5.0  5.0  4.0  NaN  \n",
       "1              5.232143    5.0  5.0  5.0  5.0  "
      ]
     },
     "execution_count": 8,
     "metadata": {},
     "output_type": "execute_result"
    }
   ],
   "source": [
    "(df_drop\n",
    " .pivot_table(index='Exited', columns='NumOfProducts', \n",
    "              values='Tenure', aggfunc=['count', 'mean', 'median']))"
   ]
  },
  {
   "cell_type": "code",
   "execution_count": 9,
   "metadata": {},
   "outputs": [
    {
     "data": {
      "text/html": [
       "<div>\n",
       "<style scoped>\n",
       "    .dataframe tbody tr th:only-of-type {\n",
       "        vertical-align: middle;\n",
       "    }\n",
       "\n",
       "    .dataframe tbody tr th {\n",
       "        vertical-align: top;\n",
       "    }\n",
       "\n",
       "    .dataframe thead th {\n",
       "        text-align: right;\n",
       "    }\n",
       "</style>\n",
       "<table border=\"1\" class=\"dataframe\">\n",
       "  <thead>\n",
       "    <tr style=\"text-align: right;\">\n",
       "      <th>NumOfProducts</th>\n",
       "      <th>1</th>\n",
       "      <th>2</th>\n",
       "      <th>3</th>\n",
       "      <th>4</th>\n",
       "    </tr>\n",
       "    <tr>\n",
       "      <th>Exited</th>\n",
       "      <th></th>\n",
       "      <th></th>\n",
       "      <th></th>\n",
       "      <th></th>\n",
       "    </tr>\n",
       "  </thead>\n",
       "  <tbody>\n",
       "    <tr>\n",
       "      <th>0</th>\n",
       "      <td>341.0</td>\n",
       "      <td>380.0</td>\n",
       "      <td>5.0</td>\n",
       "      <td>NaN</td>\n",
       "    </tr>\n",
       "    <tr>\n",
       "      <th>1</th>\n",
       "      <td>126.0</td>\n",
       "      <td>26.0</td>\n",
       "      <td>27.0</td>\n",
       "      <td>4.0</td>\n",
       "    </tr>\n",
       "  </tbody>\n",
       "</table>\n",
       "</div>"
      ],
      "text/plain": [
       "NumOfProducts      1      2     3    4\n",
       "Exited                                \n",
       "0              341.0  380.0   5.0  NaN\n",
       "1              126.0   26.0  27.0  4.0"
      ]
     },
     "execution_count": 9,
     "metadata": {},
     "output_type": "execute_result"
    }
   ],
   "source": [
    "(df_drop.query('Tenure.isna()')\n",
    " .pivot_table(index='Exited', columns='NumOfProducts', values='Age', aggfunc='count'))"
   ]
  },
  {
   "cell_type": "markdown",
   "metadata": {},
   "source": [
    "Таким образом, заменим пропущенные значения случайными числами, так как распределение по годам использования банка практически ровное."
   ]
  },
  {
   "cell_type": "code",
   "execution_count": 10,
   "metadata": {},
   "outputs": [
    {
     "data": {
      "text/plain": [
       "0"
      ]
     },
     "execution_count": 10,
     "metadata": {},
     "output_type": "execute_result"
    }
   ],
   "source": [
    "df_drop['Tenure'] = df_drop['Tenure'].fillna(random.randint(0, 10))\n",
    "len(df_drop.query('Tenure.isna()'))                                             "
   ]
  },
  {
   "cell_type": "markdown",
   "metadata": {},
   "source": [
    "### Преобразование категориальных признаков"
   ]
  },
  {
   "cell_type": "markdown",
   "metadata": {},
   "source": [
    "В двух столбцах тип данных object: **Geography** (страна проживания) и **Gender** (пол). Преобразуем категориальные признаки в численные с помощью техники прямого кодирования."
   ]
  },
  {
   "cell_type": "code",
   "execution_count": 11,
   "metadata": {},
   "outputs": [
    {
     "data": {
      "text/plain": [
       "array(['France', 'Spain', 'Germany'], dtype=object)"
      ]
     },
     "execution_count": 11,
     "metadata": {},
     "output_type": "execute_result"
    }
   ],
   "source": [
    "df_drop['Geography'].unique()"
   ]
  },
  {
   "cell_type": "code",
   "execution_count": 12,
   "metadata": {},
   "outputs": [
    {
     "data": {
      "text/plain": [
       "array(['Female', 'Male'], dtype=object)"
      ]
     },
     "execution_count": 12,
     "metadata": {},
     "output_type": "execute_result"
    }
   ],
   "source": [
    "df_drop['Gender'].unique()"
   ]
  },
  {
   "cell_type": "code",
   "execution_count": 13,
   "metadata": {
    "scrolled": true
   },
   "outputs": [
    {
     "name": "stdout",
     "output_type": "stream",
     "text": [
      "(10000, 12)\n"
     ]
    },
    {
     "data": {
      "text/html": [
       "<div>\n",
       "<style scoped>\n",
       "    .dataframe tbody tr th:only-of-type {\n",
       "        vertical-align: middle;\n",
       "    }\n",
       "\n",
       "    .dataframe tbody tr th {\n",
       "        vertical-align: top;\n",
       "    }\n",
       "\n",
       "    .dataframe thead th {\n",
       "        text-align: right;\n",
       "    }\n",
       "</style>\n",
       "<table border=\"1\" class=\"dataframe\">\n",
       "  <thead>\n",
       "    <tr style=\"text-align: right;\">\n",
       "      <th></th>\n",
       "      <th>CreditScore</th>\n",
       "      <th>Age</th>\n",
       "      <th>Tenure</th>\n",
       "      <th>Balance</th>\n",
       "      <th>NumOfProducts</th>\n",
       "      <th>HasCrCard</th>\n",
       "      <th>IsActiveMember</th>\n",
       "      <th>EstimatedSalary</th>\n",
       "      <th>Exited</th>\n",
       "      <th>Geography_Germany</th>\n",
       "      <th>Geography_Spain</th>\n",
       "      <th>Gender_Male</th>\n",
       "    </tr>\n",
       "  </thead>\n",
       "  <tbody>\n",
       "    <tr>\n",
       "      <th>0</th>\n",
       "      <td>619</td>\n",
       "      <td>42</td>\n",
       "      <td>2.0</td>\n",
       "      <td>0.00</td>\n",
       "      <td>1</td>\n",
       "      <td>1</td>\n",
       "      <td>1</td>\n",
       "      <td>101348.88</td>\n",
       "      <td>1</td>\n",
       "      <td>0</td>\n",
       "      <td>0</td>\n",
       "      <td>0</td>\n",
       "    </tr>\n",
       "    <tr>\n",
       "      <th>1</th>\n",
       "      <td>608</td>\n",
       "      <td>41</td>\n",
       "      <td>1.0</td>\n",
       "      <td>83807.86</td>\n",
       "      <td>1</td>\n",
       "      <td>0</td>\n",
       "      <td>1</td>\n",
       "      <td>112542.58</td>\n",
       "      <td>0</td>\n",
       "      <td>0</td>\n",
       "      <td>1</td>\n",
       "      <td>0</td>\n",
       "    </tr>\n",
       "    <tr>\n",
       "      <th>2</th>\n",
       "      <td>502</td>\n",
       "      <td>42</td>\n",
       "      <td>8.0</td>\n",
       "      <td>159660.80</td>\n",
       "      <td>3</td>\n",
       "      <td>1</td>\n",
       "      <td>0</td>\n",
       "      <td>113931.57</td>\n",
       "      <td>1</td>\n",
       "      <td>0</td>\n",
       "      <td>0</td>\n",
       "      <td>0</td>\n",
       "    </tr>\n",
       "    <tr>\n",
       "      <th>3</th>\n",
       "      <td>699</td>\n",
       "      <td>39</td>\n",
       "      <td>1.0</td>\n",
       "      <td>0.00</td>\n",
       "      <td>2</td>\n",
       "      <td>0</td>\n",
       "      <td>0</td>\n",
       "      <td>93826.63</td>\n",
       "      <td>0</td>\n",
       "      <td>0</td>\n",
       "      <td>0</td>\n",
       "      <td>0</td>\n",
       "    </tr>\n",
       "    <tr>\n",
       "      <th>4</th>\n",
       "      <td>850</td>\n",
       "      <td>43</td>\n",
       "      <td>2.0</td>\n",
       "      <td>125510.82</td>\n",
       "      <td>1</td>\n",
       "      <td>1</td>\n",
       "      <td>1</td>\n",
       "      <td>79084.10</td>\n",
       "      <td>0</td>\n",
       "      <td>0</td>\n",
       "      <td>1</td>\n",
       "      <td>0</td>\n",
       "    </tr>\n",
       "  </tbody>\n",
       "</table>\n",
       "</div>"
      ],
      "text/plain": [
       "   CreditScore  Age  Tenure    Balance  NumOfProducts  HasCrCard  \\\n",
       "0          619   42     2.0       0.00              1          1   \n",
       "1          608   41     1.0   83807.86              1          0   \n",
       "2          502   42     8.0  159660.80              3          1   \n",
       "3          699   39     1.0       0.00              2          0   \n",
       "4          850   43     2.0  125510.82              1          1   \n",
       "\n",
       "   IsActiveMember  EstimatedSalary  Exited  Geography_Germany  \\\n",
       "0               1        101348.88       1                  0   \n",
       "1               1        112542.58       0                  0   \n",
       "2               0        113931.57       1                  0   \n",
       "3               0         93826.63       0                  0   \n",
       "4               1         79084.10       0                  0   \n",
       "\n",
       "   Geography_Spain  Gender_Male  \n",
       "0                0            0  \n",
       "1                1            0  \n",
       "2                0            0  \n",
       "3                0            0  \n",
       "4                1            0  "
      ]
     },
     "execution_count": 13,
     "metadata": {},
     "output_type": "execute_result"
    }
   ],
   "source": [
    "df_drop_ohe = pd.get_dummies(df_drop, drop_first=True)\n",
    "print(df_drop_ohe.shape)\n",
    "df_drop_ohe.head()"
   ]
  },
  {
   "cell_type": "markdown",
   "metadata": {},
   "source": [
    "### Разделение данных на выборки"
   ]
  },
  {
   "cell_type": "markdown",
   "metadata": {},
   "source": [
    "**Создадим переменные для признаков и целевого признака для каждой выборки: обучающей, валидационной и тестовой.**"
   ]
  },
  {
   "cell_type": "code",
   "execution_count": 14,
   "metadata": {},
   "outputs": [
    {
     "name": "stdout",
     "output_type": "stream",
     "text": [
      "(6000, 11)\n",
      "(6000,)\n",
      "(2000, 11)\n",
      "(2000,)\n",
      "(2000, 11)\n",
      "(2000,)\n"
     ]
    }
   ],
   "source": [
    "target = df_drop_ohe['Exited']\n",
    "features = df_drop_ohe.drop('Exited', axis=1)\n",
    "features_train, features_valid, target_train, target_valid = train_test_split(\n",
    "    features, target, test_size=0.4, random_state=12345, stratify=target)\n",
    "features_valid, features_test, target_valid, target_test = train_test_split(\n",
    "    features_valid, target_valid, test_size=0.5, random_state=12345, stratify=target_valid)\n",
    "print(features_train.shape)\n",
    "print(target_train.shape)\n",
    "print(features_valid.shape)\n",
    "print(target_valid.shape)\n",
    "print(features_test.shape)\n",
    "print(target_test.shape)"
   ]
  },
  {
   "cell_type": "markdown",
   "metadata": {},
   "source": [
    "### Масштабирование признаков"
   ]
  },
  {
   "cell_type": "code",
   "execution_count": 15,
   "metadata": {
    "scrolled": false
   },
   "outputs": [
    {
     "data": {
      "text/html": [
       "<div>\n",
       "<style scoped>\n",
       "    .dataframe tbody tr th:only-of-type {\n",
       "        vertical-align: middle;\n",
       "    }\n",
       "\n",
       "    .dataframe tbody tr th {\n",
       "        vertical-align: top;\n",
       "    }\n",
       "\n",
       "    .dataframe thead th {\n",
       "        text-align: right;\n",
       "    }\n",
       "</style>\n",
       "<table border=\"1\" class=\"dataframe\">\n",
       "  <thead>\n",
       "    <tr style=\"text-align: right;\">\n",
       "      <th></th>\n",
       "      <th>count</th>\n",
       "      <th>mean</th>\n",
       "      <th>std</th>\n",
       "      <th>min</th>\n",
       "      <th>25%</th>\n",
       "      <th>50%</th>\n",
       "      <th>75%</th>\n",
       "      <th>max</th>\n",
       "    </tr>\n",
       "  </thead>\n",
       "  <tbody>\n",
       "    <tr>\n",
       "      <th>CreditScore</th>\n",
       "      <td>10000.0</td>\n",
       "      <td>650.528800</td>\n",
       "      <td>96.653299</td>\n",
       "      <td>350.00</td>\n",
       "      <td>584.00</td>\n",
       "      <td>652.000</td>\n",
       "      <td>718.0000</td>\n",
       "      <td>850.00</td>\n",
       "    </tr>\n",
       "    <tr>\n",
       "      <th>Age</th>\n",
       "      <td>10000.0</td>\n",
       "      <td>38.921800</td>\n",
       "      <td>10.487806</td>\n",
       "      <td>18.00</td>\n",
       "      <td>32.00</td>\n",
       "      <td>37.000</td>\n",
       "      <td>44.0000</td>\n",
       "      <td>92.00</td>\n",
       "    </tr>\n",
       "    <tr>\n",
       "      <th>Tenure</th>\n",
       "      <td>10000.0</td>\n",
       "      <td>4.907000</td>\n",
       "      <td>2.774873</td>\n",
       "      <td>0.00</td>\n",
       "      <td>3.00</td>\n",
       "      <td>4.000</td>\n",
       "      <td>7.0000</td>\n",
       "      <td>10.00</td>\n",
       "    </tr>\n",
       "    <tr>\n",
       "      <th>Balance</th>\n",
       "      <td>10000.0</td>\n",
       "      <td>76485.889288</td>\n",
       "      <td>62397.405202</td>\n",
       "      <td>0.00</td>\n",
       "      <td>0.00</td>\n",
       "      <td>97198.540</td>\n",
       "      <td>127644.2400</td>\n",
       "      <td>250898.09</td>\n",
       "    </tr>\n",
       "    <tr>\n",
       "      <th>NumOfProducts</th>\n",
       "      <td>10000.0</td>\n",
       "      <td>1.530200</td>\n",
       "      <td>0.581654</td>\n",
       "      <td>1.00</td>\n",
       "      <td>1.00</td>\n",
       "      <td>1.000</td>\n",
       "      <td>2.0000</td>\n",
       "      <td>4.00</td>\n",
       "    </tr>\n",
       "    <tr>\n",
       "      <th>HasCrCard</th>\n",
       "      <td>10000.0</td>\n",
       "      <td>0.705500</td>\n",
       "      <td>0.455840</td>\n",
       "      <td>0.00</td>\n",
       "      <td>0.00</td>\n",
       "      <td>1.000</td>\n",
       "      <td>1.0000</td>\n",
       "      <td>1.00</td>\n",
       "    </tr>\n",
       "    <tr>\n",
       "      <th>IsActiveMember</th>\n",
       "      <td>10000.0</td>\n",
       "      <td>0.515100</td>\n",
       "      <td>0.499797</td>\n",
       "      <td>0.00</td>\n",
       "      <td>0.00</td>\n",
       "      <td>1.000</td>\n",
       "      <td>1.0000</td>\n",
       "      <td>1.00</td>\n",
       "    </tr>\n",
       "    <tr>\n",
       "      <th>EstimatedSalary</th>\n",
       "      <td>10000.0</td>\n",
       "      <td>100090.239881</td>\n",
       "      <td>57510.492818</td>\n",
       "      <td>11.58</td>\n",
       "      <td>51002.11</td>\n",
       "      <td>100193.915</td>\n",
       "      <td>149388.2475</td>\n",
       "      <td>199992.48</td>\n",
       "    </tr>\n",
       "    <tr>\n",
       "      <th>Exited</th>\n",
       "      <td>10000.0</td>\n",
       "      <td>0.203700</td>\n",
       "      <td>0.402769</td>\n",
       "      <td>0.00</td>\n",
       "      <td>0.00</td>\n",
       "      <td>0.000</td>\n",
       "      <td>0.0000</td>\n",
       "      <td>1.00</td>\n",
       "    </tr>\n",
       "    <tr>\n",
       "      <th>Geography_Germany</th>\n",
       "      <td>10000.0</td>\n",
       "      <td>0.250900</td>\n",
       "      <td>0.433553</td>\n",
       "      <td>0.00</td>\n",
       "      <td>0.00</td>\n",
       "      <td>0.000</td>\n",
       "      <td>1.0000</td>\n",
       "      <td>1.00</td>\n",
       "    </tr>\n",
       "    <tr>\n",
       "      <th>Geography_Spain</th>\n",
       "      <td>10000.0</td>\n",
       "      <td>0.247700</td>\n",
       "      <td>0.431698</td>\n",
       "      <td>0.00</td>\n",
       "      <td>0.00</td>\n",
       "      <td>0.000</td>\n",
       "      <td>0.0000</td>\n",
       "      <td>1.00</td>\n",
       "    </tr>\n",
       "    <tr>\n",
       "      <th>Gender_Male</th>\n",
       "      <td>10000.0</td>\n",
       "      <td>0.545700</td>\n",
       "      <td>0.497932</td>\n",
       "      <td>0.00</td>\n",
       "      <td>0.00</td>\n",
       "      <td>1.000</td>\n",
       "      <td>1.0000</td>\n",
       "      <td>1.00</td>\n",
       "    </tr>\n",
       "  </tbody>\n",
       "</table>\n",
       "</div>"
      ],
      "text/plain": [
       "                     count           mean           std     min       25%  \\\n",
       "CreditScore        10000.0     650.528800     96.653299  350.00    584.00   \n",
       "Age                10000.0      38.921800     10.487806   18.00     32.00   \n",
       "Tenure             10000.0       4.907000      2.774873    0.00      3.00   \n",
       "Balance            10000.0   76485.889288  62397.405202    0.00      0.00   \n",
       "NumOfProducts      10000.0       1.530200      0.581654    1.00      1.00   \n",
       "HasCrCard          10000.0       0.705500      0.455840    0.00      0.00   \n",
       "IsActiveMember     10000.0       0.515100      0.499797    0.00      0.00   \n",
       "EstimatedSalary    10000.0  100090.239881  57510.492818   11.58  51002.11   \n",
       "Exited             10000.0       0.203700      0.402769    0.00      0.00   \n",
       "Geography_Germany  10000.0       0.250900      0.433553    0.00      0.00   \n",
       "Geography_Spain    10000.0       0.247700      0.431698    0.00      0.00   \n",
       "Gender_Male        10000.0       0.545700      0.497932    0.00      0.00   \n",
       "\n",
       "                          50%          75%        max  \n",
       "CreditScore           652.000     718.0000     850.00  \n",
       "Age                    37.000      44.0000      92.00  \n",
       "Tenure                  4.000       7.0000      10.00  \n",
       "Balance             97198.540  127644.2400  250898.09  \n",
       "NumOfProducts           1.000       2.0000       4.00  \n",
       "HasCrCard               1.000       1.0000       1.00  \n",
       "IsActiveMember          1.000       1.0000       1.00  \n",
       "EstimatedSalary    100193.915  149388.2475  199992.48  \n",
       "Exited                  0.000       0.0000       1.00  \n",
       "Geography_Germany       0.000       1.0000       1.00  \n",
       "Geography_Spain         0.000       0.0000       1.00  \n",
       "Gender_Male             1.000       1.0000       1.00  "
      ]
     },
     "execution_count": 15,
     "metadata": {},
     "output_type": "execute_result"
    }
   ],
   "source": [
    "df_drop_ohe.describe().T"
   ]
  },
  {
   "cell_type": "markdown",
   "metadata": {},
   "source": [
    "Четыре признака **CreditScore**, **Age**, **Balance**, **EstimatedSalary** имеют разный масштаб. Преобразуем масштаб методом стандартизации данных."
   ]
  },
  {
   "cell_type": "code",
   "execution_count": 16,
   "metadata": {},
   "outputs": [
    {
     "name": "stdout",
     "output_type": "stream",
     "text": [
      "(6000, 11)\n"
     ]
    },
    {
     "name": "stderr",
     "output_type": "stream",
     "text": [
      "/tmp/ipykernel_196/648638124.py:5: SettingWithCopyWarning: \n",
      "A value is trying to be set on a copy of a slice from a DataFrame.\n",
      "Try using .loc[row_indexer,col_indexer] = value instead\n",
      "\n",
      "See the caveats in the documentation: https://pandas.pydata.org/pandas-docs/stable/user_guide/indexing.html#returning-a-view-versus-a-copy\n",
      "  features_train[numeric] = scaler.transform(features_train[numeric])\n",
      "/opt/conda/lib/python3.9/site-packages/pandas/core/indexing.py:1738: SettingWithCopyWarning: \n",
      "A value is trying to be set on a copy of a slice from a DataFrame.\n",
      "Try using .loc[row_indexer,col_indexer] = value instead\n",
      "\n",
      "See the caveats in the documentation: https://pandas.pydata.org/pandas-docs/stable/user_guide/indexing.html#returning-a-view-versus-a-copy\n",
      "  self._setitem_single_column(loc, value[:, i].tolist(), pi)\n"
     ]
    },
    {
     "data": {
      "text/html": [
       "<div>\n",
       "<style scoped>\n",
       "    .dataframe tbody tr th:only-of-type {\n",
       "        vertical-align: middle;\n",
       "    }\n",
       "\n",
       "    .dataframe tbody tr th {\n",
       "        vertical-align: top;\n",
       "    }\n",
       "\n",
       "    .dataframe thead th {\n",
       "        text-align: right;\n",
       "    }\n",
       "</style>\n",
       "<table border=\"1\" class=\"dataframe\">\n",
       "  <thead>\n",
       "    <tr style=\"text-align: right;\">\n",
       "      <th></th>\n",
       "      <th>CreditScore</th>\n",
       "      <th>Age</th>\n",
       "      <th>Tenure</th>\n",
       "      <th>Balance</th>\n",
       "      <th>NumOfProducts</th>\n",
       "      <th>HasCrCard</th>\n",
       "      <th>IsActiveMember</th>\n",
       "      <th>EstimatedSalary</th>\n",
       "      <th>Geography_Germany</th>\n",
       "      <th>Geography_Spain</th>\n",
       "      <th>Gender_Male</th>\n",
       "    </tr>\n",
       "  </thead>\n",
       "  <tbody>\n",
       "    <tr>\n",
       "      <th>2837</th>\n",
       "      <td>-1.040434</td>\n",
       "      <td>0.953312</td>\n",
       "      <td>6.0</td>\n",
       "      <td>0.774657</td>\n",
       "      <td>1</td>\n",
       "      <td>0</td>\n",
       "      <td>1</td>\n",
       "      <td>-0.119110</td>\n",
       "      <td>1</td>\n",
       "      <td>0</td>\n",
       "      <td>0</td>\n",
       "    </tr>\n",
       "    <tr>\n",
       "      <th>9925</th>\n",
       "      <td>0.454006</td>\n",
       "      <td>-0.095244</td>\n",
       "      <td>4.0</td>\n",
       "      <td>1.910540</td>\n",
       "      <td>1</td>\n",
       "      <td>1</td>\n",
       "      <td>1</td>\n",
       "      <td>-0.258658</td>\n",
       "      <td>0</td>\n",
       "      <td>0</td>\n",
       "      <td>0</td>\n",
       "    </tr>\n",
       "    <tr>\n",
       "      <th>8746</th>\n",
       "      <td>0.103585</td>\n",
       "      <td>-0.476537</td>\n",
       "      <td>8.0</td>\n",
       "      <td>0.481608</td>\n",
       "      <td>2</td>\n",
       "      <td>0</td>\n",
       "      <td>1</td>\n",
       "      <td>1.422836</td>\n",
       "      <td>0</td>\n",
       "      <td>0</td>\n",
       "      <td>1</td>\n",
       "    </tr>\n",
       "    <tr>\n",
       "      <th>660</th>\n",
       "      <td>-0.184996</td>\n",
       "      <td>0.190726</td>\n",
       "      <td>4.0</td>\n",
       "      <td>0.088439</td>\n",
       "      <td>1</td>\n",
       "      <td>1</td>\n",
       "      <td>1</td>\n",
       "      <td>-1.160427</td>\n",
       "      <td>1</td>\n",
       "      <td>0</td>\n",
       "      <td>0</td>\n",
       "    </tr>\n",
       "    <tr>\n",
       "      <th>3610</th>\n",
       "      <td>-0.720933</td>\n",
       "      <td>1.620574</td>\n",
       "      <td>1.0</td>\n",
       "      <td>0.879129</td>\n",
       "      <td>1</td>\n",
       "      <td>1</td>\n",
       "      <td>0</td>\n",
       "      <td>0.113236</td>\n",
       "      <td>0</td>\n",
       "      <td>0</td>\n",
       "      <td>0</td>\n",
       "    </tr>\n",
       "  </tbody>\n",
       "</table>\n",
       "</div>"
      ],
      "text/plain": [
       "      CreditScore       Age  Tenure   Balance  NumOfProducts  HasCrCard  \\\n",
       "2837    -1.040434  0.953312     6.0  0.774657              1          0   \n",
       "9925     0.454006 -0.095244     4.0  1.910540              1          1   \n",
       "8746     0.103585 -0.476537     8.0  0.481608              2          0   \n",
       "660     -0.184996  0.190726     4.0  0.088439              1          1   \n",
       "3610    -0.720933  1.620574     1.0  0.879129              1          1   \n",
       "\n",
       "      IsActiveMember  EstimatedSalary  Geography_Germany  Geography_Spain  \\\n",
       "2837               1        -0.119110                  1                0   \n",
       "9925               1        -0.258658                  0                0   \n",
       "8746               1         1.422836                  0                0   \n",
       "660                1        -1.160427                  1                0   \n",
       "3610               0         0.113236                  0                0   \n",
       "\n",
       "      Gender_Male  \n",
       "2837            0  \n",
       "9925            0  \n",
       "8746            1  \n",
       "660             0  \n",
       "3610            0  "
      ]
     },
     "execution_count": 16,
     "metadata": {},
     "output_type": "execute_result"
    }
   ],
   "source": [
    "numeric = ['CreditScore', 'Age', 'Balance', 'EstimatedSalary']\n",
    "\n",
    "scaler = StandardScaler()\n",
    "scaler.fit(features_train[numeric])\n",
    "features_train[numeric] = scaler.transform(features_train[numeric])\n",
    "features_valid[numeric] = scaler.transform(features_valid[numeric])\n",
    "features_test[numeric] = scaler.transform(features_test[numeric])\n",
    "pd.options.mode.chained_assignment = None\n",
    "\n",
    "print(features_train.shape)\n",
    "features_train.head()"
   ]
  },
  {
   "cell_type": "markdown",
   "metadata": {},
   "source": [
    "## Исследование задачи"
   ]
  },
  {
   "cell_type": "markdown",
   "metadata": {},
   "source": [
    "### Анализ баланса классов"
   ]
  },
  {
   "cell_type": "markdown",
   "metadata": {},
   "source": [
    "**Исследуем баланс классов, проверим как часто в целевом признаке встречается клас \"1\" и \"0.**"
   ]
  },
  {
   "cell_type": "code",
   "execution_count": 17,
   "metadata": {},
   "outputs": [
    {
     "name": "stdout",
     "output_type": "stream",
     "text": [
      "0    0.7963\n",
      "1    0.2037\n",
      "Name: Exited, dtype: float64\n"
     ]
    },
    {
     "data": {
      "image/png": "[encoded data removed]",
      "text/plain": [
       "<Figure size 432x288 with 1 Axes>"
      ]
     },
     "metadata": {
      "needs_background": "light"
     },
     "output_type": "display_data"
    }
   ],
   "source": [
    "class_frequency = df_drop_ohe['Exited'].value_counts(normalize=True)\n",
    "print(class_frequency)\n",
    "class_frequency.plot(kind='bar', title='Распределение классов в целевом признаке')\n",
    "plt.show()"
   ]
  },
  {
   "cell_type": "markdown",
   "metadata": {},
   "source": [
    "**Наблюдается сильный дисбаланс классов, соотношение классов 8:2.**"
   ]
  },
  {
   "cell_type": "markdown",
   "metadata": {},
   "source": [
    "### Модель \"Дерево решений\""
   ]
  },
  {
   "cell_type": "markdown",
   "metadata": {},
   "source": [
    "Проверим качество моделей для гиперпараметра maх_depth (глубина дерева) от 1 до 10. Для каждого значения выведем F1-меру на валидационной выборке."
   ]
  },
  {
   "cell_type": "code",
   "execution_count": 18,
   "metadata": {
    "scrolled": true
   },
   "outputs": [
    {
     "name": "stdout",
     "output_type": "stream",
     "text": [
      "max_depth = 1 : F1 = 0.0\n",
      "max_depth = 2 : F1 = 0.5203488372093023\n",
      "max_depth = 3 : F1 = 0.5375722543352601\n",
      "max_depth = 4 : F1 = 0.5206349206349208\n",
      "max_depth = 5 : F1 = 0.5454545454545455\n",
      "max_depth = 6 : F1 = 0.5787878787878787\n",
      "max_depth = 7 : F1 = 0.5924855491329479\n",
      "max_depth = 8 : F1 = 0.5601217656012176\n",
      "max_depth = 9 : F1 = 0.5486725663716815\n",
      "max_depth = 10 : F1 = 0.5534950071326676\n"
     ]
    }
   ],
   "source": [
    "for depth in range(1,11):\n",
    "    model_tree=DecisionTreeClassifier(random_state=12345, max_depth=depth)\n",
    "    model_tree.fit(features_train, target_train)\n",
    "    predictions_valid= model_tree.predict(features_valid)\n",
    "    print(\"max_depth =\", depth, \": \", end='')\n",
    "    print(\"F1 =\", f1_score(target_valid, predictions_valid))"
   ]
  },
  {
   "cell_type": "markdown",
   "metadata": {},
   "source": [
    "Наибольшее значение F1= 0.592, при max_depth=7."
   ]
  },
  {
   "cell_type": "code",
   "execution_count": 19,
   "metadata": {},
   "outputs": [
    {
     "name": "stdout",
     "output_type": "stream",
     "text": [
      "AUC-ROC = 0.8230390617302197\n"
     ]
    }
   ],
   "source": [
    "model_tree=DecisionTreeClassifier(random_state=12345, max_depth=7)\n",
    "model_tree.fit(features_train, target_train)\n",
    "probabilities_valid = model_tree.predict_proba(features_valid)\n",
    "probabilities_one_valid = probabilities_valid[:, 1]\n",
    "\n",
    "print(\"AUC-ROC =\", roc_auc_score (target_valid , probabilities_one_valid))"
   ]
  },
  {
   "cell_type": "markdown",
   "metadata": {},
   "source": [
    "### Модель \"Cлучайный лес"
   ]
  },
  {
   "cell_type": "markdown",
   "metadata": {},
   "source": [
    "**Обучим модель случайного леса с гиперпараметрами n_estimators от 1 до 100. Найдем наилучшую модель и ее  F1-меру на валидационной выборке.**"
   ]
  },
  {
   "cell_type": "code",
   "execution_count": 20,
   "metadata": {},
   "outputs": [
    {
     "name": "stdout",
     "output_type": "stream",
     "text": [
      "F1-мера наилучшей модели на валидационной выборке: 0.6108663729809104\n",
      "Наилучшая модель: RandomForestClassifier(n_estimators=77, random_state=12345)\n"
     ]
    }
   ],
   "source": [
    "best_model = None\n",
    "best_result = 0\n",
    "for est in range(1, 101):\n",
    "    model_forest = RandomForestClassifier(random_state=12345, n_estimators=est) \n",
    "    model_forest.fit(features_train, target_train) \n",
    "    predictions_valid = model_forest.predict(features_valid)\n",
    "    result = f1_score(target_valid, predictions_valid) \n",
    "    if result > best_result:\n",
    "        best_model = model_forest\n",
    "        best_result = result\n",
    "\n",
    "print(\"F1-мера наилучшей модели на валидационной выборке:\", best_result)\n",
    "print(\"Наилучшая модель:\", best_model)"
   ]
  },
  {
   "cell_type": "code",
   "execution_count": 21,
   "metadata": {},
   "outputs": [
    {
     "name": "stdout",
     "output_type": "stream",
     "text": [
      "AUC-ROC = 0.8601763412651492\n"
     ]
    }
   ],
   "source": [
    "model_forest = RandomForestClassifier(random_state=12345, n_estimators=77) \n",
    "model_forest.fit(features_train, target_train) \n",
    "probabilities_valid = model_forest.predict_proba(features_valid)\n",
    "probabilities_one_valid = probabilities_valid[:, 1]\n",
    "\n",
    "print(\"AUC-ROC =\", roc_auc_score (target_valid , probabilities_one_valid))"
   ]
  },
  {
   "cell_type": "markdown",
   "metadata": {},
   "source": [
    "### Логистическая регрессия"
   ]
  },
  {
   "cell_type": "code",
   "execution_count": 22,
   "metadata": {
    "scrolled": true
   },
   "outputs": [
    {
     "name": "stdout",
     "output_type": "stream",
     "text": [
      "F1-мера на валидационной выборке: 0.30458715596330277\n"
     ]
    }
   ],
   "source": [
    "model_logist = LogisticRegression(random_state=12345, solver='liblinear', max_iter=1000)\n",
    "model_logist.fit(features_train, target_train)\n",
    "\n",
    "predictions_valid = model_logist.predict(features_valid)\n",
    "\n",
    "print(\"F1-мера на валидационной выборке:\", f1_score(target_valid, predictions_valid))"
   ]
  },
  {
   "cell_type": "code",
   "execution_count": 23,
   "metadata": {},
   "outputs": [
    {
     "name": "stdout",
     "output_type": "stream",
     "text": [
      "AUC-ROC = 0.7874713641738101\n"
     ]
    }
   ],
   "source": [
    "probabilities_valid = model_logist.predict_proba(features_valid)\n",
    "probabilities_one_valid = probabilities_valid[:, 1]\n",
    "\n",
    "print(\"AUC-ROC =\", roc_auc_score (target_valid , probabilities_one_valid))"
   ]
  },
  {
   "cell_type": "markdown",
   "metadata": {},
   "source": [
    "### Вывод"
   ]
  },
  {
   "cell_type": "markdown",
   "metadata": {},
   "source": [
    "Рассмотрены три модели машинного обучения, без учета дисбаланса классов, получены следующие наилучшие значения f1-меры на валидационной выборке:\n",
    "1. **Модель\"Дерево решений\":** \n",
    "* Наибольшее значение F1=0.592, при max_depth=7.\n",
    "* AUC-ROC = 0.823\n",
    "\n",
    "2. **Модель \"Случайный лес\":**\n",
    "*  F1=0.611, при n_estimators=77.\n",
    "* AUC-ROC = 0.860\n",
    "\n",
    "3. **Модель \"Логистическая регрессия\":**\n",
    "*  F1=0.305\n",
    "* AUC-ROC = 0.787\n",
    "\n",
    "\n",
    "**Таким образом, наилучшие значения f1-меры у модели \"Случайный лес\": F1=0.611, при n_estimators=77 и AUC-ROC = 0.860, качество лучше, чем у случайной модели.**"
   ]
  },
  {
   "cell_type": "markdown",
   "metadata": {},
   "source": [
    "## Борьба с дисбалансом"
   ]
  },
  {
   "cell_type": "markdown",
   "metadata": {},
   "source": [
    "Для увеличения качества моделей при дисбалансе классов применим следующие техники: **взвешивание классов**, **upsampling**, **downsampling**.\n",
    "\n",
    "Напишем функцию upsampling() с тремя аргументами: features, target, repeat (сколько раз копировать положительные объекты). "
   ]
  },
  {
   "cell_type": "code",
   "execution_count": 24,
   "metadata": {},
   "outputs": [
    {
     "name": "stdout",
     "output_type": "stream",
     "text": [
      "(9666, 11)\n",
      "(9666,)\n"
     ]
    }
   ],
   "source": [
    "def upsample(features, target, repeat):\n",
    "    features_zeros = features[target == 0]\n",
    "    features_ones = features[target == 1]\n",
    "    target_zeros = target[target == 0]\n",
    "    target_ones = target[target == 1]\n",
    "\n",
    "    features_upsampled = pd.concat([features_zeros] + [features_ones] * repeat)\n",
    "    target_upsampled = pd.concat([target_zeros] + [target_ones] * repeat)\n",
    "    \n",
    "    features_upsampled, target_upsampled = shuffle(\n",
    "        features_upsampled, target_upsampled, random_state=12345)\n",
    "    \n",
    "    return features_upsampled, target_upsampled\n",
    "\n",
    "features_upsampled, target_upsampled = upsample(features_train, target_train, 4)\n",
    "\n",
    "print(features_upsampled.shape)\n",
    "print(target_upsampled.shape)"
   ]
  },
  {
   "cell_type": "markdown",
   "metadata": {},
   "source": [
    "Напишем функцию downsampling() с тремя аргументами: features, target и fraction (доля отрицательных объектов, которые надо сохранить)."
   ]
  },
  {
   "cell_type": "code",
   "execution_count": 25,
   "metadata": {},
   "outputs": [
    {
     "name": "stdout",
     "output_type": "stream",
     "text": [
      "(2416, 11)\n",
      "(2416,)\n"
     ]
    }
   ],
   "source": [
    "def downsample(features, target, fraction):\n",
    "    features_zeros = features[target == 0]\n",
    "    features_ones = features[target == 1]\n",
    "    target_zeros = target[target == 0]\n",
    "    target_ones = target[target == 1]\n",
    "\n",
    "    features_downsampled = pd.concat(\n",
    "        [features_zeros.sample(frac=fraction, random_state=12345)] + [features_ones])\n",
    "    target_downsampled = pd.concat(\n",
    "        [target_zeros.sample(frac=fraction, random_state=12345)] + [target_ones]) \n",
    "    features_downsampled, target_downsampled = shuffle(\n",
    "        features_downsampled, target_downsampled, random_state=12345)   \n",
    "    return features_downsampled, target_downsampled\n",
    "\n",
    "features_downsampled, target_downsampled = downsample(features_train, target_train, 0.25)\n",
    "\n",
    "print(features_downsampled.shape)\n",
    "print(target_downsampled.shape)"
   ]
  },
  {
   "cell_type": "markdown",
   "metadata": {},
   "source": [
    "### Модель \"Дерево решений\""
   ]
  },
  {
   "cell_type": "markdown",
   "metadata": {},
   "source": [
    "**Взвешивание классов**"
   ]
  },
  {
   "cell_type": "code",
   "execution_count": 26,
   "metadata": {
    "scrolled": false
   },
   "outputs": [
    {
     "name": "stdout",
     "output_type": "stream",
     "text": [
      "max_depth = 1 : F1 = 0.4846526655896607\n",
      "max_depth = 2 : F1 = 0.49801113762927607\n",
      "max_depth = 3 : F1 = 0.5207100591715977\n",
      "max_depth = 4 : F1 = 0.560931899641577\n",
      "max_depth = 5 : F1 = 0.5546492659053834\n",
      "max_depth = 6 : F1 = 0.575925925925926\n",
      "max_depth = 7 : F1 = 0.5724637681159421\n",
      "max_depth = 8 : F1 = 0.5474254742547425\n",
      "max_depth = 9 : F1 = 0.5401174168297456\n",
      "max_depth = 10 : F1 = 0.5371312309257374\n"
     ]
    }
   ],
   "source": [
    "for depth in range(1,11):\n",
    "    model_tree_weighing=DecisionTreeClassifier(random_state=12345, max_depth=depth, class_weight='balanced')\n",
    "    model_tree_weighing.fit(features_train, target_train)\n",
    "    predictions_valid= model_tree_weighing.predict(features_valid)\n",
    "    print(\"max_depth =\", depth, \": \", end='')\n",
    "    print(\"F1 =\", f1_score(target_valid, predictions_valid))"
   ]
  },
  {
   "cell_type": "markdown",
   "metadata": {},
   "source": [
    "Наибольшее значение F1=0,576, при max_depth=6."
   ]
  },
  {
   "cell_type": "code",
   "execution_count": 27,
   "metadata": {},
   "outputs": [
    {
     "name": "stdout",
     "output_type": "stream",
     "text": [
      "AUC-ROC = 0.8233269595526653\n"
     ]
    }
   ],
   "source": [
    "model_tree_weighing=DecisionTreeClassifier(random_state=12345, max_depth=6, class_weight='balanced')\n",
    "model_tree_weighing.fit(features_train, target_train)\n",
    "probabilities_valid = model_tree_weighing.predict_proba(features_valid)\n",
    "probabilities_one_valid = probabilities_valid[:, 1]\n",
    "\n",
    "print(\"AUC-ROC =\", roc_auc_score (target_valid , probabilities_one_valid))"
   ]
  },
  {
   "cell_type": "markdown",
   "metadata": {},
   "source": [
    "**upsampling (увеличение выборки)**"
   ]
  },
  {
   "cell_type": "code",
   "execution_count": 28,
   "metadata": {
    "scrolled": false
   },
   "outputs": [
    {
     "name": "stdout",
     "output_type": "stream",
     "text": [
      "max_depth = 1 : F1 = 0.4846526655896607\n",
      "max_depth = 2 : F1 = 0.49801113762927607\n",
      "max_depth = 3 : F1 = 0.49801113762927607\n",
      "max_depth = 4 : F1 = 0.560931899641577\n",
      "max_depth = 5 : F1 = 0.5546492659053834\n",
      "max_depth = 6 : F1 = 0.575925925925926\n",
      "max_depth = 7 : F1 = 0.5724637681159421\n",
      "max_depth = 8 : F1 = 0.5477477477477478\n",
      "max_depth = 9 : F1 = 0.5393700787401574\n",
      "max_depth = 10 : F1 = 0.537917087967644\n"
     ]
    }
   ],
   "source": [
    "for depth in range(1,11):\n",
    "    model_tree_up=DecisionTreeClassifier(random_state=12345, max_depth=depth)\n",
    "    model_tree_up.fit(features_upsampled, target_upsampled)\n",
    "    predictions_valid= model_tree_up.predict(features_valid)\n",
    "    print(\"max_depth =\", depth, \": \", end='')\n",
    "    print(\"F1 =\", f1_score(target_valid, predictions_valid))"
   ]
  },
  {
   "cell_type": "markdown",
   "metadata": {},
   "source": [
    "Наибольшее значение F1=0,576, при max_depth=6."
   ]
  },
  {
   "cell_type": "code",
   "execution_count": 29,
   "metadata": {},
   "outputs": [
    {
     "name": "stdout",
     "output_type": "stream",
     "text": [
      "AUC-ROC = 0.8233423551581437\n"
     ]
    }
   ],
   "source": [
    "model_tree_up=DecisionTreeClassifier(random_state=12345, max_depth=6)\n",
    "model_tree_up.fit(features_upsampled, target_upsampled)\n",
    "probabilities_valid = model_tree_up.predict_proba(features_valid)\n",
    "probabilities_one_valid = probabilities_valid[:, 1]\n",
    "\n",
    "print(\"AUC-ROC =\", roc_auc_score (target_valid , probabilities_one_valid))"
   ]
  },
  {
   "cell_type": "markdown",
   "metadata": {},
   "source": [
    "**downsampling (уменьшение выборки)**"
   ]
  },
  {
   "cell_type": "code",
   "execution_count": 30,
   "metadata": {},
   "outputs": [
    {
     "name": "stdout",
     "output_type": "stream",
     "text": [
      "max_depth = 1 : F1 = 0.4846526655896607\n",
      "max_depth = 2 : F1 = 0.49801113762927607\n",
      "max_depth = 3 : F1 = 0.49801113762927607\n",
      "max_depth = 4 : F1 = 0.5624438454627134\n",
      "max_depth = 5 : F1 = 0.5554681353265146\n",
      "max_depth = 6 : F1 = 0.5944919278252612\n",
      "max_depth = 7 : F1 = 0.5803489439853077\n",
      "max_depth = 8 : F1 = 0.570631970260223\n",
      "max_depth = 9 : F1 = 0.5826330532212884\n",
      "max_depth = 10 : F1 = 0.5762394761459307\n"
     ]
    }
   ],
   "source": [
    "for depth in range(1,11):\n",
    "    model_tree_down=DecisionTreeClassifier(random_state=12345, max_depth=depth)\n",
    "    model_tree_down.fit(features_downsampled, target_downsampled)\n",
    "    predictions_valid= model_tree_down.predict(features_valid)\n",
    "    print(\"max_depth =\", depth, \": \", end='')\n",
    "    print(\"F1 =\", f1_score(target_valid, predictions_valid))"
   ]
  },
  {
   "cell_type": "markdown",
   "metadata": {},
   "source": [
    "Наибольшее значение F1=0,594, при max_depth=6."
   ]
  },
  {
   "cell_type": "code",
   "execution_count": 31,
   "metadata": {},
   "outputs": [
    {
     "name": "stdout",
     "output_type": "stream",
     "text": [
      "AUC-ROC = 0.8477767206128681\n"
     ]
    }
   ],
   "source": [
    "model_tree_down=DecisionTreeClassifier(random_state=12345, max_depth=6)\n",
    "model_tree_down.fit(features_downsampled, target_downsampled)\n",
    "probabilities_valid = model_tree_down.predict_proba(features_valid)\n",
    "probabilities_one_valid = probabilities_valid[:, 1]\n",
    "\n",
    "print(\"AUC-ROC =\", roc_auc_score (target_valid , probabilities_one_valid))"
   ]
  },
  {
   "cell_type": "markdown",
   "metadata": {},
   "source": [
    "### Модель \"Cлучайный лес\""
   ]
  },
  {
   "cell_type": "markdown",
   "metadata": {},
   "source": [
    "**Взвешивание классов**"
   ]
  },
  {
   "cell_type": "code",
   "execution_count": 32,
   "metadata": {},
   "outputs": [
    {
     "name": "stdout",
     "output_type": "stream",
     "text": [
      "F1-мера наилучшей модели на валидационной выборке: 0.5979381443298969\n",
      "Наилучшая модель: RandomForestClassifier(class_weight='balanced', n_estimators=21,\n",
      "                       random_state=12345)\n"
     ]
    }
   ],
   "source": [
    "best_model = None\n",
    "best_result = 0\n",
    "for est in range(1, 101):\n",
    "    model_forest_weighing = RandomForestClassifier(random_state=12345, n_estimators=est, class_weight='balanced') \n",
    "    model_forest_weighing.fit(features_train, target_train) \n",
    "    predictions_valid = model_forest_weighing.predict(features_valid)\n",
    "    result = f1_score(target_valid, predictions_valid) \n",
    "    if result > best_result:\n",
    "        best_model = model_forest_weighing\n",
    "        best_result = result\n",
    "\n",
    "print(\"F1-мера наилучшей модели на валидационной выборке:\", best_result)\n",
    "print(\"Наилучшая модель:\", best_model)"
   ]
  },
  {
   "cell_type": "code",
   "execution_count": 33,
   "metadata": {},
   "outputs": [
    {
     "name": "stdout",
     "output_type": "stream",
     "text": [
      "AUC-ROC = 0.8488905926692285\n"
     ]
    }
   ],
   "source": [
    "model_forest_weighing = RandomForestClassifier(random_state=12345, n_estimators=21, class_weight='balanced') \n",
    "model_forest_weighing.fit(features_train, target_train) \n",
    "probabilities_valid = model_forest_weighing.predict_proba(features_valid)\n",
    "probabilities_one_valid = probabilities_valid[:, 1]\n",
    "\n",
    "print(\"AUC-ROC =\", roc_auc_score (target_valid , probabilities_one_valid))    \n",
    "    "
   ]
  },
  {
   "cell_type": "markdown",
   "metadata": {},
   "source": [
    "**upsampling (увеличение выборки)**"
   ]
  },
  {
   "cell_type": "code",
   "execution_count": 34,
   "metadata": {},
   "outputs": [
    {
     "name": "stdout",
     "output_type": "stream",
     "text": [
      "F1-мера наилучшей модели на валидационной выборке: 0.6276041666666667\n",
      "Наилучшая модель: RandomForestClassifier(n_estimators=23, random_state=12345)\n"
     ]
    }
   ],
   "source": [
    "best_model = None\n",
    "best_result = 0\n",
    "for est in range(1, 101, 2):\n",
    "    model_forest_up = RandomForestClassifier(random_state=12345, n_estimators=est) \n",
    "    model_forest_up.fit(features_upsampled, target_upsampled) \n",
    "    predictions_valid = model_forest_up.predict(features_valid)\n",
    "    result = f1_score(target_valid, predictions_valid) \n",
    "    if result > best_result:\n",
    "        best_model = model_forest_up\n",
    "        best_result = result\n",
    "\n",
    "print(\"F1-мера наилучшей модели на валидационной выборке:\", best_result)\n",
    "print(\"Наилучшая модель:\", best_model)"
   ]
  },
  {
   "cell_type": "code",
   "execution_count": 35,
   "metadata": {},
   "outputs": [
    {
     "name": "stdout",
     "output_type": "stream",
     "text": [
      "AUC-ROC = 0.8548248288008672\n"
     ]
    }
   ],
   "source": [
    "model_forest_up = RandomForestClassifier(random_state=12345, n_estimators=23) \n",
    "model_forest_up.fit(features_upsampled, target_upsampled) \n",
    "probabilities_valid = model_forest_up.predict_proba(features_valid)\n",
    "probabilities_one_valid = probabilities_valid[:, 1]\n",
    "\n",
    "print(\"AUC-ROC =\", roc_auc_score (target_valid , probabilities_one_valid))    "
   ]
  },
  {
   "cell_type": "markdown",
   "metadata": {},
   "source": [
    "**downsampling (уменьшение выборки)**"
   ]
  },
  {
   "cell_type": "code",
   "execution_count": 36,
   "metadata": {},
   "outputs": [
    {
     "name": "stdout",
     "output_type": "stream",
     "text": [
      "F1-мера наилучшей модели на валидационной выборке: 0.6063432835820896\n",
      "Наилучшая модель: RandomForestClassifier(n_estimators=97, random_state=12345)\n"
     ]
    }
   ],
   "source": [
    "best_model = None\n",
    "best_result = 0\n",
    "for est in range(1, 101, 2):\n",
    "    model_forest_down = RandomForestClassifier(random_state=12345, n_estimators=est) \n",
    "    model_forest_down.fit(features_downsampled, target_downsampled) \n",
    "    predictions_valid = model_forest_down.predict(features_valid)\n",
    "    result = f1_score(target_valid, predictions_valid) \n",
    "    if result > best_result:\n",
    "        best_model = model_forest_down\n",
    "        best_result = result\n",
    "\n",
    "print(\"F1-мера наилучшей модели на валидационной выборке:\", best_result)\n",
    "print(\"Наилучшая модель:\", best_model)"
   ]
  },
  {
   "cell_type": "code",
   "execution_count": 37,
   "metadata": {},
   "outputs": [
    {
     "name": "stdout",
     "output_type": "stream",
     "text": [
      "AUC-ROC = 0.8570718174204355\n"
     ]
    }
   ],
   "source": [
    "model_forest_down = RandomForestClassifier(random_state=12345, n_estimators=97) \n",
    "model_forest_down.fit(features_downsampled, target_downsampled) \n",
    "probabilities_valid = model_forest_down.predict_proba(features_valid)\n",
    "probabilities_one_valid = probabilities_valid[:, 1]\n",
    "\n",
    "print(\"AUC-ROC =\", roc_auc_score (target_valid , probabilities_one_valid))   "
   ]
  },
  {
   "cell_type": "markdown",
   "metadata": {},
   "source": [
    "### Логистическая регрессия"
   ]
  },
  {
   "cell_type": "markdown",
   "metadata": {},
   "source": [
    "**Взвешивание классов**"
   ]
  },
  {
   "cell_type": "code",
   "execution_count": 38,
   "metadata": {},
   "outputs": [
    {
     "name": "stdout",
     "output_type": "stream",
     "text": [
      "F1-мера на валидационной выборке: 0.5294635004397538\n"
     ]
    }
   ],
   "source": [
    "model_logist_weighing = LogisticRegression(random_state=12345, solver='liblinear', max_iter=1000, class_weight='balanced')\n",
    "model_logist_weighing.fit(features_train, target_train)\n",
    "\n",
    "predictions_valid = model_logist_weighing.predict(features_valid)\n",
    "\n",
    "print(\"F1-мера на валидационной выборке:\", f1_score(target_valid, predictions_valid))"
   ]
  },
  {
   "cell_type": "code",
   "execution_count": 39,
   "metadata": {},
   "outputs": [
    {
     "name": "stdout",
     "output_type": "stream",
     "text": [
      "AUC-ROC = 0.793745073406247\n"
     ]
    }
   ],
   "source": [
    "model_logist_weighing = LogisticRegression(random_state=12345, solver='liblinear', max_iter=1000, class_weight='balanced')\n",
    "model_logist_weighing.fit(features_train, target_train)\n",
    "probabilities_valid = model_logist_weighing.predict_proba(features_valid)\n",
    "probabilities_one_valid = probabilities_valid[:, 1]\n",
    "\n",
    "print(\"AUC-ROC =\", roc_auc_score (target_valid , probabilities_one_valid))   "
   ]
  },
  {
   "cell_type": "markdown",
   "metadata": {},
   "source": [
    "**upsampling (увеличение выборки)**"
   ]
  },
  {
   "cell_type": "code",
   "execution_count": 40,
   "metadata": {},
   "outputs": [
    {
     "name": "stdout",
     "output_type": "stream",
     "text": [
      "F1: 0.5294635004397538\n"
     ]
    }
   ],
   "source": [
    "model_logist_up = LogisticRegression(random_state=12345, solver='liblinear', max_iter=1000)\n",
    "model_logist_up.fit(features_upsampled, target_upsampled)\n",
    "predictions = model_logist_up.predict(features_valid)\n",
    "\n",
    "print(\"F1:\", f1_score(target_valid, predictions_valid))\n"
   ]
  },
  {
   "cell_type": "code",
   "execution_count": 41,
   "metadata": {},
   "outputs": [
    {
     "name": "stdout",
     "output_type": "stream",
     "text": [
      "AUC-ROC = 0.793802037146517\n"
     ]
    }
   ],
   "source": [
    "model_logist_up = LogisticRegression(random_state=12345, solver='liblinear', max_iter=1000)\n",
    "model_logist_up.fit(features_upsampled, target_upsampled)\n",
    "probabilities_valid = model_logist_up.predict_proba(features_valid)\n",
    "probabilities_one_valid = probabilities_valid[:, 1]\n",
    "\n",
    "print(\"AUC-ROC =\", roc_auc_score (target_valid , probabilities_one_valid))   "
   ]
  },
  {
   "cell_type": "markdown",
   "metadata": {},
   "source": [
    "**downsampling (уменьшение выборки)**"
   ]
  },
  {
   "cell_type": "code",
   "execution_count": 42,
   "metadata": {},
   "outputs": [
    {
     "name": "stdout",
     "output_type": "stream",
     "text": [
      "F1: 0.5294635004397538\n"
     ]
    }
   ],
   "source": [
    "model_logist_down = LogisticRegression(random_state=12345, solver='liblinear', max_iter=1000)\n",
    "model_logist_down.fit(features_downsampled, target_downsampled)\n",
    "predictions = model_logist_down.predict(features_valid)\n",
    "\n",
    "print(\"F1:\", f1_score(target_valid, predictions_valid))"
   ]
  },
  {
   "cell_type": "code",
   "execution_count": 43,
   "metadata": {},
   "outputs": [
    {
     "name": "stdout",
     "output_type": "stream",
     "text": [
      "AUC-ROC = 0.792693553552074\n"
     ]
    }
   ],
   "source": [
    "model_logist_down = LogisticRegression(random_state=12345, solver='liblinear', max_iter=1000)\n",
    "model_logist_down.fit(features_downsampled, target_downsampled)\n",
    "probabilities_valid = model_logist_down.predict_proba(features_valid)\n",
    "probabilities_one_valid = probabilities_valid[:, 1]\n",
    "\n",
    "print(\"AUC-ROC =\", roc_auc_score (target_valid , probabilities_one_valid))   "
   ]
  },
  {
   "cell_type": "markdown",
   "metadata": {},
   "source": [
    "### Вывод"
   ]
  },
  {
   "cell_type": "markdown",
   "metadata": {},
   "source": [
    "Рассмотрены три модели машинного обучения, получены следующие наилучшие значения f1-меры на валидационной выборке с учетом применения техник для борьбы с дисбалансом классов:\n",
    "1. **Модель\"Дерево решений\":** \n",
    "* `взвешивание классов`: F1=0.576, при max_depth=6. AUC-ROC = 0.823.\n",
    "* `upsampling (увеличение выборки)`: F1=0.576, при max_depth=6. AUC-ROC = 0.823.\n",
    "* `downsampling (уменьшение выборки)`: F1=0.594, при max_depth=6. AUC-ROC = 0.848.\n",
    "\n",
    "2. **Модель \"Случайный лес\":**\n",
    "* `взвешивание классов`: F1=0.598, при n_estimators=21. AUC-ROC = 0.849.\n",
    "* `upsampling (увеличение выборки)`: F1=0.628, при n_estimators=23. AUC-ROC = 0.855.\n",
    "* `downsampling (уменьшение выборки)`: F1=0.606, при n_estimators=97. AUC-ROC = 0.857.\n",
    "\n",
    "3. **Модель \"Логистическая регрессия\":**\n",
    "* `взвешивание классов`: F1=0.529. AUC-ROC = 0.794.\n",
    "* `upsampling (увеличение выборки)`: F1=0.529. AUC-ROC = 0.794.\n",
    "* `downsampling (уменьшение выборки)`: F1=0.529. AUC-ROC = 0.793.\n",
    "\n",
    "Таким образом, наилучшие значения f1-меры у модели \"Случайный лес\" при использовании техники `upsampling`: F1=0.628, при n_estimators=23. AUC-ROC = 0.855."
   ]
  },
  {
   "cell_type": "markdown",
   "metadata": {},
   "source": [
    "## Тестирование модели"
   ]
  },
  {
   "cell_type": "markdown",
   "metadata": {},
   "source": [
    "**Объединим обучающую и валидационную выборку и проведем обучение на ее основе.**"
   ]
  },
  {
   "cell_type": "code",
   "execution_count": 44,
   "metadata": {},
   "outputs": [
    {
     "name": "stdout",
     "output_type": "stream",
     "text": [
      "(8000, 11)\n",
      "(8000,)\n"
     ]
    }
   ],
   "source": [
    "features_train_forest = features_train.append(features_valid, ignore_index=True)\n",
    "target_train_forest = target_train.append(target_valid, ignore_index=True)\n",
    "print(features_train_forest.shape)\n",
    "print(target_train_forest.shape)"
   ]
  },
  {
   "cell_type": "markdown",
   "metadata": {},
   "source": [
    "**Проведем тестирование лучшей модели по результатам исследования: модель \"Случайный лес\" при использовании техники upsampling и n_estimators=23.**"
   ]
  },
  {
   "cell_type": "code",
   "execution_count": 45,
   "metadata": {
    "scrolled": true
   },
   "outputs": [
    {
     "name": "stdout",
     "output_type": "stream",
     "text": [
      "F1-мера наилучшей модели на тестовой выборке: 0.5775978407557355\n",
      "AUC-ROC на тестовой выборке = 0.8328744769422735\n",
      "Accuracy модели на тестовой выборке: 0.8435\n"
     ]
    }
   ],
   "source": [
    "features_upsampled, target_upsampled = upsample(features_train_forest, target_train_forest, 4)\n",
    "\n",
    "model_forest_up_test = RandomForestClassifier(random_state=12345, n_estimators=23) \n",
    "model_forest_up_test.fit(features_upsampled, target_upsampled) \n",
    "predictions_test = model_forest_up_test.predict(features_test)\n",
    "probabilities_test = model_forest_up_test.predict_proba(features_test)\n",
    "probabilities_one_test = probabilities_test[:, 1]\n",
    "\n",
    " \n",
    "print(\"F1-мера наилучшей модели на тестовой выборке:\", f1_score(target_test, predictions_test))\n",
    "print(\"AUC-ROC на тестовой выборке =\", roc_auc_score (target_test, probabilities_one_test))\n",
    "print(\"Accuracy модели на тестовой выборке:\", model_forest_up_test.score(features_test, target_test))"
   ]
  },
  {
   "cell_type": "markdown",
   "metadata": {},
   "source": [
    "**Изобразим ROC-кривую на графике.**"
   ]
  },
  {
   "cell_type": "code",
   "execution_count": 46,
   "metadata": {},
   "outputs": [
    {
     "data": {
      "image/png": "[encoded data removed]",
      "text/plain": [
       "<Figure size 432x288 with 1 Axes>"
      ]
     },
     "metadata": {
      "needs_background": "light"
     },
     "output_type": "display_data"
    }
   ],
   "source": [
    "fpr, tpr, thresholds = roc_curve(target_test, probabilities_one_test)\n",
    "\n",
    "plt.figure()\n",
    "plt.plot(fpr, tpr)\n",
    "plt.plot([0, 1], [0, 1], linestyle='--')\n",
    "plt.step(fpr, tpr)\n",
    "plt.ylim([0.0, 1.0])\n",
    "plt.xlim([0.0, 1.0])\n",
    "plt.xlabel('False Positive Rate')\n",
    "plt.ylabel('True Positive Rate')\n",
    "plt.title('ROC-кривая')\n",
    "\n",
    "plt.show()\n"
   ]
  },
  {
   "cell_type": "markdown",
   "metadata": {},
   "source": [
    "## Заключение"
   ]
  },
  {
   "cell_type": "markdown",
   "metadata": {},
   "source": [
    "На основании данных о поведении клиентов и расторжении ими договоров с банком осуществлен прогноз ухода клиента из банка в ближайшее время. Для этого были построены три модели машинного обучения с подбором оптимальных метрик:\n",
    "\n",
    "1. **Рассмотрены три модели машинного обучения, без учета дисбаланса классов**, получены следующие наилучшие значения f1-меры на валидационной выборке:\n",
    "\n",
    "* **Модель\"Дерево решений\":** F1=0.592, при max_depth=7. AUC-ROC = 0.823\n",
    "* **Модель \"Случайный лес\":** F1=0.611, при n_estimators=77. AUC-ROC = 0.860\n",
    "* **Модель \"Логистическая регрессия\":** F1=0.305. AUC-ROC = 0.787\n",
    "\n",
    "**Таким образом, наилучшие значения f1-меры у модели \"Случайный лес\": F1=0.611, при n_estimators=77. AUC-ROC = 0.860, качество лучше, чем у случайной модели.**\n",
    "\n",
    "2. **Рассмотрены три модели машинного обучения**, получены следующие наилучшие значения f1-меры на валидационной выборке **с учетом применения техник для борьбы с дисбалансом классов**:\n",
    "\n",
    "**Модель\"Дерево решений\":** \n",
    "* `взвешивание классов`: F1=0.576, при max_depth=6. AUC-ROC = 0.823.\n",
    "* `upsampling (увеличение выборки)`: F1=0.576, при max_depth=6. AUC-ROC = 0.823.\n",
    "* `downsampling (уменьшение выборки)`: F1=0.594, при max_depth=6. AUC-ROC = 0.848.\n",
    "\n",
    "**Модель \"Случайный лес\":**\n",
    "* `взвешивание классов`: F1=0.598, при n_estimators=21. AUC-ROC = 0.849.\n",
    "* `upsampling (увеличение выборки)`: F1=0.628, при n_estimators=23. AUC-ROC = 0.855.\n",
    "* `downsampling (уменьшение выборки)`: F1=0.606, при n_estimators=97. AUC-ROC = 0.857.\n",
    "\n",
    "**Модель \"Логистическая регрессия\":**\n",
    "* `взвешивание классов`: F1=0.529. AUC-ROC = 0.794.\n",
    "* `upsampling (увеличение выборки)`: F1=0.529. AUC-ROC = 0.794.\n",
    "* `downsampling (уменьшение выборки)`: F1=0.529. AUC-ROC = 0.793.\n",
    "\n",
    "**Таким образом, наилучшие значения f1-меры у модели \"Случайный лес\" при использовании техники `upsampling`: F1=0.628, при n_estimators=23. AUC-ROC = 0.855.**\n",
    "\n",
    "3. **Проведено тестирование лучшей модели** (модель \"Случайный лес\" с использованием техники upsampling и n_estimators=23) на тестовой выборки со следуюими результатами:\n",
    "* F1-мера на тестовой выборке = 0.578\n",
    "* AUC-ROC на тестовой выборке = 0.833\n",
    "* Accuracy модели на тестовой выборке = 0.844"
   ]
  }
 ],
 "metadata": {
  "ExecuteTimeLog": [
   {
    "duration": 1254,
    "start_time": "2022-06-14T18:32:38.788Z"
   },
   {
    "duration": 136,
    "start_time": "2022-06-14T18:35:02.517Z"
   },
   {
    "duration": 5,
    "start_time": "2022-06-14T18:35:02.656Z"
   },
   {
    "duration": 45,
    "start_time": "2022-06-14T18:39:17.916Z"
   },
   {
    "duration": 76,
    "start_time": "2022-06-14T18:39:19.621Z"
   },
   {
    "duration": 14,
    "start_time": "2022-06-14T18:39:33.328Z"
   },
   {
    "duration": 59,
    "start_time": "2022-06-14T18:39:40.902Z"
   },
   {
    "duration": 16,
    "start_time": "2022-06-14T18:39:45.531Z"
   },
   {
    "duration": 55,
    "start_time": "2022-06-14T18:40:27.662Z"
   },
   {
    "duration": 10,
    "start_time": "2022-06-14T18:40:27.737Z"
   },
   {
    "duration": 3,
    "start_time": "2022-06-14T19:05:22.292Z"
   },
   {
    "duration": 4,
    "start_time": "2022-06-15T20:49:07.596Z"
   },
   {
    "duration": 69,
    "start_time": "2022-06-15T20:50:33.879Z"
   },
   {
    "duration": 1064,
    "start_time": "2022-06-15T20:50:43.583Z"
   },
   {
    "duration": 100,
    "start_time": "2022-06-15T20:50:44.824Z"
   },
   {
    "duration": 15,
    "start_time": "2022-06-15T20:50:49.949Z"
   },
   {
    "duration": 40,
    "start_time": "2022-06-15T20:50:56.764Z"
   },
   {
    "duration": 12,
    "start_time": "2022-06-15T20:50:59.615Z"
   },
   {
    "duration": 15,
    "start_time": "2022-06-15T20:51:05.930Z"
   },
   {
    "duration": 12,
    "start_time": "2022-06-15T20:53:49.562Z"
   },
   {
    "duration": 52,
    "start_time": "2022-06-15T21:13:14.999Z"
   },
   {
    "duration": 29,
    "start_time": "2022-06-15T21:24:02.313Z"
   },
   {
    "duration": 23,
    "start_time": "2022-06-15T21:29:46.916Z"
   },
   {
    "duration": 60,
    "start_time": "2022-06-15T21:33:58.418Z"
   },
   {
    "duration": 19,
    "start_time": "2022-06-15T21:51:46.300Z"
   },
   {
    "duration": 9,
    "start_time": "2022-06-15T22:02:52.016Z"
   },
   {
    "duration": 11,
    "start_time": "2022-06-15T22:04:01.214Z"
   },
   {
    "duration": 40,
    "start_time": "2022-06-15T22:05:03.635Z"
   },
   {
    "duration": 3,
    "start_time": "2022-06-15T22:07:30.720Z"
   },
   {
    "duration": 97,
    "start_time": "2022-06-15T22:07:30.724Z"
   },
   {
    "duration": 27,
    "start_time": "2022-06-15T22:07:30.823Z"
   },
   {
    "duration": 69,
    "start_time": "2022-06-15T22:07:30.859Z"
   },
   {
    "duration": 11,
    "start_time": "2022-06-15T22:07:30.931Z"
   },
   {
    "duration": 17,
    "start_time": "2022-06-15T22:07:31.070Z"
   },
   {
    "duration": 40,
    "start_time": "2022-06-15T22:07:31.089Z"
   },
   {
    "duration": 66,
    "start_time": "2022-06-15T22:07:31.190Z"
   },
   {
    "duration": 29,
    "start_time": "2022-06-15T22:07:31.260Z"
   },
   {
    "duration": 9,
    "start_time": "2022-06-15T22:07:49.015Z"
   },
   {
    "duration": 18,
    "start_time": "2022-06-15T22:25:50.571Z"
   },
   {
    "duration": 20,
    "start_time": "2022-06-15T22:28:05.725Z"
   },
   {
    "duration": 5,
    "start_time": "2022-06-15T22:29:52.317Z"
   },
   {
    "duration": 5,
    "start_time": "2022-06-15T22:30:22.153Z"
   },
   {
    "duration": 25,
    "start_time": "2022-06-15T22:34:07.644Z"
   },
   {
    "duration": 9,
    "start_time": "2022-06-15T22:53:09.501Z"
   },
   {
    "duration": 11,
    "start_time": "2022-06-15T22:53:11.437Z"
   },
   {
    "duration": 45,
    "start_time": "2022-06-15T22:57:38.634Z"
   },
   {
    "duration": 3,
    "start_time": "2022-06-15T22:59:52.196Z"
   },
   {
    "duration": 23,
    "start_time": "2022-06-15T23:12:31.347Z"
   },
   {
    "duration": 30,
    "start_time": "2022-06-15T23:13:13.811Z"
   },
   {
    "duration": 721,
    "start_time": "2022-06-15T23:21:54.988Z"
   },
   {
    "duration": 174,
    "start_time": "2022-06-16T08:39:02.633Z"
   },
   {
    "duration": 3,
    "start_time": "2022-06-16T08:39:17.073Z"
   },
   {
    "duration": 54,
    "start_time": "2022-06-16T08:39:17.080Z"
   },
   {
    "duration": 12,
    "start_time": "2022-06-16T08:39:17.137Z"
   },
   {
    "duration": 50,
    "start_time": "2022-06-16T08:39:17.151Z"
   },
   {
    "duration": 11,
    "start_time": "2022-06-16T08:39:17.203Z"
   },
   {
    "duration": 13,
    "start_time": "2022-06-16T08:39:17.216Z"
   },
   {
    "duration": 13,
    "start_time": "2022-06-16T08:39:17.231Z"
   },
   {
    "duration": 63,
    "start_time": "2022-06-16T08:39:17.246Z"
   },
   {
    "duration": 19,
    "start_time": "2022-06-16T08:39:17.311Z"
   },
   {
    "duration": 8,
    "start_time": "2022-06-16T08:39:17.332Z"
   },
   {
    "duration": 4,
    "start_time": "2022-06-16T08:39:17.342Z"
   },
   {
    "duration": 8,
    "start_time": "2022-06-16T08:39:17.348Z"
   },
   {
    "duration": 49,
    "start_time": "2022-06-16T08:39:17.357Z"
   },
   {
    "duration": 7,
    "start_time": "2022-06-16T08:39:17.408Z"
   },
   {
    "duration": 8,
    "start_time": "2022-06-16T08:39:17.417Z"
   },
   {
    "duration": 68,
    "start_time": "2022-06-16T08:39:17.426Z"
   },
   {
    "duration": 34,
    "start_time": "2022-06-16T08:39:17.496Z"
   },
   {
    "duration": 105,
    "start_time": "2022-06-16T08:39:20.747Z"
   },
   {
    "duration": 108,
    "start_time": "2022-06-16T08:39:38.336Z"
   },
   {
    "duration": 4,
    "start_time": "2022-06-16T08:46:24.910Z"
   },
   {
    "duration": 115,
    "start_time": "2022-06-16T08:49:47.947Z"
   },
   {
    "duration": 32,
    "start_time": "2022-06-16T09:00:51.215Z"
   },
   {
    "duration": 204,
    "start_time": "2022-06-16T09:01:37.838Z"
   },
   {
    "duration": 13,
    "start_time": "2022-06-16T09:13:56.250Z"
   },
   {
    "duration": 15,
    "start_time": "2022-06-16T13:50:19.496Z"
   },
   {
    "duration": 128,
    "start_time": "2022-06-16T13:50:39.860Z"
   },
   {
    "duration": 155,
    "start_time": "2022-06-16T13:51:59.288Z"
   },
   {
    "duration": 4,
    "start_time": "2022-06-16T14:08:56.457Z"
   },
   {
    "duration": 21,
    "start_time": "2022-06-16T14:26:20.848Z"
   },
   {
    "duration": 3,
    "start_time": "2022-06-16T14:27:17.861Z"
   },
   {
    "duration": 211,
    "start_time": "2022-06-16T14:27:33.157Z"
   },
   {
    "duration": 230,
    "start_time": "2022-06-16T14:28:49.120Z"
   },
   {
    "duration": 197,
    "start_time": "2022-06-16T14:29:46.773Z"
   },
   {
    "duration": 31241,
    "start_time": "2022-06-16T14:48:34.487Z"
   },
   {
    "duration": 899,
    "start_time": "2022-06-16T14:54:32.501Z"
   },
   {
    "duration": 310,
    "start_time": "2022-06-16T15:43:17.189Z"
   },
   {
    "duration": 190,
    "start_time": "2022-06-16T15:55:16.477Z"
   },
   {
    "duration": 31848,
    "start_time": "2022-06-16T15:58:23.023Z"
   },
   {
    "duration": 37,
    "start_time": "2022-06-16T16:32:34.259Z"
   },
   {
    "duration": 20,
    "start_time": "2022-06-16T16:33:04.198Z"
   },
   {
    "duration": 21,
    "start_time": "2022-06-16T17:23:10.524Z"
   },
   {
    "duration": 4,
    "start_time": "2022-06-16T17:23:46.555Z"
   },
   {
    "duration": 27,
    "start_time": "2022-06-16T17:24:07.189Z"
   },
   {
    "duration": 27,
    "start_time": "2022-06-16T17:25:15.901Z"
   },
   {
    "duration": 18,
    "start_time": "2022-06-16T17:26:45.193Z"
   },
   {
    "duration": 33,
    "start_time": "2022-06-16T17:28:37.239Z"
   },
   {
    "duration": 40,
    "start_time": "2022-06-16T17:29:53.121Z"
   },
   {
    "duration": 32,
    "start_time": "2022-06-16T17:45:37.787Z"
   },
   {
    "duration": 269,
    "start_time": "2022-06-16T17:55:11.793Z"
   },
   {
    "duration": 11,
    "start_time": "2022-06-16T18:17:13.065Z"
   },
   {
    "duration": 10,
    "start_time": "2022-06-16T18:26:34.288Z"
   },
   {
    "duration": 4,
    "start_time": "2022-06-16T18:33:06.857Z"
   },
   {
    "duration": 53,
    "start_time": "2022-06-16T18:33:06.866Z"
   },
   {
    "duration": 13,
    "start_time": "2022-06-16T18:33:06.922Z"
   },
   {
    "duration": 58,
    "start_time": "2022-06-16T18:33:06.937Z"
   },
   {
    "duration": 11,
    "start_time": "2022-06-16T18:33:06.997Z"
   },
   {
    "duration": 13,
    "start_time": "2022-06-16T18:33:07.010Z"
   },
   {
    "duration": 16,
    "start_time": "2022-06-16T18:33:07.025Z"
   },
   {
    "duration": 68,
    "start_time": "2022-06-16T18:33:07.043Z"
   },
   {
    "duration": 19,
    "start_time": "2022-06-16T18:33:07.113Z"
   },
   {
    "duration": 10,
    "start_time": "2022-06-16T18:33:07.133Z"
   },
   {
    "duration": 5,
    "start_time": "2022-06-16T18:33:07.144Z"
   },
   {
    "duration": 7,
    "start_time": "2022-06-16T18:33:07.151Z"
   },
   {
    "duration": 51,
    "start_time": "2022-06-16T18:33:07.160Z"
   },
   {
    "duration": 12,
    "start_time": "2022-06-16T18:33:07.212Z"
   },
   {
    "duration": 44,
    "start_time": "2022-06-16T18:33:07.227Z"
   },
   {
    "duration": 52,
    "start_time": "2022-06-16T18:33:07.273Z"
   },
   {
    "duration": 196,
    "start_time": "2022-06-16T18:33:25.190Z"
   },
   {
    "duration": 120,
    "start_time": "2022-06-16T18:33:30.804Z"
   },
   {
    "duration": 188,
    "start_time": "2022-06-16T18:35:13.470Z"
   },
   {
    "duration": 178,
    "start_time": "2022-06-16T18:39:57.419Z"
   },
   {
    "duration": 31670,
    "start_time": "2022-06-16T18:42:34.448Z"
   },
   {
    "duration": 21,
    "start_time": "2022-06-16T18:43:59.429Z"
   },
   {
    "duration": 194,
    "start_time": "2022-06-16T18:44:47.689Z"
   },
   {
    "duration": 248,
    "start_time": "2022-06-16T18:46:35.312Z"
   },
   {
    "duration": 30906,
    "start_time": "2022-06-16T18:49:17.079Z"
   },
   {
    "duration": 44302,
    "start_time": "2022-06-16T18:56:10.886Z"
   },
   {
    "duration": 31875,
    "start_time": "2022-06-16T18:58:49.113Z"
   },
   {
    "duration": 44764,
    "start_time": "2022-06-16T19:00:17.202Z"
   },
   {
    "duration": 29,
    "start_time": "2022-06-16T19:01:28.493Z"
   },
   {
    "duration": 27,
    "start_time": "2022-06-16T19:02:48.454Z"
   },
   {
    "duration": 27,
    "start_time": "2022-06-16T19:04:20.967Z"
   },
   {
    "duration": 27,
    "start_time": "2022-06-16T19:11:04.396Z"
   },
   {
    "duration": 11,
    "start_time": "2022-06-16T19:14:12.163Z"
   },
   {
    "duration": 12,
    "start_time": "2022-06-16T20:02:06.432Z"
   },
   {
    "duration": 22,
    "start_time": "2022-06-16T20:21:28.151Z"
   },
   {
    "duration": 25,
    "start_time": "2022-06-16T20:21:50.318Z"
   },
   {
    "duration": 5,
    "start_time": "2022-06-16T20:29:01.478Z"
   },
   {
    "duration": 224,
    "start_time": "2022-06-16T20:31:44.353Z"
   },
   {
    "duration": 120,
    "start_time": "2022-06-16T20:33:58.089Z"
   },
   {
    "duration": 21069,
    "start_time": "2022-06-16T20:36:32.436Z"
   },
   {
    "duration": 8560,
    "start_time": "2022-06-16T20:38:53.011Z"
   },
   {
    "duration": 15,
    "start_time": "2022-06-16T20:41:07.964Z"
   },
   {
    "duration": 6,
    "start_time": "2022-06-16T21:21:13.588Z"
   },
   {
    "duration": 17,
    "start_time": "2022-06-16T21:22:55.749Z"
   },
   {
    "duration": 9,
    "start_time": "2022-06-16T21:23:10.731Z"
   },
   {
    "duration": 7,
    "start_time": "2022-06-16T21:23:35.629Z"
   },
   {
    "duration": 9,
    "start_time": "2022-06-16T21:23:59.317Z"
   },
   {
    "duration": 7,
    "start_time": "2022-06-16T21:24:20.837Z"
   },
   {
    "duration": 1122,
    "start_time": "2022-06-16T21:30:31.394Z"
   },
   {
    "duration": 1063,
    "start_time": "2022-06-16T21:30:53.408Z"
   },
   {
    "duration": 57,
    "start_time": "2022-06-16T21:40:29.937Z"
   },
   {
    "duration": 8,
    "start_time": "2022-06-16T21:43:37.674Z"
   },
   {
    "duration": 22,
    "start_time": "2022-06-16T21:44:40.091Z"
   },
   {
    "duration": 8,
    "start_time": "2022-06-16T21:45:48.206Z"
   },
   {
    "duration": 7,
    "start_time": "2022-06-16T21:49:17.506Z"
   },
   {
    "duration": 29,
    "start_time": "2022-06-16T21:52:34.431Z"
   },
   {
    "duration": 272,
    "start_time": "2022-06-16T21:54:34.222Z"
   },
   {
    "duration": 21,
    "start_time": "2022-06-16T21:55:32.008Z"
   },
   {
    "duration": 2,
    "start_time": "2022-06-16T21:56:06.961Z"
   },
   {
    "duration": 23,
    "start_time": "2022-06-16T22:19:24.288Z"
   },
   {
    "duration": 34,
    "start_time": "2022-06-16T22:21:23.900Z"
   },
   {
    "duration": 17,
    "start_time": "2022-06-16T22:23:10.189Z"
   },
   {
    "duration": 380,
    "start_time": "2022-06-16T22:27:21.587Z"
   },
   {
    "duration": 1035,
    "start_time": "2022-06-16T22:28:53.443Z"
   },
   {
    "duration": 94,
    "start_time": "2022-06-16T22:30:53.659Z"
   },
   {
    "duration": 26,
    "start_time": "2022-06-16T22:33:13.812Z"
   },
   {
    "duration": 36,
    "start_time": "2022-06-16T22:34:49.888Z"
   },
   {
    "duration": 15,
    "start_time": "2022-06-16T22:35:44.543Z"
   },
   {
    "duration": 1102,
    "start_time": "2022-06-16T22:52:39.337Z"
   },
   {
    "duration": 4,
    "start_time": "2022-06-17T09:05:35.113Z"
   },
   {
    "duration": 59,
    "start_time": "2022-06-17T09:05:35.120Z"
   },
   {
    "duration": 13,
    "start_time": "2022-06-17T09:05:35.181Z"
   },
   {
    "duration": 80,
    "start_time": "2022-06-17T09:05:35.197Z"
   },
   {
    "duration": 16,
    "start_time": "2022-06-17T09:05:35.279Z"
   },
   {
    "duration": 28,
    "start_time": "2022-06-17T09:05:35.297Z"
   },
   {
    "duration": 12,
    "start_time": "2022-06-17T09:05:57.155Z"
   },
   {
    "duration": 51,
    "start_time": "2022-06-17T09:06:05.260Z"
   },
   {
    "duration": 84,
    "start_time": "2022-06-17T09:06:28.559Z"
   },
   {
    "duration": 65,
    "start_time": "2022-06-17T09:06:48.997Z"
   },
   {
    "duration": 27,
    "start_time": "2022-06-17T09:10:25.137Z"
   },
   {
    "duration": 39,
    "start_time": "2022-06-17T09:21:09.201Z"
   },
   {
    "duration": 20,
    "start_time": "2022-06-17T09:21:11.208Z"
   },
   {
    "duration": 42,
    "start_time": "2022-06-17T09:34:31.152Z"
   },
   {
    "duration": 52,
    "start_time": "2022-06-17T09:37:33.041Z"
   },
   {
    "duration": 69,
    "start_time": "2022-06-17T09:38:16.667Z"
   },
   {
    "duration": 59,
    "start_time": "2022-06-17T09:38:39.885Z"
   },
   {
    "duration": 25,
    "start_time": "2022-06-17T09:40:21.894Z"
   },
   {
    "duration": 30,
    "start_time": "2022-06-17T09:41:06.969Z"
   },
   {
    "duration": 44,
    "start_time": "2022-06-17T09:41:51.453Z"
   },
   {
    "duration": 46,
    "start_time": "2022-06-17T09:42:22.846Z"
   },
   {
    "duration": 8,
    "start_time": "2022-06-17T09:43:15.267Z"
   },
   {
    "duration": 4,
    "start_time": "2022-06-17T09:43:40.186Z"
   },
   {
    "duration": 25,
    "start_time": "2022-06-17T09:43:49.101Z"
   },
   {
    "duration": 10,
    "start_time": "2022-06-17T09:44:33.002Z"
   },
   {
    "duration": 6,
    "start_time": "2022-06-17T09:58:53.589Z"
   },
   {
    "duration": 6,
    "start_time": "2022-06-17T09:58:56.918Z"
   },
   {
    "duration": 19,
    "start_time": "2022-06-17T09:58:59.974Z"
   },
   {
    "duration": 73,
    "start_time": "2022-06-17T09:59:21.991Z"
   },
   {
    "duration": 12,
    "start_time": "2022-06-17T09:59:43.082Z"
   },
   {
    "duration": 43,
    "start_time": "2022-06-17T10:00:02.905Z"
   },
   {
    "duration": 34,
    "start_time": "2022-06-17T10:01:06.737Z"
   },
   {
    "duration": 32,
    "start_time": "2022-06-17T10:06:29.442Z"
   },
   {
    "duration": 33,
    "start_time": "2022-06-17T10:06:46.846Z"
   },
   {
    "duration": 30,
    "start_time": "2022-06-17T10:08:25.410Z"
   },
   {
    "duration": 30,
    "start_time": "2022-06-17T10:08:49.587Z"
   },
   {
    "duration": 169,
    "start_time": "2022-06-17T10:11:39.039Z"
   },
   {
    "duration": 188,
    "start_time": "2022-06-17T10:12:01.330Z"
   },
   {
    "duration": 4,
    "start_time": "2022-06-17T10:13:26.110Z"
   },
   {
    "duration": 64,
    "start_time": "2022-06-17T10:13:26.143Z"
   },
   {
    "duration": 17,
    "start_time": "2022-06-17T10:13:26.210Z"
   },
   {
    "duration": 71,
    "start_time": "2022-06-17T10:13:26.229Z"
   },
   {
    "duration": 16,
    "start_time": "2022-06-17T10:13:26.302Z"
   },
   {
    "duration": 39,
    "start_time": "2022-06-17T10:13:26.321Z"
   },
   {
    "duration": 17,
    "start_time": "2022-06-17T10:13:26.362Z"
   },
   {
    "duration": 47,
    "start_time": "2022-06-17T10:13:26.381Z"
   },
   {
    "duration": 50,
    "start_time": "2022-06-17T10:13:26.430Z"
   },
   {
    "duration": 10,
    "start_time": "2022-06-17T10:13:26.482Z"
   },
   {
    "duration": 5,
    "start_time": "2022-06-17T10:13:26.514Z"
   },
   {
    "duration": 6,
    "start_time": "2022-06-17T10:13:26.571Z"
   },
   {
    "duration": 29,
    "start_time": "2022-06-17T10:13:26.579Z"
   },
   {
    "duration": 16,
    "start_time": "2022-06-17T10:13:26.610Z"
   },
   {
    "duration": 84,
    "start_time": "2022-06-17T10:13:26.629Z"
   },
   {
    "duration": 68,
    "start_time": "2022-06-17T10:13:26.715Z"
   },
   {
    "duration": 186,
    "start_time": "2022-06-17T10:13:26.785Z"
   },
   {
    "duration": 213,
    "start_time": "2022-06-17T10:13:26.973Z"
   },
   {
    "duration": 31,
    "start_time": "2022-06-17T10:13:27.187Z"
   },
   {
    "duration": 37018,
    "start_time": "2022-06-17T10:13:27.220Z"
   },
   {
    "duration": 321,
    "start_time": "2022-06-17T10:14:04.240Z"
   },
   {
    "duration": 97,
    "start_time": "2022-06-17T10:14:04.562Z"
   },
   {
    "duration": 100,
    "start_time": "2022-06-17T10:14:04.662Z"
   },
   {
    "duration": 100,
    "start_time": "2022-06-17T10:14:04.768Z"
   },
   {
    "duration": 12,
    "start_time": "2022-06-17T10:14:04.870Z"
   },
   {
    "duration": 228,
    "start_time": "2022-06-17T10:14:04.884Z"
   },
   {
    "duration": 23,
    "start_time": "2022-06-17T10:14:05.114Z"
   },
   {
    "duration": 265,
    "start_time": "2022-06-17T10:14:05.159Z"
   },
   {
    "duration": 52,
    "start_time": "2022-06-17T10:14:05.425Z"
   },
   {
    "duration": 130,
    "start_time": "2022-06-17T10:14:05.479Z"
   },
   {
    "duration": 15,
    "start_time": "2022-06-17T10:14:05.611Z"
   },
   {
    "duration": 37972,
    "start_time": "2022-06-17T10:14:05.627Z"
   },
   {
    "duration": 497,
    "start_time": "2022-06-17T10:14:43.601Z"
   },
   {
    "duration": 27074,
    "start_time": "2022-06-17T10:14:44.100Z"
   },
   {
    "duration": 1398,
    "start_time": "2022-06-17T10:15:11.176Z"
   },
   {
    "duration": 11883,
    "start_time": "2022-06-17T10:15:12.576Z"
   },
   {
    "duration": 157,
    "start_time": "2022-06-17T10:15:24.461Z"
   },
   {
    "duration": 151,
    "start_time": "2022-06-17T10:15:24.620Z"
   },
   {
    "duration": 127,
    "start_time": "2022-06-17T10:15:24.775Z"
   },
   {
    "duration": 187,
    "start_time": "2022-06-17T10:15:24.907Z"
   },
   {
    "duration": 168,
    "start_time": "2022-06-17T10:15:25.096Z"
   },
   {
    "duration": 198,
    "start_time": "2022-06-17T10:15:25.268Z"
   },
   {
    "duration": 104,
    "start_time": "2022-06-17T10:15:25.473Z"
   },
   {
    "duration": 15,
    "start_time": "2022-06-17T10:34:34.995Z"
   },
   {
    "duration": 196,
    "start_time": "2022-06-17T10:35:14.477Z"
   },
   {
    "duration": 4,
    "start_time": "2022-06-17T10:35:59.053Z"
   },
   {
    "duration": 66,
    "start_time": "2022-06-17T10:35:59.061Z"
   },
   {
    "duration": 17,
    "start_time": "2022-06-17T10:35:59.129Z"
   },
   {
    "duration": 42,
    "start_time": "2022-06-17T10:35:59.148Z"
   },
   {
    "duration": 11,
    "start_time": "2022-06-17T10:35:59.192Z"
   },
   {
    "duration": 14,
    "start_time": "2022-06-17T10:35:59.204Z"
   },
   {
    "duration": 12,
    "start_time": "2022-06-17T10:35:59.220Z"
   },
   {
    "duration": 40,
    "start_time": "2022-06-17T10:35:59.259Z"
   },
   {
    "duration": 21,
    "start_time": "2022-06-17T10:35:59.301Z"
   },
   {
    "duration": 35,
    "start_time": "2022-06-17T10:35:59.324Z"
   },
   {
    "duration": 6,
    "start_time": "2022-06-17T10:35:59.361Z"
   },
   {
    "duration": 21,
    "start_time": "2022-06-17T10:35:59.368Z"
   },
   {
    "duration": 30,
    "start_time": "2022-06-17T10:35:59.391Z"
   },
   {
    "duration": 41,
    "start_time": "2022-06-17T10:35:59.424Z"
   },
   {
    "duration": 52,
    "start_time": "2022-06-17T10:35:59.467Z"
   },
   {
    "duration": 64,
    "start_time": "2022-06-17T10:35:59.521Z"
   },
   {
    "duration": 138,
    "start_time": "2022-06-17T10:35:59.587Z"
   },
   {
    "duration": 220,
    "start_time": "2022-06-17T10:35:59.727Z"
   },
   {
    "duration": 37,
    "start_time": "2022-06-17T10:35:59.949Z"
   },
   {
    "duration": 38597,
    "start_time": "2022-06-17T10:35:59.988Z"
   },
   {
    "duration": 342,
    "start_time": "2022-06-17T10:36:38.586Z"
   },
   {
    "duration": 37,
    "start_time": "2022-06-17T10:36:38.929Z"
   },
   {
    "duration": 94,
    "start_time": "2022-06-17T10:36:38.971Z"
   },
   {
    "duration": 102,
    "start_time": "2022-06-17T10:36:39.066Z"
   },
   {
    "duration": 13,
    "start_time": "2022-06-17T10:36:39.170Z"
   },
   {
    "duration": 278,
    "start_time": "2022-06-17T10:36:39.184Z"
   },
   {
    "duration": 29,
    "start_time": "2022-06-17T10:36:39.464Z"
   },
   {
    "duration": 292,
    "start_time": "2022-06-17T10:36:39.495Z"
   },
   {
    "duration": 27,
    "start_time": "2022-06-17T10:36:39.788Z"
   },
   {
    "duration": 132,
    "start_time": "2022-06-17T10:36:39.817Z"
   },
   {
    "duration": 22,
    "start_time": "2022-06-17T10:36:39.951Z"
   },
   {
    "duration": 37999,
    "start_time": "2022-06-17T10:36:39.974Z"
   },
   {
    "duration": 459,
    "start_time": "2022-06-17T10:37:17.975Z"
   },
   {
    "duration": 27652,
    "start_time": "2022-06-17T10:37:18.435Z"
   },
   {
    "duration": 1058,
    "start_time": "2022-06-17T10:37:46.089Z"
   },
   {
    "duration": 10616,
    "start_time": "2022-06-17T10:37:47.149Z"
   },
   {
    "duration": 120,
    "start_time": "2022-06-17T10:37:57.767Z"
   },
   {
    "duration": 77,
    "start_time": "2022-06-17T10:37:57.889Z"
   },
   {
    "duration": 191,
    "start_time": "2022-06-17T10:37:57.968Z"
   },
   {
    "duration": 190,
    "start_time": "2022-06-17T10:37:58.168Z"
   },
   {
    "duration": 179,
    "start_time": "2022-06-17T10:37:58.381Z"
   },
   {
    "duration": 97,
    "start_time": "2022-06-17T10:37:58.562Z"
   },
   {
    "duration": 132,
    "start_time": "2022-06-17T10:37:58.661Z"
   },
   {
    "duration": 69,
    "start_time": "2022-06-17T10:37:58.795Z"
   },
   {
    "duration": 1395,
    "start_time": "2022-06-17T10:40:20.905Z"
   },
   {
    "duration": 35,
    "start_time": "2022-06-17T10:55:32.135Z"
   },
   {
    "duration": 50,
    "start_time": "2022-06-17T10:57:36.759Z"
   },
   {
    "duration": 1825,
    "start_time": "2022-06-17T15:52:46.914Z"
   },
   {
    "duration": 199,
    "start_time": "2022-06-17T15:52:48.741Z"
   },
   {
    "duration": 14,
    "start_time": "2022-06-17T15:52:48.942Z"
   },
   {
    "duration": 42,
    "start_time": "2022-06-17T15:52:48.958Z"
   },
   {
    "duration": 30,
    "start_time": "2022-06-17T15:52:49.002Z"
   },
   {
    "duration": 11,
    "start_time": "2022-06-17T15:52:49.034Z"
   },
   {
    "duration": 14,
    "start_time": "2022-06-17T15:52:49.048Z"
   },
   {
    "duration": 64,
    "start_time": "2022-06-17T15:52:49.064Z"
   },
   {
    "duration": 25,
    "start_time": "2022-06-17T15:52:49.130Z"
   },
   {
    "duration": 9,
    "start_time": "2022-06-17T15:52:49.156Z"
   },
   {
    "duration": 6,
    "start_time": "2022-06-17T15:52:49.167Z"
   },
   {
    "duration": 8,
    "start_time": "2022-06-17T15:52:49.175Z"
   },
   {
    "duration": 51,
    "start_time": "2022-06-17T15:52:49.185Z"
   },
   {
    "duration": 24,
    "start_time": "2022-06-17T15:52:49.241Z"
   },
   {
    "duration": 38,
    "start_time": "2022-06-17T15:52:49.267Z"
   },
   {
    "duration": 31,
    "start_time": "2022-06-17T15:52:49.326Z"
   },
   {
    "duration": 134,
    "start_time": "2022-06-17T15:52:49.359Z"
   },
   {
    "duration": 183,
    "start_time": "2022-06-17T15:52:49.495Z"
   },
   {
    "duration": 27,
    "start_time": "2022-06-17T15:52:49.680Z"
   },
   {
    "duration": 33939,
    "start_time": "2022-06-17T15:52:49.708Z"
   },
   {
    "duration": 309,
    "start_time": "2022-06-17T15:53:23.649Z"
   },
   {
    "duration": 38,
    "start_time": "2022-06-17T15:53:23.959Z"
   },
   {
    "duration": 14,
    "start_time": "2022-06-17T15:53:24.026Z"
   },
   {
    "duration": 98,
    "start_time": "2022-06-17T15:53:24.041Z"
   },
   {
    "duration": 106,
    "start_time": "2022-06-17T15:53:24.141Z"
   },
   {
    "duration": 182,
    "start_time": "2022-06-17T15:53:24.249Z"
   },
   {
    "duration": 22,
    "start_time": "2022-06-17T15:53:24.433Z"
   },
   {
    "duration": 230,
    "start_time": "2022-06-17T15:53:24.457Z"
   },
   {
    "duration": 38,
    "start_time": "2022-06-17T15:53:24.688Z"
   },
   {
    "duration": 114,
    "start_time": "2022-06-17T15:53:24.728Z"
   },
   {
    "duration": 14,
    "start_time": "2022-06-17T15:53:24.843Z"
   },
   {
    "duration": 32413,
    "start_time": "2022-06-17T15:53:24.858Z"
   },
   {
    "duration": 97,
    "start_time": "2022-06-17T15:53:57.272Z"
   },
   {
    "duration": 22830,
    "start_time": "2022-06-17T15:53:57.371Z"
   },
   {
    "duration": 882,
    "start_time": "2022-06-17T15:54:20.203Z"
   },
   {
    "duration": 8610,
    "start_time": "2022-06-17T15:54:21.087Z"
   },
   {
    "duration": 264,
    "start_time": "2022-06-17T15:54:29.698Z"
   },
   {
    "duration": 19,
    "start_time": "2022-06-17T15:54:29.964Z"
   },
   {
    "duration": 110,
    "start_time": "2022-06-17T15:54:30.028Z"
   },
   {
    "duration": 198,
    "start_time": "2022-06-17T15:54:30.141Z"
   },
   {
    "duration": 193,
    "start_time": "2022-06-17T15:54:30.344Z"
   },
   {
    "duration": 189,
    "start_time": "2022-06-17T15:54:30.538Z"
   },
   {
    "duration": 111,
    "start_time": "2022-06-17T15:54:30.728Z"
   },
   {
    "duration": 186,
    "start_time": "2022-06-17T15:54:30.844Z"
   },
   {
    "duration": 624,
    "start_time": "2022-06-17T15:56:54.311Z"
   },
   {
    "duration": 572,
    "start_time": "2022-06-17T15:59:56.622Z"
   },
   {
    "duration": 306,
    "start_time": "2022-06-17T16:00:52.962Z"
   },
   {
    "duration": 1173,
    "start_time": "2022-06-17T16:12:48.908Z"
   },
   {
    "duration": 29424,
    "start_time": "2022-06-17T16:18:59.102Z"
   },
   {
    "duration": 700,
    "start_time": "2022-06-17T16:20:20.175Z"
   },
   {
    "duration": 4,
    "start_time": "2022-06-17T16:21:13.508Z"
   },
   {
    "duration": 84,
    "start_time": "2022-06-17T16:21:13.514Z"
   },
   {
    "duration": 12,
    "start_time": "2022-06-17T16:21:13.600Z"
   },
   {
    "duration": 72,
    "start_time": "2022-06-17T16:21:13.614Z"
   },
   {
    "duration": 10,
    "start_time": "2022-06-17T16:21:13.687Z"
   },
   {
    "duration": 49,
    "start_time": "2022-06-17T16:21:13.698Z"
   },
   {
    "duration": 25,
    "start_time": "2022-06-17T16:21:13.748Z"
   },
   {
    "duration": 76,
    "start_time": "2022-06-17T16:21:13.775Z"
   },
   {
    "duration": 19,
    "start_time": "2022-06-17T16:21:13.853Z"
   },
   {
    "duration": 36,
    "start_time": "2022-06-17T16:21:13.874Z"
   },
   {
    "duration": 53,
    "start_time": "2022-06-17T16:21:13.911Z"
   },
   {
    "duration": 34,
    "start_time": "2022-06-17T16:21:13.966Z"
   },
   {
    "duration": 123,
    "start_time": "2022-06-17T16:21:14.001Z"
   },
   {
    "duration": 20,
    "start_time": "2022-06-17T16:21:14.126Z"
   },
   {
    "duration": 76,
    "start_time": "2022-06-17T16:21:14.148Z"
   },
   {
    "duration": 36,
    "start_time": "2022-06-17T16:21:14.225Z"
   },
   {
    "duration": 114,
    "start_time": "2022-06-17T16:21:14.262Z"
   },
   {
    "duration": 181,
    "start_time": "2022-06-17T16:21:14.378Z"
   },
   {
    "duration": 28,
    "start_time": "2022-06-17T16:21:14.561Z"
   },
   {
    "duration": 32043,
    "start_time": "2022-06-17T16:21:14.591Z"
   },
   {
    "duration": 313,
    "start_time": "2022-06-17T16:21:46.636Z"
   },
   {
    "duration": 79,
    "start_time": "2022-06-17T16:21:46.951Z"
   },
   {
    "duration": 8,
    "start_time": "2022-06-17T16:21:47.032Z"
   },
   {
    "duration": 106,
    "start_time": "2022-06-17T16:21:47.126Z"
   },
   {
    "duration": 11,
    "start_time": "2022-06-17T16:21:47.234Z"
   },
   {
    "duration": 182,
    "start_time": "2022-06-17T16:21:47.246Z"
   },
   {
    "duration": 21,
    "start_time": "2022-06-17T16:21:47.430Z"
   },
   {
    "duration": 228,
    "start_time": "2022-06-17T16:21:47.454Z"
   },
   {
    "duration": 28,
    "start_time": "2022-06-17T16:21:47.684Z"
   },
   {
    "duration": 105,
    "start_time": "2022-06-17T16:21:47.726Z"
   },
   {
    "duration": 14,
    "start_time": "2022-06-17T16:21:47.833Z"
   },
   {
    "duration": 32148,
    "start_time": "2022-06-17T16:21:47.848Z"
   },
   {
    "duration": 604,
    "start_time": "2022-06-17T16:22:19.998Z"
   },
   {
    "duration": 22096,
    "start_time": "2022-06-17T16:22:20.604Z"
   },
   {
    "duration": 579,
    "start_time": "2022-06-17T16:22:42.701Z"
   },
   {
    "duration": 8537,
    "start_time": "2022-06-17T16:22:43.281Z"
   },
   {
    "duration": 302,
    "start_time": "2022-06-17T16:22:51.819Z"
   },
   {
    "duration": 19,
    "start_time": "2022-06-17T16:22:52.125Z"
   },
   {
    "duration": 197,
    "start_time": "2022-06-17T16:22:52.145Z"
   },
   {
    "duration": 194,
    "start_time": "2022-06-17T16:22:52.344Z"
   },
   {
    "duration": 197,
    "start_time": "2022-06-17T16:22:52.541Z"
   },
   {
    "duration": 188,
    "start_time": "2022-06-17T16:22:52.739Z"
   },
   {
    "duration": 141,
    "start_time": "2022-06-17T16:22:52.929Z"
   },
   {
    "duration": 62,
    "start_time": "2022-06-17T16:22:53.074Z"
   },
   {
    "duration": 811,
    "start_time": "2022-06-17T16:22:53.226Z"
   },
   {
    "duration": 1556,
    "start_time": "2022-06-17T16:59:44.759Z"
   },
   {
    "duration": 104,
    "start_time": "2022-06-17T16:59:46.318Z"
   },
   {
    "duration": 14,
    "start_time": "2022-06-17T16:59:46.423Z"
   },
   {
    "duration": 41,
    "start_time": "2022-06-17T16:59:46.439Z"
   },
   {
    "duration": 22,
    "start_time": "2022-06-17T16:59:46.482Z"
   },
   {
    "duration": 13,
    "start_time": "2022-06-17T16:59:46.506Z"
   },
   {
    "duration": 13,
    "start_time": "2022-06-17T16:59:46.521Z"
   },
   {
    "duration": 59,
    "start_time": "2022-06-17T16:59:46.536Z"
   },
   {
    "duration": 19,
    "start_time": "2022-06-17T16:59:46.597Z"
   },
   {
    "duration": 7,
    "start_time": "2022-06-17T16:59:46.619Z"
   },
   {
    "duration": 5,
    "start_time": "2022-06-17T16:59:46.627Z"
   },
   {
    "duration": 8,
    "start_time": "2022-06-17T16:59:46.633Z"
   },
   {
    "duration": 24,
    "start_time": "2022-06-17T16:59:46.642Z"
   },
   {
    "duration": 16,
    "start_time": "2022-06-17T16:59:46.694Z"
   },
   {
    "duration": 43,
    "start_time": "2022-06-17T16:59:46.712Z"
   },
   {
    "duration": 57,
    "start_time": "2022-06-17T16:59:46.757Z"
   },
   {
    "duration": 138,
    "start_time": "2022-06-17T16:59:46.816Z"
   },
   {
    "duration": 195,
    "start_time": "2022-06-17T16:59:46.956Z"
   },
   {
    "duration": 28,
    "start_time": "2022-06-17T16:59:47.152Z"
   },
   {
    "duration": 34855,
    "start_time": "2022-06-17T16:59:47.194Z"
   },
   {
    "duration": 293,
    "start_time": "2022-06-17T17:00:22.051Z"
   },
   {
    "duration": 147,
    "start_time": "2022-06-17T17:00:22.346Z"
   },
   {
    "duration": 13,
    "start_time": "2022-06-17T17:00:22.495Z"
   },
   {
    "duration": 186,
    "start_time": "2022-06-17T17:00:22.510Z"
   },
   {
    "duration": 12,
    "start_time": "2022-06-17T17:00:22.698Z"
   },
   {
    "duration": 213,
    "start_time": "2022-06-17T17:00:22.711Z"
   },
   {
    "duration": 24,
    "start_time": "2022-06-17T17:00:22.926Z"
   },
   {
    "duration": 260,
    "start_time": "2022-06-17T17:00:22.954Z"
   },
   {
    "duration": 31,
    "start_time": "2022-06-17T17:00:23.216Z"
   },
   {
    "duration": 151,
    "start_time": "2022-06-17T17:00:23.249Z"
   },
   {
    "duration": 14,
    "start_time": "2022-06-17T17:00:23.402Z"
   },
   {
    "duration": 34924,
    "start_time": "2022-06-17T17:00:23.418Z"
   },
   {
    "duration": 680,
    "start_time": "2022-06-17T17:00:58.343Z"
   },
   {
    "duration": 23907,
    "start_time": "2022-06-17T17:00:59.025Z"
   },
   {
    "duration": 557,
    "start_time": "2022-06-17T17:01:22.934Z"
   },
   {
    "duration": 9140,
    "start_time": "2022-06-17T17:01:23.495Z"
   },
   {
    "duration": 325,
    "start_time": "2022-06-17T17:01:32.636Z"
   },
   {
    "duration": 39,
    "start_time": "2022-06-17T17:01:32.963Z"
   },
   {
    "duration": 197,
    "start_time": "2022-06-17T17:01:33.004Z"
   },
   {
    "duration": 210,
    "start_time": "2022-06-17T17:01:33.204Z"
   },
   {
    "duration": 189,
    "start_time": "2022-06-17T17:01:33.416Z"
   },
   {
    "duration": 192,
    "start_time": "2022-06-17T17:01:33.607Z"
   },
   {
    "duration": 199,
    "start_time": "2022-06-17T17:01:33.801Z"
   },
   {
    "duration": 7,
    "start_time": "2022-06-17T17:02:47.692Z"
   },
   {
    "duration": 740,
    "start_time": "2022-06-17T17:02:59.200Z"
   },
   {
    "duration": 726,
    "start_time": "2022-06-17T17:05:13.434Z"
   },
   {
    "duration": 4,
    "start_time": "2022-06-17T17:05:55.082Z"
   },
   {
    "duration": 56,
    "start_time": "2022-06-17T17:05:55.089Z"
   },
   {
    "duration": 12,
    "start_time": "2022-06-17T17:05:55.146Z"
   },
   {
    "duration": 40,
    "start_time": "2022-06-17T17:05:55.160Z"
   },
   {
    "duration": 13,
    "start_time": "2022-06-17T17:05:55.203Z"
   },
   {
    "duration": 14,
    "start_time": "2022-06-17T17:05:55.218Z"
   },
   {
    "duration": 12,
    "start_time": "2022-06-17T17:05:55.234Z"
   },
   {
    "duration": 74,
    "start_time": "2022-06-17T17:05:55.248Z"
   },
   {
    "duration": 20,
    "start_time": "2022-06-17T17:05:55.324Z"
   },
   {
    "duration": 8,
    "start_time": "2022-06-17T17:05:55.346Z"
   },
   {
    "duration": 4,
    "start_time": "2022-06-17T17:05:55.356Z"
   },
   {
    "duration": 5,
    "start_time": "2022-06-17T17:05:55.394Z"
   },
   {
    "duration": 23,
    "start_time": "2022-06-17T17:05:55.400Z"
   },
   {
    "duration": 15,
    "start_time": "2022-06-17T17:05:55.425Z"
   },
   {
    "duration": 80,
    "start_time": "2022-06-17T17:05:55.441Z"
   },
   {
    "duration": 30,
    "start_time": "2022-06-17T17:05:55.523Z"
   },
   {
    "duration": 142,
    "start_time": "2022-06-17T17:05:55.555Z"
   },
   {
    "duration": 190,
    "start_time": "2022-06-17T17:05:55.699Z"
   },
   {
    "duration": 29,
    "start_time": "2022-06-17T17:05:55.895Z"
   },
   {
    "duration": 35505,
    "start_time": "2022-06-17T17:05:55.926Z"
   },
   {
    "duration": 318,
    "start_time": "2022-06-17T17:06:31.433Z"
   },
   {
    "duration": 46,
    "start_time": "2022-06-17T17:06:31.753Z"
   },
   {
    "duration": 103,
    "start_time": "2022-06-17T17:06:31.801Z"
   },
   {
    "duration": 115,
    "start_time": "2022-06-17T17:06:31.994Z"
   },
   {
    "duration": 12,
    "start_time": "2022-06-17T17:06:32.111Z"
   },
   {
    "duration": 212,
    "start_time": "2022-06-17T17:06:32.125Z"
   },
   {
    "duration": 24,
    "start_time": "2022-06-17T17:06:32.339Z"
   },
   {
    "duration": 259,
    "start_time": "2022-06-17T17:06:32.365Z"
   },
   {
    "duration": 27,
    "start_time": "2022-06-17T17:06:32.626Z"
   },
   {
    "duration": 142,
    "start_time": "2022-06-17T17:06:32.655Z"
   },
   {
    "duration": 18,
    "start_time": "2022-06-17T17:06:32.799Z"
   },
   {
    "duration": 35486,
    "start_time": "2022-06-17T17:06:32.819Z"
   },
   {
    "duration": 662,
    "start_time": "2022-06-17T17:07:08.307Z"
   },
   {
    "duration": 23599,
    "start_time": "2022-06-17T17:07:08.971Z"
   },
   {
    "duration": 579,
    "start_time": "2022-06-17T17:07:32.572Z"
   },
   {
    "duration": 8966,
    "start_time": "2022-06-17T17:07:33.153Z"
   },
   {
    "duration": 322,
    "start_time": "2022-06-17T17:07:42.120Z"
   },
   {
    "duration": 51,
    "start_time": "2022-06-17T17:07:42.445Z"
   },
   {
    "duration": 120,
    "start_time": "2022-06-17T17:07:42.498Z"
   },
   {
    "duration": 114,
    "start_time": "2022-06-17T17:07:42.695Z"
   },
   {
    "duration": 195,
    "start_time": "2022-06-17T17:07:42.811Z"
   },
   {
    "duration": 201,
    "start_time": "2022-06-17T17:07:43.009Z"
   },
   {
    "duration": 192,
    "start_time": "2022-06-17T17:07:43.215Z"
   },
   {
    "duration": 6,
    "start_time": "2022-06-17T17:08:43.586Z"
   },
   {
    "duration": 825,
    "start_time": "2022-06-17T17:08:56.950Z"
   },
   {
    "duration": 28,
    "start_time": "2022-06-17T17:11:10.653Z"
   },
   {
    "duration": 594,
    "start_time": "2022-06-17T17:12:10.798Z"
   },
   {
    "duration": 811,
    "start_time": "2022-06-17T17:23:44.452Z"
   },
   {
    "duration": 103,
    "start_time": "2022-06-17T17:33:34.243Z"
   },
   {
    "duration": 4,
    "start_time": "2022-06-17T17:34:14.287Z"
   },
   {
    "duration": 120,
    "start_time": "2022-06-17T17:34:22.385Z"
   },
   {
    "duration": 108,
    "start_time": "2022-06-17T17:40:57.663Z"
   },
   {
    "duration": 1315,
    "start_time": "2023-04-24T10:46:22.511Z"
   },
   {
    "duration": 189,
    "start_time": "2023-04-24T10:46:23.828Z"
   },
   {
    "duration": 16,
    "start_time": "2023-04-24T10:46:24.019Z"
   },
   {
    "duration": 59,
    "start_time": "2023-04-24T10:46:24.037Z"
   },
   {
    "duration": 14,
    "start_time": "2023-04-24T10:46:24.098Z"
   },
   {
    "duration": 16,
    "start_time": "2023-04-24T10:46:24.113Z"
   },
   {
    "duration": 27,
    "start_time": "2023-04-24T10:46:24.131Z"
   },
   {
    "duration": 74,
    "start_time": "2023-04-24T10:46:24.160Z"
   },
   {
    "duration": 20,
    "start_time": "2023-04-24T10:46:24.236Z"
   },
   {
    "duration": 28,
    "start_time": "2023-04-24T10:46:24.258Z"
   },
   {
    "duration": 5,
    "start_time": "2023-04-24T10:46:24.287Z"
   },
   {
    "duration": 8,
    "start_time": "2023-04-24T10:46:24.294Z"
   },
   {
    "duration": 18,
    "start_time": "2023-04-24T10:46:24.304Z"
   },
   {
    "duration": 16,
    "start_time": "2023-04-24T10:46:24.324Z"
   },
   {
    "duration": 72,
    "start_time": "2023-04-24T10:46:24.341Z"
   },
   {
    "duration": 39,
    "start_time": "2023-04-24T10:46:24.414Z"
   },
   {
    "duration": 144,
    "start_time": "2023-04-24T10:46:24.455Z"
   },
   {
    "duration": 192,
    "start_time": "2023-04-24T10:46:24.600Z"
   },
   {
    "duration": 24,
    "start_time": "2023-04-24T10:46:24.794Z"
   },
   {
    "duration": 35371,
    "start_time": "2023-04-24T10:46:24.820Z"
   },
   {
    "duration": 621,
    "start_time": "2023-04-24T10:47:00.193Z"
   },
   {
    "duration": 21,
    "start_time": "2023-04-24T10:47:00.816Z"
   },
   {
    "duration": 100,
    "start_time": "2023-04-24T10:47:00.894Z"
   },
   {
    "duration": 12,
    "start_time": "2023-04-24T10:47:01.086Z"
   },
   {
    "duration": 91,
    "start_time": "2023-04-24T10:47:01.101Z"
   },
   {
    "duration": 218,
    "start_time": "2023-04-24T10:47:01.194Z"
   },
   {
    "duration": 27,
    "start_time": "2023-04-24T10:47:01.414Z"
   },
   {
    "duration": 268,
    "start_time": "2023-04-24T10:47:01.445Z"
   },
   {
    "duration": 30,
    "start_time": "2023-04-24T10:47:01.715Z"
   },
   {
    "duration": 129,
    "start_time": "2023-04-24T10:47:01.748Z"
   },
   {
    "duration": 16,
    "start_time": "2023-04-24T10:47:01.885Z"
   },
   {
    "duration": 34972,
    "start_time": "2023-04-24T10:47:01.902Z"
   },
   {
    "duration": 677,
    "start_time": "2023-04-24T10:47:36.875Z"
   },
   {
    "duration": 24592,
    "start_time": "2023-04-24T10:47:37.556Z"
   },
   {
    "duration": 618,
    "start_time": "2023-04-24T10:48:02.149Z"
   },
   {
    "duration": 9537,
    "start_time": "2023-04-24T10:48:02.768Z"
   },
   {
    "duration": 344,
    "start_time": "2023-04-24T10:48:12.307Z"
   },
   {
    "duration": 33,
    "start_time": "2023-04-24T10:48:12.653Z"
   },
   {
    "duration": 123,
    "start_time": "2023-04-24T10:48:12.691Z"
   },
   {
    "duration": 116,
    "start_time": "2023-04-24T10:48:12.885Z"
   },
   {
    "duration": 203,
    "start_time": "2023-04-24T10:48:13.003Z"
   },
   {
    "duration": 184,
    "start_time": "2023-04-24T10:48:13.208Z"
   },
   {
    "duration": 194,
    "start_time": "2023-04-24T10:48:13.394Z"
   },
   {
    "duration": 92,
    "start_time": "2023-04-24T10:48:13.594Z"
   },
   {
    "duration": 959,
    "start_time": "2023-04-24T10:48:13.688Z"
   },
   {
    "duration": 125,
    "start_time": "2023-04-24T10:48:14.649Z"
   },
   {
    "duration": 4,
    "start_time": "2023-04-24T11:08:19.745Z"
   },
   {
    "duration": 56,
    "start_time": "2023-04-24T11:08:19.750Z"
   },
   {
    "duration": 14,
    "start_time": "2023-04-24T11:08:19.807Z"
   },
   {
    "duration": 73,
    "start_time": "2023-04-24T11:08:19.824Z"
   },
   {
    "duration": 11,
    "start_time": "2023-04-24T11:08:19.899Z"
   },
   {
    "duration": 14,
    "start_time": "2023-04-24T11:08:19.912Z"
   },
   {
    "duration": 18,
    "start_time": "2023-04-24T11:08:19.927Z"
   },
   {
    "duration": 64,
    "start_time": "2023-04-24T11:08:19.946Z"
   },
   {
    "duration": 19,
    "start_time": "2023-04-24T11:08:20.013Z"
   },
   {
    "duration": 8,
    "start_time": "2023-04-24T11:08:20.034Z"
   },
   {
    "duration": 5,
    "start_time": "2023-04-24T11:08:20.043Z"
   },
   {
    "duration": 7,
    "start_time": "2023-04-24T11:08:20.049Z"
   },
   {
    "duration": 45,
    "start_time": "2023-04-24T11:08:20.058Z"
   },
   {
    "duration": 15,
    "start_time": "2023-04-24T11:08:20.104Z"
   },
   {
    "duration": 66,
    "start_time": "2023-04-24T11:08:20.121Z"
   },
   {
    "duration": 34,
    "start_time": "2023-04-24T11:08:20.189Z"
   },
   {
    "duration": 146,
    "start_time": "2023-04-24T11:08:20.224Z"
   },
   {
    "duration": 203,
    "start_time": "2023-04-24T11:08:20.371Z"
   },
   {
    "duration": 33,
    "start_time": "2023-04-24T11:08:20.576Z"
   },
   {
    "duration": 36615,
    "start_time": "2023-04-24T11:08:20.611Z"
   },
   {
    "duration": 647,
    "start_time": "2023-04-24T11:08:57.228Z"
   },
   {
    "duration": 31,
    "start_time": "2023-04-24T11:08:57.877Z"
   },
   {
    "duration": 107,
    "start_time": "2023-04-24T11:08:57.986Z"
   },
   {
    "duration": 14,
    "start_time": "2023-04-24T11:08:58.187Z"
   },
   {
    "duration": 31,
    "start_time": "2023-04-24T11:08:58.202Z"
   },
   {
    "duration": 252,
    "start_time": "2023-04-24T11:08:58.234Z"
   },
   {
    "duration": 24,
    "start_time": "2023-04-24T11:08:58.487Z"
   },
   {
    "duration": 240,
    "start_time": "2023-04-24T11:08:58.512Z"
   },
   {
    "duration": 45,
    "start_time": "2023-04-24T11:08:58.754Z"
   },
   {
    "duration": 122,
    "start_time": "2023-04-24T11:08:58.800Z"
   },
   {
    "duration": 16,
    "start_time": "2023-04-24T11:08:58.923Z"
   },
   {
    "duration": 36479,
    "start_time": "2023-04-24T11:08:58.941Z"
   },
   {
    "duration": 678,
    "start_time": "2023-04-24T11:09:35.422Z"
   },
   {
    "duration": 24632,
    "start_time": "2023-04-24T11:09:36.102Z"
   },
   {
    "duration": 608,
    "start_time": "2023-04-24T11:10:00.735Z"
   },
   {
    "duration": 9394,
    "start_time": "2023-04-24T11:10:01.344Z"
   },
   {
    "duration": 348,
    "start_time": "2023-04-24T11:10:10.739Z"
   },
   {
    "duration": 25,
    "start_time": "2023-04-24T11:10:11.089Z"
   },
   {
    "duration": 116,
    "start_time": "2023-04-24T11:10:11.187Z"
   },
   {
    "duration": 193,
    "start_time": "2023-04-24T11:10:11.306Z"
   },
   {
    "duration": 202,
    "start_time": "2023-04-24T11:10:11.501Z"
   },
   {
    "duration": 89,
    "start_time": "2023-04-24T11:10:11.706Z"
   },
   {
    "duration": 112,
    "start_time": "2023-04-24T11:10:11.887Z"
   },
   {
    "duration": 187,
    "start_time": "2023-04-24T11:10:12.001Z"
   },
   {
    "duration": 887,
    "start_time": "2023-04-24T11:10:12.190Z"
   },
   {
    "duration": 124,
    "start_time": "2023-04-24T11:10:13.079Z"
   },
   {
    "duration": 1320,
    "start_time": "2023-04-24T11:19:49.777Z"
   },
   {
    "duration": 53,
    "start_time": "2023-04-24T11:19:51.099Z"
   },
   {
    "duration": 12,
    "start_time": "2023-04-24T11:19:51.153Z"
   },
   {
    "duration": 42,
    "start_time": "2023-04-24T11:19:51.167Z"
   },
   {
    "duration": 11,
    "start_time": "2023-04-24T11:19:51.210Z"
   },
   {
    "duration": 21,
    "start_time": "2023-04-24T11:19:51.222Z"
   },
   {
    "duration": 14,
    "start_time": "2023-04-24T11:19:51.245Z"
   },
   {
    "duration": 43,
    "start_time": "2023-04-24T11:19:51.261Z"
   },
   {
    "duration": 19,
    "start_time": "2023-04-24T11:19:51.305Z"
   },
   {
    "duration": 15,
    "start_time": "2023-04-24T11:19:51.327Z"
   },
   {
    "duration": 17,
    "start_time": "2023-04-24T11:19:51.344Z"
   },
   {
    "duration": 12,
    "start_time": "2023-04-24T11:19:51.362Z"
   },
   {
    "duration": 23,
    "start_time": "2023-04-24T11:19:51.376Z"
   },
   {
    "duration": 19,
    "start_time": "2023-04-24T11:19:51.401Z"
   },
   {
    "duration": 59,
    "start_time": "2023-04-24T11:19:51.422Z"
   },
   {
    "duration": 33,
    "start_time": "2023-04-24T11:19:51.482Z"
   },
   {
    "duration": 143,
    "start_time": "2023-04-24T11:19:51.516Z"
   },
   {
    "duration": 190,
    "start_time": "2023-04-24T11:19:51.660Z"
   },
   {
    "duration": 35,
    "start_time": "2023-04-24T11:19:51.852Z"
   },
   {
    "duration": 35551,
    "start_time": "2023-04-24T11:19:51.888Z"
   },
   {
    "duration": 596,
    "start_time": "2023-04-24T11:20:27.441Z"
   },
   {
    "duration": 52,
    "start_time": "2023-04-24T11:20:28.039Z"
   },
   {
    "duration": 12,
    "start_time": "2023-04-24T11:20:28.184Z"
   },
   {
    "duration": 187,
    "start_time": "2023-04-24T11:20:28.198Z"
   },
   {
    "duration": 14,
    "start_time": "2023-04-24T11:20:28.388Z"
   },
   {
    "duration": 217,
    "start_time": "2023-04-24T11:20:28.403Z"
   },
   {
    "duration": 24,
    "start_time": "2023-04-24T11:20:28.621Z"
   },
   {
    "duration": 249,
    "start_time": "2023-04-24T11:20:28.649Z"
   },
   {
    "duration": 28,
    "start_time": "2023-04-24T11:20:28.900Z"
   },
   {
    "duration": 121,
    "start_time": "2023-04-24T11:20:28.929Z"
   },
   {
    "duration": 16,
    "start_time": "2023-04-24T11:20:29.051Z"
   },
   {
    "duration": 34419,
    "start_time": "2023-04-24T11:20:29.068Z"
   },
   {
    "duration": 709,
    "start_time": "2023-04-24T11:21:03.488Z"
   },
   {
    "duration": 23734,
    "start_time": "2023-04-24T11:21:04.199Z"
   },
   {
    "duration": 673,
    "start_time": "2023-04-24T11:21:27.935Z"
   },
   {
    "duration": 9219,
    "start_time": "2023-04-24T11:21:28.609Z"
   },
   {
    "duration": 325,
    "start_time": "2023-04-24T11:21:37.829Z"
   },
   {
    "duration": 36,
    "start_time": "2023-04-24T11:21:38.156Z"
   },
   {
    "duration": 198,
    "start_time": "2023-04-24T11:21:38.194Z"
   },
   {
    "duration": 209,
    "start_time": "2023-04-24T11:21:38.394Z"
   },
   {
    "duration": 188,
    "start_time": "2023-04-24T11:21:38.605Z"
   },
   {
    "duration": 99,
    "start_time": "2023-04-24T11:21:38.796Z"
   },
   {
    "duration": 111,
    "start_time": "2023-04-24T11:21:38.987Z"
   },
   {
    "duration": 93,
    "start_time": "2023-04-24T11:21:39.101Z"
   },
   {
    "duration": 821,
    "start_time": "2023-04-24T11:21:39.286Z"
   },
   {
    "duration": 119,
    "start_time": "2023-04-24T11:21:40.109Z"
   },
   {
    "duration": 1479,
    "start_time": "2023-04-24T11:36:56.069Z"
   },
   {
    "duration": 56,
    "start_time": "2023-04-24T11:36:57.550Z"
   },
   {
    "duration": 13,
    "start_time": "2023-04-24T11:36:57.607Z"
   },
   {
    "duration": 41,
    "start_time": "2023-04-24T11:36:57.622Z"
   },
   {
    "duration": 25,
    "start_time": "2023-04-24T11:36:57.665Z"
   },
   {
    "duration": 13,
    "start_time": "2023-04-24T11:36:57.692Z"
   },
   {
    "duration": 12,
    "start_time": "2023-04-24T11:36:57.707Z"
   },
   {
    "duration": 66,
    "start_time": "2023-04-24T11:36:57.720Z"
   },
   {
    "duration": 19,
    "start_time": "2023-04-24T11:36:57.788Z"
   },
   {
    "duration": 8,
    "start_time": "2023-04-24T11:36:57.809Z"
   },
   {
    "duration": 4,
    "start_time": "2023-04-24T11:36:57.819Z"
   },
   {
    "duration": 14,
    "start_time": "2023-04-24T11:36:57.825Z"
   },
   {
    "duration": 45,
    "start_time": "2023-04-24T11:36:57.841Z"
   },
   {
    "duration": 16,
    "start_time": "2023-04-24T11:36:57.888Z"
   },
   {
    "duration": 40,
    "start_time": "2023-04-24T11:36:57.905Z"
   },
   {
    "duration": 56,
    "start_time": "2023-04-24T11:36:57.947Z"
   },
   {
    "duration": 132,
    "start_time": "2023-04-24T11:36:58.005Z"
   },
   {
    "duration": 202,
    "start_time": "2023-04-24T11:36:58.138Z"
   },
   {
    "duration": 24,
    "start_time": "2023-04-24T11:36:58.341Z"
   },
   {
    "duration": 35667,
    "start_time": "2023-04-24T11:36:58.367Z"
   },
   {
    "duration": 628,
    "start_time": "2023-04-24T11:37:34.036Z"
   },
   {
    "duration": 28,
    "start_time": "2023-04-24T11:37:34.665Z"
   },
   {
    "duration": 97,
    "start_time": "2023-04-24T11:37:34.697Z"
   },
   {
    "duration": 103,
    "start_time": "2023-04-24T11:37:34.887Z"
   },
   {
    "duration": 11,
    "start_time": "2023-04-24T11:37:34.991Z"
   },
   {
    "duration": 209,
    "start_time": "2023-04-24T11:37:35.003Z"
   },
   {
    "duration": 24,
    "start_time": "2023-04-24T11:37:35.214Z"
   },
   {
    "duration": 246,
    "start_time": "2023-04-24T11:37:35.242Z"
   },
   {
    "duration": 28,
    "start_time": "2023-04-24T11:37:35.489Z"
   },
   {
    "duration": 120,
    "start_time": "2023-04-24T11:37:35.519Z"
   },
   {
    "duration": 14,
    "start_time": "2023-04-24T11:37:35.641Z"
   },
   {
    "duration": 34901,
    "start_time": "2023-04-24T11:37:35.656Z"
   },
   {
    "duration": 674,
    "start_time": "2023-04-24T11:38:10.559Z"
   },
   {
    "duration": 23967,
    "start_time": "2023-04-24T11:38:11.235Z"
   },
   {
    "duration": 570,
    "start_time": "2023-04-24T11:38:35.204Z"
   },
   {
    "duration": 9343,
    "start_time": "2023-04-24T11:38:35.776Z"
   },
   {
    "duration": 321,
    "start_time": "2023-04-24T11:38:45.120Z"
   },
   {
    "duration": 143,
    "start_time": "2023-04-24T11:38:45.443Z"
   },
   {
    "duration": 97,
    "start_time": "2023-04-24T11:38:45.589Z"
   },
   {
    "duration": 123,
    "start_time": "2023-04-24T11:38:45.688Z"
   },
   {
    "duration": 123,
    "start_time": "2023-04-24T11:38:45.886Z"
   },
   {
    "duration": 109,
    "start_time": "2023-04-24T11:38:46.086Z"
   },
   {
    "duration": 195,
    "start_time": "2023-04-24T11:38:46.198Z"
   },
   {
    "duration": 1302,
    "start_time": "2023-04-24T11:44:46.118Z"
   },
   {
    "duration": 58,
    "start_time": "2023-04-24T11:44:47.422Z"
   },
   {
    "duration": 13,
    "start_time": "2023-04-24T11:44:47.481Z"
   },
   {
    "duration": 42,
    "start_time": "2023-04-24T11:44:47.496Z"
   },
   {
    "duration": 12,
    "start_time": "2023-04-24T11:44:47.540Z"
   },
   {
    "duration": 33,
    "start_time": "2023-04-24T11:44:47.554Z"
   },
   {
    "duration": 13,
    "start_time": "2023-04-24T11:44:47.588Z"
   },
   {
    "duration": 44,
    "start_time": "2023-04-24T11:44:47.602Z"
   },
   {
    "duration": 45,
    "start_time": "2023-04-24T11:44:47.648Z"
   },
   {
    "duration": 9,
    "start_time": "2023-04-24T11:44:47.696Z"
   },
   {
    "duration": 4,
    "start_time": "2023-04-24T11:44:47.707Z"
   },
   {
    "duration": 14,
    "start_time": "2023-04-24T11:44:47.712Z"
   },
   {
    "duration": 23,
    "start_time": "2023-04-24T11:44:47.727Z"
   },
   {
    "duration": 38,
    "start_time": "2023-04-24T11:44:47.752Z"
   },
   {
    "duration": 43,
    "start_time": "2023-04-24T11:44:47.792Z"
   },
   {
    "duration": 50,
    "start_time": "2023-04-24T11:44:47.837Z"
   },
   {
    "duration": 138,
    "start_time": "2023-04-24T11:44:47.889Z"
   },
   {
    "duration": 209,
    "start_time": "2023-04-24T11:45:05.185Z"
   },
   {
    "duration": 31,
    "start_time": "2023-04-24T11:45:48.263Z"
   },
   {
    "duration": 35605,
    "start_time": "2023-04-24T11:46:03.307Z"
   },
   {
    "duration": 520,
    "start_time": "2023-04-24T11:47:55.562Z"
   },
   {
    "duration": 26,
    "start_time": "2023-04-24T11:48:15.683Z"
   },
   {
    "duration": 11,
    "start_time": "2023-04-24T11:48:40.570Z"
   },
   {
    "duration": 11,
    "start_time": "2023-04-24T11:50:06.349Z"
   },
   {
    "duration": 12,
    "start_time": "2023-04-24T11:50:10.108Z"
   },
   {
    "duration": 199,
    "start_time": "2023-04-24T11:50:51.754Z"
   },
   {
    "duration": 26,
    "start_time": "2023-04-24T11:51:07.956Z"
   },
   {
    "duration": 270,
    "start_time": "2023-04-24T11:51:20.708Z"
   },
   {
    "duration": 30,
    "start_time": "2023-04-24T11:51:41.283Z"
   },
   {
    "duration": 114,
    "start_time": "2023-04-24T11:51:49.691Z"
   },
   {
    "duration": 17,
    "start_time": "2023-04-24T11:52:01.603Z"
   },
   {
    "duration": 35769,
    "start_time": "2023-04-24T11:52:20.540Z"
   },
   {
    "duration": 158,
    "start_time": "2023-04-24T11:53:55.124Z"
   },
   {
    "duration": 24582,
    "start_time": "2023-04-24T11:54:09.796Z"
   },
   {
    "duration": 231,
    "start_time": "2023-04-24T11:55:03.100Z"
   },
   {
    "duration": 9604,
    "start_time": "2023-04-24T11:55:12.181Z"
   },
   {
    "duration": 354,
    "start_time": "2023-04-24T11:55:43.343Z"
   },
   {
    "duration": 25,
    "start_time": "2023-04-24T11:55:58.996Z"
   },
   {
    "duration": 24,
    "start_time": "2023-04-24T11:56:02.588Z"
   },
   {
    "duration": 33,
    "start_time": "2023-04-24T11:56:34.438Z"
   },
   {
    "duration": 65,
    "start_time": "2023-04-24T11:56:35.020Z"
   },
   {
    "duration": 17,
    "start_time": "2023-04-24T11:57:01.975Z"
   },
   {
    "duration": 20,
    "start_time": "2023-04-24T11:57:02.413Z"
   },
   {
    "duration": 7,
    "start_time": "2023-04-24T12:00:28.445Z"
   },
   {
    "duration": 370,
    "start_time": "2023-04-24T12:01:27.302Z"
   },
   {
    "duration": 121,
    "start_time": "2023-04-24T12:01:55.594Z"
   }
  ],
  "kernelspec": {
   "display_name": "Python 3 (ipykernel)",
   "language": "python",
   "name": "python3"
  },
  "language_info": {
   "codemirror_mode": {
    "name": "ipython",
    "version": 3
   },
   "file_extension": ".py",
   "mimetype": "text/x-python",
   "name": "python",
   "nbconvert_exporter": "python",
   "pygments_lexer": "ipython3",
   "version": "3.9.5"
  },
  "toc": {
   "base_numbering": 1,
   "nav_menu": {},
   "number_sections": true,
   "sideBar": true,
   "skip_h1_title": true,
   "title_cell": "Содержание",
   "title_sidebar": "Contents",
   "toc_cell": true,
   "toc_position": {
    "height": "calc(100% - 180px)",
    "left": "10px",
    "top": "150px",
    "width": "399px"
   },
   "toc_section_display": true,
   "toc_window_display": true
  }
 },
 "nbformat": 4,
 "nbformat_minor": 2
}
